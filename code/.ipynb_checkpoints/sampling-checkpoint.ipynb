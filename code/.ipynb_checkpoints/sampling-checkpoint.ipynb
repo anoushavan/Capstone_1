{
 "cells": [
  {
   "cell_type": "code",
   "execution_count": 1,
   "metadata": {},
   "outputs": [],
   "source": [
    "import pandas as pd\n",
    "import numpy as np"
   ]
  },
  {
   "cell_type": "code",
   "execution_count": 2,
   "metadata": {},
   "outputs": [
    {
     "name": "stderr",
     "output_type": "stream",
     "text": [
      "/Users/anushavan/anaconda3/lib/python3.7/site-packages/IPython/core/interactiveshell.py:2785: DtypeWarning: Columns (5,6,13,14,21,38,59,60,68,78,79) have mixed types. Specify dtype option on import or set low_memory=False.\n",
      "  interactivity=interactivity, compiler=compiler, result=result)\n"
     ]
    }
   ],
   "source": [
    "# load the full data on building permit approvals. Original source:\n",
    "# https://data.cityofnewyork.us/Housing-Development/DOB-Job-Application-Filings/ic3t-wcy2\n",
    "\n",
    "data = pd.read_csv(\"/Users/anushavan/Desktop/Study/\\\n",
    "Data_Science/Springboard/Capstone_1/data/data.csv\")"
   ]
  },
  {
   "cell_type": "code",
   "execution_count": 4,
   "metadata": {},
   "outputs": [
    {
     "data": {
      "text/plain": [
       "(1672861, 96)"
      ]
     },
     "execution_count": 4,
     "metadata": {},
     "output_type": "execute_result"
    }
   ],
   "source": [
    "data.shape"
   ]
  },
  {
   "cell_type": "code",
   "execution_count": 5,
   "metadata": {},
   "outputs": [],
   "source": [
    "# select only rows that refer to new buildings.\n",
    "\n",
    "nb = data[data['Job Type']=='NB']"
   ]
  },
  {
   "cell_type": "code",
   "execution_count": 6,
   "metadata": {},
   "outputs": [
    {
     "data": {
      "text/plain": [
       "(118461, 96)"
      ]
     },
     "execution_count": 6,
     "metadata": {},
     "output_type": "execute_result"
    }
   ],
   "source": [
    "nb.shape"
   ]
  },
  {
   "cell_type": "code",
   "execution_count": 46,
   "metadata": {},
   "outputs": [],
   "source": [
    "# select a list of columns useful for the analysis.\n",
    "\n",
    "cols_to_use = [\n",
    "  'Borough',\n",
    " 'Building Type',\n",
    " 'eFiling Filed',\n",
    " 'Applicant Professional Title',\n",
    " 'Professional Cert',\n",
    " 'Pre- Filing Date',\n",
    " 'Fully Paid'\n",
    " 'Approved',\n",
    " 'Fully Permitted',\n",
    " 'Total Est. Fee',\n",
    " 'Proposed Zoning Sqft',\n",
    " 'Proposed No. of Stories',\n",
    " 'Proposed Height',\n",
    " 'Proposed Dwelling Units',\n",
    " 'Proposed Occupancy',\n",
    " 'Zoning Dist1',\n",
    " 'Zoning Dist2',\n",
    " 'Zoning Dist3',\n",
    " 'Special District 1',\n",
    " 'Special District 2',\n",
    " 'Non-Profit',\n",
    " 'TOTAL_CONSTRUCTION_FLOOR_AREA',\n",
    " 'SIGNOFF_DATE'\n",
    " ]"
   ]
  },
  {
   "cell_type": "code",
   "execution_count": 47,
   "metadata": {},
   "outputs": [],
   "source": [
    "# select the subset from the dataset to include only the selected columns.\n",
    "\n",
    "nb = nb[cols_to_use]"
   ]
  },
  {
   "cell_type": "code",
   "execution_count": 48,
   "metadata": {},
   "outputs": [
    {
     "data": {
      "text/plain": [
       "(118461, 22)"
      ]
     },
     "execution_count": 48,
     "metadata": {},
     "output_type": "execute_result"
    }
   ],
   "source": [
    "nb.shape"
   ]
  },
  {
   "cell_type": "code",
   "execution_count": 49,
   "metadata": {},
   "outputs": [],
   "source": [
    "# save the new subset of data to a new_building.csv file.\n",
    "\n",
    "nb.to_csv('new_buildings.csv',index=False)"
   ]
  }
 ],
 "metadata": {
  "kernelspec": {
   "display_name": "Python 3",
   "language": "python",
   "name": "python3"
  },
  "language_info": {
   "codemirror_mode": {
    "name": "ipython",
    "version": 3
   },
   "file_extension": ".py",
   "mimetype": "text/x-python",
   "name": "python",
   "nbconvert_exporter": "python",
   "pygments_lexer": "ipython3",
   "version": "3.7.0"
  }
 },
 "nbformat": 4,
 "nbformat_minor": 2
}
