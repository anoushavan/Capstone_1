{
 "cells": [
  {
   "cell_type": "code",
   "execution_count": 1,
   "metadata": {},
   "outputs": [],
   "source": [
    "import pandas as pd\n",
    "import numpy as np\n",
    "from datetime import datetime\n",
    "from matplotlib import pyplot as plt\n",
    "import seaborn as sns"
   ]
  },
  {
   "cell_type": "code",
   "execution_count": 2,
   "metadata": {},
   "outputs": [],
   "source": [
    "%matplotlib inline"
   ]
  },
  {
   "cell_type": "code",
   "execution_count": 3,
   "metadata": {},
   "outputs": [],
   "source": [
    "url = \"/Users/anushavan/Desktop/Study/Data_Science/Springboard/Capstone_1/data/cleaned_data.csv\"\n",
    "\n",
    "data = pd.read_csv(url, parse_dates=['Fully Paid','Approved','Signoff_Date'])"
   ]
  },
  {
   "cell_type": "code",
   "execution_count": 4,
   "metadata": {},
   "outputs": [],
   "source": [
    "small = data.sample(frac=0.01)"
   ]
  },
  {
   "cell_type": "markdown",
   "metadata": {},
   "source": [
    "### Analysis of data\n",
    "\n",
    "Creating:\n",
    "1. histograms (for categorical variables)\n",
    "2. bar charts (for continuous variables) and \n",
    "3. boxplots for categorical variables (x axis) and a continuous variable (y axis).\n"
   ]
  },
  {
   "cell_type": "code",
   "execution_count": 5,
   "metadata": {
    "scrolled": false
   },
   "outputs": [
    {
     "data": {
      "text/html": [
       "<div>\n",
       "<style scoped>\n",
       "    .dataframe tbody tr th:only-of-type {\n",
       "        vertical-align: middle;\n",
       "    }\n",
       "\n",
       "    .dataframe tbody tr th {\n",
       "        vertical-align: top;\n",
       "    }\n",
       "\n",
       "    .dataframe thead th {\n",
       "        text-align: right;\n",
       "    }\n",
       "</style>\n",
       "<table border=\"1\" class=\"dataframe\">\n",
       "  <thead>\n",
       "    <tr style=\"text-align: right;\">\n",
       "      <th></th>\n",
       "      <th>Unnamed: 0</th>\n",
       "      <th>Borough</th>\n",
       "      <th>Building Type</th>\n",
       "      <th>Efiling Filed</th>\n",
       "      <th>Applicant Professional Title</th>\n",
       "      <th>Professional Cert</th>\n",
       "      <th>Fully Paid</th>\n",
       "      <th>Approved</th>\n",
       "      <th>Total Est. Fee</th>\n",
       "      <th>Proposed Zoning Sqft</th>\n",
       "      <th>...</th>\n",
       "      <th>Zoning Dist1</th>\n",
       "      <th>Zoning Dist2</th>\n",
       "      <th>Zoning Dist3</th>\n",
       "      <th>Special District 1</th>\n",
       "      <th>Special District 2</th>\n",
       "      <th>Non-Profit</th>\n",
       "      <th>Total_Construction_Floor_Area</th>\n",
       "      <th>Signoff_Date</th>\n",
       "      <th>Duration</th>\n",
       "      <th>Z_score</th>\n",
       "    </tr>\n",
       "  </thead>\n",
       "  <tbody>\n",
       "    <tr>\n",
       "      <th>0</th>\n",
       "      <td>0</td>\n",
       "      <td>QUEENS</td>\n",
       "      <td>1-2-3 FAMILY</td>\n",
       "      <td>Y</td>\n",
       "      <td>RA</td>\n",
       "      <td>N</td>\n",
       "      <td>2018-11-02</td>\n",
       "      <td>2019-04-09</td>\n",
       "      <td>243.00</td>\n",
       "      <td>2700</td>\n",
       "      <td>...</td>\n",
       "      <td>R3A</td>\n",
       "      <td>NaN</td>\n",
       "      <td>NaN</td>\n",
       "      <td>NaN</td>\n",
       "      <td>NaN</td>\n",
       "      <td>N</td>\n",
       "      <td>4050</td>\n",
       "      <td>NaT</td>\n",
       "      <td>158.0</td>\n",
       "      <td>-0.035313</td>\n",
       "    </tr>\n",
       "    <tr>\n",
       "      <th>1</th>\n",
       "      <td>1</td>\n",
       "      <td>BROOKLYN</td>\n",
       "      <td>OTHERS</td>\n",
       "      <td>Y</td>\n",
       "      <td>RA</td>\n",
       "      <td>N</td>\n",
       "      <td>2012-03-27</td>\n",
       "      <td>2013-03-14</td>\n",
       "      <td>52167.26</td>\n",
       "      <td>161567</td>\n",
       "      <td>...</td>\n",
       "      <td>Other</td>\n",
       "      <td>NaN</td>\n",
       "      <td>NaN</td>\n",
       "      <td>MX-8</td>\n",
       "      <td>GW</td>\n",
       "      <td>N</td>\n",
       "      <td>198951</td>\n",
       "      <td>NaT</td>\n",
       "      <td>352.0</td>\n",
       "      <td>0.711858</td>\n",
       "    </tr>\n",
       "  </tbody>\n",
       "</table>\n",
       "<p>2 rows × 24 columns</p>\n",
       "</div>"
      ],
      "text/plain": [
       "   Unnamed: 0   Borough Building Type Efiling Filed  \\\n",
       "0           0    QUEENS  1-2-3 FAMILY             Y   \n",
       "1           1  BROOKLYN        OTHERS             Y   \n",
       "\n",
       "  Applicant Professional Title Professional Cert Fully Paid   Approved  \\\n",
       "0                           RA                 N 2018-11-02 2019-04-09   \n",
       "1                           RA                 N 2012-03-27 2013-03-14   \n",
       "\n",
       "   Total Est. Fee  Proposed Zoning Sqft    ...     Zoning Dist1  Zoning Dist2  \\\n",
       "0          243.00                  2700    ...              R3A           NaN   \n",
       "1        52167.26                161567    ...            Other           NaN   \n",
       "\n",
       "   Zoning Dist3 Special District 1 Special District 2 Non-Profit  \\\n",
       "0           NaN                NaN                NaN          N   \n",
       "1           NaN               MX-8                 GW          N   \n",
       "\n",
       "  Total_Construction_Floor_Area Signoff_Date Duration   Z_score  \n",
       "0                          4050          NaT    158.0 -0.035313  \n",
       "1                        198951          NaT    352.0  0.711858  \n",
       "\n",
       "[2 rows x 24 columns]"
      ]
     },
     "execution_count": 5,
     "metadata": {},
     "output_type": "execute_result"
    }
   ],
   "source": [
    "data.head(2)"
   ]
  },
  {
   "cell_type": "code",
   "execution_count": 6,
   "metadata": {},
   "outputs": [],
   "source": [
    "# average number of building permit issued since 2000:\n",
    "average = data.count()['Borough']/5\n",
    "\n",
    "# average number of building permit issued per year \n",
    "years = (data['Fully Paid'].max() - data['Fully Paid'].min()).days/365\n",
    "\n",
    "# average number of building permits issued per year per Borough\n",
    "boro_year_average = average/years"
   ]
  },
  {
   "cell_type": "code",
   "execution_count": 7,
   "metadata": {
    "scrolled": true
   },
   "outputs": [
    {
     "data": {
      "text/html": [
       "<div>\n",
       "<style scoped>\n",
       "    .dataframe tbody tr th:only-of-type {\n",
       "        vertical-align: middle;\n",
       "    }\n",
       "\n",
       "    .dataframe tbody tr th {\n",
       "        vertical-align: top;\n",
       "    }\n",
       "\n",
       "    .dataframe thead th {\n",
       "        text-align: right;\n",
       "    }\n",
       "</style>\n",
       "<table border=\"1\" class=\"dataframe\">\n",
       "  <thead>\n",
       "    <tr style=\"text-align: right;\">\n",
       "      <th></th>\n",
       "      <th>Borough</th>\n",
       "    </tr>\n",
       "  </thead>\n",
       "  <tbody>\n",
       "    <tr>\n",
       "      <th>MANHATTAN</th>\n",
       "      <td>2224</td>\n",
       "    </tr>\n",
       "    <tr>\n",
       "      <th>BRONX</th>\n",
       "      <td>7417</td>\n",
       "    </tr>\n",
       "    <tr>\n",
       "      <th>STATEN ISLAND</th>\n",
       "      <td>11359</td>\n",
       "    </tr>\n",
       "    <tr>\n",
       "      <th>BROOKLYN</th>\n",
       "      <td>17062</td>\n",
       "    </tr>\n",
       "    <tr>\n",
       "      <th>QUEENS</th>\n",
       "      <td>21014</td>\n",
       "    </tr>\n",
       "  </tbody>\n",
       "</table>\n",
       "</div>"
      ],
      "text/plain": [
       "               Borough\n",
       "MANHATTAN         2224\n",
       "BRONX             7417\n",
       "STATEN ISLAND    11359\n",
       "BROOKLYN         17062\n",
       "QUEENS           21014"
      ]
     },
     "execution_count": 7,
     "metadata": {},
     "output_type": "execute_result"
    },
    {
     "data": {
      "image/png": "[encoded data removed]",
      "text/plain": [
       "<Figure size 432x288 with 1 Axes>"
      ]
     },
     "metadata": {
      "needs_background": "light"
     },
     "output_type": "display_data"
    }
   ],
   "source": [
    "# create a histogram for the # of building permits issued by Borough\n",
    "fig, ax = plt.subplots(figsize=(6,4))\n",
    "average = (data.count()/5)['Borough']\n",
    "ax = data['Borough'].value_counts().sort_values().plot(kind='bar', color = 'b')\n",
    "data.groupby(['Borough']).count()\n",
    "ax.set_ylabel('Number of building permits approved')\n",
    "ax.set_xlabel('')\n",
    "plt.axhline(y=average, c='grey')\n",
    "plt.annotate('mean', xy=(1, 10000), xytext=(-0.2, 12000), color='r')\n",
    "plt.title('Number of building permits issued per Borough', fontsize=13)\n",
    "pd.DataFrame(data['Borough'].value_counts(ascending=True))"
   ]
  },
  {
   "cell_type": "markdown",
   "metadata": {},
   "source": [
    "\n",
    "* There were almost 10x more building permits issued in Queens (21,014) than in Manhattan (2,224). \n",
    "* The average of 5 Boroughs is 11,815 building permits total (since 2000) or about 610 permits on average per year in each boro.  "
   ]
  },
  {
   "cell_type": "code",
   "execution_count": 8,
   "metadata": {},
   "outputs": [
    {
     "data": {
      "text/html": [
       "<div>\n",
       "<style scoped>\n",
       "    .dataframe tbody tr th:only-of-type {\n",
       "        vertical-align: middle;\n",
       "    }\n",
       "\n",
       "    .dataframe tbody tr th {\n",
       "        vertical-align: top;\n",
       "    }\n",
       "\n",
       "    .dataframe thead th {\n",
       "        text-align: right;\n",
       "    }\n",
       "</style>\n",
       "<table border=\"1\" class=\"dataframe\">\n",
       "  <thead>\n",
       "    <tr style=\"text-align: right;\">\n",
       "      <th></th>\n",
       "      <th>mean</th>\n",
       "      <th>std</th>\n",
       "      <th>max</th>\n",
       "    </tr>\n",
       "    <tr>\n",
       "      <th>Borough</th>\n",
       "      <th></th>\n",
       "      <th></th>\n",
       "      <th></th>\n",
       "    </tr>\n",
       "  </thead>\n",
       "  <tbody>\n",
       "    <tr>\n",
       "      <th>BRONX</th>\n",
       "      <td>165.0</td>\n",
       "      <td>254.0</td>\n",
       "      <td>3478.0</td>\n",
       "    </tr>\n",
       "    <tr>\n",
       "      <th>BROOKLYN</th>\n",
       "      <td>179.0</td>\n",
       "      <td>227.0</td>\n",
       "      <td>2762.0</td>\n",
       "    </tr>\n",
       "    <tr>\n",
       "      <th>MANHATTAN</th>\n",
       "      <td>333.0</td>\n",
       "      <td>336.0</td>\n",
       "      <td>3585.0</td>\n",
       "    </tr>\n",
       "    <tr>\n",
       "      <th>QUEENS</th>\n",
       "      <td>154.0</td>\n",
       "      <td>237.0</td>\n",
       "      <td>3637.0</td>\n",
       "    </tr>\n",
       "    <tr>\n",
       "      <th>STATEN ISLAND</th>\n",
       "      <td>143.0</td>\n",
       "      <td>315.0</td>\n",
       "      <td>4959.0</td>\n",
       "    </tr>\n",
       "  </tbody>\n",
       "</table>\n",
       "</div>"
      ],
      "text/plain": [
       "                mean    std     max\n",
       "Borough                            \n",
       "BRONX          165.0  254.0  3478.0\n",
       "BROOKLYN       179.0  227.0  2762.0\n",
       "MANHATTAN      333.0  336.0  3585.0\n",
       "QUEENS         154.0  237.0  3637.0\n",
       "STATEN ISLAND  143.0  315.0  4959.0"
      ]
     },
     "execution_count": 8,
     "metadata": {},
     "output_type": "execute_result"
    },
    {
     "data": {
      "image/png": "[encoded data removed]",
      "text/plain": [
       "<Figure size 432x288 with 1 Axes>"
      ]
     },
     "metadata": {
      "needs_background": "light"
     },
     "output_type": "display_data"
    }
   ],
   "source": [
    "# Create a boxplot of duration of issuance of building permit by Borough.\n",
    "ax = data.boxplot(column=['Duration'], by=['Borough'])\n",
    "plt.suptitle('')\n",
    "ax.set_xlabel('')\n",
    "ax.set_ylabel('Days')\n",
    "ax.grid(False)\n",
    "ax.set_title('Duration by Borough')\n",
    "ax.set_yscale('log')\n",
    "plt.tight_layout()\n",
    "pd.DataFrame(data.groupby('Borough')['Duration'].\n",
    "             describe().loc[:,['mean','std','max']].round())"
   ]
  },
  {
   "cell_type": "markdown",
   "metadata": {},
   "source": [
    "#### Duration of building permit issuance by Borough\n",
    "\n",
    "* On average it takes the longest in Manhattan and shortest in Staten Island to obtain a building permit. \n",
    "* In Manhattan, it takes on average 11 months (333 days) to obtain a building permit, which is almost twice as long as in the rest of the 4 Boroughs. \n",
    "* However, there is also significant variance in Manhattan in the duration. "
   ]
  },
  {
   "cell_type": "code",
   "execution_count": 9,
   "metadata": {},
   "outputs": [],
   "source": [
    "bldg_type = pd.DataFrame(data.groupby(['Borough','Building Type']).count()['Approved'])"
   ]
  },
  {
   "cell_type": "code",
   "execution_count": 10,
   "metadata": {},
   "outputs": [],
   "source": [
    "bldg_type_piv = (pd.pivot_table\n",
    "                 (bldg_type, index='Borough', columns=['Building Type'], \n",
    "                  values='Approved').sort_values(by='1-2-3 FAMILY'))"
   ]
  },
  {
   "cell_type": "code",
   "execution_count": 11,
   "metadata": {},
   "outputs": [],
   "source": [
    "# Create subplot consisting of 3 plots:\n",
    "# 1. Number of building permits issued in each borough by building type.\n",
    "# 2. Duration of building permits issued in each borough by building type.\n",
    "# 3. Total amount of building permits issued by type (no borough)"
   ]
  },
  {
   "cell_type": "code",
   "execution_count": 12,
   "metadata": {},
   "outputs": [],
   "source": [
    "group = pd.DataFrame(data.groupby(['Borough','Building Type'])['Duration'].mean())"
   ]
  },
  {
   "cell_type": "code",
   "execution_count": 13,
   "metadata": {},
   "outputs": [],
   "source": [
    "group_piv = pd.pivot_table(index='Borough', columns='Building Type', \n",
    "                          values='Duration', data=group)"
   ]
  },
  {
   "cell_type": "code",
   "execution_count": 238,
   "metadata": {},
   "outputs": [
    {
     "data": {
      "text/html": [
       "<div>\n",
       "<style scoped>\n",
       "    .dataframe tbody tr th:only-of-type {\n",
       "        vertical-align: middle;\n",
       "    }\n",
       "\n",
       "    .dataframe tbody tr th {\n",
       "        vertical-align: top;\n",
       "    }\n",
       "\n",
       "    .dataframe thead th {\n",
       "        text-align: right;\n",
       "    }\n",
       "</style>\n",
       "<table border=\"1\" class=\"dataframe\">\n",
       "  <thead>\n",
       "    <tr style=\"text-align: right;\">\n",
       "      <th></th>\n",
       "      <th>mean</th>\n",
       "      <th>std</th>\n",
       "      <th>max</th>\n",
       "    </tr>\n",
       "    <tr>\n",
       "      <th>Building Type</th>\n",
       "      <th></th>\n",
       "      <th></th>\n",
       "      <th></th>\n",
       "    </tr>\n",
       "  </thead>\n",
       "  <tbody>\n",
       "    <tr>\n",
       "      <th>1-2-3 FAMILY</th>\n",
       "      <td>138.0</td>\n",
       "      <td>248.0</td>\n",
       "      <td>4959.0</td>\n",
       "    </tr>\n",
       "    <tr>\n",
       "      <th>OTHERS</th>\n",
       "      <td>241.0</td>\n",
       "      <td>274.0</td>\n",
       "      <td>3637.0</td>\n",
       "    </tr>\n",
       "  </tbody>\n",
       "</table>\n",
       "</div>"
      ],
      "text/plain": [
       "                mean    std     max\n",
       "Building Type                      \n",
       "1-2-3 FAMILY   138.0  248.0  4959.0\n",
       "OTHERS         241.0  274.0  3637.0"
      ]
     },
     "execution_count": 238,
     "metadata": {},
     "output_type": "execute_result"
    },
    {
     "data": {
      "image/png": "[encoded data removed]",
      "text/plain": [
       "<Figure size 576x576 with 4 Axes>"
      ]
     },
     "metadata": {},
     "output_type": "display_data"
    }
   ],
   "source": [
    "plt.style.use('seaborn-white')\n",
    "fig = plt.figure(figsize = (8,8))\n",
    "\n",
    "ax1 = fig.add_subplot(2,2,1)\n",
    "data['Building Type'].value_counts().plot(kind='bar', ax=ax1)\n",
    "ax1.set_xlabel('')\n",
    "ax1.set_ylabel('Number of building permits issued')\n",
    "ax1.set_title('Building permits issued per building type')\n",
    "\n",
    "ax2 = fig.add_subplot(2,2,2)\n",
    "bldg_type_piv.plot(kind='bar', ax = ax2)\n",
    "ax2.set_xlabel('')\n",
    "ax2.set_ylabel('Number of building permits')\n",
    "ax2.set_title('Number of building permit issued')\n",
    "ax2.legend('')\n",
    "\n",
    "ax3 = fig.add_subplot(2,2,3)\n",
    "group_piv[['1-2-3 FAMILY','OTHERS']].plot(kind='bar', ax=ax3)\n",
    "ax3.set_xlabel('')\n",
    "ax3.set_ylabel('Duration (days)')\n",
    "ax3.set_title('Time requred to obtain a building permit')\n",
    "ax3.legend('')\n",
    "\n",
    "ax4 = fig.add_subplot(2,2,4)\n",
    "data.boxplot(column=['Duration'], by=['Building Type'], ax = ax4)\n",
    "ax4.set_title('Duration of approval based on types of buildings')\n",
    "ax4.set_xlabel('')\n",
    "ax4.set_ylabel('Duration (days)')\n",
    "ax4.set_yscale('log')\n",
    "ax4.grid(False)\n",
    "\n",
    "plt.suptitle('')\n",
    "plt.tight_layout()\n",
    "\n",
    "pd.DataFrame(data.groupby('Building Type')['Duration'].\n",
    "             describe().loc[:,['mean','std','max']].round())"
   ]
  },
  {
   "cell_type": "markdown",
   "metadata": {},
   "source": [
    "#### Discussion: the type of buildings approved \n",
    "\n",
    "* The majority (>70%) of building permits were issued for 1,2 or 3 family buildings. This ratio varies significantly across the 5 Boroughs. \n",
    "* Manhattan is the only borough where the majority of the building permits where issued for the \"Others\" category, meaning anything other than 1,2 or 3 family houses. \n",
    "* The duration for obtaining a building permit is longer for \"Others\" category buildings than \"1, 2 or 3 family\" houses, by on average 79 days. \n"
   ]
  },
  {
   "cell_type": "code",
   "execution_count": 256,
   "metadata": {},
   "outputs": [],
   "source": [
    "# Pivot the data to get borough level duration for applicants that applied online vs those who \n",
    "# did not apply online.\n",
    "\n",
    "efile_boro = data.groupby(['Borough','Efiling Filed'])['Duration'].mean()\n",
    "efile_pivot = pd.pivot_table(pd.DataFrame(efile_boro), \n",
    "                             index='Borough', columns='Efiling Filed')"
   ]
  },
  {
   "cell_type": "code",
   "execution_count": 294,
   "metadata": {
    "scrolled": false
   },
   "outputs": [
    {
     "data": {
      "text/plain": [
       "<matplotlib.legend.Legend at 0x1a2fae7cf8>"
      ]
     },
     "execution_count": 294,
     "metadata": {},
     "output_type": "execute_result"
    },
    {
     "data": {
      "image/png": "[encoded data removed]",
      "text/plain": [
       "<Figure size 720x288 with 2 Axes>"
      ]
     },
     "metadata": {},
     "output_type": "display_data"
    }
   ],
   "source": [
    "# Create a bar plot of Efiling.\n",
    "plt.style.use('seaborn-white')\n",
    "fig = plt.figure(figsize=(10,4))\n",
    "ax1 = fig.add_subplot(1,2,1)\n",
    "\n",
    "data['Efiling Filed'].value_counts().plot(kind='bar', ax=ax1)\n",
    "# ax1.set_xticklabels(['Yes','No'],rotation=360)\n",
    "ax1.set_title('Number of building permits issued')\n",
    "ax1.set_ylabel('Number of approved permits')\n",
    "ax1.set_xlabel('Efiling filed')\n",
    "ax1.set_xticklabels(['No','Yes'], rotation=360)\n",
    "\n",
    "# plt.tight_layout()\n",
    "# pd.DataFrame(data.groupby('Borough')['Efiling Filed'].mean())\n",
    "\n",
    "ax2 = fig.add_subplot(1,2,2)\n",
    "pd.pivot_table(pd.DataFrame(efile_boro), \n",
    "               index='Borough', columns='Efiling Filed').plot(kind='bar', ax=ax2)\n",
    "# ax2.set_xticklabels(['No','Yes'], rotation=360)\n",
    "ax2.set_title('Duration for issuing a building permit by borough')\n",
    "ax2.set_ylabel('Days')\n",
    "ax2.set_xlabel('')\n",
    "ax2.legend(['No','Yes'])"
   ]
  },
  {
   "cell_type": "code",
   "execution_count": 240,
   "metadata": {
    "scrolled": false
   },
   "outputs": [
    {
     "data": {
      "text/html": [
       "<div>\n",
       "<style scoped>\n",
       "    .dataframe tbody tr th:only-of-type {\n",
       "        vertical-align: middle;\n",
       "    }\n",
       "\n",
       "    .dataframe tbody tr th {\n",
       "        vertical-align: top;\n",
       "    }\n",
       "\n",
       "    .dataframe thead th {\n",
       "        text-align: right;\n",
       "    }\n",
       "</style>\n",
       "<table border=\"1\" class=\"dataframe\">\n",
       "  <thead>\n",
       "    <tr style=\"text-align: right;\">\n",
       "      <th></th>\n",
       "      <th>mean</th>\n",
       "      <th>std</th>\n",
       "      <th>max</th>\n",
       "    </tr>\n",
       "    <tr>\n",
       "      <th>Efiling Filed</th>\n",
       "      <th></th>\n",
       "      <th></th>\n",
       "      <th></th>\n",
       "    </tr>\n",
       "  </thead>\n",
       "  <tbody>\n",
       "    <tr>\n",
       "      <th>N</th>\n",
       "      <td>136.0</td>\n",
       "      <td>251.0</td>\n",
       "      <td>4959.0</td>\n",
       "    </tr>\n",
       "    <tr>\n",
       "      <th>Y</th>\n",
       "      <td>222.0</td>\n",
       "      <td>265.0</td>\n",
       "      <td>3585.0</td>\n",
       "    </tr>\n",
       "  </tbody>\n",
       "</table>\n",
       "</div>"
      ],
      "text/plain": [
       "                mean    std     max\n",
       "Efiling Filed                      \n",
       "N              136.0  251.0  4959.0\n",
       "Y              222.0  265.0  3585.0"
      ]
     },
     "execution_count": 240,
     "metadata": {},
     "output_type": "execute_result"
    },
    {
     "data": {
      "image/png": "[encoded data removed]",
      "text/plain": [
       "<Figure size 720x360 with 2 Axes>"
      ]
     },
     "metadata": {},
     "output_type": "display_data"
    }
   ],
   "source": [
    "plt.style.use('seaborn-white')\n",
    "fig = plt.figure(figsize=(10,5))\n",
    "\n",
    "ax1 = fig.add_subplot(1,2,1)\n",
    "data.boxplot(column=['Duration'], by=['Efiling Filed'], ax=ax1)\n",
    "ax1.set_title('Duration of building permit approval')\n",
    "ax1.set_ylabel('Days')\n",
    "ax1.set_xlabel('Efiling filed')\n",
    "ax1.set_xticklabels(['No','Yes'])\n",
    "ax1.set_yscale('log')\n",
    "plt.suptitle('')\n",
    "ax1.grid(False)\n",
    "plt.tight_layout()\n",
    "\n",
    "ax2 = fig.add_subplot(1,2,2, sharey=ax1)\n",
    "sns.boxplot(x='Efiling Filed', y='Duration',data=data, hue='Borough', ax=ax2, order=['N','Y'])\n",
    "ax2.set_xticklabels(['No','Yes'])\n",
    "ax2.set_title('Duration of building permit approval per borough')\n",
    "ax2.legend(bbox_to_anchor=(1, 0.6))\n",
    "ax2.yaxis.set_visible(False)\n",
    "# ax2.axvline(0.5, c='k', linewidth=0.7)\n",
    "\n",
    "pd.DataFrame(data.groupby(['Efiling Filed'])['Duration'].\n",
    "             describe().loc[:,['mean','std','max']].round())"
   ]
  },
  {
   "cell_type": "markdown",
   "metadata": {},
   "source": [
    "#### Discussion: E-filing for building permits\n",
    "* The applicants that have NOT filed the application online seem to obtain the approval faster. We need to explore this further to understand the reason. \n",
    "* Looking into the data by borough we can see that this is true for all boroughs. However, the difference is very small in Manhattan."
   ]
  },
  {
   "cell_type": "code",
   "execution_count": null,
   "metadata": {},
   "outputs": [],
   "source": [
    "# Create a bar chart of Professional Title and include a statistical analysis.\n",
    "ax = data['Applicant Professional Title'].value_counts().plot(kind='bar', color='g')\n",
    "ax.set_xticklabels(['Professional Engineer','Registered Architect'],rotation=360)\n",
    "ax.set_title('Number of applications based on the professional title')\n",
    "pd.DataFrame(data['Applicant Professional Title'].value_counts())"
   ]
  },
  {
   "cell_type": "code",
   "execution_count": null,
   "metadata": {},
   "outputs": [],
   "source": [
    "# Boxplot of Duration based on the applicants' professional title.\n",
    "ax = data.boxplot(column=['Duration'], by=['Applicant Professional Title'])\n",
    "ax.set_xticklabels(['Professional Engineer','Registered Architect'])\n",
    "plt.suptitle('')\n",
    "ax.set_title(\"Duration based on applicant's professional title\")\n",
    "ax.set_xlabel('')\n",
    "ax.set_ylabel('Days')\n",
    "ax.set_yscale('log')\n",
    "\n",
    "ax.grid(False)\n",
    "plt.tight_layout()\n",
    "pd.DataFrame(data.groupby('Applicant Professional Title')['Duration'].\n",
    "             describe().loc[:,['mean','std','max']].round())"
   ]
  },
  {
   "cell_type": "code",
   "execution_count": null,
   "metadata": {
    "scrolled": true
   },
   "outputs": [],
   "source": [
    "# Bar chart indicating whether or not the application was submitted as \n",
    "# Professionally Certified by a Professional Engineer (PE) or Registered Architect (RA).\n",
    "ax = data['Professional Cert'].value_counts().plot(kind='bar', color='g')\n",
    "ax.set_xticklabels(['No','Yes'],rotation=360)\n",
    "ax.set_title('Applications were professionally certified')\n",
    "ax.set_ylabel('Number of applications')\n",
    "pd.DataFrame(data['Professional Cert'].value_counts())"
   ]
  },
  {
   "cell_type": "code",
   "execution_count": null,
   "metadata": {
    "scrolled": true
   },
   "outputs": [],
   "source": [
    "# Boxplot of Duration based on wheather or not the applications were professionally certified.\n",
    "ax = data.boxplot(column=['Duration'], by=['Professional Cert'])\n",
    "ax.set_xticklabels(['Not certified','Certified'])\n",
    "plt.suptitle('')\n",
    "ax.set_title(\"Duration based on the professional certification of applications\")\n",
    "ax.set_xlabel('')\n",
    "ax.set_ylabel('Days')\n",
    "ax.set_yscale('log')\n",
    "ax.grid(False)\n",
    "ax.yaxis.set_ticks_position('none')\n",
    "plt.tight_layout()\n",
    "pd.DataFrame(data.groupby('Professional Cert')['Duration'].\n",
    "             describe().loc[:,['mean','std','max']].round())\n"
   ]
  },
  {
   "cell_type": "markdown",
   "metadata": {},
   "source": [
    "### Discuss the result above. "
   ]
  },
  {
   "cell_type": "code",
   "execution_count": null,
   "metadata": {
    "scrolled": true
   },
   "outputs": [],
   "source": [
    "# Histogram of building permit fee () \n",
    "ax = data['Total Est. Fee'].hist(bins=30, range=(0,3500))\n",
    "ax.set_title('Esimated building permit fees (USD)')\n",
    "ax.set_xlabel('Building permit fee (USD)')\n",
    "ax.grid(False)\n",
    "plt.tight_layout()\n",
    "pd.DataFrame(data['Total Est. Fee'].describe().loc[['mean','std','50%']].round())\n"
   ]
  },
  {
   "cell_type": "markdown",
   "metadata": {},
   "source": [
    "#### Add a scatter plot building permit fee vs duration and the corr value"
   ]
  },
  {
   "cell_type": "code",
   "execution_count": null,
   "metadata": {
    "scrolled": true
   },
   "outputs": [],
   "source": [
    "# Boxplot of building permit fee (estimated) in each borough.\n",
    "ax = data.boxplot(column='Total Est. Fee', by='Borough')\n",
    "ax.set_yscale('log')\n",
    "ax.grid(False)\n",
    "ax.set_title('Building permit fee in each Borough')\n",
    "plt.suptitle('')\n",
    "ax.set_xlabel('')\n",
    "ax.set_ylabel('Building permit fee (USD)')\n",
    "ax.xaxis.set_ticks_position('none')\n",
    "ax.yaxis.set_ticks_position('none')\n",
    "plt.tight_layout()\n",
    "(data.groupby('Borough')['Duration'].describe().\n",
    " round().loc[:,['mean','std','max']].sort_values('mean'))"
   ]
  },
  {
   "cell_type": "code",
   "execution_count": null,
   "metadata": {},
   "outputs": [],
   "source": [
    "data.groupby('Borough')['Duration'].mean()"
   ]
  },
  {
   "cell_type": "code",
   "execution_count": null,
   "metadata": {},
   "outputs": [],
   "source": [
    "data.head()"
   ]
  },
  {
   "cell_type": "code",
   "execution_count": null,
   "metadata": {
    "scrolled": true
   },
   "outputs": [],
   "source": [
    "fig, ax = plt.subplots(figsize=(8,4))\n",
    "sns.set(style='white')\n",
    "ax = sns.violinplot(x='Borough', y='Duration', data=data)\n",
    "plt.ylabel('Duration (days)')\n",
    "plt.xlabel('')\n",
    "plt.legend(loc='upper left')\n",
    "ax.set_ylim(-100,1500)\n",
    "sns.despine(left=True)\n",
    "plt.tight_layout()"
   ]
  },
  {
   "cell_type": "code",
   "execution_count": null,
   "metadata": {
    "scrolled": true
   },
   "outputs": [],
   "source": [
    "sns.set(style='white', palette='muted')\n",
    "sns.set_context('paper')\n",
    "g = sns.catplot(x ='Borough', y ='Duration', \n",
    "                  hue='Professional Cert', data=data, kind='bar', \n",
    "                ci=95, legend_out=False)\n",
    "g.fig.set_size_inches(10,5)\n",
    "g.set_axis_labels('','Duration (days)')\n",
    "g.ax.set_ylim(0,450)\n",
    "g.ax.set_xlabel('')\n",
    "legend = plt.legend(title='Professional Certification', loc='upper left', frameon=False)\n",
    "\n",
    "plt.setp(legend.get_texts()[0], text='No')\n",
    "plt.setp(legend.get_texts()[1], text='Yes')\n",
    "plt.title('Mean of duration per Borough' '\\n \\\n",
    "          (black line shows 95% confidence interval around the mean)', fontsize=14)"
   ]
  },
  {
   "cell_type": "code",
   "execution_count": null,
   "metadata": {},
   "outputs": [],
   "source": [
    "# scatterplot of building permit fee and Duration. \n",
    "sns.lmplot(x='Total Est. Fee', y='Duration', data=data)\n",
    "plt.xlim(0,450000)\n",
    "plt.ylim(0,5080)\n",
    "plt.xticks(rotation=60)\n",
    "plt.tight_layout()\n",
    "data.corr().loc[['Total Est. Fee'],['Duration']].round(3)"
   ]
  },
  {
   "cell_type": "code",
   "execution_count": null,
   "metadata": {},
   "outputs": [],
   "source": [
    "# Histogram of Proposed Zoning square footage. \n",
    "fig, ax = plt.subplots(2,1)\n",
    "\n",
    "plt.subplot(2,1,1)\n",
    "ax = data['Proposed Zoning Sqft'].hist(bins=30, range=(0,3000), color='orange')\n",
    "ax.set_title('Proposed Zoning square footage')\n",
    "# ax.set_xlabel('Square feet')\n",
    "ax.grid(False)\n",
    "pd.DataFrame((data['Proposed Zoning Sqft']).describe()).round(1)\n",
    "\n",
    "plt.subplot(2,1,2)\n",
    "ax1 = data['Proposed Zoning Sqft'].hist(bins=30, range=(100,3000))\n",
    "ax1.set_title('Proposed Zoning square footage - excluding 0s')\n",
    "ax1.set_xlabel('Square feet')\n",
    "ax1.grid(False)\n",
    "plt.tight_layout()\n",
    "\n",
    "# scatterplot of proposed zoning square feet vs Duration.\n",
    "sns.lmplot(x='Proposed Zoning Sqft', y='Duration', data=data)\n",
    "plt.tight_layout()\n",
    "# plt.xscale('log')\n",
    "plt.ylim(0,5000)\n",
    "plt.xticks(rotation=60)\n",
    "plt.title('Proposed zoning area and the approval duration')"
   ]
  },
  {
   "cell_type": "code",
   "execution_count": null,
   "metadata": {},
   "outputs": [],
   "source": [
    "# Histogram of Proposed No. Of Stories. \n",
    "\n",
    "# DO A BAR PLOT INSTEAD OF HIST\n",
    "\n",
    "ax = small.groupby('Borough')['Proposed No. Of Stories'].mean().sort_values().plot(kind='bar')\n",
    "ax.set_title('Proposed No. Of Stories')\n",
    "ax.set_xlabel('')\n",
    "ax.grid(False)\n",
    "plt.tight_layout()\n",
    "pd.DataFrame((data['Proposed No. Of Stories']).describe()).round(1)\n",
    "\n"
   ]
  },
  {
   "cell_type": "code",
   "execution_count": null,
   "metadata": {},
   "outputs": [],
   "source": [
    "# Boxplot of Proposed No. Of Stories in each borough.\n",
    "f, axes = plt.subplots(1, 2, figsize=(12, 4)) #sharey=True)\n",
    "sns.boxplot(data=data,x='Borough', y='Proposed No. Of Stories', ax=axes[0])\n",
    "axes[0].set(ylim=(0,100))\n",
    "axes[0].set_xlabel('')\n",
    "# plt.tight_layout()\n",
    "sns.scatterplot(data=data,x='Proposed No. Of Stories', y='Proposed Height', hue='Borough',\n",
    "                ax = axes[1])\n",
    "axes[1].set(xlim=(0,120), ylim=(0,2000))\n",
    "# axes[1].set_xlabel('')"
   ]
  },
  {
   "cell_type": "code",
   "execution_count": null,
   "metadata": {},
   "outputs": [],
   "source": [
    "ax = sns.scatterplot(data=data, x= 'Proposed No. Of Stories', y='Proposed Height')\n",
    "ax.set(xlim=(0,30))\n"
   ]
  },
  {
   "cell_type": "code",
   "execution_count": null,
   "metadata": {
    "scrolled": true
   },
   "outputs": [],
   "source": [
    "(data[data['Proposed Height'] > 2000].\n",
    " iloc[:,7:][['Proposed Height','Proposed No. Of Stories',\n",
    "             'Total_Construction_Floor_Area','Duration']])"
   ]
  },
  {
   "cell_type": "code",
   "execution_count": null,
   "metadata": {},
   "outputs": [],
   "source": [
    "data.head(2)"
   ]
  },
  {
   "cell_type": "code",
   "execution_count": null,
   "metadata": {},
   "outputs": [],
   "source": []
  },
  {
   "cell_type": "code",
   "execution_count": null,
   "metadata": {
    "scrolled": true
   },
   "outputs": [],
   "source": [
    "(data[data['Duration'] == 1].\n",
    " plot(kind='scatter', x='Total_Construction_Floor_Area', y='Proposed Height', ylim=(0,400),\n",
    "     xlim=(0,1000)))"
   ]
  },
  {
   "cell_type": "code",
   "execution_count": null,
   "metadata": {},
   "outputs": [],
   "source": [
    "data[data['Duration']>1]['Total Est. Fee'].value_counts(dropna=False)"
   ]
  },
  {
   "cell_type": "code",
   "execution_count": null,
   "metadata": {},
   "outputs": [],
   "source": []
  },
  {
   "cell_type": "code",
   "execution_count": null,
   "metadata": {},
   "outputs": [],
   "source": [
    "# scatterplot of proposed number of stories and duration.\n",
    "\n",
    "sns.lmplot(x='Proposed No. Of Stories', y='Duration', data=data)\n",
    "plt.title('Proposed number of stories and the duration of approval')\n",
    "plt.ylabel('Duration (days)')"
   ]
  },
  {
   "cell_type": "code",
   "execution_count": null,
   "metadata": {},
   "outputs": [],
   "source": [
    "# Histogram of Proposed Height. \n",
    "ax = data['Proposed Height'].hist(bins=30, range=(0,220))\n",
    "ax.set_title('Proposed Height')\n",
    "ax.set_xlabel('Proposed Height (in feet)')\n",
    "ax.grid(False)\n",
    "pd.DataFrame((data['Proposed Height']).describe()).round(1)\n",
    "plt.tight_layout()"
   ]
  },
  {
   "cell_type": "code",
   "execution_count": null,
   "metadata": {},
   "outputs": [],
   "source": [
    "# Boxplot of Proposed Height in each borough. \n",
    "# ax = sns.boxplot(data=data,x='Borough', y='Proposed Height')\n",
    "ax = data.boxplot(column='Proposed Height', by='Borough')\n",
    "ax.set(ylim=(0,1800))\n",
    "ax.set_xlabel('')\n",
    "ax.set_ylabel('Proposed Height (in feet)')\n",
    "ax.set_title('Proposed Height in each borough')\n",
    "plt.suptitle('')\n",
    "ax.grid(False)\n",
    "plt.tight_layout()"
   ]
  },
  {
   "cell_type": "code",
   "execution_count": null,
   "metadata": {},
   "outputs": [],
   "source": [
    "# scatterplot of proposed height and duration.\n",
    "\n",
    "sns.lmplot(x='Proposed Height', y='Duration', data=data)\n",
    "plt.title('Proposed Height and the duration of approval')\n",
    "plt.ylabel('Duration (days)')\n",
    "plt.ylim(0,5100)"
   ]
  },
  {
   "cell_type": "code",
   "execution_count": null,
   "metadata": {
    "scrolled": true
   },
   "outputs": [],
   "source": [
    "# Histogram of Proposed Height. \n",
    "fig,ax = plt.subplots(2,1, sharey=True)\n",
    "plt.subplot(2,1,1)\n",
    "ax = data['Proposed Dwelling Units'].plot(kind='hist', bins=30, color='gold', logy=True)\n",
    "ax.set_title('Proposed Dwelling Units')\n",
    "ax.grid(False)\n",
    "\n",
    "plt.subplot(2,1,2)\n",
    "ax1 = data['Proposed Dwelling Units'].hist(bins=30, range=(0,25))\n",
    "ax1.set_title('Proposed Dwelling Units (subset between 0 and 25)')\n",
    "ax1.set_xlabel('Proposed Dwelling Units (Number)')\n",
    "ax1.grid(False)\n",
    "\n",
    "plt.tight_layout()\n",
    "pd.DataFrame((data['Proposed Dwelling Units']).describe()).round(1)"
   ]
  },
  {
   "cell_type": "code",
   "execution_count": null,
   "metadata": {},
   "outputs": [],
   "source": [
    "# Boxplot of Proposed Dwelling Units in each borough. \n",
    "ax = data.boxplot(column='Proposed Dwelling Units', by='Borough')\n",
    "\n",
    "# ax = sns.boxplot(data=data,x='Borough', y='Proposed Dwelling Units')\n",
    "ax.set(ylim=(0,1800))\n",
    "ax.set_xlabel('')\n",
    "ax.set_ylabel('Proposed Dwelling Units (number)')\n",
    "ax.set_title('Proposed Dwelling Units in each borough')\n",
    "plt.suptitle('')\n",
    "ax.grid(False)\n",
    "plt.tight_layout()"
   ]
  },
  {
   "cell_type": "code",
   "execution_count": null,
   "metadata": {
    "scrolled": true
   },
   "outputs": [],
   "source": [
    "# scatterplot of proposed dwelling units and duration.\n",
    "\n",
    "sns.lmplot(x='Proposed Dwelling Units', y='Duration', data=data)\n",
    "plt.title('Proposed Dwelling Units and the duration of approval')\n",
    "plt.ylabel('Duration (days)')\n",
    "plt.ylim(0,5100)\n",
    "plt.xlim(0,2000)"
   ]
  },
  {
   "cell_type": "code",
   "execution_count": null,
   "metadata": {},
   "outputs": [],
   "source": [
    "data.head(2)"
   ]
  },
  {
   "cell_type": "markdown",
   "metadata": {},
   "source": [
    "### Categorical variables that have multiple categories \n",
    "\n",
    "#### How to visualize the categorigal variables that have too many categories for a bar chart or box plot?\n",
    "\n",
    "Zoning, Special Districts and Proposed Occupany variables have multiple categoris each, ranging from 8 (Special District 2) to 43 (Proposed Occupancy) to 164 (Zoning Dist1) and anything in between. "
   ]
  },
  {
   "cell_type": "code",
   "execution_count": null,
   "metadata": {},
   "outputs": [],
   "source": [
    "data['Proposed Occupancy'].unique()"
   ]
  },
  {
   "cell_type": "code",
   "execution_count": null,
   "metadata": {
    "scrolled": true
   },
   "outputs": [],
   "source": [
    "#bar chart of the Non-profit category.\n",
    "\n",
    "fig, (ax1,ax2) = plt.subplots(2, sharex=True)\n",
    "\n",
    "ngo=(data.groupby('Non-Profit')[['Approved','Duration']].\n",
    "agg({'Approved':'count', 'Duration':'mean'}))\n",
    "\n",
    "ax1.bar(ngo.index, ngo['Approved'], color='gold')\n",
    "ax1.set_title('Approvals based on Non-Profit status')\n",
    "ax1.set_ylabel('Number of applications')\n",
    "\n",
    "ax2.bar(ngo.index, ngo['Duration'])\n",
    "ax2.set_title('Mean duration of the approval')\n",
    "ax2.set_xticklabels(['No','Yes'], rotation=360)\n",
    "ax2.set_ylabel('Days')\n",
    "\n",
    "# clarify the title and other a box plot.\n"
   ]
  },
  {
   "cell_type": "code",
   "execution_count": null,
   "metadata": {},
   "outputs": [],
   "source": []
  },
  {
   "cell_type": "code",
   "execution_count": null,
   "metadata": {},
   "outputs": [],
   "source": [
    "# Histogram of Total Construction Floor Area. \n",
    "\n",
    "fig,ax = plt.subplots(2,1)\n",
    "\n",
    "plt.subplot(2,1,1)\n",
    "ax = data['Total_Construction_Floor_Area'].hist(bins=30, color='orange')\n",
    "ax.set_title('Total_Construction_Floor_Area')\n",
    "ax.set_yscale('log')\n",
    "# ax.set_xlabel('Total_Construction_Floor_Area (square feet)')\n",
    "ax.grid(False)\n",
    "\n",
    "plt.subplot(2,1,2)\n",
    "ax1 = data['Total_Construction_Floor_Area'].hist(bins=30,  range=(0,20000))\n",
    "ax1.set_title('Total Construction Floor Area - cap at 20,000 sqft')\n",
    "ax1.set_xlabel('Total Construction Floor Area (square feet)')\n",
    "ax1.grid(False)\n",
    "\n",
    "plt.tight_layout()\n",
    "pd.DataFrame((data['Total_Construction_Floor_Area']).describe()).round(1)\n"
   ]
  },
  {
   "cell_type": "code",
   "execution_count": null,
   "metadata": {},
   "outputs": [],
   "source": [
    "# scatterplot of Total construction floor area and duration.\n",
    "\n",
    "sns.lmplot(x='Total_Construction_Floor_Area', y='Duration', data=data)\n",
    "plt.title('Total construction floor area and the duration of approval')\n",
    "plt.ylabel('Duration (days)')\n",
    "plt.xlabel('Total Construction Floor Area (sqft)')\n",
    "plt.ylim(0,5100)\n",
    "plt.xticks(rotation=60)\n",
    "plt.xlim(0,2000000)"
   ]
  },
  {
   "cell_type": "markdown",
   "metadata": {},
   "source": [
    "### Further analysis of the dependent variable and explanatory variables.\n",
    "\n",
    "Heatmap of all variables and correlations."
   ]
  },
  {
   "cell_type": "code",
   "execution_count": null,
   "metadata": {
    "scrolled": true
   },
   "outputs": [],
   "source": [
    "import seaborn as sns\n",
    "corr = data.corr()\n",
    "sns.heatmap(corr, \n",
    "            xticklabels=corr.columns.values,\n",
    "            yticklabels=corr.columns.values,\n",
    "            cmap=\"RdBu_r\")"
   ]
  },
  {
   "cell_type": "code",
   "execution_count": null,
   "metadata": {
    "scrolled": true
   },
   "outputs": [],
   "source": [
    "# Create a histogram of duration and include a statistical analysis.\n",
    "data['Duration'].plot(kind='hist', bins = 200)\n",
    "plt.xlim(0,1000)\n",
    "plt.xlabel('Approval duration (days)')\n",
    "pd.DataFrame(data['Duration'].describe())"
   ]
  },
  {
   "cell_type": "code",
   "execution_count": null,
   "metadata": {},
   "outputs": [],
   "source": [
    "ax = (data.groupby('Borough')['Duration'].agg(['mean','median'])\n",
    "      .sort_values(by='mean').plot(kind='bar'))\n",
    "ax.set_xlabel('')\n",
    "ax.set_ylabel('Duration (days)')\n",
    "ax.set_title('Mean and median duration by borough')"
   ]
  },
  {
   "cell_type": "code",
   "execution_count": null,
   "metadata": {},
   "outputs": [],
   "source": [
    "# scatter plot of Proposed Zoning Sqft (x) Duration (y) \n",
    "plt.scatter(x=data['Proposed Zoning Sqft'], y=data['Duration'])"
   ]
  },
  {
   "cell_type": "markdown",
   "metadata": {},
   "source": [
    "### Selecting outliers\n",
    "\n",
    "Selecting outliers based on the Duration variable. Applying a filter to\n",
    "select values that are +- 3 standard deviation in this variable. Total number of outliers is\n",
    "1242 data points, which is 2.1% of the total data."
   ]
  },
  {
   "cell_type": "code",
   "execution_count": null,
   "metadata": {},
   "outputs": [],
   "source": [
    "from scipy.stats import zscore"
   ]
  },
  {
   "cell_type": "code",
   "execution_count": null,
   "metadata": {},
   "outputs": [],
   "source": [
    "data['Z_score'] = zscore(data['Duration'])"
   ]
  },
  {
   "cell_type": "code",
   "execution_count": null,
   "metadata": {},
   "outputs": [],
   "source": [
    "data[data['Z_score'] > 3]['Duration'].plot(kind='hist', bins=30)\n",
    "# x axis labels add"
   ]
  },
  {
   "cell_type": "code",
   "execution_count": null,
   "metadata": {},
   "outputs": [],
   "source": [
    "# bar plot of the new zoning district 1 values\n",
    "ax = data['Zoning Dist1'].value_counts().plot(kind='bar',figsize=(12,6))\n",
    "ax.set_title('Building permits issued in Zoning District 1')\n",
    "ax.set_ylabel('Number of applications')"
   ]
  },
  {
   "cell_type": "code",
   "execution_count": null,
   "metadata": {},
   "outputs": [],
   "source": [
    "! pip install squarify"
   ]
  },
  {
   "cell_type": "code",
   "execution_count": null,
   "metadata": {
    "scrolled": true
   },
   "outputs": [],
   "source": [
    "import squarify\n",
    "ax = squarify.plot(sizes=data['Zoning Dist1'].value_counts().values, \n",
    "              label=data['Zoning Dist1'].value_counts().index, alpha=.8)\n",
    "plt.axis('off')\n",
    "ax.figure.set_size_inches(10,6)"
   ]
  },
  {
   "cell_type": "markdown",
   "metadata": {},
   "source": [
    "### How to deal with these 4 zoning variables that have very few valid cells \n",
    "#### (especially Zoning Dist3 and Special District 2)\n",
    "\n",
    "Zoning Dist2 -- 4720 non-null object\n",
    "\n",
    "Zoning Dist3 -- 202 non-null object\n",
    "\n",
    "Special District 1 -- 5518 non-null object\n",
    "\n",
    "Special District 2 -- 600 non-null object\n"
   ]
  }
 ],
 "metadata": {
  "kernelspec": {
   "display_name": "Python 3",
   "language": "python",
   "name": "python3"
  },
  "language_info": {
   "codemirror_mode": {
    "name": "ipython",
    "version": 3
   },
   "file_extension": ".py",
   "mimetype": "text/x-python",
   "name": "python",
   "nbconvert_exporter": "python",
   "pygments_lexer": "ipython3",
   "version": "3.7.0"
  }
 },
 "nbformat": 4,
 "nbformat_minor": 2
}
