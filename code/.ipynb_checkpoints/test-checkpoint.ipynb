{
 "cells": [
  {
   "cell_type": "code",
   "execution_count": 60,
   "metadata": {},
   "outputs": [],
   "source": [
    "import pandas as pd\n",
    "import numpy as np\n",
    "from datetime import datetime\n",
    "from matplotlib import pyplot as plt\n",
    "import seaborn as sns"
   ]
  },
  {
   "cell_type": "code",
   "execution_count": 61,
   "metadata": {},
   "outputs": [],
   "source": [
    "%matplotlib inline"
   ]
  },
  {
   "cell_type": "code",
   "execution_count": 62,
   "metadata": {},
   "outputs": [
    {
     "name": "stderr",
     "output_type": "stream",
     "text": [
      "/Users/anushavan/anaconda3/lib/python3.7/site-packages/IPython/core/interactiveshell.py:2785: DtypeWarning: Columns (11) have mixed types. Specify dtype option on import or set low_memory=False.\n",
      "  interactivity=interactivity, compiler=compiler, result=result)\n"
     ]
    }
   ],
   "source": [
    "url = \"https://raw.githubusercontent.com/anoushavan/Capstone_1/master/data/new_buildings.csv\"\n",
    "\n",
    "data = pd.read_csv(url, parse_dates=['Fully Paid','Approved','SIGNOFF_DATE'])"
   ]
  },
  {
   "cell_type": "code",
   "execution_count": 63,
   "metadata": {},
   "outputs": [],
   "source": [
    "data = data.sample(frac = 0.25)"
   ]
  },
  {
   "cell_type": "code",
   "execution_count": 64,
   "metadata": {
    "scrolled": true
   },
   "outputs": [
    {
     "name": "stdout",
     "output_type": "stream",
     "text": [
      "<class 'pandas.core.frame.DataFrame'>\n",
      "Int64Index: 29615 entries, 115098 to 674\n",
      "Data columns (total 21 columns):\n",
      "Borough                          29615 non-null object\n",
      "Building Type                    29615 non-null object\n",
      "eFiling Filed                    12443 non-null object\n",
      "Applicant Professional Title     29614 non-null object\n",
      "Professional Cert                21339 non-null object\n",
      "Fully Paid                       29382 non-null datetime64[ns]\n",
      "Approved                         17609 non-null datetime64[ns]\n",
      "Total Est. Fee                   29615 non-null object\n",
      "Proposed Zoning Sqft             29615 non-null int64\n",
      "Proposed No. of Stories          29615 non-null int64\n",
      "Proposed Height                  29615 non-null int64\n",
      "Proposed Dwelling Units          17058 non-null object\n",
      "Proposed Occupancy               19967 non-null object\n",
      "Zoning Dist1                     19967 non-null object\n",
      "Zoning Dist2                     1528 non-null object\n",
      "Zoning Dist3                     68 non-null object\n",
      "Special District 1               1907 non-null object\n",
      "Special District 2               217 non-null object\n",
      "Non-Profit                       25675 non-null object\n",
      "TOTAL_CONSTRUCTION_FLOOR_AREA    29615 non-null int64\n",
      "SIGNOFF_DATE                     18343 non-null datetime64[ns]\n",
      "dtypes: datetime64[ns](3), int64(4), object(14)\n",
      "memory usage: 5.0+ MB\n"
     ]
    }
   ],
   "source": [
    "data.info()"
   ]
  },
  {
   "cell_type": "markdown",
   "metadata": {},
   "source": [
    "### Clean up the dataframe\n",
    "\n",
    "* converting all column names to *title case*, <br> \n",
    "* converting numeric data into numeric form by removing dollar signs and converting to intiger, <br> \n",
    "* creating a **\"Duration\"** column measuring the duration of the approval process as the difference between the \"Approved\" and \"Fully Paid\" columns <br> \n",
    "* creating subsets of data to hold normal values, values that are below 0 (meaningless) and zero values.\n",
    "* Transform \"Boroughs\" into category to increase the speed of execution."
   ]
  },
  {
   "cell_type": "code",
   "execution_count": 65,
   "metadata": {},
   "outputs": [],
   "source": [
    "# Convert all data columns to Title Case\n",
    "data.columns = data.columns.str.title()\n",
    "\n",
    "# Convert Total Est. Fee to float data and remove $ symbol \n",
    "data['Total Est. Fee']= [float(c.replace('$','')) for c in data['Total Est. Fee']]"
   ]
  },
  {
   "cell_type": "code",
   "execution_count": 66,
   "metadata": {},
   "outputs": [],
   "source": [
    "# Convert Proposed Dwelling Units to integers\n",
    "data['Proposed Dwelling Units'] = (pd.to_numeric(data\n",
    "                                  ['Proposed Dwelling Units'], errors='coerce'))\n"
   ]
  },
  {
   "cell_type": "code",
   "execution_count": 67,
   "metadata": {},
   "outputs": [],
   "source": [
    "# Create a Duration column and convert it to integers (instead of days)\n",
    "data['Duration'] = (data['Approved'] - data['Fully Paid']).dt.days"
   ]
  },
  {
   "cell_type": "code",
   "execution_count": 68,
   "metadata": {},
   "outputs": [],
   "source": [
    "# Subset of data where the Duration is more than 0 days\n",
    "data = data[data['Duration'] > 0]\n",
    "\n",
    "# Subset of data where the Duration is less then 0 days\n",
    "odd_data = data[data['Duration'] < 0]\n",
    "\n",
    "# Subset of data where the Duration is 0 days\n",
    "zero_data = data[data['Duration'] == 0]"
   ]
  },
  {
   "cell_type": "code",
   "execution_count": 69,
   "metadata": {},
   "outputs": [],
   "source": [
    "# transform the Boroughs into categories for faster analysis.\n",
    "data['Borough'] = data['Borough'].astype('category')"
   ]
  },
  {
   "cell_type": "markdown",
   "metadata": {},
   "source": [
    "#### Dealing with blank (NaN/NaT) values\n",
    "\n",
    "converting the NaN values to N string indicating No."
   ]
  },
  {
   "cell_type": "code",
   "execution_count": 70,
   "metadata": {},
   "outputs": [],
   "source": [
    "# Column Efiling Filed: replace the NaN values with N (No)\n",
    "data['Efiling Filed'] = data['Efiling Filed'].fillna('N')"
   ]
  },
  {
   "cell_type": "code",
   "execution_count": 71,
   "metadata": {},
   "outputs": [],
   "source": [
    "data['Professional Cert'] = data['Professional Cert'].fillna('N')"
   ]
  },
  {
   "cell_type": "markdown",
   "metadata": {},
   "source": [
    "##### Potential columns to drop\n",
    "The column \"Proposed Dwelling Units\" has 50392 not null values.\n",
    "\n",
    "The columnn \"Fully Permitted\" has 7070 NaT entries.\n",
    "\n",
    "\n",
    "##### Drop rows\n",
    "There are 2 rows in the \"Applicant Professional Title\" column that are blank. Assigned them\n",
    "to del_rows variable and deleted. \n",
    "\n",
    "There are also 2 rows in the Processional Cert column that are not Y or N, they should be dropped."
   ]
  },
  {
   "cell_type": "code",
   "execution_count": 72,
   "metadata": {},
   "outputs": [],
   "source": [
    "del_rows = data[data['Applicant Professional Title'].isnull()].index\n",
    "data.drop(del_rows, inplace=True)\n",
    "data = (data.drop(data[(data['Professional Cert'] == 'J') | \n",
    "                            (data['Professional Cert'] == 'R')].index))"
   ]
  },
  {
   "cell_type": "markdown",
   "metadata": {},
   "source": [
    "### Analysis of data\n",
    "\n",
    "Createing:\n",
    "1. histograms (for categorical variables)\n",
    "2. bar charts (for continuous variables) and \n",
    "3. boxplots for categorical variables (x axis) and a continuous variable (y axis).\n"
   ]
  },
  {
   "cell_type": "code",
   "execution_count": 73,
   "metadata": {},
   "outputs": [
    {
     "data": {
      "text/html": [
       "<div>\n",
       "<style scoped>\n",
       "    .dataframe tbody tr th:only-of-type {\n",
       "        vertical-align: middle;\n",
       "    }\n",
       "\n",
       "    .dataframe tbody tr th {\n",
       "        vertical-align: top;\n",
       "    }\n",
       "\n",
       "    .dataframe thead th {\n",
       "        text-align: right;\n",
       "    }\n",
       "</style>\n",
       "<table border=\"1\" class=\"dataframe\">\n",
       "  <thead>\n",
       "    <tr style=\"text-align: right;\">\n",
       "      <th></th>\n",
       "      <th>Borough</th>\n",
       "    </tr>\n",
       "  </thead>\n",
       "  <tbody>\n",
       "    <tr>\n",
       "      <th>count</th>\n",
       "      <td>5.000000</td>\n",
       "    </tr>\n",
       "    <tr>\n",
       "      <th>mean</th>\n",
       "      <td>2940.400000</td>\n",
       "    </tr>\n",
       "    <tr>\n",
       "      <th>std</th>\n",
       "      <td>1834.023255</td>\n",
       "    </tr>\n",
       "    <tr>\n",
       "      <th>min</th>\n",
       "      <td>580.000000</td>\n",
       "    </tr>\n",
       "    <tr>\n",
       "      <th>25%</th>\n",
       "      <td>1849.000000</td>\n",
       "    </tr>\n",
       "    <tr>\n",
       "      <th>50%</th>\n",
       "      <td>2855.000000</td>\n",
       "    </tr>\n",
       "    <tr>\n",
       "      <th>75%</th>\n",
       "      <td>4246.000000</td>\n",
       "    </tr>\n",
       "    <tr>\n",
       "      <th>max</th>\n",
       "      <td>5172.000000</td>\n",
       "    </tr>\n",
       "  </tbody>\n",
       "</table>\n",
       "</div>"
      ],
      "text/plain": [
       "           Borough\n",
       "count     5.000000\n",
       "mean   2940.400000\n",
       "std    1834.023255\n",
       "min     580.000000\n",
       "25%    1849.000000\n",
       "50%    2855.000000\n",
       "75%    4246.000000\n",
       "max    5172.000000"
      ]
     },
     "execution_count": 73,
     "metadata": {},
     "output_type": "execute_result"
    },
    {
     "data": {
      "image/png": "[encoded data removed]",
      "text/plain": [
       "<Figure size 432x288 with 1 Axes>"
      ]
     },
     "metadata": {
      "needs_background": "light"
     },
     "output_type": "display_data"
    }
   ],
   "source": [
    "# create a histogram for the # of building permits issued by Borough\n",
    "ax = data['Borough'].value_counts().sort_values().plot(kind='bar', color = 'b')\n",
    "ax.set_ylabel('Number of building permits approved')\n",
    "ax.set_xlabel('')\n",
    "pd.DataFrame(data['Borough'].value_counts().describe())"
   ]
  },
  {
   "cell_type": "code",
   "execution_count": 74,
   "metadata": {},
   "outputs": [
    {
     "data": {
      "image/png": "[encoded data removed]",
      "text/plain": [
       "<Figure size 432x288 with 1 Axes>"
      ]
     },
     "metadata": {
      "needs_background": "light"
     },
     "output_type": "display_data"
    }
   ],
   "source": [
    "# Create a boxplot of Building Type Duration.\n",
    "ax = data.boxplot(column=['Duration'], by=['Borough'])\n",
    "plt.suptitle('')\n",
    "ax.set_xlabel('')\n",
    "ax.set_ylabel('Days')\n",
    "ax.grid(False)\n",
    "ax.set_title('Duration by Borough')\n",
    "ax.set_yscale('log')\n",
    "plt.tight_layout()"
   ]
  },
  {
   "cell_type": "code",
   "execution_count": 75,
   "metadata": {},
   "outputs": [
    {
     "data": {
      "text/html": [
       "<div>\n",
       "<style scoped>\n",
       "    .dataframe tbody tr th:only-of-type {\n",
       "        vertical-align: middle;\n",
       "    }\n",
       "\n",
       "    .dataframe tbody tr th {\n",
       "        vertical-align: top;\n",
       "    }\n",
       "\n",
       "    .dataframe thead th {\n",
       "        text-align: right;\n",
       "    }\n",
       "</style>\n",
       "<table border=\"1\" class=\"dataframe\">\n",
       "  <thead>\n",
       "    <tr style=\"text-align: right;\">\n",
       "      <th></th>\n",
       "      <th>Building Type</th>\n",
       "    </tr>\n",
       "  </thead>\n",
       "  <tbody>\n",
       "    <tr>\n",
       "      <th>count</th>\n",
       "      <td>2.000000</td>\n",
       "    </tr>\n",
       "    <tr>\n",
       "      <th>mean</th>\n",
       "      <td>7351.000000</td>\n",
       "    </tr>\n",
       "    <tr>\n",
       "      <th>std</th>\n",
       "      <td>4511.341264</td>\n",
       "    </tr>\n",
       "    <tr>\n",
       "      <th>min</th>\n",
       "      <td>4161.000000</td>\n",
       "    </tr>\n",
       "    <tr>\n",
       "      <th>25%</th>\n",
       "      <td>5756.000000</td>\n",
       "    </tr>\n",
       "    <tr>\n",
       "      <th>50%</th>\n",
       "      <td>7351.000000</td>\n",
       "    </tr>\n",
       "    <tr>\n",
       "      <th>75%</th>\n",
       "      <td>8946.000000</td>\n",
       "    </tr>\n",
       "    <tr>\n",
       "      <th>max</th>\n",
       "      <td>10541.000000</td>\n",
       "    </tr>\n",
       "  </tbody>\n",
       "</table>\n",
       "</div>"
      ],
      "text/plain": [
       "       Building Type\n",
       "count       2.000000\n",
       "mean     7351.000000\n",
       "std      4511.341264\n",
       "min      4161.000000\n",
       "25%      5756.000000\n",
       "50%      7351.000000\n",
       "75%      8946.000000\n",
       "max     10541.000000"
      ]
     },
     "execution_count": 75,
     "metadata": {},
     "output_type": "execute_result"
    },
    {
     "data": {
      "image/png": "[encoded data removed]",
      "text/plain": [
       "<Figure size 432x288 with 1 Axes>"
      ]
     },
     "metadata": {
      "needs_background": "light"
     },
     "output_type": "display_data"
    }
   ],
   "source": [
    "# Create a bar plot of Building Type and include a statistical analysis.\n",
    "ax = data['Building Type'].value_counts().plot(kind='bar', color='b')\n",
    "ax.set_xticklabels(['1-2-3 Family', 'Other'],rotation=360)\n",
    "ax.set_title('Building permits based on the building type')\n",
    "ax.set_ylabel('Number of approved permits')\n",
    "pd.DataFrame(data['Building Type'].value_counts().describe())"
   ]
  },
  {
   "cell_type": "code",
   "execution_count": 76,
   "metadata": {
    "scrolled": true
   },
   "outputs": [
    {
     "data": {
      "image/png": "[encoded data removed]",
      "text/plain": [
       "<Figure size 432x288 with 1 Axes>"
      ]
     },
     "metadata": {
      "needs_background": "light"
     },
     "output_type": "display_data"
    }
   ],
   "source": [
    "# Create a boxplot of Building Type Duration.\n",
    "ax = data.boxplot(column=['Duration'], by=['Building Type'])\n",
    "ax.set_title('Duration of approval based on types of buildings')\n",
    "ax.set_xlabel('')\n",
    "ax.set_ylabel('Days')\n",
    "ax.set_yscale('log')\n",
    "plt.suptitle('')\n",
    "ax.grid(False)\n"
   ]
  },
  {
   "cell_type": "code",
   "execution_count": 77,
   "metadata": {
    "scrolled": true
   },
   "outputs": [
    {
     "data": {
      "image/png": "[encoded data removed]",
      "text/plain": [
       "<Figure size 432x288 with 1 Axes>"
      ]
     },
     "metadata": {
      "needs_background": "light"
     },
     "output_type": "display_data"
    }
   ],
   "source": [
    "# Create a histogram of Efiling and include a statistical analysis.\n",
    "ax = data['Efiling Filed'].value_counts().plot(kind='bar', color='g')\n",
    "ax.set_xticklabels(['Yes','No'],rotation=360)\n",
    "ax.set_title('Building permits based on the e-filing')\n",
    "ax.set_ylabel('Number of approved permits')\n",
    "pd.DataFrame(data['Efiling Filed'].value_counts().describe())\n",
    "plt.tight_layout()"
   ]
  },
  {
   "cell_type": "code",
   "execution_count": 78,
   "metadata": {
    "scrolled": true
   },
   "outputs": [
    {
     "data": {
      "image/png": "[encoded data removed]",
      "text/plain": [
       "<Figure size 432x288 with 1 Axes>"
      ]
     },
     "metadata": {
      "needs_background": "light"
     },
     "output_type": "display_data"
    }
   ],
   "source": [
    "ax = data.boxplot(column=['Duration'], by=['Efiling Filed'])\n",
    "ax.set_title('')\n",
    "ax.set_ylabel('Days')\n",
    "ax.set_xlabel('E-filing filder (Yes/No)')\n",
    "ax.set_xticklabels(['No','Yes'])\n",
    "ax.set_yscale('log')\n",
    "plt.suptitle('')\n",
    "ax.grid(False)\n",
    "pd.DataFrame(data.groupby(['Efiling Filed'])['Duration'].describe())\n",
    "plt.tight_layout()"
   ]
  },
  {
   "cell_type": "code",
   "execution_count": 79,
   "metadata": {},
   "outputs": [
    {
     "data": {
      "text/html": [
       "<div>\n",
       "<style scoped>\n",
       "    .dataframe tbody tr th:only-of-type {\n",
       "        vertical-align: middle;\n",
       "    }\n",
       "\n",
       "    .dataframe tbody tr th {\n",
       "        vertical-align: top;\n",
       "    }\n",
       "\n",
       "    .dataframe thead th {\n",
       "        text-align: right;\n",
       "    }\n",
       "</style>\n",
       "<table border=\"1\" class=\"dataframe\">\n",
       "  <thead>\n",
       "    <tr style=\"text-align: right;\">\n",
       "      <th></th>\n",
       "      <th>count</th>\n",
       "      <th>mean</th>\n",
       "      <th>std</th>\n",
       "      <th>min</th>\n",
       "      <th>25%</th>\n",
       "      <th>50%</th>\n",
       "      <th>75%</th>\n",
       "      <th>max</th>\n",
       "    </tr>\n",
       "    <tr>\n",
       "      <th>Applicant Professional Title</th>\n",
       "      <th></th>\n",
       "      <th></th>\n",
       "      <th></th>\n",
       "      <th></th>\n",
       "      <th></th>\n",
       "      <th></th>\n",
       "      <th></th>\n",
       "      <th></th>\n",
       "    </tr>\n",
       "  </thead>\n",
       "  <tbody>\n",
       "    <tr>\n",
       "      <th>PE</th>\n",
       "      <td>3725.0</td>\n",
       "      <td>142.479195</td>\n",
       "      <td>234.979307</td>\n",
       "      <td>1.0</td>\n",
       "      <td>22.0</td>\n",
       "      <td>66.0</td>\n",
       "      <td>166.0</td>\n",
       "      <td>4959.0</td>\n",
       "    </tr>\n",
       "    <tr>\n",
       "      <th>RA</th>\n",
       "      <td>10977.0</td>\n",
       "      <td>173.776168</td>\n",
       "      <td>269.749985</td>\n",
       "      <td>1.0</td>\n",
       "      <td>25.0</td>\n",
       "      <td>87.0</td>\n",
       "      <td>208.0</td>\n",
       "      <td>4032.0</td>\n",
       "    </tr>\n",
       "  </tbody>\n",
       "</table>\n",
       "</div>"
      ],
      "text/plain": [
       "                                count        mean         std  min   25%  \\\n",
       "Applicant Professional Title                                               \n",
       "PE                             3725.0  142.479195  234.979307  1.0  22.0   \n",
       "RA                            10977.0  173.776168  269.749985  1.0  25.0   \n",
       "\n",
       "                               50%    75%     max  \n",
       "Applicant Professional Title                       \n",
       "PE                            66.0  166.0  4959.0  \n",
       "RA                            87.0  208.0  4032.0  "
      ]
     },
     "execution_count": 79,
     "metadata": {},
     "output_type": "execute_result"
    },
    {
     "data": {
      "image/png": "[encoded data removed]",
      "text/plain": [
       "<Figure size 432x288 with 1 Axes>"
      ]
     },
     "metadata": {
      "needs_background": "light"
     },
     "output_type": "display_data"
    }
   ],
   "source": [
    "# Create a bar chart of Professional Title and include a statistical analysis.\n",
    "ax = data['Applicant Professional Title'].value_counts().plot(kind='bar', color='g')\n",
    "ax.set_xticklabels(['Professional Engineer','Registered Architect'],rotation=360)\n",
    "ax.set_title('Number of applications based on the professional title')\n",
    "pd.DataFrame(data.groupby('Applicant Professional Title')['Duration'].describe())"
   ]
  },
  {
   "cell_type": "code",
   "execution_count": 80,
   "metadata": {},
   "outputs": [
    {
     "data": {
      "image/png": "[encoded data removed]",
      "text/plain": [
       "<Figure size 432x288 with 1 Axes>"
      ]
     },
     "metadata": {
      "needs_background": "light"
     },
     "output_type": "display_data"
    }
   ],
   "source": [
    "# Boxplot of Duration based on the applicants' professional title.\n",
    "ax = data.boxplot(column=['Duration'], by=['Applicant Professional Title'])\n",
    "ax.set_xticklabels(['Professional Engineer','Registered Architect'])\n",
    "plt.suptitle('')\n",
    "ax.set_title(\"Duration based on applicant's professional title\")\n",
    "ax.set_xlabel('')\n",
    "ax.set_ylabel('Days')\n",
    "ax.set_yscale('log')\n",
    "\n",
    "ax.grid(False)\n",
    "plt.tight_layout()"
   ]
  },
  {
   "cell_type": "code",
   "execution_count": 81,
   "metadata": {
    "scrolled": true
   },
   "outputs": [
    {
     "data": {
      "text/html": [
       "<div>\n",
       "<style scoped>\n",
       "    .dataframe tbody tr th:only-of-type {\n",
       "        vertical-align: middle;\n",
       "    }\n",
       "\n",
       "    .dataframe tbody tr th {\n",
       "        vertical-align: top;\n",
       "    }\n",
       "\n",
       "    .dataframe thead th {\n",
       "        text-align: right;\n",
       "    }\n",
       "</style>\n",
       "<table border=\"1\" class=\"dataframe\">\n",
       "  <thead>\n",
       "    <tr style=\"text-align: right;\">\n",
       "      <th></th>\n",
       "      <th>count</th>\n",
       "      <th>mean</th>\n",
       "      <th>std</th>\n",
       "      <th>min</th>\n",
       "      <th>25%</th>\n",
       "      <th>50%</th>\n",
       "      <th>75%</th>\n",
       "      <th>max</th>\n",
       "    </tr>\n",
       "    <tr>\n",
       "      <th>Professional Cert</th>\n",
       "      <th></th>\n",
       "      <th></th>\n",
       "      <th></th>\n",
       "      <th></th>\n",
       "      <th></th>\n",
       "      <th></th>\n",
       "      <th></th>\n",
       "      <th></th>\n",
       "    </tr>\n",
       "  </thead>\n",
       "  <tbody>\n",
       "    <tr>\n",
       "      <th>N</th>\n",
       "      <td>9371.0</td>\n",
       "      <td>225.453634</td>\n",
       "      <td>286.247255</td>\n",
       "      <td>1.0</td>\n",
       "      <td>71.0</td>\n",
       "      <td>138.0</td>\n",
       "      <td>266.0</td>\n",
       "      <td>4959.0</td>\n",
       "    </tr>\n",
       "    <tr>\n",
       "      <th>Y</th>\n",
       "      <td>5331.0</td>\n",
       "      <td>61.067342</td>\n",
       "      <td>166.318862</td>\n",
       "      <td>1.0</td>\n",
       "      <td>3.0</td>\n",
       "      <td>13.0</td>\n",
       "      <td>42.0</td>\n",
       "      <td>2589.0</td>\n",
       "    </tr>\n",
       "  </tbody>\n",
       "</table>\n",
       "</div>"
      ],
      "text/plain": [
       "                    count        mean         std  min   25%    50%    75%  \\\n",
       "Professional Cert                                                            \n",
       "N                  9371.0  225.453634  286.247255  1.0  71.0  138.0  266.0   \n",
       "Y                  5331.0   61.067342  166.318862  1.0   3.0   13.0   42.0   \n",
       "\n",
       "                      max  \n",
       "Professional Cert          \n",
       "N                  4959.0  \n",
       "Y                  2589.0  "
      ]
     },
     "execution_count": 81,
     "metadata": {},
     "output_type": "execute_result"
    },
    {
     "data": {
      "image/png": "[encoded data removed]",
      "text/plain": [
       "<Figure size 432x288 with 1 Axes>"
      ]
     },
     "metadata": {
      "needs_background": "light"
     },
     "output_type": "display_data"
    }
   ],
   "source": [
    "# Bar chart indicating whether or not the application was submitted as \n",
    "# Professionally Certified by a Professional Engineer (PE) or Registered Architect (RA).\n",
    "ax = data['Professional Cert'].value_counts().plot(kind='bar', color='g')\n",
    "ax.set_xticklabels(['No','Yes'],rotation=360)\n",
    "ax.set_title('Applications were professionally certified')\n",
    "ax.set_ylabel('Number of applications')\n",
    "pd.DataFrame(data.groupby('Professional Cert')['Duration'].describe())\n"
   ]
  },
  {
   "cell_type": "code",
   "execution_count": 82,
   "metadata": {
    "scrolled": true
   },
   "outputs": [
    {
     "data": {
      "image/png": "[encoded data removed]",
      "text/plain": [
       "<Figure size 432x288 with 1 Axes>"
      ]
     },
     "metadata": {
      "needs_background": "light"
     },
     "output_type": "display_data"
    }
   ],
   "source": [
    "# Boxplot of Duration based on wheather or not the applications were professionally certified.\n",
    "ax = data.boxplot(column=['Duration'], by=['Professional Cert'])\n",
    "ax.set_xticklabels(['Not certified','Certified'])\n",
    "plt.suptitle('')\n",
    "ax.set_title(\"Duration based on the professional certification of applications\")\n",
    "ax.set_xlabel('')\n",
    "ax.set_ylabel('Days')\n",
    "ax.set_yscale('log')\n",
    "ax.grid(False)\n",
    "plt.tight_layout()"
   ]
  },
  {
   "cell_type": "code",
   "execution_count": 83,
   "metadata": {},
   "outputs": [
    {
     "data": {
      "image/png": "[encoded data removed]",
      "text/plain": [
       "<Figure size 432x288 with 1 Axes>"
      ]
     },
     "metadata": {
      "needs_background": "light"
     },
     "output_type": "display_data"
    }
   ],
   "source": [
    "# Bar chart indicating whether or not the application was submitted as \n",
    "# Professionally Certified by a Professional Engineer (PE) or Registered Architect (RA).\n",
    "ax = data['Professional Cert'].value_counts().plot(kind='bar', color='g')\n",
    "ax.set_xticklabels(['No','Yes'],rotation=360)\n",
    "ax.set_title('Applications were professionally certified')\n",
    "ax.set_ylabel('Number of applications')\n",
    "pd.DataFrame(data.groupby('Professional Cert')['Duration'].describe())\n",
    "plt.tight_layout()\n",
    "\n",
    "# DELETE THIS"
   ]
  },
  {
   "cell_type": "code",
   "execution_count": 84,
   "metadata": {
    "scrolled": true
   },
   "outputs": [
    {
     "data": {
      "image/png": "[encoded data removed]",
      "text/plain": [
       "<Figure size 432x288 with 1 Axes>"
      ]
     },
     "metadata": {
      "needs_background": "light"
     },
     "output_type": "display_data"
    }
   ],
   "source": [
    "# Histogram of building permit fee () \n",
    "ax = data['Total Est. Fee'].hist(bins=30, range=(0,3500))\n",
    "ax.set_title('Esimated building permit fees (USD)')\n",
    "ax.set_xlabel('Building permit fee (USD)')\n",
    "ax.grid(False)\n",
    "pd.DataFrame((data['Total Est. Fee']).describe()).round(1)\n",
    "plt.tight_layout()"
   ]
  },
  {
   "cell_type": "markdown",
   "metadata": {},
   "source": [
    "#### Add a scatter plot building permit fee vs duration and the corr value"
   ]
  },
  {
   "cell_type": "code",
   "execution_count": 85,
   "metadata": {
    "scrolled": true
   },
   "outputs": [
    {
     "data": {
      "image/png": "[encoded data removed]",
      "text/plain": [
       "<Figure size 432x288 with 1 Axes>"
      ]
     },
     "metadata": {
      "needs_background": "light"
     },
     "output_type": "display_data"
    }
   ],
   "source": [
    "# Boxplot of building permit fee (estimated) in each borough.\n",
    "ax = sns.boxplot(data=data,x='Borough',y='Total Est. Fee')\n",
    "ax.set_ylabel('Estimated building permit fee (USD)')\n",
    "plt.ylim(0,650000)\n",
    "ax.set_xlabel('')\n",
    "# ax.set_yscale('log') convert to log \n",
    "\n",
    "plt.tight_layout()"
   ]
  },
  {
   "cell_type": "code",
   "execution_count": 86,
   "metadata": {},
   "outputs": [
    {
     "name": "stderr",
     "output_type": "stream",
     "text": [
      "/Users/anushavan/anaconda3/lib/python3.7/site-packages/scipy/stats/stats.py:1713: FutureWarning: Using a non-tuple sequence for multidimensional indexing is deprecated; use `arr[tuple(seq)]` instead of `arr[seq]`. In the future this will be interpreted as an array index, `arr[np.array(seq)]`, which will result either in an error or a different result.\n",
      "  return np.add.reduce(sorted[indexer] * weights, axis=axis) / sumval\n"
     ]
    },
    {
     "data": {
      "image/png": "[encoded data removed]",
      "text/plain": [
       "<Figure size 360x360 with 1 Axes>"
      ]
     },
     "metadata": {
      "needs_background": "light"
     },
     "output_type": "display_data"
    }
   ],
   "source": [
    "# scatterplot of building permit fee and Duration. \n",
    "\n",
    "sns.lmplot(x='Total Est. Fee', y='Duration', data=data)\n",
    "plt.xlim(0,450000)\n",
    "plt.ylim(0,5080)\n",
    "plt.xticks(rotation=60)\n",
    "plt.tight_layout()\n",
    "\n",
    "# corr(data['Total Est. Fee'], data['Duration'])"
   ]
  },
  {
   "cell_type": "code",
   "execution_count": 87,
   "metadata": {},
   "outputs": [
    {
     "name": "stderr",
     "output_type": "stream",
     "text": [
      "/Users/anushavan/anaconda3/lib/python3.7/site-packages/scipy/stats/stats.py:1713: FutureWarning: Using a non-tuple sequence for multidimensional indexing is deprecated; use `arr[tuple(seq)]` instead of `arr[seq]`. In the future this will be interpreted as an array index, `arr[np.array(seq)]`, which will result either in an error or a different result.\n",
      "  return np.add.reduce(sorted[indexer] * weights, axis=axis) / sumval\n"
     ]
    },
    {
     "data": {
      "text/plain": [
       "Text(0.5,1,'Proposed zoning area and the approval duration')"
      ]
     },
     "execution_count": 87,
     "metadata": {},
     "output_type": "execute_result"
    },
    {
     "data": {
      "image/png": "[encoded data removed]",
      "text/plain": [
       "<Figure size 432x288 with 2 Axes>"
      ]
     },
     "metadata": {
      "needs_background": "light"
     },
     "output_type": "display_data"
    },
    {
     "data": {
      "image/png": "[encoded data removed]",
      "text/plain": [
       "<Figure size 360x360 with 1 Axes>"
      ]
     },
     "metadata": {
      "needs_background": "light"
     },
     "output_type": "display_data"
    }
   ],
   "source": [
    "# Histogram of Proposed Zoning square footage. \n",
    "fig, ax = plt.subplots(2,1)\n",
    "\n",
    "plt.subplot(2,1,1)\n",
    "ax = data['Proposed Zoning Sqft'].hist(bins=30, range=(0,3000), color='orange')\n",
    "ax.set_title('Proposed Zoning square footage')\n",
    "# ax.set_xlabel('Square feet')\n",
    "ax.grid(False)\n",
    "pd.DataFrame((data['Proposed Zoning Sqft']).describe()).round(1)\n",
    "\n",
    "plt.subplot(2,1,2)\n",
    "ax1 = data['Proposed Zoning Sqft'].hist(bins=30, range=(100,3000))\n",
    "ax1.set_title('Proposed Zoning square footage - excluding 0s')\n",
    "ax1.set_xlabel('Square feet')\n",
    "ax1.grid(False)\n",
    "plt.tight_layout()\n",
    "\n",
    "# scatterplot of proposed zoning square feet vs Duration.\n",
    "sns.lmplot(x='Proposed Zoning Sqft', y='Duration', data=data)\n",
    "plt.tight_layout()\n",
    "# plt.xscale('log')\n",
    "plt.ylim(0,5000)\n",
    "plt.xticks(rotation=60)\n",
    "plt.title('Proposed zoning area and the approval duration')"
   ]
  },
  {
   "cell_type": "code",
   "execution_count": 88,
   "metadata": {},
   "outputs": [
    {
     "data": {
      "image/png": "[encoded data removed]",
      "text/plain": [
       "<Figure size 432x288 with 1 Axes>"
      ]
     },
     "metadata": {
      "needs_background": "light"
     },
     "output_type": "display_data"
    }
   ],
   "source": [
    "# Histogram of Proposed No. Of Stories. \n",
    "\n",
    "# DO A BAR PLOT INSTEAD OF HIST\n",
    "\n",
    "ax = data['Proposed No. Of Stories'].hist(bins=30, range=(0,25))\n",
    "ax.set_title('Proposed No. Of Stories')\n",
    "ax.set_xlabel('')\n",
    "ax.grid(False)\n",
    "pd.DataFrame((data['Proposed No. Of Stories']).describe()).round(1)\n",
    "plt.tight_layout()"
   ]
  },
  {
   "cell_type": "code",
   "execution_count": 89,
   "metadata": {},
   "outputs": [
    {
     "data": {
      "image/png": "[encoded data removed]",
      "text/plain": [
       "<Figure size 432x288 with 1 Axes>"
      ]
     },
     "metadata": {
      "needs_background": "light"
     },
     "output_type": "display_data"
    }
   ],
   "source": [
    "# Boxplot of Proposed No. Of Stories in each borough. \n",
    "ax = sns.boxplot(data=data,x='Borough', y='Proposed No. Of Stories')\n",
    "ax.set(ylim=(0,110))\n",
    "ax.set_xlabel('')\n",
    "plt.tight_layout()"
   ]
  },
  {
   "cell_type": "code",
   "execution_count": 90,
   "metadata": {},
   "outputs": [
    {
     "name": "stderr",
     "output_type": "stream",
     "text": [
      "/Users/anushavan/anaconda3/lib/python3.7/site-packages/scipy/stats/stats.py:1713: FutureWarning: Using a non-tuple sequence for multidimensional indexing is deprecated; use `arr[tuple(seq)]` instead of `arr[seq]`. In the future this will be interpreted as an array index, `arr[np.array(seq)]`, which will result either in an error or a different result.\n",
      "  return np.add.reduce(sorted[indexer] * weights, axis=axis) / sumval\n"
     ]
    },
    {
     "data": {
      "text/plain": [
       "Text(-2.45,0.5,'Duration (days)')"
      ]
     },
     "execution_count": 90,
     "metadata": {},
     "output_type": "execute_result"
    },
    {
     "data": {
      "image/png": "[encoded data removed]",
      "text/plain": [
       "<Figure size 360x360 with 1 Axes>"
      ]
     },
     "metadata": {
      "needs_background": "light"
     },
     "output_type": "display_data"
    }
   ],
   "source": [
    "# scatterplot of proposed number of stories and duration.\n",
    "\n",
    "sns.lmplot(x='Proposed No. Of Stories', y='Duration', data=data)\n",
    "plt.title('Proposed number of stories and the duration of approval')\n",
    "plt.ylabel('Duration (days)')"
   ]
  },
  {
   "cell_type": "code",
   "execution_count": 91,
   "metadata": {},
   "outputs": [
    {
     "data": {
      "image/png": "[encoded data removed]",
      "text/plain": [
       "<Figure size 432x288 with 1 Axes>"
      ]
     },
     "metadata": {
      "needs_background": "light"
     },
     "output_type": "display_data"
    }
   ],
   "source": [
    "# Histogram of Proposed Height. \n",
    "ax = data['Proposed Height'].hist(bins=30, range=(0,220))\n",
    "ax.set_title('Proposed Height')\n",
    "ax.set_xlabel('Proposed Height (in feet)')\n",
    "ax.grid(False)\n",
    "pd.DataFrame((data['Proposed Height']).describe()).round(1)\n",
    "plt.tight_layout()"
   ]
  },
  {
   "cell_type": "code",
   "execution_count": 92,
   "metadata": {},
   "outputs": [
    {
     "data": {
      "image/png": "[encoded data removed]",
      "text/plain": [
       "<Figure size 432x288 with 1 Axes>"
      ]
     },
     "metadata": {
      "needs_background": "light"
     },
     "output_type": "display_data"
    }
   ],
   "source": [
    "# Boxplot of Proposed Height in each borough. \n",
    "ax = sns.boxplot(data=data,x='Borough', y='Proposed Height')\n",
    "ax.set(ylim=(0,1800))\n",
    "ax.set_xlabel('')\n",
    "ax.set_ylabel('Proposed Height (in feet)')\n",
    "ax.set_title('Proposed Height in each borough')\n",
    "plt.tight_layout()"
   ]
  },
  {
   "cell_type": "code",
   "execution_count": 93,
   "metadata": {},
   "outputs": [
    {
     "name": "stderr",
     "output_type": "stream",
     "text": [
      "/Users/anushavan/anaconda3/lib/python3.7/site-packages/scipy/stats/stats.py:1713: FutureWarning: Using a non-tuple sequence for multidimensional indexing is deprecated; use `arr[tuple(seq)]` instead of `arr[seq]`. In the future this will be interpreted as an array index, `arr[np.array(seq)]`, which will result either in an error or a different result.\n",
      "  return np.add.reduce(sorted[indexer] * weights, axis=axis) / sumval\n"
     ]
    },
    {
     "data": {
      "text/plain": [
       "(0, 5100)"
      ]
     },
     "execution_count": 93,
     "metadata": {},
     "output_type": "execute_result"
    },
    {
     "data": {
      "image/png": "[encoded data removed]",
      "text/plain": [
       "<Figure size 360x360 with 1 Axes>"
      ]
     },
     "metadata": {
      "needs_background": "light"
     },
     "output_type": "display_data"
    }
   ],
   "source": [
    "# scatterplot of proposed height and duration.\n",
    "\n",
    "sns.lmplot(x='Proposed Height', y='Duration', data=data)\n",
    "plt.title('Proposed Height and the duration of approval')\n",
    "plt.ylabel('Duration (days)')\n",
    "plt.ylim(0,5100)"
   ]
  },
  {
   "cell_type": "code",
   "execution_count": 94,
   "metadata": {
    "scrolled": true
   },
   "outputs": [
    {
     "data": {
      "text/html": [
       "<div>\n",
       "<style scoped>\n",
       "    .dataframe tbody tr th:only-of-type {\n",
       "        vertical-align: middle;\n",
       "    }\n",
       "\n",
       "    .dataframe tbody tr th {\n",
       "        vertical-align: top;\n",
       "    }\n",
       "\n",
       "    .dataframe thead th {\n",
       "        text-align: right;\n",
       "    }\n",
       "</style>\n",
       "<table border=\"1\" class=\"dataframe\">\n",
       "  <thead>\n",
       "    <tr style=\"text-align: right;\">\n",
       "      <th></th>\n",
       "      <th>Proposed Dwelling Units</th>\n",
       "    </tr>\n",
       "  </thead>\n",
       "  <tbody>\n",
       "    <tr>\n",
       "      <th>count</th>\n",
       "      <td>12539.0</td>\n",
       "    </tr>\n",
       "    <tr>\n",
       "      <th>mean</th>\n",
       "      <td>9.7</td>\n",
       "    </tr>\n",
       "    <tr>\n",
       "      <th>std</th>\n",
       "      <td>40.8</td>\n",
       "    </tr>\n",
       "    <tr>\n",
       "      <th>min</th>\n",
       "      <td>0.0</td>\n",
       "    </tr>\n",
       "    <tr>\n",
       "      <th>25%</th>\n",
       "      <td>1.0</td>\n",
       "    </tr>\n",
       "    <tr>\n",
       "      <th>50%</th>\n",
       "      <td>2.0</td>\n",
       "    </tr>\n",
       "    <tr>\n",
       "      <th>75%</th>\n",
       "      <td>3.0</td>\n",
       "    </tr>\n",
       "    <tr>\n",
       "      <th>max</th>\n",
       "      <td>1028.0</td>\n",
       "    </tr>\n",
       "  </tbody>\n",
       "</table>\n",
       "</div>"
      ],
      "text/plain": [
       "       Proposed Dwelling Units\n",
       "count                  12539.0\n",
       "mean                       9.7\n",
       "std                       40.8\n",
       "min                        0.0\n",
       "25%                        1.0\n",
       "50%                        2.0\n",
       "75%                        3.0\n",
       "max                     1028.0"
      ]
     },
     "execution_count": 94,
     "metadata": {},
     "output_type": "execute_result"
    },
    {
     "data": {
      "image/png": "[encoded data removed]",
      "text/plain": [
       "<Figure size 432x288 with 2 Axes>"
      ]
     },
     "metadata": {
      "needs_background": "light"
     },
     "output_type": "display_data"
    }
   ],
   "source": [
    "# Histogram of Proposed Height. \n",
    "fig,ax = plt.subplots(2,1, sharey=True)\n",
    "plt.subplot(2,1,1)\n",
    "ax = data['Proposed Dwelling Units'].hist(bins=30, color='gold')\n",
    "ax.set_title('Proposed Dwelling Units')\n",
    "# ax.set_xlabel('Proposed Dwelling Units (Number)')\n",
    "ax.grid(False)\n",
    "\n",
    "plt.subplot(2,1,2)\n",
    "ax1 = data['Proposed Dwelling Units'].hist(bins=30, range=(0,25))\n",
    "ax1.set_title('Proposed Dwelling Units (subset between 0 and 25)')\n",
    "ax1.set_xlabel('Proposed Dwelling Units (Number)')\n",
    "ax1.grid(False)\n",
    "\n",
    "plt.tight_layout()\n",
    "pd.DataFrame((data['Proposed Dwelling Units']).describe()).round(1)"
   ]
  },
  {
   "cell_type": "code",
   "execution_count": 95,
   "metadata": {},
   "outputs": [
    {
     "data": {
      "image/png": "[encoded data removed]",
      "text/plain": [
       "<Figure size 432x288 with 1 Axes>"
      ]
     },
     "metadata": {
      "needs_background": "light"
     },
     "output_type": "display_data"
    }
   ],
   "source": [
    "# Boxplot of Proposed Dwelling Units in each borough. \n",
    "ax = sns.boxplot(data=data,x='Borough', y='Proposed Dwelling Units')\n",
    "ax.set(ylim=(0,1800))\n",
    "ax.set_xlabel('')\n",
    "ax.set_ylabel('Proposed Dwelling Units (number)')\n",
    "ax.set_title('Proposed Dwelling Units in each borough')\n",
    "plt.tight_layout()"
   ]
  },
  {
   "cell_type": "code",
   "execution_count": 96,
   "metadata": {
    "scrolled": true
   },
   "outputs": [
    {
     "name": "stderr",
     "output_type": "stream",
     "text": [
      "/Users/anushavan/anaconda3/lib/python3.7/site-packages/scipy/stats/stats.py:1713: FutureWarning: Using a non-tuple sequence for multidimensional indexing is deprecated; use `arr[tuple(seq)]` instead of `arr[seq]`. In the future this will be interpreted as an array index, `arr[np.array(seq)]`, which will result either in an error or a different result.\n",
      "  return np.add.reduce(sorted[indexer] * weights, axis=axis) / sumval\n"
     ]
    },
    {
     "data": {
      "text/plain": [
       "(0, 2000)"
      ]
     },
     "execution_count": 96,
     "metadata": {},
     "output_type": "execute_result"
    },
    {
     "data": {
      "image/png": "[encoded data removed]",
      "text/plain": [
       "<Figure size 360x360 with 1 Axes>"
      ]
     },
     "metadata": {
      "needs_background": "light"
     },
     "output_type": "display_data"
    }
   ],
   "source": [
    "# scatterplot of proposed dwelling units and duration.\n",
    "\n",
    "sns.lmplot(x='Proposed Dwelling Units', y='Duration', data=data)\n",
    "plt.title('Proposed Dwelling Units and the duration of approval')\n",
    "plt.ylabel('Duration (days)')\n",
    "plt.ylim(0,5100)\n",
    "plt.xlim(0,2000)"
   ]
  },
  {
   "cell_type": "code",
   "execution_count": 97,
   "metadata": {},
   "outputs": [
    {
     "data": {
      "text/html": [
       "<div>\n",
       "<style scoped>\n",
       "    .dataframe tbody tr th:only-of-type {\n",
       "        vertical-align: middle;\n",
       "    }\n",
       "\n",
       "    .dataframe tbody tr th {\n",
       "        vertical-align: top;\n",
       "    }\n",
       "\n",
       "    .dataframe thead th {\n",
       "        text-align: right;\n",
       "    }\n",
       "</style>\n",
       "<table border=\"1\" class=\"dataframe\">\n",
       "  <thead>\n",
       "    <tr style=\"text-align: right;\">\n",
       "      <th></th>\n",
       "      <th>Borough</th>\n",
       "      <th>Building Type</th>\n",
       "      <th>Efiling Filed</th>\n",
       "      <th>Applicant Professional Title</th>\n",
       "      <th>Professional Cert</th>\n",
       "      <th>Fully Paid</th>\n",
       "      <th>Approved</th>\n",
       "      <th>Total Est. Fee</th>\n",
       "      <th>Proposed Zoning Sqft</th>\n",
       "      <th>Proposed No. Of Stories</th>\n",
       "      <th>...</th>\n",
       "      <th>Proposed Occupancy</th>\n",
       "      <th>Zoning Dist1</th>\n",
       "      <th>Zoning Dist2</th>\n",
       "      <th>Zoning Dist3</th>\n",
       "      <th>Special District 1</th>\n",
       "      <th>Special District 2</th>\n",
       "      <th>Non-Profit</th>\n",
       "      <th>Total_Construction_Floor_Area</th>\n",
       "      <th>Signoff_Date</th>\n",
       "      <th>Duration</th>\n",
       "    </tr>\n",
       "  </thead>\n",
       "  <tbody>\n",
       "    <tr>\n",
       "      <th>57618</th>\n",
       "      <td>BROOKLYN</td>\n",
       "      <td>OTHERS</td>\n",
       "      <td>Y</td>\n",
       "      <td>RA</td>\n",
       "      <td>N</td>\n",
       "      <td>2012-11-05</td>\n",
       "      <td>2013-07-23</td>\n",
       "      <td>4476.52</td>\n",
       "      <td>12228</td>\n",
       "      <td>4</td>\n",
       "      <td>...</td>\n",
       "      <td>B</td>\n",
       "      <td>R7A</td>\n",
       "      <td>NaN</td>\n",
       "      <td>NaN</td>\n",
       "      <td>NaN</td>\n",
       "      <td>NaN</td>\n",
       "      <td>Y</td>\n",
       "      <td>14111</td>\n",
       "      <td>NaT</td>\n",
       "      <td>260.0</td>\n",
       "    </tr>\n",
       "    <tr>\n",
       "      <th>70713</th>\n",
       "      <td>QUEENS</td>\n",
       "      <td>1-2-3 FAMILY</td>\n",
       "      <td>Y</td>\n",
       "      <td>RA</td>\n",
       "      <td>N</td>\n",
       "      <td>2013-07-24</td>\n",
       "      <td>2013-10-25</td>\n",
       "      <td>977.00</td>\n",
       "      <td>4164</td>\n",
       "      <td>2</td>\n",
       "      <td>...</td>\n",
       "      <td>R-3</td>\n",
       "      <td>R4A</td>\n",
       "      <td>NaN</td>\n",
       "      <td>NaN</td>\n",
       "      <td>NaN</td>\n",
       "      <td>NaN</td>\n",
       "      <td>N</td>\n",
       "      <td>5475</td>\n",
       "      <td>2016-08-01</td>\n",
       "      <td>93.0</td>\n",
       "    </tr>\n",
       "  </tbody>\n",
       "</table>\n",
       "<p>2 rows × 22 columns</p>\n",
       "</div>"
      ],
      "text/plain": [
       "        Borough Building Type Efiling Filed Applicant Professional Title  \\\n",
       "57618  BROOKLYN        OTHERS             Y                           RA   \n",
       "70713    QUEENS  1-2-3 FAMILY             Y                           RA   \n",
       "\n",
       "      Professional Cert Fully Paid   Approved  Total Est. Fee  \\\n",
       "57618                 N 2012-11-05 2013-07-23         4476.52   \n",
       "70713                 N 2013-07-24 2013-10-25          977.00   \n",
       "\n",
       "       Proposed Zoning Sqft  Proposed No. Of Stories    ...     \\\n",
       "57618                 12228                        4    ...      \n",
       "70713                  4164                        2    ...      \n",
       "\n",
       "       Proposed Occupancy  Zoning Dist1 Zoning Dist2 Zoning Dist3  \\\n",
       "57618                   B           R7A          NaN          NaN   \n",
       "70713                 R-3           R4A          NaN          NaN   \n",
       "\n",
       "      Special District 1 Special District 2 Non-Profit  \\\n",
       "57618                NaN                NaN          Y   \n",
       "70713                NaN                NaN          N   \n",
       "\n",
       "      Total_Construction_Floor_Area Signoff_Date  Duration  \n",
       "57618                         14111          NaT     260.0  \n",
       "70713                          5475   2016-08-01      93.0  \n",
       "\n",
       "[2 rows x 22 columns]"
      ]
     },
     "execution_count": 97,
     "metadata": {},
     "output_type": "execute_result"
    }
   ],
   "source": [
    "data.head(2)"
   ]
  },
  {
   "cell_type": "markdown",
   "metadata": {},
   "source": [
    "### Categorical variables that have multiple categories \n",
    "\n",
    "#### How to visualize the categorigal variables that have too many categories for a bar chart or box plot?\n",
    "\n",
    "Zoning, Special Districts and Proposed Occupany variables have multiple categoris each, ranging from 8 (Special District 2) to 43 (Proposed Occupancy) to 164 (Zoning Dist1) and anything in between. "
   ]
  },
  {
   "cell_type": "code",
   "execution_count": 98,
   "metadata": {},
   "outputs": [
    {
     "data": {
      "text/plain": [
       "array(['B', 'R-3', 'U', 'R-2', 'J-3', 'J-2', 'B-2', 'J-0', 'K', 'R-1',\n",
       "       'F-1B', 'M', 'S-1', 'I-2', 'S-2', 'RES', 'F-4', 'J-1', 'A-3',\n",
       "       'D-2', 'A-2', 'C', 'E', 'G', 'F-3', 'B-1', nan, 'COM', 'F-2',\n",
       "       'D-1', 'I-1', 'PUB', 'H-2', 'F-1', 'A-4', 'A-5', 'A', 'A-1',\n",
       "       'F-1A', 'H-1'], dtype=object)"
      ]
     },
     "execution_count": 98,
     "metadata": {},
     "output_type": "execute_result"
    }
   ],
   "source": [
    "data['Proposed Occupancy'].unique()"
   ]
  },
  {
   "cell_type": "code",
   "execution_count": 99,
   "metadata": {
    "scrolled": true
   },
   "outputs": [
    {
     "data": {
      "text/plain": [
       "Text(0,0.5,'Days')"
      ]
     },
     "execution_count": 99,
     "metadata": {},
     "output_type": "execute_result"
    },
    {
     "data": {
      "image/png": "[encoded data removed]",
      "text/plain": [
       "<Figure size 432x288 with 2 Axes>"
      ]
     },
     "metadata": {
      "needs_background": "light"
     },
     "output_type": "display_data"
    }
   ],
   "source": [
    "#bar chart of the Non-profit category.\n",
    "\n",
    "fig, (ax1,ax2) = plt.subplots(2, sharex=True)\n",
    "\n",
    "ngo=(data.groupby('Non-Profit')[['Approved','Duration']].\n",
    "agg({'Approved':'count', 'Duration':'mean'}))\n",
    "\n",
    "ax1.bar(ngo.index, ngo['Approved'], color='gold')\n",
    "ax1.set_title('Number of building permits approved')\n",
    "ax2.set_ylabel('Number of applications')\n",
    "\n",
    "ax2.bar(ngo.index, ngo['Duration'])\n",
    "ax2.set_title('Mean duration of the approval')\n",
    "ax2.set_xticklabels(['No','Yes'], rotation=360)\n",
    "ax2.set_ylabel('Days')\n",
    "\n",
    "# clarify the title and other a box plot.\n"
   ]
  },
  {
   "cell_type": "code",
   "execution_count": null,
   "metadata": {},
   "outputs": [],
   "source": []
  },
  {
   "cell_type": "code",
   "execution_count": 100,
   "metadata": {},
   "outputs": [
    {
     "data": {
      "text/html": [
       "<div>\n",
       "<style scoped>\n",
       "    .dataframe tbody tr th:only-of-type {\n",
       "        vertical-align: middle;\n",
       "    }\n",
       "\n",
       "    .dataframe tbody tr th {\n",
       "        vertical-align: top;\n",
       "    }\n",
       "\n",
       "    .dataframe thead th {\n",
       "        text-align: right;\n",
       "    }\n",
       "</style>\n",
       "<table border=\"1\" class=\"dataframe\">\n",
       "  <thead>\n",
       "    <tr style=\"text-align: right;\">\n",
       "      <th></th>\n",
       "      <th>Total_Construction_Floor_Area</th>\n",
       "    </tr>\n",
       "  </thead>\n",
       "  <tbody>\n",
       "    <tr>\n",
       "      <th>count</th>\n",
       "      <td>14702.0</td>\n",
       "    </tr>\n",
       "    <tr>\n",
       "      <th>mean</th>\n",
       "      <td>12901.0</td>\n",
       "    </tr>\n",
       "    <tr>\n",
       "      <th>std</th>\n",
       "      <td>55762.8</td>\n",
       "    </tr>\n",
       "    <tr>\n",
       "      <th>min</th>\n",
       "      <td>0.0</td>\n",
       "    </tr>\n",
       "    <tr>\n",
       "      <th>25%</th>\n",
       "      <td>2307.0</td>\n",
       "    </tr>\n",
       "    <tr>\n",
       "      <th>50%</th>\n",
       "      <td>3440.0</td>\n",
       "    </tr>\n",
       "    <tr>\n",
       "      <th>75%</th>\n",
       "      <td>5461.5</td>\n",
       "    </tr>\n",
       "    <tr>\n",
       "      <th>max</th>\n",
       "      <td>2318622.0</td>\n",
       "    </tr>\n",
       "  </tbody>\n",
       "</table>\n",
       "</div>"
      ],
      "text/plain": [
       "       Total_Construction_Floor_Area\n",
       "count                        14702.0\n",
       "mean                         12901.0\n",
       "std                          55762.8\n",
       "min                              0.0\n",
       "25%                           2307.0\n",
       "50%                           3440.0\n",
       "75%                           5461.5\n",
       "max                        2318622.0"
      ]
     },
     "execution_count": 100,
     "metadata": {},
     "output_type": "execute_result"
    },
    {
     "data": {
      "image/png": "[encoded data removed]",
      "text/plain": [
       "<Figure size 432x288 with 2 Axes>"
      ]
     },
     "metadata": {
      "needs_background": "light"
     },
     "output_type": "display_data"
    }
   ],
   "source": [
    "# Histogram of Total Construction Floor Area. \n",
    "\n",
    "fig,ax = plt.subplots(2,1)\n",
    "\n",
    "plt.subplot(2,1,1)\n",
    "ax = data['Total_Construction_Floor_Area'].hist(bins=30, color='orange')\n",
    "ax.set_title('Total_Construction_Floor_Area')\n",
    "# ax.set_xlabel('Total_Construction_Floor_Area (square feet)')\n",
    "ax.grid(False)\n",
    "\n",
    "plt.subplot(2,1,2)\n",
    "ax1 = data['Total_Construction_Floor_Area'].hist(bins=30,  range=(0,20000))\n",
    "ax1.set_title('Total Construction Floor Area - cap at 20,000 sqft')\n",
    "ax1.set_xlabel('Total Construction Floor Area (square feet)')\n",
    "ax1.grid(False)\n",
    "\n",
    "plt.tight_layout()\n",
    "pd.DataFrame((data['Total_Construction_Floor_Area']).describe()).round(1)\n"
   ]
  },
  {
   "cell_type": "code",
   "execution_count": 101,
   "metadata": {},
   "outputs": [
    {
     "name": "stderr",
     "output_type": "stream",
     "text": [
      "/Users/anushavan/anaconda3/lib/python3.7/site-packages/scipy/stats/stats.py:1713: FutureWarning: Using a non-tuple sequence for multidimensional indexing is deprecated; use `arr[tuple(seq)]` instead of `arr[seq]`. In the future this will be interpreted as an array index, `arr[np.array(seq)]`, which will result either in an error or a different result.\n",
      "  return np.add.reduce(sorted[indexer] * weights, axis=axis) / sumval\n"
     ]
    },
    {
     "data": {
      "text/plain": [
       "(0, 2000000)"
      ]
     },
     "execution_count": 101,
     "metadata": {},
     "output_type": "execute_result"
    },
    {
     "data": {
      "image/png": "[encoded data removed]",
      "text/plain": [
       "<Figure size 360x360 with 1 Axes>"
      ]
     },
     "metadata": {
      "needs_background": "light"
     },
     "output_type": "display_data"
    }
   ],
   "source": [
    "# scatterplot of Total construction floor area and duration.\n",
    "\n",
    "sns.lmplot(x='Total_Construction_Floor_Area', y='Duration', data=data)\n",
    "plt.title('Total construction floor area and the duration of approval')\n",
    "plt.ylabel('Duration (days)')\n",
    "plt.xlabel('Total Construction Floor Area (sqft)')\n",
    "plt.ylim(0,5100)\n",
    "plt.xticks(rotation=60)\n",
    "plt.xlim(0,2000000)"
   ]
  },
  {
   "cell_type": "markdown",
   "metadata": {},
   "source": [
    "### Further analysis of the dependent variable and explanatory variables.\n",
    "\n",
    "Heatmap of all variables and correlations."
   ]
  },
  {
   "cell_type": "code",
   "execution_count": 102,
   "metadata": {
    "scrolled": true
   },
   "outputs": [
    {
     "data": {
      "image/png": "[encoded data removed]",
      "text/plain": [
       "<Figure size 1296x1296 with 1 Axes>"
      ]
     },
     "metadata": {
      "needs_background": "light"
     },
     "output_type": "display_data"
    }
   ],
   "source": [
    "def plot_corr(df,size=10):\n",
    "    '''Function plots a graphical correlation matrix for each pair of columns in the \n",
    "    dataframe.\n",
    "\n",
    "    Input:\n",
    "        data: pandas DataFrame\n",
    "        size: vertical and horizontal size of the plot'''\n",
    "\n",
    "    corr = df.corr()\n",
    "    fig, ax = plt.subplots(figsize=(size, size))\n",
    "    ax.matshow(corr)\n",
    "    plt.xticks(range(len(corr.columns)), corr.columns);\n",
    "    plt.yticks(range(len(corr.columns)), corr.columns);\n",
    "#     plt.tight_layout()\n",
    "\n",
    "plot_corr(data, 18)"
   ]
  },
  {
   "cell_type": "code",
   "execution_count": 103,
   "metadata": {},
   "outputs": [
    {
     "data": {
      "text/plain": [
       "<matplotlib.axes._subplots.AxesSubplot at 0x1a1a9a1cc0>"
      ]
     },
     "execution_count": 103,
     "metadata": {},
     "output_type": "execute_result"
    },
    {
     "data": {
      "image/png": "[encoded data removed]",
      "text/plain": [
       "<Figure size 432x288 with 2 Axes>"
      ]
     },
     "metadata": {
      "needs_background": "light"
     },
     "output_type": "display_data"
    }
   ],
   "source": [
    "import seaborn as sns\n",
    "corr = data.corr()\n",
    "sns.heatmap(corr, \n",
    "            xticklabels=corr.columns.values,\n",
    "            yticklabels=corr.columns.values,\n",
    "            cmap=\"RdBu_r\")\n",
    "\n",
    "# sns.palplot(sns.diverging_palette(220, 20, n=7))\n"
   ]
  },
  {
   "cell_type": "code",
   "execution_count": 104,
   "metadata": {
    "scrolled": true
   },
   "outputs": [
    {
     "data": {
      "text/html": [
       "<div>\n",
       "<style scoped>\n",
       "    .dataframe tbody tr th:only-of-type {\n",
       "        vertical-align: middle;\n",
       "    }\n",
       "\n",
       "    .dataframe tbody tr th {\n",
       "        vertical-align: top;\n",
       "    }\n",
       "\n",
       "    .dataframe thead th {\n",
       "        text-align: right;\n",
       "    }\n",
       "</style>\n",
       "<table border=\"1\" class=\"dataframe\">\n",
       "  <thead>\n",
       "    <tr style=\"text-align: right;\">\n",
       "      <th></th>\n",
       "      <th>Duration</th>\n",
       "    </tr>\n",
       "  </thead>\n",
       "  <tbody>\n",
       "    <tr>\n",
       "      <th>count</th>\n",
       "      <td>14702.000000</td>\n",
       "    </tr>\n",
       "    <tr>\n",
       "      <th>mean</th>\n",
       "      <td>165.846551</td>\n",
       "    </tr>\n",
       "    <tr>\n",
       "      <th>std</th>\n",
       "      <td>261.724607</td>\n",
       "    </tr>\n",
       "    <tr>\n",
       "      <th>min</th>\n",
       "      <td>1.000000</td>\n",
       "    </tr>\n",
       "    <tr>\n",
       "      <th>25%</th>\n",
       "      <td>24.000000</td>\n",
       "    </tr>\n",
       "    <tr>\n",
       "      <th>50%</th>\n",
       "      <td>82.000000</td>\n",
       "    </tr>\n",
       "    <tr>\n",
       "      <th>75%</th>\n",
       "      <td>197.000000</td>\n",
       "    </tr>\n",
       "    <tr>\n",
       "      <th>max</th>\n",
       "      <td>4959.000000</td>\n",
       "    </tr>\n",
       "  </tbody>\n",
       "</table>\n",
       "</div>"
      ],
      "text/plain": [
       "           Duration\n",
       "count  14702.000000\n",
       "mean     165.846551\n",
       "std      261.724607\n",
       "min        1.000000\n",
       "25%       24.000000\n",
       "50%       82.000000\n",
       "75%      197.000000\n",
       "max     4959.000000"
      ]
     },
     "execution_count": 104,
     "metadata": {},
     "output_type": "execute_result"
    },
    {
     "data": {
      "image/png": "[encoded data removed]",
      "text/plain": [
       "<Figure size 432x288 with 1 Axes>"
      ]
     },
     "metadata": {
      "needs_background": "light"
     },
     "output_type": "display_data"
    }
   ],
   "source": [
    "# Create a histogram of duration and include a statistical analysis.\n",
    "data['Duration'].plot(kind='hist', bins = 200)\n",
    "plt.xlim(0,1000)\n",
    "plt.xlabel('Approval duration (days)')\n",
    "pd.DataFrame(data['Duration'].describe())"
   ]
  },
  {
   "cell_type": "code",
   "execution_count": 105,
   "metadata": {},
   "outputs": [
    {
     "data": {
      "text/plain": [
       "Text(0.5,1,'Mean and median duration by borough')"
      ]
     },
     "execution_count": 105,
     "metadata": {},
     "output_type": "execute_result"
    },
    {
     "data": {
      "image/png": "[encoded data removed]",
      "text/plain": [
       "<Figure size 432x288 with 1 Axes>"
      ]
     },
     "metadata": {
      "needs_background": "light"
     },
     "output_type": "display_data"
    }
   ],
   "source": [
    "ax = (data.groupby('Borough')['Duration'].agg(['mean','median'])\n",
    "      .sort_values(by='mean').plot(kind='bar'))\n",
    "ax.set_xlabel('')\n",
    "ax.set_ylabel('Duration (days)')\n",
    "ax.set_title('Mean and median duration by borough')"
   ]
  },
  {
   "cell_type": "code",
   "execution_count": 106,
   "metadata": {},
   "outputs": [
    {
     "data": {
      "text/plain": [
       "<matplotlib.collections.PathCollection at 0x1a19e6ee10>"
      ]
     },
     "execution_count": 106,
     "metadata": {},
     "output_type": "execute_result"
    },
    {
     "data": {
      "image/png": "[encoded data removed]",
      "text/plain": [
       "<Figure size 432x288 with 1 Axes>"
      ]
     },
     "metadata": {
      "needs_background": "light"
     },
     "output_type": "display_data"
    }
   ],
   "source": [
    "# scatter plot of Proposed Zoning Sqft (x) Duration (y) \n",
    "plt.scatter(x=data['Proposed Zoning Sqft'], y=data['Duration'])"
   ]
  },
  {
   "cell_type": "markdown",
   "metadata": {},
   "source": [
    "### Selecting outliers\n",
    "\n",
    "Selecting outliers based on the Duration variable. Applying a filter to\n",
    "select values that are +- 3 standard deviation in this variable. Total number of outliers is\n",
    "1242 data points, which is 2.1% of the total data."
   ]
  },
  {
   "cell_type": "code",
   "execution_count": 107,
   "metadata": {},
   "outputs": [],
   "source": [
    "from scipy.stats import zscore"
   ]
  },
  {
   "cell_type": "code",
   "execution_count": 108,
   "metadata": {},
   "outputs": [],
   "source": [
    "data['Z_score'] = zscore(data['Duration'])"
   ]
  },
  {
   "cell_type": "code",
   "execution_count": 109,
   "metadata": {},
   "outputs": [
    {
     "data": {
      "text/plain": [
       "<matplotlib.axes._subplots.AxesSubplot at 0x1a1a9515c0>"
      ]
     },
     "execution_count": 109,
     "metadata": {},
     "output_type": "execute_result"
    },
    {
     "data": {
      "image/png": "[encoded data removed]",
      "text/plain": [
       "<Figure size 432x288 with 1 Axes>"
      ]
     },
     "metadata": {
      "needs_background": "light"
     },
     "output_type": "display_data"
    }
   ],
   "source": [
    "data[data['Z_score'] > 3]['Duration'].plot(kind='hist', bins=30)\n",
    "# x axis labels add"
   ]
  },
  {
   "cell_type": "code",
   "execution_count": 111,
   "metadata": {},
   "outputs": [
    {
     "name": "stdout",
     "output_type": "stream",
     "text": [
      "<class 'pandas.core.frame.DataFrame'>\n",
      "Int64Index: 14702 entries, 57618 to 56675\n",
      "Data columns (total 23 columns):\n",
      "Borough                          14702 non-null category\n",
      "Building Type                    14702 non-null object\n",
      "Efiling Filed                    14702 non-null object\n",
      "Applicant Professional Title     14702 non-null object\n",
      "Professional Cert                14702 non-null object\n",
      "Fully Paid                       14702 non-null datetime64[ns]\n",
      "Approved                         14702 non-null datetime64[ns]\n",
      "Total Est. Fee                   14702 non-null float64\n",
      "Proposed Zoning Sqft             14702 non-null int64\n",
      "Proposed No. Of Stories          14702 non-null int64\n",
      "Proposed Height                  14702 non-null int64\n",
      "Proposed Dwelling Units          12539 non-null float64\n",
      "Proposed Occupancy               14656 non-null object\n",
      "Zoning Dist1                     14656 non-null object\n",
      "Zoning Dist2                     1155 non-null object\n",
      "Zoning Dist3                     54 non-null object\n",
      "Special District 1               1358 non-null object\n",
      "Special District 2               144 non-null object\n",
      "Non-Profit                       14656 non-null object\n",
      "Total_Construction_Floor_Area    14702 non-null int64\n",
      "Signoff_Date                     10968 non-null datetime64[ns]\n",
      "Duration                         14702 non-null float64\n",
      "Z_score                          14702 non-null float64\n",
      "dtypes: category(1), datetime64[ns](3), float64(4), int64(4), object(11)\n",
      "memory usage: 3.2+ MB\n"
     ]
    }
   ],
   "source": [
    "data.info()"
   ]
  },
  {
   "cell_type": "code",
   "execution_count": 129,
   "metadata": {},
   "outputs": [],
   "source": [
    "# create a dictionary of dataframes consisting of the data filtered by boroughs. 5 dataframes\n",
    "# indicating each of the 5 boroughs.\n",
    "\n",
    "dic = {}\n",
    "for boro in data['Borough'].unique():\n",
    "    df = data[data['Borough']==boro]\n",
    "    dic[boro] = df"
   ]
  },
  {
   "cell_type": "code",
   "execution_count": 141,
   "metadata": {},
   "outputs": [],
   "source": [
    "# create a dataframe for each borough and save it as borough.csv. Then create a list of names\n",
    "# of the new created csv files. \n",
    "#list containing the names of each borough d\n",
    "dflist = []\n",
    "for boro in data['Borough'].unique():\n",
    "    df = data[data['Borough'] == boro]\n",
    "    df.to_csv('{}.csv'.format(boro))\n",
    "    dflist.append('{}.csv'.format(boro))"
   ]
  },
  {
   "cell_type": "code",
   "execution_count": 142,
   "metadata": {},
   "outputs": [
    {
     "data": {
      "text/plain": [
       "['BROOKLYN.csv',\n",
       " 'QUEENS.csv',\n",
       " 'STATEN ISLAND.csv',\n",
       " 'BRONX.csv',\n",
       " 'MANHATTAN.csv']"
      ]
     },
     "execution_count": 142,
     "metadata": {},
     "output_type": "execute_result"
    }
   ],
   "source": [
    "dflist"
   ]
  },
  {
   "cell_type": "code",
   "execution_count": 143,
   "metadata": {},
   "outputs": [
    {
     "data": {
      "text/html": [
       "<div>\n",
       "<style scoped>\n",
       "    .dataframe tbody tr th:only-of-type {\n",
       "        vertical-align: middle;\n",
       "    }\n",
       "\n",
       "    .dataframe tbody tr th {\n",
       "        vertical-align: top;\n",
       "    }\n",
       "\n",
       "    .dataframe thead th {\n",
       "        text-align: right;\n",
       "    }\n",
       "</style>\n",
       "<table border=\"1\" class=\"dataframe\">\n",
       "  <thead>\n",
       "    <tr style=\"text-align: right;\">\n",
       "      <th></th>\n",
       "      <th>Unnamed: 0</th>\n",
       "      <th>Borough</th>\n",
       "      <th>Building Type</th>\n",
       "      <th>Efiling Filed</th>\n",
       "      <th>Applicant Professional Title</th>\n",
       "      <th>Professional Cert</th>\n",
       "      <th>Fully Paid</th>\n",
       "      <th>Approved</th>\n",
       "      <th>Total Est. Fee</th>\n",
       "      <th>Proposed Zoning Sqft</th>\n",
       "      <th>...</th>\n",
       "      <th>Zoning Dist1</th>\n",
       "      <th>Zoning Dist2</th>\n",
       "      <th>Zoning Dist3</th>\n",
       "      <th>Special District 1</th>\n",
       "      <th>Special District 2</th>\n",
       "      <th>Non-Profit</th>\n",
       "      <th>Total_Construction_Floor_Area</th>\n",
       "      <th>Signoff_Date</th>\n",
       "      <th>Duration</th>\n",
       "      <th>Z_score</th>\n",
       "    </tr>\n",
       "  </thead>\n",
       "  <tbody>\n",
       "    <tr>\n",
       "      <th>0</th>\n",
       "      <td>57618</td>\n",
       "      <td>BROOKLYN</td>\n",
       "      <td>OTHERS</td>\n",
       "      <td>Y</td>\n",
       "      <td>RA</td>\n",
       "      <td>N</td>\n",
       "      <td>2012-11-05</td>\n",
       "      <td>2013-07-23</td>\n",
       "      <td>4476.52</td>\n",
       "      <td>12228</td>\n",
       "      <td>...</td>\n",
       "      <td>R7A</td>\n",
       "      <td>NaN</td>\n",
       "      <td>NaN</td>\n",
       "      <td>NaN</td>\n",
       "      <td>NaN</td>\n",
       "      <td>Y</td>\n",
       "      <td>14111</td>\n",
       "      <td>NaN</td>\n",
       "      <td>260.0</td>\n",
       "      <td>0.359755</td>\n",
       "    </tr>\n",
       "    <tr>\n",
       "      <th>1</th>\n",
       "      <td>88588</td>\n",
       "      <td>BROOKLYN</td>\n",
       "      <td>OTHERS</td>\n",
       "      <td>N</td>\n",
       "      <td>RA</td>\n",
       "      <td>N</td>\n",
       "      <td>2006-05-09</td>\n",
       "      <td>2007-03-01</td>\n",
       "      <td>5396.00</td>\n",
       "      <td>15856</td>\n",
       "      <td>...</td>\n",
       "      <td>C4-4L</td>\n",
       "      <td>NaN</td>\n",
       "      <td>NaN</td>\n",
       "      <td>NaN</td>\n",
       "      <td>NaN</td>\n",
       "      <td>N</td>\n",
       "      <td>28974</td>\n",
       "      <td>NaN</td>\n",
       "      <td>296.0</td>\n",
       "      <td>0.497309</td>\n",
       "    </tr>\n",
       "    <tr>\n",
       "      <th>2</th>\n",
       "      <td>53763</td>\n",
       "      <td>BROOKLYN</td>\n",
       "      <td>1-2-3 FAMILY</td>\n",
       "      <td>N</td>\n",
       "      <td>RA</td>\n",
       "      <td>N</td>\n",
       "      <td>2004-09-15</td>\n",
       "      <td>2004-11-23</td>\n",
       "      <td>653.97</td>\n",
       "      <td>0</td>\n",
       "      <td>...</td>\n",
       "      <td>R5</td>\n",
       "      <td>NaN</td>\n",
       "      <td>NaN</td>\n",
       "      <td>NaN</td>\n",
       "      <td>NaN</td>\n",
       "      <td>N</td>\n",
       "      <td>3465</td>\n",
       "      <td>2006-05-12</td>\n",
       "      <td>69.0</td>\n",
       "      <td>-0.370045</td>\n",
       "    </tr>\n",
       "    <tr>\n",
       "      <th>3</th>\n",
       "      <td>49502</td>\n",
       "      <td>BROOKLYN</td>\n",
       "      <td>1-2-3 FAMILY</td>\n",
       "      <td>N</td>\n",
       "      <td>RA</td>\n",
       "      <td>Y</td>\n",
       "      <td>2002-07-01</td>\n",
       "      <td>2002-07-02</td>\n",
       "      <td>704.26</td>\n",
       "      <td>0</td>\n",
       "      <td>...</td>\n",
       "      <td>R5</td>\n",
       "      <td>NaN</td>\n",
       "      <td>NaN</td>\n",
       "      <td>NaN</td>\n",
       "      <td>NaN</td>\n",
       "      <td>Y</td>\n",
       "      <td>3820</td>\n",
       "      <td>2007-07-03</td>\n",
       "      <td>1.0</td>\n",
       "      <td>-0.629869</td>\n",
       "    </tr>\n",
       "    <tr>\n",
       "      <th>4</th>\n",
       "      <td>87467</td>\n",
       "      <td>BROOKLYN</td>\n",
       "      <td>1-2-3 FAMILY</td>\n",
       "      <td>N</td>\n",
       "      <td>PE</td>\n",
       "      <td>N</td>\n",
       "      <td>2003-10-06</td>\n",
       "      <td>2003-11-26</td>\n",
       "      <td>710.08</td>\n",
       "      <td>0</td>\n",
       "      <td>...</td>\n",
       "      <td>R3-1</td>\n",
       "      <td>NaN</td>\n",
       "      <td>NaN</td>\n",
       "      <td>NaN</td>\n",
       "      <td>NaN</td>\n",
       "      <td>N</td>\n",
       "      <td>3870</td>\n",
       "      <td>2005-06-21</td>\n",
       "      <td>51.0</td>\n",
       "      <td>-0.438822</td>\n",
       "    </tr>\n",
       "    <tr>\n",
       "      <th>5</th>\n",
       "      <td>90157</td>\n",
       "      <td>BROOKLYN</td>\n",
       "      <td>1-2-3 FAMILY</td>\n",
       "      <td>N</td>\n",
       "      <td>RA</td>\n",
       "      <td>Y</td>\n",
       "      <td>2007-05-04</td>\n",
       "      <td>2007-05-15</td>\n",
       "      <td>649.97</td>\n",
       "      <td>0</td>\n",
       "      <td>...</td>\n",
       "      <td>R6</td>\n",
       "      <td>NaN</td>\n",
       "      <td>NaN</td>\n",
       "      <td>NaN</td>\n",
       "      <td>NaN</td>\n",
       "      <td>N</td>\n",
       "      <td>4471</td>\n",
       "      <td>2012-11-07</td>\n",
       "      <td>11.0</td>\n",
       "      <td>-0.591659</td>\n",
       "    </tr>\n",
       "    <tr>\n",
       "      <th>6</th>\n",
       "      <td>50385</td>\n",
       "      <td>BROOKLYN</td>\n",
       "      <td>1-2-3 FAMILY</td>\n",
       "      <td>N</td>\n",
       "      <td>RA</td>\n",
       "      <td>Y</td>\n",
       "      <td>2002-08-13</td>\n",
       "      <td>2002-08-22</td>\n",
       "      <td>349.94</td>\n",
       "      <td>0</td>\n",
       "      <td>...</td>\n",
       "      <td>R6</td>\n",
       "      <td>NaN</td>\n",
       "      <td>NaN</td>\n",
       "      <td>NaN</td>\n",
       "      <td>NaN</td>\n",
       "      <td>Y</td>\n",
       "      <td>3009</td>\n",
       "      <td>2005-07-08</td>\n",
       "      <td>9.0</td>\n",
       "      <td>-0.599301</td>\n",
       "    </tr>\n",
       "    <tr>\n",
       "      <th>7</th>\n",
       "      <td>116710</td>\n",
       "      <td>BROOKLYN</td>\n",
       "      <td>OTHERS</td>\n",
       "      <td>N</td>\n",
       "      <td>PE</td>\n",
       "      <td>N</td>\n",
       "      <td>2001-10-19</td>\n",
       "      <td>2002-02-21</td>\n",
       "      <td>20512.74</td>\n",
       "      <td>20010</td>\n",
       "      <td>...</td>\n",
       "      <td>C8-2</td>\n",
       "      <td>NaN</td>\n",
       "      <td>NaN</td>\n",
       "      <td>NaN</td>\n",
       "      <td>NaN</td>\n",
       "      <td>N</td>\n",
       "      <td>79055</td>\n",
       "      <td>NaN</td>\n",
       "      <td>125.0</td>\n",
       "      <td>-0.156072</td>\n",
       "    </tr>\n",
       "    <tr>\n",
       "      <th>8</th>\n",
       "      <td>117492</td>\n",
       "      <td>BROOKLYN</td>\n",
       "      <td>OTHERS</td>\n",
       "      <td>N</td>\n",
       "      <td>RA</td>\n",
       "      <td>N</td>\n",
       "      <td>2004-02-11</td>\n",
       "      <td>2004-10-01</td>\n",
       "      <td>4012.78</td>\n",
       "      <td>0</td>\n",
       "      <td>...</td>\n",
       "      <td>R5</td>\n",
       "      <td>NaN</td>\n",
       "      <td>NaN</td>\n",
       "      <td>NaN</td>\n",
       "      <td>NaN</td>\n",
       "      <td>N</td>\n",
       "      <td>14347</td>\n",
       "      <td>NaN</td>\n",
       "      <td>233.0</td>\n",
       "      <td>0.256589</td>\n",
       "    </tr>\n",
       "    <tr>\n",
       "      <th>9</th>\n",
       "      <td>54014</td>\n",
       "      <td>BROOKLYN</td>\n",
       "      <td>OTHERS</td>\n",
       "      <td>N</td>\n",
       "      <td>RA</td>\n",
       "      <td>N</td>\n",
       "      <td>2004-11-22</td>\n",
       "      <td>2005-02-01</td>\n",
       "      <td>5424.41</td>\n",
       "      <td>0</td>\n",
       "      <td>...</td>\n",
       "      <td>R6</td>\n",
       "      <td>NaN</td>\n",
       "      <td>NaN</td>\n",
       "      <td>OP</td>\n",
       "      <td>NaN</td>\n",
       "      <td>N</td>\n",
       "      <td>20738</td>\n",
       "      <td>2008-12-11</td>\n",
       "      <td>71.0</td>\n",
       "      <td>-0.362403</td>\n",
       "    </tr>\n",
       "    <tr>\n",
       "      <th>10</th>\n",
       "      <td>51423</td>\n",
       "      <td>BROOKLYN</td>\n",
       "      <td>OTHERS</td>\n",
       "      <td>N</td>\n",
       "      <td>RA</td>\n",
       "      <td>N</td>\n",
       "      <td>2003-01-29</td>\n",
       "      <td>2003-04-22</td>\n",
       "      <td>1839.80</td>\n",
       "      <td>0</td>\n",
       "      <td>...</td>\n",
       "      <td>C1-1</td>\n",
       "      <td>R6</td>\n",
       "      <td>NaN</td>\n",
       "      <td>NaN</td>\n",
       "      <td>NaN</td>\n",
       "      <td>N</td>\n",
       "      <td>6000</td>\n",
       "      <td>2006-02-07</td>\n",
       "      <td>83.0</td>\n",
       "      <td>-0.316552</td>\n",
       "    </tr>\n",
       "    <tr>\n",
       "      <th>11</th>\n",
       "      <td>52358</td>\n",
       "      <td>BROOKLYN</td>\n",
       "      <td>1-2-3 FAMILY</td>\n",
       "      <td>N</td>\n",
       "      <td>PE</td>\n",
       "      <td>Y</td>\n",
       "      <td>2003-10-14</td>\n",
       "      <td>2003-10-20</td>\n",
       "      <td>626.34</td>\n",
       "      <td>0</td>\n",
       "      <td>...</td>\n",
       "      <td>C2-1</td>\n",
       "      <td>R5</td>\n",
       "      <td>NaN</td>\n",
       "      <td>NaN</td>\n",
       "      <td>NaN</td>\n",
       "      <td>N</td>\n",
       "      <td>3150</td>\n",
       "      <td>2004-05-26</td>\n",
       "      <td>6.0</td>\n",
       "      <td>-0.610764</td>\n",
       "    </tr>\n",
       "    <tr>\n",
       "      <th>12</th>\n",
       "      <td>54103</td>\n",
       "      <td>BROOKLYN</td>\n",
       "      <td>1-2-3 FAMILY</td>\n",
       "      <td>N</td>\n",
       "      <td>RA</td>\n",
       "      <td>N</td>\n",
       "      <td>2004-12-03</td>\n",
       "      <td>2004-12-16</td>\n",
       "      <td>230.00</td>\n",
       "      <td>0</td>\n",
       "      <td>...</td>\n",
       "      <td>R3-2</td>\n",
       "      <td>NaN</td>\n",
       "      <td>NaN</td>\n",
       "      <td>NaN</td>\n",
       "      <td>NaN</td>\n",
       "      <td>N</td>\n",
       "      <td>240</td>\n",
       "      <td>2007-03-28</td>\n",
       "      <td>13.0</td>\n",
       "      <td>-0.584017</td>\n",
       "    </tr>\n",
       "    <tr>\n",
       "      <th>13</th>\n",
       "      <td>53230</td>\n",
       "      <td>BROOKLYN</td>\n",
       "      <td>1-2-3 FAMILY</td>\n",
       "      <td>N</td>\n",
       "      <td>PE</td>\n",
       "      <td>Y</td>\n",
       "      <td>2004-04-09</td>\n",
       "      <td>2004-04-13</td>\n",
       "      <td>640.09</td>\n",
       "      <td>0</td>\n",
       "      <td>...</td>\n",
       "      <td>R6</td>\n",
       "      <td>NaN</td>\n",
       "      <td>NaN</td>\n",
       "      <td>NaN</td>\n",
       "      <td>NaN</td>\n",
       "      <td>N</td>\n",
       "      <td>4386</td>\n",
       "      <td>2005-11-14</td>\n",
       "      <td>4.0</td>\n",
       "      <td>-0.618406</td>\n",
       "    </tr>\n",
       "    <tr>\n",
       "      <th>14</th>\n",
       "      <td>107138</td>\n",
       "      <td>BROOKLYN</td>\n",
       "      <td>1-2-3 FAMILY</td>\n",
       "      <td>N</td>\n",
       "      <td>PE</td>\n",
       "      <td>N</td>\n",
       "      <td>2005-06-10</td>\n",
       "      <td>2005-07-14</td>\n",
       "      <td>678.68</td>\n",
       "      <td>0</td>\n",
       "      <td>...</td>\n",
       "      <td>R3-1</td>\n",
       "      <td>NaN</td>\n",
       "      <td>NaN</td>\n",
       "      <td>NaN</td>\n",
       "      <td>NaN</td>\n",
       "      <td>N</td>\n",
       "      <td>3600</td>\n",
       "      <td>2008-06-25</td>\n",
       "      <td>34.0</td>\n",
       "      <td>-0.503778</td>\n",
       "    </tr>\n",
       "    <tr>\n",
       "      <th>15</th>\n",
       "      <td>70752</td>\n",
       "      <td>BROOKLYN</td>\n",
       "      <td>OTHERS</td>\n",
       "      <td>Y</td>\n",
       "      <td>RA</td>\n",
       "      <td>N</td>\n",
       "      <td>2013-07-30</td>\n",
       "      <td>2014-06-11</td>\n",
       "      <td>862.24</td>\n",
       "      <td>1924</td>\n",
       "      <td>...</td>\n",
       "      <td>M1-2</td>\n",
       "      <td>NaN</td>\n",
       "      <td>NaN</td>\n",
       "      <td>NaN</td>\n",
       "      <td>NaN</td>\n",
       "      <td>N</td>\n",
       "      <td>1924</td>\n",
       "      <td>2018-03-22</td>\n",
       "      <td>316.0</td>\n",
       "      <td>0.573727</td>\n",
       "    </tr>\n",
       "    <tr>\n",
       "      <th>16</th>\n",
       "      <td>109245</td>\n",
       "      <td>BROOKLYN</td>\n",
       "      <td>OTHERS</td>\n",
       "      <td>Y</td>\n",
       "      <td>RA</td>\n",
       "      <td>N</td>\n",
       "      <td>2014-10-08</td>\n",
       "      <td>2018-02-08</td>\n",
       "      <td>1822.08</td>\n",
       "      <td>6411</td>\n",
       "      <td>...</td>\n",
       "      <td>M1-2</td>\n",
       "      <td>R6A</td>\n",
       "      <td>NaN</td>\n",
       "      <td>MX-8</td>\n",
       "      <td>GW</td>\n",
       "      <td>N</td>\n",
       "      <td>7008</td>\n",
       "      <td>NaN</td>\n",
       "      <td>1219.0</td>\n",
       "      <td>4.024036</td>\n",
       "    </tr>\n",
       "    <tr>\n",
       "      <th>17</th>\n",
       "      <td>17098</td>\n",
       "      <td>BROOKLYN</td>\n",
       "      <td>1-2-3 FAMILY</td>\n",
       "      <td>N</td>\n",
       "      <td>RA</td>\n",
       "      <td>N</td>\n",
       "      <td>2007-11-19</td>\n",
       "      <td>2009-08-11</td>\n",
       "      <td>525.46</td>\n",
       "      <td>0</td>\n",
       "      <td>...</td>\n",
       "      <td>R4</td>\n",
       "      <td>NaN</td>\n",
       "      <td>NaN</td>\n",
       "      <td>NaN</td>\n",
       "      <td>NaN</td>\n",
       "      <td>N</td>\n",
       "      <td>3452</td>\n",
       "      <td>NaN</td>\n",
       "      <td>631.0</td>\n",
       "      <td>1.777323</td>\n",
       "    </tr>\n",
       "    <tr>\n",
       "      <th>18</th>\n",
       "      <td>51023</td>\n",
       "      <td>BROOKLYN</td>\n",
       "      <td>1-2-3 FAMILY</td>\n",
       "      <td>N</td>\n",
       "      <td>RA</td>\n",
       "      <td>Y</td>\n",
       "      <td>2002-11-15</td>\n",
       "      <td>2002-11-18</td>\n",
       "      <td>600.57</td>\n",
       "      <td>0</td>\n",
       "      <td>...</td>\n",
       "      <td>R5</td>\n",
       "      <td>NaN</td>\n",
       "      <td>NaN</td>\n",
       "      <td>NaN</td>\n",
       "      <td>NaN</td>\n",
       "      <td>N</td>\n",
       "      <td>2980</td>\n",
       "      <td>2004-08-13</td>\n",
       "      <td>3.0</td>\n",
       "      <td>-0.622227</td>\n",
       "    </tr>\n",
       "    <tr>\n",
       "      <th>19</th>\n",
       "      <td>76581</td>\n",
       "      <td>BROOKLYN</td>\n",
       "      <td>OTHERS</td>\n",
       "      <td>Y</td>\n",
       "      <td>RA</td>\n",
       "      <td>N</td>\n",
       "      <td>2015-02-26</td>\n",
       "      <td>2015-05-14</td>\n",
       "      <td>20655.96</td>\n",
       "      <td>79445</td>\n",
       "      <td>...</td>\n",
       "      <td>M1-1/R7D</td>\n",
       "      <td>NaN</td>\n",
       "      <td>NaN</td>\n",
       "      <td>MX-10</td>\n",
       "      <td>NaN</td>\n",
       "      <td>N</td>\n",
       "      <td>79446</td>\n",
       "      <td>NaN</td>\n",
       "      <td>77.0</td>\n",
       "      <td>-0.339477</td>\n",
       "    </tr>\n",
       "    <tr>\n",
       "      <th>20</th>\n",
       "      <td>88339</td>\n",
       "      <td>BROOKLYN</td>\n",
       "      <td>1-2-3 FAMILY</td>\n",
       "      <td>N</td>\n",
       "      <td>PE</td>\n",
       "      <td>N</td>\n",
       "      <td>2006-02-06</td>\n",
       "      <td>2006-05-18</td>\n",
       "      <td>619.85</td>\n",
       "      <td>0</td>\n",
       "      <td>...</td>\n",
       "      <td>R5</td>\n",
       "      <td>NaN</td>\n",
       "      <td>NaN</td>\n",
       "      <td>NaN</td>\n",
       "      <td>NaN</td>\n",
       "      <td>N</td>\n",
       "      <td>4212</td>\n",
       "      <td>2007-10-02</td>\n",
       "      <td>101.0</td>\n",
       "      <td>-0.247775</td>\n",
       "    </tr>\n",
       "    <tr>\n",
       "      <th>21</th>\n",
       "      <td>5702</td>\n",
       "      <td>BROOKLYN</td>\n",
       "      <td>OTHERS</td>\n",
       "      <td>Y</td>\n",
       "      <td>RA</td>\n",
       "      <td>N</td>\n",
       "      <td>2013-11-07</td>\n",
       "      <td>2015-12-02</td>\n",
       "      <td>162966.80</td>\n",
       "      <td>379501</td>\n",
       "      <td>...</td>\n",
       "      <td>M1-2</td>\n",
       "      <td>NaN</td>\n",
       "      <td>NaN</td>\n",
       "      <td>NaN</td>\n",
       "      <td>IBZ</td>\n",
       "      <td>N</td>\n",
       "      <td>626180</td>\n",
       "      <td>NaN</td>\n",
       "      <td>755.0</td>\n",
       "      <td>2.251120</td>\n",
       "    </tr>\n",
       "    <tr>\n",
       "      <th>22</th>\n",
       "      <td>101678</td>\n",
       "      <td>BROOKLYN</td>\n",
       "      <td>1-2-3 FAMILY</td>\n",
       "      <td>N</td>\n",
       "      <td>RA</td>\n",
       "      <td>N</td>\n",
       "      <td>2000-03-03</td>\n",
       "      <td>2001-04-06</td>\n",
       "      <td>594.29</td>\n",
       "      <td>0</td>\n",
       "      <td>...</td>\n",
       "      <td>C6-1</td>\n",
       "      <td>R7-2</td>\n",
       "      <td>NaN</td>\n",
       "      <td>NaN</td>\n",
       "      <td>NaN</td>\n",
       "      <td>N</td>\n",
       "      <td>2797</td>\n",
       "      <td>2004-08-27</td>\n",
       "      <td>399.0</td>\n",
       "      <td>0.890865</td>\n",
       "    </tr>\n",
       "    <tr>\n",
       "      <th>23</th>\n",
       "      <td>82487</td>\n",
       "      <td>BROOKLYN</td>\n",
       "      <td>OTHERS</td>\n",
       "      <td>Y</td>\n",
       "      <td>RA</td>\n",
       "      <td>N</td>\n",
       "      <td>2016-11-10</td>\n",
       "      <td>2017-11-16</td>\n",
       "      <td>2227.72</td>\n",
       "      <td>5394</td>\n",
       "      <td>...</td>\n",
       "      <td>R6B</td>\n",
       "      <td>NaN</td>\n",
       "      <td>NaN</td>\n",
       "      <td>NaN</td>\n",
       "      <td>NaN</td>\n",
       "      <td>N</td>\n",
       "      <td>7222</td>\n",
       "      <td>NaN</td>\n",
       "      <td>371.0</td>\n",
       "      <td>0.783879</td>\n",
       "    </tr>\n",
       "    <tr>\n",
       "      <th>24</th>\n",
       "      <td>52286</td>\n",
       "      <td>BROOKLYN</td>\n",
       "      <td>1-2-3 FAMILY</td>\n",
       "      <td>N</td>\n",
       "      <td>PE</td>\n",
       "      <td>Y</td>\n",
       "      <td>2003-08-20</td>\n",
       "      <td>2003-08-21</td>\n",
       "      <td>713.57</td>\n",
       "      <td>0</td>\n",
       "      <td>...</td>\n",
       "      <td>C1-3</td>\n",
       "      <td>R5</td>\n",
       "      <td>NaN</td>\n",
       "      <td>NaN</td>\n",
       "      <td>NaN</td>\n",
       "      <td>N</td>\n",
       "      <td>3900</td>\n",
       "      <td>2005-05-31</td>\n",
       "      <td>1.0</td>\n",
       "      <td>-0.629869</td>\n",
       "    </tr>\n",
       "    <tr>\n",
       "      <th>25</th>\n",
       "      <td>102494</td>\n",
       "      <td>BROOKLYN</td>\n",
       "      <td>1-2-3 FAMILY</td>\n",
       "      <td>N</td>\n",
       "      <td>RA</td>\n",
       "      <td>N</td>\n",
       "      <td>2000-04-17</td>\n",
       "      <td>2000-06-05</td>\n",
       "      <td>417.84</td>\n",
       "      <td>0</td>\n",
       "      <td>...</td>\n",
       "      <td>R6</td>\n",
       "      <td>NaN</td>\n",
       "      <td>NaN</td>\n",
       "      <td>NaN</td>\n",
       "      <td>NaN</td>\n",
       "      <td>N</td>\n",
       "      <td>2475</td>\n",
       "      <td>2001-04-10</td>\n",
       "      <td>49.0</td>\n",
       "      <td>-0.446464</td>\n",
       "    </tr>\n",
       "    <tr>\n",
       "      <th>26</th>\n",
       "      <td>49898</td>\n",
       "      <td>BROOKLYN</td>\n",
       "      <td>1-2-3 FAMILY</td>\n",
       "      <td>N</td>\n",
       "      <td>RA</td>\n",
       "      <td>N</td>\n",
       "      <td>2002-04-04</td>\n",
       "      <td>2002-04-30</td>\n",
       "      <td>1295.88</td>\n",
       "      <td>0</td>\n",
       "      <td>...</td>\n",
       "      <td>R5</td>\n",
       "      <td>NaN</td>\n",
       "      <td>NaN</td>\n",
       "      <td>OP</td>\n",
       "      <td>NaN</td>\n",
       "      <td>N</td>\n",
       "      <td>8907</td>\n",
       "      <td>2009-09-11</td>\n",
       "      <td>26.0</td>\n",
       "      <td>-0.534345</td>\n",
       "    </tr>\n",
       "    <tr>\n",
       "      <th>27</th>\n",
       "      <td>48338</td>\n",
       "      <td>BROOKLYN</td>\n",
       "      <td>OTHERS</td>\n",
       "      <td>N</td>\n",
       "      <td>RA</td>\n",
       "      <td>Y</td>\n",
       "      <td>2000-06-14</td>\n",
       "      <td>2000-06-19</td>\n",
       "      <td>1112.32</td>\n",
       "      <td>0</td>\n",
       "      <td>...</td>\n",
       "      <td>C8-2</td>\n",
       "      <td>NaN</td>\n",
       "      <td>NaN</td>\n",
       "      <td>NaN</td>\n",
       "      <td>NaN</td>\n",
       "      <td>N</td>\n",
       "      <td>2892</td>\n",
       "      <td>2003-01-21</td>\n",
       "      <td>5.0</td>\n",
       "      <td>-0.614585</td>\n",
       "    </tr>\n",
       "    <tr>\n",
       "      <th>28</th>\n",
       "      <td>52352</td>\n",
       "      <td>BROOKLYN</td>\n",
       "      <td>OTHERS</td>\n",
       "      <td>N</td>\n",
       "      <td>RA</td>\n",
       "      <td>N</td>\n",
       "      <td>2003-08-22</td>\n",
       "      <td>2004-11-10</td>\n",
       "      <td>1395.95</td>\n",
       "      <td>0</td>\n",
       "      <td>...</td>\n",
       "      <td>R5</td>\n",
       "      <td>NaN</td>\n",
       "      <td>NaN</td>\n",
       "      <td>NaN</td>\n",
       "      <td>NaN</td>\n",
       "      <td>N</td>\n",
       "      <td>4332</td>\n",
       "      <td>NaN</td>\n",
       "      <td>446.0</td>\n",
       "      <td>1.070450</td>\n",
       "    </tr>\n",
       "    <tr>\n",
       "      <th>29</th>\n",
       "      <td>13651</td>\n",
       "      <td>BROOKLYN</td>\n",
       "      <td>1-2-3 FAMILY</td>\n",
       "      <td>Y</td>\n",
       "      <td>RA</td>\n",
       "      <td>N</td>\n",
       "      <td>2017-11-29</td>\n",
       "      <td>2018-03-30</td>\n",
       "      <td>334.68</td>\n",
       "      <td>7959</td>\n",
       "      <td>...</td>\n",
       "      <td>R6B</td>\n",
       "      <td>NaN</td>\n",
       "      <td>NaN</td>\n",
       "      <td>NaN</td>\n",
       "      <td>NaN</td>\n",
       "      <td>N</td>\n",
       "      <td>5578</td>\n",
       "      <td>NaN</td>\n",
       "      <td>121.0</td>\n",
       "      <td>-0.171356</td>\n",
       "    </tr>\n",
       "    <tr>\n",
       "      <th>...</th>\n",
       "      <td>...</td>\n",
       "      <td>...</td>\n",
       "      <td>...</td>\n",
       "      <td>...</td>\n",
       "      <td>...</td>\n",
       "      <td>...</td>\n",
       "      <td>...</td>\n",
       "      <td>...</td>\n",
       "      <td>...</td>\n",
       "      <td>...</td>\n",
       "      <td>...</td>\n",
       "      <td>...</td>\n",
       "      <td>...</td>\n",
       "      <td>...</td>\n",
       "      <td>...</td>\n",
       "      <td>...</td>\n",
       "      <td>...</td>\n",
       "      <td>...</td>\n",
       "      <td>...</td>\n",
       "      <td>...</td>\n",
       "      <td>...</td>\n",
       "    </tr>\n",
       "    <tr>\n",
       "      <th>4216</th>\n",
       "      <td>54227</td>\n",
       "      <td>BROOKLYN</td>\n",
       "      <td>OTHERS</td>\n",
       "      <td>N</td>\n",
       "      <td>PE</td>\n",
       "      <td>N</td>\n",
       "      <td>2005-01-20</td>\n",
       "      <td>2005-04-04</td>\n",
       "      <td>1906.88</td>\n",
       "      <td>0</td>\n",
       "      <td>...</td>\n",
       "      <td>R6</td>\n",
       "      <td>NaN</td>\n",
       "      <td>NaN</td>\n",
       "      <td>NaN</td>\n",
       "      <td>NaN</td>\n",
       "      <td>N</td>\n",
       "      <td>7063</td>\n",
       "      <td>2006-09-26</td>\n",
       "      <td>74.0</td>\n",
       "      <td>-0.350940</td>\n",
       "    </tr>\n",
       "    <tr>\n",
       "      <th>4217</th>\n",
       "      <td>88478</td>\n",
       "      <td>BROOKLYN</td>\n",
       "      <td>1-2-3 FAMILY</td>\n",
       "      <td>N</td>\n",
       "      <td>PE</td>\n",
       "      <td>N</td>\n",
       "      <td>2006-03-15</td>\n",
       "      <td>2006-07-24</td>\n",
       "      <td>517.02</td>\n",
       "      <td>0</td>\n",
       "      <td>...</td>\n",
       "      <td>R4</td>\n",
       "      <td>NaN</td>\n",
       "      <td>NaN</td>\n",
       "      <td>NaN</td>\n",
       "      <td>NaN</td>\n",
       "      <td>N</td>\n",
       "      <td>2210</td>\n",
       "      <td>2007-06-08</td>\n",
       "      <td>131.0</td>\n",
       "      <td>-0.133147</td>\n",
       "    </tr>\n",
       "    <tr>\n",
       "      <th>4218</th>\n",
       "      <td>116904</td>\n",
       "      <td>BROOKLYN</td>\n",
       "      <td>OTHERS</td>\n",
       "      <td>N</td>\n",
       "      <td>RA</td>\n",
       "      <td>N</td>\n",
       "      <td>2002-08-27</td>\n",
       "      <td>2005-05-19</td>\n",
       "      <td>2905.36</td>\n",
       "      <td>0</td>\n",
       "      <td>...</td>\n",
       "      <td>R6</td>\n",
       "      <td>NaN</td>\n",
       "      <td>NaN</td>\n",
       "      <td>NaN</td>\n",
       "      <td>NaN</td>\n",
       "      <td>N</td>\n",
       "      <td>10871</td>\n",
       "      <td>2015-02-02</td>\n",
       "      <td>996.0</td>\n",
       "      <td>3.171966</td>\n",
       "    </tr>\n",
       "    <tr>\n",
       "      <th>4219</th>\n",
       "      <td>90199</td>\n",
       "      <td>BROOKLYN</td>\n",
       "      <td>OTHERS</td>\n",
       "      <td>Y</td>\n",
       "      <td>RA</td>\n",
       "      <td>N</td>\n",
       "      <td>2014-09-08</td>\n",
       "      <td>2015-04-23</td>\n",
       "      <td>1947.70</td>\n",
       "      <td>4970</td>\n",
       "      <td>...</td>\n",
       "      <td>R6B</td>\n",
       "      <td>NaN</td>\n",
       "      <td>NaN</td>\n",
       "      <td>NaN</td>\n",
       "      <td>NaN</td>\n",
       "      <td>N</td>\n",
       "      <td>6145</td>\n",
       "      <td>2019-04-18</td>\n",
       "      <td>227.0</td>\n",
       "      <td>0.233664</td>\n",
       "    </tr>\n",
       "    <tr>\n",
       "      <th>4220</th>\n",
       "      <td>91169</td>\n",
       "      <td>BROOKLYN</td>\n",
       "      <td>1-2-3 FAMILY</td>\n",
       "      <td>N</td>\n",
       "      <td>RA</td>\n",
       "      <td>Y</td>\n",
       "      <td>2003-09-15</td>\n",
       "      <td>2003-09-18</td>\n",
       "      <td>380.20</td>\n",
       "      <td>0</td>\n",
       "      <td>...</td>\n",
       "      <td>R3-1</td>\n",
       "      <td>NaN</td>\n",
       "      <td>NaN</td>\n",
       "      <td>NaN</td>\n",
       "      <td>NaN</td>\n",
       "      <td>N</td>\n",
       "      <td>2203</td>\n",
       "      <td>2005-06-08</td>\n",
       "      <td>3.0</td>\n",
       "      <td>-0.622227</td>\n",
       "    </tr>\n",
       "    <tr>\n",
       "      <th>4221</th>\n",
       "      <td>83590</td>\n",
       "      <td>BROOKLYN</td>\n",
       "      <td>OTHERS</td>\n",
       "      <td>Y</td>\n",
       "      <td>RA</td>\n",
       "      <td>N</td>\n",
       "      <td>2017-03-31</td>\n",
       "      <td>2018-08-09</td>\n",
       "      <td>3236.78</td>\n",
       "      <td>8791</td>\n",
       "      <td>...</td>\n",
       "      <td>R6</td>\n",
       "      <td>NaN</td>\n",
       "      <td>NaN</td>\n",
       "      <td>NaN</td>\n",
       "      <td>NaN</td>\n",
       "      <td>N</td>\n",
       "      <td>11103</td>\n",
       "      <td>NaN</td>\n",
       "      <td>496.0</td>\n",
       "      <td>1.261497</td>\n",
       "    </tr>\n",
       "    <tr>\n",
       "      <th>4222</th>\n",
       "      <td>89914</td>\n",
       "      <td>BROOKLYN</td>\n",
       "      <td>OTHERS</td>\n",
       "      <td>N</td>\n",
       "      <td>RA</td>\n",
       "      <td>N</td>\n",
       "      <td>2007-03-01</td>\n",
       "      <td>2007-07-06</td>\n",
       "      <td>2388.63</td>\n",
       "      <td>0</td>\n",
       "      <td>...</td>\n",
       "      <td>R6</td>\n",
       "      <td>NaN</td>\n",
       "      <td>NaN</td>\n",
       "      <td>NaN</td>\n",
       "      <td>NaN</td>\n",
       "      <td>N</td>\n",
       "      <td>8847</td>\n",
       "      <td>2011-12-21</td>\n",
       "      <td>127.0</td>\n",
       "      <td>-0.148430</td>\n",
       "    </tr>\n",
       "    <tr>\n",
       "      <th>4223</th>\n",
       "      <td>70023</td>\n",
       "      <td>BROOKLYN</td>\n",
       "      <td>1-2-3 FAMILY</td>\n",
       "      <td>Y</td>\n",
       "      <td>RA</td>\n",
       "      <td>N</td>\n",
       "      <td>2013-05-21</td>\n",
       "      <td>2014-02-21</td>\n",
       "      <td>196.56</td>\n",
       "      <td>1638</td>\n",
       "      <td>...</td>\n",
       "      <td>R6</td>\n",
       "      <td>NaN</td>\n",
       "      <td>NaN</td>\n",
       "      <td>NaN</td>\n",
       "      <td>NaN</td>\n",
       "      <td>Y</td>\n",
       "      <td>1638</td>\n",
       "      <td>2016-12-07</td>\n",
       "      <td>276.0</td>\n",
       "      <td>0.420890</td>\n",
       "    </tr>\n",
       "    <tr>\n",
       "      <th>4224</th>\n",
       "      <td>55034</td>\n",
       "      <td>BROOKLYN</td>\n",
       "      <td>OTHERS</td>\n",
       "      <td>N</td>\n",
       "      <td>RA</td>\n",
       "      <td>Y</td>\n",
       "      <td>2005-07-14</td>\n",
       "      <td>2005-07-22</td>\n",
       "      <td>2516.79</td>\n",
       "      <td>0</td>\n",
       "      <td>...</td>\n",
       "      <td>R6</td>\n",
       "      <td>NaN</td>\n",
       "      <td>NaN</td>\n",
       "      <td>NaN</td>\n",
       "      <td>NaN</td>\n",
       "      <td>N</td>\n",
       "      <td>9349</td>\n",
       "      <td>NaN</td>\n",
       "      <td>8.0</td>\n",
       "      <td>-0.603122</td>\n",
       "    </tr>\n",
       "    <tr>\n",
       "      <th>4225</th>\n",
       "      <td>51485</td>\n",
       "      <td>BROOKLYN</td>\n",
       "      <td>1-2-3 FAMILY</td>\n",
       "      <td>N</td>\n",
       "      <td>RA</td>\n",
       "      <td>N</td>\n",
       "      <td>2003-02-12</td>\n",
       "      <td>2003-03-27</td>\n",
       "      <td>928.84</td>\n",
       "      <td>0</td>\n",
       "      <td>...</td>\n",
       "      <td>R2X</td>\n",
       "      <td>NaN</td>\n",
       "      <td>NaN</td>\n",
       "      <td>OP</td>\n",
       "      <td>NaN</td>\n",
       "      <td>N</td>\n",
       "      <td>5751</td>\n",
       "      <td>2008-12-22</td>\n",
       "      <td>43.0</td>\n",
       "      <td>-0.469389</td>\n",
       "    </tr>\n",
       "    <tr>\n",
       "      <th>4226</th>\n",
       "      <td>70523</td>\n",
       "      <td>BROOKLYN</td>\n",
       "      <td>1-2-3 FAMILY</td>\n",
       "      <td>N</td>\n",
       "      <td>PE</td>\n",
       "      <td>N</td>\n",
       "      <td>2002-11-25</td>\n",
       "      <td>2003-01-17</td>\n",
       "      <td>690.10</td>\n",
       "      <td>0</td>\n",
       "      <td>...</td>\n",
       "      <td>R6</td>\n",
       "      <td>NaN</td>\n",
       "      <td>NaN</td>\n",
       "      <td>NaN</td>\n",
       "      <td>NaN</td>\n",
       "      <td>N</td>\n",
       "      <td>4816</td>\n",
       "      <td>2005-09-27</td>\n",
       "      <td>53.0</td>\n",
       "      <td>-0.431180</td>\n",
       "    </tr>\n",
       "    <tr>\n",
       "      <th>4227</th>\n",
       "      <td>116950</td>\n",
       "      <td>BROOKLYN</td>\n",
       "      <td>1-2-3 FAMILY</td>\n",
       "      <td>N</td>\n",
       "      <td>PE</td>\n",
       "      <td>N</td>\n",
       "      <td>2002-09-25</td>\n",
       "      <td>2003-04-09</td>\n",
       "      <td>566.63</td>\n",
       "      <td>0</td>\n",
       "      <td>...</td>\n",
       "      <td>R6</td>\n",
       "      <td>NaN</td>\n",
       "      <td>NaN</td>\n",
       "      <td>NaN</td>\n",
       "      <td>NaN</td>\n",
       "      <td>N</td>\n",
       "      <td>3891</td>\n",
       "      <td>NaN</td>\n",
       "      <td>196.0</td>\n",
       "      <td>0.115215</td>\n",
       "    </tr>\n",
       "    <tr>\n",
       "      <th>4228</th>\n",
       "      <td>16452</td>\n",
       "      <td>BROOKLYN</td>\n",
       "      <td>1-2-3 FAMILY</td>\n",
       "      <td>N</td>\n",
       "      <td>PE</td>\n",
       "      <td>Y</td>\n",
       "      <td>2006-12-06</td>\n",
       "      <td>2006-12-18</td>\n",
       "      <td>679.86</td>\n",
       "      <td>0</td>\n",
       "      <td>...</td>\n",
       "      <td>R6</td>\n",
       "      <td>NaN</td>\n",
       "      <td>NaN</td>\n",
       "      <td>NaN</td>\n",
       "      <td>NaN</td>\n",
       "      <td>Y</td>\n",
       "      <td>4728</td>\n",
       "      <td>2007-08-07</td>\n",
       "      <td>12.0</td>\n",
       "      <td>-0.587838</td>\n",
       "    </tr>\n",
       "    <tr>\n",
       "      <th>4229</th>\n",
       "      <td>116942</td>\n",
       "      <td>BROOKLYN</td>\n",
       "      <td>1-2-3 FAMILY</td>\n",
       "      <td>N</td>\n",
       "      <td>RA</td>\n",
       "      <td>Y</td>\n",
       "      <td>2002-09-16</td>\n",
       "      <td>2002-09-18</td>\n",
       "      <td>682.16</td>\n",
       "      <td>0</td>\n",
       "      <td>...</td>\n",
       "      <td>R6</td>\n",
       "      <td>NaN</td>\n",
       "      <td>NaN</td>\n",
       "      <td>NaN</td>\n",
       "      <td>NaN</td>\n",
       "      <td>N</td>\n",
       "      <td>3630</td>\n",
       "      <td>NaN</td>\n",
       "      <td>2.0</td>\n",
       "      <td>-0.626048</td>\n",
       "    </tr>\n",
       "    <tr>\n",
       "      <th>4230</th>\n",
       "      <td>48194</td>\n",
       "      <td>BROOKLYN</td>\n",
       "      <td>1-2-3 FAMILY</td>\n",
       "      <td>N</td>\n",
       "      <td>RA</td>\n",
       "      <td>Y</td>\n",
       "      <td>2000-07-27</td>\n",
       "      <td>2000-07-31</td>\n",
       "      <td>395.46</td>\n",
       "      <td>0</td>\n",
       "      <td>...</td>\n",
       "      <td>R3-2</td>\n",
       "      <td>NaN</td>\n",
       "      <td>NaN</td>\n",
       "      <td>NaN</td>\n",
       "      <td>NaN</td>\n",
       "      <td>N</td>\n",
       "      <td>2360</td>\n",
       "      <td>2002-04-24</td>\n",
       "      <td>4.0</td>\n",
       "      <td>-0.618406</td>\n",
       "    </tr>\n",
       "    <tr>\n",
       "      <th>4231</th>\n",
       "      <td>52497</td>\n",
       "      <td>BROOKLYN</td>\n",
       "      <td>1-2-3 FAMILY</td>\n",
       "      <td>N</td>\n",
       "      <td>RA</td>\n",
       "      <td>N</td>\n",
       "      <td>2003-09-24</td>\n",
       "      <td>2003-11-03</td>\n",
       "      <td>348.90</td>\n",
       "      <td>0</td>\n",
       "      <td>...</td>\n",
       "      <td>R6B</td>\n",
       "      <td>NaN</td>\n",
       "      <td>NaN</td>\n",
       "      <td>NaN</td>\n",
       "      <td>NaN</td>\n",
       "      <td>N</td>\n",
       "      <td>3000</td>\n",
       "      <td>2005-07-28</td>\n",
       "      <td>40.0</td>\n",
       "      <td>-0.480852</td>\n",
       "    </tr>\n",
       "    <tr>\n",
       "      <th>4232</th>\n",
       "      <td>117037</td>\n",
       "      <td>BROOKLYN</td>\n",
       "      <td>1-2-3 FAMILY</td>\n",
       "      <td>N</td>\n",
       "      <td>RA</td>\n",
       "      <td>N</td>\n",
       "      <td>2002-12-27</td>\n",
       "      <td>2003-03-04</td>\n",
       "      <td>861.27</td>\n",
       "      <td>0</td>\n",
       "      <td>...</td>\n",
       "      <td>C2-3</td>\n",
       "      <td>R5</td>\n",
       "      <td>NaN</td>\n",
       "      <td>NaN</td>\n",
       "      <td>NaN</td>\n",
       "      <td>N</td>\n",
       "      <td>5170</td>\n",
       "      <td>2006-06-02</td>\n",
       "      <td>67.0</td>\n",
       "      <td>-0.377687</td>\n",
       "    </tr>\n",
       "    <tr>\n",
       "      <th>4233</th>\n",
       "      <td>3085</td>\n",
       "      <td>BROOKLYN</td>\n",
       "      <td>1-2-3 FAMILY</td>\n",
       "      <td>Y</td>\n",
       "      <td>RA</td>\n",
       "      <td>N</td>\n",
       "      <td>2016-05-13</td>\n",
       "      <td>2016-06-28</td>\n",
       "      <td>196.80</td>\n",
       "      <td>1640</td>\n",
       "      <td>...</td>\n",
       "      <td>R6</td>\n",
       "      <td>NaN</td>\n",
       "      <td>NaN</td>\n",
       "      <td>NaN</td>\n",
       "      <td>NaN</td>\n",
       "      <td>N</td>\n",
       "      <td>1640</td>\n",
       "      <td>2018-12-05</td>\n",
       "      <td>46.0</td>\n",
       "      <td>-0.457926</td>\n",
       "    </tr>\n",
       "    <tr>\n",
       "      <th>4234</th>\n",
       "      <td>9408</td>\n",
       "      <td>BROOKLYN</td>\n",
       "      <td>OTHERS</td>\n",
       "      <td>Y</td>\n",
       "      <td>RA</td>\n",
       "      <td>N</td>\n",
       "      <td>2016-03-16</td>\n",
       "      <td>2017-04-04</td>\n",
       "      <td>1535.30</td>\n",
       "      <td>4724</td>\n",
       "      <td>...</td>\n",
       "      <td>R6A</td>\n",
       "      <td>NaN</td>\n",
       "      <td>NaN</td>\n",
       "      <td>NaN</td>\n",
       "      <td>NaN</td>\n",
       "      <td>N</td>\n",
       "      <td>5905</td>\n",
       "      <td>NaN</td>\n",
       "      <td>384.0</td>\n",
       "      <td>0.833551</td>\n",
       "    </tr>\n",
       "    <tr>\n",
       "      <th>4235</th>\n",
       "      <td>90579</td>\n",
       "      <td>BROOKLYN</td>\n",
       "      <td>OTHERS</td>\n",
       "      <td>N</td>\n",
       "      <td>RA</td>\n",
       "      <td>Y</td>\n",
       "      <td>2007-08-20</td>\n",
       "      <td>2007-12-07</td>\n",
       "      <td>42703.33</td>\n",
       "      <td>0</td>\n",
       "      <td>...</td>\n",
       "      <td>M1-2</td>\n",
       "      <td>R6A</td>\n",
       "      <td>NaN</td>\n",
       "      <td>NaN</td>\n",
       "      <td>NaN</td>\n",
       "      <td>N</td>\n",
       "      <td>166100</td>\n",
       "      <td>2011-12-30</td>\n",
       "      <td>109.0</td>\n",
       "      <td>-0.217207</td>\n",
       "    </tr>\n",
       "    <tr>\n",
       "      <th>4236</th>\n",
       "      <td>51784</td>\n",
       "      <td>BROOKLYN</td>\n",
       "      <td>1-2-3 FAMILY</td>\n",
       "      <td>N</td>\n",
       "      <td>RA</td>\n",
       "      <td>N</td>\n",
       "      <td>2003-04-16</td>\n",
       "      <td>2003-07-07</td>\n",
       "      <td>834.52</td>\n",
       "      <td>0</td>\n",
       "      <td>...</td>\n",
       "      <td>R3-1</td>\n",
       "      <td>NaN</td>\n",
       "      <td>NaN</td>\n",
       "      <td>OP</td>\n",
       "      <td>NaN</td>\n",
       "      <td>N</td>\n",
       "      <td>4940</td>\n",
       "      <td>NaN</td>\n",
       "      <td>82.0</td>\n",
       "      <td>-0.320373</td>\n",
       "    </tr>\n",
       "    <tr>\n",
       "      <th>4237</th>\n",
       "      <td>52323</td>\n",
       "      <td>BROOKLYN</td>\n",
       "      <td>OTHERS</td>\n",
       "      <td>N</td>\n",
       "      <td>RA</td>\n",
       "      <td>N</td>\n",
       "      <td>2003-08-19</td>\n",
       "      <td>2004-02-18</td>\n",
       "      <td>6512.50</td>\n",
       "      <td>0</td>\n",
       "      <td>...</td>\n",
       "      <td>R6</td>\n",
       "      <td>M1-2</td>\n",
       "      <td>NaN</td>\n",
       "      <td>NaN</td>\n",
       "      <td>NaN</td>\n",
       "      <td>N</td>\n",
       "      <td>25000</td>\n",
       "      <td>2006-10-18</td>\n",
       "      <td>183.0</td>\n",
       "      <td>0.065542</td>\n",
       "    </tr>\n",
       "    <tr>\n",
       "      <th>4238</th>\n",
       "      <td>56673</td>\n",
       "      <td>BROOKLYN</td>\n",
       "      <td>OTHERS</td>\n",
       "      <td>Y</td>\n",
       "      <td>PE</td>\n",
       "      <td>N</td>\n",
       "      <td>2008-03-13</td>\n",
       "      <td>2008-04-28</td>\n",
       "      <td>2022.28</td>\n",
       "      <td>5615</td>\n",
       "      <td>...</td>\n",
       "      <td>R6B</td>\n",
       "      <td>NaN</td>\n",
       "      <td>NaN</td>\n",
       "      <td>NaN</td>\n",
       "      <td>NaN</td>\n",
       "      <td>N</td>\n",
       "      <td>7412</td>\n",
       "      <td>NaN</td>\n",
       "      <td>46.0</td>\n",
       "      <td>-0.457926</td>\n",
       "    </tr>\n",
       "    <tr>\n",
       "      <th>4239</th>\n",
       "      <td>49695</td>\n",
       "      <td>BROOKLYN</td>\n",
       "      <td>OTHERS</td>\n",
       "      <td>N</td>\n",
       "      <td>RA</td>\n",
       "      <td>Y</td>\n",
       "      <td>2002-01-15</td>\n",
       "      <td>2002-01-24</td>\n",
       "      <td>2523.43</td>\n",
       "      <td>0</td>\n",
       "      <td>...</td>\n",
       "      <td>R6</td>\n",
       "      <td>NaN</td>\n",
       "      <td>NaN</td>\n",
       "      <td>N</td>\n",
       "      <td>NaN</td>\n",
       "      <td>N</td>\n",
       "      <td>9375</td>\n",
       "      <td>2006-05-26</td>\n",
       "      <td>9.0</td>\n",
       "      <td>-0.599301</td>\n",
       "    </tr>\n",
       "    <tr>\n",
       "      <th>4240</th>\n",
       "      <td>88327</td>\n",
       "      <td>BROOKLYN</td>\n",
       "      <td>1-2-3 FAMILY</td>\n",
       "      <td>N</td>\n",
       "      <td>RA</td>\n",
       "      <td>N</td>\n",
       "      <td>2006-02-02</td>\n",
       "      <td>2006-05-31</td>\n",
       "      <td>776.13</td>\n",
       "      <td>0</td>\n",
       "      <td>...</td>\n",
       "      <td>C1-2</td>\n",
       "      <td>R4</td>\n",
       "      <td>NaN</td>\n",
       "      <td>NaN</td>\n",
       "      <td>NaN</td>\n",
       "      <td>N</td>\n",
       "      <td>4309</td>\n",
       "      <td>NaN</td>\n",
       "      <td>118.0</td>\n",
       "      <td>-0.182819</td>\n",
       "    </tr>\n",
       "    <tr>\n",
       "      <th>4241</th>\n",
       "      <td>49191</td>\n",
       "      <td>BROOKLYN</td>\n",
       "      <td>1-2-3 FAMILY</td>\n",
       "      <td>N</td>\n",
       "      <td>PE</td>\n",
       "      <td>Y</td>\n",
       "      <td>2001-10-09</td>\n",
       "      <td>2001-10-12</td>\n",
       "      <td>615.87</td>\n",
       "      <td>0</td>\n",
       "      <td>...</td>\n",
       "      <td>R6</td>\n",
       "      <td>NaN</td>\n",
       "      <td>NaN</td>\n",
       "      <td>NaN</td>\n",
       "      <td>NaN</td>\n",
       "      <td>N</td>\n",
       "      <td>3060</td>\n",
       "      <td>2006-09-20</td>\n",
       "      <td>3.0</td>\n",
       "      <td>-0.622227</td>\n",
       "    </tr>\n",
       "    <tr>\n",
       "      <th>4242</th>\n",
       "      <td>100902</td>\n",
       "      <td>BROOKLYN</td>\n",
       "      <td>OTHERS</td>\n",
       "      <td>Y</td>\n",
       "      <td>PE</td>\n",
       "      <td>N</td>\n",
       "      <td>2015-06-05</td>\n",
       "      <td>2015-11-16</td>\n",
       "      <td>1613.92</td>\n",
       "      <td>5609</td>\n",
       "      <td>...</td>\n",
       "      <td>R6</td>\n",
       "      <td>NaN</td>\n",
       "      <td>NaN</td>\n",
       "      <td>NaN</td>\n",
       "      <td>NaN</td>\n",
       "      <td>N</td>\n",
       "      <td>5592</td>\n",
       "      <td>2017-07-20</td>\n",
       "      <td>164.0</td>\n",
       "      <td>-0.007056</td>\n",
       "    </tr>\n",
       "    <tr>\n",
       "      <th>4243</th>\n",
       "      <td>54841</td>\n",
       "      <td>BROOKLYN</td>\n",
       "      <td>OTHERS</td>\n",
       "      <td>N</td>\n",
       "      <td>PE</td>\n",
       "      <td>N</td>\n",
       "      <td>2005-06-13</td>\n",
       "      <td>2006-01-19</td>\n",
       "      <td>878.53</td>\n",
       "      <td>0</td>\n",
       "      <td>...</td>\n",
       "      <td>R6</td>\n",
       "      <td>NaN</td>\n",
       "      <td>NaN</td>\n",
       "      <td>NaN</td>\n",
       "      <td>NaN</td>\n",
       "      <td>N</td>\n",
       "      <td>2932</td>\n",
       "      <td>2009-04-16</td>\n",
       "      <td>220.0</td>\n",
       "      <td>0.206917</td>\n",
       "    </tr>\n",
       "    <tr>\n",
       "      <th>4244</th>\n",
       "      <td>111180</td>\n",
       "      <td>BROOKLYN</td>\n",
       "      <td>1-2-3 FAMILY</td>\n",
       "      <td>N</td>\n",
       "      <td>PE</td>\n",
       "      <td>Y</td>\n",
       "      <td>2001-07-03</td>\n",
       "      <td>2001-07-16</td>\n",
       "      <td>657.74</td>\n",
       "      <td>0</td>\n",
       "      <td>...</td>\n",
       "      <td>R6</td>\n",
       "      <td>NaN</td>\n",
       "      <td>NaN</td>\n",
       "      <td>NaN</td>\n",
       "      <td>NaN</td>\n",
       "      <td>N</td>\n",
       "      <td>3420</td>\n",
       "      <td>2002-09-18</td>\n",
       "      <td>13.0</td>\n",
       "      <td>-0.584017</td>\n",
       "    </tr>\n",
       "    <tr>\n",
       "      <th>4245</th>\n",
       "      <td>56675</td>\n",
       "      <td>BROOKLYN</td>\n",
       "      <td>OTHERS</td>\n",
       "      <td>Y</td>\n",
       "      <td>RA</td>\n",
       "      <td>N</td>\n",
       "      <td>2011-10-26</td>\n",
       "      <td>2012-05-22</td>\n",
       "      <td>1012.02</td>\n",
       "      <td>3277</td>\n",
       "      <td>...</td>\n",
       "      <td>R6</td>\n",
       "      <td>NaN</td>\n",
       "      <td>NaN</td>\n",
       "      <td>NaN</td>\n",
       "      <td>NaN</td>\n",
       "      <td>N</td>\n",
       "      <td>3277</td>\n",
       "      <td>2019-03-25</td>\n",
       "      <td>209.0</td>\n",
       "      <td>0.164887</td>\n",
       "    </tr>\n",
       "  </tbody>\n",
       "</table>\n",
       "<p>4246 rows × 24 columns</p>\n",
       "</div>"
      ],
      "text/plain": [
       "      Unnamed: 0   Borough Building Type Efiling Filed  \\\n",
       "0          57618  BROOKLYN        OTHERS             Y   \n",
       "1          88588  BROOKLYN        OTHERS             N   \n",
       "2          53763  BROOKLYN  1-2-3 FAMILY             N   \n",
       "3          49502  BROOKLYN  1-2-3 FAMILY             N   \n",
       "4          87467  BROOKLYN  1-2-3 FAMILY             N   \n",
       "5          90157  BROOKLYN  1-2-3 FAMILY             N   \n",
       "6          50385  BROOKLYN  1-2-3 FAMILY             N   \n",
       "7         116710  BROOKLYN        OTHERS             N   \n",
       "8         117492  BROOKLYN        OTHERS             N   \n",
       "9          54014  BROOKLYN        OTHERS             N   \n",
       "10         51423  BROOKLYN        OTHERS             N   \n",
       "11         52358  BROOKLYN  1-2-3 FAMILY             N   \n",
       "12         54103  BROOKLYN  1-2-3 FAMILY             N   \n",
       "13         53230  BROOKLYN  1-2-3 FAMILY             N   \n",
       "14        107138  BROOKLYN  1-2-3 FAMILY             N   \n",
       "15         70752  BROOKLYN        OTHERS             Y   \n",
       "16        109245  BROOKLYN        OTHERS             Y   \n",
       "17         17098  BROOKLYN  1-2-3 FAMILY             N   \n",
       "18         51023  BROOKLYN  1-2-3 FAMILY             N   \n",
       "19         76581  BROOKLYN        OTHERS             Y   \n",
       "20         88339  BROOKLYN  1-2-3 FAMILY             N   \n",
       "21          5702  BROOKLYN        OTHERS             Y   \n",
       "22        101678  BROOKLYN  1-2-3 FAMILY             N   \n",
       "23         82487  BROOKLYN        OTHERS             Y   \n",
       "24         52286  BROOKLYN  1-2-3 FAMILY             N   \n",
       "25        102494  BROOKLYN  1-2-3 FAMILY             N   \n",
       "26         49898  BROOKLYN  1-2-3 FAMILY             N   \n",
       "27         48338  BROOKLYN        OTHERS             N   \n",
       "28         52352  BROOKLYN        OTHERS             N   \n",
       "29         13651  BROOKLYN  1-2-3 FAMILY             Y   \n",
       "...          ...       ...           ...           ...   \n",
       "4216       54227  BROOKLYN        OTHERS             N   \n",
       "4217       88478  BROOKLYN  1-2-3 FAMILY             N   \n",
       "4218      116904  BROOKLYN        OTHERS             N   \n",
       "4219       90199  BROOKLYN        OTHERS             Y   \n",
       "4220       91169  BROOKLYN  1-2-3 FAMILY             N   \n",
       "4221       83590  BROOKLYN        OTHERS             Y   \n",
       "4222       89914  BROOKLYN        OTHERS             N   \n",
       "4223       70023  BROOKLYN  1-2-3 FAMILY             Y   \n",
       "4224       55034  BROOKLYN        OTHERS             N   \n",
       "4225       51485  BROOKLYN  1-2-3 FAMILY             N   \n",
       "4226       70523  BROOKLYN  1-2-3 FAMILY             N   \n",
       "4227      116950  BROOKLYN  1-2-3 FAMILY             N   \n",
       "4228       16452  BROOKLYN  1-2-3 FAMILY             N   \n",
       "4229      116942  BROOKLYN  1-2-3 FAMILY             N   \n",
       "4230       48194  BROOKLYN  1-2-3 FAMILY             N   \n",
       "4231       52497  BROOKLYN  1-2-3 FAMILY             N   \n",
       "4232      117037  BROOKLYN  1-2-3 FAMILY             N   \n",
       "4233        3085  BROOKLYN  1-2-3 FAMILY             Y   \n",
       "4234        9408  BROOKLYN        OTHERS             Y   \n",
       "4235       90579  BROOKLYN        OTHERS             N   \n",
       "4236       51784  BROOKLYN  1-2-3 FAMILY             N   \n",
       "4237       52323  BROOKLYN        OTHERS             N   \n",
       "4238       56673  BROOKLYN        OTHERS             Y   \n",
       "4239       49695  BROOKLYN        OTHERS             N   \n",
       "4240       88327  BROOKLYN  1-2-3 FAMILY             N   \n",
       "4241       49191  BROOKLYN  1-2-3 FAMILY             N   \n",
       "4242      100902  BROOKLYN        OTHERS             Y   \n",
       "4243       54841  BROOKLYN        OTHERS             N   \n",
       "4244      111180  BROOKLYN  1-2-3 FAMILY             N   \n",
       "4245       56675  BROOKLYN        OTHERS             Y   \n",
       "\n",
       "     Applicant Professional Title Professional Cert  Fully Paid    Approved  \\\n",
       "0                              RA                 N  2012-11-05  2013-07-23   \n",
       "1                              RA                 N  2006-05-09  2007-03-01   \n",
       "2                              RA                 N  2004-09-15  2004-11-23   \n",
       "3                              RA                 Y  2002-07-01  2002-07-02   \n",
       "4                              PE                 N  2003-10-06  2003-11-26   \n",
       "5                              RA                 Y  2007-05-04  2007-05-15   \n",
       "6                              RA                 Y  2002-08-13  2002-08-22   \n",
       "7                              PE                 N  2001-10-19  2002-02-21   \n",
       "8                              RA                 N  2004-02-11  2004-10-01   \n",
       "9                              RA                 N  2004-11-22  2005-02-01   \n",
       "10                             RA                 N  2003-01-29  2003-04-22   \n",
       "11                             PE                 Y  2003-10-14  2003-10-20   \n",
       "12                             RA                 N  2004-12-03  2004-12-16   \n",
       "13                             PE                 Y  2004-04-09  2004-04-13   \n",
       "14                             PE                 N  2005-06-10  2005-07-14   \n",
       "15                             RA                 N  2013-07-30  2014-06-11   \n",
       "16                             RA                 N  2014-10-08  2018-02-08   \n",
       "17                             RA                 N  2007-11-19  2009-08-11   \n",
       "18                             RA                 Y  2002-11-15  2002-11-18   \n",
       "19                             RA                 N  2015-02-26  2015-05-14   \n",
       "20                             PE                 N  2006-02-06  2006-05-18   \n",
       "21                             RA                 N  2013-11-07  2015-12-02   \n",
       "22                             RA                 N  2000-03-03  2001-04-06   \n",
       "23                             RA                 N  2016-11-10  2017-11-16   \n",
       "24                             PE                 Y  2003-08-20  2003-08-21   \n",
       "25                             RA                 N  2000-04-17  2000-06-05   \n",
       "26                             RA                 N  2002-04-04  2002-04-30   \n",
       "27                             RA                 Y  2000-06-14  2000-06-19   \n",
       "28                             RA                 N  2003-08-22  2004-11-10   \n",
       "29                             RA                 N  2017-11-29  2018-03-30   \n",
       "...                           ...               ...         ...         ...   \n",
       "4216                           PE                 N  2005-01-20  2005-04-04   \n",
       "4217                           PE                 N  2006-03-15  2006-07-24   \n",
       "4218                           RA                 N  2002-08-27  2005-05-19   \n",
       "4219                           RA                 N  2014-09-08  2015-04-23   \n",
       "4220                           RA                 Y  2003-09-15  2003-09-18   \n",
       "4221                           RA                 N  2017-03-31  2018-08-09   \n",
       "4222                           RA                 N  2007-03-01  2007-07-06   \n",
       "4223                           RA                 N  2013-05-21  2014-02-21   \n",
       "4224                           RA                 Y  2005-07-14  2005-07-22   \n",
       "4225                           RA                 N  2003-02-12  2003-03-27   \n",
       "4226                           PE                 N  2002-11-25  2003-01-17   \n",
       "4227                           PE                 N  2002-09-25  2003-04-09   \n",
       "4228                           PE                 Y  2006-12-06  2006-12-18   \n",
       "4229                           RA                 Y  2002-09-16  2002-09-18   \n",
       "4230                           RA                 Y  2000-07-27  2000-07-31   \n",
       "4231                           RA                 N  2003-09-24  2003-11-03   \n",
       "4232                           RA                 N  2002-12-27  2003-03-04   \n",
       "4233                           RA                 N  2016-05-13  2016-06-28   \n",
       "4234                           RA                 N  2016-03-16  2017-04-04   \n",
       "4235                           RA                 Y  2007-08-20  2007-12-07   \n",
       "4236                           RA                 N  2003-04-16  2003-07-07   \n",
       "4237                           RA                 N  2003-08-19  2004-02-18   \n",
       "4238                           PE                 N  2008-03-13  2008-04-28   \n",
       "4239                           RA                 Y  2002-01-15  2002-01-24   \n",
       "4240                           RA                 N  2006-02-02  2006-05-31   \n",
       "4241                           PE                 Y  2001-10-09  2001-10-12   \n",
       "4242                           PE                 N  2015-06-05  2015-11-16   \n",
       "4243                           PE                 N  2005-06-13  2006-01-19   \n",
       "4244                           PE                 Y  2001-07-03  2001-07-16   \n",
       "4245                           RA                 N  2011-10-26  2012-05-22   \n",
       "\n",
       "      Total Est. Fee  Proposed Zoning Sqft    ...     Zoning Dist1  \\\n",
       "0            4476.52                 12228    ...              R7A   \n",
       "1            5396.00                 15856    ...            C4-4L   \n",
       "2             653.97                     0    ...               R5   \n",
       "3             704.26                     0    ...               R5   \n",
       "4             710.08                     0    ...             R3-1   \n",
       "5             649.97                     0    ...               R6   \n",
       "6             349.94                     0    ...               R6   \n",
       "7           20512.74                 20010    ...             C8-2   \n",
       "8            4012.78                     0    ...               R5   \n",
       "9            5424.41                     0    ...               R6   \n",
       "10           1839.80                     0    ...             C1-1   \n",
       "11            626.34                     0    ...             C2-1   \n",
       "12            230.00                     0    ...             R3-2   \n",
       "13            640.09                     0    ...               R6   \n",
       "14            678.68                     0    ...             R3-1   \n",
       "15            862.24                  1924    ...             M1-2   \n",
       "16           1822.08                  6411    ...             M1-2   \n",
       "17            525.46                     0    ...               R4   \n",
       "18            600.57                     0    ...               R5   \n",
       "19          20655.96                 79445    ...         M1-1/R7D   \n",
       "20            619.85                     0    ...               R5   \n",
       "21         162966.80                379501    ...             M1-2   \n",
       "22            594.29                     0    ...             C6-1   \n",
       "23           2227.72                  5394    ...              R6B   \n",
       "24            713.57                     0    ...             C1-3   \n",
       "25            417.84                     0    ...               R6   \n",
       "26           1295.88                     0    ...               R5   \n",
       "27           1112.32                     0    ...             C8-2   \n",
       "28           1395.95                     0    ...               R5   \n",
       "29            334.68                  7959    ...              R6B   \n",
       "...              ...                   ...    ...              ...   \n",
       "4216         1906.88                     0    ...               R6   \n",
       "4217          517.02                     0    ...               R4   \n",
       "4218         2905.36                     0    ...               R6   \n",
       "4219         1947.70                  4970    ...              R6B   \n",
       "4220          380.20                     0    ...             R3-1   \n",
       "4221         3236.78                  8791    ...               R6   \n",
       "4222         2388.63                     0    ...               R6   \n",
       "4223          196.56                  1638    ...               R6   \n",
       "4224         2516.79                     0    ...               R6   \n",
       "4225          928.84                     0    ...              R2X   \n",
       "4226          690.10                     0    ...               R6   \n",
       "4227          566.63                     0    ...               R6   \n",
       "4228          679.86                     0    ...               R6   \n",
       "4229          682.16                     0    ...               R6   \n",
       "4230          395.46                     0    ...             R3-2   \n",
       "4231          348.90                     0    ...              R6B   \n",
       "4232          861.27                     0    ...             C2-3   \n",
       "4233          196.80                  1640    ...               R6   \n",
       "4234         1535.30                  4724    ...              R6A   \n",
       "4235        42703.33                     0    ...             M1-2   \n",
       "4236          834.52                     0    ...             R3-1   \n",
       "4237         6512.50                     0    ...               R6   \n",
       "4238         2022.28                  5615    ...              R6B   \n",
       "4239         2523.43                     0    ...               R6   \n",
       "4240          776.13                     0    ...             C1-2   \n",
       "4241          615.87                     0    ...               R6   \n",
       "4242         1613.92                  5609    ...               R6   \n",
       "4243          878.53                     0    ...               R6   \n",
       "4244          657.74                     0    ...               R6   \n",
       "4245         1012.02                  3277    ...               R6   \n",
       "\n",
       "      Zoning Dist2  Zoning Dist3 Special District 1 Special District 2  \\\n",
       "0              NaN           NaN                NaN                NaN   \n",
       "1              NaN           NaN                NaN                NaN   \n",
       "2              NaN           NaN                NaN                NaN   \n",
       "3              NaN           NaN                NaN                NaN   \n",
       "4              NaN           NaN                NaN                NaN   \n",
       "5              NaN           NaN                NaN                NaN   \n",
       "6              NaN           NaN                NaN                NaN   \n",
       "7              NaN           NaN                NaN                NaN   \n",
       "8              NaN           NaN                NaN                NaN   \n",
       "9              NaN           NaN                 OP                NaN   \n",
       "10              R6           NaN                NaN                NaN   \n",
       "11              R5           NaN                NaN                NaN   \n",
       "12             NaN           NaN                NaN                NaN   \n",
       "13             NaN           NaN                NaN                NaN   \n",
       "14             NaN           NaN                NaN                NaN   \n",
       "15             NaN           NaN                NaN                NaN   \n",
       "16             R6A           NaN               MX-8                 GW   \n",
       "17             NaN           NaN                NaN                NaN   \n",
       "18             NaN           NaN                NaN                NaN   \n",
       "19             NaN           NaN              MX-10                NaN   \n",
       "20             NaN           NaN                NaN                NaN   \n",
       "21             NaN           NaN                NaN                IBZ   \n",
       "22            R7-2           NaN                NaN                NaN   \n",
       "23             NaN           NaN                NaN                NaN   \n",
       "24              R5           NaN                NaN                NaN   \n",
       "25             NaN           NaN                NaN                NaN   \n",
       "26             NaN           NaN                 OP                NaN   \n",
       "27             NaN           NaN                NaN                NaN   \n",
       "28             NaN           NaN                NaN                NaN   \n",
       "29             NaN           NaN                NaN                NaN   \n",
       "...            ...           ...                ...                ...   \n",
       "4216           NaN           NaN                NaN                NaN   \n",
       "4217           NaN           NaN                NaN                NaN   \n",
       "4218           NaN           NaN                NaN                NaN   \n",
       "4219           NaN           NaN                NaN                NaN   \n",
       "4220           NaN           NaN                NaN                NaN   \n",
       "4221           NaN           NaN                NaN                NaN   \n",
       "4222           NaN           NaN                NaN                NaN   \n",
       "4223           NaN           NaN                NaN                NaN   \n",
       "4224           NaN           NaN                NaN                NaN   \n",
       "4225           NaN           NaN                 OP                NaN   \n",
       "4226           NaN           NaN                NaN                NaN   \n",
       "4227           NaN           NaN                NaN                NaN   \n",
       "4228           NaN           NaN                NaN                NaN   \n",
       "4229           NaN           NaN                NaN                NaN   \n",
       "4230           NaN           NaN                NaN                NaN   \n",
       "4231           NaN           NaN                NaN                NaN   \n",
       "4232            R5           NaN                NaN                NaN   \n",
       "4233           NaN           NaN                NaN                NaN   \n",
       "4234           NaN           NaN                NaN                NaN   \n",
       "4235           R6A           NaN                NaN                NaN   \n",
       "4236           NaN           NaN                 OP                NaN   \n",
       "4237          M1-2           NaN                NaN                NaN   \n",
       "4238           NaN           NaN                NaN                NaN   \n",
       "4239           NaN           NaN                  N                NaN   \n",
       "4240            R4           NaN                NaN                NaN   \n",
       "4241           NaN           NaN                NaN                NaN   \n",
       "4242           NaN           NaN                NaN                NaN   \n",
       "4243           NaN           NaN                NaN                NaN   \n",
       "4244           NaN           NaN                NaN                NaN   \n",
       "4245           NaN           NaN                NaN                NaN   \n",
       "\n",
       "     Non-Profit Total_Construction_Floor_Area Signoff_Date Duration   Z_score  \n",
       "0             Y                         14111          NaN    260.0  0.359755  \n",
       "1             N                         28974          NaN    296.0  0.497309  \n",
       "2             N                          3465   2006-05-12     69.0 -0.370045  \n",
       "3             Y                          3820   2007-07-03      1.0 -0.629869  \n",
       "4             N                          3870   2005-06-21     51.0 -0.438822  \n",
       "5             N                          4471   2012-11-07     11.0 -0.591659  \n",
       "6             Y                          3009   2005-07-08      9.0 -0.599301  \n",
       "7             N                         79055          NaN    125.0 -0.156072  \n",
       "8             N                         14347          NaN    233.0  0.256589  \n",
       "9             N                         20738   2008-12-11     71.0 -0.362403  \n",
       "10            N                          6000   2006-02-07     83.0 -0.316552  \n",
       "11            N                          3150   2004-05-26      6.0 -0.610764  \n",
       "12            N                           240   2007-03-28     13.0 -0.584017  \n",
       "13            N                          4386   2005-11-14      4.0 -0.618406  \n",
       "14            N                          3600   2008-06-25     34.0 -0.503778  \n",
       "15            N                          1924   2018-03-22    316.0  0.573727  \n",
       "16            N                          7008          NaN   1219.0  4.024036  \n",
       "17            N                          3452          NaN    631.0  1.777323  \n",
       "18            N                          2980   2004-08-13      3.0 -0.622227  \n",
       "19            N                         79446          NaN     77.0 -0.339477  \n",
       "20            N                          4212   2007-10-02    101.0 -0.247775  \n",
       "21            N                        626180          NaN    755.0  2.251120  \n",
       "22            N                          2797   2004-08-27    399.0  0.890865  \n",
       "23            N                          7222          NaN    371.0  0.783879  \n",
       "24            N                          3900   2005-05-31      1.0 -0.629869  \n",
       "25            N                          2475   2001-04-10     49.0 -0.446464  \n",
       "26            N                          8907   2009-09-11     26.0 -0.534345  \n",
       "27            N                          2892   2003-01-21      5.0 -0.614585  \n",
       "28            N                          4332          NaN    446.0  1.070450  \n",
       "29            N                          5578          NaN    121.0 -0.171356  \n",
       "...         ...                           ...          ...      ...       ...  \n",
       "4216          N                          7063   2006-09-26     74.0 -0.350940  \n",
       "4217          N                          2210   2007-06-08    131.0 -0.133147  \n",
       "4218          N                         10871   2015-02-02    996.0  3.171966  \n",
       "4219          N                          6145   2019-04-18    227.0  0.233664  \n",
       "4220          N                          2203   2005-06-08      3.0 -0.622227  \n",
       "4221          N                         11103          NaN    496.0  1.261497  \n",
       "4222          N                          8847   2011-12-21    127.0 -0.148430  \n",
       "4223          Y                          1638   2016-12-07    276.0  0.420890  \n",
       "4224          N                          9349          NaN      8.0 -0.603122  \n",
       "4225          N                          5751   2008-12-22     43.0 -0.469389  \n",
       "4226          N                          4816   2005-09-27     53.0 -0.431180  \n",
       "4227          N                          3891          NaN    196.0  0.115215  \n",
       "4228          Y                          4728   2007-08-07     12.0 -0.587838  \n",
       "4229          N                          3630          NaN      2.0 -0.626048  \n",
       "4230          N                          2360   2002-04-24      4.0 -0.618406  \n",
       "4231          N                          3000   2005-07-28     40.0 -0.480852  \n",
       "4232          N                          5170   2006-06-02     67.0 -0.377687  \n",
       "4233          N                          1640   2018-12-05     46.0 -0.457926  \n",
       "4234          N                          5905          NaN    384.0  0.833551  \n",
       "4235          N                        166100   2011-12-30    109.0 -0.217207  \n",
       "4236          N                          4940          NaN     82.0 -0.320373  \n",
       "4237          N                         25000   2006-10-18    183.0  0.065542  \n",
       "4238          N                          7412          NaN     46.0 -0.457926  \n",
       "4239          N                          9375   2006-05-26      9.0 -0.599301  \n",
       "4240          N                          4309          NaN    118.0 -0.182819  \n",
       "4241          N                          3060   2006-09-20      3.0 -0.622227  \n",
       "4242          N                          5592   2017-07-20    164.0 -0.007056  \n",
       "4243          N                          2932   2009-04-16    220.0  0.206917  \n",
       "4244          N                          3420   2002-09-18     13.0 -0.584017  \n",
       "4245          N                          3277   2019-03-25    209.0  0.164887  \n",
       "\n",
       "[4246 rows x 24 columns]"
      ]
     },
     "execution_count": 143,
     "metadata": {},
     "output_type": "execute_result"
    }
   ],
   "source": [
    "brooklyn = pd.read_csv('BROOKLYN.CSV')\n",
    "brooklyn"
   ]
  },
  {
   "cell_type": "code",
   "execution_count": 181,
   "metadata": {},
   "outputs": [],
   "source": [
    "piv = (Brooklyn.pivot_table(index='Approved', \n",
    "                            columns='Building Type',\n",
    "                            values=['Duration'],\n",
    "                            aggfunc='mean'\n",
    "                           )\n",
    "      )"
   ]
  },
  {
   "cell_type": "code",
   "execution_count": 185,
   "metadata": {},
   "outputs": [
    {
     "data": {
      "text/plain": [
       "Text(0.5,1,'Duration - Others')"
      ]
     },
     "execution_count": 185,
     "metadata": {},
     "output_type": "execute_result"
    },
    {
     "data": {
      "image/png": "[encoded data removed]",
      "text/plain": [
       "<Figure size 432x288 with 2 Axes>"
      ]
     },
     "metadata": {
      "needs_background": "light"
     },
     "output_type": "display_data"
    }
   ],
   "source": [
    "ax1, ax2 = (piv.plot(kind='hist', bins=30, \n",
    "                                       legend=False, subplots=True, sharey=True))\n",
    "plt.xlabel('Duration (days)')\n",
    "\n",
    "ax1.set_title('Duration - 1-3 family houses')\n",
    "\n",
    "ax2.set_title('Duration - Others')"
   ]
  },
  {
   "cell_type": "code",
   "execution_count": null,
   "metadata": {},
   "outputs": [],
   "source": []
  }
 ],
 "metadata": {
  "kernelspec": {
   "display_name": "Python 3",
   "language": "python",
   "name": "python3"
  },
  "language_info": {
   "codemirror_mode": {
    "name": "ipython",
    "version": 3
   },
   "file_extension": ".py",
   "mimetype": "text/x-python",
   "name": "python",
   "nbconvert_exporter": "python",
   "pygments_lexer": "ipython3",
   "version": "3.7.0"
  }
 },
 "nbformat": 4,
 "nbformat_minor": 2
}
