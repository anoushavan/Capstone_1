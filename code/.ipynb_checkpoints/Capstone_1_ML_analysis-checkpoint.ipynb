{
 "cells": [
  {
   "cell_type": "code",
   "execution_count": 104,
   "metadata": {},
   "outputs": [],
   "source": [
    "%matplotlib inline\n",
    "import pandas as pd\n",
    "import numpy as np\n",
    "from matplotlib import pyplot as plt\n",
    "import seaborn as sns"
   ]
  },
  {
   "cell_type": "code",
   "execution_count": 82,
   "metadata": {},
   "outputs": [],
   "source": [
    "data = pd.read_csv('data/cleaned_data.csv', \n",
    "                   parse_dates=['Fully Paid','Approved']).drop(['Unnamed: 0'],axis=1)"
   ]
  },
  {
   "cell_type": "code",
   "execution_count": 83,
   "metadata": {},
   "outputs": [],
   "source": [
    "# Select only the past 5 years of data to make sure the data is relevant\n",
    "data = data[data['Fully Paid'] > '2014-05-15']"
   ]
  },
  {
   "cell_type": "markdown",
   "metadata": {},
   "source": [
    "### 1. Regression analysis\n",
    "\n",
    "* Data has both continuous and categorical variable. In order to conduct regression analysis to predict the duration of the building permit, we need to convert the categorical variables into numeric dummies.\n",
    "* Then we need to combine the relevant columns of the data into a single dataframe, on whic we will perform the regression analysis."
   ]
  },
  {
   "cell_type": "code",
   "execution_count": 84,
   "metadata": {
    "scrolled": true
   },
   "outputs": [
    {
     "data": {
      "text/html": [
       "<div>\n",
       "<style scoped>\n",
       "    .dataframe tbody tr th:only-of-type {\n",
       "        vertical-align: middle;\n",
       "    }\n",
       "\n",
       "    .dataframe tbody tr th {\n",
       "        vertical-align: top;\n",
       "    }\n",
       "\n",
       "    .dataframe thead th {\n",
       "        text-align: right;\n",
       "    }\n",
       "</style>\n",
       "<table border=\"1\" class=\"dataframe\">\n",
       "  <thead>\n",
       "    <tr style=\"text-align: right;\">\n",
       "      <th></th>\n",
       "      <th>Borough_BROOKLYN</th>\n",
       "      <th>Borough_MANHATTAN</th>\n",
       "      <th>Borough_QUEENS</th>\n",
       "      <th>Borough_STATEN ISLAND</th>\n",
       "      <th>Building Type</th>\n",
       "      <th>Efiled</th>\n",
       "      <th>Pro Title</th>\n",
       "      <th>Pro Certified</th>\n",
       "    </tr>\n",
       "  </thead>\n",
       "  <tbody>\n",
       "    <tr>\n",
       "      <td>0</td>\n",
       "      <td>0</td>\n",
       "      <td>0</td>\n",
       "      <td>1</td>\n",
       "      <td>0</td>\n",
       "      <td>0</td>\n",
       "      <td>1</td>\n",
       "      <td>1</td>\n",
       "      <td>0</td>\n",
       "    </tr>\n",
       "    <tr>\n",
       "      <td>3</td>\n",
       "      <td>0</td>\n",
       "      <td>0</td>\n",
       "      <td>1</td>\n",
       "      <td>0</td>\n",
       "      <td>0</td>\n",
       "      <td>1</td>\n",
       "      <td>1</td>\n",
       "      <td>1</td>\n",
       "    </tr>\n",
       "    <tr>\n",
       "      <td>4</td>\n",
       "      <td>1</td>\n",
       "      <td>0</td>\n",
       "      <td>0</td>\n",
       "      <td>0</td>\n",
       "      <td>1</td>\n",
       "      <td>1</td>\n",
       "      <td>1</td>\n",
       "      <td>0</td>\n",
       "    </tr>\n",
       "    <tr>\n",
       "      <td>5</td>\n",
       "      <td>0</td>\n",
       "      <td>0</td>\n",
       "      <td>0</td>\n",
       "      <td>1</td>\n",
       "      <td>0</td>\n",
       "      <td>1</td>\n",
       "      <td>1</td>\n",
       "      <td>0</td>\n",
       "    </tr>\n",
       "    <tr>\n",
       "      <td>6</td>\n",
       "      <td>1</td>\n",
       "      <td>0</td>\n",
       "      <td>0</td>\n",
       "      <td>0</td>\n",
       "      <td>1</td>\n",
       "      <td>1</td>\n",
       "      <td>1</td>\n",
       "      <td>0</td>\n",
       "    </tr>\n",
       "  </tbody>\n",
       "</table>\n",
       "</div>"
      ],
      "text/plain": [
       "   Borough_BROOKLYN  Borough_MANHATTAN  Borough_QUEENS  Borough_STATEN ISLAND  \\\n",
       "0                 0                  0               1                      0   \n",
       "3                 0                  0               1                      0   \n",
       "4                 1                  0               0                      0   \n",
       "5                 0                  0               0                      1   \n",
       "6                 1                  0               0                      0   \n",
       "\n",
       "   Building Type  Efiled  Pro Title  Pro Certified  \n",
       "0              0       1          1              0  \n",
       "3              0       1          1              1  \n",
       "4              1       1          1              0  \n",
       "5              0       1          1              0  \n",
       "6              1       1          1              0  "
      ]
     },
     "execution_count": 84,
     "metadata": {},
     "output_type": "execute_result"
    }
   ],
   "source": [
    "# convert the categorical variables into numeric dummies\n",
    "df_cat = pd.get_dummies(data[['Borough', 'Building Type', 'Efiling Filed',\n",
    "        'Applicant Professional Title', 'Professional Cert']], drop_first = True)\n",
    "\n",
    "# by specifying \"drop_first=True\" we ensure that there is no correlation among the dummies.\n",
    "# Basically, for n categories we will have n-1 dummies.\n",
    "\n",
    "df_cat = df_cat.rename(columns={'Building Type_OTHERS':'Building Type',\n",
    "                                'Efiling Filed_Y':'Efiled',\n",
    "                               'Applicant Professional Title_RA':'Pro Title',\n",
    "                               'Professional Cert_Y':'Pro Certified'})\n",
    "df_cat.head()"
   ]
  },
  {
   "cell_type": "code",
   "execution_count": 130,
   "metadata": {},
   "outputs": [
    {
     "data": {
      "text/html": [
       "<div>\n",
       "<style scoped>\n",
       "    .dataframe tbody tr th:only-of-type {\n",
       "        vertical-align: middle;\n",
       "    }\n",
       "\n",
       "    .dataframe tbody tr th {\n",
       "        vertical-align: top;\n",
       "    }\n",
       "\n",
       "    .dataframe thead th {\n",
       "        text-align: right;\n",
       "    }\n",
       "</style>\n",
       "<table border=\"1\" class=\"dataframe\">\n",
       "  <thead>\n",
       "    <tr style=\"text-align: right;\">\n",
       "      <th></th>\n",
       "      <th>Borough</th>\n",
       "      <th>Building Type</th>\n",
       "      <th>Efiling Filed</th>\n",
       "      <th>Applicant Professional Title</th>\n",
       "      <th>Professional Cert</th>\n",
       "      <th>Fully Paid</th>\n",
       "      <th>Approved</th>\n",
       "      <th>Total Est. Fee</th>\n",
       "      <th>Proposed Zoning Sqft</th>\n",
       "      <th>Proposed No. Of Stories</th>\n",
       "      <th>...</th>\n",
       "      <th>Zoning Dist1</th>\n",
       "      <th>Zoning Dist2</th>\n",
       "      <th>Zoning Dist3</th>\n",
       "      <th>Special District 1</th>\n",
       "      <th>Special District 2</th>\n",
       "      <th>Non-Profit</th>\n",
       "      <th>Total_Construction_Floor_Area</th>\n",
       "      <th>Signoff_Date</th>\n",
       "      <th>Duration</th>\n",
       "      <th>Z_score</th>\n",
       "    </tr>\n",
       "  </thead>\n",
       "  <tbody>\n",
       "    <tr>\n",
       "      <td>0</td>\n",
       "      <td>QUEENS</td>\n",
       "      <td>1-2-3 FAMILY</td>\n",
       "      <td>Y</td>\n",
       "      <td>RA</td>\n",
       "      <td>N</td>\n",
       "      <td>2018-11-02</td>\n",
       "      <td>2019-04-09</td>\n",
       "      <td>243.00</td>\n",
       "      <td>2700</td>\n",
       "      <td>2</td>\n",
       "      <td>...</td>\n",
       "      <td>R3A</td>\n",
       "      <td>NaN</td>\n",
       "      <td>NaN</td>\n",
       "      <td>NaN</td>\n",
       "      <td>NaN</td>\n",
       "      <td>N</td>\n",
       "      <td>4050</td>\n",
       "      <td>NaN</td>\n",
       "      <td>158.0</td>\n",
       "      <td>-0.035313</td>\n",
       "    </tr>\n",
       "    <tr>\n",
       "      <td>3</td>\n",
       "      <td>QUEENS</td>\n",
       "      <td>1-2-3 FAMILY</td>\n",
       "      <td>Y</td>\n",
       "      <td>RA</td>\n",
       "      <td>Y</td>\n",
       "      <td>2018-11-05</td>\n",
       "      <td>2019-01-31</td>\n",
       "      <td>100.00</td>\n",
       "      <td>300</td>\n",
       "      <td>1</td>\n",
       "      <td>...</td>\n",
       "      <td>R4-1</td>\n",
       "      <td>NaN</td>\n",
       "      <td>NaN</td>\n",
       "      <td>NaN</td>\n",
       "      <td>NaN</td>\n",
       "      <td>N</td>\n",
       "      <td>300</td>\n",
       "      <td>NaN</td>\n",
       "      <td>87.0</td>\n",
       "      <td>-0.308763</td>\n",
       "    </tr>\n",
       "    <tr>\n",
       "      <td>4</td>\n",
       "      <td>BROOKLYN</td>\n",
       "      <td>OTHERS</td>\n",
       "      <td>Y</td>\n",
       "      <td>RA</td>\n",
       "      <td>N</td>\n",
       "      <td>2014-06-14</td>\n",
       "      <td>2014-12-24</td>\n",
       "      <td>2209.84</td>\n",
       "      <td>5994</td>\n",
       "      <td>4</td>\n",
       "      <td>...</td>\n",
       "      <td>R6B</td>\n",
       "      <td>NaN</td>\n",
       "      <td>NaN</td>\n",
       "      <td>NaN</td>\n",
       "      <td>NaN</td>\n",
       "      <td>N</td>\n",
       "      <td>7884</td>\n",
       "      <td>2018-05-25</td>\n",
       "      <td>193.0</td>\n",
       "      <td>0.099486</td>\n",
       "    </tr>\n",
       "    <tr>\n",
       "      <td>5</td>\n",
       "      <td>STATEN ISLAND</td>\n",
       "      <td>1-2-3 FAMILY</td>\n",
       "      <td>Y</td>\n",
       "      <td>RA</td>\n",
       "      <td>N</td>\n",
       "      <td>2015-01-23</td>\n",
       "      <td>2015-09-14</td>\n",
       "      <td>587.96</td>\n",
       "      <td>1245</td>\n",
       "      <td>3</td>\n",
       "      <td>...</td>\n",
       "      <td>R3-1</td>\n",
       "      <td>NaN</td>\n",
       "      <td>NaN</td>\n",
       "      <td>NaN</td>\n",
       "      <td>NaN</td>\n",
       "      <td>N</td>\n",
       "      <td>2058</td>\n",
       "      <td>2018-05-25</td>\n",
       "      <td>234.0</td>\n",
       "      <td>0.257393</td>\n",
       "    </tr>\n",
       "    <tr>\n",
       "      <td>6</td>\n",
       "      <td>BROOKLYN</td>\n",
       "      <td>OTHERS</td>\n",
       "      <td>Y</td>\n",
       "      <td>RA</td>\n",
       "      <td>N</td>\n",
       "      <td>2015-03-25</td>\n",
       "      <td>2015-06-22</td>\n",
       "      <td>5082.32</td>\n",
       "      <td>15045</td>\n",
       "      <td>8</td>\n",
       "      <td>...</td>\n",
       "      <td>R7-1</td>\n",
       "      <td>NaN</td>\n",
       "      <td>NaN</td>\n",
       "      <td>NaN</td>\n",
       "      <td>NaN</td>\n",
       "      <td>N</td>\n",
       "      <td>18932</td>\n",
       "      <td>NaN</td>\n",
       "      <td>89.0</td>\n",
       "      <td>-0.301060</td>\n",
       "    </tr>\n",
       "  </tbody>\n",
       "</table>\n",
       "<p>5 rows × 23 columns</p>\n",
       "</div>"
      ],
      "text/plain": [
       "         Borough Building Type Efiling Filed Applicant Professional Title  \\\n",
       "0         QUEENS  1-2-3 FAMILY             Y                           RA   \n",
       "3         QUEENS  1-2-3 FAMILY             Y                           RA   \n",
       "4       BROOKLYN        OTHERS             Y                           RA   \n",
       "5  STATEN ISLAND  1-2-3 FAMILY             Y                           RA   \n",
       "6       BROOKLYN        OTHERS             Y                           RA   \n",
       "\n",
       "  Professional Cert Fully Paid   Approved  Total Est. Fee  \\\n",
       "0                 N 2018-11-02 2019-04-09          243.00   \n",
       "3                 Y 2018-11-05 2019-01-31          100.00   \n",
       "4                 N 2014-06-14 2014-12-24         2209.84   \n",
       "5                 N 2015-01-23 2015-09-14          587.96   \n",
       "6                 N 2015-03-25 2015-06-22         5082.32   \n",
       "\n",
       "   Proposed Zoning Sqft  Proposed No. Of Stories  ...  Zoning Dist1  \\\n",
       "0                  2700                        2  ...           R3A   \n",
       "3                   300                        1  ...          R4-1   \n",
       "4                  5994                        4  ...           R6B   \n",
       "5                  1245                        3  ...          R3-1   \n",
       "6                 15045                        8  ...          R7-1   \n",
       "\n",
       "   Zoning Dist2 Zoning Dist3 Special District 1 Special District 2 Non-Profit  \\\n",
       "0           NaN          NaN                NaN                NaN          N   \n",
       "3           NaN          NaN                NaN                NaN          N   \n",
       "4           NaN          NaN                NaN                NaN          N   \n",
       "5           NaN          NaN                NaN                NaN          N   \n",
       "6           NaN          NaN                NaN                NaN          N   \n",
       "\n",
       "  Total_Construction_Floor_Area Signoff_Date Duration   Z_score  \n",
       "0                          4050          NaN    158.0 -0.035313  \n",
       "3                           300          NaN     87.0 -0.308763  \n",
       "4                          7884   2018-05-25    193.0  0.099486  \n",
       "5                          2058   2018-05-25    234.0  0.257393  \n",
       "6                         18932          NaN     89.0 -0.301060  \n",
       "\n",
       "[5 rows x 23 columns]"
      ]
     },
     "execution_count": 130,
     "metadata": {},
     "output_type": "execute_result"
    }
   ],
   "source": [
    "data.head()"
   ]
  },
  {
   "cell_type": "code",
   "execution_count": 40,
   "metadata": {
    "scrolled": false
   },
   "outputs": [
    {
     "data": {
      "text/html": [
       "<div>\n",
       "<style scoped>\n",
       "    .dataframe tbody tr th:only-of-type {\n",
       "        vertical-align: middle;\n",
       "    }\n",
       "\n",
       "    .dataframe tbody tr th {\n",
       "        vertical-align: top;\n",
       "    }\n",
       "\n",
       "    .dataframe thead th {\n",
       "        text-align: right;\n",
       "    }\n",
       "</style>\n",
       "<table border=\"1\" class=\"dataframe\">\n",
       "  <thead>\n",
       "    <tr style=\"text-align: right;\">\n",
       "      <th></th>\n",
       "      <th>Borough_BROOKLYN</th>\n",
       "      <th>Borough_MANHATTAN</th>\n",
       "      <th>Borough_QUEENS</th>\n",
       "      <th>Borough_STATEN ISLAND</th>\n",
       "      <th>Building Type</th>\n",
       "      <th>Efiled</th>\n",
       "      <th>Pro Title</th>\n",
       "      <th>Pro Certified</th>\n",
       "      <th>Duration</th>\n",
       "      <th>Total Est. Fee</th>\n",
       "      <th>Proposed Zoning Sqft</th>\n",
       "      <th>Proposed No. Of Stories</th>\n",
       "    </tr>\n",
       "  </thead>\n",
       "  <tbody>\n",
       "    <tr>\n",
       "      <td>0</td>\n",
       "      <td>0</td>\n",
       "      <td>0</td>\n",
       "      <td>1</td>\n",
       "      <td>0</td>\n",
       "      <td>0</td>\n",
       "      <td>1</td>\n",
       "      <td>1</td>\n",
       "      <td>0</td>\n",
       "      <td>158.0</td>\n",
       "      <td>243.0</td>\n",
       "      <td>2700</td>\n",
       "      <td>2</td>\n",
       "    </tr>\n",
       "    <tr>\n",
       "      <td>3</td>\n",
       "      <td>0</td>\n",
       "      <td>0</td>\n",
       "      <td>1</td>\n",
       "      <td>0</td>\n",
       "      <td>0</td>\n",
       "      <td>1</td>\n",
       "      <td>1</td>\n",
       "      <td>1</td>\n",
       "      <td>87.0</td>\n",
       "      <td>100.0</td>\n",
       "      <td>300</td>\n",
       "      <td>1</td>\n",
       "    </tr>\n",
       "  </tbody>\n",
       "</table>\n",
       "</div>"
      ],
      "text/plain": [
       "   Borough_BROOKLYN  Borough_MANHATTAN  Borough_QUEENS  Borough_STATEN ISLAND  \\\n",
       "0                 0                  0               1                      0   \n",
       "3                 0                  0               1                      0   \n",
       "\n",
       "   Building Type  Efiled  Pro Title  Pro Certified  Duration  Total Est. Fee  \\\n",
       "0              0       1          1              0     158.0           243.0   \n",
       "3              0       1          1              1      87.0           100.0   \n",
       "\n",
       "   Proposed Zoning Sqft  Proposed No. Of Stories  \n",
       "0                  2700                        2  \n",
       "3                   300                        1  "
      ]
     },
     "execution_count": 40,
     "metadata": {},
     "output_type": "execute_result"
    }
   ],
   "source": [
    "# Create a combined dataframe with the columns to use for prediction\n",
    "df_combined = pd.merge(df_cat, data[['Total Est. Fee',\n",
    "    'Proposed Zoning Sqft', 'Proposed No. Of Stories']], left_index=True, right_index=True)\n",
    "df_combined.head(2)"
   ]
  },
  {
   "cell_type": "markdown",
   "metadata": {},
   "source": [
    "#### Examining the distribution of the target variable (duration)"
   ]
  },
  {
   "cell_type": "code",
   "execution_count": 202,
   "metadata": {
    "scrolled": false
   },
   "outputs": [
    {
     "data": {
      "image/png": "[encoded data removed]",
      "text/plain": [
       "<Figure size 576x288 with 2 Axes>"
      ]
     },
     "metadata": {
      "needs_background": "light"
     },
     "output_type": "display_data"
    }
   ],
   "source": [
    "# Plot the target variable distribution\n",
    "fig, (ax1,ax2) = plt.subplots(1,2, figsize=(8,4))\n",
    "data[['Duration']].plot.hist(ax=ax1, legend=False)\n",
    "ax1.vlines(data[['Duration']].mean(), 0, 5600, color='red')\n",
    "ax1.annotate('mean', (data[['Duration']].mean()+50, 5600))\n",
    "ax1.set_xlabel('Duration (days)')\n",
    "np.log(data[['Duration']]).plot.hist(ax=ax2, legend=False);\n",
    "ax2.vlines(np.log(data[['Duration']]).mean(), 0, 3000, color='red')\n",
    "ax2.annotate('mean', (np.log(data[['Duration']]).mean()-1.2, 3000))\n",
    "ax2.set_xlabel('Log duration (days)')\n",
    "plt.suptitle('Duration (days) distribution', y=1.05)\n",
    "plt.tight_layout()"
   ]
  },
  {
   "cell_type": "code",
   "execution_count": 166,
   "metadata": {},
   "outputs": [
    {
     "data": {
      "text/plain": [
       "Duration    4.925576\n",
       "dtype: float64"
      ]
     },
     "execution_count": 166,
     "metadata": {},
     "output_type": "execute_result"
    }
   ],
   "source": [
    "np.log(data[['Duration']]).mean()"
   ]
  },
  {
   "cell_type": "markdown",
   "metadata": {},
   "source": [
    "#### We can see that the duration is not normally distributed. it is skewed to right. Log presentation of the duration shows a more normal distribution. "
   ]
  },
  {
   "cell_type": "code",
   "execution_count": 153,
   "metadata": {
    "scrolled": true
   },
   "outputs": [
    {
     "data": {
      "image/png": "[encoded data removed]",
      "text/plain": [
       "<Figure size 432x288 with 1 Axes>"
      ]
     },
     "metadata": {
      "needs_background": "light"
     },
     "output_type": "display_data"
    }
   ],
   "source": [
    "data.boxplot(column='Duration', by='Borough');\n",
    "plt.title('')\n",
    "plt.ylabel('Duration (days)')\n",
    "plt.suptitle('Duration by borough');"
   ]
  },
  {
   "cell_type": "markdown",
   "metadata": {},
   "source": [
    "#### 1.1 Linear Regression - OLS (StatsModel)"
   ]
  },
  {
   "cell_type": "code",
   "execution_count": 115,
   "metadata": {},
   "outputs": [
    {
     "name": "stderr",
     "output_type": "stream",
     "text": [
      "/Users/anushavan/.local/lib/python3.7/site-packages/statsmodels/compat/pandas.py:23: FutureWarning: The Panel class is removed from pandas. Accessing it from the top-level namespace will also be removed in the next version\n",
      "  data_klasses = (pandas.Series, pandas.DataFrame, pandas.Panel)\n"
     ]
    }
   ],
   "source": [
    "import statsmodels.api as sm"
   ]
  },
  {
   "cell_type": "code",
   "execution_count": 144,
   "metadata": {},
   "outputs": [],
   "source": [
    "# Create the X and y for the regression\n",
    "X = df_combined.drop('Duration', axis=1)\n",
    "y = np.log(df_combined['Duration'].values.reshape(-1,1)) # taking the log values for y"
   ]
  },
  {
   "cell_type": "code",
   "execution_count": 137,
   "metadata": {
    "scrolled": false
   },
   "outputs": [
    {
     "name": "stdout",
     "output_type": "stream",
     "text": [
      "                            OLS Regression Results                            \n",
      "==============================================================================\n",
      "Dep. Variable:                      y   R-squared:                       0.166\n",
      "Model:                            OLS   Adj. R-squared:                  0.165\n",
      "Method:                 Least Squares   F-statistic:                     184.5\n",
      "Date:                Sun, 27 Oct 2019   Prob (F-statistic):               0.00\n",
      "Time:                        14:44:32   Log-Likelihood:                -67947.\n",
      "No. Observations:               10242   AIC:                         1.359e+05\n",
      "Df Residuals:                   10230   BIC:                         1.360e+05\n",
      "Df Model:                          11                                         \n",
      "Covariance Type:            nonrobust                                         \n",
      "===========================================================================================\n",
      "                              coef    std err          t      P>|t|      [0.025      0.975]\n",
      "-------------------------------------------------------------------------------------------\n",
      "const                     272.3718     53.839      5.059      0.000     166.837     377.907\n",
      "Borough_BROOKLYN          -29.3211      7.278     -4.029      0.000     -43.588     -15.054\n",
      "Borough_MANHATTAN          43.5544     11.768      3.701      0.000      20.487      66.621\n",
      "Borough_QUEENS            -47.6737      7.356     -6.481      0.000     -62.094     -33.254\n",
      "Borough_STATEN ISLAND     -73.5942      8.291     -8.876      0.000     -89.847     -57.342\n",
      "Building Type              61.8068      4.464     13.846      0.000      53.057      70.557\n",
      "Efiled                    -46.5626     53.277     -0.874      0.382    -150.996      57.871\n",
      "Pro Title                  15.0142      4.198      3.576      0.000       6.784      23.244\n",
      "Pro Certified             -90.0407      5.307    -16.966      0.000    -100.444     -79.637\n",
      "Total Est. Fee           1.708e-05   1.08e-05      1.583      0.113   -4.07e-06    3.82e-05\n",
      "Proposed Zoning Sqft    -1.467e-05   1.16e-05     -1.266      0.205   -3.74e-05    8.04e-06\n",
      "Proposed No. Of Stories     2.5890      0.468      5.534      0.000       1.672       3.506\n",
      "==============================================================================\n",
      "Omnibus:                     5751.449   Durbin-Watson:                   1.658\n",
      "Prob(Omnibus):                  0.000   Jarque-Bera (JB):            51347.101\n",
      "Skew:                           2.590   Prob(JB):                         0.00\n",
      "Kurtosis:                      12.669   Cond. No.                     7.41e+06\n",
      "==============================================================================\n",
      "\n",
      "Warnings:\n",
      "[1] Standard Errors assume that the covariance matrix of the errors is correctly specified.\n",
      "[2] The condition number is large, 7.41e+06. This might indicate that there are\n",
      "strong multicollinearity or other numerical problems.\n",
      "R^2 = 0.362\n"
     ]
    },
    {
     "name": "stderr",
     "output_type": "stream",
     "text": [
      "/Users/anushavan/opt/anaconda3/lib/python3.7/site-packages/numpy/core/fromnumeric.py:2495: FutureWarning: Method .ptp is deprecated and will be removed in a future version. Use numpy.ptp instead.\n",
      "  return ptp(axis=axis, out=out, **kwargs)\n"
     ]
    }
   ],
   "source": [
    "X = sm.add_constant(X) # adding a constant\n",
    "model = sm.OLS(y, X, missing='drop').fit()\n",
    "predictions = model.predict(X) \n",
    "\n",
    "print_model = model.summary()\n",
    "print(print_model)\n",
    "\n",
    "# Print R^2 \n",
    "print(\"R^2 = {}\".format(linreg.score(X_test, y_test).round(3)))"
   ]
  },
  {
   "cell_type": "markdown",
   "metadata": {},
   "source": [
    "#### 1.2 Linear regression: sklearn LinearRegression"
   ]
  },
  {
   "cell_type": "code",
   "execution_count": 138,
   "metadata": {},
   "outputs": [
    {
     "name": "stdout",
     "output_type": "stream",
     "text": [
      "[[ 0.00000000e+00 -2.27968870e+01  6.14595675e+01 -4.29251723e+01\n",
      "  -6.47419592e+01  6.50536908e+01 -3.29126811e+01  1.32973507e+01\n",
      "  -8.61773907e+01  1.63880421e-05 -2.22854176e-05  2.57030288e+00]]\n",
      "[252.11029723]\n",
      "Average 5-Fold cross-verification Score: 0.164\n"
     ]
    }
   ],
   "source": [
    "from sklearn.linear_model import LinearRegression # import linear regression model\n",
    "from sklearn.model_selection import train_test_split\n",
    "from sklearn.model_selection import cross_val_score # Import cross validation model\n",
    "\n",
    "# Split the data into training and test samples\n",
    "X_train, X_test, y_train, y_test = train_test_split(X, y, test_size=0.25, random_state=42)\n",
    "\n",
    "linreg = LinearRegression().fit(X_train, y_train) # fit the model on the training set\n",
    "\n",
    "# Obtain the R squared values by cross validation.\n",
    "cv_results = cross_val_score(linreg, X_test, y_test, cv=5)\n",
    "\n",
    "print(linreg.coef_)\n",
    "\n",
    "print(linreg.intercept_ )\n",
    "\n",
    "# Get the mean value of the cross-validation results for R squared values.\n",
    "mean_R2 = cv_results.mean().round(3)\n",
    "\n",
    "print('Average 5-Fold cross-verification Score: {}'.format(mean_R2))"
   ]
  },
  {
   "cell_type": "markdown",
   "metadata": {},
   "source": [
    "#### 1.3 - Lasso Regression\n",
    "\n",
    "* Helpful for feature selection. Identifies the most important variables.\n",
    "* The most important variables are the building type (1-2-3 family or Other, professional certification and proposed number of stories). Namely, the duration \n",
    "    * increases if the building is type \"other\"\n",
    "    * decreases if the application is professionally certified\n",
    "    * increases if the number of stories is high"
   ]
  },
  {
   "cell_type": "code",
   "execution_count": 139,
   "metadata": {},
   "outputs": [],
   "source": [
    "from sklearn.linear_model import Lasso"
   ]
  },
  {
   "cell_type": "code",
   "execution_count": 140,
   "metadata": {},
   "outputs": [
    {
     "data": {
      "text/plain": [
       "array([ 0.00000000e+00, -2.65023538e+01,  4.30953546e+01, -4.48475964e+01,\n",
       "       -7.05164678e+01,  6.17723040e+01, -0.00000000e+00,  1.46468947e+01,\n",
       "       -8.98772787e+01,  1.70638127e-05, -1.47868417e-05,  2.66661873e+00])"
      ]
     },
     "execution_count": 140,
     "metadata": {},
     "output_type": "execute_result"
    }
   ],
   "source": [
    "# create the names of the variables\n",
    "names = X.columns\n",
    "\n",
    "# set the lasso variable\n",
    "lasso = Lasso(alpha=0.1)\n",
    "lasso_coef = lasso.fit(X,y).coef_\n",
    "lasso_coef"
   ]
  },
  {
   "cell_type": "code",
   "execution_count": 141,
   "metadata": {
    "scrolled": false
   },
   "outputs": [
    {
     "data": {
      "image/png": "[encoded data removed]",
      "text/plain": [
       "<Figure size 432x288 with 1 Axes>"
      ]
     },
     "metadata": {
      "needs_background": "light"
     },
     "output_type": "display_data"
    }
   ],
   "source": [
    "fig, ax = plt.subplots()\n",
    "ax.bar(range(len(names)),lasso_coef)\n",
    "ax.set_xticks(range(len(names)));\n",
    "ax.set_xticklabels(names, rotation=90)\n",
    "for i, v in enumerate(lasso_coef):\n",
    "    if v < 0:\n",
    "        ax.get_children()[i].set_color('red')\n",
    "    else:\n",
    "        ax.get_children()[i].set_color('green')"
   ]
  },
  {
   "cell_type": "markdown",
   "metadata": {},
   "source": [
    "#### Ridge Regression"
   ]
  },
  {
   "cell_type": "code",
   "execution_count": 142,
   "metadata": {},
   "outputs": [],
   "source": [
    "from sklearn.linear_model import Ridge\n",
    "from sklearn.model_selection import cross_val_score\n",
    "from sklearn.model_selection import train_test_split"
   ]
  },
  {
   "cell_type": "code",
   "execution_count": 143,
   "metadata": {},
   "outputs": [
    {
     "data": {
      "text/plain": [
       "0.1621410932474645"
      ]
     },
     "execution_count": 143,
     "metadata": {},
     "output_type": "execute_result"
    }
   ],
   "source": [
    "# Split data into test and train sets\n",
    "X_train, X_test, y_train, y_test = train_test_split(X, y, test_size=0.30, random_state=42)\n",
    "# Instantiate the ridge regression and fit the train data\n",
    "ridge = Ridge(normalize=True, alpha=0.1)\n",
    "ridge.fit(X_train, y_train)\n",
    "# predict the values\n",
    "ridge_pred = ridge.predict(X_test)\n",
    "# compute the R2: how much of the variance in the y is explained by the model. \n",
    "ridge.score(X_test, y_test)"
   ]
  },
  {
   "cell_type": "code",
   "execution_count": 54,
   "metadata": {},
   "outputs": [],
   "source": [
    "from sklearn.preprocessing import scale"
   ]
  },
  {
   "cell_type": "code",
   "execution_count": 55,
   "metadata": {},
   "outputs": [],
   "source": [
    "data['Scaled_dur'] = scale(data['Duration'])"
   ]
  },
  {
   "cell_type": "code",
   "execution_count": 56,
   "metadata": {},
   "outputs": [
    {
     "data": {
      "text/html": [
       "<div>\n",
       "<style scoped>\n",
       "    .dataframe tbody tr th:only-of-type {\n",
       "        vertical-align: middle;\n",
       "    }\n",
       "\n",
       "    .dataframe tbody tr th {\n",
       "        vertical-align: top;\n",
       "    }\n",
       "\n",
       "    .dataframe thead th {\n",
       "        text-align: right;\n",
       "    }\n",
       "</style>\n",
       "<table border=\"1\" class=\"dataframe\">\n",
       "  <thead>\n",
       "    <tr style=\"text-align: right;\">\n",
       "      <th></th>\n",
       "      <th>Borough</th>\n",
       "      <th>Building Type</th>\n",
       "      <th>Efiling Filed</th>\n",
       "      <th>Applicant Professional Title</th>\n",
       "      <th>Professional Cert</th>\n",
       "      <th>Fully Paid</th>\n",
       "      <th>Approved</th>\n",
       "      <th>Total Est. Fee</th>\n",
       "      <th>Proposed Zoning Sqft</th>\n",
       "      <th>Proposed No. Of Stories</th>\n",
       "      <th>...</th>\n",
       "      <th>Zoning Dist3</th>\n",
       "      <th>Special District 1</th>\n",
       "      <th>Special District 2</th>\n",
       "      <th>Non-Profit</th>\n",
       "      <th>Total_Construction_Floor_Area</th>\n",
       "      <th>Signoff_Date</th>\n",
       "      <th>Duration</th>\n",
       "      <th>Z_score</th>\n",
       "      <th>LogDur</th>\n",
       "      <th>Scaled_dur</th>\n",
       "    </tr>\n",
       "  </thead>\n",
       "  <tbody>\n",
       "    <tr>\n",
       "      <td>0</td>\n",
       "      <td>QUEENS</td>\n",
       "      <td>1-2-3 FAMILY</td>\n",
       "      <td>Y</td>\n",
       "      <td>RA</td>\n",
       "      <td>N</td>\n",
       "      <td>2018-11-02</td>\n",
       "      <td>2019-04-09</td>\n",
       "      <td>243.00</td>\n",
       "      <td>2700</td>\n",
       "      <td>2</td>\n",
       "      <td>...</td>\n",
       "      <td>NaN</td>\n",
       "      <td>NaN</td>\n",
       "      <td>NaN</td>\n",
       "      <td>N</td>\n",
       "      <td>4050</td>\n",
       "      <td>NaN</td>\n",
       "      <td>158.0</td>\n",
       "      <td>-0.035313</td>\n",
       "      <td>5.062595</td>\n",
       "      <td>-0.260427</td>\n",
       "    </tr>\n",
       "    <tr>\n",
       "      <td>3</td>\n",
       "      <td>QUEENS</td>\n",
       "      <td>1-2-3 FAMILY</td>\n",
       "      <td>Y</td>\n",
       "      <td>RA</td>\n",
       "      <td>Y</td>\n",
       "      <td>2018-11-05</td>\n",
       "      <td>2019-01-31</td>\n",
       "      <td>100.00</td>\n",
       "      <td>300</td>\n",
       "      <td>1</td>\n",
       "      <td>...</td>\n",
       "      <td>NaN</td>\n",
       "      <td>NaN</td>\n",
       "      <td>NaN</td>\n",
       "      <td>N</td>\n",
       "      <td>300</td>\n",
       "      <td>NaN</td>\n",
       "      <td>87.0</td>\n",
       "      <td>-0.308763</td>\n",
       "      <td>4.465908</td>\n",
       "      <td>-0.612795</td>\n",
       "    </tr>\n",
       "    <tr>\n",
       "      <td>4</td>\n",
       "      <td>BROOKLYN</td>\n",
       "      <td>OTHERS</td>\n",
       "      <td>Y</td>\n",
       "      <td>RA</td>\n",
       "      <td>N</td>\n",
       "      <td>2014-06-14</td>\n",
       "      <td>2014-12-24</td>\n",
       "      <td>2209.84</td>\n",
       "      <td>5994</td>\n",
       "      <td>4</td>\n",
       "      <td>...</td>\n",
       "      <td>NaN</td>\n",
       "      <td>NaN</td>\n",
       "      <td>NaN</td>\n",
       "      <td>N</td>\n",
       "      <td>7884</td>\n",
       "      <td>2018-05-25</td>\n",
       "      <td>193.0</td>\n",
       "      <td>0.099486</td>\n",
       "      <td>5.262690</td>\n",
       "      <td>-0.086725</td>\n",
       "    </tr>\n",
       "    <tr>\n",
       "      <td>5</td>\n",
       "      <td>STATEN ISLAND</td>\n",
       "      <td>1-2-3 FAMILY</td>\n",
       "      <td>Y</td>\n",
       "      <td>RA</td>\n",
       "      <td>N</td>\n",
       "      <td>2015-01-23</td>\n",
       "      <td>2015-09-14</td>\n",
       "      <td>587.96</td>\n",
       "      <td>1245</td>\n",
       "      <td>3</td>\n",
       "      <td>...</td>\n",
       "      <td>NaN</td>\n",
       "      <td>NaN</td>\n",
       "      <td>NaN</td>\n",
       "      <td>N</td>\n",
       "      <td>2058</td>\n",
       "      <td>2018-05-25</td>\n",
       "      <td>234.0</td>\n",
       "      <td>0.257393</td>\n",
       "      <td>5.455321</td>\n",
       "      <td>0.116755</td>\n",
       "    </tr>\n",
       "    <tr>\n",
       "      <td>6</td>\n",
       "      <td>BROOKLYN</td>\n",
       "      <td>OTHERS</td>\n",
       "      <td>Y</td>\n",
       "      <td>RA</td>\n",
       "      <td>N</td>\n",
       "      <td>2015-03-25</td>\n",
       "      <td>2015-06-22</td>\n",
       "      <td>5082.32</td>\n",
       "      <td>15045</td>\n",
       "      <td>8</td>\n",
       "      <td>...</td>\n",
       "      <td>NaN</td>\n",
       "      <td>NaN</td>\n",
       "      <td>NaN</td>\n",
       "      <td>N</td>\n",
       "      <td>18932</td>\n",
       "      <td>NaN</td>\n",
       "      <td>89.0</td>\n",
       "      <td>-0.301060</td>\n",
       "      <td>4.488636</td>\n",
       "      <td>-0.602869</td>\n",
       "    </tr>\n",
       "    <tr>\n",
       "      <td>...</td>\n",
       "      <td>...</td>\n",
       "      <td>...</td>\n",
       "      <td>...</td>\n",
       "      <td>...</td>\n",
       "      <td>...</td>\n",
       "      <td>...</td>\n",
       "      <td>...</td>\n",
       "      <td>...</td>\n",
       "      <td>...</td>\n",
       "      <td>...</td>\n",
       "      <td>...</td>\n",
       "      <td>...</td>\n",
       "      <td>...</td>\n",
       "      <td>...</td>\n",
       "      <td>...</td>\n",
       "      <td>...</td>\n",
       "      <td>...</td>\n",
       "      <td>...</td>\n",
       "      <td>...</td>\n",
       "      <td>...</td>\n",
       "      <td>...</td>\n",
       "    </tr>\n",
       "    <tr>\n",
       "      <td>55840</td>\n",
       "      <td>STATEN ISLAND</td>\n",
       "      <td>1-2-3 FAMILY</td>\n",
       "      <td>Y</td>\n",
       "      <td>RA</td>\n",
       "      <td>N</td>\n",
       "      <td>2018-03-29</td>\n",
       "      <td>2018-05-11</td>\n",
       "      <td>100.00</td>\n",
       "      <td>650</td>\n",
       "      <td>1</td>\n",
       "      <td>...</td>\n",
       "      <td>NaN</td>\n",
       "      <td>SRD</td>\n",
       "      <td>NaN</td>\n",
       "      <td>N</td>\n",
       "      <td>650</td>\n",
       "      <td>NaN</td>\n",
       "      <td>43.0</td>\n",
       "      <td>-0.478224</td>\n",
       "      <td>3.761200</td>\n",
       "      <td>-0.831164</td>\n",
       "    </tr>\n",
       "    <tr>\n",
       "      <td>55841</td>\n",
       "      <td>STATEN ISLAND</td>\n",
       "      <td>1-2-3 FAMILY</td>\n",
       "      <td>Y</td>\n",
       "      <td>RA</td>\n",
       "      <td>Y</td>\n",
       "      <td>2018-03-29</td>\n",
       "      <td>2018-06-29</td>\n",
       "      <td>134.82</td>\n",
       "      <td>1498</td>\n",
       "      <td>2</td>\n",
       "      <td>...</td>\n",
       "      <td>NaN</td>\n",
       "      <td>HS</td>\n",
       "      <td>NaN</td>\n",
       "      <td>N</td>\n",
       "      <td>2247</td>\n",
       "      <td>NaN</td>\n",
       "      <td>92.0</td>\n",
       "      <td>-0.289506</td>\n",
       "      <td>4.521789</td>\n",
       "      <td>-0.587981</td>\n",
       "    </tr>\n",
       "    <tr>\n",
       "      <td>55842</td>\n",
       "      <td>BROOKLYN</td>\n",
       "      <td>OTHERS</td>\n",
       "      <td>Y</td>\n",
       "      <td>RA</td>\n",
       "      <td>N</td>\n",
       "      <td>2018-04-11</td>\n",
       "      <td>2019-05-30</td>\n",
       "      <td>1519.70</td>\n",
       "      <td>4339</td>\n",
       "      <td>4</td>\n",
       "      <td>...</td>\n",
       "      <td>NaN</td>\n",
       "      <td>NaN</td>\n",
       "      <td>NaN</td>\n",
       "      <td>N</td>\n",
       "      <td>5845</td>\n",
       "      <td>NaN</td>\n",
       "      <td>414.0</td>\n",
       "      <td>0.950645</td>\n",
       "      <td>6.025866</td>\n",
       "      <td>1.010082</td>\n",
       "    </tr>\n",
       "    <tr>\n",
       "      <td>55843</td>\n",
       "      <td>STATEN ISLAND</td>\n",
       "      <td>OTHERS</td>\n",
       "      <td>Y</td>\n",
       "      <td>RA</td>\n",
       "      <td>Y</td>\n",
       "      <td>2018-04-02</td>\n",
       "      <td>2018-07-26</td>\n",
       "      <td>1890.20</td>\n",
       "      <td>5271</td>\n",
       "      <td>3</td>\n",
       "      <td>...</td>\n",
       "      <td>NaN</td>\n",
       "      <td>NaN</td>\n",
       "      <td>NaN</td>\n",
       "      <td>N</td>\n",
       "      <td>7270</td>\n",
       "      <td>NaN</td>\n",
       "      <td>115.0</td>\n",
       "      <td>-0.200923</td>\n",
       "      <td>4.744932</td>\n",
       "      <td>-0.473833</td>\n",
       "    </tr>\n",
       "    <tr>\n",
       "      <td>55845</td>\n",
       "      <td>BROOKLYN</td>\n",
       "      <td>OTHERS</td>\n",
       "      <td>Y</td>\n",
       "      <td>RA</td>\n",
       "      <td>Y</td>\n",
       "      <td>2018-04-03</td>\n",
       "      <td>2018-04-24</td>\n",
       "      <td>2283.84</td>\n",
       "      <td>7215</td>\n",
       "      <td>6</td>\n",
       "      <td>...</td>\n",
       "      <td>NaN</td>\n",
       "      <td>NaN</td>\n",
       "      <td>NaN</td>\n",
       "      <td>N</td>\n",
       "      <td>8784</td>\n",
       "      <td>NaN</td>\n",
       "      <td>21.0</td>\n",
       "      <td>-0.562955</td>\n",
       "      <td>3.044522</td>\n",
       "      <td>-0.940349</td>\n",
       "    </tr>\n",
       "  </tbody>\n",
       "</table>\n",
       "<p>10242 rows × 25 columns</p>\n",
       "</div>"
      ],
      "text/plain": [
       "             Borough Building Type Efiling Filed Applicant Professional Title  \\\n",
       "0             QUEENS  1-2-3 FAMILY             Y                           RA   \n",
       "3             QUEENS  1-2-3 FAMILY             Y                           RA   \n",
       "4           BROOKLYN        OTHERS             Y                           RA   \n",
       "5      STATEN ISLAND  1-2-3 FAMILY             Y                           RA   \n",
       "6           BROOKLYN        OTHERS             Y                           RA   \n",
       "...              ...           ...           ...                          ...   \n",
       "55840  STATEN ISLAND  1-2-3 FAMILY             Y                           RA   \n",
       "55841  STATEN ISLAND  1-2-3 FAMILY             Y                           RA   \n",
       "55842       BROOKLYN        OTHERS             Y                           RA   \n",
       "55843  STATEN ISLAND        OTHERS             Y                           RA   \n",
       "55845       BROOKLYN        OTHERS             Y                           RA   \n",
       "\n",
       "      Professional Cert Fully Paid   Approved  Total Est. Fee  \\\n",
       "0                     N 2018-11-02 2019-04-09          243.00   \n",
       "3                     Y 2018-11-05 2019-01-31          100.00   \n",
       "4                     N 2014-06-14 2014-12-24         2209.84   \n",
       "5                     N 2015-01-23 2015-09-14          587.96   \n",
       "6                     N 2015-03-25 2015-06-22         5082.32   \n",
       "...                 ...        ...        ...             ...   \n",
       "55840                 N 2018-03-29 2018-05-11          100.00   \n",
       "55841                 Y 2018-03-29 2018-06-29          134.82   \n",
       "55842                 N 2018-04-11 2019-05-30         1519.70   \n",
       "55843                 Y 2018-04-02 2018-07-26         1890.20   \n",
       "55845                 Y 2018-04-03 2018-04-24         2283.84   \n",
       "\n",
       "       Proposed Zoning Sqft  Proposed No. Of Stories  ...  Zoning Dist3  \\\n",
       "0                      2700                        2  ...           NaN   \n",
       "3                       300                        1  ...           NaN   \n",
       "4                      5994                        4  ...           NaN   \n",
       "5                      1245                        3  ...           NaN   \n",
       "6                     15045                        8  ...           NaN   \n",
       "...                     ...                      ...  ...           ...   \n",
       "55840                   650                        1  ...           NaN   \n",
       "55841                  1498                        2  ...           NaN   \n",
       "55842                  4339                        4  ...           NaN   \n",
       "55843                  5271                        3  ...           NaN   \n",
       "55845                  7215                        6  ...           NaN   \n",
       "\n",
       "       Special District 1 Special District 2 Non-Profit  \\\n",
       "0                     NaN                NaN          N   \n",
       "3                     NaN                NaN          N   \n",
       "4                     NaN                NaN          N   \n",
       "5                     NaN                NaN          N   \n",
       "6                     NaN                NaN          N   \n",
       "...                   ...                ...        ...   \n",
       "55840                 SRD                NaN          N   \n",
       "55841                  HS                NaN          N   \n",
       "55842                 NaN                NaN          N   \n",
       "55843                 NaN                NaN          N   \n",
       "55845                 NaN                NaN          N   \n",
       "\n",
       "      Total_Construction_Floor_Area Signoff_Date Duration   Z_score    LogDur  \\\n",
       "0                              4050          NaN    158.0 -0.035313  5.062595   \n",
       "3                               300          NaN     87.0 -0.308763  4.465908   \n",
       "4                              7884   2018-05-25    193.0  0.099486  5.262690   \n",
       "5                              2058   2018-05-25    234.0  0.257393  5.455321   \n",
       "6                             18932          NaN     89.0 -0.301060  4.488636   \n",
       "...                             ...          ...      ...       ...       ...   \n",
       "55840                           650          NaN     43.0 -0.478224  3.761200   \n",
       "55841                          2247          NaN     92.0 -0.289506  4.521789   \n",
       "55842                          5845          NaN    414.0  0.950645  6.025866   \n",
       "55843                          7270          NaN    115.0 -0.200923  4.744932   \n",
       "55845                          8784          NaN     21.0 -0.562955  3.044522   \n",
       "\n",
       "       Scaled_dur  \n",
       "0       -0.260427  \n",
       "3       -0.612795  \n",
       "4       -0.086725  \n",
       "5        0.116755  \n",
       "6       -0.602869  \n",
       "...           ...  \n",
       "55840   -0.831164  \n",
       "55841   -0.587981  \n",
       "55842    1.010082  \n",
       "55843   -0.473833  \n",
       "55845   -0.940349  \n",
       "\n",
       "[10242 rows x 25 columns]"
      ]
     },
     "execution_count": 56,
     "metadata": {},
     "output_type": "execute_result"
    }
   ],
   "source": [
    "data"
   ]
  },
  {
   "cell_type": "code",
   "execution_count": 57,
   "metadata": {},
   "outputs": [
    {
     "data": {
      "image/png": "[encoded data removed]",
      "text/plain": [
       "<Figure size 432x288 with 1 Axes>"
      ]
     },
     "metadata": {
      "needs_background": "light"
     },
     "output_type": "display_data"
    }
   ],
   "source": [
    "data.boxplot(column='Scaled_dur',by='Borough')\n",
    "plt.suptitle('');\n",
    "plt.xlabel('');\n",
    "plt.ylabel('Scaled duration (standard deviations))');\n",
    "plt.title('Duration scaled to have a mean of 0 and standard deviation of 1');"
   ]
  },
  {
   "cell_type": "code",
   "execution_count": 58,
   "metadata": {},
   "outputs": [],
   "source": [
    "categor_cols = ['Borough', 'Building Type', 'Efiling Filed',\n",
    "       'Applicant Professional Title', 'Professional Cert',\n",
    "       'Proposed Occupancy', 'Zoning Dist1', 'Zoning Dist2', 'Zoning Dist3',\n",
    "       'Special District 1', 'Special District 2', 'Non-Profit']"
   ]
  },
  {
   "cell_type": "code",
   "execution_count": 59,
   "metadata": {},
   "outputs": [],
   "source": [
    "df_cat = data[categor_cols]"
   ]
  },
  {
   "cell_type": "code",
   "execution_count": 60,
   "metadata": {},
   "outputs": [],
   "source": [
    "from sklearn.cluster import KMeans"
   ]
  },
  {
   "cell_type": "code",
   "execution_count": 61,
   "metadata": {
    "scrolled": true
   },
   "outputs": [],
   "source": [
    "from sklearn.impute import SimpleImputer"
   ]
  },
  {
   "cell_type": "code",
   "execution_count": 62,
   "metadata": {},
   "outputs": [],
   "source": [
    "from sklearn.pipeline import Pipeline"
   ]
  },
  {
   "cell_type": "code",
   "execution_count": 63,
   "metadata": {},
   "outputs": [],
   "source": [
    "klass = data[['Borough', 'Building Type', 'Efiling Filed',\n",
    "       'Applicant Professional Title', 'Professional Cert',\n",
    "       'Total Est. Fee', 'Proposed Zoning Sqft',\n",
    "       'Proposed No. Of Stories', 'Proposed Height', 'Proposed Dwelling Units',\n",
    "       'Proposed Occupancy']]"
   ]
  },
  {
   "cell_type": "code",
   "execution_count": 64,
   "metadata": {
    "scrolled": false
   },
   "outputs": [
    {
     "data": {
      "text/html": [
       "<div>\n",
       "<style scoped>\n",
       "    .dataframe tbody tr th:only-of-type {\n",
       "        vertical-align: middle;\n",
       "    }\n",
       "\n",
       "    .dataframe tbody tr th {\n",
       "        vertical-align: top;\n",
       "    }\n",
       "\n",
       "    .dataframe thead th {\n",
       "        text-align: right;\n",
       "    }\n",
       "</style>\n",
       "<table border=\"1\" class=\"dataframe\">\n",
       "  <thead>\n",
       "    <tr style=\"text-align: right;\">\n",
       "      <th></th>\n",
       "      <th>Borough</th>\n",
       "      <th>Building Type</th>\n",
       "      <th>Efiling Filed</th>\n",
       "      <th>Applicant Professional Title</th>\n",
       "      <th>Professional Cert</th>\n",
       "      <th>Total Est. Fee</th>\n",
       "      <th>Proposed Zoning Sqft</th>\n",
       "      <th>Proposed No. Of Stories</th>\n",
       "      <th>Proposed Height</th>\n",
       "      <th>Proposed Dwelling Units</th>\n",
       "      <th>Proposed Occupancy</th>\n",
       "    </tr>\n",
       "  </thead>\n",
       "  <tbody>\n",
       "    <tr>\n",
       "      <td>0</td>\n",
       "      <td>QUEENS</td>\n",
       "      <td>1-2-3 FAMILY</td>\n",
       "      <td>Y</td>\n",
       "      <td>RA</td>\n",
       "      <td>N</td>\n",
       "      <td>243.00</td>\n",
       "      <td>2700</td>\n",
       "      <td>2</td>\n",
       "      <td>28</td>\n",
       "      <td>2.0</td>\n",
       "      <td>R-3</td>\n",
       "    </tr>\n",
       "    <tr>\n",
       "      <td>3</td>\n",
       "      <td>QUEENS</td>\n",
       "      <td>1-2-3 FAMILY</td>\n",
       "      <td>Y</td>\n",
       "      <td>RA</td>\n",
       "      <td>Y</td>\n",
       "      <td>100.00</td>\n",
       "      <td>300</td>\n",
       "      <td>1</td>\n",
       "      <td>12</td>\n",
       "      <td>NaN</td>\n",
       "      <td>U</td>\n",
       "    </tr>\n",
       "    <tr>\n",
       "      <td>4</td>\n",
       "      <td>BROOKLYN</td>\n",
       "      <td>OTHERS</td>\n",
       "      <td>Y</td>\n",
       "      <td>RA</td>\n",
       "      <td>N</td>\n",
       "      <td>2209.84</td>\n",
       "      <td>5994</td>\n",
       "      <td>4</td>\n",
       "      <td>50</td>\n",
       "      <td>8.0</td>\n",
       "      <td>R-2</td>\n",
       "    </tr>\n",
       "    <tr>\n",
       "      <td>5</td>\n",
       "      <td>STATEN ISLAND</td>\n",
       "      <td>1-2-3 FAMILY</td>\n",
       "      <td>Y</td>\n",
       "      <td>RA</td>\n",
       "      <td>N</td>\n",
       "      <td>587.96</td>\n",
       "      <td>1245</td>\n",
       "      <td>3</td>\n",
       "      <td>37</td>\n",
       "      <td>1.0</td>\n",
       "      <td>R-3</td>\n",
       "    </tr>\n",
       "    <tr>\n",
       "      <td>6</td>\n",
       "      <td>BROOKLYN</td>\n",
       "      <td>OTHERS</td>\n",
       "      <td>Y</td>\n",
       "      <td>RA</td>\n",
       "      <td>N</td>\n",
       "      <td>5082.32</td>\n",
       "      <td>15045</td>\n",
       "      <td>8</td>\n",
       "      <td>80</td>\n",
       "      <td>16.0</td>\n",
       "      <td>R-2</td>\n",
       "    </tr>\n",
       "  </tbody>\n",
       "</table>\n",
       "</div>"
      ],
      "text/plain": [
       "         Borough Building Type Efiling Filed Applicant Professional Title  \\\n",
       "0         QUEENS  1-2-3 FAMILY             Y                           RA   \n",
       "3         QUEENS  1-2-3 FAMILY             Y                           RA   \n",
       "4       BROOKLYN        OTHERS             Y                           RA   \n",
       "5  STATEN ISLAND  1-2-3 FAMILY             Y                           RA   \n",
       "6       BROOKLYN        OTHERS             Y                           RA   \n",
       "\n",
       "  Professional Cert  Total Est. Fee  Proposed Zoning Sqft  \\\n",
       "0                 N          243.00                  2700   \n",
       "3                 Y          100.00                   300   \n",
       "4                 N         2209.84                  5994   \n",
       "5                 N          587.96                  1245   \n",
       "6                 N         5082.32                 15045   \n",
       "\n",
       "   Proposed No. Of Stories  Proposed Height  Proposed Dwelling Units  \\\n",
       "0                        2               28                      2.0   \n",
       "3                        1               12                      NaN   \n",
       "4                        4               50                      8.0   \n",
       "5                        3               37                      1.0   \n",
       "6                        8               80                     16.0   \n",
       "\n",
       "  Proposed Occupancy  \n",
       "0                R-3  \n",
       "3                  U  \n",
       "4                R-2  \n",
       "5                R-3  \n",
       "6                R-2  "
      ]
     },
     "execution_count": 64,
     "metadata": {},
     "output_type": "execute_result"
    }
   ],
   "source": [
    "klass.head()"
   ]
  },
  {
   "cell_type": "code",
   "execution_count": 65,
   "metadata": {},
   "outputs": [],
   "source": [
    "kmeans = KMeans(n_clusters=5)"
   ]
  },
  {
   "cell_type": "code",
   "execution_count": 66,
   "metadata": {},
   "outputs": [],
   "source": [
    "imp = SimpleImputer()"
   ]
  },
  {
   "cell_type": "code",
   "execution_count": 67,
   "metadata": {},
   "outputs": [],
   "source": [
    "def impute_values(df,strategy):\n",
    "    df = df\n",
    "    imp = SimpleImputer(strategy=strategy)\n",
    "    for column in df.columns:\n",
    "        df.loc[:,column] = imp.fit_transform(df[[column]])\n",
    "    return df"
   ]
  },
  {
   "cell_type": "code",
   "execution_count": 68,
   "metadata": {},
   "outputs": [
    {
     "data": {
      "text/plain": [
       "SimpleImputer(add_indicator=False, copy=True, fill_value=None,\n",
       "              missing_values=nan, strategy='mean', verbose=0)"
      ]
     },
     "execution_count": 68,
     "metadata": {},
     "output_type": "execute_result"
    }
   ],
   "source": [
    "imp.fit(klass[['Proposed No. Of Stories']])"
   ]
  },
  {
   "cell_type": "code",
   "execution_count": 69,
   "metadata": {},
   "outputs": [],
   "source": [
    "pipeline = Pipeline([('imputer',SimpleImputer),\n",
    "                      ('kmeans', KMeans(n_clusters=5))\n",
    "                    ])"
   ]
  }
 ],
 "metadata": {
  "kernelspec": {
   "display_name": "Python 3",
   "language": "python",
   "name": "python3"
  },
  "language_info": {
   "codemirror_mode": {
    "name": "ipython",
    "version": 3
   },
   "file_extension": ".py",
   "mimetype": "text/x-python",
   "name": "python",
   "nbconvert_exporter": "python",
   "pygments_lexer": "ipython3",
   "version": "3.7.4"
  }
 },
 "nbformat": 4,
 "nbformat_minor": 2
}
