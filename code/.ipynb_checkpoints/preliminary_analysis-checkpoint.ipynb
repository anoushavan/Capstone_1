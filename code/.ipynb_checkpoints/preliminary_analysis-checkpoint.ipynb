{
 "cells": [
  {
   "cell_type": "code",
   "execution_count": 13,
   "metadata": {},
   "outputs": [],
   "source": [
    "import pandas as pd\n",
    "import numpy as np\n",
    "from datetime import datetime\n",
    "from matplotlib import pyplot as plt\n",
    "import seaborn as sns"
   ]
  },
  {
   "cell_type": "code",
   "execution_count": 14,
   "metadata": {},
   "outputs": [],
   "source": [
    "%matplotlib inline"
   ]
  },
  {
   "cell_type": "code",
   "execution_count": 15,
   "metadata": {},
   "outputs": [
    {
     "name": "stderr",
     "output_type": "stream",
     "text": [
      "/Users/anushavan/anaconda3/lib/python3.7/site-packages/IPython/core/interactiveshell.py:2785: DtypeWarning: Columns (13) have mixed types. Specify dtype option on import or set low_memory=False.\n",
      "  interactivity=interactivity, compiler=compiler, result=result)\n"
     ]
    }
   ],
   "source": [
    "data = pd.read_csv(\"/Users/anushavan/Desktop/Study/\\\n",
    "Data_Science/Springboard/Capstone_1/data/new_buildings.csv\", \n",
    "                parse_dates=['Pre- Filing Date','Fully Paid', \n",
    "                            'Approved','Fully Permitted','SIGNOFF_DATE'])"
   ]
  },
  {
   "cell_type": "code",
   "execution_count": 16,
   "metadata": {
    "scrolled": true
   },
   "outputs": [
    {
     "name": "stdout",
     "output_type": "stream",
     "text": [
      "<class 'pandas.core.frame.DataFrame'>\n",
      "RangeIndex: 118461 entries, 0 to 118460\n",
      "Data columns (total 23 columns):\n",
      "Borough                          118461 non-null object\n",
      "Building Type                    118461 non-null object\n",
      "eFiling Filed                    49594 non-null object\n",
      "Applicant Professional Title     118456 non-null object\n",
      "Professional Cert                84910 non-null object\n",
      "Pre- Filing Date                 118461 non-null datetime64[ns]\n",
      "Fully Paid                       117514 non-null datetime64[ns]\n",
      "Approved                         70616 non-null datetime64[ns]\n",
      "Fully Permitted                  62940 non-null datetime64[ns]\n",
      "Total Est. Fee                   118461 non-null object\n",
      "Proposed Zoning Sqft             118461 non-null int64\n",
      "Proposed No. of Stories          118461 non-null int64\n",
      "Proposed Height                  118461 non-null int64\n",
      "Proposed Dwelling Units          68282 non-null object\n",
      "Proposed Occupancy               79917 non-null object\n",
      "Zoning Dist1                     79917 non-null object\n",
      "Zoning Dist2                     6244 non-null object\n",
      "Zoning Dist3                     247 non-null object\n",
      "Special District 1               7724 non-null object\n",
      "Special District 2               901 non-null object\n",
      "Non-Profit                       102598 non-null object\n",
      "TOTAL_CONSTRUCTION_FLOOR_AREA    118461 non-null int64\n",
      "SIGNOFF_DATE                     73450 non-null datetime64[ns]\n",
      "dtypes: datetime64[ns](5), int64(4), object(14)\n",
      "memory usage: 20.8+ MB\n"
     ]
    }
   ],
   "source": [
    "data.info()"
   ]
  },
  {
   "cell_type": "markdown",
   "metadata": {},
   "source": [
    "### Clean up the dataframe\n",
    "\n",
    "* converting all column names to *title case*, <br> \n",
    "* converting numeric data into numeric form by removing dollar signs and converting to intiger, <br> \n",
    "* creating a **\"Duration\"** column measuring the duration of the approval process as the difference between the \"Approved\" and \"Fully Paid\" columns <br> \n",
    "* creating subsets of data to hold normal values, values that are below 0 (meaningless) and zero values.\n",
    "* Transform \"Boroughs\" into category to increase the speed of execution."
   ]
  },
  {
   "cell_type": "code",
   "execution_count": 17,
   "metadata": {},
   "outputs": [],
   "source": [
    "# Convert all data columns to Title Case\n",
    "data.columns = data.columns.str.title()\n",
    "\n",
    "# Convert Total Est. Fee to float data and remove $ symbol \n",
    "data['Total Est. Fee']= [float(c.replace('$','')) for c in data['Total Est. Fee']]"
   ]
  },
  {
   "cell_type": "code",
   "execution_count": 18,
   "metadata": {},
   "outputs": [],
   "source": [
    "# Convert Proposed Dwelling Units to integers\n",
    "data['Proposed Dwelling Units'] = (pd.to_numeric(data\n",
    "                                  ['Proposed Dwelling Units'], errors='coerce'))\n"
   ]
  },
  {
   "cell_type": "code",
   "execution_count": 19,
   "metadata": {},
   "outputs": [],
   "source": [
    "# Create a Duration column and convert it to integers (instead of days)\n",
    "data['Duration'] = (data['Approved'] - data['Fully Paid']).dt.days"
   ]
  },
  {
   "cell_type": "code",
   "execution_count": 20,
   "metadata": {},
   "outputs": [],
   "source": [
    "# Subset of data where the Duration is more than 0 days\n",
    "data = data[data['Duration'] > 0]\n",
    "\n",
    "# Subset of data where the Duration is less then 0 days\n",
    "odd_data = data[data['Duration'] < 0]\n",
    "\n",
    "# Subset of data where the Duration is 0 days\n",
    "zero_data = data[data['Duration'] == 0]"
   ]
  },
  {
   "cell_type": "code",
   "execution_count": 21,
   "metadata": {},
   "outputs": [],
   "source": [
    "# transform the Boroughs into categories for faster analysis.\n",
    "data['Borough'] = data['Borough'].astype('category')"
   ]
  },
  {
   "cell_type": "markdown",
   "metadata": {},
   "source": [
    "#### Dealing with blank (NaN/NaT) values\n",
    "\n",
    "converting the NaN values to N string indicating No."
   ]
  },
  {
   "cell_type": "code",
   "execution_count": 22,
   "metadata": {},
   "outputs": [],
   "source": [
    "# Column Efiling Filed: replace the NaN values with N (No)\n",
    "data['Efiling Filed'] = data['Efiling Filed'].fillna('N')"
   ]
  },
  {
   "cell_type": "code",
   "execution_count": 23,
   "metadata": {},
   "outputs": [],
   "source": [
    "data['Professional Cert'] = data['Professional Cert'].fillna('N')"
   ]
  },
  {
   "cell_type": "markdown",
   "metadata": {},
   "source": [
    "##### Potential columns to drop\n",
    "The column \"Proposed Dwelling Units\" has 50392 not null values.\n",
    "\n",
    "The columnn \"Fully Permitted\" has 7070 NaT entries.\n",
    "\n",
    "\n",
    "##### Drop rows\n",
    "There are 2 rows in the \"Applicant Professional Title\" column that are blank. Assigned them\n",
    "to del_rows variable and deleted. \n",
    "\n",
    "There are also 2 rows in the Processional Cert column that are not Y or N, they should be dropped."
   ]
  },
  {
   "cell_type": "code",
   "execution_count": 59,
   "metadata": {},
   "outputs": [],
   "source": [
    "del_rows = data[data['Applicant Professional Title'].isnull()].index\n",
    "data.drop(del_rows, inplace=True)\n",
    "data = (data.drop(data[(data['Professional Cert'] == 'J') | \n",
    "                            (data['Professional Cert'] == 'R')].index))"
   ]
  },
  {
   "cell_type": "markdown",
   "metadata": {},
   "source": [
    "### Analysis of data\n",
    "\n",
    "Createing:\n",
    "1. histograms (for categorical variables)\n",
    "2. bar charts (for continuous variables) and \n",
    "3. boxplots for categorical variables (x axis) and a continuous variable (y axis).\n"
   ]
  },
  {
   "cell_type": "code",
   "execution_count": 29,
   "metadata": {},
   "outputs": [
    {
     "data": {
      "text/html": [
       "<div>\n",
       "<style scoped>\n",
       "    .dataframe tbody tr th:only-of-type {\n",
       "        vertical-align: middle;\n",
       "    }\n",
       "\n",
       "    .dataframe tbody tr th {\n",
       "        vertical-align: top;\n",
       "    }\n",
       "\n",
       "    .dataframe thead th {\n",
       "        text-align: right;\n",
       "    }\n",
       "</style>\n",
       "<table border=\"1\" class=\"dataframe\">\n",
       "  <thead>\n",
       "    <tr style=\"text-align: right;\">\n",
       "      <th></th>\n",
       "      <th>Borough</th>\n",
       "    </tr>\n",
       "  </thead>\n",
       "  <tbody>\n",
       "    <tr>\n",
       "      <th>count</th>\n",
       "      <td>5.000000</td>\n",
       "    </tr>\n",
       "    <tr>\n",
       "      <th>mean</th>\n",
       "      <td>11815.600000</td>\n",
       "    </tr>\n",
       "    <tr>\n",
       "      <th>std</th>\n",
       "      <td>7478.298824</td>\n",
       "    </tr>\n",
       "    <tr>\n",
       "      <th>min</th>\n",
       "      <td>2224.000000</td>\n",
       "    </tr>\n",
       "    <tr>\n",
       "      <th>25%</th>\n",
       "      <td>7417.000000</td>\n",
       "    </tr>\n",
       "    <tr>\n",
       "      <th>50%</th>\n",
       "      <td>11360.000000</td>\n",
       "    </tr>\n",
       "    <tr>\n",
       "      <th>75%</th>\n",
       "      <td>17063.000000</td>\n",
       "    </tr>\n",
       "    <tr>\n",
       "      <th>max</th>\n",
       "      <td>21014.000000</td>\n",
       "    </tr>\n",
       "  </tbody>\n",
       "</table>\n",
       "</div>"
      ],
      "text/plain": [
       "            Borough\n",
       "count      5.000000\n",
       "mean   11815.600000\n",
       "std     7478.298824\n",
       "min     2224.000000\n",
       "25%     7417.000000\n",
       "50%    11360.000000\n",
       "75%    17063.000000\n",
       "max    21014.000000"
      ]
     },
     "execution_count": 29,
     "metadata": {},
     "output_type": "execute_result"
    },
    {
     "data": {
      "image/png": "[encoded data removed]",
      "text/plain": [
       "<Figure size 432x288 with 1 Axes>"
      ]
     },
     "metadata": {
      "needs_background": "light"
     },
     "output_type": "display_data"
    }
   ],
   "source": [
    "# create a histogram for the # of building permits issued by Borough\n",
    "ax = data['Borough'].value_counts().sort_values().plot(kind='bar', color = 'b')\n",
    "ax.set_ylabel('Number of building permits approved')\n",
    "ax.set_xlabel('')\n",
    "pd.DataFrame(data['Borough'].value_counts().describe())"
   ]
  },
  {
   "cell_type": "code",
   "execution_count": 30,
   "metadata": {},
   "outputs": [
    {
     "data": {
      "text/plain": [
       "Text(0.5,1,'Duration by Borough')"
      ]
     },
     "execution_count": 30,
     "metadata": {},
     "output_type": "execute_result"
    },
    {
     "data": {
      "image/png": "[encoded data removed]",
      "text/plain": [
       "<Figure size 432x288 with 1 Axes>"
      ]
     },
     "metadata": {
      "needs_background": "light"
     },
     "output_type": "display_data"
    }
   ],
   "source": [
    "# Create a boxplot of Building Type Duration.\n",
    "ax = data.boxplot(column=['Duration'], by=['Borough'])\n",
    "plt.suptitle('')\n",
    "ax.set_xlabel('')\n",
    "ax.set_ylabel('Days')\n",
    "ax.grid(False)\n",
    "ax.set_title('Duration by Borough')\n",
    "plt.tight_layout()"
   ]
  },
  {
   "cell_type": "code",
   "execution_count": 31,
   "metadata": {},
   "outputs": [
    {
     "data": {
      "text/html": [
       "<div>\n",
       "<style scoped>\n",
       "    .dataframe tbody tr th:only-of-type {\n",
       "        vertical-align: middle;\n",
       "    }\n",
       "\n",
       "    .dataframe tbody tr th {\n",
       "        vertical-align: top;\n",
       "    }\n",
       "\n",
       "    .dataframe thead th {\n",
       "        text-align: right;\n",
       "    }\n",
       "</style>\n",
       "<table border=\"1\" class=\"dataframe\">\n",
       "  <thead>\n",
       "    <tr style=\"text-align: right;\">\n",
       "      <th></th>\n",
       "      <th>Building Type</th>\n",
       "    </tr>\n",
       "  </thead>\n",
       "  <tbody>\n",
       "    <tr>\n",
       "      <th>count</th>\n",
       "      <td>2.000000</td>\n",
       "    </tr>\n",
       "    <tr>\n",
       "      <th>mean</th>\n",
       "      <td>29539.000000</td>\n",
       "    </tr>\n",
       "    <tr>\n",
       "      <th>std</th>\n",
       "      <td>18063.749832</td>\n",
       "    </tr>\n",
       "    <tr>\n",
       "      <th>min</th>\n",
       "      <td>16766.000000</td>\n",
       "    </tr>\n",
       "    <tr>\n",
       "      <th>25%</th>\n",
       "      <td>23152.500000</td>\n",
       "    </tr>\n",
       "    <tr>\n",
       "      <th>50%</th>\n",
       "      <td>29539.000000</td>\n",
       "    </tr>\n",
       "    <tr>\n",
       "      <th>75%</th>\n",
       "      <td>35925.500000</td>\n",
       "    </tr>\n",
       "    <tr>\n",
       "      <th>max</th>\n",
       "      <td>42312.000000</td>\n",
       "    </tr>\n",
       "  </tbody>\n",
       "</table>\n",
       "</div>"
      ],
      "text/plain": [
       "       Building Type\n",
       "count       2.000000\n",
       "mean    29539.000000\n",
       "std     18063.749832\n",
       "min     16766.000000\n",
       "25%     23152.500000\n",
       "50%     29539.000000\n",
       "75%     35925.500000\n",
       "max     42312.000000"
      ]
     },
     "execution_count": 31,
     "metadata": {},
     "output_type": "execute_result"
    },
    {
     "data": {
      "image/png": "[encoded data removed]",
      "text/plain": [
       "<Figure size 432x288 with 1 Axes>"
      ]
     },
     "metadata": {
      "needs_background": "light"
     },
     "output_type": "display_data"
    }
   ],
   "source": [
    "# Create a bar plot of Building Type and include a statistical analysis.\n",
    "ax = data['Building Type'].value_counts().plot(kind='bar', color='b')\n",
    "ax.set_xticklabels(['1-2-3 Family', 'Other'],rotation=360)\n",
    "ax.set_title('Building permits based on the building type')\n",
    "ax.set_ylabel('Number of approved permits')\n",
    "pd.DataFrame(data['Building Type'].value_counts().describe())"
   ]
  },
  {
   "cell_type": "code",
   "execution_count": 32,
   "metadata": {
    "scrolled": true
   },
   "outputs": [
    {
     "data": {
      "image/png": "[encoded data removed]",
      "text/plain": [
       "<Figure size 432x288 with 1 Axes>"
      ]
     },
     "metadata": {
      "needs_background": "light"
     },
     "output_type": "display_data"
    }
   ],
   "source": [
    "# Create a boxplot of Building Type Duration.\n",
    "ax = data.boxplot(column=['Duration'], by=['Building Type'])\n",
    "ax.set_title('Duration of approval based on types of buildings')\n",
    "ax.set_xlabel('')\n",
    "ax.set_ylabel('Days')\n",
    "plt.suptitle('')\n",
    "ax.grid(False)\n"
   ]
  },
  {
   "cell_type": "code",
   "execution_count": 33,
   "metadata": {
    "scrolled": true
   },
   "outputs": [
    {
     "data": {
      "text/html": [
       "<div>\n",
       "<style scoped>\n",
       "    .dataframe tbody tr th:only-of-type {\n",
       "        vertical-align: middle;\n",
       "    }\n",
       "\n",
       "    .dataframe tbody tr th {\n",
       "        vertical-align: top;\n",
       "    }\n",
       "\n",
       "    .dataframe thead th {\n",
       "        text-align: right;\n",
       "    }\n",
       "</style>\n",
       "<table border=\"1\" class=\"dataframe\">\n",
       "  <thead>\n",
       "    <tr style=\"text-align: right;\">\n",
       "      <th></th>\n",
       "      <th>Efiling Filed</th>\n",
       "    </tr>\n",
       "  </thead>\n",
       "  <tbody>\n",
       "    <tr>\n",
       "      <th>count</th>\n",
       "      <td>2.000000</td>\n",
       "    </tr>\n",
       "    <tr>\n",
       "      <th>mean</th>\n",
       "      <td>29539.000000</td>\n",
       "    </tr>\n",
       "    <tr>\n",
       "      <th>std</th>\n",
       "      <td>11788.884256</td>\n",
       "    </tr>\n",
       "    <tr>\n",
       "      <th>min</th>\n",
       "      <td>21203.000000</td>\n",
       "    </tr>\n",
       "    <tr>\n",
       "      <th>25%</th>\n",
       "      <td>25371.000000</td>\n",
       "    </tr>\n",
       "    <tr>\n",
       "      <th>50%</th>\n",
       "      <td>29539.000000</td>\n",
       "    </tr>\n",
       "    <tr>\n",
       "      <th>75%</th>\n",
       "      <td>33707.000000</td>\n",
       "    </tr>\n",
       "    <tr>\n",
       "      <th>max</th>\n",
       "      <td>37875.000000</td>\n",
       "    </tr>\n",
       "  </tbody>\n",
       "</table>\n",
       "</div>"
      ],
      "text/plain": [
       "       Efiling Filed\n",
       "count       2.000000\n",
       "mean    29539.000000\n",
       "std     11788.884256\n",
       "min     21203.000000\n",
       "25%     25371.000000\n",
       "50%     29539.000000\n",
       "75%     33707.000000\n",
       "max     37875.000000"
      ]
     },
     "execution_count": 33,
     "metadata": {},
     "output_type": "execute_result"
    },
    {
     "data": {
      "image/png": "[encoded data removed]",
      "text/plain": [
       "<Figure size 432x288 with 1 Axes>"
      ]
     },
     "metadata": {
      "needs_background": "light"
     },
     "output_type": "display_data"
    }
   ],
   "source": [
    "# Create a histogram of Efiling and include a statistical analysis.\n",
    "ax = data['Efiling Filed'].value_counts().plot(kind='bar', color='g')\n",
    "ax.set_xticklabels(['Yes','No'],rotation=360)\n",
    "ax.set_title('Building permits based on the e-filing')\n",
    "ax.set_ylabel('Number of approved permits')\n",
    "pd.DataFrame(data['Efiling Filed'].value_counts().describe())\n",
    "plt.tight_layout()"
   ]
  },
  {
   "cell_type": "code",
   "execution_count": 34,
   "metadata": {
    "scrolled": true
   },
   "outputs": [
    {
     "data": {
      "text/html": [
       "<div>\n",
       "<style scoped>\n",
       "    .dataframe tbody tr th:only-of-type {\n",
       "        vertical-align: middle;\n",
       "    }\n",
       "\n",
       "    .dataframe tbody tr th {\n",
       "        vertical-align: top;\n",
       "    }\n",
       "\n",
       "    .dataframe thead th {\n",
       "        text-align: right;\n",
       "    }\n",
       "</style>\n",
       "<table border=\"1\" class=\"dataframe\">\n",
       "  <thead>\n",
       "    <tr style=\"text-align: right;\">\n",
       "      <th></th>\n",
       "      <th>count</th>\n",
       "      <th>mean</th>\n",
       "      <th>std</th>\n",
       "      <th>min</th>\n",
       "      <th>25%</th>\n",
       "      <th>50%</th>\n",
       "      <th>75%</th>\n",
       "      <th>max</th>\n",
       "    </tr>\n",
       "    <tr>\n",
       "      <th>Efiling Filed</th>\n",
       "      <th></th>\n",
       "      <th></th>\n",
       "      <th></th>\n",
       "      <th></th>\n",
       "      <th></th>\n",
       "      <th></th>\n",
       "      <th></th>\n",
       "      <th></th>\n",
       "    </tr>\n",
       "  </thead>\n",
       "  <tbody>\n",
       "    <tr>\n",
       "      <th>N</th>\n",
       "      <td>37875.0</td>\n",
       "      <td>136.489927</td>\n",
       "      <td>251.178401</td>\n",
       "      <td>1.0</td>\n",
       "      <td>10.0</td>\n",
       "      <td>55.0</td>\n",
       "      <td>149.0</td>\n",
       "      <td>4959.0</td>\n",
       "    </tr>\n",
       "    <tr>\n",
       "      <th>Y</th>\n",
       "      <td>21203.0</td>\n",
       "      <td>221.965335</td>\n",
       "      <td>265.440947</td>\n",
       "      <td>1.0</td>\n",
       "      <td>63.0</td>\n",
       "      <td>139.0</td>\n",
       "      <td>276.0</td>\n",
       "      <td>3585.0</td>\n",
       "    </tr>\n",
       "  </tbody>\n",
       "</table>\n",
       "</div>"
      ],
      "text/plain": [
       "                 count        mean         std  min   25%    50%    75%  \\\n",
       "Efiling Filed                                                             \n",
       "N              37875.0  136.489927  251.178401  1.0  10.0   55.0  149.0   \n",
       "Y              21203.0  221.965335  265.440947  1.0  63.0  139.0  276.0   \n",
       "\n",
       "                  max  \n",
       "Efiling Filed          \n",
       "N              4959.0  \n",
       "Y              3585.0  "
      ]
     },
     "execution_count": 34,
     "metadata": {},
     "output_type": "execute_result"
    },
    {
     "data": {
      "image/png": "[encoded data removed]",
      "text/plain": [
       "<Figure size 432x288 with 1 Axes>"
      ]
     },
     "metadata": {
      "needs_background": "light"
     },
     "output_type": "display_data"
    }
   ],
   "source": [
    "ax = data.boxplot(column=['Duration'], by=['Efiling Filed'])\n",
    "ax.set_title('')\n",
    "ax.set_ylabel('Days')\n",
    "ax.set_xlabel('E-filing filder (Yes/No)')\n",
    "ax.set_xticklabels(['Yes','No'])\n",
    "plt.suptitle('')\n",
    "ax.grid(False)\n",
    "pd.DataFrame(data.groupby(['Efiling Filed'])['Duration'].describe())\n",
    "plt.tight_layout()"
   ]
  },
  {
   "cell_type": "code",
   "execution_count": 35,
   "metadata": {},
   "outputs": [
    {
     "data": {
      "text/html": [
       "<div>\n",
       "<style scoped>\n",
       "    .dataframe tbody tr th:only-of-type {\n",
       "        vertical-align: middle;\n",
       "    }\n",
       "\n",
       "    .dataframe tbody tr th {\n",
       "        vertical-align: top;\n",
       "    }\n",
       "\n",
       "    .dataframe thead th {\n",
       "        text-align: right;\n",
       "    }\n",
       "</style>\n",
       "<table border=\"1\" class=\"dataframe\">\n",
       "  <thead>\n",
       "    <tr style=\"text-align: right;\">\n",
       "      <th></th>\n",
       "      <th>count</th>\n",
       "      <th>mean</th>\n",
       "      <th>std</th>\n",
       "      <th>min</th>\n",
       "      <th>25%</th>\n",
       "      <th>50%</th>\n",
       "      <th>75%</th>\n",
       "      <th>max</th>\n",
       "    </tr>\n",
       "    <tr>\n",
       "      <th>Applicant Professional Title</th>\n",
       "      <th></th>\n",
       "      <th></th>\n",
       "      <th></th>\n",
       "      <th></th>\n",
       "      <th></th>\n",
       "      <th></th>\n",
       "      <th></th>\n",
       "      <th></th>\n",
       "    </tr>\n",
       "  </thead>\n",
       "  <tbody>\n",
       "    <tr>\n",
       "      <th>PE</th>\n",
       "      <td>14990.0</td>\n",
       "      <td>142.513342</td>\n",
       "      <td>229.342644</td>\n",
       "      <td>1.0</td>\n",
       "      <td>22.0</td>\n",
       "      <td>66.0</td>\n",
       "      <td>168.0</td>\n",
       "      <td>4959.0</td>\n",
       "    </tr>\n",
       "    <tr>\n",
       "      <th>RA</th>\n",
       "      <td>44088.0</td>\n",
       "      <td>175.549174</td>\n",
       "      <td>268.658088</td>\n",
       "      <td>1.0</td>\n",
       "      <td>27.0</td>\n",
       "      <td>89.0</td>\n",
       "      <td>211.0</td>\n",
       "      <td>4411.0</td>\n",
       "    </tr>\n",
       "  </tbody>\n",
       "</table>\n",
       "</div>"
      ],
      "text/plain": [
       "                                count        mean         std  min   25%  \\\n",
       "Applicant Professional Title                                               \n",
       "PE                            14990.0  142.513342  229.342644  1.0  22.0   \n",
       "RA                            44088.0  175.549174  268.658088  1.0  27.0   \n",
       "\n",
       "                               50%    75%     max  \n",
       "Applicant Professional Title                       \n",
       "PE                            66.0  168.0  4959.0  \n",
       "RA                            89.0  211.0  4411.0  "
      ]
     },
     "execution_count": 35,
     "metadata": {},
     "output_type": "execute_result"
    },
    {
     "data": {
      "image/png": "[encoded data removed]",
      "text/plain": [
       "<Figure size 432x288 with 1 Axes>"
      ]
     },
     "metadata": {
      "needs_background": "light"
     },
     "output_type": "display_data"
    }
   ],
   "source": [
    "# Create a bar chart of Professional Title and include a statistical analysis.\n",
    "ax = data['Applicant Professional Title'].value_counts().plot(kind='bar', color='g')\n",
    "ax.set_xticklabels(['Professional Engineer','Registered Architect'],rotation=360)\n",
    "ax.set_title('Number of applications based on the professional title')\n",
    "pd.DataFrame(data.groupby('Applicant Professional Title')['Duration'].describe())"
   ]
  },
  {
   "cell_type": "code",
   "execution_count": 36,
   "metadata": {},
   "outputs": [
    {
     "data": {
      "image/png": "[encoded data removed]",
      "text/plain": [
       "<Figure size 432x288 with 1 Axes>"
      ]
     },
     "metadata": {
      "needs_background": "light"
     },
     "output_type": "display_data"
    }
   ],
   "source": [
    "# Boxplot of Duration based on the applicants' professional title.\n",
    "ax = data.boxplot(column=['Duration'], by=['Applicant Professional Title'])\n",
    "ax.set_xticklabels(['Professional Engineer','Registered Architect'])\n",
    "plt.suptitle('')\n",
    "ax.set_title(\"Duration based on applicant's professional title\")\n",
    "ax.set_xlabel('')\n",
    "ax.set_ylabel('Days')\n",
    "ax.grid(False)\n",
    "plt.tight_layout()"
   ]
  },
  {
   "cell_type": "code",
   "execution_count": 68,
   "metadata": {
    "scrolled": true
   },
   "outputs": [
    {
     "data": {
      "text/html": [
       "<div>\n",
       "<style scoped>\n",
       "    .dataframe tbody tr th:only-of-type {\n",
       "        vertical-align: middle;\n",
       "    }\n",
       "\n",
       "    .dataframe tbody tr th {\n",
       "        vertical-align: top;\n",
       "    }\n",
       "\n",
       "    .dataframe thead th {\n",
       "        text-align: right;\n",
       "    }\n",
       "</style>\n",
       "<table border=\"1\" class=\"dataframe\">\n",
       "  <thead>\n",
       "    <tr style=\"text-align: right;\">\n",
       "      <th></th>\n",
       "      <th>count</th>\n",
       "      <th>mean</th>\n",
       "      <th>std</th>\n",
       "      <th>min</th>\n",
       "      <th>25%</th>\n",
       "      <th>50%</th>\n",
       "      <th>75%</th>\n",
       "      <th>max</th>\n",
       "    </tr>\n",
       "    <tr>\n",
       "      <th>Professional Cert</th>\n",
       "      <th></th>\n",
       "      <th></th>\n",
       "      <th></th>\n",
       "      <th></th>\n",
       "      <th></th>\n",
       "      <th></th>\n",
       "      <th></th>\n",
       "      <th></th>\n",
       "    </tr>\n",
       "  </thead>\n",
       "  <tbody>\n",
       "    <tr>\n",
       "      <th>N</th>\n",
       "      <td>38010.0</td>\n",
       "      <td>225.441594</td>\n",
       "      <td>282.962780</td>\n",
       "      <td>1.0</td>\n",
       "      <td>71.0</td>\n",
       "      <td>138.0</td>\n",
       "      <td>267.0</td>\n",
       "      <td>4959.0</td>\n",
       "    </tr>\n",
       "    <tr>\n",
       "      <th>Y</th>\n",
       "      <td>21066.0</td>\n",
       "      <td>62.025966</td>\n",
       "      <td>165.562255</td>\n",
       "      <td>1.0</td>\n",
       "      <td>3.0</td>\n",
       "      <td>13.0</td>\n",
       "      <td>42.0</td>\n",
       "      <td>2589.0</td>\n",
       "    </tr>\n",
       "  </tbody>\n",
       "</table>\n",
       "</div>"
      ],
      "text/plain": [
       "                     count        mean         std  min   25%    50%    75%  \\\n",
       "Professional Cert                                                             \n",
       "N                  38010.0  225.441594  282.962780  1.0  71.0  138.0  267.0   \n",
       "Y                  21066.0   62.025966  165.562255  1.0   3.0   13.0   42.0   \n",
       "\n",
       "                      max  \n",
       "Professional Cert          \n",
       "N                  4959.0  \n",
       "Y                  2589.0  "
      ]
     },
     "execution_count": 68,
     "metadata": {},
     "output_type": "execute_result"
    },
    {
     "data": {
      "image/png": "[encoded data removed]",
      "text/plain": [
       "<Figure size 432x288 with 1 Axes>"
      ]
     },
     "metadata": {
      "needs_background": "light"
     },
     "output_type": "display_data"
    }
   ],
   "source": [
    "# Bar chart indicating whether or not the application was submitted as \n",
    "# Professionally Certified by a Professional Engineer (PE) or Registered Architect (RA).\n",
    "ax = data['Professional Cert'].value_counts().plot(kind='bar', color='g')\n",
    "ax.set_xticklabels(['No','Yes'],rotation=360)\n",
    "ax.set_title('Applications were professionally certified')\n",
    "ax.set_ylabel('Number of applications')\n",
    "pd.DataFrame(data.groupby('Professional Cert')['Duration'].describe())\n"
   ]
  },
  {
   "cell_type": "code",
   "execution_count": 69,
   "metadata": {
    "scrolled": true
   },
   "outputs": [
    {
     "data": {
      "image/png": "[encoded data removed]",
      "text/plain": [
       "<Figure size 432x288 with 1 Axes>"
      ]
     },
     "metadata": {
      "needs_background": "light"
     },
     "output_type": "display_data"
    }
   ],
   "source": [
    "# Boxplot of Duration based on wheather or not the applications were professionally certified.\n",
    "ax = data.boxplot(column=['Duration'], by=['Professional Cert'])\n",
    "ax.set_xticklabels(['Not certified','Certified'])\n",
    "plt.suptitle('')\n",
    "ax.set_title(\"Duration based on the professional certification of applications\")\n",
    "ax.set_xlabel('')\n",
    "ax.set_ylabel('Days')\n",
    "ax.grid(False)\n",
    "plt.tight_layout()"
   ]
  },
  {
   "cell_type": "code",
   "execution_count": null,
   "metadata": {},
   "outputs": [],
   "source": [
    "# Bar chart indicating whether or not the application was submitted as \n",
    "# Professionally Certified by a Professional Engineer (PE) or Registered Architect (RA).\n",
    "ax = data[' '].value_counts().plot(kind='bar', color='g')\n",
    "ax.set_xticklabels(['No','Yes'],rotation=360)\n",
    "ax.set_title('Applications were professionally certified')\n",
    "ax.set_ylabel('Number of applications')\n",
    "pd.DataFrame(data.groupby(' ')['Duration'].describe())\n",
    "plt.tight_layout()"
   ]
  },
  {
   "cell_type": "code",
   "execution_count": 118,
   "metadata": {
    "scrolled": true
   },
   "outputs": [
    {
     "data": {
      "text/html": [
       "<div>\n",
       "<style scoped>\n",
       "    .dataframe tbody tr th:only-of-type {\n",
       "        vertical-align: middle;\n",
       "    }\n",
       "\n",
       "    .dataframe tbody tr th {\n",
       "        vertical-align: top;\n",
       "    }\n",
       "\n",
       "    .dataframe thead th {\n",
       "        text-align: right;\n",
       "    }\n",
       "</style>\n",
       "<table border=\"1\" class=\"dataframe\">\n",
       "  <thead>\n",
       "    <tr style=\"text-align: right;\">\n",
       "      <th></th>\n",
       "      <th>Total Est. Fee</th>\n",
       "    </tr>\n",
       "  </thead>\n",
       "  <tbody>\n",
       "    <tr>\n",
       "      <th>count</th>\n",
       "      <td>59076.0</td>\n",
       "    </tr>\n",
       "    <tr>\n",
       "      <th>mean</th>\n",
       "      <td>3950.3</td>\n",
       "    </tr>\n",
       "    <tr>\n",
       "      <th>std</th>\n",
       "      <td>84871.4</td>\n",
       "    </tr>\n",
       "    <tr>\n",
       "      <th>min</th>\n",
       "      <td>0.0</td>\n",
       "    </tr>\n",
       "    <tr>\n",
       "      <th>25%</th>\n",
       "      <td>376.8</td>\n",
       "    </tr>\n",
       "    <tr>\n",
       "      <th>50%</th>\n",
       "      <td>613.8</td>\n",
       "    </tr>\n",
       "    <tr>\n",
       "      <th>75%</th>\n",
       "      <td>1168.3</td>\n",
       "    </tr>\n",
       "    <tr>\n",
       "      <th>max</th>\n",
       "      <td>16900000.0</td>\n",
       "    </tr>\n",
       "  </tbody>\n",
       "</table>\n",
       "</div>"
      ],
      "text/plain": [
       "       Total Est. Fee\n",
       "count         59076.0\n",
       "mean           3950.3\n",
       "std           84871.4\n",
       "min               0.0\n",
       "25%             376.8\n",
       "50%             613.8\n",
       "75%            1168.3\n",
       "max        16900000.0"
      ]
     },
     "execution_count": 118,
     "metadata": {},
     "output_type": "execute_result"
    },
    {
     "data": {
      "image/png": "[encoded data removed]",
      "text/plain": [
       "<Figure size 432x288 with 1 Axes>"
      ]
     },
     "metadata": {
      "needs_background": "light"
     },
     "output_type": "display_data"
    }
   ],
   "source": [
    "# Histogram of building permit fee () \n",
    "ax = data['Total Est. Fee'].hist(bins=30, range=(0,1500))\n",
    "ax.set_title('Esimated building permit fees (USD)')\n",
    "ax.set_xlabel('Building permit fee (USD)')\n",
    "ax.grid(False)\n",
    "pd.DataFrame((data['Total Est. Fee']).describe()).round(1)\n",
    "plt.tight_layout()"
   ]
  },
  {
   "cell_type": "code",
   "execution_count": 223,
   "metadata": {},
   "outputs": [
    {
     "data": {
      "text/plain": [
       "Text(0.5,0,'')"
      ]
     },
     "execution_count": 223,
     "metadata": {},
     "output_type": "execute_result"
    },
    {
     "data": {
      "image/png": "[encoded data removed]",
      "text/plain": [
       "<Figure size 432x288 with 1 Axes>"
      ]
     },
     "metadata": {
      "needs_background": "light"
     },
     "output_type": "display_data"
    }
   ],
   "source": [
    "# Boxplot of building permit fee (estimated) in each borough.\n",
    "ax = sns.boxplot(data=data,x='Borough',y='Total Est. Fee')\n",
    "ax.set_ylabel('Estimated building permit fee (USD)')\n",
    "plt.ylim(0,650000)\n",
    "ax.set_xlabel('')\n",
    "plt.tight_layout()"
   ]
  },
  {
   "cell_type": "code",
   "execution_count": 258,
   "metadata": {},
   "outputs": [
    {
     "data": {
      "image/png": "[encoded data removed]",
      "text/plain": [
       "<Figure size 432x288 with 2 Axes>"
      ]
     },
     "metadata": {
      "needs_background": "light"
     },
     "output_type": "display_data"
    }
   ],
   "source": [
    "# Histogram of Proposed Zoning square footage. \n",
    "fig, ax = plt.subplots(2,1)\n",
    "\n",
    "plt.subplot(2,1,1)\n",
    "ax = data['Proposed Zoning Sqft'].hist(bins=30, range=(0,3000), color='orange')\n",
    "ax.set_title('Proposed Zoning square footage')\n",
    "# ax.set_xlabel('Square feet')\n",
    "ax.grid(False)\n",
    "pd.DataFrame((data['Proposed Zoning Sqft']).describe()).round(1)\n",
    "\n",
    "plt.subplot(2,1,2)\n",
    "ax1 = data['Proposed Zoning Sqft'].hist(bins=30, range=(100,3000))\n",
    "ax1.set_title('Proposed Zoning square footage - excluding 0s')\n",
    "ax1.set_xlabel('Square feet')\n",
    "ax1.grid(False)\n",
    "plt.tight_layout()"
   ]
  },
  {
   "cell_type": "code",
   "execution_count": 270,
   "metadata": {},
   "outputs": [
    {
     "data": {
      "text/html": [
       "<div>\n",
       "<style scoped>\n",
       "    .dataframe tbody tr th:only-of-type {\n",
       "        vertical-align: middle;\n",
       "    }\n",
       "\n",
       "    .dataframe tbody tr th {\n",
       "        vertical-align: top;\n",
       "    }\n",
       "\n",
       "    .dataframe thead th {\n",
       "        text-align: right;\n",
       "    }\n",
       "</style>\n",
       "<table border=\"1\" class=\"dataframe\">\n",
       "  <thead>\n",
       "    <tr style=\"text-align: right;\">\n",
       "      <th></th>\n",
       "      <th>Proposed No. Of Stories</th>\n",
       "    </tr>\n",
       "  </thead>\n",
       "  <tbody>\n",
       "    <tr>\n",
       "      <th>count</th>\n",
       "      <td>59076.0</td>\n",
       "    </tr>\n",
       "    <tr>\n",
       "      <th>mean</th>\n",
       "      <td>3.3</td>\n",
       "    </tr>\n",
       "    <tr>\n",
       "      <th>std</th>\n",
       "      <td>4.1</td>\n",
       "    </tr>\n",
       "    <tr>\n",
       "      <th>min</th>\n",
       "      <td>0.0</td>\n",
       "    </tr>\n",
       "    <tr>\n",
       "      <th>25%</th>\n",
       "      <td>2.0</td>\n",
       "    </tr>\n",
       "    <tr>\n",
       "      <th>50%</th>\n",
       "      <td>3.0</td>\n",
       "    </tr>\n",
       "    <tr>\n",
       "      <th>75%</th>\n",
       "      <td>3.0</td>\n",
       "    </tr>\n",
       "    <tr>\n",
       "      <th>max</th>\n",
       "      <td>212.0</td>\n",
       "    </tr>\n",
       "  </tbody>\n",
       "</table>\n",
       "</div>"
      ],
      "text/plain": [
       "       Proposed No. Of Stories\n",
       "count                  59076.0\n",
       "mean                       3.3\n",
       "std                        4.1\n",
       "min                        0.0\n",
       "25%                        2.0\n",
       "50%                        3.0\n",
       "75%                        3.0\n",
       "max                      212.0"
      ]
     },
     "execution_count": 270,
     "metadata": {},
     "output_type": "execute_result"
    },
    {
     "data": {
      "image/png": "[encoded data removed]",
      "text/plain": [
       "<Figure size 432x288 with 1 Axes>"
      ]
     },
     "metadata": {
      "needs_background": "light"
     },
     "output_type": "display_data"
    }
   ],
   "source": [
    "# Histogram of Proposed No. Of Stories. \n",
    "ax = data['Proposed No. Of Stories'].hist(bins=30, range=(0,25))\n",
    "ax.set_title('Proposed No. Of Stories')\n",
    "ax.set_xlabel('')\n",
    "ax.grid(False)\n",
    "pd.DataFrame((data['Proposed No. Of Stories']).describe()).round(1)\n",
    "plt.tight_layout()"
   ]
  },
  {
   "cell_type": "code",
   "execution_count": 286,
   "metadata": {},
   "outputs": [
    {
     "data": {
      "text/plain": [
       "Text(0.5,0,'')"
      ]
     },
     "execution_count": 286,
     "metadata": {},
     "output_type": "execute_result"
    },
    {
     "data": {
      "image/png": "[encoded data removed]",
      "text/plain": [
       "<Figure size 432x288 with 1 Axes>"
      ]
     },
     "metadata": {
      "needs_background": "light"
     },
     "output_type": "display_data"
    }
   ],
   "source": [
    "# Boxplot of Proposed No. Of Stories in each borough. \n",
    "ax = sns.boxplot(data=data,x='Borough', y='Proposed No. Of Stories')\n",
    "ax.set(ylim=(0,110))\n",
    "ax.set_xlabel('')\n",
    "plt.tight_layout()"
   ]
  },
  {
   "cell_type": "code",
   "execution_count": 296,
   "metadata": {},
   "outputs": [
    {
     "data": {
      "text/html": [
       "<div>\n",
       "<style scoped>\n",
       "    .dataframe tbody tr th:only-of-type {\n",
       "        vertical-align: middle;\n",
       "    }\n",
       "\n",
       "    .dataframe tbody tr th {\n",
       "        vertical-align: top;\n",
       "    }\n",
       "\n",
       "    .dataframe thead th {\n",
       "        text-align: right;\n",
       "    }\n",
       "</style>\n",
       "<table border=\"1\" class=\"dataframe\">\n",
       "  <thead>\n",
       "    <tr style=\"text-align: right;\">\n",
       "      <th></th>\n",
       "      <th>Proposed Height</th>\n",
       "    </tr>\n",
       "  </thead>\n",
       "  <tbody>\n",
       "    <tr>\n",
       "      <th>count</th>\n",
       "      <td>59076.0</td>\n",
       "    </tr>\n",
       "    <tr>\n",
       "      <th>mean</th>\n",
       "      <td>36.8</td>\n",
       "    </tr>\n",
       "    <tr>\n",
       "      <th>std</th>\n",
       "      <td>57.1</td>\n",
       "    </tr>\n",
       "    <tr>\n",
       "      <th>min</th>\n",
       "      <td>0.0</td>\n",
       "    </tr>\n",
       "    <tr>\n",
       "      <th>25%</th>\n",
       "      <td>23.0</td>\n",
       "    </tr>\n",
       "    <tr>\n",
       "      <th>50%</th>\n",
       "      <td>28.0</td>\n",
       "    </tr>\n",
       "    <tr>\n",
       "      <th>75%</th>\n",
       "      <td>35.0</td>\n",
       "    </tr>\n",
       "    <tr>\n",
       "      <th>max</th>\n",
       "      <td>7310.0</td>\n",
       "    </tr>\n",
       "  </tbody>\n",
       "</table>\n",
       "</div>"
      ],
      "text/plain": [
       "       Proposed Height\n",
       "count          59076.0\n",
       "mean              36.8\n",
       "std               57.1\n",
       "min                0.0\n",
       "25%               23.0\n",
       "50%               28.0\n",
       "75%               35.0\n",
       "max             7310.0"
      ]
     },
     "execution_count": 296,
     "metadata": {},
     "output_type": "execute_result"
    },
    {
     "data": {
      "image/png": "[encoded data removed]",
      "text/plain": [
       "<Figure size 432x288 with 1 Axes>"
      ]
     },
     "metadata": {
      "needs_background": "light"
     },
     "output_type": "display_data"
    }
   ],
   "source": [
    "# Histogram of Proposed Height. \n",
    "ax = data['Proposed Height'].hist(bins=30, range=(0,220))\n",
    "ax.set_title('Proposed Height')\n",
    "ax.set_xlabel('Proposed Height (in feet)')\n",
    "ax.grid(False)\n",
    "pd.DataFrame((data['Proposed Height']).describe()).round(1)\n",
    "plt.tight_layout()"
   ]
  },
  {
   "cell_type": "code",
   "execution_count": 307,
   "metadata": {},
   "outputs": [
    {
     "data": {
      "text/plain": [
       "Text(0.5,1,'Proposed Height in each borough')"
      ]
     },
     "execution_count": 307,
     "metadata": {},
     "output_type": "execute_result"
    },
    {
     "data": {
      "image/png": "[encoded data removed]",
      "text/plain": [
       "<Figure size 432x288 with 1 Axes>"
      ]
     },
     "metadata": {
      "needs_background": "light"
     },
     "output_type": "display_data"
    }
   ],
   "source": [
    "# Boxplot of Proposed Height in each borough. \n",
    "ax = sns.boxplot(data=data,x='Borough', y='Proposed Height')\n",
    "ax.set(ylim=(0,1800))\n",
    "ax.set_xlabel('')\n",
    "ax.set_ylabel('Proposed Height (in feet)')\n",
    "ax.set_title('Proposed Height in each borough')\n",
    "plt.tight_layout()"
   ]
  },
  {
   "cell_type": "code",
   "execution_count": 317,
   "metadata": {},
   "outputs": [
    {
     "data": {
      "text/html": [
       "<div>\n",
       "<style scoped>\n",
       "    .dataframe tbody tr th:only-of-type {\n",
       "        vertical-align: middle;\n",
       "    }\n",
       "\n",
       "    .dataframe tbody tr th {\n",
       "        vertical-align: top;\n",
       "    }\n",
       "\n",
       "    .dataframe thead th {\n",
       "        text-align: right;\n",
       "    }\n",
       "</style>\n",
       "<table border=\"1\" class=\"dataframe\">\n",
       "  <thead>\n",
       "    <tr style=\"text-align: right;\">\n",
       "      <th></th>\n",
       "      <th>Proposed Dwelling Units</th>\n",
       "    </tr>\n",
       "  </thead>\n",
       "  <tbody>\n",
       "    <tr>\n",
       "      <th>count</th>\n",
       "      <td>50387.0</td>\n",
       "    </tr>\n",
       "    <tr>\n",
       "      <th>mean</th>\n",
       "      <td>10.1</td>\n",
       "    </tr>\n",
       "    <tr>\n",
       "      <th>std</th>\n",
       "      <td>103.1</td>\n",
       "    </tr>\n",
       "    <tr>\n",
       "      <th>min</th>\n",
       "      <td>0.0</td>\n",
       "    </tr>\n",
       "    <tr>\n",
       "      <th>25%</th>\n",
       "      <td>1.0</td>\n",
       "    </tr>\n",
       "    <tr>\n",
       "      <th>50%</th>\n",
       "      <td>2.0</td>\n",
       "    </tr>\n",
       "    <tr>\n",
       "      <th>75%</th>\n",
       "      <td>3.0</td>\n",
       "    </tr>\n",
       "    <tr>\n",
       "      <th>max</th>\n",
       "      <td>21240.0</td>\n",
       "    </tr>\n",
       "  </tbody>\n",
       "</table>\n",
       "</div>"
      ],
      "text/plain": [
       "       Proposed Dwelling Units\n",
       "count                  50387.0\n",
       "mean                      10.1\n",
       "std                      103.1\n",
       "min                        0.0\n",
       "25%                        1.0\n",
       "50%                        2.0\n",
       "75%                        3.0\n",
       "max                    21240.0"
      ]
     },
     "execution_count": 317,
     "metadata": {},
     "output_type": "execute_result"
    },
    {
     "data": {
      "image/png": "[encoded data removed]",
      "text/plain": [
       "<Figure size 432x288 with 2 Axes>"
      ]
     },
     "metadata": {
      "needs_background": "light"
     },
     "output_type": "display_data"
    }
   ],
   "source": [
    "# Histogram of Proposed Height. \n",
    "fig,ax = plt.subplots(2,1, sharey=True)\n",
    "plt.subplot(2,1,1)\n",
    "ax = data['Proposed Dwelling Units'].hist(bins=30, color='gold')\n",
    "ax.set_title('Proposed Dwelling Units')\n",
    "# ax.set_xlabel('Proposed Dwelling Units (Number)')\n",
    "ax.grid(False)\n",
    "\n",
    "plt.subplot(2,1,2)\n",
    "ax1 = data['Proposed Dwelling Units'].hist(bins=30, range=(0,25))\n",
    "ax1.set_title('Proposed Dwelling Units (subset between 0 and 25)')\n",
    "ax1.set_xlabel('Proposed Dwelling Units (Number)')\n",
    "ax1.grid(False)\n",
    "\n",
    "plt.tight_layout()\n",
    "pd.DataFrame((data['Proposed Dwelling Units']).describe()).round(1)"
   ]
  },
  {
   "cell_type": "code",
   "execution_count": 320,
   "metadata": {},
   "outputs": [
    {
     "data": {
      "image/png": "[encoded data removed]",
      "text/plain": [
       "<Figure size 432x288 with 1 Axes>"
      ]
     },
     "metadata": {
      "needs_background": "light"
     },
     "output_type": "display_data"
    }
   ],
   "source": [
    "# Boxplot of Proposed Height in each borough. \n",
    "ax = sns.boxplot(data=data,x='Borough', y='Proposed Dwelling Units')\n",
    "ax.set(ylim=(0,1800))\n",
    "ax.set_xlabel('')\n",
    "ax.set_ylabel('Proposed Dwelling Units (number)')\n",
    "ax.set_title('Proposed Dwelling Units in each borough')\n",
    "plt.tight_layout()"
   ]
  },
  {
   "cell_type": "code",
   "execution_count": 329,
   "metadata": {},
   "outputs": [
    {
     "data": {
      "text/plain": [
       "Proposed Occupancy\n",
       "B-2      71.850017\n",
       "H-5      92.000000\n",
       "A       111.000000\n",
       "J-0     114.710769\n",
       "U       117.154720\n",
       "J-3     117.801740\n",
       "K       119.365854\n",
       "A-5     123.600000\n",
       "RES     141.927762\n",
       "D-1     150.741667\n",
       "S-2     156.524931\n",
       "B-1     167.840000\n",
       "F-4     174.388889\n",
       "J-2     195.413098\n",
       "C       198.897474\n",
       "COM     199.940299\n",
       "PUB     200.826087\n",
       "D-2     209.824818\n",
       "R-3     213.261523\n",
       "E       226.938889\n",
       "F-1     230.692308\n",
       "F-1A    250.500000\n",
       "R-2     267.597951\n",
       "F-2     268.760000\n",
       "A-2     273.854545\n",
       "M       273.860784\n",
       "S-1     284.056738\n",
       "F-1B    306.482993\n",
       "B       309.755932\n",
       "G       327.448485\n",
       "J-1     346.995215\n",
       "H-2     357.500000\n",
       "R-1     365.405556\n",
       "A-4     396.400000\n",
       "I-1     401.000000\n",
       "I-2     413.583333\n",
       "F-3     422.416667\n",
       "A-3     449.773723\n",
       "I-4     457.000000\n",
       "H-1     531.833333\n",
       "A-1     600.142857\n",
       "H-3     674.000000\n",
       "Name: Duration, dtype: float64"
      ]
     },
     "execution_count": 329,
     "metadata": {},
     "output_type": "execute_result"
    }
   ],
   "source": [
    "# bar chart of Proposed Occupancy.\n",
    "\n",
    "data.groupby('Proposed Occupancy')['Duration'].mean().sort_values()"
   ]
  },
  {
   "cell_type": "markdown",
   "metadata": {},
   "source": [
    "### Categorical variables that have multiple categories \n",
    "\n",
    "#### How to visualize the categorigal variables that have too many categories for a bar chart or box plot?\n",
    "\n",
    "Zoning, Special Districts and Proposed Occupany variables have multiple categoris each, ranging from 8 (Special District 2) to 43 (Proposed Occupancy) to 164 (Zoning Dist1) and anything in between. "
   ]
  },
  {
   "cell_type": "code",
   "execution_count": 337,
   "metadata": {},
   "outputs": [
    {
     "data": {
      "text/plain": [
       "array(['R-3', 'R-1', 'U', 'R-2', 'E', 'M', 'S-2', 'J-3', 'B', 'S-1',\n",
       "       'B-2', 'F-1', 'J-2', 'F-1B', 'A-3', 'J-0', 'A-4', 'PUB', 'C',\n",
       "       'B-1', 'G', 'RES', 'J-1', nan, 'A-5', 'I-1', 'A-2', 'F-2', 'F-3',\n",
       "       'COM', 'D-1', 'D-2', 'H-2', 'K', 'F-4', 'I-2', 'I-4', 'F-1A', 'A',\n",
       "       'H-5', 'A-1', 'H-1', 'H-3'], dtype=object)"
      ]
     },
     "execution_count": 337,
     "metadata": {},
     "output_type": "execute_result"
    }
   ],
   "source": [
    "data['Proposed Occupancy'].unique()"
   ]
  },
  {
   "cell_type": "code",
   "execution_count": 357,
   "metadata": {},
   "outputs": [
    {
     "data": {
      "text/html": [
       "<div>\n",
       "<style scoped>\n",
       "    .dataframe tbody tr th:only-of-type {\n",
       "        vertical-align: middle;\n",
       "    }\n",
       "\n",
       "    .dataframe tbody tr th {\n",
       "        vertical-align: top;\n",
       "    }\n",
       "\n",
       "    .dataframe thead th {\n",
       "        text-align: right;\n",
       "    }\n",
       "</style>\n",
       "<table border=\"1\" class=\"dataframe\">\n",
       "  <thead>\n",
       "    <tr style=\"text-align: right;\">\n",
       "      <th></th>\n",
       "      <th>Total_Construction_Floor_Area</th>\n",
       "    </tr>\n",
       "  </thead>\n",
       "  <tbody>\n",
       "    <tr>\n",
       "      <th>count</th>\n",
       "      <td>59076.0</td>\n",
       "    </tr>\n",
       "    <tr>\n",
       "      <th>mean</th>\n",
       "      <td>13557.1</td>\n",
       "    </tr>\n",
       "    <tr>\n",
       "      <th>std</th>\n",
       "      <td>70007.6</td>\n",
       "    </tr>\n",
       "    <tr>\n",
       "      <th>min</th>\n",
       "      <td>0.0</td>\n",
       "    </tr>\n",
       "    <tr>\n",
       "      <th>25%</th>\n",
       "      <td>2319.0</td>\n",
       "    </tr>\n",
       "    <tr>\n",
       "      <th>50%</th>\n",
       "      <td>3453.0</td>\n",
       "    </tr>\n",
       "    <tr>\n",
       "      <th>75%</th>\n",
       "      <td>5481.2</td>\n",
       "    </tr>\n",
       "    <tr>\n",
       "      <th>max</th>\n",
       "      <td>7142400.0</td>\n",
       "    </tr>\n",
       "  </tbody>\n",
       "</table>\n",
       "</div>"
      ],
      "text/plain": [
       "       Total_Construction_Floor_Area\n",
       "count                        59076.0\n",
       "mean                         13557.1\n",
       "std                          70007.6\n",
       "min                              0.0\n",
       "25%                           2319.0\n",
       "50%                           3453.0\n",
       "75%                           5481.2\n",
       "max                        7142400.0"
      ]
     },
     "execution_count": 357,
     "metadata": {},
     "output_type": "execute_result"
    },
    {
     "data": {
      "image/png": "[encoded data removed]",
      "text/plain": [
       "<Figure size 432x288 with 2 Axes>"
      ]
     },
     "metadata": {
      "needs_background": "light"
     },
     "output_type": "display_data"
    }
   ],
   "source": [
    "# Histogram of Proposed Height. \n",
    "\n",
    "fig,ax = plt.subplots(2,1)\n",
    "\n",
    "plt.subplot(2,1,1)\n",
    "ax = data['Total_Construction_Floor_Area'].hist(bins=30, color='orange')\n",
    "ax.set_title('Total_Construction_Floor_Area')\n",
    "# ax.set_xlabel('Total_Construction_Floor_Area (square feet)')\n",
    "ax.grid(False)\n",
    "\n",
    "plt.subplot(2,1,2)\n",
    "ax1 = data['Total_Construction_Floor_Area'].hist(bins=30,  range=(0,20000))\n",
    "ax1.set_title('Total_Construction_Floor_Area - cap at 20,000 sqft')\n",
    "ax1.set_xlabel('Total_Construction_Floor_Area (square feet)')\n",
    "ax1.grid(False)\n",
    "\n",
    "\n",
    "plt.tight_layout()\n",
    "pd.DataFrame((data['Total_Construction_Floor_Area']).describe()).round(1)\n"
   ]
  },
  {
   "cell_type": "code",
   "execution_count": 363,
   "metadata": {
    "scrolled": true
   },
   "outputs": [
    {
     "data": {
      "text/plain": [
       "count    59076.000000\n",
       "mean       167.168969\n",
       "std        259.648127\n",
       "min          1.000000\n",
       "25%         25.000000\n",
       "50%         83.000000\n",
       "75%        201.000000\n",
       "max       4959.000000\n",
       "Name: Duration, dtype: float64"
      ]
     },
     "execution_count": 363,
     "metadata": {},
     "output_type": "execute_result"
    },
    {
     "data": {
      "image/png": "[encoded data removed]",
      "text/plain": [
       "<Figure size 432x288 with 1 Axes>"
      ]
     },
     "metadata": {
      "needs_background": "light"
     },
     "output_type": "display_data"
    }
   ],
   "source": [
    "# Create a histogram of duration and include a statistical analysis.\n",
    "data['Duration'].plot(kind='hist', bins = 200)\n",
    "plt.xlim(0,1000)\n",
    "plt.xlabel('Approval duration (days)')\n",
    "data['Duration'].describe()"
   ]
  },
  {
   "cell_type": "code",
   "execution_count": 364,
   "metadata": {},
   "outputs": [
    {
     "data": {
      "text/plain": [
       "Text(0,0.5,'Average days for approval')"
      ]
     },
     "execution_count": 364,
     "metadata": {},
     "output_type": "execute_result"
    },
    {
     "data": {
      "image/png": "[encoded data removed]",
      "text/plain": [
       "<Figure size 432x288 with 1 Axes>"
      ]
     },
     "metadata": {
      "needs_background": "light"
     },
     "output_type": "display_data"
    }
   ],
   "source": [
    "# Duration of the approval in each borough. \n",
    "data.groupby('Borough')['Duration'].mean().sort_values().plot(kind='bar', color = 'blue')\n",
    "plt.xlabel('')\n",
    "plt.ylabel('Average days for approval')"
   ]
  },
  {
   "cell_type": "code",
   "execution_count": 321,
   "metadata": {},
   "outputs": [
    {
     "data": {
      "text/html": [
       "<div>\n",
       "<style scoped>\n",
       "    .dataframe tbody tr th:only-of-type {\n",
       "        vertical-align: middle;\n",
       "    }\n",
       "\n",
       "    .dataframe tbody tr th {\n",
       "        vertical-align: top;\n",
       "    }\n",
       "\n",
       "    .dataframe thead th {\n",
       "        text-align: right;\n",
       "    }\n",
       "</style>\n",
       "<table border=\"1\" class=\"dataframe\">\n",
       "  <thead>\n",
       "    <tr style=\"text-align: right;\">\n",
       "      <th></th>\n",
       "      <th>Pre- Filing Date</th>\n",
       "      <th>Fully Paid</th>\n",
       "      <th>Approved</th>\n",
       "      <th>Fully Permitted</th>\n",
       "      <th>Total Est. Fee</th>\n",
       "      <th>Proposed Zoning Sqft</th>\n",
       "      <th>Proposed No. Of Stories</th>\n",
       "      <th>Proposed Height</th>\n",
       "      <th>Proposed Dwelling Units</th>\n",
       "      <th>Proposed Occupancy</th>\n",
       "      <th>Zoning Dist1</th>\n",
       "      <th>Zoning Dist2</th>\n",
       "      <th>Zoning Dist3</th>\n",
       "      <th>Special District 1</th>\n",
       "      <th>Special District 2</th>\n",
       "      <th>Non-Profit</th>\n",
       "      <th>Total_Construction_Floor_Area</th>\n",
       "      <th>Signoff_Date</th>\n",
       "      <th>Duration</th>\n",
       "    </tr>\n",
       "  </thead>\n",
       "  <tbody>\n",
       "    <tr>\n",
       "      <th>0</th>\n",
       "      <td>2018-11-02</td>\n",
       "      <td>2018-11-02</td>\n",
       "      <td>2019-04-09</td>\n",
       "      <td>NaT</td>\n",
       "      <td>243.00</td>\n",
       "      <td>2700</td>\n",
       "      <td>2</td>\n",
       "      <td>28</td>\n",
       "      <td>2.0</td>\n",
       "      <td>R-3</td>\n",
       "      <td>R3A</td>\n",
       "      <td>NaN</td>\n",
       "      <td>NaN</td>\n",
       "      <td>NaN</td>\n",
       "      <td>NaN</td>\n",
       "      <td>N</td>\n",
       "      <td>4050</td>\n",
       "      <td>NaT</td>\n",
       "      <td>158.0</td>\n",
       "    </tr>\n",
       "    <tr>\n",
       "      <th>1</th>\n",
       "      <td>2012-03-23</td>\n",
       "      <td>2012-03-27</td>\n",
       "      <td>2013-03-14</td>\n",
       "      <td>2014-11-13</td>\n",
       "      <td>52167.26</td>\n",
       "      <td>161567</td>\n",
       "      <td>14</td>\n",
       "      <td>150</td>\n",
       "      <td>234.0</td>\n",
       "      <td>R-1</td>\n",
       "      <td>M1-2/R6</td>\n",
       "      <td>NaN</td>\n",
       "      <td>NaN</td>\n",
       "      <td>MX-8</td>\n",
       "      <td>GW</td>\n",
       "      <td>N</td>\n",
       "      <td>198951</td>\n",
       "      <td>NaT</td>\n",
       "      <td>352.0</td>\n",
       "    </tr>\n",
       "  </tbody>\n",
       "</table>\n",
       "</div>"
      ],
      "text/plain": [
       "  Pre- Filing Date Fully Paid   Approved Fully Permitted  Total Est. Fee  \\\n",
       "0       2018-11-02 2018-11-02 2019-04-09             NaT          243.00   \n",
       "1       2012-03-23 2012-03-27 2013-03-14      2014-11-13        52167.26   \n",
       "\n",
       "   Proposed Zoning Sqft  Proposed No. Of Stories  Proposed Height  \\\n",
       "0                  2700                        2               28   \n",
       "1                161567                       14              150   \n",
       "\n",
       "   Proposed Dwelling Units Proposed Occupancy Zoning Dist1 Zoning Dist2  \\\n",
       "0                      2.0                R-3          R3A          NaN   \n",
       "1                    234.0                R-1      M1-2/R6          NaN   \n",
       "\n",
       "  Zoning Dist3 Special District 1 Special District 2 Non-Profit  \\\n",
       "0          NaN                NaN                NaN          N   \n",
       "1          NaN               MX-8                 GW          N   \n",
       "\n",
       "   Total_Construction_Floor_Area Signoff_Date  Duration  \n",
       "0                           4050          NaT     158.0  \n",
       "1                         198951          NaT     352.0  "
      ]
     },
     "execution_count": 321,
     "metadata": {},
     "output_type": "execute_result"
    }
   ],
   "source": [
    "data.iloc[:,5:].head(2)"
   ]
  },
  {
   "cell_type": "code",
   "execution_count": null,
   "metadata": {},
   "outputs": [],
   "source": []
  },
  {
   "cell_type": "code",
   "execution_count": null,
   "metadata": {},
   "outputs": [],
   "source": [
    "data['TOTAL_CONSTRUCTION_FLOOR_AREA'].mean()"
   ]
  },
  {
   "cell_type": "code",
   "execution_count": null,
   "metadata": {},
   "outputs": [],
   "source": []
  },
  {
   "cell_type": "code",
   "execution_count": null,
   "metadata": {},
   "outputs": [],
   "source": [
    "data.head(2)"
   ]
  },
  {
   "cell_type": "code",
   "execution_count": null,
   "metadata": {
    "scrolled": false
   },
   "outputs": [],
   "source": [
    "data.groupby('Building Type')['Duration'].mean().plot(kind='bar')"
   ]
  },
  {
   "cell_type": "code",
   "execution_count": null,
   "metadata": {},
   "outputs": [],
   "source": [
    "# transform the Boroughs into categories for faster analysis.\n",
    "data['Borough'] = data['Borough'].astype('category')"
   ]
  },
  {
   "cell_type": "code",
   "execution_count": null,
   "metadata": {},
   "outputs": [],
   "source": [
    "(data.groupby(['Borough','Building Type'])['Total_Construction_Floor_Area'].\n",
    " sum().sort_values().plot(kind='bar',color='green'))"
   ]
  },
  {
   "cell_type": "code",
   "execution_count": null,
   "metadata": {},
   "outputs": [],
   "source": [
    "normal_data.iloc[:,4:18]"
   ]
  },
  {
   "cell_type": "code",
   "execution_count": null,
   "metadata": {},
   "outputs": [],
   "source": [
    "agg=(data.groupby('Borough')\n",
    " ['Total_Construction_Floor_Area']\n",
    "     .agg(['mean','median']).round(0))"
   ]
  },
  {
   "cell_type": "code",
   "execution_count": null,
   "metadata": {},
   "outputs": [],
   "source": [
    "agg.plot(kind='bar')\n",
    "plt.xlabel('')\n",
    "plt.ylabel('Total construction area (sqf)')"
   ]
  },
  {
   "cell_type": "code",
   "execution_count": null,
   "metadata": {},
   "outputs": [],
   "source": [
    "agg1 =(data.groupby('Efiling Filed')\n",
    " [['Duration','Total_Construction_Floor_Area']].agg(['mean','median']))"
   ]
  },
  {
   "cell_type": "code",
   "execution_count": null,
   "metadata": {},
   "outputs": [],
   "source": [
    "ax = agg1['Duration'].plot(kind='bar')\n",
    "ax.set_xlabel('Electronic filing')\n",
    "ax.set_ylabel('Approval duration (days)')\n",
    "ax.set_xticklabels(['Yes','No'],rotation=360)\n",
    "ax.legend(loc='upper left')"
   ]
  },
  {
   "cell_type": "code",
   "execution_count": null,
   "metadata": {},
   "outputs": [],
   "source": [
    "data.head(2)"
   ]
  },
  {
   "cell_type": "code",
   "execution_count": null,
   "metadata": {},
   "outputs": [],
   "source": [
    "x = data.set_index(['Proposed Occupancy','Borough'])"
   ]
  },
  {
   "cell_type": "code",
   "execution_count": null,
   "metadata": {},
   "outputs": [],
   "source": [
    "x.groupby(level=['Borough']).mean()"
   ]
  },
  {
   "cell_type": "code",
   "execution_count": null,
   "metadata": {},
   "outputs": [],
   "source": [
    "data.head(2)"
   ]
  },
  {
   "cell_type": "markdown",
   "metadata": {},
   "source": [
    "### Selecting outliers\n",
    "\n",
    "Selecting outliers based on the Total_Construction_Floor_Area variable. Applying a filter to\n",
    "select values that are +- 3 standard deviation in this variable. Total number of outliers is\n",
    "517 data points, which is 0.08% of the total data."
   ]
  },
  {
   "cell_type": "code",
   "execution_count": null,
   "metadata": {},
   "outputs": [],
   "source": [
    "from scipy.stats import zscore"
   ]
  },
  {
   "cell_type": "code",
   "execution_count": null,
   "metadata": {},
   "outputs": [],
   "source": [
    "standardized = (normal_data.\n",
    "                groupby('Borough')['Total_Construction_Floor_Area'].transform(zscore))"
   ]
  },
  {
   "cell_type": "code",
   "execution_count": null,
   "metadata": {},
   "outputs": [],
   "source": [
    "outliers = standardized[(standardized > 3) | (standardized < -3)]"
   ]
  },
  {
   "cell_type": "code",
   "execution_count": null,
   "metadata": {},
   "outputs": [],
   "source": [
    "outlier_data = data.iloc[outliers]"
   ]
  },
  {
   "cell_type": "code",
   "execution_count": null,
   "metadata": {},
   "outputs": [],
   "source": [
    "outlier_data"
   ]
  },
  {
   "cell_type": "code",
   "execution_count": 287,
   "metadata": {},
   "outputs": [
    {
     "ename": "NameError",
     "evalue": "name 'outlier_data' is not defined",
     "output_type": "error",
     "traceback": [
      "\u001b[0;31m---------------------------------------------------------------------------\u001b[0m",
      "\u001b[0;31mNameError\u001b[0m                                 Traceback (most recent call last)",
      "\u001b[0;32m<ipython-input-287-d17400be221f>\u001b[0m in \u001b[0;36m<module>\u001b[0;34m()\u001b[0m\n\u001b[0;32m----> 1\u001b[0;31m ax = (outlier_data.groupby('Borough').mean()\n\u001b[0m\u001b[1;32m      2\u001b[0m       ['Duration'].sort_values().plot(kind='bar', color='b'))\n\u001b[1;32m      3\u001b[0m \u001b[0;34m\u001b[0m\u001b[0m\n\u001b[1;32m      4\u001b[0m \u001b[0max\u001b[0m\u001b[0;34m.\u001b[0m\u001b[0mset_ylabel\u001b[0m\u001b[0;34m(\u001b[0m\u001b[0;34m'Duration (days)'\u001b[0m\u001b[0;34m)\u001b[0m\u001b[0;34m\u001b[0m\u001b[0m\n\u001b[1;32m      5\u001b[0m \u001b[0max\u001b[0m\u001b[0;34m.\u001b[0m\u001b[0mset_xlabel\u001b[0m\u001b[0;34m(\u001b[0m\u001b[0;34m''\u001b[0m\u001b[0;34m)\u001b[0m\u001b[0;34m\u001b[0m\u001b[0m\n",
      "\u001b[0;31mNameError\u001b[0m: name 'outlier_data' is not defined"
     ]
    }
   ],
   "source": [
    "ax = (outlier_data.groupby('Borough').mean()\n",
    "      ['Duration'].sort_values().plot(kind='bar', color='b'))\n",
    "\n",
    "ax.set_ylabel('Duration (days)')\n",
    "ax.set_xlabel('')"
   ]
  },
  {
   "cell_type": "code",
   "execution_count": null,
   "metadata": {},
   "outputs": [],
   "source": [
    "data.head(2)"
   ]
  },
  {
   "cell_type": "code",
   "execution_count": null,
   "metadata": {},
   "outputs": [],
   "source": [
    "by_boro_data = (data.groupby(\n",
    "    ['Borough','Pre- Filing Date'])['Duration']).agg(['median', 'max', 'min'])"
   ]
  },
  {
   "cell_type": "code",
   "execution_count": null,
   "metadata": {},
   "outputs": [],
   "source": [
    "by_boro_data.groupby('Borough').mean().plot(kind='bar')\n",
    "# by_boro_data.loc['QUEENS']['Duration'].plot(kind='hist', bins=50, color='yellow',alpha=0.5)\n",
    "# by_boro_data.loc['MANHATTAN']['Duration'].plot(kind='hist', bins=50, color='red',alpha=0.5)\n",
    "# plt.subplots\n",
    "# plt.xlim(0,800)\n"
   ]
  },
  {
   "cell_type": "code",
   "execution_count": null,
   "metadata": {},
   "outputs": [],
   "source": []
  }
 ],
 "metadata": {
  "kernelspec": {
   "display_name": "Python 3",
   "language": "python",
   "name": "python3"
  },
  "language_info": {
   "codemirror_mode": {
    "name": "ipython",
    "version": 3
   },
   "file_extension": ".py",
   "mimetype": "text/x-python",
   "name": "python",
   "nbconvert_exporter": "python",
   "pygments_lexer": "ipython3",
   "version": "3.7.0"
  }
 },
 "nbformat": 4,
 "nbformat_minor": 2
}
