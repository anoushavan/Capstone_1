{
 "cells": [
  {
   "cell_type": "code",
   "execution_count": 2,
   "metadata": {},
   "outputs": [
    {
     "name": "stderr",
     "output_type": "stream",
     "text": [
      "/Users/anushavan/.local/lib/python3.7/site-packages/statsmodels/compat/pandas.py:23: FutureWarning: The Panel class is removed from pandas. Accessing it from the top-level namespace will also be removed in the next version\n",
      "  data_klasses = (pandas.Series, pandas.DataFrame, pandas.Panel)\n"
     ]
    }
   ],
   "source": [
    "import pandas as pd\n",
    "import numpy as np\n",
    "import matplotlib as mpl\n",
    "from matplotlib import pyplot as plt\n",
    "import seaborn as sns\n",
    "import statsmodels.api as sm\n",
    "import scipy.stats as stats\n",
    "from scipy.stats import mannwhitneyu"
   ]
  },
  {
   "cell_type": "code",
   "execution_count": 3,
   "metadata": {},
   "outputs": [],
   "source": [
    "plt.style.use('ggplot')"
   ]
  },
  {
   "cell_type": "code",
   "execution_count": 4,
   "metadata": {},
   "outputs": [],
   "source": [
    "%matplotlib inline"
   ]
  },
  {
   "cell_type": "code",
   "execution_count": 5,
   "metadata": {},
   "outputs": [],
   "source": [
    "data = pd.read_csv('data/cleaned_data.csv', \n",
    "                   parse_dates=['Fully Paid','Approved']).drop(['Unnamed: 0'],axis=1)"
   ]
  },
  {
   "cell_type": "code",
   "execution_count": 6,
   "metadata": {},
   "outputs": [
    {
     "data": {
      "text/plain": [
       "Index(['Borough', 'Building Type', 'Efiling Filed',\n",
       "       'Applicant Professional Title', 'Professional Cert', 'Fully Paid',\n",
       "       'Approved', 'Total Est. Fee', 'Proposed Zoning Sqft',\n",
       "       'Proposed No. Of Stories', 'Proposed Height', 'Proposed Dwelling Units',\n",
       "       'Proposed Occupancy', 'Zoning Dist1', 'Zoning Dist2', 'Zoning Dist3',\n",
       "       'Special District 1', 'Special District 2', 'Non-Profit',\n",
       "       'Total_Construction_Floor_Area', 'Signoff_Date', 'Duration', 'Z_score'],\n",
       "      dtype='object')"
      ]
     },
     "execution_count": 6,
     "metadata": {},
     "output_type": "execute_result"
    }
   ],
   "source": [
    "data.columns"
   ]
  },
  {
   "cell_type": "code",
   "execution_count": 7,
   "metadata": {},
   "outputs": [
    {
     "name": "stdout",
     "output_type": "stream",
     "text": [
      "<class 'pandas.core.frame.DataFrame'>\n",
      "RangeIndex: 59076 entries, 0 to 59075\n",
      "Data columns (total 23 columns):\n",
      "Borough                          59076 non-null object\n",
      "Building Type                    59076 non-null object\n",
      "Efiling Filed                    59076 non-null object\n",
      "Applicant Professional Title     59076 non-null object\n",
      "Professional Cert                59076 non-null object\n",
      "Fully Paid                       59076 non-null datetime64[ns]\n",
      "Approved                         59076 non-null datetime64[ns]\n",
      "Total Est. Fee                   59076 non-null float64\n",
      "Proposed Zoning Sqft             59076 non-null int64\n",
      "Proposed No. Of Stories          59076 non-null int64\n",
      "Proposed Height                  59076 non-null int64\n",
      "Proposed Dwelling Units          50387 non-null float64\n",
      "Proposed Occupancy               58902 non-null object\n",
      "Zoning Dist1                     58903 non-null object\n",
      "Zoning Dist2                     4720 non-null object\n",
      "Zoning Dist3                     202 non-null object\n",
      "Special District 1               5518 non-null object\n",
      "Special District 2               600 non-null object\n",
      "Non-Profit                       58903 non-null object\n",
      "Total_Construction_Floor_Area    59076 non-null int64\n",
      "Signoff_Date                     43992 non-null object\n",
      "Duration                         59076 non-null float64\n",
      "Z_score                          59076 non-null float64\n",
      "dtypes: datetime64[ns](2), float64(4), int64(4), object(13)\n",
      "memory usage: 10.4+ MB\n"
     ]
    }
   ],
   "source": [
    "data.info()"
   ]
  },
  {
   "cell_type": "code",
   "execution_count": 8,
   "metadata": {},
   "outputs": [],
   "source": [
    "sorted_data = data.sort_values(by='Fully Paid')"
   ]
  },
  {
   "cell_type": "code",
   "execution_count": 9,
   "metadata": {},
   "outputs": [],
   "source": [
    "approved_annual = data.groupby(data['Fully Paid'].dt.year).count()"
   ]
  },
  {
   "cell_type": "code",
   "execution_count": 10,
   "metadata": {
    "scrolled": true
   },
   "outputs": [
    {
     "data": {
      "image/png": "[encoded data removed]",
      "text/plain": [
       "<Figure size 432x288 with 1 Axes>"
      ]
     },
     "metadata": {
      "needs_background": "light"
     },
     "output_type": "display_data"
    }
   ],
   "source": [
    "approved_annual.Approved.plot(kind='bar', color='steelblue', edgecolor='k');\n"
   ]
  },
  {
   "cell_type": "markdown",
   "metadata": {},
   "source": [
    "##### Past vs present data\n",
    "\n",
    "* We need to find out if the past data is still relevant for today to make the predictions. \n",
    "* create a subset of the first five years and the last five years and conduct a statistical analysis to check if these data is similar. \n",
    "    * H0: the first five year's of data has the same mean as the last five years\n",
    "    * H1: the first five year's of data has a different mean form the last five years.\n",
    "* Test the null hypothesis by conducting a t-test:\n",
    "    * We need to check if the data is normally distributed before we can run the t-test. \n",
    "    * if the data is not normal, then we can run a Mann Whitney U test to check if the distributions are similar. "
   ]
  },
  {
   "cell_type": "code",
   "execution_count": 11,
   "metadata": {},
   "outputs": [],
   "source": [
    "first_five = sorted_data[sorted_data['Fully Paid'] < '2006-01-01']"
   ]
  },
  {
   "cell_type": "code",
   "execution_count": 12,
   "metadata": {},
   "outputs": [],
   "source": [
    "last_five = sorted_data[sorted_data['Fully Paid'] >= '2015-05-15']"
   ]
  },
  {
   "cell_type": "code",
   "execution_count": 13,
   "metadata": {},
   "outputs": [],
   "source": [
    "first_last = [first_five['Duration'],last_five['Duration']]"
   ]
  },
  {
   "cell_type": "code",
   "execution_count": 14,
   "metadata": {
    "scrolled": true
   },
   "outputs": [
    {
     "data": {
      "text/html": [
       "<div>\n",
       "<style scoped>\n",
       "    .dataframe tbody tr th:only-of-type {\n",
       "        vertical-align: middle;\n",
       "    }\n",
       "\n",
       "    .dataframe tbody tr th {\n",
       "        vertical-align: top;\n",
       "    }\n",
       "\n",
       "    .dataframe thead th {\n",
       "        text-align: right;\n",
       "    }\n",
       "</style>\n",
       "<table border=\"1\" class=\"dataframe\">\n",
       "  <thead>\n",
       "    <tr style=\"text-align: right;\">\n",
       "      <th></th>\n",
       "      <th>First_five</th>\n",
       "      <th>Last_five</th>\n",
       "    </tr>\n",
       "  </thead>\n",
       "  <tbody>\n",
       "    <tr>\n",
       "      <td>count</td>\n",
       "      <td>26090.0</td>\n",
       "      <td>7573.0</td>\n",
       "    </tr>\n",
       "    <tr>\n",
       "      <td>mean</td>\n",
       "      <td>138.0</td>\n",
       "      <td>198.0</td>\n",
       "    </tr>\n",
       "    <tr>\n",
       "      <td>std</td>\n",
       "      <td>263.0</td>\n",
       "      <td>184.0</td>\n",
       "    </tr>\n",
       "    <tr>\n",
       "      <td>50%</td>\n",
       "      <td>48.0</td>\n",
       "      <td>147.0</td>\n",
       "    </tr>\n",
       "    <tr>\n",
       "      <td>max</td>\n",
       "      <td>4959.0</td>\n",
       "      <td>1392.0</td>\n",
       "    </tr>\n",
       "  </tbody>\n",
       "</table>\n",
       "</div>"
      ],
      "text/plain": [
       "       First_five  Last_five\n",
       "count     26090.0     7573.0\n",
       "mean        138.0      198.0\n",
       "std         263.0      184.0\n",
       "50%          48.0      147.0\n",
       "max        4959.0     1392.0"
      ]
     },
     "execution_count": 14,
     "metadata": {},
     "output_type": "execute_result"
    },
    {
     "data": {
      "image/png": "[encoded data removed]",
      "text/plain": [
       "<Figure size 648x288 with 2 Axes>"
      ]
     },
     "metadata": {
      "needs_background": "light"
     },
     "output_type": "display_data"
    }
   ],
   "source": [
    "# Check if the first_five and last_five distributions are normal\n",
    "fig,[ax1,ax2] = plt.subplots(1,2, figsize=(9,4))\n",
    "ax1.boxplot(first_last);\n",
    "ax1.set_ylabel('Days')\n",
    "ax1.set_yscale('log')\n",
    "ax1.set_xticklabels(['First 5 years','Last 5 years']);\n",
    "\n",
    "# histogram of the 2 distributions\n",
    "plt.hist(first_five['Duration'],bins=150, label='First five years',color='steelblue');\n",
    "plt.hist(last_five['Duration'],bins=30, label='Last five years',color='orange', alpha=0.7);\n",
    "plt.ylabel('Distribution')\n",
    "plt.xlabel('Days')\n",
    "plt.xlim(0,1500)\n",
    "plt.legend();\n",
    "plt.tight_layout()\n",
    "pd.concat([first_five.Duration.describe(),last_five.Duration.describe()],\n",
    "          axis=1, keys=['First_five','Last_five']).loc[['count',\n",
    "                                                        'mean','std','50%','max']].round()\n",
    "\n",
    "# fig.savefig('first_last_five.png')"
   ]
  },
  {
   "cell_type": "markdown",
   "metadata": {},
   "source": [
    "#### Discussion\n",
    "* The above histogram shows that the first five year and the last five year have distinctly different distributions. The mean, std, median and extreme values are all different. \n",
    "* From the boxplot distributions and the histograms we can conclude that the data is NOT normally distributed. Therefore, we will try Mann–Whitney U test to check if the distributions are comparable (equal). "
   ]
  },
  {
   "cell_type": "code",
   "execution_count": 15,
   "metadata": {
    "scrolled": true
   },
   "outputs": [
    {
     "data": {
      "text/plain": [
       "MannwhitneyuResult(statistic=57250003.0, pvalue=0.0)"
      ]
     },
     "execution_count": 15,
     "metadata": {},
     "output_type": "execute_result"
    }
   ],
   "source": [
    "# conduct the Mann-Whitney U test\n",
    "x = first_five['Duration']\n",
    "y = last_five['Duration'] \n",
    "\n",
    "mannwhitneyu(x, y, use_continuity=True, alternative='two-sided')"
   ]
  },
  {
   "cell_type": "markdown",
   "metadata": {},
   "source": [
    "#### Discussion\n",
    "* The p-value is 0, meaning that we can reject the null hypothesis that the 2 groups are similarly distributed. In other words, with very high level of confidence we can state that the 2 groups are NOT similarly distributed. \n",
    "* This implies that we might need to use only the last 5 years of data for the predictive analysis. "
   ]
  },
  {
   "cell_type": "markdown",
   "metadata": {},
   "source": [
    "#### Examine correlations between the dependend variable (duration) and independent variables\n",
    "* Since the target variable is continuous (duration), we will use regression analysis.\n",
    "* For some of the independent variables that are categorical, we can create dummy variables. "
   ]
  },
  {
   "cell_type": "code",
   "execution_count": 55,
   "metadata": {
    "scrolled": true
   },
   "outputs": [
    {
     "data": {
      "image/png": "[encoded data removed]",
      "text/plain": [
       "<Figure size 576x360 with 2 Axes>"
      ]
     },
     "metadata": {},
     "output_type": "display_data"
    }
   ],
   "source": [
    "corr = data.drop(columns=['Z_score']).corr()\n",
    "plt.style.use('seaborn-white')\n",
    "fig, ax = plt.subplots(figsize=(8,5))\n",
    "sns.heatmap(corr, cmap=\"RdBu_r\", annot=True, fmt='.2f', \n",
    "            linewidths=.05, square=True, ax=ax)\n",
    "ax.set_title('Correlation heatmap of variables n\\\n",
    "affecting the issuance of building permit', fontsize=11);\n",
    "\n",
    "b, t = plt.ylim() # discover the values for bottom and top\n",
    "b += 0.5 # Add 0.5 to the bottom\n",
    "t -= 0.5 # Subtract 0.5 from the top\n",
    "plt.ylim(b, t); # update the ylim(bottom, top) values"
   ]
  },
  {
   "cell_type": "code",
   "execution_count": 25,
   "metadata": {},
   "outputs": [],
   "source": [
    "recent_df = data[data['Fully Paid'] > '2014-05-15']"
   ]
  },
  {
   "cell_type": "code",
   "execution_count": 18,
   "metadata": {
    "scrolled": true
   },
   "outputs": [
    {
     "name": "stdout",
     "output_type": "stream",
     "text": [
      "                            OLS Regression Results                            \n",
      "==============================================================================\n",
      "Dep. Variable:               Duration   R-squared:                       0.049\n",
      "Model:                            OLS   Adj. R-squared:                  0.048\n",
      "Method:                 Least Squares   F-statistic:                     262.0\n",
      "Date:                Fri, 25 Oct 2019   Prob (F-statistic):          1.04e-111\n",
      "Time:                        15:36:31   Log-Likelihood:                -68663.\n",
      "No. Observations:               10248   AIC:                         1.373e+05\n",
      "Df Residuals:                   10245   BIC:                         1.374e+05\n",
      "Df Model:                           2                                         \n",
      "Covariance Type:            nonrobust                                         \n",
      "==================================================================================\n",
      "                     coef    std err          t      P>|t|      [0.025      0.975]\n",
      "----------------------------------------------------------------------------------\n",
      "const            175.5010      2.478     70.835      0.000     170.644     180.358\n",
      "Zoning Sqft     -2.54e-05   1.23e-05     -2.063      0.039   -4.95e-05   -1.27e-06\n",
      "No. Of Stories     9.1499      0.416     21.994      0.000       8.334       9.965\n",
      "==============================================================================\n",
      "Omnibus:                     5104.039   Durbin-Watson:                   1.599\n",
      "Prob(Omnibus):                  0.000   Jarque-Bera (JB):            35528.052\n",
      "Skew:                           2.314   Prob(JB):                         0.00\n",
      "Kurtosis:                      10.861   Cond. No.                     2.20e+05\n",
      "==============================================================================\n",
      "\n",
      "Warnings:\n",
      "[1] Standard Errors assume that the covariance matrix of the errors is correctly specified.\n",
      "[2] The condition number is large, 2.2e+05. This might indicate that there are\n",
      "strong multicollinearity or other numerical problems.\n"
     ]
    },
    {
     "name": "stderr",
     "output_type": "stream",
     "text": [
      "/Users/anushavan/opt/anaconda3/lib/python3.7/site-packages/numpy/core/fromnumeric.py:2495: FutureWarning: Method .ptp is deprecated and will be removed in a future version. Use numpy.ptp instead.\n",
      "  return ptp(axis=axis, out=out, **kwargs)\n"
     ]
    }
   ],
   "source": [
    "# OLS regression of duration vs proposed zoning sqft\n",
    "# X is the independent/explanatory variable. Selecting 3 ind. variables from the data. \n",
    "X = recent_df[['Proposed Zoning Sqft','Proposed No. Of Stories']]\n",
    "X.columns=['Zoning Sqft','No. Of Stories']\n",
    "Y = recent_df['Duration'] # Y is the dependent variable\n",
    " \n",
    "X = sm.add_constant(X) # adding a constant\n",
    "\n",
    "model = sm.OLS(Y, X, missing='drop').fit()\n",
    "predictions = model.predict(X) \n",
    "\n",
    "print_model = model.summary()\n",
    "print(print_model)"
   ]
  },
  {
   "cell_type": "markdown",
   "metadata": {},
   "source": [
    "#### Discussion\n",
    "\n",
    "* Out of all continuous independent variables, only the Proposed Zoning Sqft and No. Of Stories have statistically significant explanatory value. \n",
    "* However, the zoning square feet effect is very small, almost negligable. \n",
    "* The number of stories however has a significant impact on the duration. The duration will increase on average by 9 days for every additional floor added to the project. \n",
    "\n",
    "* **Intercept**: If the proposed zoning feet, number or stories and the total construction floor * area are 0, the duration will be 175.7 days. "
   ]
  },
  {
   "cell_type": "code",
   "execution_count": 19,
   "metadata": {
    "scrolled": true
   },
   "outputs": [
    {
     "data": {
      "text/html": [
       "<div>\n",
       "<style scoped>\n",
       "    .dataframe tbody tr th:only-of-type {\n",
       "        vertical-align: middle;\n",
       "    }\n",
       "\n",
       "    .dataframe tbody tr th {\n",
       "        vertical-align: top;\n",
       "    }\n",
       "\n",
       "    .dataframe thead th {\n",
       "        text-align: right;\n",
       "    }\n",
       "</style>\n",
       "<table border=\"1\" class=\"dataframe\">\n",
       "  <thead>\n",
       "    <tr style=\"text-align: right;\">\n",
       "      <th></th>\n",
       "      <th>Borough_BROOKLYN</th>\n",
       "      <th>Borough_MANHATTAN</th>\n",
       "      <th>Borough_QUEENS</th>\n",
       "      <th>Borough_STATEN ISLAND</th>\n",
       "      <th>Building Type</th>\n",
       "      <th>Efiled</th>\n",
       "      <th>Pro Title</th>\n",
       "      <th>Pro Certified</th>\n",
       "      <th>intercept</th>\n",
       "      <th>Duration</th>\n",
       "    </tr>\n",
       "  </thead>\n",
       "  <tbody>\n",
       "    <tr>\n",
       "      <td>0</td>\n",
       "      <td>0</td>\n",
       "      <td>0</td>\n",
       "      <td>1</td>\n",
       "      <td>0</td>\n",
       "      <td>0</td>\n",
       "      <td>1</td>\n",
       "      <td>1</td>\n",
       "      <td>0</td>\n",
       "      <td>1</td>\n",
       "      <td>158.0</td>\n",
       "    </tr>\n",
       "    <tr>\n",
       "      <td>3</td>\n",
       "      <td>0</td>\n",
       "      <td>0</td>\n",
       "      <td>1</td>\n",
       "      <td>0</td>\n",
       "      <td>0</td>\n",
       "      <td>1</td>\n",
       "      <td>1</td>\n",
       "      <td>1</td>\n",
       "      <td>1</td>\n",
       "      <td>87.0</td>\n",
       "    </tr>\n",
       "    <tr>\n",
       "      <td>4</td>\n",
       "      <td>1</td>\n",
       "      <td>0</td>\n",
       "      <td>0</td>\n",
       "      <td>0</td>\n",
       "      <td>1</td>\n",
       "      <td>1</td>\n",
       "      <td>1</td>\n",
       "      <td>0</td>\n",
       "      <td>1</td>\n",
       "      <td>193.0</td>\n",
       "    </tr>\n",
       "    <tr>\n",
       "      <td>5</td>\n",
       "      <td>0</td>\n",
       "      <td>0</td>\n",
       "      <td>0</td>\n",
       "      <td>1</td>\n",
       "      <td>0</td>\n",
       "      <td>1</td>\n",
       "      <td>1</td>\n",
       "      <td>0</td>\n",
       "      <td>1</td>\n",
       "      <td>234.0</td>\n",
       "    </tr>\n",
       "    <tr>\n",
       "      <td>6</td>\n",
       "      <td>1</td>\n",
       "      <td>0</td>\n",
       "      <td>0</td>\n",
       "      <td>0</td>\n",
       "      <td>1</td>\n",
       "      <td>1</td>\n",
       "      <td>1</td>\n",
       "      <td>0</td>\n",
       "      <td>1</td>\n",
       "      <td>89.0</td>\n",
       "    </tr>\n",
       "  </tbody>\n",
       "</table>\n",
       "</div>"
      ],
      "text/plain": [
       "   Borough_BROOKLYN  Borough_MANHATTAN  Borough_QUEENS  Borough_STATEN ISLAND  \\\n",
       "0                 0                  0               1                      0   \n",
       "3                 0                  0               1                      0   \n",
       "4                 1                  0               0                      0   \n",
       "5                 0                  0               0                      1   \n",
       "6                 1                  0               0                      0   \n",
       "\n",
       "   Building Type  Efiled  Pro Title  Pro Certified  intercept  Duration  \n",
       "0              0       1          1              0          1     158.0  \n",
       "3              0       1          1              1          1      87.0  \n",
       "4              1       1          1              0          1     193.0  \n",
       "5              0       1          1              0          1     234.0  \n",
       "6              1       1          1              0          1      89.0  "
      ]
     },
     "execution_count": 19,
     "metadata": {},
     "output_type": "execute_result"
    }
   ],
   "source": [
    "df_cat = pd.get_dummies(recent_df[['Borough', 'Building Type', 'Efiling Filed',\n",
    "        'Applicant Professional Title', 'Professional Cert']], drop_first = True)\n",
    "df_cat['intercept'] = 1\n",
    "df_cat['Duration'] = recent_df['Duration']\n",
    "df_cat = df_cat.rename(columns={'Building Type_OTHERS':'Building Type',\n",
    "                                'Efiling Filed_Y':'Efiled',\n",
    "                               'Applicant Professional Title_RA':'Pro Title',\n",
    "                               'Professional Cert_Y':'Pro Certified'})\n",
    "df_cat.head()"
   ]
  },
  {
   "cell_type": "code",
   "execution_count": 20,
   "metadata": {},
   "outputs": [
    {
     "name": "stdout",
     "output_type": "stream",
     "text": [
      "                            OLS Regression Results                            \n",
      "==============================================================================\n",
      "Dep. Variable:               Duration   R-squared:                       0.162\n",
      "Model:                            OLS   Adj. R-squared:                  0.162\n",
      "Method:                 Least Squares   F-statistic:                     248.3\n",
      "Date:                Fri, 25 Oct 2019   Prob (F-statistic):               0.00\n",
      "Time:                        15:36:31   Log-Likelihood:                -68010.\n",
      "No. Observations:               10248   AIC:                         1.360e+05\n",
      "Df Residuals:                   10239   BIC:                         1.361e+05\n",
      "Df Model:                           8                                         \n",
      "Covariance Type:            nonrobust                                         \n",
      "=========================================================================================\n",
      "                            coef    std err          t      P>|t|      [0.025      0.975]\n",
      "-----------------------------------------------------------------------------------------\n",
      "intercept               275.5547     53.946      5.108      0.000     169.811     381.298\n",
      "Building Type            67.2264      4.335     15.507      0.000      58.728      75.725\n",
      "Efiled                  -43.2769     53.382     -0.811      0.418    -147.916      61.363\n",
      "Pro Title                16.5840      4.188      3.960      0.000       8.375      24.793\n",
      "Pro Certified           -91.1211      5.308    -17.165      0.000    -101.527     -80.716\n",
      "Borough_BROOKLYN        -28.5821      7.291     -3.920      0.000     -42.873     -14.291\n",
      "Borough_MANHATTAN        68.4843     10.908      6.278      0.000      47.103      89.866\n",
      "Borough_QUEENS          -49.1343      7.367     -6.669      0.000     -63.576     -34.693\n",
      "Borough_STATEN ISLAND   -75.4099      8.299     -9.086      0.000     -91.678     -59.142\n",
      "==============================================================================\n",
      "Omnibus:                     5727.135   Durbin-Watson:                   1.655\n",
      "Prob(Omnibus):                  0.000   Jarque-Bera (JB):            50576.758\n",
      "Skew:                           2.578   Prob(JB):                         0.00\n",
      "Kurtosis:                      12.584   Cond. No.                         72.9\n",
      "==============================================================================\n",
      "\n",
      "Warnings:\n",
      "[1] Standard Errors assume that the covariance matrix of the errors is correctly specified.\n"
     ]
    }
   ],
   "source": [
    "mod = sm.OLS(df_cat['Duration'],df_cat[['intercept','Building Type',\n",
    "                                'Efiled','Pro Title','Pro Certified',\n",
    "                                'Borough_BROOKLYN','Borough_MANHATTAN',\n",
    "                                'Borough_QUEENS','Borough_STATEN ISLAND']])\n",
    "results = mod.fit()\n",
    "print(results.summary())"
   ]
  },
  {
   "cell_type": "markdown",
   "metadata": {},
   "source": [
    "#### Discussion\n",
    "* All categorical variables in the model are statistically significnt (p < 0.05) except for the E-filing category. \n",
    "* Dummies\n",
    "    * 'Professional Cert’: No - 0, Yes - 1\n",
    "    * 'Building Type’: 1-2-3 Family - 0, Other - 1\n",
    "    * 'Efiling Filed’: No - 0, Yes - 1\n",
    "    * 'Applicant Professional Title’: RE - 0, RA - 1\n",
    "* Base case (Intercept): \n",
    "    * if the ebuilding:\n",
    "        * is in the Bronx, \n",
    "        * doesn't have professional certification, \n",
    "        * building type is \"Other\", \n",
    "        * application wasn't filed electronically,\n",
    "        * application was submitted by a register engineer\n",
    "    * then the average duration is around 275 days.\n",
    "* If the application is professionally certified, the duration will be on average 91 days shorter\n",
    "* If the building is a \"Other\" category building, the duration will be 67 days longer,\n",
    "* If the application was submitted by a registered architect, the duration will be 16.5 days longer. \n",
    "* If the building is in Brooklyn, the duration will be 28.5 days shorter\n",
    "* If the building is in Queens, the duration will be 49 days shorter\n",
    "* If the building is in Manhattan, the duration will be 68.5 days longer\n",
    "* If the building is in Staten Island, the duration will be 75.4 days shorter. "
   ]
  }
 ],
 "metadata": {
  "kernelspec": {
   "display_name": "Python 3",
   "language": "python",
   "name": "python3"
  },
  "language_info": {
   "codemirror_mode": {
    "name": "ipython",
    "version": 3
   },
   "file_extension": ".py",
   "mimetype": "text/x-python",
   "name": "python",
   "nbconvert_exporter": "python",
   "pygments_lexer": "ipython3",
   "version": "3.7.4"
  }
 },
 "nbformat": 4,
 "nbformat_minor": 2
}
