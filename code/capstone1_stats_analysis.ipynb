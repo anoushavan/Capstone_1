{
 "cells": [
  {
   "cell_type": "code",
   "execution_count": 294,
   "metadata": {},
   "outputs": [],
   "source": [
    "import pandas as pd\n",
    "import numpy as np\n",
    "import matplotlib as mpl\n",
    "from matplotlib import pyplot as plt\n",
    "import seaborn as sns\n",
    "import statsmodels.api as sm\n",
    "import scipy.stats as stats\n",
    "from scipy.stats import mannwhitneyu"
   ]
  },
  {
   "cell_type": "code",
   "execution_count": 295,
   "metadata": {},
   "outputs": [],
   "source": [
    "data = pd.read_csv('data/cleaned_data.csv', \n",
    "                   parse_dates=['Fully Paid','Approved']).drop(['Unnamed: 0'],axis=1)"
   ]
  },
  {
   "cell_type": "code",
   "execution_count": 318,
   "metadata": {},
   "outputs": [
    {
     "data": {
      "text/plain": [
       "Index(['Borough', 'Building Type', 'Efiling Filed',\n",
       "       'Applicant Professional Title', 'Professional Cert', 'Fully Paid',\n",
       "       'Approved', 'Total Est. Fee', 'Proposed Zoning Sqft',\n",
       "       'Proposed No. Of Stories', 'Proposed Height', 'Proposed Dwelling Units',\n",
       "       'Proposed Occupancy', 'Zoning Dist1', 'Zoning Dist2', 'Zoning Dist3',\n",
       "       'Special District 1', 'Special District 2', 'Non-Profit',\n",
       "       'Total_Construction_Floor_Area', 'Signoff_Date', 'Duration', 'Z_score'],\n",
       "      dtype='object')"
      ]
     },
     "execution_count": 318,
     "metadata": {},
     "output_type": "execute_result"
    }
   ],
   "source": [
    "data.columns"
   ]
  },
  {
   "cell_type": "code",
   "execution_count": 296,
   "metadata": {},
   "outputs": [
    {
     "name": "stdout",
     "output_type": "stream",
     "text": [
      "<class 'pandas.core.frame.DataFrame'>\n",
      "RangeIndex: 59076 entries, 0 to 59075\n",
      "Data columns (total 23 columns):\n",
      "Borough                          59076 non-null object\n",
      "Building Type                    59076 non-null object\n",
      "Efiling Filed                    59076 non-null object\n",
      "Applicant Professional Title     59076 non-null object\n",
      "Professional Cert                59076 non-null object\n",
      "Fully Paid                       59076 non-null datetime64[ns]\n",
      "Approved                         59076 non-null datetime64[ns]\n",
      "Total Est. Fee                   59076 non-null float64\n",
      "Proposed Zoning Sqft             59076 non-null int64\n",
      "Proposed No. Of Stories          59076 non-null int64\n",
      "Proposed Height                  59076 non-null int64\n",
      "Proposed Dwelling Units          50387 non-null float64\n",
      "Proposed Occupancy               58902 non-null object\n",
      "Zoning Dist1                     58903 non-null object\n",
      "Zoning Dist2                     4720 non-null object\n",
      "Zoning Dist3                     202 non-null object\n",
      "Special District 1               5518 non-null object\n",
      "Special District 2               600 non-null object\n",
      "Non-Profit                       58903 non-null object\n",
      "Total_Construction_Floor_Area    59076 non-null int64\n",
      "Signoff_Date                     43992 non-null object\n",
      "Duration                         59076 non-null float64\n",
      "Z_score                          59076 non-null float64\n",
      "dtypes: datetime64[ns](2), float64(4), int64(4), object(13)\n",
      "memory usage: 10.4+ MB\n"
     ]
    }
   ],
   "source": [
    "data.info()"
   ]
  },
  {
   "cell_type": "code",
   "execution_count": 297,
   "metadata": {},
   "outputs": [],
   "source": [
    "sorted_data = data.sort_values(by='Fully Paid')"
   ]
  },
  {
   "cell_type": "code",
   "execution_count": 298,
   "metadata": {},
   "outputs": [],
   "source": [
    "approved_annual = data.groupby(data['Fully Paid'].dt.year).count()"
   ]
  },
  {
   "cell_type": "code",
   "execution_count": 299,
   "metadata": {
    "scrolled": true
   },
   "outputs": [
    {
     "data": {
      "image/png": "[encoded data removed]",
      "text/plain": [
       "<Figure size 432x288 with 1 Axes>"
      ]
     },
     "metadata": {},
     "output_type": "display_data"
    }
   ],
   "source": [
    "approved_annual.Approved.plot(kind='bar', color='steelblue', edgecolor='k');"
   ]
  },
  {
   "cell_type": "markdown",
   "metadata": {},
   "source": [
    "##### Past vs present data\n",
    "\n",
    "* We need to find out if the past data is still relevant for today to make the predictions. \n",
    "* create a subset of the first five years and the last five years and conduct a statistical analysis to check if these data is similar. \n",
    "    * H0: the first five year's of data has the same mean as the last five years\n",
    "    * H1: the first five year's of data has a different mean form the last five years.\n",
    "* Test the null hypothesis by conducting a t-test:\n",
    "    * We need to check if the data is normally distributed before we can run the t-test. \n",
    "    * if the data is not normal, then we can run a Mann Whitney U test to check if the distributions are similar. "
   ]
  },
  {
   "cell_type": "code",
   "execution_count": 300,
   "metadata": {},
   "outputs": [],
   "source": [
    "first_five = sorted_data[sorted_data['Fully Paid'] < '2006-01-01']"
   ]
  },
  {
   "cell_type": "code",
   "execution_count": 301,
   "metadata": {},
   "outputs": [],
   "source": [
    "last_five = sorted_data[sorted_data['Fully Paid'] >= '2015-05-15']"
   ]
  },
  {
   "cell_type": "code",
   "execution_count": 302,
   "metadata": {},
   "outputs": [],
   "source": [
    "first_last = [first_five['Duration'],last_five['Duration']]"
   ]
  },
  {
   "cell_type": "code",
   "execution_count": 316,
   "metadata": {
    "scrolled": true
   },
   "outputs": [
    {
     "data": {
      "image/png": "[encoded data removed]",
      "text/plain": [
       "<Figure size 432x288 with 1 Axes>"
      ]
     },
     "metadata": {},
     "output_type": "display_data"
    }
   ],
   "source": [
    "# Check if the first_five and last_five distributions are normal\n",
    "fig,ax = plt.subplots()\n",
    "ax.boxplot(first_last);\n",
    "ax.set_ylabel('Days')\n",
    "ax.set_yscale('log')\n",
    "ax.set_xticklabels(['First 5 years','Last 5 years']);\n",
    "ax.set_title('First 5 years and last 5 years of data');"
   ]
  },
  {
   "cell_type": "code",
   "execution_count": 304,
   "metadata": {},
   "outputs": [
    {
     "data": {
      "text/html": [
       "<div>\n",
       "<style scoped>\n",
       "    .dataframe tbody tr th:only-of-type {\n",
       "        vertical-align: middle;\n",
       "    }\n",
       "\n",
       "    .dataframe tbody tr th {\n",
       "        vertical-align: top;\n",
       "    }\n",
       "\n",
       "    .dataframe thead th {\n",
       "        text-align: right;\n",
       "    }\n",
       "</style>\n",
       "<table border=\"1\" class=\"dataframe\">\n",
       "  <thead>\n",
       "    <tr style=\"text-align: right;\">\n",
       "      <th></th>\n",
       "      <th>First_five</th>\n",
       "      <th>Last_five</th>\n",
       "    </tr>\n",
       "  </thead>\n",
       "  <tbody>\n",
       "    <tr>\n",
       "      <th>count</th>\n",
       "      <td>26090.0</td>\n",
       "      <td>7573.0</td>\n",
       "    </tr>\n",
       "    <tr>\n",
       "      <th>mean</th>\n",
       "      <td>138.0</td>\n",
       "      <td>198.0</td>\n",
       "    </tr>\n",
       "    <tr>\n",
       "      <th>std</th>\n",
       "      <td>263.0</td>\n",
       "      <td>184.0</td>\n",
       "    </tr>\n",
       "    <tr>\n",
       "      <th>50%</th>\n",
       "      <td>48.0</td>\n",
       "      <td>147.0</td>\n",
       "    </tr>\n",
       "    <tr>\n",
       "      <th>max</th>\n",
       "      <td>4959.0</td>\n",
       "      <td>1392.0</td>\n",
       "    </tr>\n",
       "  </tbody>\n",
       "</table>\n",
       "</div>"
      ],
      "text/plain": [
       "       First_five  Last_five\n",
       "count     26090.0     7573.0\n",
       "mean        138.0      198.0\n",
       "std         263.0      184.0\n",
       "50%          48.0      147.0\n",
       "max        4959.0     1392.0"
      ]
     },
     "execution_count": 304,
     "metadata": {},
     "output_type": "execute_result"
    },
    {
     "data": {
      "image/png": "[encoded data removed]",
      "text/plain": [
       "<Figure size 432x288 with 1 Axes>"
      ]
     },
     "metadata": {},
     "output_type": "display_data"
    }
   ],
   "source": [
    "# histogram of the 2 distributions\n",
    "plt.hist(first_five['Duration'],bins=150, label='First five years',color='steelblue');\n",
    "plt.hist(last_five['Duration'],bins=30, label='Last five years',color='orange', alpha=0.7);\n",
    "plt.ylabel('Distribution')\n",
    "plt.xlabel('Days')\n",
    "plt.xlim(0,1500)\n",
    "plt.legend();\n",
    "\n",
    "pd.concat([first_five.Duration.describe(),last_five.Duration.describe()],\n",
    "          axis=1, keys=['First_five','Last_five']).loc[['count',\n",
    "                                                        'mean','std','50%','max']].round()"
   ]
  },
  {
   "cell_type": "markdown",
   "metadata": {},
   "source": [
    "#### Discussion\n",
    "* The above histogram shows that the first five year and the last five year have distinctly different distributions. The mean, std, median and extreme values are all different. \n",
    "* From the boxplot distributions and the histograms we can conclude that the data is NOT normally distributed. Therefore, we will try Mann–Whitney U test to check if the distributions are comparable (equal). "
   ]
  },
  {
   "cell_type": "code",
   "execution_count": 305,
   "metadata": {
    "scrolled": true
   },
   "outputs": [
    {
     "data": {
      "text/plain": [
       "MannwhitneyuResult(statistic=57250003.0, pvalue=0.0)"
      ]
     },
     "execution_count": 305,
     "metadata": {},
     "output_type": "execute_result"
    }
   ],
   "source": [
    "# conduct the Mann-Whitney U test\n",
    "x = first_five['Duration']\n",
    "y = last_five['Duration'] \n",
    "\n",
    "mannwhitneyu(x, y, use_continuity=True, alternative='two-sided')"
   ]
  },
  {
   "cell_type": "markdown",
   "metadata": {},
   "source": [
    "#### Discussion\n",
    "* The p-value is 0, meaning that we can reject the null hypothesis that the 2 groups are similarly distributed. In other words, with very high level of confidence we can state that the 2 groups are NOT similarly distributed. \n",
    "* This implies that we might need to use only the last 5 years of data for the predictive analysis. "
   ]
  },
  {
   "cell_type": "markdown",
   "metadata": {},
   "source": [
    "#### Examine correlations between the dependend variable (duration) and independent variables\n",
    "* Since the target variable is continuous (duration), we will use OLS regression.\n",
    "* For some of the independent variables that are categorical, we can create dummy variables and use the OLS. "
   ]
  },
  {
   "cell_type": "code",
   "execution_count": 306,
   "metadata": {},
   "outputs": [
    {
     "data": {
      "image/png": "[encoded data removed]",
      "text/plain": [
       "<Figure size 576x432 with 2 Axes>"
      ]
     },
     "metadata": {},
     "output_type": "display_data"
    }
   ],
   "source": [
    "corr = data.drop(columns=['Z_score']).corr()\n",
    "plt.style.use('seaborn-white')\n",
    "fig, ax = plt.subplots(figsize=(8,6))\n",
    "sns.heatmap(round(corr,2), \n",
    "            xticklabels=corr.columns.values,\n",
    "            yticklabels=corr.columns.values,\n",
    "            cmap=\"RdBu_r\", annot=True, fmt='.2f', linewidths=.05, ax=ax)\n",
    "ax.set_title('Correlation heatmap of variables affecting the issuance of building permit')\n",
    "\n",
    "plt.tight_layout()"
   ]
  },
  {
   "cell_type": "code",
   "execution_count": 331,
   "metadata": {
    "scrolled": true
   },
   "outputs": [
    {
     "name": "stdout",
     "output_type": "stream",
     "text": [
      "                            OLS Regression Results                            \n",
      "==============================================================================\n",
      "Dep. Variable:               Duration   R-squared:                       0.027\n",
      "Model:                            OLS   Adj. R-squared:                  0.027\n",
      "Method:                 Least Squares   F-statistic:                     414.6\n",
      "Date:                Mon, 09 Sep 2019   Prob (F-statistic):               0.00\n",
      "Time:                        21:47:45   Log-Likelihood:            -4.1143e+05\n",
      "No. Observations:               59076   AIC:                         8.229e+05\n",
      "Df Residuals:                   59071   BIC:                         8.229e+05\n",
      "Df Model:                           4                                         \n",
      "Covariance Type:            nonrobust                                         \n",
      "====================================================================================\n",
      "                       coef    std err          t      P>|t|      [0.025      0.975]\n",
      "------------------------------------------------------------------------------------\n",
      "const              141.0733      1.394    101.197      0.000     138.341     143.806\n",
      "Zoning Sqft          0.0002   1.02e-05     18.202      0.000       0.000       0.000\n",
      "No. Of Stories       5.2062      0.383     13.604      0.000       4.456       5.956\n",
      "Total_Floor_Area     0.0001   1.87e-05      5.829      0.000    7.22e-05       0.000\n",
      "Height               0.1338      0.026      5.061      0.000       0.082       0.186\n",
      "==============================================================================\n",
      "Omnibus:                    55929.089   Durbin-Watson:                   1.378\n",
      "Prob(Omnibus):                  0.000   Jarque-Bera (JB):          3281736.867\n",
      "Skew:                           4.530   Prob(JB):                         0.00\n",
      "Kurtosis:                      38.371   Cond. No.                     1.53e+05\n",
      "==============================================================================\n",
      "\n",
      "Warnings:\n",
      "[1] Standard Errors assume that the covariance matrix of the errors is correctly specified.\n",
      "[2] The condition number is large, 1.53e+05. This might indicate that there are\n",
      "strong multicollinearity or other numerical problems.\n"
     ]
    }
   ],
   "source": [
    "# OLS regression of duration vs proposed zoning sqft\n",
    "# X is the independent/explanatory variable. Selecting 3 ind. variables from the data. \n",
    "X = data[['Proposed Zoning Sqft','Proposed No. Of Stories',\n",
    "          'Total_Construction_Floor_Area','Proposed Height']]\n",
    "X.columns=['Zoning Sqft','No. Of Stories','Total_Floor_Area','Height']\n",
    "Y = data['Duration'] # Y is the dependent variable\n",
    " \n",
    "X = sm.add_constant(X) # adding a constant\n",
    "\n",
    "model = sm.OLS(Y, X, missing='drop').fit()\n",
    "predictions = model.predict(X) \n",
    "\n",
    "print_model = model.summary()\n",
    "print(print_model)"
   ]
  },
  {
   "attachments": {},
   "cell_type": "markdown",
   "metadata": {},
   "source": [
    "#### Discussion\n",
    "\n",
    "* The linear model is: ***Y  = 141 + 0.0002 * Proposed Zoning Sqft + 5.2 * Proposed No. Of Stories + 0.0001 * Total_Construction_Floor_Area + 0.13 * Proposed Height***\n",
    "* **Intercept**: If the proposed zoning feet, number or stories and the total construction floor * area are 0, the duration will be 142 days. \n",
    "* **X1**: the duration will increase by 2 days for every 10,000 zoning square feet added to the project. \n",
    "* **X2**: the duration will increase by 5.2 days for every additional floor added to the project. \n",
    "* **X3**: the duration will increase by 1 day for every 10,000 total construction floor area added to the project. \n",
    "* **X4** the duration will increase by 0.13 days for every feet of proposed height of the new building."
   ]
  },
  {
   "cell_type": "code",
   "execution_count": 336,
   "metadata": {
    "scrolled": true
   },
   "outputs": [
    {
     "data": {
      "text/html": [
       "<div>\n",
       "<style scoped>\n",
       "    .dataframe tbody tr th:only-of-type {\n",
       "        vertical-align: middle;\n",
       "    }\n",
       "\n",
       "    .dataframe tbody tr th {\n",
       "        vertical-align: top;\n",
       "    }\n",
       "\n",
       "    .dataframe thead th {\n",
       "        text-align: right;\n",
       "    }\n",
       "</style>\n",
       "<table border=\"1\" class=\"dataframe\">\n",
       "  <thead>\n",
       "    <tr style=\"text-align: right;\">\n",
       "      <th></th>\n",
       "      <th>Borough_BROOKLYN</th>\n",
       "      <th>Borough_MANHATTAN</th>\n",
       "      <th>Borough_QUEENS</th>\n",
       "      <th>Borough_STATEN ISLAND</th>\n",
       "      <th>Building Type</th>\n",
       "      <th>Efiled</th>\n",
       "      <th>Pro Title</th>\n",
       "      <th>Pro Certified</th>\n",
       "      <th>intercept</th>\n",
       "      <th>Duration</th>\n",
       "    </tr>\n",
       "  </thead>\n",
       "  <tbody>\n",
       "    <tr>\n",
       "      <th>0</th>\n",
       "      <td>0</td>\n",
       "      <td>0</td>\n",
       "      <td>1</td>\n",
       "      <td>0</td>\n",
       "      <td>0</td>\n",
       "      <td>1</td>\n",
       "      <td>1</td>\n",
       "      <td>0</td>\n",
       "      <td>1</td>\n",
       "      <td>158.0</td>\n",
       "    </tr>\n",
       "    <tr>\n",
       "      <th>1</th>\n",
       "      <td>1</td>\n",
       "      <td>0</td>\n",
       "      <td>0</td>\n",
       "      <td>0</td>\n",
       "      <td>1</td>\n",
       "      <td>1</td>\n",
       "      <td>1</td>\n",
       "      <td>0</td>\n",
       "      <td>1</td>\n",
       "      <td>352.0</td>\n",
       "    </tr>\n",
       "    <tr>\n",
       "      <th>2</th>\n",
       "      <td>0</td>\n",
       "      <td>0</td>\n",
       "      <td>1</td>\n",
       "      <td>0</td>\n",
       "      <td>0</td>\n",
       "      <td>1</td>\n",
       "      <td>1</td>\n",
       "      <td>0</td>\n",
       "      <td>1</td>\n",
       "      <td>814.0</td>\n",
       "    </tr>\n",
       "    <tr>\n",
       "      <th>3</th>\n",
       "      <td>0</td>\n",
       "      <td>0</td>\n",
       "      <td>1</td>\n",
       "      <td>0</td>\n",
       "      <td>0</td>\n",
       "      <td>1</td>\n",
       "      <td>1</td>\n",
       "      <td>1</td>\n",
       "      <td>1</td>\n",
       "      <td>87.0</td>\n",
       "    </tr>\n",
       "    <tr>\n",
       "      <th>4</th>\n",
       "      <td>1</td>\n",
       "      <td>0</td>\n",
       "      <td>0</td>\n",
       "      <td>0</td>\n",
       "      <td>1</td>\n",
       "      <td>1</td>\n",
       "      <td>1</td>\n",
       "      <td>0</td>\n",
       "      <td>1</td>\n",
       "      <td>193.0</td>\n",
       "    </tr>\n",
       "  </tbody>\n",
       "</table>\n",
       "</div>"
      ],
      "text/plain": [
       "   Borough_BROOKLYN  Borough_MANHATTAN  Borough_QUEENS  Borough_STATEN ISLAND  \\\n",
       "0                 0                  0               1                      0   \n",
       "1                 1                  0               0                      0   \n",
       "2                 0                  0               1                      0   \n",
       "3                 0                  0               1                      0   \n",
       "4                 1                  0               0                      0   \n",
       "\n",
       "   Building Type  Efiled  Pro Title  Pro Certified  intercept  Duration  \n",
       "0              0       1          1              0          1     158.0  \n",
       "1              1       1          1              0          1     352.0  \n",
       "2              0       1          1              0          1     814.0  \n",
       "3              0       1          1              1          1      87.0  \n",
       "4              1       1          1              0          1     193.0  "
      ]
     },
     "execution_count": 336,
     "metadata": {},
     "output_type": "execute_result"
    }
   ],
   "source": [
    "df_cat = pd.get_dummies(data[['Borough', 'Building Type', 'Efiling Filed',\n",
    "        'Applicant Professional Title', 'Professional Cert']], drop_first = True)\n",
    "df_cat['intercept'] = 1\n",
    "df_cat['Duration'] = data['Duration']\n",
    "df_cat = df_cat.rename(columns={'Building Type_OTHERS':'Building Type',\n",
    "                                'Efiling Filed_Y':'Efiled',\n",
    "                               'Applicant Professional Title_RA':'Pro Title',\n",
    "                               'Professional Cert_Y':'Pro Certified'})\n",
    "df_cat.head()"
   ]
  },
  {
   "cell_type": "code",
   "execution_count": 332,
   "metadata": {},
   "outputs": [
    {
     "name": "stdout",
     "output_type": "stream",
     "text": [
      "                            OLS Regression Results                            \n",
      "==============================================================================\n",
      "Dep. Variable:               Duration   R-squared:                       0.120\n",
      "Model:                            OLS   Adj. R-squared:                  0.120\n",
      "Method:                 Least Squares   F-statistic:                     1011.\n",
      "Date:                Mon, 09 Sep 2019   Prob (F-statistic):               0.00\n",
      "Time:                        21:51:38   Log-Likelihood:            -4.0846e+05\n",
      "No. Observations:               59076   AIC:                         8.169e+05\n",
      "Df Residuals:                   59067   BIC:                         8.170e+05\n",
      "Df Model:                           8                                         \n",
      "Covariance Type:            nonrobust                                         \n",
      "=========================================================================================\n",
      "                            coef    std err          t      P>|t|      [0.025      0.975]\n",
      "-----------------------------------------------------------------------------------------\n",
      "intercept               175.9824      3.627     48.517      0.000     168.873     183.092\n",
      "Building Type            48.8597      2.466     19.812      0.000      44.026      53.693\n",
      "Efiled                   42.9043      2.205     19.454      0.000      38.582      47.227\n",
      "Pro Title                22.2460      2.318      9.597      0.000      17.703      26.789\n",
      "Pro Certified          -147.0897      2.282    -64.455      0.000    -151.563    -142.617\n",
      "Borough_BROOKLYN         -9.3298      3.411     -2.736      0.006     -16.014      -2.645\n",
      "Borough_MANHATTAN        99.4792      6.086     16.345      0.000      87.550     111.408\n",
      "Borough_QUEENS          -20.2778      3.317     -6.113      0.000     -26.779     -13.777\n",
      "Borough_STATEN ISLAND    20.4611      3.759      5.443      0.000      13.093      27.829\n",
      "==============================================================================\n",
      "Omnibus:                    59056.130   Durbin-Watson:                   1.398\n",
      "Prob(Omnibus):                  0.000   Jarque-Bera (JB):          4178278.888\n",
      "Skew:                           4.892   Prob(JB):                         0.00\n",
      "Kurtosis:                      43.022   Cond. No.                         10.7\n",
      "==============================================================================\n",
      "\n",
      "Warnings:\n",
      "[1] Standard Errors assume that the covariance matrix of the errors is correctly specified.\n"
     ]
    }
   ],
   "source": [
    "mod = sm.OLS(df_cat['Duration'],df_cat[['intercept','Building Type',\n",
    "                                'Efiled','Pro Title','Pro Certified',\n",
    "                                'Borough_BROOKLYN','Borough_MANHATTAN',\n",
    "                                'Borough_QUEENS','Borough_STATEN ISLAND']])\n",
    "results = mod.fit()\n",
    "print(results.summary())"
   ]
  },
  {
   "cell_type": "markdown",
   "metadata": {},
   "source": [
    "#### Discussion\n",
    "* All categorical variables in the model are statistically significnt (p < 0.05). \n",
    "* Dummies\n",
    "    * 'Professional Cert’: No - 0, Yes - 1\n",
    "    * 'Building Type’: 1-2-3 Family - 0, Other - 1\n",
    "    * 'Efiling Filed’: No - 0, Yes - 1\n",
    "    * 'Applicant Professional Title’: RE - 0, RA - 1\n",
    "* Base case (Intercept): \n",
    "    * if the ebuilding:\n",
    "        * is in the Bronx, \n",
    "        * doesn't have professional certification, \n",
    "        * building type is \"Other\", \n",
    "        * application wasn't filed electronically,\n",
    "        * application was submitted by a register engineer\n",
    "    * then the average duration is around 176 days.\n",
    "* If the application is professionally certified, the duration will be on average 147 days shorter\n",
    "* If the building is a 1-2-3 family building, the duration will be 49 days shorter,\n",
    "* If the application is filed electronically, the duration will be 43 days longer,\n",
    "* If the application was submitted by a registered architect, the duration will be 22.2 days shorter. \n",
    "* If the building is in Brooklyn, the duration will be 9.3 days shorter\n",
    "* If the building is in Queens, the duration will be 20.3 days shorter\n",
    "* If the building is in Manhattan, the duration will be 99.5 days longer\n",
    "* If the building is in Staten Island, the duration will be 20.5 days longer. "
   ]
  }
 ],
 "metadata": {
  "kernelspec": {
   "display_name": "Python 3",
   "language": "python",
   "name": "python3"
  },
  "language_info": {
   "codemirror_mode": {
    "name": "ipython",
    "version": 3
   },
   "file_extension": ".py",
   "mimetype": "text/x-python",
   "name": "python",
   "nbconvert_exporter": "python",
   "pygments_lexer": "ipython3",
   "version": "3.7.0"
  }
 },
 "nbformat": 4,
 "nbformat_minor": 2
}
