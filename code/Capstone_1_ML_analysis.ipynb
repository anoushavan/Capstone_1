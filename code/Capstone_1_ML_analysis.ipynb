{
 "cells": [
  {
   "cell_type": "code",
   "execution_count": 37,
   "metadata": {},
   "outputs": [],
   "source": [
    "%matplotlib inline\n",
    "import pandas as pd\n",
    "import numpy as np\n",
    "from scipy import stats\n",
    "from matplotlib import pyplot as plt\n",
    "import seaborn as sns"
   ]
  },
  {
   "cell_type": "code",
   "execution_count": 38,
   "metadata": {},
   "outputs": [],
   "source": [
    "data = pd.read_csv('data/cleaned_data.csv', \n",
    "                   parse_dates=['Fully Paid','Approved']).drop(['Unnamed: 0'],axis=1)"
   ]
  },
  {
   "cell_type": "code",
   "execution_count": 39,
   "metadata": {},
   "outputs": [],
   "source": [
    "# Select only the past 5 years of data to make sure the data is relevant\n",
    "data = data[data['Fully Paid'] > '2014-05-15']"
   ]
  },
  {
   "cell_type": "code",
   "execution_count": 40,
   "metadata": {},
   "outputs": [],
   "source": [
    "data = data.reset_index(drop=True)"
   ]
  },
  {
   "cell_type": "markdown",
   "metadata": {},
   "source": [
    "### Pre-processing and evaluating the data \n",
    "\n",
    "* Data has both continuous and categorical variable. In order to conduct regression analysis to predict the duration of the building permit, we need to convert the categorical variables into numeric dummies.\n",
    "* Then we need to combine the relevant columns of the data into a single dataframe, on whic we will perform the regression analysis."
   ]
  },
  {
   "cell_type": "code",
   "execution_count": 41,
   "metadata": {
    "scrolled": true
   },
   "outputs": [
    {
     "data": {
      "text/html": [
       "<div>\n",
       "<style scoped>\n",
       "    .dataframe tbody tr th:only-of-type {\n",
       "        vertical-align: middle;\n",
       "    }\n",
       "\n",
       "    .dataframe tbody tr th {\n",
       "        vertical-align: top;\n",
       "    }\n",
       "\n",
       "    .dataframe thead th {\n",
       "        text-align: right;\n",
       "    }\n",
       "</style>\n",
       "<table border=\"1\" class=\"dataframe\">\n",
       "  <thead>\n",
       "    <tr style=\"text-align: right;\">\n",
       "      <th></th>\n",
       "      <th>Borough_BROOKLYN</th>\n",
       "      <th>Borough_MANHATTAN</th>\n",
       "      <th>Borough_QUEENS</th>\n",
       "      <th>Borough_STATEN ISLAND</th>\n",
       "      <th>Building Type</th>\n",
       "      <th>Efiled</th>\n",
       "      <th>Pro Title</th>\n",
       "      <th>Pro Certified</th>\n",
       "      <th>Proposed Occupancy_E</th>\n",
       "      <th>Proposed Occupancy_M</th>\n",
       "      <th>Proposed Occupancy_Other</th>\n",
       "      <th>Proposed Occupancy_R-2</th>\n",
       "      <th>Proposed Occupancy_R-3</th>\n",
       "      <th>Proposed Occupancy_S-2</th>\n",
       "      <th>Proposed Occupancy_U</th>\n",
       "    </tr>\n",
       "  </thead>\n",
       "  <tbody>\n",
       "    <tr>\n",
       "      <td>0</td>\n",
       "      <td>0</td>\n",
       "      <td>0</td>\n",
       "      <td>1</td>\n",
       "      <td>0</td>\n",
       "      <td>0</td>\n",
       "      <td>1</td>\n",
       "      <td>1</td>\n",
       "      <td>0</td>\n",
       "      <td>0</td>\n",
       "      <td>0</td>\n",
       "      <td>0</td>\n",
       "      <td>0</td>\n",
       "      <td>1</td>\n",
       "      <td>0</td>\n",
       "      <td>0</td>\n",
       "    </tr>\n",
       "    <tr>\n",
       "      <td>1</td>\n",
       "      <td>0</td>\n",
       "      <td>0</td>\n",
       "      <td>1</td>\n",
       "      <td>0</td>\n",
       "      <td>0</td>\n",
       "      <td>1</td>\n",
       "      <td>1</td>\n",
       "      <td>1</td>\n",
       "      <td>0</td>\n",
       "      <td>0</td>\n",
       "      <td>0</td>\n",
       "      <td>0</td>\n",
       "      <td>0</td>\n",
       "      <td>0</td>\n",
       "      <td>1</td>\n",
       "    </tr>\n",
       "    <tr>\n",
       "      <td>2</td>\n",
       "      <td>1</td>\n",
       "      <td>0</td>\n",
       "      <td>0</td>\n",
       "      <td>0</td>\n",
       "      <td>1</td>\n",
       "      <td>1</td>\n",
       "      <td>1</td>\n",
       "      <td>0</td>\n",
       "      <td>0</td>\n",
       "      <td>0</td>\n",
       "      <td>0</td>\n",
       "      <td>1</td>\n",
       "      <td>0</td>\n",
       "      <td>0</td>\n",
       "      <td>0</td>\n",
       "    </tr>\n",
       "    <tr>\n",
       "      <td>3</td>\n",
       "      <td>0</td>\n",
       "      <td>0</td>\n",
       "      <td>0</td>\n",
       "      <td>1</td>\n",
       "      <td>0</td>\n",
       "      <td>1</td>\n",
       "      <td>1</td>\n",
       "      <td>0</td>\n",
       "      <td>0</td>\n",
       "      <td>0</td>\n",
       "      <td>0</td>\n",
       "      <td>0</td>\n",
       "      <td>1</td>\n",
       "      <td>0</td>\n",
       "      <td>0</td>\n",
       "    </tr>\n",
       "    <tr>\n",
       "      <td>4</td>\n",
       "      <td>1</td>\n",
       "      <td>0</td>\n",
       "      <td>0</td>\n",
       "      <td>0</td>\n",
       "      <td>1</td>\n",
       "      <td>1</td>\n",
       "      <td>1</td>\n",
       "      <td>0</td>\n",
       "      <td>0</td>\n",
       "      <td>0</td>\n",
       "      <td>0</td>\n",
       "      <td>1</td>\n",
       "      <td>0</td>\n",
       "      <td>0</td>\n",
       "      <td>0</td>\n",
       "    </tr>\n",
       "  </tbody>\n",
       "</table>\n",
       "</div>"
      ],
      "text/plain": [
       "   Borough_BROOKLYN  Borough_MANHATTAN  Borough_QUEENS  Borough_STATEN ISLAND  \\\n",
       "0                 0                  0               1                      0   \n",
       "1                 0                  0               1                      0   \n",
       "2                 1                  0               0                      0   \n",
       "3                 0                  0               0                      1   \n",
       "4                 1                  0               0                      0   \n",
       "\n",
       "   Building Type  Efiled  Pro Title  Pro Certified  Proposed Occupancy_E  \\\n",
       "0              0       1          1              0                     0   \n",
       "1              0       1          1              1                     0   \n",
       "2              1       1          1              0                     0   \n",
       "3              0       1          1              0                     0   \n",
       "4              1       1          1              0                     0   \n",
       "\n",
       "   Proposed Occupancy_M  Proposed Occupancy_Other  Proposed Occupancy_R-2  \\\n",
       "0                     0                         0                       0   \n",
       "1                     0                         0                       0   \n",
       "2                     0                         0                       1   \n",
       "3                     0                         0                       0   \n",
       "4                     0                         0                       1   \n",
       "\n",
       "   Proposed Occupancy_R-3  Proposed Occupancy_S-2  Proposed Occupancy_U  \n",
       "0                       1                       0                     0  \n",
       "1                       0                       0                     1  \n",
       "2                       0                       0                     0  \n",
       "3                       1                       0                     0  \n",
       "4                       0                       0                     0  "
      ]
     },
     "execution_count": 41,
     "metadata": {},
     "output_type": "execute_result"
    }
   ],
   "source": [
    "# convert the categorical variables into numeric dummies\n",
    "df_cat = pd.get_dummies(data[['Borough', 'Building Type', 'Efiling Filed',\n",
    "        'Applicant Professional Title', 'Professional Cert','Proposed Occupancy']], \n",
    "         drop_first = True)\n",
    "\n",
    "# by specifying \"drop_first=True\" we ensure that there is no correlation among the dummies.\n",
    "# Basically, for n categories we will have n-1 dummies.\n",
    "\n",
    "df_cat = df_cat.rename(columns={'Building Type_OTHERS':'Building Type',\n",
    "                                'Efiling Filed_Y':'Efiled',\n",
    "                               'Applicant Professional Title_RA':'Pro Title',\n",
    "                               'Professional Cert_Y':'Pro Certified'})\n",
    "df_cat.head()"
   ]
  },
  {
   "cell_type": "code",
   "execution_count": 42,
   "metadata": {},
   "outputs": [],
   "source": [
    "# create a dataframe with numeric values\n",
    "numeric_cols = ['Total Est. Fee','Proposed Dwelling Units','Proposed Zoning Sqft', \n",
    "              'Proposed No. Of Stories','Total_Construction_Floor_Area',\n",
    "              'Proposed Height','Duration']\n",
    "\n",
    "numeric_df = data[numeric_cols]"
   ]
  },
  {
   "cell_type": "code",
   "execution_count": 43,
   "metadata": {},
   "outputs": [],
   "source": [
    "df = pd.merge(df_cat, numeric_df, left_index=True, right_index=True)"
   ]
  },
  {
   "cell_type": "code",
   "execution_count": 44,
   "metadata": {},
   "outputs": [
    {
     "data": {
      "text/html": [
       "<div>\n",
       "<style scoped>\n",
       "    .dataframe tbody tr th:only-of-type {\n",
       "        vertical-align: middle;\n",
       "    }\n",
       "\n",
       "    .dataframe tbody tr th {\n",
       "        vertical-align: top;\n",
       "    }\n",
       "\n",
       "    .dataframe thead th {\n",
       "        text-align: right;\n",
       "    }\n",
       "</style>\n",
       "<table border=\"1\" class=\"dataframe\">\n",
       "  <thead>\n",
       "    <tr style=\"text-align: right;\">\n",
       "      <th></th>\n",
       "      <th>Borough_BROOKLYN</th>\n",
       "      <th>Borough_MANHATTAN</th>\n",
       "      <th>Borough_QUEENS</th>\n",
       "      <th>Borough_STATEN ISLAND</th>\n",
       "      <th>Building Type</th>\n",
       "      <th>Efiled</th>\n",
       "      <th>Pro Title</th>\n",
       "      <th>Pro Certified</th>\n",
       "      <th>Proposed Occupancy_E</th>\n",
       "      <th>Proposed Occupancy_M</th>\n",
       "      <th>...</th>\n",
       "      <th>Proposed Occupancy_R-3</th>\n",
       "      <th>Proposed Occupancy_S-2</th>\n",
       "      <th>Proposed Occupancy_U</th>\n",
       "      <th>Total Est. Fee</th>\n",
       "      <th>Proposed Dwelling Units</th>\n",
       "      <th>Proposed Zoning Sqft</th>\n",
       "      <th>Proposed No. Of Stories</th>\n",
       "      <th>Total_Construction_Floor_Area</th>\n",
       "      <th>Proposed Height</th>\n",
       "      <th>Duration</th>\n",
       "    </tr>\n",
       "  </thead>\n",
       "  <tbody>\n",
       "    <tr>\n",
       "      <td>0</td>\n",
       "      <td>0</td>\n",
       "      <td>0</td>\n",
       "      <td>1</td>\n",
       "      <td>0</td>\n",
       "      <td>0</td>\n",
       "      <td>1</td>\n",
       "      <td>1</td>\n",
       "      <td>0</td>\n",
       "      <td>0</td>\n",
       "      <td>0</td>\n",
       "      <td>...</td>\n",
       "      <td>1</td>\n",
       "      <td>0</td>\n",
       "      <td>0</td>\n",
       "      <td>243.00</td>\n",
       "      <td>2.0</td>\n",
       "      <td>2700</td>\n",
       "      <td>2</td>\n",
       "      <td>4050</td>\n",
       "      <td>28</td>\n",
       "      <td>158.0</td>\n",
       "    </tr>\n",
       "    <tr>\n",
       "      <td>1</td>\n",
       "      <td>0</td>\n",
       "      <td>0</td>\n",
       "      <td>1</td>\n",
       "      <td>0</td>\n",
       "      <td>0</td>\n",
       "      <td>1</td>\n",
       "      <td>1</td>\n",
       "      <td>1</td>\n",
       "      <td>0</td>\n",
       "      <td>0</td>\n",
       "      <td>...</td>\n",
       "      <td>0</td>\n",
       "      <td>0</td>\n",
       "      <td>1</td>\n",
       "      <td>100.00</td>\n",
       "      <td>NaN</td>\n",
       "      <td>300</td>\n",
       "      <td>1</td>\n",
       "      <td>300</td>\n",
       "      <td>12</td>\n",
       "      <td>87.0</td>\n",
       "    </tr>\n",
       "    <tr>\n",
       "      <td>2</td>\n",
       "      <td>1</td>\n",
       "      <td>0</td>\n",
       "      <td>0</td>\n",
       "      <td>0</td>\n",
       "      <td>1</td>\n",
       "      <td>1</td>\n",
       "      <td>1</td>\n",
       "      <td>0</td>\n",
       "      <td>0</td>\n",
       "      <td>0</td>\n",
       "      <td>...</td>\n",
       "      <td>0</td>\n",
       "      <td>0</td>\n",
       "      <td>0</td>\n",
       "      <td>2209.84</td>\n",
       "      <td>8.0</td>\n",
       "      <td>5994</td>\n",
       "      <td>4</td>\n",
       "      <td>7884</td>\n",
       "      <td>50</td>\n",
       "      <td>193.0</td>\n",
       "    </tr>\n",
       "    <tr>\n",
       "      <td>3</td>\n",
       "      <td>0</td>\n",
       "      <td>0</td>\n",
       "      <td>0</td>\n",
       "      <td>1</td>\n",
       "      <td>0</td>\n",
       "      <td>1</td>\n",
       "      <td>1</td>\n",
       "      <td>0</td>\n",
       "      <td>0</td>\n",
       "      <td>0</td>\n",
       "      <td>...</td>\n",
       "      <td>1</td>\n",
       "      <td>0</td>\n",
       "      <td>0</td>\n",
       "      <td>587.96</td>\n",
       "      <td>1.0</td>\n",
       "      <td>1245</td>\n",
       "      <td>3</td>\n",
       "      <td>2058</td>\n",
       "      <td>37</td>\n",
       "      <td>234.0</td>\n",
       "    </tr>\n",
       "    <tr>\n",
       "      <td>4</td>\n",
       "      <td>1</td>\n",
       "      <td>0</td>\n",
       "      <td>0</td>\n",
       "      <td>0</td>\n",
       "      <td>1</td>\n",
       "      <td>1</td>\n",
       "      <td>1</td>\n",
       "      <td>0</td>\n",
       "      <td>0</td>\n",
       "      <td>0</td>\n",
       "      <td>...</td>\n",
       "      <td>0</td>\n",
       "      <td>0</td>\n",
       "      <td>0</td>\n",
       "      <td>5082.32</td>\n",
       "      <td>16.0</td>\n",
       "      <td>15045</td>\n",
       "      <td>8</td>\n",
       "      <td>18932</td>\n",
       "      <td>80</td>\n",
       "      <td>89.0</td>\n",
       "    </tr>\n",
       "    <tr>\n",
       "      <td>...</td>\n",
       "      <td>...</td>\n",
       "      <td>...</td>\n",
       "      <td>...</td>\n",
       "      <td>...</td>\n",
       "      <td>...</td>\n",
       "      <td>...</td>\n",
       "      <td>...</td>\n",
       "      <td>...</td>\n",
       "      <td>...</td>\n",
       "      <td>...</td>\n",
       "      <td>...</td>\n",
       "      <td>...</td>\n",
       "      <td>...</td>\n",
       "      <td>...</td>\n",
       "      <td>...</td>\n",
       "      <td>...</td>\n",
       "      <td>...</td>\n",
       "      <td>...</td>\n",
       "      <td>...</td>\n",
       "      <td>...</td>\n",
       "      <td>...</td>\n",
       "    </tr>\n",
       "    <tr>\n",
       "      <td>10237</td>\n",
       "      <td>0</td>\n",
       "      <td>0</td>\n",
       "      <td>0</td>\n",
       "      <td>1</td>\n",
       "      <td>0</td>\n",
       "      <td>1</td>\n",
       "      <td>1</td>\n",
       "      <td>0</td>\n",
       "      <td>0</td>\n",
       "      <td>0</td>\n",
       "      <td>...</td>\n",
       "      <td>0</td>\n",
       "      <td>0</td>\n",
       "      <td>1</td>\n",
       "      <td>100.00</td>\n",
       "      <td>NaN</td>\n",
       "      <td>650</td>\n",
       "      <td>1</td>\n",
       "      <td>650</td>\n",
       "      <td>14</td>\n",
       "      <td>43.0</td>\n",
       "    </tr>\n",
       "    <tr>\n",
       "      <td>10238</td>\n",
       "      <td>0</td>\n",
       "      <td>0</td>\n",
       "      <td>0</td>\n",
       "      <td>1</td>\n",
       "      <td>0</td>\n",
       "      <td>1</td>\n",
       "      <td>1</td>\n",
       "      <td>1</td>\n",
       "      <td>0</td>\n",
       "      <td>0</td>\n",
       "      <td>...</td>\n",
       "      <td>1</td>\n",
       "      <td>0</td>\n",
       "      <td>0</td>\n",
       "      <td>134.82</td>\n",
       "      <td>1.0</td>\n",
       "      <td>1498</td>\n",
       "      <td>2</td>\n",
       "      <td>2247</td>\n",
       "      <td>29</td>\n",
       "      <td>92.0</td>\n",
       "    </tr>\n",
       "    <tr>\n",
       "      <td>10239</td>\n",
       "      <td>1</td>\n",
       "      <td>0</td>\n",
       "      <td>0</td>\n",
       "      <td>0</td>\n",
       "      <td>1</td>\n",
       "      <td>1</td>\n",
       "      <td>1</td>\n",
       "      <td>0</td>\n",
       "      <td>0</td>\n",
       "      <td>0</td>\n",
       "      <td>...</td>\n",
       "      <td>0</td>\n",
       "      <td>0</td>\n",
       "      <td>0</td>\n",
       "      <td>1519.70</td>\n",
       "      <td>6.0</td>\n",
       "      <td>4339</td>\n",
       "      <td>4</td>\n",
       "      <td>5845</td>\n",
       "      <td>54</td>\n",
       "      <td>414.0</td>\n",
       "    </tr>\n",
       "    <tr>\n",
       "      <td>10240</td>\n",
       "      <td>0</td>\n",
       "      <td>0</td>\n",
       "      <td>0</td>\n",
       "      <td>1</td>\n",
       "      <td>1</td>\n",
       "      <td>1</td>\n",
       "      <td>1</td>\n",
       "      <td>1</td>\n",
       "      <td>0</td>\n",
       "      <td>1</td>\n",
       "      <td>...</td>\n",
       "      <td>0</td>\n",
       "      <td>0</td>\n",
       "      <td>0</td>\n",
       "      <td>1890.20</td>\n",
       "      <td>4.0</td>\n",
       "      <td>5271</td>\n",
       "      <td>3</td>\n",
       "      <td>7270</td>\n",
       "      <td>34</td>\n",
       "      <td>115.0</td>\n",
       "    </tr>\n",
       "    <tr>\n",
       "      <td>10241</td>\n",
       "      <td>1</td>\n",
       "      <td>0</td>\n",
       "      <td>0</td>\n",
       "      <td>0</td>\n",
       "      <td>1</td>\n",
       "      <td>1</td>\n",
       "      <td>1</td>\n",
       "      <td>1</td>\n",
       "      <td>0</td>\n",
       "      <td>0</td>\n",
       "      <td>...</td>\n",
       "      <td>0</td>\n",
       "      <td>0</td>\n",
       "      <td>0</td>\n",
       "      <td>2283.84</td>\n",
       "      <td>10.0</td>\n",
       "      <td>7215</td>\n",
       "      <td>6</td>\n",
       "      <td>8784</td>\n",
       "      <td>70</td>\n",
       "      <td>21.0</td>\n",
       "    </tr>\n",
       "  </tbody>\n",
       "</table>\n",
       "<p>10242 rows × 22 columns</p>\n",
       "</div>"
      ],
      "text/plain": [
       "       Borough_BROOKLYN  Borough_MANHATTAN  Borough_QUEENS  \\\n",
       "0                     0                  0               1   \n",
       "1                     0                  0               1   \n",
       "2                     1                  0               0   \n",
       "3                     0                  0               0   \n",
       "4                     1                  0               0   \n",
       "...                 ...                ...             ...   \n",
       "10237                 0                  0               0   \n",
       "10238                 0                  0               0   \n",
       "10239                 1                  0               0   \n",
       "10240                 0                  0               0   \n",
       "10241                 1                  0               0   \n",
       "\n",
       "       Borough_STATEN ISLAND  Building Type  Efiled  Pro Title  Pro Certified  \\\n",
       "0                          0              0       1          1              0   \n",
       "1                          0              0       1          1              1   \n",
       "2                          0              1       1          1              0   \n",
       "3                          1              0       1          1              0   \n",
       "4                          0              1       1          1              0   \n",
       "...                      ...            ...     ...        ...            ...   \n",
       "10237                      1              0       1          1              0   \n",
       "10238                      1              0       1          1              1   \n",
       "10239                      0              1       1          1              0   \n",
       "10240                      1              1       1          1              1   \n",
       "10241                      0              1       1          1              1   \n",
       "\n",
       "       Proposed Occupancy_E  Proposed Occupancy_M  ...  \\\n",
       "0                         0                     0  ...   \n",
       "1                         0                     0  ...   \n",
       "2                         0                     0  ...   \n",
       "3                         0                     0  ...   \n",
       "4                         0                     0  ...   \n",
       "...                     ...                   ...  ...   \n",
       "10237                     0                     0  ...   \n",
       "10238                     0                     0  ...   \n",
       "10239                     0                     0  ...   \n",
       "10240                     0                     1  ...   \n",
       "10241                     0                     0  ...   \n",
       "\n",
       "       Proposed Occupancy_R-3  Proposed Occupancy_S-2  Proposed Occupancy_U  \\\n",
       "0                           1                       0                     0   \n",
       "1                           0                       0                     1   \n",
       "2                           0                       0                     0   \n",
       "3                           1                       0                     0   \n",
       "4                           0                       0                     0   \n",
       "...                       ...                     ...                   ...   \n",
       "10237                       0                       0                     1   \n",
       "10238                       1                       0                     0   \n",
       "10239                       0                       0                     0   \n",
       "10240                       0                       0                     0   \n",
       "10241                       0                       0                     0   \n",
       "\n",
       "       Total Est. Fee  Proposed Dwelling Units  Proposed Zoning Sqft  \\\n",
       "0              243.00                      2.0                  2700   \n",
       "1              100.00                      NaN                   300   \n",
       "2             2209.84                      8.0                  5994   \n",
       "3              587.96                      1.0                  1245   \n",
       "4             5082.32                     16.0                 15045   \n",
       "...               ...                      ...                   ...   \n",
       "10237          100.00                      NaN                   650   \n",
       "10238          134.82                      1.0                  1498   \n",
       "10239         1519.70                      6.0                  4339   \n",
       "10240         1890.20                      4.0                  5271   \n",
       "10241         2283.84                     10.0                  7215   \n",
       "\n",
       "       Proposed No. Of Stories  Total_Construction_Floor_Area  \\\n",
       "0                            2                           4050   \n",
       "1                            1                            300   \n",
       "2                            4                           7884   \n",
       "3                            3                           2058   \n",
       "4                            8                          18932   \n",
       "...                        ...                            ...   \n",
       "10237                        1                            650   \n",
       "10238                        2                           2247   \n",
       "10239                        4                           5845   \n",
       "10240                        3                           7270   \n",
       "10241                        6                           8784   \n",
       "\n",
       "       Proposed Height  Duration  \n",
       "0                   28     158.0  \n",
       "1                   12      87.0  \n",
       "2                   50     193.0  \n",
       "3                   37     234.0  \n",
       "4                   80      89.0  \n",
       "...                ...       ...  \n",
       "10237               14      43.0  \n",
       "10238               29      92.0  \n",
       "10239               54     414.0  \n",
       "10240               34     115.0  \n",
       "10241               70      21.0  \n",
       "\n",
       "[10242 rows x 22 columns]"
      ]
     },
     "execution_count": 44,
     "metadata": {},
     "output_type": "execute_result"
    }
   ],
   "source": [
    "df"
   ]
  },
  {
   "cell_type": "markdown",
   "metadata": {},
   "source": [
    "#### Examining the distribution of the target variable (duration)"
   ]
  },
  {
   "cell_type": "code",
   "execution_count": 45,
   "metadata": {
    "scrolled": true
   },
   "outputs": [
    {
     "data": {
      "image/png": "[encoded data removed]",
      "text/plain": [
       "<Figure size 576x288 with 2 Axes>"
      ]
     },
     "metadata": {
      "needs_background": "light"
     },
     "output_type": "display_data"
    }
   ],
   "source": [
    "# Plot the target variable distribution\n",
    "fig, (ax1,ax2) = plt.subplots(1,2, figsize=(8,4))\n",
    "data[['Duration']].plot.hist(ax=ax1, legend=False)\n",
    "ax1.vlines(data[['Duration']].mean(), 0, 5600, color='red')\n",
    "ax1.annotate('mean', (data[['Duration']].mean()+50, 5600))\n",
    "ax1.set_xlabel('Duration (days)')\n",
    "np.log(data[['Duration']]).plot.hist(ax=ax2, legend=False);\n",
    "ax2.vlines(np.log(data[['Duration']]).mean(), 0, 3000, color='red')\n",
    "ax2.annotate('mean', (np.log(data[['Duration']]).mean()-1.2, 3000))\n",
    "ax2.set_xlabel('Log duration (days)')\n",
    "plt.suptitle('Duration (days) distribution', y=1.05)\n",
    "plt.tight_layout()"
   ]
  },
  {
   "cell_type": "code",
   "execution_count": 46,
   "metadata": {
    "scrolled": true
   },
   "outputs": [
    {
     "name": "stdout",
     "output_type": "stream",
     "text": [
      "The log mean duration is e^4.93 = 137.8 days\n",
      "The mean duration is 210.5 days\n"
     ]
    }
   ],
   "source": [
    "print(\"The log mean duration is e^{:.2f} = {:.1f} days\".format(\n",
    "    (np.log(data[['Duration']]).mean()[0]), np.exp(np.log(data[['Duration']]).mean()[0])))\n",
    "print(\"The mean duration is {:.1f} days\".format(data[['Duration']].mean()[0]))"
   ]
  },
  {
   "cell_type": "markdown",
   "metadata": {},
   "source": [
    "* We can see that the duration is not normally distributed, it is skewed to right. Log presentation of the duration shows a more normal distribution. \n",
    "* Hence, we will use the log of the duration for the regression analysis."
   ]
  },
  {
   "cell_type": "markdown",
   "metadata": {},
   "source": [
    "#### Preprocessing data\n",
    "* We apply sklearn's StandardScaler to standardize the numeric columns to improve the regression performance\n",
    "* We apply SimpleImputer to fill in missing values"
   ]
  },
  {
   "cell_type": "code",
   "execution_count": 47,
   "metadata": {},
   "outputs": [],
   "source": [
    "from sklearn.impute import SimpleImputer # Impute the missing or NaN values\n",
    "from sklearn.preprocessing import StandardScaler\n",
    "\n",
    "def pre_process(cat_data, numeric_data):\n",
    "    \"\"\"\n",
    "    Apply scaling to the categorical data, combine the two dataframes, \n",
    "    and apply imputer to fill in the NaN values. Return a combined dataframe with scaled\n",
    "    numeric values and imputed values for NaNs. \n",
    "    \"\"\"\n",
    "    # apply the StandardScaler to standardize the numeric values\n",
    "    scaled_data = StandardScaler().fit_transform(numeric_data)\n",
    "    scaled_data = pd.DataFrame(scaled_data, columns=numeric_data.columns)\n",
    "\n",
    "    # Create a combined dataframe with the columns to use for prediction\n",
    "    combined_df = pd.merge(cat_data, scaled_data, left_index=True, right_index=True)\n",
    "\n",
    "    # apply the simple imputer to fill in missing values\n",
    "    imp_data = SimpleImputer(strategy='most_frequent').fit_transform(combined_df)\n",
    "    return pd.DataFrame(imp_data, columns=combined_df.columns)"
   ]
  },
  {
   "cell_type": "markdown",
   "metadata": {},
   "source": [
    "### 1. Regression Analysis"
   ]
  },
  {
   "cell_type": "code",
   "execution_count": 48,
   "metadata": {},
   "outputs": [],
   "source": [
    "# import the necessary moduls\n",
    "from sklearn.impute import SimpleImputer \n",
    "from sklearn.model_selection import train_test_split\n",
    "from sklearn.model_selection import cross_val_score # Import cross validation model\n",
    "from sklearn.metrics import mean_squared_error\n",
    "from sklearn.pipeline import make_pipeline\n",
    "from sklearn.model_selection import GridSearchCV, RandomizedSearchCV\n",
    "\n",
    "# Create the X and y for the regression\n",
    "X_1 = df.drop('Duration', axis=1)\n",
    "y_1 = np.log(df['Duration']).values.reshape(-1,1) # taking the log values for y\n",
    "\n",
    "imputer_x = SimpleImputer(strategy='most_frequent')\n",
    "imputer_y = SimpleImputer(strategy='median')\n",
    "X = imputer_x.fit_transform(X_1)\n",
    "y = imputer_y.fit_transform(y_1)"
   ]
  },
  {
   "cell_type": "markdown",
   "metadata": {},
   "source": [
    "#### 1.1 Linear Regression - OLS (StatsModel)"
   ]
  },
  {
   "cell_type": "code",
   "execution_count": 49,
   "metadata": {},
   "outputs": [],
   "source": [
    "import statsmodels.api as sm"
   ]
  },
  {
   "cell_type": "code",
   "execution_count": 50,
   "metadata": {
    "scrolled": true
   },
   "outputs": [
    {
     "name": "stdout",
     "output_type": "stream",
     "text": [
      "                            OLS Regression Results                            \n",
      "==============================================================================\n",
      "Dep. Variable:                      y   R-squared:                       0.343\n",
      "Model:                            OLS   Adj. R-squared:                  0.342\n",
      "Method:                 Least Squares   F-statistic:                     233.6\n",
      "Date:                Fri, 01 Nov 2019   Prob (F-statistic):               0.00\n",
      "Time:                        13:56:23   Log-Likelihood:                -9912.4\n",
      "No. Observations:                8513   AIC:                         1.986e+04\n",
      "Df Residuals:                    8493   BIC:                         2.001e+04\n",
      "Df Model:                          19                                         \n",
      "Covariance Type:            nonrobust                                         \n",
      "============================================================================================\n",
      "                               coef    std err          t      P>|t|      [0.025      0.975]\n",
      "--------------------------------------------------------------------------------------------\n",
      "const                        5.8540      0.292     20.078      0.000       5.282       6.426\n",
      "Borough_BROOKLYN            -0.1615      0.034     -4.817      0.000      -0.227      -0.096\n",
      "Borough_MANHATTAN            0.1017      0.056      1.814      0.070      -0.008       0.212\n",
      "Borough_QUEENS              -0.2148      0.035     -6.199      0.000      -0.283      -0.147\n",
      "Borough_STATEN ISLAND       -0.5158      0.040    -12.745      0.000      -0.595      -0.436\n",
      "Building Type                0.2068      0.032      6.561      0.000       0.145       0.269\n",
      "Efiled                      -0.4307      0.275     -1.565      0.118      -0.970       0.109\n",
      "Pro Title                    0.1163      0.020      5.891      0.000       0.078       0.155\n",
      "Pro Certified               -0.6898      0.027    -25.432      0.000      -0.743      -0.637\n",
      "Proposed Occupancy_E         0.0838      0.254      0.330      0.741      -0.414       0.582\n",
      "Proposed Occupancy_M         0.1595      0.162      0.982      0.326      -0.159       0.478\n",
      "Proposed Occupancy_Other     0.0676      0.113      0.600      0.549      -0.153       0.288\n",
      "Proposed Occupancy_R-2      -0.1836      0.099     -1.858      0.063      -0.377       0.010\n",
      "Proposed Occupancy_R-3      -0.3409      0.103     -3.321      0.001      -0.542      -0.140\n",
      "Proposed Occupancy_S-2       0.0688      0.159      0.433      0.665      -0.243       0.380\n",
      "Proposed Occupancy_U        -0.5472      0.108     -5.078      0.000      -0.758      -0.336\n",
      "Total Est. Fee             6.77e-08   4.78e-08      1.417      0.156   -2.59e-08    1.61e-07\n",
      "Proposed Dwelling Units     -0.0010      0.000     -3.960      0.000      -0.001      -0.000\n",
      "Proposed Zoning Sqft      1.408e-07   1.17e-07      1.199      0.231   -8.94e-08    3.71e-07\n",
      "Proposed No. Of Stories      0.0110      0.003      3.664      0.000       0.005       0.017\n",
      "==============================================================================\n",
      "Omnibus:                      258.488   Durbin-Watson:                   1.670\n",
      "Prob(Omnibus):                  0.000   Jarque-Bera (JB):              669.644\n",
      "Skew:                           0.069   Prob(JB):                    3.88e-146\n",
      "Kurtosis:                       4.367   Cond. No.                     8.77e+06\n",
      "==============================================================================\n",
      "\n",
      "Warnings:\n",
      "[1] Standard Errors assume that the covariance matrix of the errors is correctly specified.\n",
      "[2] The condition number is large, 8.77e+06. This might indicate that there are\n",
      "strong multicollinearity or other numerical problems.\n"
     ]
    },
    {
     "name": "stderr",
     "output_type": "stream",
     "text": [
      "/Users/anushavan/opt/anaconda3/lib/python3.7/site-packages/numpy/core/fromnumeric.py:2495: FutureWarning: Method .ptp is deprecated and will be removed in a future version. Use numpy.ptp instead.\n",
      "  return ptp(axis=axis, out=out, **kwargs)\n"
     ]
    }
   ],
   "source": [
    "X_ols = sm.add_constant(X_1) # adding a constant\n",
    "X_ols = X_ols.drop(['Total_Construction_Floor_Area','Proposed Height'], axis=1)\n",
    "model = sm.OLS(y, X_ols, missing='drop').fit()\n",
    "\n",
    "print_model = model.summary()\n",
    "print(print_model)"
   ]
  },
  {
   "cell_type": "code",
   "execution_count": 51,
   "metadata": {},
   "outputs": [
    {
     "name": "stdout",
     "output_type": "stream",
     "text": [
      "The adjusted R square of the OLS model is: 0.34\n"
     ]
    }
   ],
   "source": [
    "print(\"The adjusted R square of the OLS model is: {:.2f}\".format(model.rsquared_adj))"
   ]
  },
  {
   "cell_type": "markdown",
   "metadata": {},
   "source": [
    "#### 1.2 Linear regression: sklearn LinearRegression"
   ]
  },
  {
   "cell_type": "code",
   "execution_count": 52,
   "metadata": {},
   "outputs": [
    {
     "name": "stdout",
     "output_type": "stream",
     "text": [
      "Average 5-Fold cross-verification R squared Score is: 0.38\n",
      "Mean squared error is: 0.59\n",
      "y mean is: 4.93, y standard deviation is: 0.98\n"
     ]
    }
   ],
   "source": [
    "from sklearn.linear_model import LinearRegression # import linear regression model\n",
    "\n",
    "# use the most frequent values to fill in the NaN values\n",
    "imputer = SimpleImputer(strategy='most_frequent') \n",
    "linreg = LinearRegression() # instantiate linear regression object\n",
    "pipeline = make_pipeline(imputer, linreg)\n",
    "\n",
    "# Split the data into training and test samples\n",
    "X_train, X_test, y_train, y_test = train_test_split(X, y, test_size=0.25, random_state=42)\n",
    "\n",
    "pipeline.fit(X_train, y_train)\n",
    "\n",
    "# Get the mean value of the cross-validation results for R squared values.\n",
    "cv_linreg = cross_val_score(pipeline, X_test, y_test, cv=5).mean()\n",
    "\n",
    "y_pred_linreg = pipeline.predict(X_test)\n",
    "mse_linreg = mean_squared_error(y_test, y_pred_linreg)\n",
    "\n",
    "print('Average 5-Fold cross-verification R squared Score is: {:.2f}'.format(cv_linreg))\n",
    "print('Mean squared error is: {:.2f}'.format(mse_linreg))\n",
    "print('y mean is: {:.2f}, y standard deviation is: {:.2f}'.format(np.mean(y), np.std(y)))\n"
   ]
  },
  {
   "cell_type": "markdown",
   "metadata": {},
   "source": [
    "#### 1.3 Lasso Regression"
   ]
  },
  {
   "cell_type": "code",
   "execution_count": 53,
   "metadata": {
    "scrolled": false
   },
   "outputs": [
    {
     "name": "stderr",
     "output_type": "stream",
     "text": [
      "/Users/anushavan/opt/anaconda3/lib/python3.7/site-packages/sklearn/model_selection/_split.py:1978: FutureWarning: The default value of cv will change from 3 to 5 in version 0.22. Specify it explicitly to silence this warning.\n",
      "  warnings.warn(CV_WARNING, FutureWarning)\n"
     ]
    },
    {
     "name": "stdout",
     "output_type": "stream",
     "text": [
      "The best alpha is: 0.00001\n",
      "R squared for the lasso regression is 0.38\n",
      "Mean squared error is: 0.59\n",
      "y mean is: 4.93, y standard deviation is: 0.98\n"
     ]
    }
   ],
   "source": [
    "from sklearn.linear_model import Lasso\n",
    "\n",
    "# instantiate lasso model\n",
    "lasso = Lasso()\n",
    "\n",
    "# list of alphas to use in grid search\n",
    "alphas = {'alpha':np.logspace(-5,4,10)}\n",
    "\n",
    "# split the data into train and test sets\n",
    "X_train, X_test, y_train, y_test = train_test_split(X,y, test_size=0.25, random_state=42)\n",
    "\n",
    "# conduct the grid search on the lasso regression to tune the best alpha parameter\n",
    "gs_lasso = GridSearchCV(lasso, param_grid=alphas, scoring='r2')\n",
    "\n",
    "gs_lasso.fit(X_train, y_train) # fit the gridsearch model\n",
    "\n",
    "# get the best alpha from the gridsearch\n",
    "best_alpha = gs_lasso.best_params_['alpha']\n",
    "\n",
    "# fit the lasso model and get the score using the best alpha obtained from gridsearch\n",
    "lasso = Lasso(alpha=best_alpha)\n",
    "lasso.fit(X_train, y_train)\n",
    "\n",
    "# Get the mean value of the cross-validation results for R squared values.\n",
    "lasso_score = cross_val_score(lasso, X_test, y_test, cv=5).mean()\n",
    "\n",
    "# predict the y values and calculate the mean squared error\n",
    "y_pred_lasso = gs_lasso.predict(X_test)\n",
    "mse_lasso = mean_squared_error(y_test, y_pred_lasso)\n",
    "\n",
    "print(\"The best alpha is: {:.5f}\".format(best_alpha))\n",
    "print(\"R squared for the lasso regression is {:.2f}\".format(lasso_score))\n",
    "print('Mean squared error is: {:.2f}'.format(mse_lasso))\n",
    "print('y mean is: {:.2f}, y standard deviation is: {:.2f}'.format(np.mean(y), np.std(y)))\n"
   ]
  },
  {
   "cell_type": "code",
   "execution_count": 54,
   "metadata": {
    "scrolled": true
   },
   "outputs": [
    {
     "data": {
      "image/png": "[encoded data removed]",
      "text/plain": [
       "<Figure size 576x360 with 1 Axes>"
      ]
     },
     "metadata": {
      "needs_background": "light"
     },
     "output_type": "display_data"
    }
   ],
   "source": [
    "# Lasso regression selects only the most important features. In our case those are the \n",
    "# Building type, Pro Certified and Proposed No. of Stories. \n",
    "\n",
    "fig, ax = plt.subplots(figsize=(8,5))\n",
    "lasso_df = pd.DataFrame(lasso.coef_, X_1.columns).sort_values(by=0)\n",
    "lasso_df[np.abs(lasso_df.values) >= 0.05].plot.barh(ax=ax, legend=False, color='red')\n",
    "for i, v in enumerate(np.sort(lasso_df[np.abs(lasso_df.values) >= 0.05].values)): \n",
    "    # color coefficients red (negative) or green (positive)\n",
    "    if v < 0:\n",
    "        ax.get_children()[i].set_color('green')\n",
    "    else:\n",
    "        ax.get_children()[i].set_color('red')\n",
    "plt.xlabel('Regression coefficients')\n",
    "plt.title('Lasso regression: significant variables and coefficients');\n",
    "plt.tight_layout()"
   ]
  },
  {
   "cell_type": "markdown",
   "metadata": {},
   "source": [
    "* Lasso model is Helpful for feature selection. Identifies the most important variables.\n",
    "* The most important variables are plotted in the above bar chart. The green bars indicate that the variable reduces the duration of the building permit, and the red bars indicate that the variable increases the duration of the building permit. For example, the duration:\n",
    "    * increases if the building is type \"other\"\n",
    "    * decreases if the application is professionally certified\n",
    "    * increases if the building is in Manhattan."
   ]
  },
  {
   "cell_type": "markdown",
   "metadata": {},
   "source": [
    "#### 1.4 Ridge Regression"
   ]
  },
  {
   "cell_type": "code",
   "execution_count": 55,
   "metadata": {
    "scrolled": true
   },
   "outputs": [
    {
     "name": "stdout",
     "output_type": "stream",
     "text": [
      "The best alpha is: 0.000001\n",
      "R squared for the ridge regression is: 0.37\n",
      "Mean squared error is: 0.60\n",
      "y mean is: 4.93, y standard deviation is: 0.98\n"
     ]
    }
   ],
   "source": [
    "from sklearn.linear_model import Ridge, RidgeCV\n",
    "\n",
    "# Ridge regression with built-in cross-validation for alpha values\n",
    "ridgecv = RidgeCV(alphas=np.logspace(-6, 6, 13))\n",
    "\n",
    "# Split data into test and train sets\n",
    "X_train, X_test, y_train, y_test = train_test_split(X, y, test_size=0.30, random_state=42)\n",
    "\n",
    "# fit the model\n",
    "ridgecv.fit(X_train, y_train)\n",
    "\n",
    "# get the best alpha from cross-validation\n",
    "alpha = ridgecv.alpha_\n",
    "print(\"The best alpha is: {:.6f}\".format(alpha))\n",
    "\n",
    "# compute and print the R2: how much of the variance in the y is explained by the model.\n",
    "ridge_R_cv = np.mean(cross_val_score(ridgecv, X_test, y_test, cv=5))\n",
    "\n",
    "# predict the y values and calculate the mean squared error\n",
    "ridge = Ridge(alpha=alpha)\n",
    "ridge.fit(X_train, y_train)\n",
    "y_pred_ridge = ridge.predict(X_test)\n",
    "mse_ridge = mean_squared_error(y_test, y_pred_ridge)\n",
    "\n",
    "print(\"R squared for the ridge regression is: {:.2f}\".format(ridge_R_cv))\n",
    "print('Mean squared error is: {:.2f}'.format(mse_ridge))\n",
    "print('y mean is: {:.2f}, y standard deviation is: {:.2f}'.format(np.mean(y), np.std(y)))"
   ]
  },
  {
   "cell_type": "markdown",
   "metadata": {},
   "source": [
    "### Linear models: conclusion\n",
    "* Seems all models perform have roughly the same level of predictive power as defined by R squared."
   ]
  },
  {
   "cell_type": "markdown",
   "metadata": {},
   "source": [
    "### 2. Other models"
   ]
  },
  {
   "cell_type": "markdown",
   "metadata": {},
   "source": [
    "#### 2.1 ExtraTreesRegressor "
   ]
  },
  {
   "cell_type": "code",
   "execution_count": 57,
   "metadata": {
    "scrolled": true
   },
   "outputs": [
    {
     "name": "stderr",
     "output_type": "stream",
     "text": [
      "/Users/anushavan/opt/anaconda3/lib/python3.7/site-packages/ipykernel_launcher.py:22: DataConversionWarning: A column-vector y was passed when a 1d array was expected. Please change the shape of y to (n_samples,), for example using ravel().\n"
     ]
    },
    {
     "name": "stdout",
     "output_type": "stream",
     "text": [
      "Mean squared error is: 0.49\n",
      "R squared for the ExtraTreesRegressor is: 0.50\n"
     ]
    }
   ],
   "source": [
    "from sklearn.ensemble import ExtraTreesRegressor\n",
    "\n",
    "# parameters for gridsearch\n",
    "parameters = {'n_estimators':(np.arange(10,150, 5)), 'max_features':np.arange(1,20, 1)}\n",
    "\n",
    "extratrees = ExtraTreesRegressor()\n",
    "\n",
    "# Split data into test and train sets\n",
    "X_train, X_test, y_train, y_test = train_test_split(X, y, test_size=0.30, random_state=1)\n",
    "\n",
    "# Use randomized gridsearch to tune the hyperparameters\n",
    "rand_gs = RandomizedSearchCV(extratrees, parameters, cv=5)\n",
    "rand_gs.fit(X_train, np.ravel(y_train))\n",
    "\n",
    "# get the R squared score\n",
    "extra_score = rand_gs.score(X_test, y_test).round(2)\n",
    "\n",
    "# extract the best parameters from the gridsearch\n",
    "best_params = rand_gs.best_params_\n",
    "\n",
    "# fit the extratree regressor with the best parameters\n",
    "extratrees = ExtraTreesRegressor(**best_params).fit(X_train, y_train)\n",
    "\n",
    "# predit the y\n",
    "y_pred_extra = extratrees.predict(X_test)\n",
    "mse_extra = mean_squared_error(y_test, y_pred_extra)\n",
    "\n",
    "print('Mean squared error is: {:.2f}'.format(mse_extra))\n",
    "print(\"R squared for the ExtraTreesRegressor is: {:.2f}\".format(extra_score))"
   ]
  },
  {
   "cell_type": "code",
   "execution_count": 58,
   "metadata": {},
   "outputs": [
    {
     "data": {
      "image/png": "[encoded data removed]",
      "text/plain": [
       "<Figure size 576x432 with 1 Axes>"
      ]
     },
     "metadata": {
      "needs_background": "light"
     },
     "output_type": "display_data"
    }
   ],
   "source": [
    "extra_df = pd.DataFrame({'Importance':100.0 * (extratrees.feature_importances_ /\n",
    "                                            extratrees.feature_importances_.max())}, \n",
    "                     index=X_1.columns)\n",
    "fig, ax = plt.subplots(figsize=(8,6))\n",
    "extra_df.sort_values(by='Importance').plot(kind='barh', ax=ax, legend=False)\n",
    "plt.title('Variable importance')\n",
    "plt.xlabel('Relative importance');"
   ]
  },
  {
   "cell_type": "markdown",
   "metadata": {},
   "source": [
    "#### 2.2 Gradient Boosting"
   ]
  },
  {
   "cell_type": "code",
   "execution_count": 59,
   "metadata": {
    "scrolled": true
   },
   "outputs": [
    {
     "name": "stderr",
     "output_type": "stream",
     "text": [
      "/Users/anushavan/opt/anaconda3/lib/python3.7/site-packages/sklearn/model_selection/_split.py:1978: FutureWarning: The default value of cv will change from 3 to 5 in version 0.22. Specify it explicitly to silence this warning.\n",
      "  warnings.warn(CV_WARNING, FutureWarning)\n"
     ]
    },
    {
     "data": {
      "text/plain": [
       "RandomizedSearchCV(cv='warn', error_score='raise-deprecating',\n",
       "                   estimator=GradientBoostingRegressor(alpha=0.9,\n",
       "                                                       criterion='friedman_mse',\n",
       "                                                       init=None,\n",
       "                                                       learning_rate=0.1,\n",
       "                                                       loss='ls', max_depth=3,\n",
       "                                                       max_features=None,\n",
       "                                                       max_leaf_nodes=None,\n",
       "                                                       min_impurity_decrease=0.0,\n",
       "                                                       min_impurity_split=None,\n",
       "                                                       min_samples_leaf=1,\n",
       "                                                       min_samples_split=2,\n",
       "                                                       min_weight_fraction_leaf=0.0,\n",
       "                                                       n_estimators...\n",
       "                                                       verbose=0,\n",
       "                                                       warm_start=False),\n",
       "                   iid='warn', n_iter=10, n_jobs=None,\n",
       "                   param_distributions={'learning_rate': array([1.e-04, 1.e-03, 1.e-02, 1.e-01, 1.e+00, 1.e+01]),\n",
       "                                        'max_depth': array([ 2,  4,  6,  8, 10, 12]),\n",
       "                                        'n_estimators': array([400, 450, 500, 550, 600, 650, 700, 750, 800, 850])},\n",
       "                   pre_dispatch='2*n_jobs', random_state=None, refit=True,\n",
       "                   return_train_score=False, scoring=None, verbose=0)"
      ]
     },
     "execution_count": 59,
     "metadata": {},
     "output_type": "execute_result"
    }
   ],
   "source": [
    "# set the parameters of the model\n",
    "from sklearn import ensemble\n",
    "from sklearn.metrics import mean_squared_error\n",
    "from sklearn.ensemble import GradientBoostingRegressor\n",
    "\n",
    "# params = {'n_estimators': 500, 'max_depth': 10, 'min_samples_split': 2,\n",
    "#           'learning_rate': 0.01, 'loss': 'ls'}\n",
    "\n",
    "# gs = ensemble.GradientBoostingRegressor(**params)\n",
    "gs = GradientBoostingRegressor()\n",
    "\n",
    "# Split data into test and train sets\n",
    "X_train, X_test, y_train, y_test = train_test_split(X, np.ravel(y), test_size=0.30, \n",
    "                                                    random_state=1)\n",
    "param_dist = {'n_estimators': np.arange(400,900,50), 'max_depth': np.arange(2,14,2), \n",
    "          'learning_rate': np.logspace(-4,1,6)}\n",
    "\n",
    "random_search = RandomizedSearchCV(gs, param_distributions=param_dist)\n",
    "random_search.fit(X_train, y_train)"
   ]
  },
  {
   "cell_type": "code",
   "execution_count": 63,
   "metadata": {
    "scrolled": true
   },
   "outputs": [
    {
     "name": "stdout",
     "output_type": "stream",
     "text": [
      "MSE: 0.512\n",
      "R squared: 0.48\n"
     ]
    }
   ],
   "source": [
    "# fit the gs model with the best parameters found in the previous step\n",
    "gs_params = random_search.best_params_\n",
    "gs = ensemble.GradientBoostingRegressor(**gs_params)\n",
    "gs.fit(X_train, y_train)\n",
    "gs_rsquared = gs.score(X_test, y_test)\n",
    "gs_mse = mean_squared_error(y_test, gs.predict(X_test))\n",
    "print(\"MSE: {:.3f}\".format(gs_mse))\n",
    "print(\"R squared: {:.2f}\".format(gs_rsquared))"
   ]
  },
  {
   "cell_type": "code",
   "execution_count": 61,
   "metadata": {},
   "outputs": [
    {
     "data": {
      "image/png": "[encoded data removed]",
      "text/plain": [
       "<Figure size 576x432 with 1 Axes>"
      ]
     },
     "metadata": {
      "needs_background": "light"
     },
     "output_type": "display_data"
    }
   ],
   "source": [
    "gs_df = pd.DataFrame({'Importance':100.0 * (gs.feature_importances_ /\n",
    "                                            gs.feature_importances_.max())}, \n",
    "                     index=X_1.columns)\n",
    "fig, ax = plt.subplots(figsize=(8,6))\n",
    "gs_df.sort_values(by='Importance').plot(kind='barh', ax=ax, legend=False)\n",
    "plt.title('Variable importance')\n",
    "plt.xlabel('Relative importance');"
   ]
  },
  {
   "cell_type": "code",
   "execution_count": 101,
   "metadata": {},
   "outputs": [
    {
     "data": {
      "image/png": "[encoded data removed]",
      "text/plain": [
       "<Figure size 504x288 with 1 Axes>"
      ]
     },
     "metadata": {},
     "output_type": "display_data"
    }
   ],
   "source": [
    "# compile the R squares and MSEs from all regressions into a dataframe\n",
    "r_squares = [cv_linreg,lasso_score,ridge_R_cv, extra_score, gs_rsquared]\n",
    "mses = [mse_ridge, mse_linreg, mse_lasso, mse_extra, gs_mse]\n",
    "labels=['ridge','linear','lasso','ExtraTrees','GradientBoost']\n",
    "score_eval = pd.DataFrame({'R-squared':r_squares,'MSE':mses}, index=labels)\n",
    "\n",
    "# plot the MSEs and R-squares\n",
    "plt.style.use('seaborn-white')\n",
    "fig, ax = plt.subplots(figsize=(7,4))\n",
    "\n",
    "score_eval.sort_values(by='MSE').plot(kind='bar', ax=ax, rot=0, fontsize=12);\n",
    "plt.title('R-Squares and Mean Squared Errors')\n",
    "plt.ylabel('R-squared / MSE values');"
   ]
  }
 ],
 "metadata": {
  "kernelspec": {
   "display_name": "Python 3",
   "language": "python",
   "name": "python3"
  },
  "language_info": {
   "codemirror_mode": {
    "name": "ipython",
    "version": 3
   },
   "file_extension": ".py",
   "mimetype": "text/x-python",
   "name": "python",
   "nbconvert_exporter": "python",
   "pygments_lexer": "ipython3",
   "version": "3.7.4"
  }
 },
 "nbformat": 4,
 "nbformat_minor": 2
}
