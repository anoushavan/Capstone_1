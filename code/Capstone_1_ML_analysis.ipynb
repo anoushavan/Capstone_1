{
 "cells": [
  {
   "cell_type": "code",
   "execution_count": 216,
   "metadata": {},
   "outputs": [],
   "source": [
    "%matplotlib inline\n",
    "import pandas as pd\n",
    "import numpy as np\n",
    "from scipy import stats\n",
    "from matplotlib import pyplot as plt\n",
    "import seaborn as sns"
   ]
  },
  {
   "cell_type": "code",
   "execution_count": 63,
   "metadata": {},
   "outputs": [],
   "source": [
    "data = pd.read_csv('data/cleaned_data.csv', \n",
    "                   parse_dates=['Fully Paid','Approved']).drop(['Unnamed: 0'],axis=1)"
   ]
  },
  {
   "cell_type": "code",
   "execution_count": 64,
   "metadata": {},
   "outputs": [],
   "source": [
    "# Select only the past 5 years of data to make sure the data is relevant\n",
    "data = data[data['Fully Paid'] > '2014-05-15']"
   ]
  },
  {
   "cell_type": "code",
   "execution_count": 225,
   "metadata": {},
   "outputs": [
    {
     "data": {
      "text/plain": [
       "R-3      4362\n",
       "R-2      3385\n",
       "U        1375\n",
       "Other     396\n",
       "B         284\n",
       "M         173\n",
       "S-2       172\n",
       "E          95\n",
       "Name: Proposed Occupancy, dtype: int64"
      ]
     },
     "execution_count": 225,
     "metadata": {},
     "output_type": "execute_result"
    }
   ],
   "source": [
    "data['Proposed Occupancy'].value_counts()"
   ]
  },
  {
   "cell_type": "markdown",
   "metadata": {},
   "source": [
    "### 1. Regression analysis\n",
    "\n",
    "* Data has both continuous and categorical variable. In order to conduct regression analysis to predict the duration of the building permit, we need to convert the categorical variables into numeric dummies.\n",
    "* Then we need to combine the relevant columns of the data into a single dataframe, on whic we will perform the regression analysis."
   ]
  },
  {
   "cell_type": "code",
   "execution_count": 227,
   "metadata": {
    "scrolled": true
   },
   "outputs": [
    {
     "data": {
      "text/html": [
       "<div>\n",
       "<style scoped>\n",
       "    .dataframe tbody tr th:only-of-type {\n",
       "        vertical-align: middle;\n",
       "    }\n",
       "\n",
       "    .dataframe tbody tr th {\n",
       "        vertical-align: top;\n",
       "    }\n",
       "\n",
       "    .dataframe thead th {\n",
       "        text-align: right;\n",
       "    }\n",
       "</style>\n",
       "<table border=\"1\" class=\"dataframe\">\n",
       "  <thead>\n",
       "    <tr style=\"text-align: right;\">\n",
       "      <th></th>\n",
       "      <th>Borough_BROOKLYN</th>\n",
       "      <th>Borough_MANHATTAN</th>\n",
       "      <th>Borough_QUEENS</th>\n",
       "      <th>Borough_STATEN ISLAND</th>\n",
       "      <th>Building Type</th>\n",
       "      <th>Efiled</th>\n",
       "      <th>Pro Title</th>\n",
       "      <th>Pro Certified</th>\n",
       "      <th>Proposed Occupancy_E</th>\n",
       "      <th>Proposed Occupancy_M</th>\n",
       "      <th>Proposed Occupancy_Other</th>\n",
       "      <th>Proposed Occupancy_R-2</th>\n",
       "      <th>Proposed Occupancy_R-3</th>\n",
       "      <th>Proposed Occupancy_S-2</th>\n",
       "      <th>Proposed Occupancy_U</th>\n",
       "    </tr>\n",
       "  </thead>\n",
       "  <tbody>\n",
       "    <tr>\n",
       "      <td>0</td>\n",
       "      <td>0</td>\n",
       "      <td>0</td>\n",
       "      <td>1</td>\n",
       "      <td>0</td>\n",
       "      <td>0</td>\n",
       "      <td>1</td>\n",
       "      <td>1</td>\n",
       "      <td>0</td>\n",
       "      <td>0</td>\n",
       "      <td>0</td>\n",
       "      <td>0</td>\n",
       "      <td>0</td>\n",
       "      <td>1</td>\n",
       "      <td>0</td>\n",
       "      <td>0</td>\n",
       "    </tr>\n",
       "    <tr>\n",
       "      <td>3</td>\n",
       "      <td>0</td>\n",
       "      <td>0</td>\n",
       "      <td>1</td>\n",
       "      <td>0</td>\n",
       "      <td>0</td>\n",
       "      <td>1</td>\n",
       "      <td>1</td>\n",
       "      <td>1</td>\n",
       "      <td>0</td>\n",
       "      <td>0</td>\n",
       "      <td>0</td>\n",
       "      <td>0</td>\n",
       "      <td>0</td>\n",
       "      <td>0</td>\n",
       "      <td>1</td>\n",
       "    </tr>\n",
       "    <tr>\n",
       "      <td>4</td>\n",
       "      <td>1</td>\n",
       "      <td>0</td>\n",
       "      <td>0</td>\n",
       "      <td>0</td>\n",
       "      <td>1</td>\n",
       "      <td>1</td>\n",
       "      <td>1</td>\n",
       "      <td>0</td>\n",
       "      <td>0</td>\n",
       "      <td>0</td>\n",
       "      <td>0</td>\n",
       "      <td>1</td>\n",
       "      <td>0</td>\n",
       "      <td>0</td>\n",
       "      <td>0</td>\n",
       "    </tr>\n",
       "    <tr>\n",
       "      <td>5</td>\n",
       "      <td>0</td>\n",
       "      <td>0</td>\n",
       "      <td>0</td>\n",
       "      <td>1</td>\n",
       "      <td>0</td>\n",
       "      <td>1</td>\n",
       "      <td>1</td>\n",
       "      <td>0</td>\n",
       "      <td>0</td>\n",
       "      <td>0</td>\n",
       "      <td>0</td>\n",
       "      <td>0</td>\n",
       "      <td>1</td>\n",
       "      <td>0</td>\n",
       "      <td>0</td>\n",
       "    </tr>\n",
       "    <tr>\n",
       "      <td>6</td>\n",
       "      <td>1</td>\n",
       "      <td>0</td>\n",
       "      <td>0</td>\n",
       "      <td>0</td>\n",
       "      <td>1</td>\n",
       "      <td>1</td>\n",
       "      <td>1</td>\n",
       "      <td>0</td>\n",
       "      <td>0</td>\n",
       "      <td>0</td>\n",
       "      <td>0</td>\n",
       "      <td>1</td>\n",
       "      <td>0</td>\n",
       "      <td>0</td>\n",
       "      <td>0</td>\n",
       "    </tr>\n",
       "  </tbody>\n",
       "</table>\n",
       "</div>"
      ],
      "text/plain": [
       "   Borough_BROOKLYN  Borough_MANHATTAN  Borough_QUEENS  Borough_STATEN ISLAND  \\\n",
       "0                 0                  0               1                      0   \n",
       "3                 0                  0               1                      0   \n",
       "4                 1                  0               0                      0   \n",
       "5                 0                  0               0                      1   \n",
       "6                 1                  0               0                      0   \n",
       "\n",
       "   Building Type  Efiled  Pro Title  Pro Certified  Proposed Occupancy_E  \\\n",
       "0              0       1          1              0                     0   \n",
       "3              0       1          1              1                     0   \n",
       "4              1       1          1              0                     0   \n",
       "5              0       1          1              0                     0   \n",
       "6              1       1          1              0                     0   \n",
       "\n",
       "   Proposed Occupancy_M  Proposed Occupancy_Other  Proposed Occupancy_R-2  \\\n",
       "0                     0                         0                       0   \n",
       "3                     0                         0                       0   \n",
       "4                     0                         0                       1   \n",
       "5                     0                         0                       0   \n",
       "6                     0                         0                       1   \n",
       "\n",
       "   Proposed Occupancy_R-3  Proposed Occupancy_S-2  Proposed Occupancy_U  \n",
       "0                       1                       0                     0  \n",
       "3                       0                       0                     1  \n",
       "4                       0                       0                     0  \n",
       "5                       1                       0                     0  \n",
       "6                       0                       0                     0  "
      ]
     },
     "execution_count": 227,
     "metadata": {},
     "output_type": "execute_result"
    }
   ],
   "source": [
    "# convert the categorical variables into numeric dummies\n",
    "df_cat = pd.get_dummies(data[['Borough', 'Building Type', 'Efiling Filed',\n",
    "        'Applicant Professional Title', 'Professional Cert','Proposed Occupancy']], \n",
    "                        drop_first = True)\n",
    "\n",
    "# by specifying \"drop_first=True\" we ensure that there is no correlation among the dummies.\n",
    "# Basically, for n categories we will have n-1 dummies.\n",
    "\n",
    "df_cat = df_cat.rename(columns={'Building Type_OTHERS':'Building Type',\n",
    "                                'Efiling Filed_Y':'Efiled',\n",
    "                               'Applicant Professional Title_RA':'Pro Title',\n",
    "                               'Professional Cert_Y':'Pro Certified'})\n",
    "df_cat.head()"
   ]
  },
  {
   "cell_type": "code",
   "execution_count": 228,
   "metadata": {
    "scrolled": false
   },
   "outputs": [
    {
     "data": {
      "text/html": [
       "<div>\n",
       "<style scoped>\n",
       "    .dataframe tbody tr th:only-of-type {\n",
       "        vertical-align: middle;\n",
       "    }\n",
       "\n",
       "    .dataframe tbody tr th {\n",
       "        vertical-align: top;\n",
       "    }\n",
       "\n",
       "    .dataframe thead th {\n",
       "        text-align: right;\n",
       "    }\n",
       "</style>\n",
       "<table border=\"1\" class=\"dataframe\">\n",
       "  <thead>\n",
       "    <tr style=\"text-align: right;\">\n",
       "      <th></th>\n",
       "      <th>Borough_BROOKLYN</th>\n",
       "      <th>Borough_MANHATTAN</th>\n",
       "      <th>Borough_QUEENS</th>\n",
       "      <th>Borough_STATEN ISLAND</th>\n",
       "      <th>Building Type</th>\n",
       "      <th>Efiled</th>\n",
       "      <th>Pro Title</th>\n",
       "      <th>Pro Certified</th>\n",
       "      <th>Proposed Occupancy_E</th>\n",
       "      <th>Proposed Occupancy_M</th>\n",
       "      <th>...</th>\n",
       "      <th>Proposed Occupancy_R-3</th>\n",
       "      <th>Proposed Occupancy_S-2</th>\n",
       "      <th>Proposed Occupancy_U</th>\n",
       "      <th>Total Est. Fee</th>\n",
       "      <th>Proposed Dwelling Units</th>\n",
       "      <th>Proposed Zoning Sqft</th>\n",
       "      <th>Proposed No. Of Stories</th>\n",
       "      <th>Total_Construction_Floor_Area</th>\n",
       "      <th>Proposed Height</th>\n",
       "      <th>Duration</th>\n",
       "    </tr>\n",
       "  </thead>\n",
       "  <tbody>\n",
       "    <tr>\n",
       "      <td>0</td>\n",
       "      <td>0</td>\n",
       "      <td>0</td>\n",
       "      <td>1</td>\n",
       "      <td>0</td>\n",
       "      <td>0</td>\n",
       "      <td>1</td>\n",
       "      <td>1</td>\n",
       "      <td>0</td>\n",
       "      <td>0</td>\n",
       "      <td>0</td>\n",
       "      <td>...</td>\n",
       "      <td>1</td>\n",
       "      <td>0</td>\n",
       "      <td>0</td>\n",
       "      <td>243.0</td>\n",
       "      <td>2.0</td>\n",
       "      <td>2700</td>\n",
       "      <td>2</td>\n",
       "      <td>4050</td>\n",
       "      <td>28</td>\n",
       "      <td>158.0</td>\n",
       "    </tr>\n",
       "    <tr>\n",
       "      <td>3</td>\n",
       "      <td>0</td>\n",
       "      <td>0</td>\n",
       "      <td>1</td>\n",
       "      <td>0</td>\n",
       "      <td>0</td>\n",
       "      <td>1</td>\n",
       "      <td>1</td>\n",
       "      <td>1</td>\n",
       "      <td>0</td>\n",
       "      <td>0</td>\n",
       "      <td>...</td>\n",
       "      <td>0</td>\n",
       "      <td>0</td>\n",
       "      <td>1</td>\n",
       "      <td>100.0</td>\n",
       "      <td>NaN</td>\n",
       "      <td>300</td>\n",
       "      <td>1</td>\n",
       "      <td>300</td>\n",
       "      <td>12</td>\n",
       "      <td>87.0</td>\n",
       "    </tr>\n",
       "  </tbody>\n",
       "</table>\n",
       "<p>2 rows × 22 columns</p>\n",
       "</div>"
      ],
      "text/plain": [
       "   Borough_BROOKLYN  Borough_MANHATTAN  Borough_QUEENS  Borough_STATEN ISLAND  \\\n",
       "0                 0                  0               1                      0   \n",
       "3                 0                  0               1                      0   \n",
       "\n",
       "   Building Type  Efiled  Pro Title  Pro Certified  Proposed Occupancy_E  \\\n",
       "0              0       1          1              0                     0   \n",
       "3              0       1          1              1                     0   \n",
       "\n",
       "   Proposed Occupancy_M  ...  Proposed Occupancy_R-3  Proposed Occupancy_S-2  \\\n",
       "0                     0  ...                       1                       0   \n",
       "3                     0  ...                       0                       0   \n",
       "\n",
       "   Proposed Occupancy_U  Total Est. Fee  Proposed Dwelling Units  \\\n",
       "0                     0           243.0                      2.0   \n",
       "3                     1           100.0                      NaN   \n",
       "\n",
       "   Proposed Zoning Sqft  Proposed No. Of Stories  \\\n",
       "0                  2700                        2   \n",
       "3                   300                        1   \n",
       "\n",
       "   Total_Construction_Floor_Area  Proposed Height  Duration  \n",
       "0                           4050               28     158.0  \n",
       "3                            300               12      87.0  \n",
       "\n",
       "[2 rows x 22 columns]"
      ]
     },
     "execution_count": 228,
     "metadata": {},
     "output_type": "execute_result"
    }
   ],
   "source": [
    "# Create a combined dataframe with the columns to use for prediction\n",
    "col_to_use = ['Total Est. Fee','Proposed Dwelling Units','Proposed Zoning Sqft', \n",
    "              'Proposed No. Of Stories','Total_Construction_Floor_Area',\n",
    "              'Proposed Height','Duration']\n",
    "\n",
    "df_combined = pd.merge(df_cat, data[col_to_use], \n",
    "    left_index=True, right_index=True)\n",
    "df_combined.head(2)"
   ]
  },
  {
   "cell_type": "markdown",
   "metadata": {},
   "source": [
    "#### Examining the distribution of the target variable (duration)"
   ]
  },
  {
   "cell_type": "code",
   "execution_count": 229,
   "metadata": {
    "scrolled": true
   },
   "outputs": [
    {
     "data": {
      "image/png": "[encoded data removed]",
      "text/plain": [
       "<Figure size 576x288 with 2 Axes>"
      ]
     },
     "metadata": {
      "needs_background": "light"
     },
     "output_type": "display_data"
    }
   ],
   "source": [
    "# Plot the target variable distribution\n",
    "fig, (ax1,ax2) = plt.subplots(1,2, figsize=(8,4))\n",
    "data[['Duration']].plot.hist(ax=ax1, legend=False)\n",
    "ax1.vlines(data[['Duration']].mean(), 0, 5600, color='red')\n",
    "ax1.annotate('mean', (data[['Duration']].mean()+50, 5600))\n",
    "ax1.set_xlabel('Duration (days)')\n",
    "np.log(data[['Duration']]).plot.hist(ax=ax2, legend=False);\n",
    "ax2.vlines(np.log(data[['Duration']]).mean(), 0, 3000, color='red')\n",
    "ax2.annotate('mean', (np.log(data[['Duration']]).mean()-1.2, 3000))\n",
    "ax2.set_xlabel('Log duration (days)')\n",
    "plt.suptitle('Duration (days) distribution', y=1.05)\n",
    "plt.tight_layout()"
   ]
  },
  {
   "cell_type": "code",
   "execution_count": 230,
   "metadata": {
    "scrolled": true
   },
   "outputs": [
    {
     "name": "stdout",
     "output_type": "stream",
     "text": [
      "The log mean duration is e^4.93 = 137.8 days\n",
      "The mean duration is 210.5 days\n"
     ]
    }
   ],
   "source": [
    "print(\"The log mean duration is e^{:.2f} = {:.1f} days\".format(\n",
    "    (np.log(data[['Duration']]).mean()[0]), np.exp(np.log(data[['Duration']]).mean()[0])))\n",
    "print(\"The mean duration is {:.1f} days\".format(data[['Duration']].mean()[0]))"
   ]
  },
  {
   "cell_type": "markdown",
   "metadata": {},
   "source": [
    "* We can see that the duration is not normally distributed, it is skewed to right. Log presentation of the duration shows a more normal distribution. \n",
    "* Hence, we will use the log of the duration for the regression analysis."
   ]
  },
  {
   "cell_type": "markdown",
   "metadata": {},
   "source": [
    "#### 1.1 Linear Regression - OLS (StatsModel)"
   ]
  },
  {
   "cell_type": "code",
   "execution_count": 70,
   "metadata": {
    "scrolled": true
   },
   "outputs": [],
   "source": [
    "import statsmodels.api as sm"
   ]
  },
  {
   "cell_type": "code",
   "execution_count": 231,
   "metadata": {},
   "outputs": [],
   "source": [
    "# Create the X and y for the regression\n",
    "X = df_combined.drop('Duration', axis=1)\n",
    "y = np.log(df_combined['Duration'].values.reshape(-1,1)) # taking the log values for y"
   ]
  },
  {
   "cell_type": "code",
   "execution_count": 232,
   "metadata": {
    "scrolled": true
   },
   "outputs": [
    {
     "name": "stdout",
     "output_type": "stream",
     "text": [
      "                            OLS Regression Results                            \n",
      "==============================================================================\n",
      "Dep. Variable:                      y   R-squared:                       0.343\n",
      "Model:                            OLS   Adj. R-squared:                  0.342\n",
      "Method:                 Least Squares   F-statistic:                     211.3\n",
      "Date:                Mon, 28 Oct 2019   Prob (F-statistic):               0.00\n",
      "Time:                        12:10:55   Log-Likelihood:                -9912.3\n",
      "No. Observations:                8513   AIC:                         1.987e+04\n",
      "Df Residuals:                    8491   BIC:                         2.002e+04\n",
      "Df Model:                          21                                         \n",
      "Covariance Type:            nonrobust                                         \n",
      "=================================================================================================\n",
      "                                    coef    std err          t      P>|t|      [0.025      0.975]\n",
      "-------------------------------------------------------------------------------------------------\n",
      "const                             5.8531      0.292     20.071      0.000       5.281       6.425\n",
      "Borough_BROOKLYN                 -0.1612      0.034     -4.807      0.000      -0.227      -0.095\n",
      "Borough_MANHATTAN                 0.1022      0.056      1.821      0.069      -0.008       0.212\n",
      "Borough_QUEENS                   -0.2145      0.035     -6.187      0.000      -0.282      -0.147\n",
      "Borough_STATEN ISLAND            -0.5157      0.040    -12.742      0.000      -0.595      -0.436\n",
      "Building Type                     0.2068      0.032      6.558      0.000       0.145       0.269\n",
      "Efiled                           -0.4305      0.275     -1.564      0.118      -0.970       0.109\n",
      "Pro Title                         0.1163      0.020      5.890      0.000       0.078       0.155\n",
      "Pro Certified                    -0.6897      0.027    -25.421      0.000      -0.743      -0.637\n",
      "Proposed Occupancy_E              0.0868      0.254      0.342      0.733      -0.411       0.585\n",
      "Proposed Occupancy_M              0.1602      0.162      0.986      0.324      -0.158       0.479\n",
      "Proposed Occupancy_Other          0.0684      0.113      0.606      0.545      -0.153       0.289\n",
      "Proposed Occupancy_R-2           -0.1831      0.099     -1.850      0.064      -0.377       0.011\n",
      "Proposed Occupancy_R-3           -0.3401      0.103     -3.311      0.001      -0.542      -0.139\n",
      "Proposed Occupancy_S-2            0.0697      0.159      0.439      0.661      -0.242       0.381\n",
      "Proposed Occupancy_U             -0.5467      0.108     -5.069      0.000      -0.758      -0.335\n",
      "Total Est. Fee                 6.617e-08    4.8e-08      1.378      0.168    -2.8e-08     1.6e-07\n",
      "Proposed Dwelling Units          -0.0010      0.000     -3.909      0.000      -0.001      -0.000\n",
      "Proposed Zoning Sqft           1.284e-07   1.25e-07      1.023      0.306   -1.18e-07    3.74e-07\n",
      "Proposed No. Of Stories           0.0115      0.004      2.727      0.006       0.003       0.020\n",
      "Total_Construction_Floor_Area  4.039e-08   1.29e-07      0.313      0.754   -2.13e-07    2.94e-07\n",
      "Proposed Height               -4.894e-05      0.000     -0.203      0.839      -0.001       0.000\n",
      "==============================================================================\n",
      "Omnibus:                      258.526   Durbin-Watson:                   1.670\n",
      "Prob(Omnibus):                  0.000   Jarque-Bera (JB):              670.022\n",
      "Skew:                           0.068   Prob(JB):                    3.21e-146\n",
      "Kurtosis:                       4.368   Cond. No.                     8.82e+06\n",
      "==============================================================================\n",
      "\n",
      "Warnings:\n",
      "[1] Standard Errors assume that the covariance matrix of the errors is correctly specified.\n",
      "[2] The condition number is large, 8.82e+06. This might indicate that there are\n",
      "strong multicollinearity or other numerical problems.\n"
     ]
    },
    {
     "name": "stderr",
     "output_type": "stream",
     "text": [
      "/Users/anushavan/opt/anaconda3/lib/python3.7/site-packages/numpy/core/fromnumeric.py:2495: FutureWarning: Method .ptp is deprecated and will be removed in a future version. Use numpy.ptp instead.\n",
      "  return ptp(axis=axis, out=out, **kwargs)\n"
     ]
    }
   ],
   "source": [
    "X = sm.add_constant(X) # adding a constant\n",
    "model = sm.OLS(y, X, missing='drop').fit()\n",
    "predictions = model.predict(X) \n",
    "\n",
    "print_model = model.summary()\n",
    "print(print_model)"
   ]
  },
  {
   "cell_type": "code",
   "execution_count": 233,
   "metadata": {},
   "outputs": [
    {
     "name": "stdout",
     "output_type": "stream",
     "text": [
      "The adjusted R square of the OLS model is: 0.34\n"
     ]
    }
   ],
   "source": [
    "print(\"The adjusted R square of the OLS model is: {:.2f}\".format(model.rsquared_adj))"
   ]
  },
  {
   "cell_type": "code",
   "execution_count": 250,
   "metadata": {},
   "outputs": [],
   "source": [
    "scaler = StandardScaler()\n",
    "X_scaled = scaler.fit_transform(X)"
   ]
  },
  {
   "cell_type": "code",
   "execution_count": 252,
   "metadata": {},
   "outputs": [
    {
     "data": {
      "text/html": [
       "<div>\n",
       "<style scoped>\n",
       "    .dataframe tbody tr th:only-of-type {\n",
       "        vertical-align: middle;\n",
       "    }\n",
       "\n",
       "    .dataframe tbody tr th {\n",
       "        vertical-align: top;\n",
       "    }\n",
       "\n",
       "    .dataframe thead th {\n",
       "        text-align: right;\n",
       "    }\n",
       "</style>\n",
       "<table border=\"1\" class=\"dataframe\">\n",
       "  <thead>\n",
       "    <tr style=\"text-align: right;\">\n",
       "      <th></th>\n",
       "      <th>0</th>\n",
       "      <th>1</th>\n",
       "      <th>2</th>\n",
       "      <th>3</th>\n",
       "      <th>4</th>\n",
       "      <th>5</th>\n",
       "      <th>6</th>\n",
       "      <th>7</th>\n",
       "      <th>8</th>\n",
       "      <th>9</th>\n",
       "      <th>...</th>\n",
       "      <th>12</th>\n",
       "      <th>13</th>\n",
       "      <th>14</th>\n",
       "      <th>15</th>\n",
       "      <th>16</th>\n",
       "      <th>17</th>\n",
       "      <th>18</th>\n",
       "      <th>19</th>\n",
       "      <th>20</th>\n",
       "      <th>21</th>\n",
       "    </tr>\n",
       "  </thead>\n",
       "  <tbody>\n",
       "    <tr>\n",
       "      <td>0</td>\n",
       "      <td>0.0</td>\n",
       "      <td>-0.632412</td>\n",
       "      <td>-0.214124</td>\n",
       "      <td>1.390924</td>\n",
       "      <td>-0.576523</td>\n",
       "      <td>-0.850854</td>\n",
       "      <td>0.034249</td>\n",
       "      <td>0.604498</td>\n",
       "      <td>-0.553815</td>\n",
       "      <td>-0.096759</td>\n",
       "      <td>...</td>\n",
       "      <td>-0.702607</td>\n",
       "      <td>1.161036</td>\n",
       "      <td>-0.130692</td>\n",
       "      <td>-0.393788</td>\n",
       "      <td>-0.045270</td>\n",
       "      <td>-0.238106</td>\n",
       "      <td>-0.143229</td>\n",
       "      <td>-0.381313</td>\n",
       "      <td>-0.173686</td>\n",
       "      <td>-0.253226</td>\n",
       "    </tr>\n",
       "    <tr>\n",
       "      <td>1</td>\n",
       "      <td>0.0</td>\n",
       "      <td>-0.632412</td>\n",
       "      <td>-0.214124</td>\n",
       "      <td>1.390924</td>\n",
       "      <td>-0.576523</td>\n",
       "      <td>-0.850854</td>\n",
       "      <td>0.034249</td>\n",
       "      <td>0.604498</td>\n",
       "      <td>1.805658</td>\n",
       "      <td>-0.096759</td>\n",
       "      <td>...</td>\n",
       "      <td>-0.702607</td>\n",
       "      <td>-0.861299</td>\n",
       "      <td>-0.130692</td>\n",
       "      <td>2.539434</td>\n",
       "      <td>-0.046111</td>\n",
       "      <td>-0.238106</td>\n",
       "      <td>-0.157403</td>\n",
       "      <td>-0.580864</td>\n",
       "      <td>-0.209543</td>\n",
       "      <td>-0.487465</td>\n",
       "    </tr>\n",
       "    <tr>\n",
       "      <td>2</td>\n",
       "      <td>0.0</td>\n",
       "      <td>1.581247</td>\n",
       "      <td>-0.214124</td>\n",
       "      <td>-0.718946</td>\n",
       "      <td>-0.576523</td>\n",
       "      <td>1.175290</td>\n",
       "      <td>0.034249</td>\n",
       "      <td>0.604498</td>\n",
       "      <td>-0.553815</td>\n",
       "      <td>-0.096759</td>\n",
       "      <td>...</td>\n",
       "      <td>1.423271</td>\n",
       "      <td>-0.861299</td>\n",
       "      <td>-0.130692</td>\n",
       "      <td>-0.393788</td>\n",
       "      <td>-0.033698</td>\n",
       "      <td>-0.125028</td>\n",
       "      <td>-0.123774</td>\n",
       "      <td>0.017789</td>\n",
       "      <td>-0.137025</td>\n",
       "      <td>0.068853</td>\n",
       "    </tr>\n",
       "    <tr>\n",
       "      <td>3</td>\n",
       "      <td>0.0</td>\n",
       "      <td>-0.632412</td>\n",
       "      <td>-0.214124</td>\n",
       "      <td>-0.718946</td>\n",
       "      <td>1.734535</td>\n",
       "      <td>-0.850854</td>\n",
       "      <td>0.034249</td>\n",
       "      <td>0.604498</td>\n",
       "      <td>-0.553815</td>\n",
       "      <td>-0.096759</td>\n",
       "      <td>...</td>\n",
       "      <td>-0.702607</td>\n",
       "      <td>1.161036</td>\n",
       "      <td>-0.130692</td>\n",
       "      <td>-0.393788</td>\n",
       "      <td>-0.043240</td>\n",
       "      <td>-0.256952</td>\n",
       "      <td>-0.151822</td>\n",
       "      <td>-0.181762</td>\n",
       "      <td>-0.192733</td>\n",
       "      <td>-0.121466</td>\n",
       "    </tr>\n",
       "    <tr>\n",
       "      <td>4</td>\n",
       "      <td>0.0</td>\n",
       "      <td>1.581247</td>\n",
       "      <td>-0.214124</td>\n",
       "      <td>-0.718946</td>\n",
       "      <td>-0.576523</td>\n",
       "      <td>1.175290</td>\n",
       "      <td>0.034249</td>\n",
       "      <td>0.604498</td>\n",
       "      <td>-0.553815</td>\n",
       "      <td>-0.096759</td>\n",
       "      <td>...</td>\n",
       "      <td>1.423271</td>\n",
       "      <td>-0.861299</td>\n",
       "      <td>-0.130692</td>\n",
       "      <td>-0.393788</td>\n",
       "      <td>-0.016799</td>\n",
       "      <td>0.025743</td>\n",
       "      <td>-0.070319</td>\n",
       "      <td>0.815992</td>\n",
       "      <td>-0.031384</td>\n",
       "      <td>0.508051</td>\n",
       "    </tr>\n",
       "    <tr>\n",
       "      <td>...</td>\n",
       "      <td>...</td>\n",
       "      <td>...</td>\n",
       "      <td>...</td>\n",
       "      <td>...</td>\n",
       "      <td>...</td>\n",
       "      <td>...</td>\n",
       "      <td>...</td>\n",
       "      <td>...</td>\n",
       "      <td>...</td>\n",
       "      <td>...</td>\n",
       "      <td>...</td>\n",
       "      <td>...</td>\n",
       "      <td>...</td>\n",
       "      <td>...</td>\n",
       "      <td>...</td>\n",
       "      <td>...</td>\n",
       "      <td>...</td>\n",
       "      <td>...</td>\n",
       "      <td>...</td>\n",
       "      <td>...</td>\n",
       "      <td>...</td>\n",
       "    </tr>\n",
       "    <tr>\n",
       "      <td>10237</td>\n",
       "      <td>0.0</td>\n",
       "      <td>-0.632412</td>\n",
       "      <td>-0.214124</td>\n",
       "      <td>-0.718946</td>\n",
       "      <td>1.734535</td>\n",
       "      <td>-0.850854</td>\n",
       "      <td>0.034249</td>\n",
       "      <td>0.604498</td>\n",
       "      <td>-0.553815</td>\n",
       "      <td>-0.096759</td>\n",
       "      <td>...</td>\n",
       "      <td>-0.702607</td>\n",
       "      <td>-0.861299</td>\n",
       "      <td>-0.130692</td>\n",
       "      <td>2.539434</td>\n",
       "      <td>-0.046111</td>\n",
       "      <td>-0.238106</td>\n",
       "      <td>-0.155336</td>\n",
       "      <td>-0.580864</td>\n",
       "      <td>-0.206197</td>\n",
       "      <td>-0.458185</td>\n",
       "    </tr>\n",
       "    <tr>\n",
       "      <td>10238</td>\n",
       "      <td>0.0</td>\n",
       "      <td>-0.632412</td>\n",
       "      <td>-0.214124</td>\n",
       "      <td>-0.718946</td>\n",
       "      <td>1.734535</td>\n",
       "      <td>-0.850854</td>\n",
       "      <td>0.034249</td>\n",
       "      <td>0.604498</td>\n",
       "      <td>1.805658</td>\n",
       "      <td>-0.096759</td>\n",
       "      <td>...</td>\n",
       "      <td>-0.702607</td>\n",
       "      <td>1.161036</td>\n",
       "      <td>-0.130692</td>\n",
       "      <td>-0.393788</td>\n",
       "      <td>-0.045906</td>\n",
       "      <td>-0.256952</td>\n",
       "      <td>-0.150328</td>\n",
       "      <td>-0.381313</td>\n",
       "      <td>-0.190926</td>\n",
       "      <td>-0.238586</td>\n",
       "    </tr>\n",
       "    <tr>\n",
       "      <td>10239</td>\n",
       "      <td>0.0</td>\n",
       "      <td>1.581247</td>\n",
       "      <td>-0.214124</td>\n",
       "      <td>-0.718946</td>\n",
       "      <td>-0.576523</td>\n",
       "      <td>1.175290</td>\n",
       "      <td>0.034249</td>\n",
       "      <td>0.604498</td>\n",
       "      <td>-0.553815</td>\n",
       "      <td>-0.096759</td>\n",
       "      <td>...</td>\n",
       "      <td>1.423271</td>\n",
       "      <td>-0.861299</td>\n",
       "      <td>-0.130692</td>\n",
       "      <td>-0.393788</td>\n",
       "      <td>-0.037759</td>\n",
       "      <td>-0.162721</td>\n",
       "      <td>-0.133549</td>\n",
       "      <td>0.017789</td>\n",
       "      <td>-0.156522</td>\n",
       "      <td>0.127413</td>\n",
       "    </tr>\n",
       "    <tr>\n",
       "      <td>10240</td>\n",
       "      <td>0.0</td>\n",
       "      <td>-0.632412</td>\n",
       "      <td>-0.214124</td>\n",
       "      <td>-0.718946</td>\n",
       "      <td>1.734535</td>\n",
       "      <td>1.175290</td>\n",
       "      <td>0.034249</td>\n",
       "      <td>0.604498</td>\n",
       "      <td>1.805658</td>\n",
       "      <td>-0.096759</td>\n",
       "      <td>...</td>\n",
       "      <td>-0.702607</td>\n",
       "      <td>-0.861299</td>\n",
       "      <td>-0.130692</td>\n",
       "      <td>-0.393788</td>\n",
       "      <td>-0.035579</td>\n",
       "      <td>-0.200413</td>\n",
       "      <td>-0.128044</td>\n",
       "      <td>-0.181762</td>\n",
       "      <td>-0.142896</td>\n",
       "      <td>-0.165386</td>\n",
       "    </tr>\n",
       "    <tr>\n",
       "      <td>10241</td>\n",
       "      <td>0.0</td>\n",
       "      <td>1.581247</td>\n",
       "      <td>-0.214124</td>\n",
       "      <td>-0.718946</td>\n",
       "      <td>-0.576523</td>\n",
       "      <td>1.175290</td>\n",
       "      <td>0.034249</td>\n",
       "      <td>0.604498</td>\n",
       "      <td>1.805658</td>\n",
       "      <td>-0.096759</td>\n",
       "      <td>...</td>\n",
       "      <td>1.423271</td>\n",
       "      <td>-0.861299</td>\n",
       "      <td>-0.130692</td>\n",
       "      <td>-0.393788</td>\n",
       "      <td>-0.033263</td>\n",
       "      <td>-0.087335</td>\n",
       "      <td>-0.116563</td>\n",
       "      <td>0.416890</td>\n",
       "      <td>-0.128420</td>\n",
       "      <td>0.361652</td>\n",
       "    </tr>\n",
       "  </tbody>\n",
       "</table>\n",
       "<p>10242 rows × 22 columns</p>\n",
       "</div>"
      ],
      "text/plain": [
       "        0         1         2         3         4         5         6   \\\n",
       "0      0.0 -0.632412 -0.214124  1.390924 -0.576523 -0.850854  0.034249   \n",
       "1      0.0 -0.632412 -0.214124  1.390924 -0.576523 -0.850854  0.034249   \n",
       "2      0.0  1.581247 -0.214124 -0.718946 -0.576523  1.175290  0.034249   \n",
       "3      0.0 -0.632412 -0.214124 -0.718946  1.734535 -0.850854  0.034249   \n",
       "4      0.0  1.581247 -0.214124 -0.718946 -0.576523  1.175290  0.034249   \n",
       "...    ...       ...       ...       ...       ...       ...       ...   \n",
       "10237  0.0 -0.632412 -0.214124 -0.718946  1.734535 -0.850854  0.034249   \n",
       "10238  0.0 -0.632412 -0.214124 -0.718946  1.734535 -0.850854  0.034249   \n",
       "10239  0.0  1.581247 -0.214124 -0.718946 -0.576523  1.175290  0.034249   \n",
       "10240  0.0 -0.632412 -0.214124 -0.718946  1.734535  1.175290  0.034249   \n",
       "10241  0.0  1.581247 -0.214124 -0.718946 -0.576523  1.175290  0.034249   \n",
       "\n",
       "             7         8         9   ...        12        13        14  \\\n",
       "0      0.604498 -0.553815 -0.096759  ... -0.702607  1.161036 -0.130692   \n",
       "1      0.604498  1.805658 -0.096759  ... -0.702607 -0.861299 -0.130692   \n",
       "2      0.604498 -0.553815 -0.096759  ...  1.423271 -0.861299 -0.130692   \n",
       "3      0.604498 -0.553815 -0.096759  ... -0.702607  1.161036 -0.130692   \n",
       "4      0.604498 -0.553815 -0.096759  ...  1.423271 -0.861299 -0.130692   \n",
       "...         ...       ...       ...  ...       ...       ...       ...   \n",
       "10237  0.604498 -0.553815 -0.096759  ... -0.702607 -0.861299 -0.130692   \n",
       "10238  0.604498  1.805658 -0.096759  ... -0.702607  1.161036 -0.130692   \n",
       "10239  0.604498 -0.553815 -0.096759  ...  1.423271 -0.861299 -0.130692   \n",
       "10240  0.604498  1.805658 -0.096759  ... -0.702607 -0.861299 -0.130692   \n",
       "10241  0.604498  1.805658 -0.096759  ...  1.423271 -0.861299 -0.130692   \n",
       "\n",
       "             15        16        17        18        19        20        21  \n",
       "0     -0.393788 -0.045270 -0.238106 -0.143229 -0.381313 -0.173686 -0.253226  \n",
       "1      2.539434 -0.046111 -0.238106 -0.157403 -0.580864 -0.209543 -0.487465  \n",
       "2     -0.393788 -0.033698 -0.125028 -0.123774  0.017789 -0.137025  0.068853  \n",
       "3     -0.393788 -0.043240 -0.256952 -0.151822 -0.181762 -0.192733 -0.121466  \n",
       "4     -0.393788 -0.016799  0.025743 -0.070319  0.815992 -0.031384  0.508051  \n",
       "...         ...       ...       ...       ...       ...       ...       ...  \n",
       "10237  2.539434 -0.046111 -0.238106 -0.155336 -0.580864 -0.206197 -0.458185  \n",
       "10238 -0.393788 -0.045906 -0.256952 -0.150328 -0.381313 -0.190926 -0.238586  \n",
       "10239 -0.393788 -0.037759 -0.162721 -0.133549  0.017789 -0.156522  0.127413  \n",
       "10240 -0.393788 -0.035579 -0.200413 -0.128044 -0.181762 -0.142896 -0.165386  \n",
       "10241 -0.393788 -0.033263 -0.087335 -0.116563  0.416890 -0.128420  0.361652  \n",
       "\n",
       "[10242 rows x 22 columns]"
      ]
     },
     "execution_count": 252,
     "metadata": {},
     "output_type": "execute_result"
    }
   ],
   "source": [
    "pd.DataFrame(X_scaled)"
   ]
  },
  {
   "cell_type": "markdown",
   "metadata": {},
   "source": [
    "#### 1.2 Linear regression: sklearn LinearRegression"
   ]
  },
  {
   "cell_type": "code",
   "execution_count": 248,
   "metadata": {},
   "outputs": [
    {
     "name": "stdout",
     "output_type": "stream",
     "text": [
      "Average 5-Fold cross-verification Score: 0.38\n"
     ]
    }
   ],
   "source": [
    "from sklearn.pipeline import make_pipeline\n",
    "from sklearn.preprocessing import StandardScaler\n",
    "from sklearn.impute import SimpleImputer # Impute the missing or NaN values\n",
    "from sklearn.linear_model import LinearRegression # import linear regression model\n",
    "from sklearn.model_selection import train_test_split\n",
    "from sklearn.model_selection import cross_val_score # Import cross validation model\n",
    "\n",
    "scaler = StandardScaler()\n",
    "imputer = SimpleImputer(strategy='median') # create the imputer object\n",
    "linreg = LinearRegression() # instantiate linear regression object\n",
    "pipeline = make_pipeline(imputer, linreg)\n",
    "\n",
    "# Split the data into training and test samples\n",
    "X_train, X_test, y_train, y_test = train_test_split(X, y, test_size=0.25, random_state=42)\n",
    "\n",
    "pipeline.fit(X_train, y_train)\n",
    "\n",
    "# Get the mean value of the cross-validation results for R squared values.\n",
    "\n",
    "pipeline.score(X_test, y_test)\n",
    "\n",
    "cv_linreg = cross_val_score(pipeline,X_test, y_test, cv=5).mean()\n",
    "\n",
    "print('Average 5-Fold cross-verification Score: {:.2f}'.format(cv_linreg))"
   ]
  },
  {
   "cell_type": "markdown",
   "metadata": {},
   "source": [
    "#### 1.3 Lasso Regression"
   ]
  },
  {
   "cell_type": "code",
   "execution_count": 75,
   "metadata": {},
   "outputs": [
    {
     "name": "stdout",
     "output_type": "stream",
     "text": [
      "R squared for the lasso regression is 0.26\n"
     ]
    }
   ],
   "source": [
    "from sklearn.linear_model import Lasso\n",
    "\n",
    "# Split the data into training and test samples\n",
    "X_train, X_test, y_train, y_test = train_test_split(X, y, test_size=0.25, random_state=42)\n",
    "\n",
    "# set the lasso variable\n",
    "lasso = Lasso(alpha=0.1)\n",
    "\n",
    "lasso.fit(X_train, y_train) # fit the model on the training set\n",
    "\n",
    "# Obtain the R squared values by cross validation.\n",
    "cv_lasso = cross_val_score(lasso, X_test, y_test, cv=5)\n",
    "\n",
    "cv_lasso = np.mean(cv_lasso)\n",
    "print(\"R squared for the lasso regression is {:.2f}\".format(cv_lasso))"
   ]
  },
  {
   "cell_type": "code",
   "execution_count": 76,
   "metadata": {
    "scrolled": true
   },
   "outputs": [
    {
     "data": {
      "image/png": "[encoded data removed]",
      "text/plain": [
       "<Figure size 432x288 with 1 Axes>"
      ]
     },
     "metadata": {
      "needs_background": "light"
     },
     "output_type": "display_data"
    }
   ],
   "source": [
    "# Lasso regression selects only the most important features. In our case those are the \n",
    "# Building type, Pro Certified and Proposed No. of Stories. \n",
    "\n",
    "names = X.columns # create the names of the variables\n",
    "\n",
    "fig, ax = plt.subplots()\n",
    "ax.bar(range(len(names)),lasso.coef_) # plot the lasso regression coefficients\n",
    "ax.set_xticks(range(len(names)));\n",
    "ax.set_xticklabels(names, rotation=90)\n",
    "for i, v in enumerate(lasso.coef_): # color coefficients red (negative) or green (positive)\n",
    "    if v < 0:\n",
    "        ax.get_children()[i].set_color('red')\n",
    "    else:\n",
    "        ax.get_children()[i].set_color('green')"
   ]
  },
  {
   "cell_type": "markdown",
   "metadata": {},
   "source": [
    "* Lasso model is Helpful for feature selection. Identifies the most important variables.\n",
    "* The most important variables are the building type (1-2-3 family or Other, professional certification and proposed number of stories). Namely, the duration \n",
    "    * increases if the building is type \"other\"\n",
    "    * decreases if the application is professionally certified\n",
    "    * increases if the number of stories is high"
   ]
  },
  {
   "cell_type": "markdown",
   "metadata": {},
   "source": [
    "#### Ridge Regression"
   ]
  },
  {
   "cell_type": "code",
   "execution_count": 77,
   "metadata": {},
   "outputs": [],
   "source": [
    "from sklearn import linear_model\n",
    "from sklearn.linear_model import Ridge"
   ]
  },
  {
   "cell_type": "code",
   "execution_count": 156,
   "metadata": {
    "scrolled": false
   },
   "outputs": [
    {
     "name": "stdout",
     "output_type": "stream",
     "text": [
      "R squared for the ridge regression is 0.36\n"
     ]
    }
   ],
   "source": [
    "# Split data into test and train sets\n",
    "X_train, X_test, y_train, y_test = train_test_split(X, y, test_size=0.30, random_state=42)\n",
    "# Instantiate the ridge regression and fit the train data\n",
    "\n",
    "# Ridge regression with built-in cross-validation for alpha values\n",
    "ridgecv = linear_model.RidgeCV(alphas=np.logspace(-6, 6, 13))\n",
    "\n",
    "ridgecv.fit(X_train, y_train)\n",
    "\n",
    "alpha = reg.alpha_\n",
    "\n",
    "# compute and print the R2: how much of the variance in the y is explained by the model.\n",
    "\n",
    "ridge_R_cv = np.mean(cross_val_score(ridgecv, X_test, y_test, cv=5))\n",
    "\n",
    "print(\"R squared for the ridge regression is {:.2f}\".format(ridge_R_cv))"
   ]
  },
  {
   "cell_type": "code",
   "execution_count": null,
   "metadata": {},
   "outputs": [],
   "source": []
  },
  {
   "cell_type": "code",
   "execution_count": 143,
   "metadata": {
    "scrolled": true
   },
   "outputs": [
    {
     "data": {
      "image/png": "[encoded data removed]",
      "text/plain": [
       "<Figure size 432x288 with 1 Axes>"
      ]
     },
     "metadata": {
      "needs_background": "light"
     },
     "output_type": "display_data"
    }
   ],
   "source": [
    "# Plot all regression R squares to see which one performs the best\n",
    "\n",
    "r_squares = [cv_linreg,cv_lasso,ridge_R_cv]\n",
    "plt.bar(range(len(r_squares)),np.sort(r_squares))\n",
    "plt.xticks((0,1,2),('lasso','ridge','linear'))\n",
    "plt.ylabel('R squared');\n",
    "plt.title('R squares of different regressions');\n",
    "plt.annotate(str(cv_lasso.round(2)), (-0.1,cv_lasso+0.01))\n",
    "plt.annotate(str(ridge_R_cv.round(2)), (1,ridge_R_cv+0.01))\n",
    "plt.annotate(str(cv_linreg.round(2)), (2,cv_linreg+0.005));\n",
    "plt.tight_layout()"
   ]
  },
  {
   "cell_type": "code",
   "execution_count": 136,
   "metadata": {},
   "outputs": [
    {
     "data": {
      "text/plain": [
       "array([0.37, 0.26, 0.36])"
      ]
     },
     "execution_count": 136,
     "metadata": {},
     "output_type": "execute_result"
    }
   ],
   "source": [
    "np.round(r_squares,2)"
   ]
  },
  {
   "cell_type": "code",
   "execution_count": 79,
   "metadata": {},
   "outputs": [],
   "source": [
    "from sklearn.pipeline import make_pipeline\n",
    "from sklearn.impute import SimpleImputer\n",
    "from sklearn.preprocessing import StandardScaler"
   ]
  }
 ],
 "metadata": {
  "kernelspec": {
   "display_name": "Python 3",
   "language": "python",
   "name": "python3"
  },
  "language_info": {
   "codemirror_mode": {
    "name": "ipython",
    "version": 3
   },
   "file_extension": ".py",
   "mimetype": "text/x-python",
   "name": "python",
   "nbconvert_exporter": "python",
   "pygments_lexer": "ipython3",
   "version": "3.7.4"
  }
 },
 "nbformat": 4,
 "nbformat_minor": 2
}
