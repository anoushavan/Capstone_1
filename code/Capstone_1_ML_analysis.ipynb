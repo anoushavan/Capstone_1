{
 "cells": [
  {
   "cell_type": "code",
   "execution_count": 1,
   "metadata": {},
   "outputs": [
    {
     "name": "stderr",
     "output_type": "stream",
     "text": [
      "Matplotlib is building the font cache using fc-list. This may take a moment.\n"
     ]
    }
   ],
   "source": [
    "import pandas as pd\n",
    "import numpy as np\n",
    "from matplotlib import pyplot as plt\n",
    "import seaborn as sns"
   ]
  },
  {
   "cell_type": "code",
   "execution_count": 2,
   "metadata": {},
   "outputs": [],
   "source": [
    "%matplotlib inline"
   ]
  },
  {
   "cell_type": "code",
   "execution_count": 3,
   "metadata": {},
   "outputs": [],
   "source": [
    "data = pd.read_csv('data/cleaned_data.csv', \n",
    "                   parse_dates=['Fully Paid','Approved']).drop(['Unnamed: 0'],axis=1)"
   ]
  },
  {
   "cell_type": "code",
   "execution_count": 4,
   "metadata": {},
   "outputs": [],
   "source": [
    "# Select only the past 5 years of data to make sure the data is relevant\n",
    "data = data[data['Fully Paid'] > '2014-05-15']"
   ]
  },
  {
   "cell_type": "code",
   "execution_count": 5,
   "metadata": {},
   "outputs": [
    {
     "data": {
      "text/html": [
       "<div>\n",
       "<style scoped>\n",
       "    .dataframe tbody tr th:only-of-type {\n",
       "        vertical-align: middle;\n",
       "    }\n",
       "\n",
       "    .dataframe tbody tr th {\n",
       "        vertical-align: top;\n",
       "    }\n",
       "\n",
       "    .dataframe thead th {\n",
       "        text-align: right;\n",
       "    }\n",
       "</style>\n",
       "<table border=\"1\" class=\"dataframe\">\n",
       "  <thead>\n",
       "    <tr style=\"text-align: right;\">\n",
       "      <th></th>\n",
       "      <th>Borough_BROOKLYN</th>\n",
       "      <th>Borough_MANHATTAN</th>\n",
       "      <th>Borough_QUEENS</th>\n",
       "      <th>Borough_STATEN ISLAND</th>\n",
       "      <th>Building Type</th>\n",
       "      <th>Efiled</th>\n",
       "      <th>Pro Title</th>\n",
       "      <th>Pro Certified</th>\n",
       "      <th>Duration</th>\n",
       "    </tr>\n",
       "  </thead>\n",
       "  <tbody>\n",
       "    <tr>\n",
       "      <td>0</td>\n",
       "      <td>0</td>\n",
       "      <td>0</td>\n",
       "      <td>1</td>\n",
       "      <td>0</td>\n",
       "      <td>0</td>\n",
       "      <td>1</td>\n",
       "      <td>1</td>\n",
       "      <td>0</td>\n",
       "      <td>158.0</td>\n",
       "    </tr>\n",
       "    <tr>\n",
       "      <td>3</td>\n",
       "      <td>0</td>\n",
       "      <td>0</td>\n",
       "      <td>1</td>\n",
       "      <td>0</td>\n",
       "      <td>0</td>\n",
       "      <td>1</td>\n",
       "      <td>1</td>\n",
       "      <td>1</td>\n",
       "      <td>87.0</td>\n",
       "    </tr>\n",
       "    <tr>\n",
       "      <td>4</td>\n",
       "      <td>1</td>\n",
       "      <td>0</td>\n",
       "      <td>0</td>\n",
       "      <td>0</td>\n",
       "      <td>1</td>\n",
       "      <td>1</td>\n",
       "      <td>1</td>\n",
       "      <td>0</td>\n",
       "      <td>193.0</td>\n",
       "    </tr>\n",
       "    <tr>\n",
       "      <td>5</td>\n",
       "      <td>0</td>\n",
       "      <td>0</td>\n",
       "      <td>0</td>\n",
       "      <td>1</td>\n",
       "      <td>0</td>\n",
       "      <td>1</td>\n",
       "      <td>1</td>\n",
       "      <td>0</td>\n",
       "      <td>234.0</td>\n",
       "    </tr>\n",
       "    <tr>\n",
       "      <td>6</td>\n",
       "      <td>1</td>\n",
       "      <td>0</td>\n",
       "      <td>0</td>\n",
       "      <td>0</td>\n",
       "      <td>1</td>\n",
       "      <td>1</td>\n",
       "      <td>1</td>\n",
       "      <td>0</td>\n",
       "      <td>89.0</td>\n",
       "    </tr>\n",
       "  </tbody>\n",
       "</table>\n",
       "</div>"
      ],
      "text/plain": [
       "   Borough_BROOKLYN  Borough_MANHATTAN  Borough_QUEENS  Borough_STATEN ISLAND  \\\n",
       "0                 0                  0               1                      0   \n",
       "3                 0                  0               1                      0   \n",
       "4                 1                  0               0                      0   \n",
       "5                 0                  0               0                      1   \n",
       "6                 1                  0               0                      0   \n",
       "\n",
       "   Building Type  Efiled  Pro Title  Pro Certified  Duration  \n",
       "0              0       1          1              0     158.0  \n",
       "3              0       1          1              1      87.0  \n",
       "4              1       1          1              0     193.0  \n",
       "5              0       1          1              0     234.0  \n",
       "6              1       1          1              0      89.0  "
      ]
     },
     "execution_count": 5,
     "metadata": {},
     "output_type": "execute_result"
    }
   ],
   "source": [
    "df_cat = pd.get_dummies(data[['Borough', 'Building Type', 'Efiling Filed',\n",
    "        'Applicant Professional Title', 'Professional Cert']], drop_first = True)\n",
    "df_cat['Duration'] = data['Duration']\n",
    "df_cat = df_cat.rename(columns={'Building Type_OTHERS':'Building Type',\n",
    "                                'Efiling Filed_Y':'Efiled',\n",
    "                               'Applicant Professional Title_RA':'Pro Title',\n",
    "                               'Professional Cert_Y':'Pro Certified'})\n",
    "df_cat.head()"
   ]
  },
  {
   "cell_type": "code",
   "execution_count": 6,
   "metadata": {},
   "outputs": [
    {
     "data": {
      "text/html": [
       "<div>\n",
       "<style scoped>\n",
       "    .dataframe tbody tr th:only-of-type {\n",
       "        vertical-align: middle;\n",
       "    }\n",
       "\n",
       "    .dataframe tbody tr th {\n",
       "        vertical-align: top;\n",
       "    }\n",
       "\n",
       "    .dataframe thead th {\n",
       "        text-align: right;\n",
       "    }\n",
       "</style>\n",
       "<table border=\"1\" class=\"dataframe\">\n",
       "  <thead>\n",
       "    <tr style=\"text-align: right;\">\n",
       "      <th></th>\n",
       "      <th>Borough_BROOKLYN</th>\n",
       "      <th>Borough_MANHATTAN</th>\n",
       "      <th>Borough_QUEENS</th>\n",
       "      <th>Borough_STATEN ISLAND</th>\n",
       "      <th>Building Type</th>\n",
       "      <th>Efiled</th>\n",
       "      <th>Pro Title</th>\n",
       "      <th>Pro Certified</th>\n",
       "      <th>Duration</th>\n",
       "      <th>Total Est. Fee</th>\n",
       "      <th>Proposed Zoning Sqft</th>\n",
       "      <th>Proposed No. Of Stories</th>\n",
       "    </tr>\n",
       "  </thead>\n",
       "  <tbody>\n",
       "    <tr>\n",
       "      <td>0</td>\n",
       "      <td>0</td>\n",
       "      <td>0</td>\n",
       "      <td>1</td>\n",
       "      <td>0</td>\n",
       "      <td>0</td>\n",
       "      <td>1</td>\n",
       "      <td>1</td>\n",
       "      <td>0</td>\n",
       "      <td>158.0</td>\n",
       "      <td>243.0</td>\n",
       "      <td>2700</td>\n",
       "      <td>2</td>\n",
       "    </tr>\n",
       "    <tr>\n",
       "      <td>3</td>\n",
       "      <td>0</td>\n",
       "      <td>0</td>\n",
       "      <td>1</td>\n",
       "      <td>0</td>\n",
       "      <td>0</td>\n",
       "      <td>1</td>\n",
       "      <td>1</td>\n",
       "      <td>1</td>\n",
       "      <td>87.0</td>\n",
       "      <td>100.0</td>\n",
       "      <td>300</td>\n",
       "      <td>1</td>\n",
       "    </tr>\n",
       "  </tbody>\n",
       "</table>\n",
       "</div>"
      ],
      "text/plain": [
       "   Borough_BROOKLYN  Borough_MANHATTAN  Borough_QUEENS  Borough_STATEN ISLAND  \\\n",
       "0                 0                  0               1                      0   \n",
       "3                 0                  0               1                      0   \n",
       "\n",
       "   Building Type  Efiled  Pro Title  Pro Certified  Duration  Total Est. Fee  \\\n",
       "0              0       1          1              0     158.0           243.0   \n",
       "3              0       1          1              1      87.0           100.0   \n",
       "\n",
       "   Proposed Zoning Sqft  Proposed No. Of Stories  \n",
       "0                  2700                        2  \n",
       "3                   300                        1  "
      ]
     },
     "execution_count": 6,
     "metadata": {},
     "output_type": "execute_result"
    }
   ],
   "source": [
    "# Create a combined dataframe with the columns to use for prediction\n",
    "df_combined = pd.merge(df_cat, data[['Total Est. Fee',\n",
    "    'Proposed Zoning Sqft', 'Proposed No. Of Stories']], left_index=True, right_index=True)\n",
    "df_combined.head(2)"
   ]
  },
  {
   "cell_type": "markdown",
   "metadata": {},
   "source": [
    "#### Linear Regression - Multivariate"
   ]
  },
  {
   "cell_type": "code",
   "execution_count": 7,
   "metadata": {},
   "outputs": [],
   "source": [
    "from sklearn.model_selection import train_test_split\n",
    "from sklearn.linear_model import LinearRegression"
   ]
  },
  {
   "cell_type": "code",
   "execution_count": 8,
   "metadata": {},
   "outputs": [],
   "source": [
    "# Create the X and y for the regression\n",
    "X = df_combined.drop('Duration', axis=1)\n",
    "y = np.log(df_combined['Duration'].values.reshape(-1,1))"
   ]
  },
  {
   "cell_type": "code",
   "execution_count": 9,
   "metadata": {
    "scrolled": true
   },
   "outputs": [
    {
     "name": "stdout",
     "output_type": "stream",
     "text": [
      "R^2 = 0.386\n"
     ]
    }
   ],
   "source": [
    "# Create the training and test data\n",
    "X_train, X_test, y_train, y_test = train_test_split(X, y,test_size=0.20, random_state=42)\n",
    "\n",
    "# Create the regressor: reg\n",
    "reg = LinearRegression()\n",
    "\n",
    "# train the model\n",
    "reg.fit(X_train, y_train)\n",
    "\n",
    "# compute the real prediction on the test data\n",
    "y_pred = reg.predict(X_test)\n",
    "\n",
    "# Print R^2 \n",
    "print(\"R^2 = {}\".format(reg.score(X_test, y_test).round(3)))"
   ]
  },
  {
   "cell_type": "code",
   "execution_count": 10,
   "metadata": {},
   "outputs": [],
   "source": [
    "# Cross-validate the results\n",
    "# Import cross validation model.\n",
    "from sklearn.model_selection import cross_val_score"
   ]
  },
  {
   "cell_type": "code",
   "execution_count": 11,
   "metadata": {},
   "outputs": [
    {
     "name": "stdout",
     "output_type": "stream",
     "text": [
      "Average 5-Fold cross-verification Score: 0.325\n"
     ]
    }
   ],
   "source": [
    "# Obtain the R squared values by cross validation.\n",
    "cv_results = cross_val_score(reg, X, y, cv=5)\n",
    "\n",
    "# Get the mean value of the cross-validation results for R squared values.\n",
    "mean_R2 = cv_results.mean().round(3)\n",
    "\n",
    "print('Average 5-Fold cross-verification Score: {}'.format(mean_R2))"
   ]
  },
  {
   "cell_type": "markdown",
   "metadata": {},
   "source": [
    "#### Lasso Regression\n",
    "\n",
    "* Helpful for feature selection. Identifies the most important variables."
   ]
  },
  {
   "cell_type": "code",
   "execution_count": 12,
   "metadata": {},
   "outputs": [],
   "source": [
    "from sklearn.linear_model import Lasso"
   ]
  },
  {
   "cell_type": "code",
   "execution_count": 13,
   "metadata": {},
   "outputs": [
    {
     "data": {
      "text/plain": [
       "array([ 0.,  0., -0., -0.,  0., -0.,  0., -0.,  0.,  0.,  0.])"
      ]
     },
     "execution_count": 13,
     "metadata": {},
     "output_type": "execute_result"
    }
   ],
   "source": [
    "# create the names of the variables\n",
    "names = X.columns\n",
    "\n",
    "# set the lasso variable\n",
    "lasso = Lasso(alpha=0.1, normalize=True)\n",
    "lasso_coef = lasso.fit(X,y).coef_\n",
    "lasso_coef"
   ]
  },
  {
   "cell_type": "code",
   "execution_count": 14,
   "metadata": {
    "scrolled": false
   },
   "outputs": [
    {
     "data": {
      "image/png": "[encoded data removed]",
      "text/plain": [
       "<Figure size 432x288 with 1 Axes>"
      ]
     },
     "metadata": {
      "needs_background": "light"
     },
     "output_type": "display_data"
    }
   ],
   "source": [
    "fig, ax = plt.subplots()\n",
    "ax.bar(range(len(names)),lasso_coef)\n",
    "ax.set_xticks(range(len(names)));\n",
    "ax.set_xticklabels(names, rotation=90)\n",
    "for i, v in enumerate(lasso_coef):\n",
    "    if v < 0:\n",
    "        ax.get_children()[i].set_color('red')\n",
    "    else:\n",
    "        ax.get_children()[i].set_color('green')"
   ]
  },
  {
   "cell_type": "code",
   "execution_count": 15,
   "metadata": {},
   "outputs": [],
   "source": [
    "data['LogDur']= np.log(data['Duration'])"
   ]
  },
  {
   "cell_type": "code",
   "execution_count": 16,
   "metadata": {},
   "outputs": [
    {
     "data": {
      "image/png": "[encoded data removed]",
      "text/plain": [
       "<Figure size 432x288 with 1 Axes>"
      ]
     },
     "metadata": {
      "needs_background": "light"
     },
     "output_type": "display_data"
    }
   ],
   "source": [
    "plt.hist(data['LogDur']);"
   ]
  },
  {
   "cell_type": "code",
   "execution_count": null,
   "metadata": {},
   "outputs": [],
   "source": []
  },
  {
   "cell_type": "markdown",
   "metadata": {},
   "source": [
    "#### Ridge Regression"
   ]
  },
  {
   "cell_type": "code",
   "execution_count": 17,
   "metadata": {},
   "outputs": [],
   "source": [
    "from sklearn.linear_model import Ridge\n",
    "from sklearn.model_selection import cross_val_score\n",
    "from sklearn.model_selection import train_test_split"
   ]
  },
  {
   "cell_type": "code",
   "execution_count": 18,
   "metadata": {},
   "outputs": [
    {
     "data": {
      "text/plain": [
       "0.35685331254716474"
      ]
     },
     "execution_count": 18,
     "metadata": {},
     "output_type": "execute_result"
    }
   ],
   "source": [
    "# Split data into test and train sets\n",
    "X_train, X_test, y_train, y_test = train_test_split(X, y, test_size=0.30, random_state=42)\n",
    "# Instantiate the ridge regression and fit the train data\n",
    "ridge = Ridge(normalize=True, alpha=0.1)\n",
    "ridge.fit(X_train, y_train)\n",
    "# predict the values\n",
    "ridge_pred = ridge.predict(X_test)\n",
    "# compute the R2: how much of the variance in the y is explained by the model. \n",
    "ridge.score(X_test, y_test)"
   ]
  },
  {
   "cell_type": "code",
   "execution_count": 19,
   "metadata": {
    "scrolled": true
   },
   "outputs": [
    {
     "data": {
      "image/png": "[encoded data removed]",
      "text/plain": [
       "<Figure size 432x288 with 1 Axes>"
      ]
     },
     "metadata": {
      "needs_background": "light"
     },
     "output_type": "display_data"
    }
   ],
   "source": [
    "data.boxplot(column='Duration', by='Borough');"
   ]
  },
  {
   "cell_type": "code",
   "execution_count": 76,
   "metadata": {},
   "outputs": [],
   "source": [
    "from sklearn.preprocessing import scale"
   ]
  },
  {
   "cell_type": "code",
   "execution_count": 77,
   "metadata": {},
   "outputs": [],
   "source": [
    "data['Scaled_dur'] = scale(data['Duration'])"
   ]
  },
  {
   "cell_type": "code",
   "execution_count": 78,
   "metadata": {},
   "outputs": [
    {
     "data": {
      "text/html": [
       "<div>\n",
       "<style scoped>\n",
       "    .dataframe tbody tr th:only-of-type {\n",
       "        vertical-align: middle;\n",
       "    }\n",
       "\n",
       "    .dataframe tbody tr th {\n",
       "        vertical-align: top;\n",
       "    }\n",
       "\n",
       "    .dataframe thead th {\n",
       "        text-align: right;\n",
       "    }\n",
       "</style>\n",
       "<table border=\"1\" class=\"dataframe\">\n",
       "  <thead>\n",
       "    <tr style=\"text-align: right;\">\n",
       "      <th></th>\n",
       "      <th>Borough</th>\n",
       "      <th>Building Type</th>\n",
       "      <th>Efiling Filed</th>\n",
       "      <th>Applicant Professional Title</th>\n",
       "      <th>Professional Cert</th>\n",
       "      <th>Fully Paid</th>\n",
       "      <th>Approved</th>\n",
       "      <th>Total Est. Fee</th>\n",
       "      <th>Proposed Zoning Sqft</th>\n",
       "      <th>Proposed No. Of Stories</th>\n",
       "      <th>...</th>\n",
       "      <th>Zoning Dist3</th>\n",
       "      <th>Special District 1</th>\n",
       "      <th>Special District 2</th>\n",
       "      <th>Non-Profit</th>\n",
       "      <th>Total_Construction_Floor_Area</th>\n",
       "      <th>Signoff_Date</th>\n",
       "      <th>Duration</th>\n",
       "      <th>Z_score</th>\n",
       "      <th>LogDur</th>\n",
       "      <th>Scaled_dur</th>\n",
       "    </tr>\n",
       "  </thead>\n",
       "  <tbody>\n",
       "    <tr>\n",
       "      <td>0</td>\n",
       "      <td>QUEENS</td>\n",
       "      <td>1-2-3 FAMILY</td>\n",
       "      <td>Y</td>\n",
       "      <td>RA</td>\n",
       "      <td>N</td>\n",
       "      <td>2018-11-02</td>\n",
       "      <td>2019-04-09</td>\n",
       "      <td>243.00</td>\n",
       "      <td>2700</td>\n",
       "      <td>2</td>\n",
       "      <td>...</td>\n",
       "      <td>NaN</td>\n",
       "      <td>NaN</td>\n",
       "      <td>NaN</td>\n",
       "      <td>N</td>\n",
       "      <td>4050</td>\n",
       "      <td>NaN</td>\n",
       "      <td>158.0</td>\n",
       "      <td>-0.035313</td>\n",
       "      <td>5.062595</td>\n",
       "      <td>-0.260427</td>\n",
       "    </tr>\n",
       "    <tr>\n",
       "      <td>3</td>\n",
       "      <td>QUEENS</td>\n",
       "      <td>1-2-3 FAMILY</td>\n",
       "      <td>Y</td>\n",
       "      <td>RA</td>\n",
       "      <td>Y</td>\n",
       "      <td>2018-11-05</td>\n",
       "      <td>2019-01-31</td>\n",
       "      <td>100.00</td>\n",
       "      <td>300</td>\n",
       "      <td>1</td>\n",
       "      <td>...</td>\n",
       "      <td>NaN</td>\n",
       "      <td>NaN</td>\n",
       "      <td>NaN</td>\n",
       "      <td>N</td>\n",
       "      <td>300</td>\n",
       "      <td>NaN</td>\n",
       "      <td>87.0</td>\n",
       "      <td>-0.308763</td>\n",
       "      <td>4.465908</td>\n",
       "      <td>-0.612795</td>\n",
       "    </tr>\n",
       "    <tr>\n",
       "      <td>4</td>\n",
       "      <td>BROOKLYN</td>\n",
       "      <td>OTHERS</td>\n",
       "      <td>Y</td>\n",
       "      <td>RA</td>\n",
       "      <td>N</td>\n",
       "      <td>2014-06-14</td>\n",
       "      <td>2014-12-24</td>\n",
       "      <td>2209.84</td>\n",
       "      <td>5994</td>\n",
       "      <td>4</td>\n",
       "      <td>...</td>\n",
       "      <td>NaN</td>\n",
       "      <td>NaN</td>\n",
       "      <td>NaN</td>\n",
       "      <td>N</td>\n",
       "      <td>7884</td>\n",
       "      <td>2018-05-25</td>\n",
       "      <td>193.0</td>\n",
       "      <td>0.099486</td>\n",
       "      <td>5.262690</td>\n",
       "      <td>-0.086725</td>\n",
       "    </tr>\n",
       "    <tr>\n",
       "      <td>5</td>\n",
       "      <td>STATEN ISLAND</td>\n",
       "      <td>1-2-3 FAMILY</td>\n",
       "      <td>Y</td>\n",
       "      <td>RA</td>\n",
       "      <td>N</td>\n",
       "      <td>2015-01-23</td>\n",
       "      <td>2015-09-14</td>\n",
       "      <td>587.96</td>\n",
       "      <td>1245</td>\n",
       "      <td>3</td>\n",
       "      <td>...</td>\n",
       "      <td>NaN</td>\n",
       "      <td>NaN</td>\n",
       "      <td>NaN</td>\n",
       "      <td>N</td>\n",
       "      <td>2058</td>\n",
       "      <td>2018-05-25</td>\n",
       "      <td>234.0</td>\n",
       "      <td>0.257393</td>\n",
       "      <td>5.455321</td>\n",
       "      <td>0.116755</td>\n",
       "    </tr>\n",
       "    <tr>\n",
       "      <td>6</td>\n",
       "      <td>BROOKLYN</td>\n",
       "      <td>OTHERS</td>\n",
       "      <td>Y</td>\n",
       "      <td>RA</td>\n",
       "      <td>N</td>\n",
       "      <td>2015-03-25</td>\n",
       "      <td>2015-06-22</td>\n",
       "      <td>5082.32</td>\n",
       "      <td>15045</td>\n",
       "      <td>8</td>\n",
       "      <td>...</td>\n",
       "      <td>NaN</td>\n",
       "      <td>NaN</td>\n",
       "      <td>NaN</td>\n",
       "      <td>N</td>\n",
       "      <td>18932</td>\n",
       "      <td>NaN</td>\n",
       "      <td>89.0</td>\n",
       "      <td>-0.301060</td>\n",
       "      <td>4.488636</td>\n",
       "      <td>-0.602869</td>\n",
       "    </tr>\n",
       "    <tr>\n",
       "      <td>...</td>\n",
       "      <td>...</td>\n",
       "      <td>...</td>\n",
       "      <td>...</td>\n",
       "      <td>...</td>\n",
       "      <td>...</td>\n",
       "      <td>...</td>\n",
       "      <td>...</td>\n",
       "      <td>...</td>\n",
       "      <td>...</td>\n",
       "      <td>...</td>\n",
       "      <td>...</td>\n",
       "      <td>...</td>\n",
       "      <td>...</td>\n",
       "      <td>...</td>\n",
       "      <td>...</td>\n",
       "      <td>...</td>\n",
       "      <td>...</td>\n",
       "      <td>...</td>\n",
       "      <td>...</td>\n",
       "      <td>...</td>\n",
       "      <td>...</td>\n",
       "    </tr>\n",
       "    <tr>\n",
       "      <td>55840</td>\n",
       "      <td>STATEN ISLAND</td>\n",
       "      <td>1-2-3 FAMILY</td>\n",
       "      <td>Y</td>\n",
       "      <td>RA</td>\n",
       "      <td>N</td>\n",
       "      <td>2018-03-29</td>\n",
       "      <td>2018-05-11</td>\n",
       "      <td>100.00</td>\n",
       "      <td>650</td>\n",
       "      <td>1</td>\n",
       "      <td>...</td>\n",
       "      <td>NaN</td>\n",
       "      <td>SRD</td>\n",
       "      <td>NaN</td>\n",
       "      <td>N</td>\n",
       "      <td>650</td>\n",
       "      <td>NaN</td>\n",
       "      <td>43.0</td>\n",
       "      <td>-0.478224</td>\n",
       "      <td>3.761200</td>\n",
       "      <td>-0.831164</td>\n",
       "    </tr>\n",
       "    <tr>\n",
       "      <td>55841</td>\n",
       "      <td>STATEN ISLAND</td>\n",
       "      <td>1-2-3 FAMILY</td>\n",
       "      <td>Y</td>\n",
       "      <td>RA</td>\n",
       "      <td>Y</td>\n",
       "      <td>2018-03-29</td>\n",
       "      <td>2018-06-29</td>\n",
       "      <td>134.82</td>\n",
       "      <td>1498</td>\n",
       "      <td>2</td>\n",
       "      <td>...</td>\n",
       "      <td>NaN</td>\n",
       "      <td>HS</td>\n",
       "      <td>NaN</td>\n",
       "      <td>N</td>\n",
       "      <td>2247</td>\n",
       "      <td>NaN</td>\n",
       "      <td>92.0</td>\n",
       "      <td>-0.289506</td>\n",
       "      <td>4.521789</td>\n",
       "      <td>-0.587981</td>\n",
       "    </tr>\n",
       "    <tr>\n",
       "      <td>55842</td>\n",
       "      <td>BROOKLYN</td>\n",
       "      <td>OTHERS</td>\n",
       "      <td>Y</td>\n",
       "      <td>RA</td>\n",
       "      <td>N</td>\n",
       "      <td>2018-04-11</td>\n",
       "      <td>2019-05-30</td>\n",
       "      <td>1519.70</td>\n",
       "      <td>4339</td>\n",
       "      <td>4</td>\n",
       "      <td>...</td>\n",
       "      <td>NaN</td>\n",
       "      <td>NaN</td>\n",
       "      <td>NaN</td>\n",
       "      <td>N</td>\n",
       "      <td>5845</td>\n",
       "      <td>NaN</td>\n",
       "      <td>414.0</td>\n",
       "      <td>0.950645</td>\n",
       "      <td>6.025866</td>\n",
       "      <td>1.010082</td>\n",
       "    </tr>\n",
       "    <tr>\n",
       "      <td>55843</td>\n",
       "      <td>STATEN ISLAND</td>\n",
       "      <td>OTHERS</td>\n",
       "      <td>Y</td>\n",
       "      <td>RA</td>\n",
       "      <td>Y</td>\n",
       "      <td>2018-04-02</td>\n",
       "      <td>2018-07-26</td>\n",
       "      <td>1890.20</td>\n",
       "      <td>5271</td>\n",
       "      <td>3</td>\n",
       "      <td>...</td>\n",
       "      <td>NaN</td>\n",
       "      <td>NaN</td>\n",
       "      <td>NaN</td>\n",
       "      <td>N</td>\n",
       "      <td>7270</td>\n",
       "      <td>NaN</td>\n",
       "      <td>115.0</td>\n",
       "      <td>-0.200923</td>\n",
       "      <td>4.744932</td>\n",
       "      <td>-0.473833</td>\n",
       "    </tr>\n",
       "    <tr>\n",
       "      <td>55845</td>\n",
       "      <td>BROOKLYN</td>\n",
       "      <td>OTHERS</td>\n",
       "      <td>Y</td>\n",
       "      <td>RA</td>\n",
       "      <td>Y</td>\n",
       "      <td>2018-04-03</td>\n",
       "      <td>2018-04-24</td>\n",
       "      <td>2283.84</td>\n",
       "      <td>7215</td>\n",
       "      <td>6</td>\n",
       "      <td>...</td>\n",
       "      <td>NaN</td>\n",
       "      <td>NaN</td>\n",
       "      <td>NaN</td>\n",
       "      <td>N</td>\n",
       "      <td>8784</td>\n",
       "      <td>NaN</td>\n",
       "      <td>21.0</td>\n",
       "      <td>-0.562955</td>\n",
       "      <td>3.044522</td>\n",
       "      <td>-0.940349</td>\n",
       "    </tr>\n",
       "  </tbody>\n",
       "</table>\n",
       "<p>10242 rows × 25 columns</p>\n",
       "</div>"
      ],
      "text/plain": [
       "             Borough Building Type Efiling Filed Applicant Professional Title  \\\n",
       "0             QUEENS  1-2-3 FAMILY             Y                           RA   \n",
       "3             QUEENS  1-2-3 FAMILY             Y                           RA   \n",
       "4           BROOKLYN        OTHERS             Y                           RA   \n",
       "5      STATEN ISLAND  1-2-3 FAMILY             Y                           RA   \n",
       "6           BROOKLYN        OTHERS             Y                           RA   \n",
       "...              ...           ...           ...                          ...   \n",
       "55840  STATEN ISLAND  1-2-3 FAMILY             Y                           RA   \n",
       "55841  STATEN ISLAND  1-2-3 FAMILY             Y                           RA   \n",
       "55842       BROOKLYN        OTHERS             Y                           RA   \n",
       "55843  STATEN ISLAND        OTHERS             Y                           RA   \n",
       "55845       BROOKLYN        OTHERS             Y                           RA   \n",
       "\n",
       "      Professional Cert Fully Paid   Approved  Total Est. Fee  \\\n",
       "0                     N 2018-11-02 2019-04-09          243.00   \n",
       "3                     Y 2018-11-05 2019-01-31          100.00   \n",
       "4                     N 2014-06-14 2014-12-24         2209.84   \n",
       "5                     N 2015-01-23 2015-09-14          587.96   \n",
       "6                     N 2015-03-25 2015-06-22         5082.32   \n",
       "...                 ...        ...        ...             ...   \n",
       "55840                 N 2018-03-29 2018-05-11          100.00   \n",
       "55841                 Y 2018-03-29 2018-06-29          134.82   \n",
       "55842                 N 2018-04-11 2019-05-30         1519.70   \n",
       "55843                 Y 2018-04-02 2018-07-26         1890.20   \n",
       "55845                 Y 2018-04-03 2018-04-24         2283.84   \n",
       "\n",
       "       Proposed Zoning Sqft  Proposed No. Of Stories  ...  Zoning Dist3  \\\n",
       "0                      2700                        2  ...           NaN   \n",
       "3                       300                        1  ...           NaN   \n",
       "4                      5994                        4  ...           NaN   \n",
       "5                      1245                        3  ...           NaN   \n",
       "6                     15045                        8  ...           NaN   \n",
       "...                     ...                      ...  ...           ...   \n",
       "55840                   650                        1  ...           NaN   \n",
       "55841                  1498                        2  ...           NaN   \n",
       "55842                  4339                        4  ...           NaN   \n",
       "55843                  5271                        3  ...           NaN   \n",
       "55845                  7215                        6  ...           NaN   \n",
       "\n",
       "       Special District 1 Special District 2 Non-Profit  \\\n",
       "0                     NaN                NaN          N   \n",
       "3                     NaN                NaN          N   \n",
       "4                     NaN                NaN          N   \n",
       "5                     NaN                NaN          N   \n",
       "6                     NaN                NaN          N   \n",
       "...                   ...                ...        ...   \n",
       "55840                 SRD                NaN          N   \n",
       "55841                  HS                NaN          N   \n",
       "55842                 NaN                NaN          N   \n",
       "55843                 NaN                NaN          N   \n",
       "55845                 NaN                NaN          N   \n",
       "\n",
       "      Total_Construction_Floor_Area Signoff_Date Duration   Z_score    LogDur  \\\n",
       "0                              4050          NaN    158.0 -0.035313  5.062595   \n",
       "3                               300          NaN     87.0 -0.308763  4.465908   \n",
       "4                              7884   2018-05-25    193.0  0.099486  5.262690   \n",
       "5                              2058   2018-05-25    234.0  0.257393  5.455321   \n",
       "6                             18932          NaN     89.0 -0.301060  4.488636   \n",
       "...                             ...          ...      ...       ...       ...   \n",
       "55840                           650          NaN     43.0 -0.478224  3.761200   \n",
       "55841                          2247          NaN     92.0 -0.289506  4.521789   \n",
       "55842                          5845          NaN    414.0  0.950645  6.025866   \n",
       "55843                          7270          NaN    115.0 -0.200923  4.744932   \n",
       "55845                          8784          NaN     21.0 -0.562955  3.044522   \n",
       "\n",
       "       Scaled_dur  \n",
       "0       -0.260427  \n",
       "3       -0.612795  \n",
       "4       -0.086725  \n",
       "5        0.116755  \n",
       "6       -0.602869  \n",
       "...           ...  \n",
       "55840   -0.831164  \n",
       "55841   -0.587981  \n",
       "55842    1.010082  \n",
       "55843   -0.473833  \n",
       "55845   -0.940349  \n",
       "\n",
       "[10242 rows x 25 columns]"
      ]
     },
     "execution_count": 78,
     "metadata": {},
     "output_type": "execute_result"
    }
   ],
   "source": [
    "data"
   ]
  },
  {
   "cell_type": "code",
   "execution_count": 22,
   "metadata": {},
   "outputs": [
    {
     "data": {
      "image/png": "[encoded data removed]",
      "text/plain": [
       "<Figure size 432x288 with 1 Axes>"
      ]
     },
     "metadata": {
      "needs_background": "light"
     },
     "output_type": "display_data"
    }
   ],
   "source": [
    "data.boxplot(column='Scaled_dur',by='Borough')\n",
    "plt.suptitle('');\n",
    "plt.xlabel('');\n",
    "plt.ylabel('Scaled duration (standard deviations))');\n",
    "plt.title('Duration scaled to have a mean of 0 and standard deviation of 1');"
   ]
  },
  {
   "cell_type": "code",
   "execution_count": 23,
   "metadata": {},
   "outputs": [],
   "source": [
    "categor_cols = ['Borough', 'Building Type', 'Efiling Filed',\n",
    "       'Applicant Professional Title', 'Professional Cert',\n",
    "       'Proposed Occupancy', 'Zoning Dist1', 'Zoning Dist2', 'Zoning Dist3',\n",
    "       'Special District 1', 'Special District 2', 'Non-Profit']"
   ]
  },
  {
   "cell_type": "code",
   "execution_count": 24,
   "metadata": {},
   "outputs": [],
   "source": [
    "df_cat = data[categor_cols]"
   ]
  },
  {
   "cell_type": "code",
   "execution_count": 107,
   "metadata": {},
   "outputs": [],
   "source": [
    "from sklearn.cluster import KMeans"
   ]
  },
  {
   "cell_type": "code",
   "execution_count": 104,
   "metadata": {
    "scrolled": true
   },
   "outputs": [],
   "source": [
    "from sklearn.impute import SimpleImputer"
   ]
  },
  {
   "cell_type": "code",
   "execution_count": 101,
   "metadata": {},
   "outputs": [],
   "source": [
    "from sklearn.pipeline import Pipeline"
   ]
  },
  {
   "cell_type": "code",
   "execution_count": 92,
   "metadata": {},
   "outputs": [],
   "source": [
    "klass = data[['Borough', 'Building Type', 'Efiling Filed',\n",
    "       'Applicant Professional Title', 'Professional Cert',\n",
    "       'Total Est. Fee', 'Proposed Zoning Sqft',\n",
    "       'Proposed No. Of Stories', 'Proposed Height', 'Proposed Dwelling Units',\n",
    "       'Proposed Occupancy']]"
   ]
  },
  {
   "cell_type": "code",
   "execution_count": 95,
   "metadata": {
    "scrolled": false
   },
   "outputs": [
    {
     "data": {
      "text/html": [
       "<div>\n",
       "<style scoped>\n",
       "    .dataframe tbody tr th:only-of-type {\n",
       "        vertical-align: middle;\n",
       "    }\n",
       "\n",
       "    .dataframe tbody tr th {\n",
       "        vertical-align: top;\n",
       "    }\n",
       "\n",
       "    .dataframe thead th {\n",
       "        text-align: right;\n",
       "    }\n",
       "</style>\n",
       "<table border=\"1\" class=\"dataframe\">\n",
       "  <thead>\n",
       "    <tr style=\"text-align: right;\">\n",
       "      <th></th>\n",
       "      <th>Borough</th>\n",
       "      <th>Building Type</th>\n",
       "      <th>Efiling Filed</th>\n",
       "      <th>Applicant Professional Title</th>\n",
       "      <th>Professional Cert</th>\n",
       "      <th>Total Est. Fee</th>\n",
       "      <th>Proposed Zoning Sqft</th>\n",
       "      <th>Proposed No. Of Stories</th>\n",
       "      <th>Proposed Height</th>\n",
       "      <th>Proposed Dwelling Units</th>\n",
       "      <th>Proposed Occupancy</th>\n",
       "    </tr>\n",
       "  </thead>\n",
       "  <tbody>\n",
       "    <tr>\n",
       "      <td>0</td>\n",
       "      <td>QUEENS</td>\n",
       "      <td>1-2-3 FAMILY</td>\n",
       "      <td>Y</td>\n",
       "      <td>RA</td>\n",
       "      <td>N</td>\n",
       "      <td>243.00</td>\n",
       "      <td>2700</td>\n",
       "      <td>2</td>\n",
       "      <td>28</td>\n",
       "      <td>2.0</td>\n",
       "      <td>R-3</td>\n",
       "    </tr>\n",
       "    <tr>\n",
       "      <td>3</td>\n",
       "      <td>QUEENS</td>\n",
       "      <td>1-2-3 FAMILY</td>\n",
       "      <td>Y</td>\n",
       "      <td>RA</td>\n",
       "      <td>Y</td>\n",
       "      <td>100.00</td>\n",
       "      <td>300</td>\n",
       "      <td>1</td>\n",
       "      <td>12</td>\n",
       "      <td>NaN</td>\n",
       "      <td>U</td>\n",
       "    </tr>\n",
       "    <tr>\n",
       "      <td>4</td>\n",
       "      <td>BROOKLYN</td>\n",
       "      <td>OTHERS</td>\n",
       "      <td>Y</td>\n",
       "      <td>RA</td>\n",
       "      <td>N</td>\n",
       "      <td>2209.84</td>\n",
       "      <td>5994</td>\n",
       "      <td>4</td>\n",
       "      <td>50</td>\n",
       "      <td>8.0</td>\n",
       "      <td>R-2</td>\n",
       "    </tr>\n",
       "    <tr>\n",
       "      <td>5</td>\n",
       "      <td>STATEN ISLAND</td>\n",
       "      <td>1-2-3 FAMILY</td>\n",
       "      <td>Y</td>\n",
       "      <td>RA</td>\n",
       "      <td>N</td>\n",
       "      <td>587.96</td>\n",
       "      <td>1245</td>\n",
       "      <td>3</td>\n",
       "      <td>37</td>\n",
       "      <td>1.0</td>\n",
       "      <td>R-3</td>\n",
       "    </tr>\n",
       "    <tr>\n",
       "      <td>6</td>\n",
       "      <td>BROOKLYN</td>\n",
       "      <td>OTHERS</td>\n",
       "      <td>Y</td>\n",
       "      <td>RA</td>\n",
       "      <td>N</td>\n",
       "      <td>5082.32</td>\n",
       "      <td>15045</td>\n",
       "      <td>8</td>\n",
       "      <td>80</td>\n",
       "      <td>16.0</td>\n",
       "      <td>R-2</td>\n",
       "    </tr>\n",
       "  </tbody>\n",
       "</table>\n",
       "</div>"
      ],
      "text/plain": [
       "         Borough Building Type Efiling Filed Applicant Professional Title  \\\n",
       "0         QUEENS  1-2-3 FAMILY             Y                           RA   \n",
       "3         QUEENS  1-2-3 FAMILY             Y                           RA   \n",
       "4       BROOKLYN        OTHERS             Y                           RA   \n",
       "5  STATEN ISLAND  1-2-3 FAMILY             Y                           RA   \n",
       "6       BROOKLYN        OTHERS             Y                           RA   \n",
       "\n",
       "  Professional Cert  Total Est. Fee  Proposed Zoning Sqft  \\\n",
       "0                 N          243.00                  2700   \n",
       "3                 Y          100.00                   300   \n",
       "4                 N         2209.84                  5994   \n",
       "5                 N          587.96                  1245   \n",
       "6                 N         5082.32                 15045   \n",
       "\n",
       "   Proposed No. Of Stories  Proposed Height  Proposed Dwelling Units  \\\n",
       "0                        2               28                      2.0   \n",
       "3                        1               12                      NaN   \n",
       "4                        4               50                      8.0   \n",
       "5                        3               37                      1.0   \n",
       "6                        8               80                     16.0   \n",
       "\n",
       "  Proposed Occupancy  \n",
       "0                R-3  \n",
       "3                  U  \n",
       "4                R-2  \n",
       "5                R-3  \n",
       "6                R-2  "
      ]
     },
     "execution_count": 95,
     "metadata": {},
     "output_type": "execute_result"
    }
   ],
   "source": [
    "klass.head()"
   ]
  },
  {
   "cell_type": "code",
   "execution_count": 127,
   "metadata": {},
   "outputs": [],
   "source": [
    "kmeans = KMeans(n_clusters=5)"
   ]
  },
  {
   "cell_type": "code",
   "execution_count": 129,
   "metadata": {},
   "outputs": [],
   "source": [
    "imp = SimpleImputer()"
   ]
  },
  {
   "cell_type": "code",
   "execution_count": 154,
   "metadata": {},
   "outputs": [],
   "source": [
    "def impute_values(df,strategy):\n",
    "    df = df\n",
    "    imp = SimpleImputer(strategy=strategy)\n",
    "    for column in df.columns:\n",
    "        df.loc[:,column] = imp.fit_transform(df[[column]])\n",
    "    return df"
   ]
  },
  {
   "cell_type": "code",
   "execution_count": 171,
   "metadata": {},
   "outputs": [
    {
     "data": {
      "text/plain": [
       "(10242, 11)"
      ]
     },
     "execution_count": 171,
     "metadata": {},
     "output_type": "execute_result"
    }
   ],
   "source": [
    "new_klass.shape"
   ]
  },
  {
   "cell_type": "code",
   "execution_count": 131,
   "metadata": {},
   "outputs": [
    {
     "data": {
      "text/plain": [
       "SimpleImputer(add_indicator=False, copy=True, fill_value=None,\n",
       "              missing_values=nan, strategy='mean', verbose=0)"
      ]
     },
     "execution_count": 131,
     "metadata": {},
     "output_type": "execute_result"
    }
   ],
   "source": [
    "imp.fit(klass[['Proposed No. Of Stories']])"
   ]
  },
  {
   "cell_type": "code",
   "execution_count": 172,
   "metadata": {},
   "outputs": [],
   "source": [
    "pipeline = Pipeline([('imputer',SimpleImputer),\n",
    "                      ('kmeans', KMeans(n_clusters=5))\n",
    "                    ])"
   ]
  },
  {
   "cell_type": "code",
   "execution_count": 178,
   "metadata": {},
   "outputs": [],
   "source": [
    "X = klass[['Proposed No. Of Stories','Proposed Zoning Sqft']]"
   ]
  },
  {
   "cell_type": "code",
   "execution_count": 180,
   "metadata": {},
   "outputs": [],
   "source": [
    "clusters = kmeans.fit_predict(X)"
   ]
  },
  {
   "cell_type": "code",
   "execution_count": 192,
   "metadata": {},
   "outputs": [
    {
     "name": "stderr",
     "output_type": "stream",
     "text": [
      "/Users/anushavan/opt/anaconda3/lib/python3.7/site-packages/ipykernel_launcher.py:1: SettingWithCopyWarning: \n",
      "A value is trying to be set on a copy of a slice from a DataFrame.\n",
      "Try using .loc[row_indexer,col_indexer] = value instead\n",
      "\n",
      "See the caveats in the documentation: http://pandas.pydata.org/pandas-docs/stable/user_guide/indexing.html#returning-a-view-versus-a-copy\n",
      "  \"\"\"Entry point for launching an IPython kernel.\n",
      "/Users/anushavan/opt/anaconda3/lib/python3.7/site-packages/ipykernel_launcher.py:2: SettingWithCopyWarning: \n",
      "A value is trying to be set on a copy of a slice from a DataFrame.\n",
      "Try using .loc[row_indexer,col_indexer] = value instead\n",
      "\n",
      "See the caveats in the documentation: http://pandas.pydata.org/pandas-docs/stable/user_guide/indexing.html#returning-a-view-versus-a-copy\n",
      "  \n"
     ]
    }
   ],
   "source": [
    "X['Clusters'] = clusters\n",
    "X['Borough'] = klass['Borough']"
   ]
  },
  {
   "cell_type": "code",
   "execution_count": 196,
   "metadata": {
    "scrolled": true
   },
   "outputs": [
    {
     "name": "stderr",
     "output_type": "stream",
     "text": [
      "/Users/anushavan/opt/anaconda3/lib/python3.7/site-packages/ipykernel_launcher.py:1: SettingWithCopyWarning: \n",
      "A value is trying to be set on a copy of a slice from a DataFrame.\n",
      "Try using .loc[row_indexer,col_indexer] = value instead\n",
      "\n",
      "See the caveats in the documentation: http://pandas.pydata.org/pandas-docs/stable/user_guide/indexing.html#returning-a-view-versus-a-copy\n",
      "  \"\"\"Entry point for launching an IPython kernel.\n"
     ]
    }
   ],
   "source": [
    "klass['Clusters'] = clusters"
   ]
  },
  {
   "cell_type": "code",
   "execution_count": 200,
   "metadata": {},
   "outputs": [
    {
     "data": {
      "text/html": [
       "<div>\n",
       "<style scoped>\n",
       "    .dataframe tbody tr th:only-of-type {\n",
       "        vertical-align: middle;\n",
       "    }\n",
       "\n",
       "    .dataframe tbody tr th {\n",
       "        vertical-align: top;\n",
       "    }\n",
       "\n",
       "    .dataframe thead th {\n",
       "        text-align: right;\n",
       "    }\n",
       "</style>\n",
       "<table border=\"1\" class=\"dataframe\">\n",
       "  <thead>\n",
       "    <tr style=\"text-align: right;\">\n",
       "      <th></th>\n",
       "      <th>Borough</th>\n",
       "      <th>Building Type</th>\n",
       "      <th>Efiling Filed</th>\n",
       "      <th>Applicant Professional Title</th>\n",
       "      <th>Professional Cert</th>\n",
       "      <th>Total Est. Fee</th>\n",
       "      <th>Proposed Zoning Sqft</th>\n",
       "      <th>Proposed No. Of Stories</th>\n",
       "      <th>Proposed Height</th>\n",
       "      <th>Proposed Dwelling Units</th>\n",
       "      <th>Proposed Occupancy</th>\n",
       "      <th>Clusters</th>\n",
       "    </tr>\n",
       "  </thead>\n",
       "  <tbody>\n",
       "    <tr>\n",
       "      <td>0</td>\n",
       "      <td>QUEENS</td>\n",
       "      <td>1-2-3 FAMILY</td>\n",
       "      <td>Y</td>\n",
       "      <td>RA</td>\n",
       "      <td>N</td>\n",
       "      <td>243.00</td>\n",
       "      <td>2700</td>\n",
       "      <td>2</td>\n",
       "      <td>28</td>\n",
       "      <td>2.0</td>\n",
       "      <td>R-3</td>\n",
       "      <td>3</td>\n",
       "    </tr>\n",
       "    <tr>\n",
       "      <td>3</td>\n",
       "      <td>QUEENS</td>\n",
       "      <td>1-2-3 FAMILY</td>\n",
       "      <td>Y</td>\n",
       "      <td>RA</td>\n",
       "      <td>Y</td>\n",
       "      <td>100.00</td>\n",
       "      <td>300</td>\n",
       "      <td>1</td>\n",
       "      <td>12</td>\n",
       "      <td>1.0</td>\n",
       "      <td>U</td>\n",
       "      <td>3</td>\n",
       "    </tr>\n",
       "    <tr>\n",
       "      <td>4</td>\n",
       "      <td>BROOKLYN</td>\n",
       "      <td>OTHERS</td>\n",
       "      <td>Y</td>\n",
       "      <td>RA</td>\n",
       "      <td>N</td>\n",
       "      <td>2209.84</td>\n",
       "      <td>5994</td>\n",
       "      <td>4</td>\n",
       "      <td>50</td>\n",
       "      <td>8.0</td>\n",
       "      <td>R-2</td>\n",
       "      <td>3</td>\n",
       "    </tr>\n",
       "    <tr>\n",
       "      <td>5</td>\n",
       "      <td>STATEN ISLAND</td>\n",
       "      <td>1-2-3 FAMILY</td>\n",
       "      <td>Y</td>\n",
       "      <td>RA</td>\n",
       "      <td>N</td>\n",
       "      <td>587.96</td>\n",
       "      <td>1245</td>\n",
       "      <td>3</td>\n",
       "      <td>37</td>\n",
       "      <td>1.0</td>\n",
       "      <td>R-3</td>\n",
       "      <td>3</td>\n",
       "    </tr>\n",
       "    <tr>\n",
       "      <td>6</td>\n",
       "      <td>BROOKLYN</td>\n",
       "      <td>OTHERS</td>\n",
       "      <td>Y</td>\n",
       "      <td>RA</td>\n",
       "      <td>N</td>\n",
       "      <td>5082.32</td>\n",
       "      <td>15045</td>\n",
       "      <td>8</td>\n",
       "      <td>80</td>\n",
       "      <td>16.0</td>\n",
       "      <td>R-2</td>\n",
       "      <td>3</td>\n",
       "    </tr>\n",
       "  </tbody>\n",
       "</table>\n",
       "</div>"
      ],
      "text/plain": [
       "         Borough Building Type Efiling Filed Applicant Professional Title  \\\n",
       "0         QUEENS  1-2-3 FAMILY             Y                           RA   \n",
       "3         QUEENS  1-2-3 FAMILY             Y                           RA   \n",
       "4       BROOKLYN        OTHERS             Y                           RA   \n",
       "5  STATEN ISLAND  1-2-3 FAMILY             Y                           RA   \n",
       "6       BROOKLYN        OTHERS             Y                           RA   \n",
       "\n",
       "  Professional Cert  Total Est. Fee  Proposed Zoning Sqft  \\\n",
       "0                 N          243.00                  2700   \n",
       "3                 Y          100.00                   300   \n",
       "4                 N         2209.84                  5994   \n",
       "5                 N          587.96                  1245   \n",
       "6                 N         5082.32                 15045   \n",
       "\n",
       "   Proposed No. Of Stories  Proposed Height  Proposed Dwelling Units  \\\n",
       "0                        2               28                      2.0   \n",
       "3                        1               12                      1.0   \n",
       "4                        4               50                      8.0   \n",
       "5                        3               37                      1.0   \n",
       "6                        8               80                     16.0   \n",
       "\n",
       "  Proposed Occupancy  Clusters  \n",
       "0                R-3         3  \n",
       "3                  U         3  \n",
       "4                R-2         3  \n",
       "5                R-3         3  \n",
       "6                R-2         3  "
      ]
     },
     "execution_count": 200,
     "metadata": {},
     "output_type": "execute_result"
    }
   ],
   "source": [
    "klass.head()"
   ]
  },
  {
   "cell_type": "code",
   "execution_count": 206,
   "metadata": {},
   "outputs": [
    {
     "data": {
      "text/plain": [
       "<matplotlib.axes._subplots.AxesSubplot at 0x1a22fcd350>"
      ]
     },
     "execution_count": 206,
     "metadata": {},
     "output_type": "execute_result"
    },
    {
     "data": {
      "image/png": "[encoded data removed]",
      "text/plain": [
       "<Figure size 432x288 with 1 Axes>"
      ]
     },
     "metadata": {
      "needs_background": "light"
     },
     "output_type": "display_data"
    }
   ],
   "source": [
    "sns.boxplot(data=klass, x='Clusters', y='Proposed Height')"
   ]
  },
  {
   "cell_type": "code",
   "execution_count": 123,
   "metadata": {},
   "outputs": [
    {
     "data": {
      "text/plain": [
       "array([[ 243.  , 2700.  ],\n",
       "       [ 100.  ,  300.  ],\n",
       "       [2209.84, 5994.  ],\n",
       "       ...,\n",
       "       [1519.7 , 4339.  ],\n",
       "       [1890.2 , 5271.  ],\n",
       "       [2283.84, 7215.  ]])"
      ]
     },
     "execution_count": 123,
     "metadata": {},
     "output_type": "execute_result"
    }
   ],
   "source": [
    "klass[['Total Est. Fee','Proposed Zoning Sqft']].values"
   ]
  },
  {
   "cell_type": "code",
   "execution_count": 226,
   "metadata": {},
   "outputs": [],
   "source": [
    "feature_values = np.array([[2, 1]])\n",
    "components = np.array([[1., 0.5, 0.],[0.2,0.1,2.1]])"
   ]
  },
  {
   "cell_type": "code",
   "execution_count": 229,
   "metadata": {},
   "outputs": [
    {
     "data": {
      "text/plain": [
       "array([[2.2, 1.1, 2.1]])"
      ]
     },
     "execution_count": 229,
     "metadata": {},
     "output_type": "execute_result"
    }
   ],
   "source": [
    "np.dot(feature_values, components)"
   ]
  }
 ],
 "metadata": {
  "kernelspec": {
   "display_name": "Python 3",
   "language": "python",
   "name": "python3"
  },
  "language_info": {
   "codemirror_mode": {
    "name": "ipython",
    "version": 3
   },
   "file_extension": ".py",
   "mimetype": "text/x-python",
   "name": "python",
   "nbconvert_exporter": "python",
   "pygments_lexer": "ipython3",
   "version": "3.7.4"
  }
 },
 "nbformat": 4,
 "nbformat_minor": 2
}
