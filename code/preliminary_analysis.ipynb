{
 "cells": [
  {
   "cell_type": "code",
   "execution_count": 1,
   "metadata": {},
   "outputs": [],
   "source": [
    "import pandas as pd\n",
    "import numpy as np\n",
    "from datetime import datetime\n",
    "from matplotlib import pyplot as plt\n",
    "import seaborn as sns"
   ]
  },
  {
   "cell_type": "code",
   "execution_count": 2,
   "metadata": {},
   "outputs": [],
   "source": [
    "%matplotlib inline"
   ]
  },
  {
   "cell_type": "code",
   "execution_count": 3,
   "metadata": {},
   "outputs": [
    {
     "name": "stderr",
     "output_type": "stream",
     "text": [
      "/Users/anushavan/anaconda3/lib/python3.7/site-packages/IPython/core/interactiveshell.py:2785: DtypeWarning: Columns (13) have mixed types. Specify dtype option on import or set low_memory=False.\n",
      "  interactivity=interactivity, compiler=compiler, result=result)\n"
     ]
    }
   ],
   "source": [
    "data = pd.read_csv(\"/Users/anushavan/Desktop/Study/\\\n",
    "Data_Science/Springboard/Capstone_1/data/new_buildings.csv\", \n",
    "                parse_dates=['Pre- Filing Date','Fully Paid', \n",
    "                            'Approved','Fully Permitted','SIGNOFF_DATE'])"
   ]
  },
  {
   "cell_type": "code",
   "execution_count": 4,
   "metadata": {
    "scrolled": true
   },
   "outputs": [
    {
     "name": "stdout",
     "output_type": "stream",
     "text": [
      "<class 'pandas.core.frame.DataFrame'>\n",
      "RangeIndex: 118461 entries, 0 to 118460\n",
      "Data columns (total 23 columns):\n",
      "Borough                          118461 non-null object\n",
      "Building Type                    118461 non-null object\n",
      "eFiling Filed                    49594 non-null object\n",
      "Applicant Professional Title     118456 non-null object\n",
      "Professional Cert                84910 non-null object\n",
      "Pre- Filing Date                 118461 non-null datetime64[ns]\n",
      "Fully Paid                       117514 non-null datetime64[ns]\n",
      "Approved                         70616 non-null datetime64[ns]\n",
      "Fully Permitted                  62940 non-null datetime64[ns]\n",
      "Total Est. Fee                   118461 non-null object\n",
      "Proposed Zoning Sqft             118461 non-null int64\n",
      "Proposed No. of Stories          118461 non-null int64\n",
      "Proposed Height                  118461 non-null int64\n",
      "Proposed Dwelling Units          68282 non-null object\n",
      "Proposed Occupancy               79917 non-null object\n",
      "Zoning Dist1                     79917 non-null object\n",
      "Zoning Dist2                     6244 non-null object\n",
      "Zoning Dist3                     247 non-null object\n",
      "Special District 1               7724 non-null object\n",
      "Special District 2               901 non-null object\n",
      "Non-Profit                       102598 non-null object\n",
      "TOTAL_CONSTRUCTION_FLOOR_AREA    118461 non-null int64\n",
      "SIGNOFF_DATE                     73450 non-null datetime64[ns]\n",
      "dtypes: datetime64[ns](5), int64(4), object(14)\n",
      "memory usage: 20.8+ MB\n"
     ]
    }
   ],
   "source": [
    "data.info()"
   ]
  },
  {
   "cell_type": "markdown",
   "metadata": {},
   "source": [
    "### Clean up the dataframe\n",
    "\n",
    "* converting all column names to *title case*, <br> \n",
    "* converting numeric data into numeric form by removing dollar signs and converting to intiger, <br> \n",
    "* creating a **\"Duration\"** column measuring the duration of the approval process as the difference between the \"Approved\" and \"Fully Paid\" columns <br> \n",
    "* creating subsets of data to hold normal values, values that are below 0 (meaningless) and zero values.\n",
    "* Transform \"Boroughs\" into category to increase the speed of execution."
   ]
  },
  {
   "cell_type": "code",
   "execution_count": 5,
   "metadata": {},
   "outputs": [],
   "source": [
    "# Convert all data columns to Title Case\n",
    "data.columns = data.columns.str.title()\n",
    "\n",
    "# Convert Total Est. Fee to float data and remove $ symbol \n",
    "data['Total Est. Fee']= [float(c.replace('$','')) for c in data['Total Est. Fee']]"
   ]
  },
  {
   "cell_type": "code",
   "execution_count": 6,
   "metadata": {},
   "outputs": [],
   "source": [
    "# Convert Proposed Dwelling Units to integers\n",
    "data['Proposed Dwelling Units'] = (pd.to_numeric(data\n",
    "                                  ['Proposed Dwelling Units'], errors='coerce'))\n"
   ]
  },
  {
   "cell_type": "code",
   "execution_count": 7,
   "metadata": {},
   "outputs": [],
   "source": [
    "# Create a Duration column and convert it to integers (instead of days)\n",
    "data['Duration'] = (data['Approved'] - data['Fully Paid']).dt.days"
   ]
  },
  {
   "cell_type": "code",
   "execution_count": 8,
   "metadata": {},
   "outputs": [],
   "source": [
    "# Subset of data where the Duration is more than 0 days\n",
    "data = data[data['Duration'] > 0]\n",
    "\n",
    "# Subset of data where the Duration is less then 0 days\n",
    "odd_data = data[data['Duration'] < 0]\n",
    "\n",
    "# Subset of data where the Duration is 0 days\n",
    "zero_data = data[data['Duration'] == 0]"
   ]
  },
  {
   "cell_type": "code",
   "execution_count": 9,
   "metadata": {},
   "outputs": [],
   "source": [
    "# transform the Boroughs into categories for faster analysis.\n",
    "data['Borough'] = data['Borough'].astype('category')"
   ]
  },
  {
   "cell_type": "markdown",
   "metadata": {},
   "source": [
    "#### Dealing with blank (NaN/NaT) values\n",
    "\n",
    "converting the NaN values to N string indicating No."
   ]
  },
  {
   "cell_type": "code",
   "execution_count": 10,
   "metadata": {},
   "outputs": [],
   "source": [
    "# Column Efiling Filed: replace the NaN values with N (No)\n",
    "data['Efiling Filed'] = data['Efiling Filed'].fillna('N')"
   ]
  },
  {
   "cell_type": "code",
   "execution_count": 11,
   "metadata": {},
   "outputs": [],
   "source": [
    "data['Professional Cert'] = data['Professional Cert'].fillna('N')"
   ]
  },
  {
   "cell_type": "markdown",
   "metadata": {},
   "source": [
    "##### Potential columns to drop\n",
    "The column \"Proposed Dwelling Units\" has 50392 not null values.\n",
    "\n",
    "The columnn \"Fully Permitted\" has 7070 NaT entries.\n",
    "\n",
    "\n",
    "##### Drop rows\n",
    "There are 2 rows in the \"Applicant Professional Title\" column that are blank. Assigned them\n",
    "to del_rows variable and deleted. \n",
    "\n",
    "There are also 2 rows in the Processional Cert column that are not Y or N, they should be dropped."
   ]
  },
  {
   "cell_type": "code",
   "execution_count": 12,
   "metadata": {},
   "outputs": [],
   "source": [
    "del_rows = data[data['Applicant Professional Title'].isnull()].index\n",
    "data.drop(del_rows, inplace=True)\n",
    "data = (data.drop(data[(data['Professional Cert'] == 'J') | \n",
    "                            (data['Professional Cert'] == 'R')].index))"
   ]
  },
  {
   "cell_type": "markdown",
   "metadata": {},
   "source": [
    "### Analysis of data\n",
    "\n",
    "Createing:\n",
    "1. histograms (for categorical variables)\n",
    "2. bar charts (for continuous variables) and \n",
    "3. boxplots for categorical variables (x axis) and a continuous variable (y axis).\n"
   ]
  },
  {
   "cell_type": "code",
   "execution_count": 13,
   "metadata": {},
   "outputs": [
    {
     "data": {
      "text/html": [
       "<div>\n",
       "<style scoped>\n",
       "    .dataframe tbody tr th:only-of-type {\n",
       "        vertical-align: middle;\n",
       "    }\n",
       "\n",
       "    .dataframe tbody tr th {\n",
       "        vertical-align: top;\n",
       "    }\n",
       "\n",
       "    .dataframe thead th {\n",
       "        text-align: right;\n",
       "    }\n",
       "</style>\n",
       "<table border=\"1\" class=\"dataframe\">\n",
       "  <thead>\n",
       "    <tr style=\"text-align: right;\">\n",
       "      <th></th>\n",
       "      <th>Borough</th>\n",
       "    </tr>\n",
       "  </thead>\n",
       "  <tbody>\n",
       "    <tr>\n",
       "      <th>count</th>\n",
       "      <td>5.000000</td>\n",
       "    </tr>\n",
       "    <tr>\n",
       "      <th>mean</th>\n",
       "      <td>11815.200000</td>\n",
       "    </tr>\n",
       "    <tr>\n",
       "      <th>std</th>\n",
       "      <td>7478.138652</td>\n",
       "    </tr>\n",
       "    <tr>\n",
       "      <th>min</th>\n",
       "      <td>2224.000000</td>\n",
       "    </tr>\n",
       "    <tr>\n",
       "      <th>25%</th>\n",
       "      <td>7417.000000</td>\n",
       "    </tr>\n",
       "    <tr>\n",
       "      <th>50%</th>\n",
       "      <td>11359.000000</td>\n",
       "    </tr>\n",
       "    <tr>\n",
       "      <th>75%</th>\n",
       "      <td>17062.000000</td>\n",
       "    </tr>\n",
       "    <tr>\n",
       "      <th>max</th>\n",
       "      <td>21014.000000</td>\n",
       "    </tr>\n",
       "  </tbody>\n",
       "</table>\n",
       "</div>"
      ],
      "text/plain": [
       "            Borough\n",
       "count      5.000000\n",
       "mean   11815.200000\n",
       "std     7478.138652\n",
       "min     2224.000000\n",
       "25%     7417.000000\n",
       "50%    11359.000000\n",
       "75%    17062.000000\n",
       "max    21014.000000"
      ]
     },
     "execution_count": 13,
     "metadata": {},
     "output_type": "execute_result"
    },
    {
     "data": {
      "image/png": "[encoded data removed]",
      "text/plain": [
       "<Figure size 432x288 with 1 Axes>"
      ]
     },
     "metadata": {
      "needs_background": "light"
     },
     "output_type": "display_data"
    }
   ],
   "source": [
    "# create a histogram for the # of building permits issued by Borough\n",
    "ax = data['Borough'].value_counts().sort_values().plot(kind='bar', color = 'b')\n",
    "ax.set_ylabel('Number of building permits approved')\n",
    "ax.set_xlabel('')\n",
    "pd.DataFrame(data['Borough'].value_counts().describe())"
   ]
  },
  {
   "cell_type": "code",
   "execution_count": 14,
   "metadata": {},
   "outputs": [
    {
     "data": {
      "image/png": "[encoded data removed]",
      "text/plain": [
       "<Figure size 432x288 with 1 Axes>"
      ]
     },
     "metadata": {
      "needs_background": "light"
     },
     "output_type": "display_data"
    }
   ],
   "source": [
    "# Create a boxplot of Building Type Duration.\n",
    "ax = data.boxplot(column=['Duration'], by=['Borough'])\n",
    "plt.suptitle('')\n",
    "ax.set_xlabel('')\n",
    "ax.set_ylabel('Days')\n",
    "ax.grid(False)\n",
    "ax.set_title('Duration by Borough')\n",
    "plt.tight_layout()"
   ]
  },
  {
   "cell_type": "code",
   "execution_count": 15,
   "metadata": {},
   "outputs": [
    {
     "data": {
      "text/html": [
       "<div>\n",
       "<style scoped>\n",
       "    .dataframe tbody tr th:only-of-type {\n",
       "        vertical-align: middle;\n",
       "    }\n",
       "\n",
       "    .dataframe tbody tr th {\n",
       "        vertical-align: top;\n",
       "    }\n",
       "\n",
       "    .dataframe thead th {\n",
       "        text-align: right;\n",
       "    }\n",
       "</style>\n",
       "<table border=\"1\" class=\"dataframe\">\n",
       "  <thead>\n",
       "    <tr style=\"text-align: right;\">\n",
       "      <th></th>\n",
       "      <th>Building Type</th>\n",
       "    </tr>\n",
       "  </thead>\n",
       "  <tbody>\n",
       "    <tr>\n",
       "      <th>count</th>\n",
       "      <td>2.000000</td>\n",
       "    </tr>\n",
       "    <tr>\n",
       "      <th>mean</th>\n",
       "      <td>29538.000000</td>\n",
       "    </tr>\n",
       "    <tr>\n",
       "      <th>std</th>\n",
       "      <td>18063.749832</td>\n",
       "    </tr>\n",
       "    <tr>\n",
       "      <th>min</th>\n",
       "      <td>16765.000000</td>\n",
       "    </tr>\n",
       "    <tr>\n",
       "      <th>25%</th>\n",
       "      <td>23151.500000</td>\n",
       "    </tr>\n",
       "    <tr>\n",
       "      <th>50%</th>\n",
       "      <td>29538.000000</td>\n",
       "    </tr>\n",
       "    <tr>\n",
       "      <th>75%</th>\n",
       "      <td>35924.500000</td>\n",
       "    </tr>\n",
       "    <tr>\n",
       "      <th>max</th>\n",
       "      <td>42311.000000</td>\n",
       "    </tr>\n",
       "  </tbody>\n",
       "</table>\n",
       "</div>"
      ],
      "text/plain": [
       "       Building Type\n",
       "count       2.000000\n",
       "mean    29538.000000\n",
       "std     18063.749832\n",
       "min     16765.000000\n",
       "25%     23151.500000\n",
       "50%     29538.000000\n",
       "75%     35924.500000\n",
       "max     42311.000000"
      ]
     },
     "execution_count": 15,
     "metadata": {},
     "output_type": "execute_result"
    },
    {
     "data": {
      "image/png": "[encoded data removed]",
      "text/plain": [
       "<Figure size 432x288 with 1 Axes>"
      ]
     },
     "metadata": {
      "needs_background": "light"
     },
     "output_type": "display_data"
    }
   ],
   "source": [
    "# Create a bar plot of Building Type and include a statistical analysis.\n",
    "ax = data['Building Type'].value_counts().plot(kind='bar', color='b')\n",
    "ax.set_xticklabels(['1-2-3 Family', 'Other'],rotation=360)\n",
    "ax.set_title('Building permits based on the building type')\n",
    "ax.set_ylabel('Number of approved permits')\n",
    "pd.DataFrame(data['Building Type'].value_counts().describe())"
   ]
  },
  {
   "cell_type": "code",
   "execution_count": 16,
   "metadata": {
    "scrolled": true
   },
   "outputs": [
    {
     "data": {
      "image/png": "[encoded data removed]",
      "text/plain": [
       "<Figure size 432x288 with 1 Axes>"
      ]
     },
     "metadata": {
      "needs_background": "light"
     },
     "output_type": "display_data"
    }
   ],
   "source": [
    "# Create a boxplot of Building Type Duration.\n",
    "ax = data.boxplot(column=['Duration'], by=['Building Type'])\n",
    "ax.set_title('Duration of approval based on types of buildings')\n",
    "ax.set_xlabel('')\n",
    "ax.set_ylabel('Days')\n",
    "plt.suptitle('')\n",
    "ax.grid(False)\n"
   ]
  },
  {
   "cell_type": "code",
   "execution_count": 17,
   "metadata": {
    "scrolled": true
   },
   "outputs": [
    {
     "data": {
      "image/png": "[encoded data removed]",
      "text/plain": [
       "<Figure size 432x288 with 1 Axes>"
      ]
     },
     "metadata": {
      "needs_background": "light"
     },
     "output_type": "display_data"
    }
   ],
   "source": [
    "# Create a histogram of Efiling and include a statistical analysis.\n",
    "ax = data['Efiling Filed'].value_counts().plot(kind='bar', color='g')\n",
    "ax.set_xticklabels(['Yes','No'],rotation=360)\n",
    "ax.set_title('Building permits based on the e-filing')\n",
    "ax.set_ylabel('Number of approved permits')\n",
    "pd.DataFrame(data['Efiling Filed'].value_counts().describe())\n",
    "plt.tight_layout()"
   ]
  },
  {
   "cell_type": "code",
   "execution_count": 18,
   "metadata": {
    "scrolled": true
   },
   "outputs": [
    {
     "data": {
      "image/png": "[encoded data removed]",
      "text/plain": [
       "<Figure size 432x288 with 1 Axes>"
      ]
     },
     "metadata": {
      "needs_background": "light"
     },
     "output_type": "display_data"
    }
   ],
   "source": [
    "ax = data.boxplot(column=['Duration'], by=['Efiling Filed'])\n",
    "ax.set_title('')\n",
    "ax.set_ylabel('Days')\n",
    "ax.set_xlabel('E-filing filder (Yes/No)')\n",
    "ax.set_xticklabels(['No','Yes'])\n",
    "plt.suptitle('')\n",
    "ax.grid(False)\n",
    "pd.DataFrame(data.groupby(['Efiling Filed'])['Duration'].describe())\n",
    "plt.tight_layout()"
   ]
  },
  {
   "cell_type": "code",
   "execution_count": 19,
   "metadata": {},
   "outputs": [
    {
     "data": {
      "text/html": [
       "<div>\n",
       "<style scoped>\n",
       "    .dataframe tbody tr th:only-of-type {\n",
       "        vertical-align: middle;\n",
       "    }\n",
       "\n",
       "    .dataframe tbody tr th {\n",
       "        vertical-align: top;\n",
       "    }\n",
       "\n",
       "    .dataframe thead th {\n",
       "        text-align: right;\n",
       "    }\n",
       "</style>\n",
       "<table border=\"1\" class=\"dataframe\">\n",
       "  <thead>\n",
       "    <tr style=\"text-align: right;\">\n",
       "      <th></th>\n",
       "      <th>count</th>\n",
       "      <th>mean</th>\n",
       "      <th>std</th>\n",
       "      <th>min</th>\n",
       "      <th>25%</th>\n",
       "      <th>50%</th>\n",
       "      <th>75%</th>\n",
       "      <th>max</th>\n",
       "    </tr>\n",
       "    <tr>\n",
       "      <th>Applicant Professional Title</th>\n",
       "      <th></th>\n",
       "      <th></th>\n",
       "      <th></th>\n",
       "      <th></th>\n",
       "      <th></th>\n",
       "      <th></th>\n",
       "      <th></th>\n",
       "      <th></th>\n",
       "    </tr>\n",
       "  </thead>\n",
       "  <tbody>\n",
       "    <tr>\n",
       "      <th>PE</th>\n",
       "      <td>14990.0</td>\n",
       "      <td>142.513342</td>\n",
       "      <td>229.342644</td>\n",
       "      <td>1.0</td>\n",
       "      <td>22.0</td>\n",
       "      <td>66.0</td>\n",
       "      <td>168.0</td>\n",
       "      <td>4959.0</td>\n",
       "    </tr>\n",
       "    <tr>\n",
       "      <th>RA</th>\n",
       "      <td>44086.0</td>\n",
       "      <td>175.552307</td>\n",
       "      <td>268.663775</td>\n",
       "      <td>1.0</td>\n",
       "      <td>27.0</td>\n",
       "      <td>89.0</td>\n",
       "      <td>211.0</td>\n",
       "      <td>4411.0</td>\n",
       "    </tr>\n",
       "  </tbody>\n",
       "</table>\n",
       "</div>"
      ],
      "text/plain": [
       "                                count        mean         std  min   25%  \\\n",
       "Applicant Professional Title                                               \n",
       "PE                            14990.0  142.513342  229.342644  1.0  22.0   \n",
       "RA                            44086.0  175.552307  268.663775  1.0  27.0   \n",
       "\n",
       "                               50%    75%     max  \n",
       "Applicant Professional Title                       \n",
       "PE                            66.0  168.0  4959.0  \n",
       "RA                            89.0  211.0  4411.0  "
      ]
     },
     "execution_count": 19,
     "metadata": {},
     "output_type": "execute_result"
    },
    {
     "data": {
      "image/png": "[encoded data removed]",
      "text/plain": [
       "<Figure size 432x288 with 1 Axes>"
      ]
     },
     "metadata": {
      "needs_background": "light"
     },
     "output_type": "display_data"
    }
   ],
   "source": [
    "# Create a bar chart of Professional Title and include a statistical analysis.\n",
    "ax = data['Applicant Professional Title'].value_counts().plot(kind='bar', color='g')\n",
    "ax.set_xticklabels(['Professional Engineer','Registered Architect'],rotation=360)\n",
    "ax.set_title('Number of applications based on the professional title')\n",
    "pd.DataFrame(data.groupby('Applicant Professional Title')['Duration'].describe())"
   ]
  },
  {
   "cell_type": "code",
   "execution_count": 20,
   "metadata": {},
   "outputs": [
    {
     "data": {
      "image/png": "[encoded data removed]",
      "text/plain": [
       "<Figure size 432x288 with 1 Axes>"
      ]
     },
     "metadata": {
      "needs_background": "light"
     },
     "output_type": "display_data"
    }
   ],
   "source": [
    "# Boxplot of Duration based on the applicants' professional title.\n",
    "ax = data.boxplot(column=['Duration'], by=['Applicant Professional Title'])\n",
    "ax.set_xticklabels(['Professional Engineer','Registered Architect'])\n",
    "plt.suptitle('')\n",
    "ax.set_title(\"Duration based on applicant's professional title\")\n",
    "ax.set_xlabel('')\n",
    "ax.set_ylabel('Days')\n",
    "ax.grid(False)\n",
    "plt.tight_layout()"
   ]
  },
  {
   "cell_type": "code",
   "execution_count": 21,
   "metadata": {
    "scrolled": true
   },
   "outputs": [
    {
     "data": {
      "text/html": [
       "<div>\n",
       "<style scoped>\n",
       "    .dataframe tbody tr th:only-of-type {\n",
       "        vertical-align: middle;\n",
       "    }\n",
       "\n",
       "    .dataframe tbody tr th {\n",
       "        vertical-align: top;\n",
       "    }\n",
       "\n",
       "    .dataframe thead th {\n",
       "        text-align: right;\n",
       "    }\n",
       "</style>\n",
       "<table border=\"1\" class=\"dataframe\">\n",
       "  <thead>\n",
       "    <tr style=\"text-align: right;\">\n",
       "      <th></th>\n",
       "      <th>count</th>\n",
       "      <th>mean</th>\n",
       "      <th>std</th>\n",
       "      <th>min</th>\n",
       "      <th>25%</th>\n",
       "      <th>50%</th>\n",
       "      <th>75%</th>\n",
       "      <th>max</th>\n",
       "    </tr>\n",
       "    <tr>\n",
       "      <th>Professional Cert</th>\n",
       "      <th></th>\n",
       "      <th></th>\n",
       "      <th></th>\n",
       "      <th></th>\n",
       "      <th></th>\n",
       "      <th></th>\n",
       "      <th></th>\n",
       "      <th></th>\n",
       "    </tr>\n",
       "  </thead>\n",
       "  <tbody>\n",
       "    <tr>\n",
       "      <th>N</th>\n",
       "      <td>38010.0</td>\n",
       "      <td>225.441594</td>\n",
       "      <td>282.962780</td>\n",
       "      <td>1.0</td>\n",
       "      <td>71.0</td>\n",
       "      <td>138.0</td>\n",
       "      <td>267.0</td>\n",
       "      <td>4959.0</td>\n",
       "    </tr>\n",
       "    <tr>\n",
       "      <th>Y</th>\n",
       "      <td>21066.0</td>\n",
       "      <td>62.025966</td>\n",
       "      <td>165.562255</td>\n",
       "      <td>1.0</td>\n",
       "      <td>3.0</td>\n",
       "      <td>13.0</td>\n",
       "      <td>42.0</td>\n",
       "      <td>2589.0</td>\n",
       "    </tr>\n",
       "  </tbody>\n",
       "</table>\n",
       "</div>"
      ],
      "text/plain": [
       "                     count        mean         std  min   25%    50%    75%  \\\n",
       "Professional Cert                                                             \n",
       "N                  38010.0  225.441594  282.962780  1.0  71.0  138.0  267.0   \n",
       "Y                  21066.0   62.025966  165.562255  1.0   3.0   13.0   42.0   \n",
       "\n",
       "                      max  \n",
       "Professional Cert          \n",
       "N                  4959.0  \n",
       "Y                  2589.0  "
      ]
     },
     "execution_count": 21,
     "metadata": {},
     "output_type": "execute_result"
    },
    {
     "data": {
      "image/png": "[encoded data removed]",
      "text/plain": [
       "<Figure size 432x288 with 1 Axes>"
      ]
     },
     "metadata": {
      "needs_background": "light"
     },
     "output_type": "display_data"
    }
   ],
   "source": [
    "# Bar chart indicating whether or not the application was submitted as \n",
    "# Professionally Certified by a Professional Engineer (PE) or Registered Architect (RA).\n",
    "ax = data['Professional Cert'].value_counts().plot(kind='bar', color='g')\n",
    "ax.set_xticklabels(['No','Yes'],rotation=360)\n",
    "ax.set_title('Applications were professionally certified')\n",
    "ax.set_ylabel('Number of applications')\n",
    "pd.DataFrame(data.groupby('Professional Cert')['Duration'].describe())\n"
   ]
  },
  {
   "cell_type": "code",
   "execution_count": 22,
   "metadata": {
    "scrolled": true
   },
   "outputs": [
    {
     "data": {
      "image/png": "[encoded data removed]",
      "text/plain": [
       "<Figure size 432x288 with 1 Axes>"
      ]
     },
     "metadata": {
      "needs_background": "light"
     },
     "output_type": "display_data"
    }
   ],
   "source": [
    "# Boxplot of Duration based on wheather or not the applications were professionally certified.\n",
    "ax = data.boxplot(column=['Duration'], by=['Professional Cert'])\n",
    "ax.set_xticklabels(['Not certified','Certified'])\n",
    "plt.suptitle('')\n",
    "ax.set_title(\"Duration based on the professional certification of applications\")\n",
    "ax.set_xlabel('')\n",
    "ax.set_ylabel('Days')\n",
    "ax.grid(False)\n",
    "plt.tight_layout()"
   ]
  },
  {
   "cell_type": "code",
   "execution_count": 23,
   "metadata": {},
   "outputs": [
    {
     "ename": "KeyError",
     "evalue": "' '",
     "output_type": "error",
     "traceback": [
      "\u001b[0;31m---------------------------------------------------------------------------\u001b[0m",
      "\u001b[0;31mKeyError\u001b[0m                                  Traceback (most recent call last)",
      "\u001b[0;32m~/anaconda3/lib/python3.7/site-packages/pandas/core/indexes/base.py\u001b[0m in \u001b[0;36mget_loc\u001b[0;34m(self, key, method, tolerance)\u001b[0m\n\u001b[1;32m   3077\u001b[0m             \u001b[0;32mtry\u001b[0m\u001b[0;34m:\u001b[0m\u001b[0;34m\u001b[0m\u001b[0m\n\u001b[0;32m-> 3078\u001b[0;31m                 \u001b[0;32mreturn\u001b[0m \u001b[0mself\u001b[0m\u001b[0;34m.\u001b[0m\u001b[0m_engine\u001b[0m\u001b[0;34m.\u001b[0m\u001b[0mget_loc\u001b[0m\u001b[0;34m(\u001b[0m\u001b[0mkey\u001b[0m\u001b[0;34m)\u001b[0m\u001b[0;34m\u001b[0m\u001b[0m\n\u001b[0m\u001b[1;32m   3079\u001b[0m             \u001b[0;32mexcept\u001b[0m \u001b[0mKeyError\u001b[0m\u001b[0;34m:\u001b[0m\u001b[0;34m\u001b[0m\u001b[0m\n",
      "\u001b[0;32mpandas/_libs/index.pyx\u001b[0m in \u001b[0;36mpandas._libs.index.IndexEngine.get_loc\u001b[0;34m()\u001b[0m\n",
      "\u001b[0;32mpandas/_libs/index.pyx\u001b[0m in \u001b[0;36mpandas._libs.index.IndexEngine.get_loc\u001b[0;34m()\u001b[0m\n",
      "\u001b[0;32mpandas/_libs/hashtable_class_helper.pxi\u001b[0m in \u001b[0;36mpandas._libs.hashtable.PyObjectHashTable.get_item\u001b[0;34m()\u001b[0m\n",
      "\u001b[0;32mpandas/_libs/hashtable_class_helper.pxi\u001b[0m in \u001b[0;36mpandas._libs.hashtable.PyObjectHashTable.get_item\u001b[0;34m()\u001b[0m\n",
      "\u001b[0;31mKeyError\u001b[0m: ' '",
      "\nDuring handling of the above exception, another exception occurred:\n",
      "\u001b[0;31mKeyError\u001b[0m                                  Traceback (most recent call last)",
      "\u001b[0;32m<ipython-input-23-a98959ea1a44>\u001b[0m in \u001b[0;36m<module>\u001b[0;34m()\u001b[0m\n\u001b[1;32m      1\u001b[0m \u001b[0;31m# Bar chart indicating whether or not the application was submitted as\u001b[0m\u001b[0;34m\u001b[0m\u001b[0;34m\u001b[0m\u001b[0m\n\u001b[1;32m      2\u001b[0m \u001b[0;31m# Professionally Certified by a Professional Engineer (PE) or Registered Architect (RA).\u001b[0m\u001b[0;34m\u001b[0m\u001b[0;34m\u001b[0m\u001b[0m\n\u001b[0;32m----> 3\u001b[0;31m \u001b[0max\u001b[0m \u001b[0;34m=\u001b[0m \u001b[0mdata\u001b[0m\u001b[0;34m[\u001b[0m\u001b[0;34m' '\u001b[0m\u001b[0;34m]\u001b[0m\u001b[0;34m.\u001b[0m\u001b[0mvalue_counts\u001b[0m\u001b[0;34m(\u001b[0m\u001b[0;34m)\u001b[0m\u001b[0;34m.\u001b[0m\u001b[0mplot\u001b[0m\u001b[0;34m(\u001b[0m\u001b[0mkind\u001b[0m\u001b[0;34m=\u001b[0m\u001b[0;34m'bar'\u001b[0m\u001b[0;34m,\u001b[0m \u001b[0mcolor\u001b[0m\u001b[0;34m=\u001b[0m\u001b[0;34m'g'\u001b[0m\u001b[0;34m)\u001b[0m\u001b[0;34m\u001b[0m\u001b[0m\n\u001b[0m\u001b[1;32m      4\u001b[0m \u001b[0max\u001b[0m\u001b[0;34m.\u001b[0m\u001b[0mset_xticklabels\u001b[0m\u001b[0;34m(\u001b[0m\u001b[0;34m[\u001b[0m\u001b[0;34m'No'\u001b[0m\u001b[0;34m,\u001b[0m\u001b[0;34m'Yes'\u001b[0m\u001b[0;34m]\u001b[0m\u001b[0;34m,\u001b[0m\u001b[0mrotation\u001b[0m\u001b[0;34m=\u001b[0m\u001b[0;36m360\u001b[0m\u001b[0;34m)\u001b[0m\u001b[0;34m\u001b[0m\u001b[0m\n\u001b[1;32m      5\u001b[0m \u001b[0max\u001b[0m\u001b[0;34m.\u001b[0m\u001b[0mset_title\u001b[0m\u001b[0;34m(\u001b[0m\u001b[0;34m'Applications were professionally certified'\u001b[0m\u001b[0;34m)\u001b[0m\u001b[0;34m\u001b[0m\u001b[0m\n",
      "\u001b[0;32m~/anaconda3/lib/python3.7/site-packages/pandas/core/frame.py\u001b[0m in \u001b[0;36m__getitem__\u001b[0;34m(self, key)\u001b[0m\n\u001b[1;32m   2686\u001b[0m             \u001b[0;32mreturn\u001b[0m \u001b[0mself\u001b[0m\u001b[0;34m.\u001b[0m\u001b[0m_getitem_multilevel\u001b[0m\u001b[0;34m(\u001b[0m\u001b[0mkey\u001b[0m\u001b[0;34m)\u001b[0m\u001b[0;34m\u001b[0m\u001b[0m\n\u001b[1;32m   2687\u001b[0m         \u001b[0;32melse\u001b[0m\u001b[0;34m:\u001b[0m\u001b[0;34m\u001b[0m\u001b[0m\n\u001b[0;32m-> 2688\u001b[0;31m             \u001b[0;32mreturn\u001b[0m \u001b[0mself\u001b[0m\u001b[0;34m.\u001b[0m\u001b[0m_getitem_column\u001b[0m\u001b[0;34m(\u001b[0m\u001b[0mkey\u001b[0m\u001b[0;34m)\u001b[0m\u001b[0;34m\u001b[0m\u001b[0m\n\u001b[0m\u001b[1;32m   2689\u001b[0m \u001b[0;34m\u001b[0m\u001b[0m\n\u001b[1;32m   2690\u001b[0m     \u001b[0;32mdef\u001b[0m \u001b[0m_getitem_column\u001b[0m\u001b[0;34m(\u001b[0m\u001b[0mself\u001b[0m\u001b[0;34m,\u001b[0m \u001b[0mkey\u001b[0m\u001b[0;34m)\u001b[0m\u001b[0;34m:\u001b[0m\u001b[0;34m\u001b[0m\u001b[0m\n",
      "\u001b[0;32m~/anaconda3/lib/python3.7/site-packages/pandas/core/frame.py\u001b[0m in \u001b[0;36m_getitem_column\u001b[0;34m(self, key)\u001b[0m\n\u001b[1;32m   2693\u001b[0m         \u001b[0;31m# get column\u001b[0m\u001b[0;34m\u001b[0m\u001b[0;34m\u001b[0m\u001b[0m\n\u001b[1;32m   2694\u001b[0m         \u001b[0;32mif\u001b[0m \u001b[0mself\u001b[0m\u001b[0;34m.\u001b[0m\u001b[0mcolumns\u001b[0m\u001b[0;34m.\u001b[0m\u001b[0mis_unique\u001b[0m\u001b[0;34m:\u001b[0m\u001b[0;34m\u001b[0m\u001b[0m\n\u001b[0;32m-> 2695\u001b[0;31m             \u001b[0;32mreturn\u001b[0m \u001b[0mself\u001b[0m\u001b[0;34m.\u001b[0m\u001b[0m_get_item_cache\u001b[0m\u001b[0;34m(\u001b[0m\u001b[0mkey\u001b[0m\u001b[0;34m)\u001b[0m\u001b[0;34m\u001b[0m\u001b[0m\n\u001b[0m\u001b[1;32m   2696\u001b[0m \u001b[0;34m\u001b[0m\u001b[0m\n\u001b[1;32m   2697\u001b[0m         \u001b[0;31m# duplicate columns & possible reduce dimensionality\u001b[0m\u001b[0;34m\u001b[0m\u001b[0;34m\u001b[0m\u001b[0m\n",
      "\u001b[0;32m~/anaconda3/lib/python3.7/site-packages/pandas/core/generic.py\u001b[0m in \u001b[0;36m_get_item_cache\u001b[0;34m(self, item)\u001b[0m\n\u001b[1;32m   2487\u001b[0m         \u001b[0mres\u001b[0m \u001b[0;34m=\u001b[0m \u001b[0mcache\u001b[0m\u001b[0;34m.\u001b[0m\u001b[0mget\u001b[0m\u001b[0;34m(\u001b[0m\u001b[0mitem\u001b[0m\u001b[0;34m)\u001b[0m\u001b[0;34m\u001b[0m\u001b[0m\n\u001b[1;32m   2488\u001b[0m         \u001b[0;32mif\u001b[0m \u001b[0mres\u001b[0m \u001b[0;32mis\u001b[0m \u001b[0;32mNone\u001b[0m\u001b[0;34m:\u001b[0m\u001b[0;34m\u001b[0m\u001b[0m\n\u001b[0;32m-> 2489\u001b[0;31m             \u001b[0mvalues\u001b[0m \u001b[0;34m=\u001b[0m \u001b[0mself\u001b[0m\u001b[0;34m.\u001b[0m\u001b[0m_data\u001b[0m\u001b[0;34m.\u001b[0m\u001b[0mget\u001b[0m\u001b[0;34m(\u001b[0m\u001b[0mitem\u001b[0m\u001b[0;34m)\u001b[0m\u001b[0;34m\u001b[0m\u001b[0m\n\u001b[0m\u001b[1;32m   2490\u001b[0m             \u001b[0mres\u001b[0m \u001b[0;34m=\u001b[0m \u001b[0mself\u001b[0m\u001b[0;34m.\u001b[0m\u001b[0m_box_item_values\u001b[0m\u001b[0;34m(\u001b[0m\u001b[0mitem\u001b[0m\u001b[0;34m,\u001b[0m \u001b[0mvalues\u001b[0m\u001b[0;34m)\u001b[0m\u001b[0;34m\u001b[0m\u001b[0m\n\u001b[1;32m   2491\u001b[0m             \u001b[0mcache\u001b[0m\u001b[0;34m[\u001b[0m\u001b[0mitem\u001b[0m\u001b[0;34m]\u001b[0m \u001b[0;34m=\u001b[0m \u001b[0mres\u001b[0m\u001b[0;34m\u001b[0m\u001b[0m\n",
      "\u001b[0;32m~/anaconda3/lib/python3.7/site-packages/pandas/core/internals.py\u001b[0m in \u001b[0;36mget\u001b[0;34m(self, item, fastpath)\u001b[0m\n\u001b[1;32m   4113\u001b[0m \u001b[0;34m\u001b[0m\u001b[0m\n\u001b[1;32m   4114\u001b[0m             \u001b[0;32mif\u001b[0m \u001b[0;32mnot\u001b[0m \u001b[0misna\u001b[0m\u001b[0;34m(\u001b[0m\u001b[0mitem\u001b[0m\u001b[0;34m)\u001b[0m\u001b[0;34m:\u001b[0m\u001b[0;34m\u001b[0m\u001b[0m\n\u001b[0;32m-> 4115\u001b[0;31m                 \u001b[0mloc\u001b[0m \u001b[0;34m=\u001b[0m \u001b[0mself\u001b[0m\u001b[0;34m.\u001b[0m\u001b[0mitems\u001b[0m\u001b[0;34m.\u001b[0m\u001b[0mget_loc\u001b[0m\u001b[0;34m(\u001b[0m\u001b[0mitem\u001b[0m\u001b[0;34m)\u001b[0m\u001b[0;34m\u001b[0m\u001b[0m\n\u001b[0m\u001b[1;32m   4116\u001b[0m             \u001b[0;32melse\u001b[0m\u001b[0;34m:\u001b[0m\u001b[0;34m\u001b[0m\u001b[0m\n\u001b[1;32m   4117\u001b[0m                 \u001b[0mindexer\u001b[0m \u001b[0;34m=\u001b[0m \u001b[0mnp\u001b[0m\u001b[0;34m.\u001b[0m\u001b[0marange\u001b[0m\u001b[0;34m(\u001b[0m\u001b[0mlen\u001b[0m\u001b[0;34m(\u001b[0m\u001b[0mself\u001b[0m\u001b[0;34m.\u001b[0m\u001b[0mitems\u001b[0m\u001b[0;34m)\u001b[0m\u001b[0;34m)\u001b[0m\u001b[0;34m[\u001b[0m\u001b[0misna\u001b[0m\u001b[0;34m(\u001b[0m\u001b[0mself\u001b[0m\u001b[0;34m.\u001b[0m\u001b[0mitems\u001b[0m\u001b[0;34m)\u001b[0m\u001b[0;34m]\u001b[0m\u001b[0;34m\u001b[0m\u001b[0m\n",
      "\u001b[0;32m~/anaconda3/lib/python3.7/site-packages/pandas/core/indexes/base.py\u001b[0m in \u001b[0;36mget_loc\u001b[0;34m(self, key, method, tolerance)\u001b[0m\n\u001b[1;32m   3078\u001b[0m                 \u001b[0;32mreturn\u001b[0m \u001b[0mself\u001b[0m\u001b[0;34m.\u001b[0m\u001b[0m_engine\u001b[0m\u001b[0;34m.\u001b[0m\u001b[0mget_loc\u001b[0m\u001b[0;34m(\u001b[0m\u001b[0mkey\u001b[0m\u001b[0;34m)\u001b[0m\u001b[0;34m\u001b[0m\u001b[0m\n\u001b[1;32m   3079\u001b[0m             \u001b[0;32mexcept\u001b[0m \u001b[0mKeyError\u001b[0m\u001b[0;34m:\u001b[0m\u001b[0;34m\u001b[0m\u001b[0m\n\u001b[0;32m-> 3080\u001b[0;31m                 \u001b[0;32mreturn\u001b[0m \u001b[0mself\u001b[0m\u001b[0;34m.\u001b[0m\u001b[0m_engine\u001b[0m\u001b[0;34m.\u001b[0m\u001b[0mget_loc\u001b[0m\u001b[0;34m(\u001b[0m\u001b[0mself\u001b[0m\u001b[0;34m.\u001b[0m\u001b[0m_maybe_cast_indexer\u001b[0m\u001b[0;34m(\u001b[0m\u001b[0mkey\u001b[0m\u001b[0;34m)\u001b[0m\u001b[0;34m)\u001b[0m\u001b[0;34m\u001b[0m\u001b[0m\n\u001b[0m\u001b[1;32m   3081\u001b[0m \u001b[0;34m\u001b[0m\u001b[0m\n\u001b[1;32m   3082\u001b[0m         \u001b[0mindexer\u001b[0m \u001b[0;34m=\u001b[0m \u001b[0mself\u001b[0m\u001b[0;34m.\u001b[0m\u001b[0mget_indexer\u001b[0m\u001b[0;34m(\u001b[0m\u001b[0;34m[\u001b[0m\u001b[0mkey\u001b[0m\u001b[0;34m]\u001b[0m\u001b[0;34m,\u001b[0m \u001b[0mmethod\u001b[0m\u001b[0;34m=\u001b[0m\u001b[0mmethod\u001b[0m\u001b[0;34m,\u001b[0m \u001b[0mtolerance\u001b[0m\u001b[0;34m=\u001b[0m\u001b[0mtolerance\u001b[0m\u001b[0;34m)\u001b[0m\u001b[0;34m\u001b[0m\u001b[0m\n",
      "\u001b[0;32mpandas/_libs/index.pyx\u001b[0m in \u001b[0;36mpandas._libs.index.IndexEngine.get_loc\u001b[0;34m()\u001b[0m\n",
      "\u001b[0;32mpandas/_libs/index.pyx\u001b[0m in \u001b[0;36mpandas._libs.index.IndexEngine.get_loc\u001b[0;34m()\u001b[0m\n",
      "\u001b[0;32mpandas/_libs/hashtable_class_helper.pxi\u001b[0m in \u001b[0;36mpandas._libs.hashtable.PyObjectHashTable.get_item\u001b[0;34m()\u001b[0m\n",
      "\u001b[0;32mpandas/_libs/hashtable_class_helper.pxi\u001b[0m in \u001b[0;36mpandas._libs.hashtable.PyObjectHashTable.get_item\u001b[0;34m()\u001b[0m\n",
      "\u001b[0;31mKeyError\u001b[0m: ' '"
     ]
    }
   ],
   "source": [
    "# Bar chart indicating whether or not the application was submitted as \n",
    "# Professionally Certified by a Professional Engineer (PE) or Registered Architect (RA).\n",
    "ax = data[' '].value_counts().plot(kind='bar', color='g')\n",
    "ax.set_xticklabels(['No','Yes'],rotation=360)\n",
    "ax.set_title('Applications were professionally certified')\n",
    "ax.set_ylabel('Number of applications')\n",
    "pd.DataFrame(data.groupby(' ')['Duration'].describe())\n",
    "plt.tight_layout()"
   ]
  },
  {
   "cell_type": "code",
   "execution_count": null,
   "metadata": {
    "scrolled": true
   },
   "outputs": [],
   "source": [
    "# Histogram of building permit fee () \n",
    "ax = data['Total Est. Fee'].hist(bins=30, range=(0,3500))\n",
    "ax.set_title('Esimated building permit fees (USD)')\n",
    "ax.set_xlabel('Building permit fee (USD)')\n",
    "ax.grid(False)\n",
    "pd.DataFrame((data['Total Est. Fee']).describe()).round(1)\n",
    "plt.tight_layout()"
   ]
  },
  {
   "cell_type": "code",
   "execution_count": null,
   "metadata": {
    "scrolled": true
   },
   "outputs": [],
   "source": [
    "# Boxplot of building permit fee (estimated) in each borough.\n",
    "ax = sns.boxplot(data=data,x='Borough',y='Total Est. Fee')\n",
    "ax.set_ylabel('Estimated building permit fee (USD)')\n",
    "plt.ylim(0,650000)\n",
    "ax.set_xlabel('')\n",
    "plt.tight_layout()"
   ]
  },
  {
   "cell_type": "code",
   "execution_count": null,
   "metadata": {},
   "outputs": [],
   "source": [
    "# scatterplot of building permit fee and Duration. \n",
    "\n",
    "sns.lmplot(x='Total Est. Fee', y='Duration', data=data)"
   ]
  },
  {
   "cell_type": "code",
   "execution_count": null,
   "metadata": {},
   "outputs": [],
   "source": [
    "# Histogram of Proposed Zoning square footage. \n",
    "fig, ax = plt.subplots(2,1)\n",
    "\n",
    "plt.subplot(2,1,1)\n",
    "ax = data['Proposed Zoning Sqft'].hist(bins=30, range=(0,3000), color='orange')\n",
    "ax.set_title('Proposed Zoning square footage')\n",
    "# ax.set_xlabel('Square feet')\n",
    "ax.grid(False)\n",
    "pd.DataFrame((data['Proposed Zoning Sqft']).describe()).round(1)\n",
    "\n",
    "plt.subplot(2,1,2)\n",
    "ax1 = data['Proposed Zoning Sqft'].hist(bins=30, range=(100,3000))\n",
    "ax1.set_title('Proposed Zoning square footage - excluding 0s')\n",
    "ax1.set_xlabel('Square feet')\n",
    "ax1.grid(False)\n",
    "plt.tight_layout()\n",
    "\n",
    "# scatterplot of proposed zoning square feet vs Duration.\n",
    "sns.lmplot(x='Proposed Zoning Sqft', y='Duration', data=data)\n",
    "plt.tight_layout()\n",
    "plt.xscale('log')\n",
    "plt.title('Proposed zoning area and the approval duration')"
   ]
  },
  {
   "cell_type": "code",
   "execution_count": null,
   "metadata": {},
   "outputs": [],
   "source": [
    "# Histogram of Proposed No. Of Stories. \n",
    "ax = data['Proposed No. Of Stories'].hist(bins=30, range=(0,25))\n",
    "ax.set_title('Proposed No. Of Stories')\n",
    "ax.set_xlabel('')\n",
    "ax.grid(False)\n",
    "pd.DataFrame((data['Proposed No. Of Stories']).describe()).round(1)\n",
    "plt.tight_layout()"
   ]
  },
  {
   "cell_type": "code",
   "execution_count": null,
   "metadata": {},
   "outputs": [],
   "source": [
    "# Boxplot of Proposed No. Of Stories in each borough. \n",
    "ax = sns.boxplot(data=data,x='Borough', y='Proposed No. Of Stories')\n",
    "ax.set(ylim=(0,110))\n",
    "ax.set_xlabel('')\n",
    "plt.tight_layout()"
   ]
  },
  {
   "cell_type": "code",
   "execution_count": null,
   "metadata": {},
   "outputs": [],
   "source": []
  },
  {
   "cell_type": "code",
   "execution_count": null,
   "metadata": {},
   "outputs": [],
   "source": [
    "# Histogram of Proposed Height. \n",
    "ax = data['Proposed Height'].hist(bins=30, range=(0,220))\n",
    "ax.set_title('Proposed Height')\n",
    "ax.set_xlabel('Proposed Height (in feet)')\n",
    "ax.grid(False)\n",
    "pd.DataFrame((data['Proposed Height']).describe()).round(1)\n",
    "plt.tight_layout()"
   ]
  },
  {
   "cell_type": "code",
   "execution_count": null,
   "metadata": {},
   "outputs": [],
   "source": [
    "# Boxplot of Proposed Height in each borough. \n",
    "ax = sns.boxplot(data=data,x='Borough', y='Proposed Height')\n",
    "ax.set(ylim=(0,1800))\n",
    "ax.set_xlabel('')\n",
    "ax.set_ylabel('Proposed Height (in feet)')\n",
    "ax.set_title('Proposed Height in each borough')\n",
    "plt.tight_layout()"
   ]
  },
  {
   "cell_type": "code",
   "execution_count": null,
   "metadata": {},
   "outputs": [],
   "source": [
    "# Histogram of Proposed Height. \n",
    "fig,ax = plt.subplots(2,1, sharey=True)\n",
    "plt.subplot(2,1,1)\n",
    "ax = data['Proposed Dwelling Units'].hist(bins=30, color='gold')\n",
    "ax.set_title('Proposed Dwelling Units')\n",
    "# ax.set_xlabel('Proposed Dwelling Units (Number)')\n",
    "ax.grid(False)\n",
    "\n",
    "plt.subplot(2,1,2)\n",
    "ax1 = data['Proposed Dwelling Units'].hist(bins=30, range=(0,25))\n",
    "ax1.set_title('Proposed Dwelling Units (subset between 0 and 25)')\n",
    "ax1.set_xlabel('Proposed Dwelling Units (Number)')\n",
    "ax1.grid(False)\n",
    "\n",
    "plt.tight_layout()\n",
    "pd.DataFrame((data['Proposed Dwelling Units']).describe()).round(1)"
   ]
  },
  {
   "cell_type": "code",
   "execution_count": null,
   "metadata": {},
   "outputs": [],
   "source": [
    "# Boxplot of Proposed Height in each borough. \n",
    "ax = sns.boxplot(data=data,x='Borough', y='Proposed Dwelling Units')\n",
    "ax.set(ylim=(0,1800))\n",
    "ax.set_xlabel('')\n",
    "ax.set_ylabel('Proposed Dwelling Units (number)')\n",
    "ax.set_title('Proposed Dwelling Units in each borough')\n",
    "plt.tight_layout()"
   ]
  },
  {
   "cell_type": "code",
   "execution_count": null,
   "metadata": {},
   "outputs": [],
   "source": [
    "# bar chart of Proposed Occupancy.\n",
    "\n",
    "data.groupby('Proposed Occupancy')['Duration'].mean().sort_values()"
   ]
  },
  {
   "cell_type": "markdown",
   "metadata": {},
   "source": [
    "### Categorical variables that have multiple categories \n",
    "\n",
    "#### How to visualize the categorigal variables that have too many categories for a bar chart or box plot?\n",
    "\n",
    "Zoning, Special Districts and Proposed Occupany variables have multiple categoris each, ranging from 8 (Special District 2) to 43 (Proposed Occupancy) to 164 (Zoning Dist1) and anything in between. "
   ]
  },
  {
   "cell_type": "code",
   "execution_count": null,
   "metadata": {},
   "outputs": [],
   "source": [
    "data['Proposed Occupancy'].unique()"
   ]
  },
  {
   "cell_type": "code",
   "execution_count": null,
   "metadata": {},
   "outputs": [],
   "source": [
    "# Histogram of Proposed Height. \n",
    "\n",
    "fig,ax = plt.subplots(2,1)\n",
    "\n",
    "plt.subplot(2,1,1)\n",
    "ax = data['Total_Construction_Floor_Area'].hist(bins=30, color='orange')\n",
    "ax.set_title('Total_Construction_Floor_Area')\n",
    "# ax.set_xlabel('Total_Construction_Floor_Area (square feet)')\n",
    "ax.grid(False)\n",
    "\n",
    "plt.subplot(2,1,2)\n",
    "ax1 = data['Total_Construction_Floor_Area'].hist(bins=30,  range=(0,20000))\n",
    "ax1.set_title('Total_Construction_Floor_Area - cap at 20,000 sqft')\n",
    "ax1.set_xlabel('Total_Construction_Floor_Area (square feet)')\n",
    "ax1.grid(False)\n",
    "\n",
    "\n",
    "plt.tight_layout()\n",
    "pd.DataFrame((data['Total_Construction_Floor_Area']).describe()).round(1)\n"
   ]
  },
  {
   "cell_type": "code",
   "execution_count": null,
   "metadata": {
    "scrolled": true
   },
   "outputs": [],
   "source": [
    "# Create a histogram of duration and include a statistical analysis.\n",
    "data['Duration'].plot(kind='hist', bins = 200)\n",
    "plt.xlim(0,1000)\n",
    "plt.xlabel('Approval duration (days)')\n",
    "data['Duration'].describe()"
   ]
  },
  {
   "cell_type": "code",
   "execution_count": null,
   "metadata": {
    "scrolled": true
   },
   "outputs": [],
   "source": [
    "# Duration of the approval in each borough. \n",
    "data.groupby('Borough')['Duration'].mean().sort_values().plot(kind='bar', color = 'blue')\n",
    "plt.xlabel('')\n",
    "plt.ylabel('Average days for approval')"
   ]
  },
  {
   "cell_type": "code",
   "execution_count": null,
   "metadata": {},
   "outputs": [],
   "source": [
    "ax = (data.groupby('Borough')['Duration'].agg(['mean','median'])\n",
    "      .sort_values(by='mean').plot(kind='bar'))\n",
    "ax.set_xlabel('')\n",
    "ax.set_ylabel('Duration (days)')\n",
    "ax.set_title('Mean and median duration by borough')"
   ]
  },
  {
   "cell_type": "code",
   "execution_count": null,
   "metadata": {},
   "outputs": [],
   "source": []
  },
  {
   "cell_type": "code",
   "execution_count": null,
   "metadata": {},
   "outputs": [],
   "source": []
  },
  {
   "cell_type": "code",
   "execution_count": null,
   "metadata": {},
   "outputs": [],
   "source": [
    "# scatter plot of Proposed Zoning Sqft (x) Duration (y) \n",
    "plt.scatter(x=data['Proposed Zoning Sqft'], y=data['Duration'])\n"
   ]
  },
  {
   "cell_type": "code",
   "execution_count": null,
   "metadata": {
    "scrolled": false
   },
   "outputs": [],
   "source": []
  },
  {
   "cell_type": "code",
   "execution_count": null,
   "metadata": {},
   "outputs": [],
   "source": [
    "sns.lmplot(x='Total Est. Fee', y='Duration', data=data)"
   ]
  },
  {
   "cell_type": "code",
   "execution_count": null,
   "metadata": {},
   "outputs": [],
   "source": [
    "data.iloc[:,5:].head(2)"
   ]
  },
  {
   "cell_type": "code",
   "execution_count": null,
   "metadata": {},
   "outputs": [],
   "source": []
  },
  {
   "cell_type": "code",
   "execution_count": null,
   "metadata": {},
   "outputs": [],
   "source": [
    "data['TOTAL_CONSTRUCTION_FLOOR_AREA'].mean()"
   ]
  },
  {
   "cell_type": "code",
   "execution_count": null,
   "metadata": {},
   "outputs": [],
   "source": []
  },
  {
   "cell_type": "code",
   "execution_count": null,
   "metadata": {},
   "outputs": [],
   "source": [
    "data.head(2)"
   ]
  },
  {
   "cell_type": "code",
   "execution_count": null,
   "metadata": {
    "scrolled": false
   },
   "outputs": [],
   "source": [
    "data.groupby('Building Type')['Duration'].mean().plot(kind='bar')"
   ]
  },
  {
   "cell_type": "code",
   "execution_count": null,
   "metadata": {},
   "outputs": [],
   "source": [
    "# transform the Boroughs into categories for faster analysis.\n",
    "data['Borough'] = data['Borough'].astype('category')"
   ]
  },
  {
   "cell_type": "code",
   "execution_count": null,
   "metadata": {},
   "outputs": [],
   "source": [
    "(data.groupby(['Borough','Building Type'])['Total_Construction_Floor_Area'].\n",
    " sum().sort_values().plot(kind='bar',color='green'))"
   ]
  },
  {
   "cell_type": "code",
   "execution_count": null,
   "metadata": {},
   "outputs": [],
   "source": [
    "normal_data.iloc[:,4:18]"
   ]
  },
  {
   "cell_type": "markdown",
   "metadata": {},
   "source": [
    "### Selecting outliers\n",
    "\n",
    "Selecting outliers based on the Total_Construction_Floor_Area variable. Applying a filter to\n",
    "select values that are +- 3 standard deviation in this variable. Total number of outliers is\n",
    "517 data points, which is 0.08% of the total data."
   ]
  },
  {
   "cell_type": "code",
   "execution_count": null,
   "metadata": {},
   "outputs": [],
   "source": [
    "from scipy.stats import zscore"
   ]
  },
  {
   "cell_type": "code",
   "execution_count": null,
   "metadata": {},
   "outputs": [],
   "source": [
    "standardized = (data.\n",
    "                groupby('Borough')['Total_Construction_Floor_Area'].transform(zscore))"
   ]
  },
  {
   "cell_type": "code",
   "execution_count": null,
   "metadata": {},
   "outputs": [],
   "source": [
    "outliers = standardized[(standardized > 3) | (standardized < -3)]"
   ]
  },
  {
   "cell_type": "code",
   "execution_count": null,
   "metadata": {},
   "outputs": [],
   "source": [
    "outlier_data = data.iloc[outliers]"
   ]
  },
  {
   "cell_type": "code",
   "execution_count": null,
   "metadata": {},
   "outputs": [],
   "source": [
    "outlier_data"
   ]
  },
  {
   "cell_type": "code",
   "execution_count": null,
   "metadata": {},
   "outputs": [],
   "source": [
    "ax = (outlier_data.groupby('Borough').mean()\n",
    "      ['Duration'].sort_values().plot(kind='bar', color='b'))\n",
    "\n",
    "ax.set_ylabel('Duration (days)')\n",
    "ax.set_xlabel('')"
   ]
  },
  {
   "cell_type": "code",
   "execution_count": null,
   "metadata": {},
   "outputs": [],
   "source": [
    "data.head(2)"
   ]
  },
  {
   "cell_type": "code",
   "execution_count": null,
   "metadata": {},
   "outputs": [],
   "source": [
    "by_boro_data = (data.groupby(\n",
    "    ['Borough','Pre- Filing Date'])['Duration']).agg(['median', 'max', 'min'])"
   ]
  },
  {
   "cell_type": "code",
   "execution_count": null,
   "metadata": {},
   "outputs": [],
   "source": []
  }
 ],
 "metadata": {
  "kernelspec": {
   "display_name": "Python 3",
   "language": "python",
   "name": "python3"
  },
  "language_info": {
   "codemirror_mode": {
    "name": "ipython",
    "version": 3
   },
   "file_extension": ".py",
   "mimetype": "text/x-python",
   "name": "python",
   "nbconvert_exporter": "python",
   "pygments_lexer": "ipython3",
   "version": "3.7.0"
  }
 },
 "nbformat": 4,
 "nbformat_minor": 2
}
