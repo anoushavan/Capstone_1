{
 "cells": [
  {
   "cell_type": "code",
   "execution_count": 301,
   "metadata": {},
   "outputs": [],
   "source": [
    "import pandas as pd\n",
    "import numpy as np\n",
    "from datetime import datetime\n",
    "from matplotlib import pyplot as plt\n",
    "import seaborn as sns"
   ]
  },
  {
   "cell_type": "code",
   "execution_count": 302,
   "metadata": {},
   "outputs": [],
   "source": [
    "%matplotlib inline"
   ]
  },
  {
   "cell_type": "code",
   "execution_count": 303,
   "metadata": {},
   "outputs": [
    {
     "name": "stderr",
     "output_type": "stream",
     "text": [
      "/Users/anushavan/anaconda3/lib/python3.7/site-packages/IPython/core/interactiveshell.py:2785: DtypeWarning: Columns (13) have mixed types. Specify dtype option on import or set low_memory=False.\n",
      "  interactivity=interactivity, compiler=compiler, result=result)\n"
     ]
    }
   ],
   "source": [
    "data = pd.read_csv(\"/Users/anushavan/Desktop/Study/\\\n",
    "Data_Science/Springboard/Capstone_1/data/new_buildings.csv\", \n",
    "                parse_dates=['Pre- Filing Date','Fully Paid', \n",
    "                            'Approved','Fully Permitted','SIGNOFF_DATE'])"
   ]
  },
  {
   "cell_type": "code",
   "execution_count": 304,
   "metadata": {
    "scrolled": true
   },
   "outputs": [
    {
     "name": "stdout",
     "output_type": "stream",
     "text": [
      "<class 'pandas.core.frame.DataFrame'>\n",
      "RangeIndex: 118461 entries, 0 to 118460\n",
      "Data columns (total 23 columns):\n",
      "Borough                          118461 non-null object\n",
      "Building Type                    118461 non-null object\n",
      "eFiling Filed                    49594 non-null object\n",
      "Applicant Professional Title     118456 non-null object\n",
      "Professional Cert                84910 non-null object\n",
      "Pre- Filing Date                 118461 non-null datetime64[ns]\n",
      "Fully Paid                       117514 non-null datetime64[ns]\n",
      "Approved                         70616 non-null datetime64[ns]\n",
      "Fully Permitted                  62940 non-null datetime64[ns]\n",
      "Total Est. Fee                   118461 non-null object\n",
      "Proposed Zoning Sqft             118461 non-null int64\n",
      "Proposed No. of Stories          118461 non-null int64\n",
      "Proposed Height                  118461 non-null int64\n",
      "Proposed Dwelling Units          68282 non-null object\n",
      "Proposed Occupancy               79917 non-null object\n",
      "Zoning Dist1                     79917 non-null object\n",
      "Zoning Dist2                     6244 non-null object\n",
      "Zoning Dist3                     247 non-null object\n",
      "Special District 1               7724 non-null object\n",
      "Special District 2               901 non-null object\n",
      "Non-Profit                       102598 non-null object\n",
      "TOTAL_CONSTRUCTION_FLOOR_AREA    118461 non-null int64\n",
      "SIGNOFF_DATE                     73450 non-null datetime64[ns]\n",
      "dtypes: datetime64[ns](5), int64(4), object(14)\n",
      "memory usage: 20.8+ MB\n"
     ]
    }
   ],
   "source": [
    "data.info()"
   ]
  },
  {
   "cell_type": "code",
   "execution_count": 317,
   "metadata": {},
   "outputs": [],
   "source": [
    "# Convert all data columns to Title Case\n",
    "data.columns = data.columns.str.title()\n",
    "\n",
    "# Convert Total Est. Fee to float data and remove $ symbol \n",
    "data['Total Est. Fee']= [float(c.replace('$','')) for c in data['Total Est. Fee']]\n",
    "\n",
    "# Convert Proposed Dwelling Units to integers\n",
    "# data['Proposed Dwelling Units'].astype(int)"
   ]
  },
  {
   "cell_type": "code",
   "execution_count": 364,
   "metadata": {},
   "outputs": [
    {
     "data": {
      "text/html": [
       "<div>\n",
       "<style scoped>\n",
       "    .dataframe tbody tr th:only-of-type {\n",
       "        vertical-align: middle;\n",
       "    }\n",
       "\n",
       "    .dataframe tbody tr th {\n",
       "        vertical-align: top;\n",
       "    }\n",
       "\n",
       "    .dataframe thead th {\n",
       "        text-align: right;\n",
       "    }\n",
       "</style>\n",
       "<table border=\"1\" class=\"dataframe\">\n",
       "  <thead>\n",
       "    <tr style=\"text-align: right;\">\n",
       "      <th></th>\n",
       "      <th>Borough</th>\n",
       "      <th>Building Type</th>\n",
       "      <th>Efiling Filed</th>\n",
       "      <th>Applicant Professional Title</th>\n",
       "      <th>Professional Cert</th>\n",
       "      <th>Pre- Filing Date</th>\n",
       "      <th>Fully Paid</th>\n",
       "      <th>Approved</th>\n",
       "      <th>Fully Permitted</th>\n",
       "      <th>Total Est. Fee</th>\n",
       "      <th>...</th>\n",
       "      <th>Proposed Occupancy</th>\n",
       "      <th>Zoning Dist1</th>\n",
       "      <th>Zoning Dist2</th>\n",
       "      <th>Zoning Dist3</th>\n",
       "      <th>Special District 1</th>\n",
       "      <th>Special District 2</th>\n",
       "      <th>Non-Profit</th>\n",
       "      <th>Total_Construction_Floor_Area</th>\n",
       "      <th>Signoff_Date</th>\n",
       "      <th>Duration</th>\n",
       "    </tr>\n",
       "  </thead>\n",
       "  <tbody>\n",
       "    <tr>\n",
       "      <th>0</th>\n",
       "      <td>QUEENS</td>\n",
       "      <td>1-2-3 FAMILY</td>\n",
       "      <td>Y</td>\n",
       "      <td>RA</td>\n",
       "      <td>N</td>\n",
       "      <td>2018-11-02</td>\n",
       "      <td>2018-11-02</td>\n",
       "      <td>2019-04-09</td>\n",
       "      <td>NaT</td>\n",
       "      <td>243.00</td>\n",
       "      <td>...</td>\n",
       "      <td>R-3</td>\n",
       "      <td>R3A</td>\n",
       "      <td>NaN</td>\n",
       "      <td>NaN</td>\n",
       "      <td>NaN</td>\n",
       "      <td>NaN</td>\n",
       "      <td>N</td>\n",
       "      <td>4050</td>\n",
       "      <td>NaT</td>\n",
       "      <td>158 days</td>\n",
       "    </tr>\n",
       "    <tr>\n",
       "      <th>1</th>\n",
       "      <td>BROOKLYN</td>\n",
       "      <td>OTHERS</td>\n",
       "      <td>Y</td>\n",
       "      <td>RA</td>\n",
       "      <td>N</td>\n",
       "      <td>2012-03-23</td>\n",
       "      <td>2012-03-27</td>\n",
       "      <td>2013-03-14</td>\n",
       "      <td>2014-11-13</td>\n",
       "      <td>52167.26</td>\n",
       "      <td>...</td>\n",
       "      <td>R-1</td>\n",
       "      <td>M1-2/R6</td>\n",
       "      <td>NaN</td>\n",
       "      <td>NaN</td>\n",
       "      <td>MX-8</td>\n",
       "      <td>GW</td>\n",
       "      <td>N</td>\n",
       "      <td>198951</td>\n",
       "      <td>NaT</td>\n",
       "      <td>352 days</td>\n",
       "    </tr>\n",
       "    <tr>\n",
       "      <th>2</th>\n",
       "      <td>BROOKLYN</td>\n",
       "      <td>OTHERS</td>\n",
       "      <td>Y</td>\n",
       "      <td>RA</td>\n",
       "      <td>N</td>\n",
       "      <td>2018-11-05</td>\n",
       "      <td>2018-11-05</td>\n",
       "      <td>NaT</td>\n",
       "      <td>NaT</td>\n",
       "      <td>16954.20</td>\n",
       "      <td>...</td>\n",
       "      <td>R-2</td>\n",
       "      <td>R7A</td>\n",
       "      <td>NaN</td>\n",
       "      <td>NaN</td>\n",
       "      <td>NaN</td>\n",
       "      <td>NaN</td>\n",
       "      <td>N</td>\n",
       "      <td>37676</td>\n",
       "      <td>NaT</td>\n",
       "      <td>NaT</td>\n",
       "    </tr>\n",
       "    <tr>\n",
       "      <th>3</th>\n",
       "      <td>QUEENS</td>\n",
       "      <td>1-2-3 FAMILY</td>\n",
       "      <td>Y</td>\n",
       "      <td>RA</td>\n",
       "      <td>N</td>\n",
       "      <td>2013-03-05</td>\n",
       "      <td>2013-03-06</td>\n",
       "      <td>2015-05-29</td>\n",
       "      <td>NaT</td>\n",
       "      <td>1619.08</td>\n",
       "      <td>...</td>\n",
       "      <td>R-3</td>\n",
       "      <td>R1-2</td>\n",
       "      <td>NaN</td>\n",
       "      <td>NaN</td>\n",
       "      <td>NaN</td>\n",
       "      <td>NaN</td>\n",
       "      <td>N</td>\n",
       "      <td>12159</td>\n",
       "      <td>NaT</td>\n",
       "      <td>814 days</td>\n",
       "    </tr>\n",
       "    <tr>\n",
       "      <th>4</th>\n",
       "      <td>QUEENS</td>\n",
       "      <td>1-2-3 FAMILY</td>\n",
       "      <td>Y</td>\n",
       "      <td>RA</td>\n",
       "      <td>Y</td>\n",
       "      <td>2018-11-05</td>\n",
       "      <td>2018-11-05</td>\n",
       "      <td>2019-01-31</td>\n",
       "      <td>NaT</td>\n",
       "      <td>100.00</td>\n",
       "      <td>...</td>\n",
       "      <td>U</td>\n",
       "      <td>R4-1</td>\n",
       "      <td>NaN</td>\n",
       "      <td>NaN</td>\n",
       "      <td>NaN</td>\n",
       "      <td>NaN</td>\n",
       "      <td>N</td>\n",
       "      <td>300</td>\n",
       "      <td>NaT</td>\n",
       "      <td>87 days</td>\n",
       "    </tr>\n",
       "  </tbody>\n",
       "</table>\n",
       "<p>5 rows × 24 columns</p>\n",
       "</div>"
      ],
      "text/plain": [
       "    Borough Building Type Efiling Filed Applicant Professional Title  \\\n",
       "0    QUEENS  1-2-3 FAMILY             Y                           RA   \n",
       "1  BROOKLYN        OTHERS             Y                           RA   \n",
       "2  BROOKLYN        OTHERS             Y                           RA   \n",
       "3    QUEENS  1-2-3 FAMILY             Y                           RA   \n",
       "4    QUEENS  1-2-3 FAMILY             Y                           RA   \n",
       "\n",
       "  Professional Cert Pre- Filing Date Fully Paid   Approved Fully Permitted  \\\n",
       "0                 N       2018-11-02 2018-11-02 2019-04-09             NaT   \n",
       "1                 N       2012-03-23 2012-03-27 2013-03-14      2014-11-13   \n",
       "2                 N       2018-11-05 2018-11-05        NaT             NaT   \n",
       "3                 N       2013-03-05 2013-03-06 2015-05-29             NaT   \n",
       "4                 Y       2018-11-05 2018-11-05 2019-01-31             NaT   \n",
       "\n",
       "   Total Est. Fee   ...     Proposed Occupancy  Zoning Dist1  Zoning Dist2  \\\n",
       "0          243.00   ...                    R-3           R3A           NaN   \n",
       "1        52167.26   ...                    R-1       M1-2/R6           NaN   \n",
       "2        16954.20   ...                    R-2           R7A           NaN   \n",
       "3         1619.08   ...                    R-3          R1-2           NaN   \n",
       "4          100.00   ...                      U          R4-1           NaN   \n",
       "\n",
       "  Zoning Dist3 Special District 1 Special District 2 Non-Profit  \\\n",
       "0          NaN                NaN                NaN          N   \n",
       "1          NaN               MX-8                 GW          N   \n",
       "2          NaN                NaN                NaN          N   \n",
       "3          NaN                NaN                NaN          N   \n",
       "4          NaN                NaN                NaN          N   \n",
       "\n",
       "  Total_Construction_Floor_Area Signoff_Date Duration  \n",
       "0                          4050          NaT 158 days  \n",
       "1                        198951          NaT 352 days  \n",
       "2                         37676          NaT      NaT  \n",
       "3                         12159          NaT 814 days  \n",
       "4                           300          NaT  87 days  \n",
       "\n",
       "[5 rows x 24 columns]"
      ]
     },
     "execution_count": 364,
     "metadata": {},
     "output_type": "execute_result"
    }
   ],
   "source": [
    "data.head()"
   ]
  },
  {
   "cell_type": "code",
   "execution_count": 366,
   "metadata": {},
   "outputs": [],
   "source": [
    "data['Duration'] = (data['Approved'] - data['Fully Paid']).dt.days"
   ]
  },
  {
   "cell_type": "code",
   "execution_count": 368,
   "metadata": {},
   "outputs": [],
   "source": [
    "# Subset of data where the Duration is more than 0 days\n",
    "normal_data = data[data['Duration'] > 0]\n",
    "\n",
    "# Subset of data where the Duration is less then 0 days\n",
    "odd_data = data[data['Duration'] < 0]\n",
    "\n",
    "# Subset of data where the Duration is 0 days\n",
    "zero_data = data[data['Duration'] == 0]"
   ]
  },
  {
   "cell_type": "markdown",
   "metadata": {},
   "source": [
    "#### Dealing with blank (NaN/NaT) values\n",
    "\n",
    "converting the NaN values to N string indicating No."
   ]
  },
  {
   "cell_type": "code",
   "execution_count": 344,
   "metadata": {},
   "outputs": [
    {
     "name": "stderr",
     "output_type": "stream",
     "text": [
      "/Users/anushavan/anaconda3/lib/python3.7/site-packages/ipykernel_launcher.py:2: SettingWithCopyWarning: \n",
      "A value is trying to be set on a copy of a slice from a DataFrame.\n",
      "Try using .loc[row_indexer,col_indexer] = value instead\n",
      "\n",
      "See the caveats in the documentation: http://pandas.pydata.org/pandas-docs/stable/indexing.html#indexing-view-versus-copy\n",
      "  \n"
     ]
    }
   ],
   "source": [
    "# Column Efiling Filed: replace the NaN values with N (No)\n",
    "normal_data['Efiling Filed'] = normal_data['Efiling Filed'].fillna('N')"
   ]
  },
  {
   "cell_type": "code",
   "execution_count": 358,
   "metadata": {},
   "outputs": [
    {
     "name": "stderr",
     "output_type": "stream",
     "text": [
      "/Users/anushavan/anaconda3/lib/python3.7/site-packages/ipykernel_launcher.py:1: SettingWithCopyWarning: \n",
      "A value is trying to be set on a copy of a slice from a DataFrame.\n",
      "Try using .loc[row_indexer,col_indexer] = value instead\n",
      "\n",
      "See the caveats in the documentation: http://pandas.pydata.org/pandas-docs/stable/indexing.html#indexing-view-versus-copy\n",
      "  \"\"\"Entry point for launching an IPython kernel.\n"
     ]
    }
   ],
   "source": [
    "normal_data['Professional Cert'] = normal_data['Professional Cert'].fillna('N')"
   ]
  },
  {
   "cell_type": "markdown",
   "metadata": {},
   "source": [
    "##### Potential columns to drop\n",
    "The column \"Proposed Dwelling Units\" has 50392 not null values.\n",
    "\n",
    "The columnn \"Fully Permitted\" has 7070 NaT entries.\n",
    "\n",
    "\n",
    "##### Drop rows\n",
    "There are 2 rows in the \"Applicant Professional Title\" column that are blank. Assigned them\n",
    "to del_rows variable and deleted. "
   ]
  },
  {
   "cell_type": "code",
   "execution_count": 376,
   "metadata": {},
   "outputs": [
    {
     "name": "stderr",
     "output_type": "stream",
     "text": [
      "/Users/anushavan/anaconda3/lib/python3.7/site-packages/pandas/core/frame.py:3697: SettingWithCopyWarning: \n",
      "A value is trying to be set on a copy of a slice from a DataFrame\n",
      "\n",
      "See the caveats in the documentation: http://pandas.pydata.org/pandas-docs/stable/indexing.html#indexing-view-versus-copy\n",
      "  errors=errors)\n"
     ]
    }
   ],
   "source": [
    "del_rows = normal_data[normal_data['Applicant Professional Title'].isnull()].index\n",
    "normal_data.drop(del_rows, inplace=True)"
   ]
  },
  {
   "cell_type": "markdown",
   "metadata": {},
   "source": [
    "### Analysis of normal_data\n",
    "\n",
    "createing:\n",
    "1) histograms (for categorical variables)\n",
    "2) bar charts (for continuous variables) and \n",
    "3) boxplots for categorical variables (x axis) and a continuous variable (y axis).\n"
   ]
  },
  {
   "cell_type": "code",
   "execution_count": 383,
   "metadata": {},
   "outputs": [
    {
     "data": {
      "text/plain": [
       "count    59078.000000\n",
       "mean       167.166915\n",
       "std        259.643975\n",
       "min          1.000000\n",
       "25%         25.000000\n",
       "50%         83.000000\n",
       "75%        201.000000\n",
       "max       4959.000000\n",
       "Name: Duration, dtype: float64"
      ]
     },
     "execution_count": 383,
     "metadata": {},
     "output_type": "execute_result"
    },
    {
     "data": {
      "image/png": "[encoded data removed]",
      "text/plain": [
       "<Figure size 432x288 with 1 Axes>"
      ]
     },
     "metadata": {
      "needs_background": "light"
     },
     "output_type": "display_data"
    }
   ],
   "source": [
    "# Create a histogram of duration and include a statistical analysis.\n",
    "\n",
    "normal_data['Duration'].plot(kind='hist', bins = 200)\n",
    "plt.xlim(0,1500)\n",
    "plt.xlabel('Approval duration (days)')\n",
    "normal_data['Duration'].describe()"
   ]
  },
  {
   "cell_type": "code",
   "execution_count": 387,
   "metadata": {},
   "outputs": [],
   "source": [
    "# create a histogram for Boroughs\n",
    "\n",
    "boroughs = normal_data.groupby('Borough').count()"
   ]
  },
  {
   "cell_type": "code",
   "execution_count": 406,
   "metadata": {},
   "outputs": [
    {
     "data": {
      "text/plain": [
       "Text(0.5,0,'')"
      ]
     },
     "execution_count": 406,
     "metadata": {},
     "output_type": "execute_result"
    },
    {
     "data": {
      "image/png": "[encoded data removed]",
      "text/plain": [
       "<Figure size 432x288 with 1 Axes>"
      ]
     },
     "metadata": {
      "needs_background": "light"
     },
     "output_type": "display_data"
    }
   ],
   "source": [
    "ax = boroughs['Approved'].sort_values().plot(kind='bar', color = 'lightblue')\n",
    "ax.set_ylabel('Number of building permits approved')\n",
    "ax.set_xlabel('')"
   ]
  },
  {
   "cell_type": "code",
   "execution_count": 365,
   "metadata": {
    "scrolled": true
   },
   "outputs": [
    {
     "data": {
      "text/plain": [
       "count    59080.000000\n",
       "mean       167.167011\n",
       "std        259.639665\n",
       "min          1.000000\n",
       "25%         25.000000\n",
       "50%         83.000000\n",
       "75%        201.000000\n",
       "max       4959.000000\n",
       "Name: Duration, dtype: float64"
      ]
     },
     "execution_count": 365,
     "metadata": {},
     "output_type": "execute_result"
    },
    {
     "data": {
      "image/png": "[encoded data removed]",
      "text/plain": [
       "<Figure size 432x288 with 1 Axes>"
      ]
     },
     "metadata": {
      "needs_background": "light"
     },
     "output_type": "display_data"
    }
   ],
   "source": [
    "sns.scatterplot(normal_data\n",
    "                ['Duration'].dt.days,\n",
    "                newdata['TOTAL_CONSTRUCTION_FLOOR_AREA']/1000)\n",
    "plt.xlabel('Approval duration (days)')\n",
    "plt.ylabel(\"Construction area (000's square feet)\")\n",
    "plt.xlim(0,3000)\n",
    "plt.ylim(0,1250)\n",
    "\n",
    "normal_data['Duration'].dt.days.describe()"
   ]
  },
  {
   "cell_type": "code",
   "execution_count": 276,
   "metadata": {},
   "outputs": [
    {
     "data": {
      "text/plain": [
       "13556.563524035206"
      ]
     },
     "execution_count": 276,
     "metadata": {},
     "output_type": "execute_result"
    }
   ],
   "source": [
    "normal_data['TOTAL_CONSTRUCTION_FLOOR_AREA'].mean()"
   ]
  },
  {
   "cell_type": "code",
   "execution_count": 277,
   "metadata": {},
   "outputs": [
    {
     "data": {
      "text/plain": [
       "59804.045454545456"
      ]
     },
     "execution_count": 277,
     "metadata": {},
     "output_type": "execute_result"
    }
   ],
   "source": [
    "odd_data['TOTAL_CONSTRUCTION_FLOOR_AREA'].mean()"
   ]
  },
  {
   "cell_type": "code",
   "execution_count": 238,
   "metadata": {},
   "outputs": [
    {
     "data": {
      "text/plain": [
       "11479"
      ]
     },
     "execution_count": 238,
     "metadata": {},
     "output_type": "execute_result"
    }
   ],
   "source": [
    "# Number of data points where Duration is 0\n",
    "zero = data[data['Duration'].dt.days == 0].count()['Duration']\n",
    "zero"
   ]
  },
  {
   "cell_type": "code",
   "execution_count": 242,
   "metadata": {},
   "outputs": [
    {
     "data": {
      "text/plain": [
       "44"
      ]
     },
     "execution_count": 242,
     "metadata": {},
     "output_type": "execute_result"
    }
   ],
   "source": [
    "# Number of data points where Duration is Negative\n",
    "negative = data[data['Duration'] < '0 days'].count()['Duration']\n",
    "negative"
   ]
  },
  {
   "cell_type": "code",
   "execution_count": 256,
   "metadata": {},
   "outputs": [
    {
     "data": {
      "text/plain": [
       "47858"
      ]
     },
     "execution_count": 256,
     "metadata": {},
     "output_type": "execute_result"
    }
   ],
   "source": [
    "# Number of data points where Duration is NaN \n",
    "nan_vals = data[data['Duration'].isna()].count()['Borough']\n",
    "nan_vals"
   ]
  },
  {
   "cell_type": "code",
   "execution_count": 260,
   "metadata": {},
   "outputs": [
    {
     "data": {
      "text/plain": [
       "118461"
      ]
     },
     "execution_count": 260,
     "metadata": {},
     "output_type": "execute_result"
    }
   ],
   "source": [
    "zero + negative + nan_vals + normal"
   ]
  },
  {
   "cell_type": "code",
   "execution_count": 259,
   "metadata": {},
   "outputs": [
    {
     "data": {
      "text/plain": [
       "59080"
      ]
     },
     "execution_count": 259,
     "metadata": {},
     "output_type": "execute_result"
    }
   ],
   "source": [
    "normal = newdata.count()['Duration']\n",
    "normal"
   ]
  },
  {
   "cell_type": "code",
   "execution_count": 264,
   "metadata": {},
   "outputs": [
    {
     "data": {
      "text/plain": [
       "11479"
      ]
     },
     "execution_count": 264,
     "metadata": {},
     "output_type": "execute_result"
    }
   ],
   "source": [
    "zero"
   ]
  },
  {
   "cell_type": "code",
   "execution_count": 16,
   "metadata": {},
   "outputs": [],
   "source": [
    "small = data.sample(frac = 0.01)"
   ]
  },
  {
   "cell_type": "code",
   "execution_count": 76,
   "metadata": {},
   "outputs": [
    {
     "data": {
      "text/plain": [
       "count                         723\n",
       "mean     153 days 20:14:56.265560\n",
       "std      219 days 21:12:29.437037\n",
       "min               0 days 00:00:00\n",
       "25%              21 days 00:00:00\n",
       "50%              77 days 00:00:00\n",
       "75%             192 days 00:00:00\n",
       "max            1964 days 00:00:00\n",
       "Name: Time_to_approve, dtype: object"
      ]
     },
     "execution_count": 76,
     "metadata": {},
     "output_type": "execute_result"
    }
   ],
   "source": [
    "small['Time_to_approve'].describe()"
   ]
  }
 ],
 "metadata": {
  "kernelspec": {
   "display_name": "Python 3",
   "language": "python",
   "name": "python3"
  },
  "language_info": {
   "codemirror_mode": {
    "name": "ipython",
    "version": 3
   },
   "file_extension": ".py",
   "mimetype": "text/x-python",
   "name": "python",
   "nbconvert_exporter": "python",
   "pygments_lexer": "ipython3",
   "version": "3.7.0"
  }
 },
 "nbformat": 4,
 "nbformat_minor": 2
}
