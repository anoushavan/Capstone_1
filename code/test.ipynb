{
 "cells": [
  {
   "cell_type": "code",
   "execution_count": 376,
   "metadata": {},
   "outputs": [],
   "source": [
    "import pandas as pd\n",
    "import numpy as np\n",
    "from datetime import datetime\n",
    "from matplotlib import pyplot as plt\n",
    "import seaborn as sns"
   ]
  },
  {
   "cell_type": "code",
   "execution_count": 377,
   "metadata": {},
   "outputs": [],
   "source": [
    "%matplotlib inline"
   ]
  },
  {
   "cell_type": "code",
   "execution_count": 485,
   "metadata": {},
   "outputs": [
    {
     "ename": "KeyboardInterrupt",
     "evalue": "",
     "output_type": "error",
     "traceback": [
      "\u001b[0;31m---------------------------------------------------------------------------\u001b[0m",
      "\u001b[0;31mKeyboardInterrupt\u001b[0m                         Traceback (most recent call last)",
      "\u001b[0;32m<timed exec>\u001b[0m in \u001b[0;36m<module>\u001b[0;34m()\u001b[0m\n",
      "\u001b[0;32m~/anaconda3/lib/python3.7/site-packages/pandas/core/frame.py\u001b[0m in \u001b[0;36mappend\u001b[0;34m(self, other, ignore_index, verify_integrity, sort)\u001b[0m\n\u001b[1;32m   6209\u001b[0m         return concat(to_concat, ignore_index=ignore_index,\n\u001b[1;32m   6210\u001b[0m                       \u001b[0mverify_integrity\u001b[0m\u001b[0;34m=\u001b[0m\u001b[0mverify_integrity\u001b[0m\u001b[0;34m,\u001b[0m\u001b[0;34m\u001b[0m\u001b[0m\n\u001b[0;32m-> 6211\u001b[0;31m                       sort=sort)\n\u001b[0m\u001b[1;32m   6212\u001b[0m \u001b[0;34m\u001b[0m\u001b[0m\n\u001b[1;32m   6213\u001b[0m     def join(self, other, on=None, how='left', lsuffix='', rsuffix='',\n",
      "\u001b[0;32m~/anaconda3/lib/python3.7/site-packages/pandas/core/reshape/concat.py\u001b[0m in \u001b[0;36mconcat\u001b[0;34m(objs, axis, join, join_axes, ignore_index, keys, levels, names, verify_integrity, sort, copy)\u001b[0m\n\u001b[1;32m    224\u001b[0m                        \u001b[0mverify_integrity\u001b[0m\u001b[0;34m=\u001b[0m\u001b[0mverify_integrity\u001b[0m\u001b[0;34m,\u001b[0m\u001b[0;34m\u001b[0m\u001b[0m\n\u001b[1;32m    225\u001b[0m                        copy=copy, sort=sort)\n\u001b[0;32m--> 226\u001b[0;31m     \u001b[0;32mreturn\u001b[0m \u001b[0mop\u001b[0m\u001b[0;34m.\u001b[0m\u001b[0mget_result\u001b[0m\u001b[0;34m(\u001b[0m\u001b[0;34m)\u001b[0m\u001b[0;34m\u001b[0m\u001b[0m\n\u001b[0m\u001b[1;32m    227\u001b[0m \u001b[0;34m\u001b[0m\u001b[0m\n\u001b[1;32m    228\u001b[0m \u001b[0;34m\u001b[0m\u001b[0m\n",
      "\u001b[0;32m~/anaconda3/lib/python3.7/site-packages/pandas/core/reshape/concat.py\u001b[0m in \u001b[0;36mget_result\u001b[0;34m(self)\u001b[0m\n\u001b[1;32m    421\u001b[0m             new_data = concatenate_block_managers(\n\u001b[1;32m    422\u001b[0m                 \u001b[0mmgrs_indexers\u001b[0m\u001b[0;34m,\u001b[0m \u001b[0mself\u001b[0m\u001b[0;34m.\u001b[0m\u001b[0mnew_axes\u001b[0m\u001b[0;34m,\u001b[0m \u001b[0mconcat_axis\u001b[0m\u001b[0;34m=\u001b[0m\u001b[0mself\u001b[0m\u001b[0;34m.\u001b[0m\u001b[0maxis\u001b[0m\u001b[0;34m,\u001b[0m\u001b[0;34m\u001b[0m\u001b[0m\n\u001b[0;32m--> 423\u001b[0;31m                 copy=self.copy)\n\u001b[0m\u001b[1;32m    424\u001b[0m             \u001b[0;32mif\u001b[0m \u001b[0;32mnot\u001b[0m \u001b[0mself\u001b[0m\u001b[0;34m.\u001b[0m\u001b[0mcopy\u001b[0m\u001b[0;34m:\u001b[0m\u001b[0;34m\u001b[0m\u001b[0m\n\u001b[1;32m    425\u001b[0m                 \u001b[0mnew_data\u001b[0m\u001b[0;34m.\u001b[0m\u001b[0m_consolidate_inplace\u001b[0m\u001b[0;34m(\u001b[0m\u001b[0;34m)\u001b[0m\u001b[0;34m\u001b[0m\u001b[0m\n",
      "\u001b[0;32m~/anaconda3/lib/python3.7/site-packages/pandas/core/internals.py\u001b[0m in \u001b[0;36mconcatenate_block_managers\u001b[0;34m(mgrs_indexers, axes, concat_axis, copy)\u001b[0m\n\u001b[1;32m   5419\u001b[0m         \u001b[0;32melse\u001b[0m\u001b[0;34m:\u001b[0m\u001b[0;34m\u001b[0m\u001b[0m\n\u001b[1;32m   5420\u001b[0m             b = make_block(\n\u001b[0;32m-> 5421\u001b[0;31m                 \u001b[0mconcatenate_join_units\u001b[0m\u001b[0;34m(\u001b[0m\u001b[0mjoin_units\u001b[0m\u001b[0;34m,\u001b[0m \u001b[0mconcat_axis\u001b[0m\u001b[0;34m,\u001b[0m \u001b[0mcopy\u001b[0m\u001b[0;34m=\u001b[0m\u001b[0mcopy\u001b[0m\u001b[0;34m)\u001b[0m\u001b[0;34m,\u001b[0m\u001b[0;34m\u001b[0m\u001b[0m\n\u001b[0m\u001b[1;32m   5422\u001b[0m                 placement=placement)\n\u001b[1;32m   5423\u001b[0m         \u001b[0mblocks\u001b[0m\u001b[0;34m.\u001b[0m\u001b[0mappend\u001b[0m\u001b[0;34m(\u001b[0m\u001b[0mb\u001b[0m\u001b[0;34m)\u001b[0m\u001b[0;34m\u001b[0m\u001b[0m\n",
      "\u001b[0;32m~/anaconda3/lib/python3.7/site-packages/pandas/core/internals.py\u001b[0m in \u001b[0;36mconcatenate_join_units\u001b[0;34m(join_units, concat_axis, copy)\u001b[0m\n\u001b[1;32m   5577\u001b[0m                 \u001b[0mconcat_values\u001b[0m \u001b[0;34m=\u001b[0m \u001b[0mconcat_values\u001b[0m\u001b[0;34m.\u001b[0m\u001b[0mcopy\u001b[0m\u001b[0;34m(\u001b[0m\u001b[0;34m)\u001b[0m\u001b[0;34m\u001b[0m\u001b[0m\n\u001b[1;32m   5578\u001b[0m     \u001b[0;32melse\u001b[0m\u001b[0;34m:\u001b[0m\u001b[0;34m\u001b[0m\u001b[0m\n\u001b[0;32m-> 5579\u001b[0;31m         \u001b[0mconcat_values\u001b[0m \u001b[0;34m=\u001b[0m \u001b[0m_concat\u001b[0m\u001b[0;34m.\u001b[0m\u001b[0m_concat_compat\u001b[0m\u001b[0;34m(\u001b[0m\u001b[0mto_concat\u001b[0m\u001b[0;34m,\u001b[0m \u001b[0maxis\u001b[0m\u001b[0;34m=\u001b[0m\u001b[0mconcat_axis\u001b[0m\u001b[0;34m)\u001b[0m\u001b[0;34m\u001b[0m\u001b[0m\n\u001b[0m\u001b[1;32m   5580\u001b[0m \u001b[0;34m\u001b[0m\u001b[0m\n\u001b[1;32m   5581\u001b[0m     \u001b[0;32mreturn\u001b[0m \u001b[0mconcat_values\u001b[0m\u001b[0;34m\u001b[0m\u001b[0m\n",
      "\u001b[0;32m~/anaconda3/lib/python3.7/site-packages/pandas/core/dtypes/concat.py\u001b[0m in \u001b[0;36m_concat_compat\u001b[0;34m(to_concat, axis)\u001b[0m\n\u001b[1;32m    194\u001b[0m                 \u001b[0mto_concat\u001b[0m \u001b[0;34m=\u001b[0m \u001b[0;34m[\u001b[0m\u001b[0mx\u001b[0m\u001b[0;34m.\u001b[0m\u001b[0mastype\u001b[0m\u001b[0;34m(\u001b[0m\u001b[0;34m'object'\u001b[0m\u001b[0;34m)\u001b[0m \u001b[0;32mfor\u001b[0m \u001b[0mx\u001b[0m \u001b[0;32min\u001b[0m \u001b[0mto_concat\u001b[0m\u001b[0;34m]\u001b[0m\u001b[0;34m\u001b[0m\u001b[0m\n\u001b[1;32m    195\u001b[0m \u001b[0;34m\u001b[0m\u001b[0m\n\u001b[0;32m--> 196\u001b[0;31m     \u001b[0;32mreturn\u001b[0m \u001b[0mnp\u001b[0m\u001b[0;34m.\u001b[0m\u001b[0mconcatenate\u001b[0m\u001b[0;34m(\u001b[0m\u001b[0mto_concat\u001b[0m\u001b[0;34m,\u001b[0m \u001b[0maxis\u001b[0m\u001b[0;34m=\u001b[0m\u001b[0maxis\u001b[0m\u001b[0;34m)\u001b[0m\u001b[0;34m\u001b[0m\u001b[0m\n\u001b[0m\u001b[1;32m    197\u001b[0m \u001b[0;34m\u001b[0m\u001b[0m\n\u001b[1;32m    198\u001b[0m \u001b[0;34m\u001b[0m\u001b[0m\n",
      "\u001b[0;31mKeyboardInterrupt\u001b[0m: "
     ]
    }
   ],
   "source": [
    "%%time\n",
    "url = \"https://raw.githubusercontent.com/anoushavan/Capstone_1/master/data/new_buildings.csv\"\n",
    "\n",
    "data = pd.read_csv(url,parse_dates=['Fully Paid','Approved','SIGNOFF_DATE'])\n",
    "\n",
    "# df = pd.DataFrame()\n",
    "\n",
    "# for chunk in file_reader:\n",
    "#     df = df.append(chunk)\n",
    "\n",
    "# df.head()"
   ]
  },
  {
   "cell_type": "code",
   "execution_count": 480,
   "metadata": {},
   "outputs": [
    {
     "data": {
      "text/html": [
       "<div>\n",
       "<style scoped>\n",
       "    .dataframe tbody tr th:only-of-type {\n",
       "        vertical-align: middle;\n",
       "    }\n",
       "\n",
       "    .dataframe tbody tr th {\n",
       "        vertical-align: top;\n",
       "    }\n",
       "\n",
       "    .dataframe thead th {\n",
       "        text-align: right;\n",
       "    }\n",
       "</style>\n",
       "<table border=\"1\" class=\"dataframe\">\n",
       "  <thead>\n",
       "    <tr style=\"text-align: right;\">\n",
       "      <th></th>\n",
       "      <th>Borough</th>\n",
       "      <th>Building Type</th>\n",
       "      <th>eFiling Filed</th>\n",
       "      <th>Applicant Professional Title</th>\n",
       "      <th>Professional Cert</th>\n",
       "      <th>Fully Paid</th>\n",
       "      <th>Approved</th>\n",
       "      <th>Total Est. Fee</th>\n",
       "      <th>Proposed Zoning Sqft</th>\n",
       "      <th>Proposed No. of Stories</th>\n",
       "      <th>...</th>\n",
       "      <th>Proposed Dwelling Units</th>\n",
       "      <th>Proposed Occupancy</th>\n",
       "      <th>Zoning Dist1</th>\n",
       "      <th>Zoning Dist2</th>\n",
       "      <th>Zoning Dist3</th>\n",
       "      <th>Special District 1</th>\n",
       "      <th>Special District 2</th>\n",
       "      <th>Non-Profit</th>\n",
       "      <th>TOTAL_CONSTRUCTION_FLOOR_AREA</th>\n",
       "      <th>SIGNOFF_DATE</th>\n",
       "    </tr>\n",
       "  </thead>\n",
       "  <tbody>\n",
       "    <tr>\n",
       "      <th>0</th>\n",
       "      <td>QUEENS</td>\n",
       "      <td>1-2-3 FAMILY</td>\n",
       "      <td>Y</td>\n",
       "      <td>RA</td>\n",
       "      <td>N</td>\n",
       "      <td>2018-11-02</td>\n",
       "      <td>2019-04-09</td>\n",
       "      <td>$243.00</td>\n",
       "      <td>2700</td>\n",
       "      <td>2</td>\n",
       "      <td>...</td>\n",
       "      <td>2</td>\n",
       "      <td>R-3</td>\n",
       "      <td>R3A</td>\n",
       "      <td>NaN</td>\n",
       "      <td>NaN</td>\n",
       "      <td>NaN</td>\n",
       "      <td>NaN</td>\n",
       "      <td>N</td>\n",
       "      <td>4050</td>\n",
       "      <td>NaT</td>\n",
       "    </tr>\n",
       "    <tr>\n",
       "      <th>1</th>\n",
       "      <td>BROOKLYN</td>\n",
       "      <td>OTHERS</td>\n",
       "      <td>Y</td>\n",
       "      <td>RA</td>\n",
       "      <td>N</td>\n",
       "      <td>2012-03-27</td>\n",
       "      <td>2013-03-14</td>\n",
       "      <td>$52167.26</td>\n",
       "      <td>161567</td>\n",
       "      <td>14</td>\n",
       "      <td>...</td>\n",
       "      <td>234</td>\n",
       "      <td>R-1</td>\n",
       "      <td>M1-2/R6</td>\n",
       "      <td>NaN</td>\n",
       "      <td>NaN</td>\n",
       "      <td>MX-8</td>\n",
       "      <td>GW</td>\n",
       "      <td>N</td>\n",
       "      <td>198951</td>\n",
       "      <td>NaT</td>\n",
       "    </tr>\n",
       "    <tr>\n",
       "      <th>2</th>\n",
       "      <td>BROOKLYN</td>\n",
       "      <td>OTHERS</td>\n",
       "      <td>Y</td>\n",
       "      <td>RA</td>\n",
       "      <td>N</td>\n",
       "      <td>2018-11-05</td>\n",
       "      <td>NaT</td>\n",
       "      <td>$16954.20</td>\n",
       "      <td>37676</td>\n",
       "      <td>9</td>\n",
       "      <td>...</td>\n",
       "      <td>55</td>\n",
       "      <td>R-2</td>\n",
       "      <td>R7A</td>\n",
       "      <td>NaN</td>\n",
       "      <td>NaN</td>\n",
       "      <td>NaN</td>\n",
       "      <td>NaN</td>\n",
       "      <td>N</td>\n",
       "      <td>37676</td>\n",
       "      <td>NaT</td>\n",
       "    </tr>\n",
       "    <tr>\n",
       "      <th>3</th>\n",
       "      <td>QUEENS</td>\n",
       "      <td>1-2-3 FAMILY</td>\n",
       "      <td>Y</td>\n",
       "      <td>RA</td>\n",
       "      <td>N</td>\n",
       "      <td>2013-03-06</td>\n",
       "      <td>2015-05-29</td>\n",
       "      <td>$1619.08</td>\n",
       "      <td>7470</td>\n",
       "      <td>3</td>\n",
       "      <td>...</td>\n",
       "      <td>1</td>\n",
       "      <td>R-3</td>\n",
       "      <td>R1-2</td>\n",
       "      <td>NaN</td>\n",
       "      <td>NaN</td>\n",
       "      <td>NaN</td>\n",
       "      <td>NaN</td>\n",
       "      <td>N</td>\n",
       "      <td>12159</td>\n",
       "      <td>NaT</td>\n",
       "    </tr>\n",
       "    <tr>\n",
       "      <th>4</th>\n",
       "      <td>QUEENS</td>\n",
       "      <td>1-2-3 FAMILY</td>\n",
       "      <td>Y</td>\n",
       "      <td>RA</td>\n",
       "      <td>Y</td>\n",
       "      <td>2018-11-05</td>\n",
       "      <td>2019-01-31</td>\n",
       "      <td>$100.00</td>\n",
       "      <td>300</td>\n",
       "      <td>1</td>\n",
       "      <td>...</td>\n",
       "      <td>NaN</td>\n",
       "      <td>U</td>\n",
       "      <td>R4-1</td>\n",
       "      <td>NaN</td>\n",
       "      <td>NaN</td>\n",
       "      <td>NaN</td>\n",
       "      <td>NaN</td>\n",
       "      <td>N</td>\n",
       "      <td>300</td>\n",
       "      <td>NaT</td>\n",
       "    </tr>\n",
       "  </tbody>\n",
       "</table>\n",
       "<p>5 rows × 21 columns</p>\n",
       "</div>"
      ],
      "text/plain": [
       "    Borough Building Type eFiling Filed Applicant Professional Title  \\\n",
       "0    QUEENS  1-2-3 FAMILY             Y                           RA   \n",
       "1  BROOKLYN        OTHERS             Y                           RA   \n",
       "2  BROOKLYN        OTHERS             Y                           RA   \n",
       "3    QUEENS  1-2-3 FAMILY             Y                           RA   \n",
       "4    QUEENS  1-2-3 FAMILY             Y                           RA   \n",
       "\n",
       "  Professional Cert Fully Paid   Approved Total Est. Fee  \\\n",
       "0                 N 2018-11-02 2019-04-09        $243.00   \n",
       "1                 N 2012-03-27 2013-03-14      $52167.26   \n",
       "2                 N 2018-11-05        NaT      $16954.20   \n",
       "3                 N 2013-03-06 2015-05-29       $1619.08   \n",
       "4                 Y 2018-11-05 2019-01-31        $100.00   \n",
       "\n",
       "   Proposed Zoning Sqft  Proposed No. of Stories      ...       \\\n",
       "0                  2700                        2      ...        \n",
       "1                161567                       14      ...        \n",
       "2                 37676                        9      ...        \n",
       "3                  7470                        3      ...        \n",
       "4                   300                        1      ...        \n",
       "\n",
       "   Proposed Dwelling Units Proposed Occupancy Zoning Dist1 Zoning Dist2  \\\n",
       "0                        2                R-3          R3A          NaN   \n",
       "1                      234                R-1      M1-2/R6          NaN   \n",
       "2                       55                R-2          R7A          NaN   \n",
       "3                        1                R-3         R1-2          NaN   \n",
       "4                      NaN                  U         R4-1          NaN   \n",
       "\n",
       "  Zoning Dist3 Special District 1 Special District 2 Non-Profit  \\\n",
       "0          NaN                NaN                NaN          N   \n",
       "1          NaN               MX-8                 GW          N   \n",
       "2          NaN                NaN                NaN          N   \n",
       "3          NaN                NaN                NaN          N   \n",
       "4          NaN                NaN                NaN          N   \n",
       "\n",
       "  TOTAL_CONSTRUCTION_FLOOR_AREA  SIGNOFF_DATE  \n",
       "0                          4050           NaT  \n",
       "1                        198951           NaT  \n",
       "2                         37676           NaT  \n",
       "3                         12159           NaT  \n",
       "4                           300           NaT  \n",
       "\n",
       "[5 rows x 21 columns]"
      ]
     },
     "execution_count": 480,
     "metadata": {},
     "output_type": "execute_result"
    }
   ],
   "source": [
    "df.head()"
   ]
  },
  {
   "cell_type": "code",
   "execution_count": 471,
   "metadata": {},
   "outputs": [
    {
     "name": "stderr",
     "output_type": "stream",
     "text": [
      "<string>:2: DtypeWarning: Columns (11) have mixed types. Specify dtype option on import or set low_memory=False.\n"
     ]
    },
    {
     "name": "stdout",
     "output_type": "stream",
     "text": [
      "CPU times: user 37.2 s, sys: 432 ms, total: 37.6 s\n",
      "Wall time: 39.9 s\n"
     ]
    }
   ],
   "source": [
    "%%time\n",
    "url = \"https://raw.githubusercontent.com/anoushavan/Capstone_1/master/data/new_buildings.csv\"\n",
    "\n",
    "data = pd.read_csv(url, parse_dates=['Fully Paid','Approved','SIGNOFF_DATE'])\n"
   ]
  },
  {
   "cell_type": "code",
   "execution_count": 470,
   "metadata": {},
   "outputs": [
    {
     "name": "stdout",
     "output_type": "stream",
     "text": [
      "<class 'pandas.core.frame.DataFrame'>\n",
      "RangeIndex: 118461 entries, 0 to 118460\n",
      "Data columns (total 21 columns):\n",
      "Borough                          118461 non-null object\n",
      "Building Type                    118461 non-null object\n",
      "eFiling Filed                    49594 non-null object\n",
      "Applicant Professional Title     118456 non-null object\n",
      "Professional Cert                84910 non-null object\n",
      "Fully Paid                       117514 non-null datetime64[ns]\n",
      "Approved                         70616 non-null datetime64[ns]\n",
      "Total Est. Fee                   118461 non-null object\n",
      "Proposed Zoning Sqft             118461 non-null int64\n",
      "Proposed No. of Stories          118461 non-null int64\n",
      "Proposed Height                  118461 non-null int64\n",
      "Proposed Dwelling Units          68282 non-null object\n",
      "Proposed Occupancy               79917 non-null object\n",
      "Zoning Dist1                     79917 non-null object\n",
      "Zoning Dist2                     6244 non-null object\n",
      "Zoning Dist3                     247 non-null object\n",
      "Special District 1               7724 non-null object\n",
      "Special District 2               901 non-null object\n",
      "Non-Profit                       102598 non-null object\n",
      "TOTAL_CONSTRUCTION_FLOOR_AREA    118461 non-null int64\n",
      "SIGNOFF_DATE                     73450 non-null datetime64[ns]\n",
      "dtypes: datetime64[ns](3), int64(4), object(14)\n",
      "memory usage: 19.0+ MB\n"
     ]
    }
   ],
   "source": [
    "df.info()"
   ]
  },
  {
   "cell_type": "code",
   "execution_count": 459,
   "metadata": {},
   "outputs": [
    {
     "ename": "TypeError",
     "evalue": "data argument can't be an iterator",
     "output_type": "error",
     "traceback": [
      "\u001b[0;31m---------------------------------------------------------------------------\u001b[0m",
      "\u001b[0;31mTypeError\u001b[0m                                 Traceback (most recent call last)",
      "\u001b[0;32m<ipython-input-459-92c3d085a6d5>\u001b[0m in \u001b[0;36m<module>\u001b[0;34m()\u001b[0m\n\u001b[0;32m----> 1\u001b[0;31m \u001b[0mdata\u001b[0m \u001b[0;34m=\u001b[0m \u001b[0mpd\u001b[0m\u001b[0;34m.\u001b[0m\u001b[0mDataFrame\u001b[0m\u001b[0;34m(\u001b[0m\u001b[0mfile\u001b[0m\u001b[0;34m)\u001b[0m\u001b[0;34m\u001b[0m\u001b[0m\n\u001b[0m",
      "\u001b[0;32m~/anaconda3/lib/python3.7/site-packages/pandas/core/frame.py\u001b[0m in \u001b[0;36m__init__\u001b[0;34m(self, data, index, columns, dtype, copy)\u001b[0m\n\u001b[1;32m    405\u001b[0m                 \u001b[0mmgr\u001b[0m \u001b[0;34m=\u001b[0m \u001b[0mself\u001b[0m\u001b[0;34m.\u001b[0m\u001b[0m_init_dict\u001b[0m\u001b[0;34m(\u001b[0m\u001b[0;34m{\u001b[0m\u001b[0;34m}\u001b[0m\u001b[0;34m,\u001b[0m \u001b[0mindex\u001b[0m\u001b[0;34m,\u001b[0m \u001b[0mcolumns\u001b[0m\u001b[0;34m,\u001b[0m \u001b[0mdtype\u001b[0m\u001b[0;34m=\u001b[0m\u001b[0mdtype\u001b[0m\u001b[0;34m)\u001b[0m\u001b[0;34m\u001b[0m\u001b[0m\n\u001b[1;32m    406\u001b[0m         \u001b[0;32melif\u001b[0m \u001b[0misinstance\u001b[0m\u001b[0;34m(\u001b[0m\u001b[0mdata\u001b[0m\u001b[0;34m,\u001b[0m \u001b[0mcollections\u001b[0m\u001b[0;34m.\u001b[0m\u001b[0mIterator\u001b[0m\u001b[0;34m)\u001b[0m\u001b[0;34m:\u001b[0m\u001b[0;34m\u001b[0m\u001b[0m\n\u001b[0;32m--> 407\u001b[0;31m             \u001b[0;32mraise\u001b[0m \u001b[0mTypeError\u001b[0m\u001b[0;34m(\u001b[0m\u001b[0;34m\"data argument can't be an iterator\"\u001b[0m\u001b[0;34m)\u001b[0m\u001b[0;34m\u001b[0m\u001b[0m\n\u001b[0m\u001b[1;32m    408\u001b[0m         \u001b[0;32melse\u001b[0m\u001b[0;34m:\u001b[0m\u001b[0;34m\u001b[0m\u001b[0m\n\u001b[1;32m    409\u001b[0m             \u001b[0;32mtry\u001b[0m\u001b[0;34m:\u001b[0m\u001b[0;34m\u001b[0m\u001b[0m\n",
      "\u001b[0;31mTypeError\u001b[0m: data argument can't be an iterator"
     ]
    }
   ],
   "source": [
    "data = pd.DataFrame(file)"
   ]
  },
  {
   "cell_type": "code",
   "execution_count": 455,
   "metadata": {},
   "outputs": [
    {
     "ename": "AttributeError",
     "evalue": "'TextFileReader' object has no attribute 'sample'",
     "output_type": "error",
     "traceback": [
      "\u001b[0;31m---------------------------------------------------------------------------\u001b[0m",
      "\u001b[0;31mAttributeError\u001b[0m                            Traceback (most recent call last)",
      "\u001b[0;32m<ipython-input-455-877d4c370476>\u001b[0m in \u001b[0;36m<module>\u001b[0;34m()\u001b[0m\n\u001b[0;32m----> 1\u001b[0;31m \u001b[0mdata\u001b[0m \u001b[0;34m=\u001b[0m \u001b[0mdata\u001b[0m\u001b[0;34m.\u001b[0m\u001b[0msample\u001b[0m\u001b[0;34m(\u001b[0m\u001b[0mfrac\u001b[0m \u001b[0;34m=\u001b[0m \u001b[0;36m0.25\u001b[0m\u001b[0;34m)\u001b[0m\u001b[0;34m\u001b[0m\u001b[0m\n\u001b[0m",
      "\u001b[0;31mAttributeError\u001b[0m: 'TextFileReader' object has no attribute 'sample'"
     ]
    }
   ],
   "source": [
    "data = data.sample(frac = 0.25)"
   ]
  },
  {
   "cell_type": "code",
   "execution_count": 454,
   "metadata": {
    "scrolled": true
   },
   "outputs": [
    {
     "ename": "AttributeError",
     "evalue": "'TextFileReader' object has no attribute 'info'",
     "output_type": "error",
     "traceback": [
      "\u001b[0;31m---------------------------------------------------------------------------\u001b[0m",
      "\u001b[0;31mAttributeError\u001b[0m                            Traceback (most recent call last)",
      "\u001b[0;32m<ipython-input-454-6208d269f320>\u001b[0m in \u001b[0;36m<module>\u001b[0;34m()\u001b[0m\n\u001b[0;32m----> 1\u001b[0;31m \u001b[0mdata\u001b[0m\u001b[0;34m.\u001b[0m\u001b[0minfo\u001b[0m\u001b[0;34m(\u001b[0m\u001b[0;34m)\u001b[0m\u001b[0;34m\u001b[0m\u001b[0m\n\u001b[0m",
      "\u001b[0;31mAttributeError\u001b[0m: 'TextFileReader' object has no attribute 'info'"
     ]
    }
   ],
   "source": [
    "data.info()"
   ]
  },
  {
   "cell_type": "markdown",
   "metadata": {},
   "source": [
    "### Clean up the dataframe\n",
    "\n",
    "* set index as Fully Paid\n",
    "* converting all column names to *title case*, <br> \n",
    "* converting numeric data into numeric form by removing dollar signs and converting to intiger, <br> \n",
    "* creating a **\"Duration\"** column measuring the duration of the approval process as the difference between the \"Approved\" and \"Fully Paid\" columns <br> \n",
    "* creating subsets of data to hold normal values, values that are below 0 (meaningless) and zero values.\n",
    "* Transform \"Boroughs\" into category to increase the speed of execution."
   ]
  },
  {
   "cell_type": "code",
   "execution_count": 381,
   "metadata": {},
   "outputs": [],
   "source": [
    "# Convert all data columns to Title Case\n",
    "data.columns = data.columns.str.title()\n",
    "\n",
    "# Convert Total Est. Fee to float data and remove $ symbol \n",
    "data['Total Est. Fee']= [float(c.replace('$','')) for c in data['Total Est. Fee']]"
   ]
  },
  {
   "cell_type": "code",
   "execution_count": 382,
   "metadata": {},
   "outputs": [],
   "source": [
    "# Convert Proposed Dwelling Units to integers\n",
    "data['Proposed Dwelling Units'] = (pd.to_numeric(data\n",
    "                                  ['Proposed Dwelling Units'], errors='coerce'))\n"
   ]
  },
  {
   "cell_type": "code",
   "execution_count": 383,
   "metadata": {},
   "outputs": [],
   "source": [
    "# Create a Duration column and convert it to integers (instead of days)\n",
    "data['Duration'] = (data['Approved'] - data['Fully Paid']).dt.days"
   ]
  },
  {
   "cell_type": "code",
   "execution_count": 384,
   "metadata": {},
   "outputs": [],
   "source": [
    "# Subset of data where the Duration is more than 0 days\n",
    "data = data[data['Duration'] > 0]\n",
    "\n",
    "# Subset of data where the Duration is less then 0 days\n",
    "odd_data = data[data['Duration'] < 0]\n",
    "\n",
    "# Subset of data where the Duration is 0 days\n",
    "zero_data = data[data['Duration'] == 0]"
   ]
  },
  {
   "cell_type": "code",
   "execution_count": 385,
   "metadata": {},
   "outputs": [],
   "source": [
    "# transform the Boroughs into categories for faster analysis.\n",
    "data['Borough'] = data['Borough'].astype('category')"
   ]
  },
  {
   "cell_type": "markdown",
   "metadata": {},
   "source": [
    "#### Dealing with blank (NaN/NaT) values\n",
    "\n",
    "converting the NaN values to N string indicating No."
   ]
  },
  {
   "cell_type": "code",
   "execution_count": 386,
   "metadata": {},
   "outputs": [],
   "source": [
    "# Column Efiling Filed: replace the NaN values with N (No)\n",
    "data['Efiling Filed'] = data['Efiling Filed'].fillna('N')"
   ]
  },
  {
   "cell_type": "code",
   "execution_count": 387,
   "metadata": {},
   "outputs": [],
   "source": [
    "data['Professional Cert'] = data['Professional Cert'].fillna('N')"
   ]
  },
  {
   "cell_type": "markdown",
   "metadata": {},
   "source": [
    "##### Potential columns to drop\n",
    "The column \"Proposed Dwelling Units\" has 50392 not null values.\n",
    "\n",
    "The columnn \"Fully Permitted\" has 7070 NaT entries.\n",
    "\n",
    "\n",
    "##### Drop rows\n",
    "There are 2 rows in the \"Applicant Professional Title\" column that are blank. Assigned them\n",
    "to del_rows variable and deleted. \n",
    "\n",
    "There are also 2 rows in the Processional Cert column that are not Y or N, they should be dropped."
   ]
  },
  {
   "cell_type": "code",
   "execution_count": 388,
   "metadata": {},
   "outputs": [],
   "source": [
    "del_rows = data[data['Applicant Professional Title'].isnull()].index\n",
    "data.drop(del_rows, inplace=True)\n",
    "data = (data.drop(data[(data['Professional Cert'] == 'J') | \n",
    "                            (data['Professional Cert'] == 'R')].index))"
   ]
  },
  {
   "cell_type": "markdown",
   "metadata": {},
   "source": [
    "### Analysis of data\n",
    "\n",
    "Createing:\n",
    "1. histograms (for categorical variables)\n",
    "2. bar charts (for continuous variables) and \n",
    "3. boxplots for categorical variables (x axis) and a continuous variable (y axis).\n"
   ]
  },
  {
   "cell_type": "code",
   "execution_count": 389,
   "metadata": {},
   "outputs": [
    {
     "data": {
      "text/html": [
       "<div>\n",
       "<style scoped>\n",
       "    .dataframe tbody tr th:only-of-type {\n",
       "        vertical-align: middle;\n",
       "    }\n",
       "\n",
       "    .dataframe tbody tr th {\n",
       "        vertical-align: top;\n",
       "    }\n",
       "\n",
       "    .dataframe thead th {\n",
       "        text-align: right;\n",
       "    }\n",
       "</style>\n",
       "<table border=\"1\" class=\"dataframe\">\n",
       "  <thead>\n",
       "    <tr style=\"text-align: right;\">\n",
       "      <th></th>\n",
       "      <th>Borough</th>\n",
       "    </tr>\n",
       "  </thead>\n",
       "  <tbody>\n",
       "    <tr>\n",
       "      <th>count</th>\n",
       "      <td>5.000000</td>\n",
       "    </tr>\n",
       "    <tr>\n",
       "      <th>mean</th>\n",
       "      <td>2977.800000</td>\n",
       "    </tr>\n",
       "    <tr>\n",
       "      <th>std</th>\n",
       "      <td>1874.276714</td>\n",
       "    </tr>\n",
       "    <tr>\n",
       "      <th>min</th>\n",
       "      <td>562.000000</td>\n",
       "    </tr>\n",
       "    <tr>\n",
       "      <th>25%</th>\n",
       "      <td>1840.000000</td>\n",
       "    </tr>\n",
       "    <tr>\n",
       "      <th>50%</th>\n",
       "      <td>2944.000000</td>\n",
       "    </tr>\n",
       "    <tr>\n",
       "      <th>75%</th>\n",
       "      <td>4279.000000</td>\n",
       "    </tr>\n",
       "    <tr>\n",
       "      <th>max</th>\n",
       "      <td>5264.000000</td>\n",
       "    </tr>\n",
       "  </tbody>\n",
       "</table>\n",
       "</div>"
      ],
      "text/plain": [
       "           Borough\n",
       "count     5.000000\n",
       "mean   2977.800000\n",
       "std    1874.276714\n",
       "min     562.000000\n",
       "25%    1840.000000\n",
       "50%    2944.000000\n",
       "75%    4279.000000\n",
       "max    5264.000000"
      ]
     },
     "execution_count": 389,
     "metadata": {},
     "output_type": "execute_result"
    },
    {
     "data": {
      "image/png": "[encoded data removed]",
      "text/plain": [
       "<Figure size 432x288 with 1 Axes>"
      ]
     },
     "metadata": {
      "needs_background": "light"
     },
     "output_type": "display_data"
    }
   ],
   "source": [
    "# create a histogram for the # of building permits issued by Borough\n",
    "ax = data['Borough'].value_counts().sort_values().plot(kind='bar', color = 'b')\n",
    "ax.set_ylabel('Number of building permits approved')\n",
    "ax.set_xlabel('')\n",
    "pd.DataFrame(data['Borough'].value_counts().describe())"
   ]
  },
  {
   "cell_type": "code",
   "execution_count": 390,
   "metadata": {},
   "outputs": [
    {
     "data": {
      "image/png": "[encoded data removed]",
      "text/plain": [
       "<Figure size 432x288 with 1 Axes>"
      ]
     },
     "metadata": {
      "needs_background": "light"
     },
     "output_type": "display_data"
    }
   ],
   "source": [
    "# Create a boxplot of Building Type Duration.\n",
    "ax = data.boxplot(column=['Duration'], by=['Borough'])\n",
    "plt.suptitle('')\n",
    "ax.set_xlabel('')\n",
    "ax.set_ylabel('Days')\n",
    "ax.grid(False)\n",
    "ax.set_title('Duration by Borough')\n",
    "ax.set_yscale('log')\n",
    "plt.tight_layout()"
   ]
  },
  {
   "cell_type": "code",
   "execution_count": 391,
   "metadata": {},
   "outputs": [
    {
     "data": {
      "text/html": [
       "<div>\n",
       "<style scoped>\n",
       "    .dataframe tbody tr th:only-of-type {\n",
       "        vertical-align: middle;\n",
       "    }\n",
       "\n",
       "    .dataframe tbody tr th {\n",
       "        vertical-align: top;\n",
       "    }\n",
       "\n",
       "    .dataframe thead th {\n",
       "        text-align: right;\n",
       "    }\n",
       "</style>\n",
       "<table border=\"1\" class=\"dataframe\">\n",
       "  <thead>\n",
       "    <tr style=\"text-align: right;\">\n",
       "      <th></th>\n",
       "      <th>Building Type</th>\n",
       "    </tr>\n",
       "  </thead>\n",
       "  <tbody>\n",
       "    <tr>\n",
       "      <th>count</th>\n",
       "      <td>2.000000</td>\n",
       "    </tr>\n",
       "    <tr>\n",
       "      <th>mean</th>\n",
       "      <td>7444.500000</td>\n",
       "    </tr>\n",
       "    <tr>\n",
       "      <th>std</th>\n",
       "      <td>4620.942815</td>\n",
       "    </tr>\n",
       "    <tr>\n",
       "      <th>min</th>\n",
       "      <td>4177.000000</td>\n",
       "    </tr>\n",
       "    <tr>\n",
       "      <th>25%</th>\n",
       "      <td>5810.750000</td>\n",
       "    </tr>\n",
       "    <tr>\n",
       "      <th>50%</th>\n",
       "      <td>7444.500000</td>\n",
       "    </tr>\n",
       "    <tr>\n",
       "      <th>75%</th>\n",
       "      <td>9078.250000</td>\n",
       "    </tr>\n",
       "    <tr>\n",
       "      <th>max</th>\n",
       "      <td>10712.000000</td>\n",
       "    </tr>\n",
       "  </tbody>\n",
       "</table>\n",
       "</div>"
      ],
      "text/plain": [
       "       Building Type\n",
       "count       2.000000\n",
       "mean     7444.500000\n",
       "std      4620.942815\n",
       "min      4177.000000\n",
       "25%      5810.750000\n",
       "50%      7444.500000\n",
       "75%      9078.250000\n",
       "max     10712.000000"
      ]
     },
     "execution_count": 391,
     "metadata": {},
     "output_type": "execute_result"
    },
    {
     "data": {
      "image/png": "[encoded data removed]",
      "text/plain": [
       "<Figure size 432x288 with 1 Axes>"
      ]
     },
     "metadata": {
      "needs_background": "light"
     },
     "output_type": "display_data"
    }
   ],
   "source": [
    "# Create a bar plot of Building Type and include a statistical analysis.\n",
    "ax = data['Building Type'].value_counts().plot(kind='bar', color='b')\n",
    "ax.set_xticklabels(['1-2-3 Family', 'Other'],rotation=360)\n",
    "ax.set_title('Building permits based on the building type')\n",
    "ax.set_ylabel('Number of approved permits')\n",
    "pd.DataFrame(data['Building Type'].value_counts().describe())"
   ]
  },
  {
   "cell_type": "code",
   "execution_count": 392,
   "metadata": {
    "scrolled": true
   },
   "outputs": [
    {
     "data": {
      "image/png": "[encoded data removed]",
      "text/plain": [
       "<Figure size 432x288 with 1 Axes>"
      ]
     },
     "metadata": {
      "needs_background": "light"
     },
     "output_type": "display_data"
    }
   ],
   "source": [
    "# Create a boxplot of Building Type Duration.\n",
    "ax = data.boxplot(column=['Duration'], by=['Building Type'])\n",
    "ax.set_title('Duration of approval based on types of buildings')\n",
    "ax.set_xlabel('')\n",
    "ax.set_ylabel('Days')\n",
    "ax.set_yscale('log')\n",
    "plt.suptitle('')\n",
    "ax.grid(False)\n"
   ]
  },
  {
   "cell_type": "code",
   "execution_count": 393,
   "metadata": {
    "scrolled": true
   },
   "outputs": [
    {
     "data": {
      "image/png": "[encoded data removed]",
      "text/plain": [
       "<Figure size 432x288 with 1 Axes>"
      ]
     },
     "metadata": {
      "needs_background": "light"
     },
     "output_type": "display_data"
    }
   ],
   "source": [
    "# Create a histogram of Efiling and include a statistical analysis.\n",
    "ax = data['Efiling Filed'].value_counts().plot(kind='bar', color='g')\n",
    "ax.set_xticklabels(['Yes','No'],rotation=360)\n",
    "ax.set_title('Building permits based on the e-filing')\n",
    "ax.set_ylabel('Number of approved permits')\n",
    "pd.DataFrame(data['Efiling Filed'].value_counts().describe())\n",
    "plt.tight_layout()"
   ]
  },
  {
   "cell_type": "code",
   "execution_count": 394,
   "metadata": {
    "scrolled": true
   },
   "outputs": [
    {
     "data": {
      "image/png": "[encoded data removed]",
      "text/plain": [
       "<Figure size 432x288 with 1 Axes>"
      ]
     },
     "metadata": {
      "needs_background": "light"
     },
     "output_type": "display_data"
    }
   ],
   "source": [
    "ax = data.boxplot(column=['Duration'], by=['Efiling Filed'])\n",
    "ax.set_title('')\n",
    "ax.set_ylabel('Days')\n",
    "ax.set_xlabel('E-filing filder (Yes/No)')\n",
    "ax.set_xticklabels(['No','Yes'])\n",
    "ax.set_yscale('log')\n",
    "plt.suptitle('')\n",
    "ax.grid(False)\n",
    "pd.DataFrame(data.groupby(['Efiling Filed'])['Duration'].describe())\n",
    "plt.tight_layout()"
   ]
  },
  {
   "cell_type": "code",
   "execution_count": 395,
   "metadata": {},
   "outputs": [
    {
     "data": {
      "text/html": [
       "<div>\n",
       "<style scoped>\n",
       "    .dataframe tbody tr th:only-of-type {\n",
       "        vertical-align: middle;\n",
       "    }\n",
       "\n",
       "    .dataframe tbody tr th {\n",
       "        vertical-align: top;\n",
       "    }\n",
       "\n",
       "    .dataframe thead th {\n",
       "        text-align: right;\n",
       "    }\n",
       "</style>\n",
       "<table border=\"1\" class=\"dataframe\">\n",
       "  <thead>\n",
       "    <tr style=\"text-align: right;\">\n",
       "      <th></th>\n",
       "      <th>count</th>\n",
       "      <th>mean</th>\n",
       "      <th>std</th>\n",
       "      <th>min</th>\n",
       "      <th>25%</th>\n",
       "      <th>50%</th>\n",
       "      <th>75%</th>\n",
       "      <th>max</th>\n",
       "    </tr>\n",
       "    <tr>\n",
       "      <th>Applicant Professional Title</th>\n",
       "      <th></th>\n",
       "      <th></th>\n",
       "      <th></th>\n",
       "      <th></th>\n",
       "      <th></th>\n",
       "      <th></th>\n",
       "      <th></th>\n",
       "      <th></th>\n",
       "    </tr>\n",
       "  </thead>\n",
       "  <tbody>\n",
       "    <tr>\n",
       "      <th>PE</th>\n",
       "      <td>3784.0</td>\n",
       "      <td>142.570032</td>\n",
       "      <td>232.515007</td>\n",
       "      <td>1.0</td>\n",
       "      <td>21.0</td>\n",
       "      <td>70.0</td>\n",
       "      <td>175.0</td>\n",
       "      <td>4959.0</td>\n",
       "    </tr>\n",
       "    <tr>\n",
       "      <th>RA</th>\n",
       "      <td>11105.0</td>\n",
       "      <td>173.243224</td>\n",
       "      <td>263.177321</td>\n",
       "      <td>1.0</td>\n",
       "      <td>26.0</td>\n",
       "      <td>89.0</td>\n",
       "      <td>205.0</td>\n",
       "      <td>4032.0</td>\n",
       "    </tr>\n",
       "  </tbody>\n",
       "</table>\n",
       "</div>"
      ],
      "text/plain": [
       "                                count        mean         std  min   25%  \\\n",
       "Applicant Professional Title                                               \n",
       "PE                             3784.0  142.570032  232.515007  1.0  21.0   \n",
       "RA                            11105.0  173.243224  263.177321  1.0  26.0   \n",
       "\n",
       "                               50%    75%     max  \n",
       "Applicant Professional Title                       \n",
       "PE                            70.0  175.0  4959.0  \n",
       "RA                            89.0  205.0  4032.0  "
      ]
     },
     "execution_count": 395,
     "metadata": {},
     "output_type": "execute_result"
    },
    {
     "data": {
      "image/png": "[encoded data removed]",
      "text/plain": [
       "<Figure size 432x288 with 1 Axes>"
      ]
     },
     "metadata": {
      "needs_background": "light"
     },
     "output_type": "display_data"
    }
   ],
   "source": [
    "# Create a bar chart of Professional Title and include a statistical analysis.\n",
    "ax = data['Applicant Professional Title'].value_counts().plot(kind='bar', color='g')\n",
    "ax.set_xticklabels(['Professional Engineer','Registered Architect'],rotation=360)\n",
    "ax.set_title('Number of applications based on the professional title')\n",
    "pd.DataFrame(data.groupby('Applicant Professional Title')['Duration'].describe())"
   ]
  },
  {
   "cell_type": "code",
   "execution_count": 396,
   "metadata": {},
   "outputs": [
    {
     "data": {
      "image/png": "[encoded data removed]",
      "text/plain": [
       "<Figure size 432x288 with 1 Axes>"
      ]
     },
     "metadata": {
      "needs_background": "light"
     },
     "output_type": "display_data"
    }
   ],
   "source": [
    "# Boxplot of Duration based on the applicants' professional title.\n",
    "ax = data.boxplot(column=['Duration'], by=['Applicant Professional Title'])\n",
    "ax.set_xticklabels(['Professional Engineer','Registered Architect'])\n",
    "plt.suptitle('')\n",
    "ax.set_title(\"Duration based on applicant's professional title\")\n",
    "ax.set_xlabel('')\n",
    "ax.set_ylabel('Days')\n",
    "ax.set_yscale('log')\n",
    "\n",
    "ax.grid(False)\n",
    "plt.tight_layout()"
   ]
  },
  {
   "cell_type": "code",
   "execution_count": 397,
   "metadata": {
    "scrolled": true
   },
   "outputs": [
    {
     "data": {
      "text/html": [
       "<div>\n",
       "<style scoped>\n",
       "    .dataframe tbody tr th:only-of-type {\n",
       "        vertical-align: middle;\n",
       "    }\n",
       "\n",
       "    .dataframe tbody tr th {\n",
       "        vertical-align: top;\n",
       "    }\n",
       "\n",
       "    .dataframe thead th {\n",
       "        text-align: right;\n",
       "    }\n",
       "</style>\n",
       "<table border=\"1\" class=\"dataframe\">\n",
       "  <thead>\n",
       "    <tr style=\"text-align: right;\">\n",
       "      <th></th>\n",
       "      <th>count</th>\n",
       "      <th>mean</th>\n",
       "      <th>std</th>\n",
       "      <th>min</th>\n",
       "      <th>25%</th>\n",
       "      <th>50%</th>\n",
       "      <th>75%</th>\n",
       "      <th>max</th>\n",
       "    </tr>\n",
       "    <tr>\n",
       "      <th>Professional Cert</th>\n",
       "      <th></th>\n",
       "      <th></th>\n",
       "      <th></th>\n",
       "      <th></th>\n",
       "      <th></th>\n",
       "      <th></th>\n",
       "      <th></th>\n",
       "      <th></th>\n",
       "    </tr>\n",
       "  </thead>\n",
       "  <tbody>\n",
       "    <tr>\n",
       "      <th>N</th>\n",
       "      <td>9518.0</td>\n",
       "      <td>223.775373</td>\n",
       "      <td>280.084872</td>\n",
       "      <td>1.0</td>\n",
       "      <td>72.0</td>\n",
       "      <td>140.0</td>\n",
       "      <td>265.0</td>\n",
       "      <td>4959.0</td>\n",
       "    </tr>\n",
       "    <tr>\n",
       "      <th>Y</th>\n",
       "      <td>5371.0</td>\n",
       "      <td>62.084714</td>\n",
       "      <td>161.415606</td>\n",
       "      <td>1.0</td>\n",
       "      <td>3.0</td>\n",
       "      <td>13.0</td>\n",
       "      <td>42.0</td>\n",
       "      <td>2589.0</td>\n",
       "    </tr>\n",
       "  </tbody>\n",
       "</table>\n",
       "</div>"
      ],
      "text/plain": [
       "                    count        mean         std  min   25%    50%    75%  \\\n",
       "Professional Cert                                                            \n",
       "N                  9518.0  223.775373  280.084872  1.0  72.0  140.0  265.0   \n",
       "Y                  5371.0   62.084714  161.415606  1.0   3.0   13.0   42.0   \n",
       "\n",
       "                      max  \n",
       "Professional Cert          \n",
       "N                  4959.0  \n",
       "Y                  2589.0  "
      ]
     },
     "execution_count": 397,
     "metadata": {},
     "output_type": "execute_result"
    },
    {
     "data": {
      "image/png": "[encoded data removed]",
      "text/plain": [
       "<Figure size 432x288 with 1 Axes>"
      ]
     },
     "metadata": {
      "needs_background": "light"
     },
     "output_type": "display_data"
    }
   ],
   "source": [
    "# Bar chart indicating whether or not the application was submitted as \n",
    "# Professionally Certified by a Professional Engineer (PE) or Registered Architect (RA).\n",
    "ax = data['Professional Cert'].value_counts().plot(kind='bar', color='g')\n",
    "ax.set_xticklabels(['No','Yes'],rotation=360)\n",
    "ax.set_title('Applications were professionally certified')\n",
    "ax.set_ylabel('Number of applications')\n",
    "pd.DataFrame(data.groupby('Professional Cert')['Duration'].describe())\n"
   ]
  },
  {
   "cell_type": "code",
   "execution_count": 398,
   "metadata": {
    "scrolled": true
   },
   "outputs": [
    {
     "data": {
      "image/png": "[encoded data removed]",
      "text/plain": [
       "<Figure size 432x288 with 1 Axes>"
      ]
     },
     "metadata": {
      "needs_background": "light"
     },
     "output_type": "display_data"
    }
   ],
   "source": [
    "# Boxplot of Duration based on wheather or not the applications were professionally certified.\n",
    "ax = data.boxplot(column=['Duration'], by=['Professional Cert'])\n",
    "ax.set_xticklabels(['Not certified','Certified'])\n",
    "plt.suptitle('')\n",
    "ax.set_title(\"Duration based on the professional certification of applications\")\n",
    "ax.set_xlabel('')\n",
    "ax.set_ylabel('Days')\n",
    "ax.set_yscale('log')\n",
    "ax.grid(False)\n",
    "plt.tight_layout()"
   ]
  },
  {
   "cell_type": "code",
   "execution_count": 399,
   "metadata": {},
   "outputs": [
    {
     "data": {
      "image/png": "[encoded data removed]",
      "text/plain": [
       "<Figure size 432x288 with 1 Axes>"
      ]
     },
     "metadata": {
      "needs_background": "light"
     },
     "output_type": "display_data"
    }
   ],
   "source": [
    "# Bar chart indicating whether or not the application was submitted as \n",
    "# Professionally Certified by a Professional Engineer (PE) or Registered Architect (RA).\n",
    "ax = data['Professional Cert'].value_counts().plot(kind='bar', color='g')\n",
    "ax.set_xticklabels(['No','Yes'],rotation=360)\n",
    "ax.set_title('Applications were professionally certified')\n",
    "ax.set_ylabel('Number of applications')\n",
    "pd.DataFrame(data.groupby('Professional Cert')['Duration'].describe())\n",
    "plt.tight_layout()\n",
    "\n",
    "# DELETE THIS"
   ]
  },
  {
   "cell_type": "code",
   "execution_count": 400,
   "metadata": {
    "scrolled": true
   },
   "outputs": [
    {
     "data": {
      "image/png": "[encoded data removed]",
      "text/plain": [
       "<Figure size 432x288 with 1 Axes>"
      ]
     },
     "metadata": {
      "needs_background": "light"
     },
     "output_type": "display_data"
    }
   ],
   "source": [
    "# Histogram of building permit fee () \n",
    "ax = data['Total Est. Fee'].hist(bins=30, range=(0,3500))\n",
    "ax.set_title('Esimated building permit fees (USD)')\n",
    "ax.set_xlabel('Building permit fee (USD)')\n",
    "ax.grid(False)\n",
    "pd.DataFrame((data['Total Est. Fee']).describe()).round(1)\n",
    "plt.tight_layout()"
   ]
  },
  {
   "cell_type": "markdown",
   "metadata": {},
   "source": [
    "#### Add a scatter plot building permit fee vs duration and the corr value"
   ]
  },
  {
   "cell_type": "code",
   "execution_count": 401,
   "metadata": {
    "scrolled": false
   },
   "outputs": [
    {
     "data": {
      "image/png": "[encoded data removed]",
      "text/plain": [
       "<Figure size 432x288 with 1 Axes>"
      ]
     },
     "metadata": {
      "needs_background": "light"
     },
     "output_type": "display_data"
    }
   ],
   "source": [
    "# Boxplot of building permit fee (estimated) in each borough.\n",
    "ax = sns.boxplot(data=data,x='Borough',y='Total Est. Fee')\n",
    "ax.set_ylabel('Estimated building permit fee (USD)')\n",
    "plt.ylim(0,650000)\n",
    "ax.set_xlabel('')\n",
    "# ax.set_yscale('log') convert to log \n",
    "\n",
    "plt.tight_layout()"
   ]
  },
  {
   "cell_type": "code",
   "execution_count": 402,
   "metadata": {},
   "outputs": [
    {
     "data": {
      "image/png": "[encoded data removed]",
      "text/plain": [
       "<Figure size 432x288 with 1 Axes>"
      ]
     },
     "metadata": {
      "needs_background": "light"
     },
     "output_type": "display_data"
    }
   ],
   "source": [
    "# Boxplot of building permit fee (estimated) in each borough.\n",
    "ax = data.boxplot(column='Total Est. Fee', by='Borough')\n",
    "ax.set_yscale('log')\n",
    "plt.tight_layout()\n",
    "ax.grid(False)\n",
    "ax.set_title('Building permit fee in each Borough')\n",
    "plt.suptitle('')\n",
    "ax.set_xlabel('')\n",
    "ax.set_ylabel('Building permit fee (USD)')\n",
    "ax.xaxis.set_ticks_position('none')\n",
    "ax.yaxis.set_ticks_position('none')\n"
   ]
  },
  {
   "cell_type": "code",
   "execution_count": 403,
   "metadata": {},
   "outputs": [
    {
     "name": "stderr",
     "output_type": "stream",
     "text": [
      "/Users/anushavan/anaconda3/lib/python3.7/site-packages/scipy/stats/stats.py:1713: FutureWarning: Using a non-tuple sequence for multidimensional indexing is deprecated; use `arr[tuple(seq)]` instead of `arr[seq]`. In the future this will be interpreted as an array index, `arr[np.array(seq)]`, which will result either in an error or a different result.\n",
      "  return np.add.reduce(sorted[indexer] * weights, axis=axis) / sumval\n"
     ]
    },
    {
     "data": {
      "image/png": "[encoded data removed]",
      "text/plain": [
       "<Figure size 360x360 with 1 Axes>"
      ]
     },
     "metadata": {
      "needs_background": "light"
     },
     "output_type": "display_data"
    }
   ],
   "source": [
    "# scatterplot of building permit fee and Duration. \n",
    "\n",
    "sns.lmplot(x='Total Est. Fee', y='Duration', data=data)\n",
    "plt.xlim(0,450000)\n",
    "plt.ylim(0,5080)\n",
    "plt.xticks(rotation=60)\n",
    "plt.tight_layout()\n",
    "\n",
    "# corr(data['Total Est. Fee'], data['Duration'])"
   ]
  },
  {
   "cell_type": "code",
   "execution_count": 404,
   "metadata": {},
   "outputs": [
    {
     "name": "stderr",
     "output_type": "stream",
     "text": [
      "/Users/anushavan/anaconda3/lib/python3.7/site-packages/scipy/stats/stats.py:1713: FutureWarning: Using a non-tuple sequence for multidimensional indexing is deprecated; use `arr[tuple(seq)]` instead of `arr[seq]`. In the future this will be interpreted as an array index, `arr[np.array(seq)]`, which will result either in an error or a different result.\n",
      "  return np.add.reduce(sorted[indexer] * weights, axis=axis) / sumval\n"
     ]
    },
    {
     "data": {
      "text/plain": [
       "Text(0.5,1,'Proposed zoning area and the approval duration')"
      ]
     },
     "execution_count": 404,
     "metadata": {},
     "output_type": "execute_result"
    },
    {
     "data": {
      "image/png": "[encoded data removed]",
      "text/plain": [
       "<Figure size 432x288 with 2 Axes>"
      ]
     },
     "metadata": {
      "needs_background": "light"
     },
     "output_type": "display_data"
    },
    {
     "data": {
      "image/png": "[encoded data removed]",
      "text/plain": [
       "<Figure size 360x360 with 1 Axes>"
      ]
     },
     "metadata": {
      "needs_background": "light"
     },
     "output_type": "display_data"
    }
   ],
   "source": [
    "# Histogram of Proposed Zoning square footage. \n",
    "fig, ax = plt.subplots(2,1)\n",
    "\n",
    "plt.subplot(2,1,1)\n",
    "ax = data['Proposed Zoning Sqft'].hist(bins=30, range=(0,3000), color='orange')\n",
    "ax.set_title('Proposed Zoning square footage')\n",
    "# ax.set_xlabel('Square feet')\n",
    "ax.grid(False)\n",
    "pd.DataFrame((data['Proposed Zoning Sqft']).describe()).round(1)\n",
    "\n",
    "plt.subplot(2,1,2)\n",
    "ax1 = data['Proposed Zoning Sqft'].hist(bins=30, range=(100,3000))\n",
    "ax1.set_title('Proposed Zoning square footage - excluding 0s')\n",
    "ax1.set_xlabel('Square feet')\n",
    "ax1.grid(False)\n",
    "plt.tight_layout()\n",
    "\n",
    "# scatterplot of proposed zoning square feet vs Duration.\n",
    "sns.lmplot(x='Proposed Zoning Sqft', y='Duration', data=data)\n",
    "plt.tight_layout()\n",
    "# plt.xscale('log')\n",
    "plt.ylim(0,5000)\n",
    "plt.xticks(rotation=60)\n",
    "plt.title('Proposed zoning area and the approval duration')"
   ]
  },
  {
   "cell_type": "code",
   "execution_count": 405,
   "metadata": {},
   "outputs": [
    {
     "data": {
      "image/png": "[encoded data removed]",
      "text/plain": [
       "<Figure size 432x288 with 1 Axes>"
      ]
     },
     "metadata": {
      "needs_background": "light"
     },
     "output_type": "display_data"
    }
   ],
   "source": [
    "# Histogram of Proposed No. Of Stories. \n",
    "\n",
    "# DO A BAR PLOT INSTEAD OF HIST\n",
    "\n",
    "ax = data['Proposed No. Of Stories'].hist(bins=30, range=(0,25))\n",
    "ax.set_title('Proposed No. Of Stories')\n",
    "ax.set_xlabel('')\n",
    "ax.grid(False)\n",
    "pd.DataFrame((data['Proposed No. Of Stories']).describe()).round(1)\n",
    "plt.tight_layout()"
   ]
  },
  {
   "cell_type": "code",
   "execution_count": 406,
   "metadata": {},
   "outputs": [
    {
     "data": {
      "image/png": "[encoded data removed]",
      "text/plain": [
       "<Figure size 432x288 with 1 Axes>"
      ]
     },
     "metadata": {
      "needs_background": "light"
     },
     "output_type": "display_data"
    }
   ],
   "source": [
    "# Boxplot of Proposed No. Of Stories in each borough. \n",
    "ax = sns.boxplot(data=data,x='Borough', y='Proposed No. Of Stories')\n",
    "ax.set(ylim=(0,110))\n",
    "ax.set_xlabel('')\n",
    "plt.tight_layout()"
   ]
  },
  {
   "cell_type": "code",
   "execution_count": 407,
   "metadata": {},
   "outputs": [
    {
     "name": "stderr",
     "output_type": "stream",
     "text": [
      "/Users/anushavan/anaconda3/lib/python3.7/site-packages/scipy/stats/stats.py:1713: FutureWarning: Using a non-tuple sequence for multidimensional indexing is deprecated; use `arr[tuple(seq)]` instead of `arr[seq]`. In the future this will be interpreted as an array index, `arr[np.array(seq)]`, which will result either in an error or a different result.\n",
      "  return np.add.reduce(sorted[indexer] * weights, axis=axis) / sumval\n"
     ]
    },
    {
     "data": {
      "text/plain": [
       "Text(-2.45,0.5,'Duration (days)')"
      ]
     },
     "execution_count": 407,
     "metadata": {},
     "output_type": "execute_result"
    },
    {
     "data": {
      "image/png": "[encoded data removed]",
      "text/plain": [
       "<Figure size 360x360 with 1 Axes>"
      ]
     },
     "metadata": {
      "needs_background": "light"
     },
     "output_type": "display_data"
    }
   ],
   "source": [
    "# scatterplot of proposed number of stories and duration.\n",
    "\n",
    "sns.lmplot(x='Proposed No. Of Stories', y='Duration', data=data)\n",
    "plt.title('Proposed number of stories and the duration of approval')\n",
    "plt.ylabel('Duration (days)')"
   ]
  },
  {
   "cell_type": "code",
   "execution_count": 408,
   "metadata": {},
   "outputs": [
    {
     "data": {
      "image/png": "[encoded data removed]",
      "text/plain": [
       "<Figure size 432x288 with 1 Axes>"
      ]
     },
     "metadata": {
      "needs_background": "light"
     },
     "output_type": "display_data"
    }
   ],
   "source": [
    "# Histogram of Proposed Height. \n",
    "ax = data['Proposed Height'].hist(bins=30, range=(0,220))\n",
    "ax.set_title('Proposed Height')\n",
    "ax.set_xlabel('Proposed Height (in feet)')\n",
    "ax.grid(False)\n",
    "pd.DataFrame((data['Proposed Height']).describe()).round(1)\n",
    "plt.tight_layout()"
   ]
  },
  {
   "cell_type": "code",
   "execution_count": 409,
   "metadata": {},
   "outputs": [
    {
     "data": {
      "image/png": "[encoded data removed]",
      "text/plain": [
       "<Figure size 432x288 with 1 Axes>"
      ]
     },
     "metadata": {
      "needs_background": "light"
     },
     "output_type": "display_data"
    }
   ],
   "source": [
    "# Boxplot of Proposed Height in each borough. \n",
    "ax = sns.boxplot(data=data,x='Borough', y='Proposed Height')\n",
    "ax.set(ylim=(0,1800))\n",
    "ax.set_xlabel('')\n",
    "ax.set_ylabel('Proposed Height (in feet)')\n",
    "ax.set_title('Proposed Height in each borough')\n",
    "plt.tight_layout()"
   ]
  },
  {
   "cell_type": "code",
   "execution_count": 410,
   "metadata": {},
   "outputs": [
    {
     "name": "stderr",
     "output_type": "stream",
     "text": [
      "/Users/anushavan/anaconda3/lib/python3.7/site-packages/scipy/stats/stats.py:1713: FutureWarning: Using a non-tuple sequence for multidimensional indexing is deprecated; use `arr[tuple(seq)]` instead of `arr[seq]`. In the future this will be interpreted as an array index, `arr[np.array(seq)]`, which will result either in an error or a different result.\n",
      "  return np.add.reduce(sorted[indexer] * weights, axis=axis) / sumval\n"
     ]
    },
    {
     "data": {
      "text/plain": [
       "(0, 5100)"
      ]
     },
     "execution_count": 410,
     "metadata": {},
     "output_type": "execute_result"
    },
    {
     "data": {
      "image/png": "[encoded data removed]",
      "text/plain": [
       "<Figure size 360x360 with 1 Axes>"
      ]
     },
     "metadata": {
      "needs_background": "light"
     },
     "output_type": "display_data"
    }
   ],
   "source": [
    "# scatterplot of proposed height and duration.\n",
    "\n",
    "sns.lmplot(x='Proposed Height', y='Duration', data=data)\n",
    "plt.title('Proposed Height and the duration of approval')\n",
    "plt.ylabel('Duration (days)')\n",
    "plt.ylim(0,5100)"
   ]
  },
  {
   "cell_type": "code",
   "execution_count": 411,
   "metadata": {
    "scrolled": true
   },
   "outputs": [
    {
     "data": {
      "text/html": [
       "<div>\n",
       "<style scoped>\n",
       "    .dataframe tbody tr th:only-of-type {\n",
       "        vertical-align: middle;\n",
       "    }\n",
       "\n",
       "    .dataframe tbody tr th {\n",
       "        vertical-align: top;\n",
       "    }\n",
       "\n",
       "    .dataframe thead th {\n",
       "        text-align: right;\n",
       "    }\n",
       "</style>\n",
       "<table border=\"1\" class=\"dataframe\">\n",
       "  <thead>\n",
       "    <tr style=\"text-align: right;\">\n",
       "      <th></th>\n",
       "      <th>Proposed Dwelling Units</th>\n",
       "    </tr>\n",
       "  </thead>\n",
       "  <tbody>\n",
       "    <tr>\n",
       "      <th>count</th>\n",
       "      <td>12712.0</td>\n",
       "    </tr>\n",
       "    <tr>\n",
       "      <th>mean</th>\n",
       "      <td>9.8</td>\n",
       "    </tr>\n",
       "    <tr>\n",
       "      <th>std</th>\n",
       "      <td>43.6</td>\n",
       "    </tr>\n",
       "    <tr>\n",
       "      <th>min</th>\n",
       "      <td>0.0</td>\n",
       "    </tr>\n",
       "    <tr>\n",
       "      <th>25%</th>\n",
       "      <td>1.0</td>\n",
       "    </tr>\n",
       "    <tr>\n",
       "      <th>50%</th>\n",
       "      <td>2.0</td>\n",
       "    </tr>\n",
       "    <tr>\n",
       "      <th>75%</th>\n",
       "      <td>3.0</td>\n",
       "    </tr>\n",
       "    <tr>\n",
       "      <th>max</th>\n",
       "      <td>1669.0</td>\n",
       "    </tr>\n",
       "  </tbody>\n",
       "</table>\n",
       "</div>"
      ],
      "text/plain": [
       "       Proposed Dwelling Units\n",
       "count                  12712.0\n",
       "mean                       9.8\n",
       "std                       43.6\n",
       "min                        0.0\n",
       "25%                        1.0\n",
       "50%                        2.0\n",
       "75%                        3.0\n",
       "max                     1669.0"
      ]
     },
     "execution_count": 411,
     "metadata": {},
     "output_type": "execute_result"
    },
    {
     "data": {
      "image/png": "[encoded data removed]",
      "text/plain": [
       "<Figure size 432x288 with 2 Axes>"
      ]
     },
     "metadata": {
      "needs_background": "light"
     },
     "output_type": "display_data"
    }
   ],
   "source": [
    "# Histogram of Proposed Height. \n",
    "fig,ax = plt.subplots(2,1, sharey=True)\n",
    "plt.subplot(2,1,1)\n",
    "ax = data['Proposed Dwelling Units'].hist(bins=30, color='gold')\n",
    "ax.set_title('Proposed Dwelling Units')\n",
    "# ax.set_xlabel('Proposed Dwelling Units (Number)')\n",
    "ax.grid(False)\n",
    "\n",
    "plt.subplot(2,1,2)\n",
    "ax1 = data['Proposed Dwelling Units'].hist(bins=30, range=(0,25))\n",
    "ax1.set_title('Proposed Dwelling Units (subset between 0 and 25)')\n",
    "ax1.set_xlabel('Proposed Dwelling Units (Number)')\n",
    "ax1.grid(False)\n",
    "\n",
    "plt.tight_layout()\n",
    "pd.DataFrame((data['Proposed Dwelling Units']).describe()).round(1)"
   ]
  },
  {
   "cell_type": "code",
   "execution_count": 412,
   "metadata": {},
   "outputs": [
    {
     "data": {
      "image/png": "[encoded data removed]",
      "text/plain": [
       "<Figure size 432x288 with 1 Axes>"
      ]
     },
     "metadata": {
      "needs_background": "light"
     },
     "output_type": "display_data"
    }
   ],
   "source": [
    "# Boxplot of Proposed Dwelling Units in each borough. \n",
    "ax = sns.boxplot(data=data,x='Borough', y='Proposed Dwelling Units')\n",
    "ax.set(ylim=(0,1800))\n",
    "ax.set_xlabel('')\n",
    "ax.set_ylabel('Proposed Dwelling Units (number)')\n",
    "ax.set_title('Proposed Dwelling Units in each borough')\n",
    "plt.tight_layout()"
   ]
  },
  {
   "cell_type": "code",
   "execution_count": 413,
   "metadata": {
    "scrolled": true
   },
   "outputs": [
    {
     "name": "stderr",
     "output_type": "stream",
     "text": [
      "/Users/anushavan/anaconda3/lib/python3.7/site-packages/scipy/stats/stats.py:1713: FutureWarning: Using a non-tuple sequence for multidimensional indexing is deprecated; use `arr[tuple(seq)]` instead of `arr[seq]`. In the future this will be interpreted as an array index, `arr[np.array(seq)]`, which will result either in an error or a different result.\n",
      "  return np.add.reduce(sorted[indexer] * weights, axis=axis) / sumval\n"
     ]
    },
    {
     "data": {
      "text/plain": [
       "(0, 2000)"
      ]
     },
     "execution_count": 413,
     "metadata": {},
     "output_type": "execute_result"
    },
    {
     "data": {
      "image/png": "[encoded data removed]",
      "text/plain": [
       "<Figure size 360x360 with 1 Axes>"
      ]
     },
     "metadata": {
      "needs_background": "light"
     },
     "output_type": "display_data"
    }
   ],
   "source": [
    "# scatterplot of proposed dwelling units and duration.\n",
    "\n",
    "sns.lmplot(x='Proposed Dwelling Units', y='Duration', data=data)\n",
    "plt.title('Proposed Dwelling Units and the duration of approval')\n",
    "plt.ylabel('Duration (days)')\n",
    "plt.ylim(0,5100)\n",
    "plt.xlim(0,2000)"
   ]
  },
  {
   "cell_type": "code",
   "execution_count": 414,
   "metadata": {},
   "outputs": [
    {
     "data": {
      "text/html": [
       "<div>\n",
       "<style scoped>\n",
       "    .dataframe tbody tr th:only-of-type {\n",
       "        vertical-align: middle;\n",
       "    }\n",
       "\n",
       "    .dataframe tbody tr th {\n",
       "        vertical-align: top;\n",
       "    }\n",
       "\n",
       "    .dataframe thead th {\n",
       "        text-align: right;\n",
       "    }\n",
       "</style>\n",
       "<table border=\"1\" class=\"dataframe\">\n",
       "  <thead>\n",
       "    <tr style=\"text-align: right;\">\n",
       "      <th></th>\n",
       "      <th>Borough</th>\n",
       "      <th>Building Type</th>\n",
       "      <th>Efiling Filed</th>\n",
       "      <th>Applicant Professional Title</th>\n",
       "      <th>Professional Cert</th>\n",
       "      <th>Fully Paid</th>\n",
       "      <th>Approved</th>\n",
       "      <th>Total Est. Fee</th>\n",
       "      <th>Proposed Zoning Sqft</th>\n",
       "      <th>Proposed No. Of Stories</th>\n",
       "      <th>...</th>\n",
       "      <th>Proposed Occupancy</th>\n",
       "      <th>Zoning Dist1</th>\n",
       "      <th>Zoning Dist2</th>\n",
       "      <th>Zoning Dist3</th>\n",
       "      <th>Special District 1</th>\n",
       "      <th>Special District 2</th>\n",
       "      <th>Non-Profit</th>\n",
       "      <th>Total_Construction_Floor_Area</th>\n",
       "      <th>Signoff_Date</th>\n",
       "      <th>Duration</th>\n",
       "    </tr>\n",
       "  </thead>\n",
       "  <tbody>\n",
       "    <tr>\n",
       "      <th>12046</th>\n",
       "      <td>QUEENS</td>\n",
       "      <td>OTHERS</td>\n",
       "      <td>Y</td>\n",
       "      <td>RA</td>\n",
       "      <td>N</td>\n",
       "      <td>2015-09-01</td>\n",
       "      <td>2015-12-03</td>\n",
       "      <td>41627.04</td>\n",
       "      <td>103640</td>\n",
       "      <td>7</td>\n",
       "      <td>...</td>\n",
       "      <td>R-2</td>\n",
       "      <td>R6</td>\n",
       "      <td>NaN</td>\n",
       "      <td>NaN</td>\n",
       "      <td>NaN</td>\n",
       "      <td>NaN</td>\n",
       "      <td>N</td>\n",
       "      <td>160104</td>\n",
       "      <td>NaT</td>\n",
       "      <td>93.0</td>\n",
       "    </tr>\n",
       "    <tr>\n",
       "      <th>23976</th>\n",
       "      <td>QUEENS</td>\n",
       "      <td>1-2-3 FAMILY</td>\n",
       "      <td>N</td>\n",
       "      <td>RA</td>\n",
       "      <td>N</td>\n",
       "      <td>2005-06-08</td>\n",
       "      <td>2005-08-10</td>\n",
       "      <td>725.87</td>\n",
       "      <td>0</td>\n",
       "      <td>2</td>\n",
       "      <td>...</td>\n",
       "      <td>J-3</td>\n",
       "      <td>R2</td>\n",
       "      <td>NaN</td>\n",
       "      <td>NaN</td>\n",
       "      <td>NaN</td>\n",
       "      <td>NaN</td>\n",
       "      <td>N</td>\n",
       "      <td>3980</td>\n",
       "      <td>2007-04-30</td>\n",
       "      <td>63.0</td>\n",
       "    </tr>\n",
       "  </tbody>\n",
       "</table>\n",
       "<p>2 rows × 22 columns</p>\n",
       "</div>"
      ],
      "text/plain": [
       "      Borough Building Type Efiling Filed Applicant Professional Title  \\\n",
       "12046  QUEENS        OTHERS             Y                           RA   \n",
       "23976  QUEENS  1-2-3 FAMILY             N                           RA   \n",
       "\n",
       "      Professional Cert Fully Paid   Approved  Total Est. Fee  \\\n",
       "12046                 N 2015-09-01 2015-12-03        41627.04   \n",
       "23976                 N 2005-06-08 2005-08-10          725.87   \n",
       "\n",
       "       Proposed Zoning Sqft  Proposed No. Of Stories    ...     \\\n",
       "12046                103640                        7    ...      \n",
       "23976                     0                        2    ...      \n",
       "\n",
       "       Proposed Occupancy  Zoning Dist1 Zoning Dist2 Zoning Dist3  \\\n",
       "12046                 R-2            R6          NaN          NaN   \n",
       "23976                 J-3            R2          NaN          NaN   \n",
       "\n",
       "      Special District 1 Special District 2 Non-Profit  \\\n",
       "12046                NaN                NaN          N   \n",
       "23976                NaN                NaN          N   \n",
       "\n",
       "      Total_Construction_Floor_Area Signoff_Date  Duration  \n",
       "12046                        160104          NaT      93.0  \n",
       "23976                          3980   2007-04-30      63.0  \n",
       "\n",
       "[2 rows x 22 columns]"
      ]
     },
     "execution_count": 414,
     "metadata": {},
     "output_type": "execute_result"
    }
   ],
   "source": [
    "data.head(2)"
   ]
  },
  {
   "cell_type": "markdown",
   "metadata": {},
   "source": [
    "### Categorical variables that have multiple categories \n",
    "\n",
    "#### How to visualize the categorigal variables that have too many categories for a bar chart or box plot?\n",
    "\n",
    "Zoning, Special Districts and Proposed Occupany variables have multiple categoris each, ranging from 8 (Special District 2) to 43 (Proposed Occupancy) to 164 (Zoning Dist1) and anything in between. "
   ]
  },
  {
   "cell_type": "code",
   "execution_count": 415,
   "metadata": {},
   "outputs": [
    {
     "data": {
      "text/plain": [
       "array(['R-2', 'J-3', 'J-2', 'J-0', 'R-3', 'S-2', 'D-2', 'B-2', 'U', 'RES',\n",
       "       'E', 'M', 'S-1', 'C', 'F-3', 'F-4', 'K', 'J-1', 'F-1B', 'R-1', 'B',\n",
       "       'H-2', 'G', 'F-2', 'F-1', 'A-3', 'PUB', 'B-1', 'COM', nan, 'D-1',\n",
       "       'A-2', 'I-2', 'A-4', 'H-1', 'A-5', 'H-5', 'F-1A'], dtype=object)"
      ]
     },
     "execution_count": 415,
     "metadata": {},
     "output_type": "execute_result"
    }
   ],
   "source": [
    "data['Proposed Occupancy'].unique()"
   ]
  },
  {
   "cell_type": "code",
   "execution_count": 416,
   "metadata": {
    "scrolled": true
   },
   "outputs": [
    {
     "data": {
      "text/plain": [
       "Text(0,0.5,'Days')"
      ]
     },
     "execution_count": 416,
     "metadata": {},
     "output_type": "execute_result"
    },
    {
     "data": {
      "image/png": "[encoded data removed]",
      "text/plain": [
       "<Figure size 432x288 with 2 Axes>"
      ]
     },
     "metadata": {
      "needs_background": "light"
     },
     "output_type": "display_data"
    }
   ],
   "source": [
    "#bar chart of the Non-profit category.\n",
    "\n",
    "fig, (ax1,ax2) = plt.subplots(2, sharex=True)\n",
    "\n",
    "ngo=(data.groupby('Non-Profit')[['Approved','Duration']].\n",
    "agg({'Approved':'count', 'Duration':'mean'}))\n",
    "\n",
    "ax1.bar(ngo.index, ngo['Approved'], color='gold')\n",
    "ax1.set_title('Number of building permits approved')\n",
    "ax2.set_ylabel('Number of applications')\n",
    "\n",
    "ax2.bar(ngo.index, ngo['Duration'])\n",
    "ax2.set_title('Mean duration of the approval')\n",
    "ax2.set_xticklabels(['No','Yes'], rotation=360)\n",
    "ax2.set_ylabel('Days')\n",
    "\n",
    "# clarify the title and other a box plot.\n"
   ]
  },
  {
   "cell_type": "code",
   "execution_count": null,
   "metadata": {},
   "outputs": [],
   "source": []
  },
  {
   "cell_type": "code",
   "execution_count": 417,
   "metadata": {},
   "outputs": [
    {
     "data": {
      "text/html": [
       "<div>\n",
       "<style scoped>\n",
       "    .dataframe tbody tr th:only-of-type {\n",
       "        vertical-align: middle;\n",
       "    }\n",
       "\n",
       "    .dataframe tbody tr th {\n",
       "        vertical-align: top;\n",
       "    }\n",
       "\n",
       "    .dataframe thead th {\n",
       "        text-align: right;\n",
       "    }\n",
       "</style>\n",
       "<table border=\"1\" class=\"dataframe\">\n",
       "  <thead>\n",
       "    <tr style=\"text-align: right;\">\n",
       "      <th></th>\n",
       "      <th>Total_Construction_Floor_Area</th>\n",
       "    </tr>\n",
       "  </thead>\n",
       "  <tbody>\n",
       "    <tr>\n",
       "      <th>count</th>\n",
       "      <td>14889.0</td>\n",
       "    </tr>\n",
       "    <tr>\n",
       "      <th>mean</th>\n",
       "      <td>13822.5</td>\n",
       "    </tr>\n",
       "    <tr>\n",
       "      <th>std</th>\n",
       "      <td>84258.5</td>\n",
       "    </tr>\n",
       "    <tr>\n",
       "      <th>min</th>\n",
       "      <td>0.0</td>\n",
       "    </tr>\n",
       "    <tr>\n",
       "      <th>25%</th>\n",
       "      <td>2318.0</td>\n",
       "    </tr>\n",
       "    <tr>\n",
       "      <th>50%</th>\n",
       "      <td>3432.0</td>\n",
       "    </tr>\n",
       "    <tr>\n",
       "      <th>75%</th>\n",
       "      <td>5339.0</td>\n",
       "    </tr>\n",
       "    <tr>\n",
       "      <th>max</th>\n",
       "      <td>7142400.0</td>\n",
       "    </tr>\n",
       "  </tbody>\n",
       "</table>\n",
       "</div>"
      ],
      "text/plain": [
       "       Total_Construction_Floor_Area\n",
       "count                        14889.0\n",
       "mean                         13822.5\n",
       "std                          84258.5\n",
       "min                              0.0\n",
       "25%                           2318.0\n",
       "50%                           3432.0\n",
       "75%                           5339.0\n",
       "max                        7142400.0"
      ]
     },
     "execution_count": 417,
     "metadata": {},
     "output_type": "execute_result"
    },
    {
     "data": {
      "image/png": "[encoded data removed]",
      "text/plain": [
       "<Figure size 432x288 with 2 Axes>"
      ]
     },
     "metadata": {
      "needs_background": "light"
     },
     "output_type": "display_data"
    }
   ],
   "source": [
    "# Histogram of Total Construction Floor Area. \n",
    "\n",
    "fig,ax = plt.subplots(2,1)\n",
    "\n",
    "plt.subplot(2,1,1)\n",
    "ax = data['Total_Construction_Floor_Area'].hist(bins=30, color='orange')\n",
    "ax.set_title('Total_Construction_Floor_Area')\n",
    "# ax.set_xlabel('Total_Construction_Floor_Area (square feet)')\n",
    "ax.grid(False)\n",
    "\n",
    "plt.subplot(2,1,2)\n",
    "ax1 = data['Total_Construction_Floor_Area'].hist(bins=30,  range=(0,20000))\n",
    "ax1.set_title('Total Construction Floor Area - cap at 20,000 sqft')\n",
    "ax1.set_xlabel('Total Construction Floor Area (square feet)')\n",
    "ax1.grid(False)\n",
    "\n",
    "plt.tight_layout()\n",
    "pd.DataFrame((data['Total_Construction_Floor_Area']).describe()).round(1)\n"
   ]
  },
  {
   "cell_type": "code",
   "execution_count": 418,
   "metadata": {},
   "outputs": [
    {
     "name": "stderr",
     "output_type": "stream",
     "text": [
      "/Users/anushavan/anaconda3/lib/python3.7/site-packages/scipy/stats/stats.py:1713: FutureWarning: Using a non-tuple sequence for multidimensional indexing is deprecated; use `arr[tuple(seq)]` instead of `arr[seq]`. In the future this will be interpreted as an array index, `arr[np.array(seq)]`, which will result either in an error or a different result.\n",
      "  return np.add.reduce(sorted[indexer] * weights, axis=axis) / sumval\n"
     ]
    },
    {
     "data": {
      "text/plain": [
       "(0, 2000000)"
      ]
     },
     "execution_count": 418,
     "metadata": {},
     "output_type": "execute_result"
    },
    {
     "data": {
      "image/png": "[encoded data removed]",
      "text/plain": [
       "<Figure size 360x360 with 1 Axes>"
      ]
     },
     "metadata": {
      "needs_background": "light"
     },
     "output_type": "display_data"
    }
   ],
   "source": [
    "# scatterplot of Total construction floor area and duration.\n",
    "\n",
    "sns.lmplot(x='Total_Construction_Floor_Area', y='Duration', data=data)\n",
    "plt.title('Total construction floor area and the duration of approval')\n",
    "plt.ylabel('Duration (days)')\n",
    "plt.xlabel('Total Construction Floor Area (sqft)')\n",
    "plt.ylim(0,5100)\n",
    "plt.xticks(rotation=60)\n",
    "plt.xlim(0,2000000)"
   ]
  },
  {
   "cell_type": "markdown",
   "metadata": {},
   "source": [
    "### Further analysis of the dependent variable and explanatory variables.\n",
    "\n",
    "Heatmap of all variables and correlations."
   ]
  },
  {
   "cell_type": "code",
   "execution_count": 419,
   "metadata": {
    "scrolled": true
   },
   "outputs": [
    {
     "data": {
      "image/png": "[encoded data removed]",
      "text/plain": [
       "<Figure size 1296x1296 with 1 Axes>"
      ]
     },
     "metadata": {
      "needs_background": "light"
     },
     "output_type": "display_data"
    }
   ],
   "source": [
    "def plot_corr(df,size=10):\n",
    "    '''Function plots a graphical correlation matrix for each pair of columns in the \n",
    "    dataframe.\n",
    "\n",
    "    Input:\n",
    "        data: pandas DataFrame\n",
    "        size: vertical and horizontal size of the plot'''\n",
    "\n",
    "    corr = df.corr()\n",
    "    fig, ax = plt.subplots(figsize=(size, size))\n",
    "    ax.matshow(corr)\n",
    "    plt.xticks(range(len(corr.columns)), corr.columns);\n",
    "    plt.yticks(range(len(corr.columns)), corr.columns);\n",
    "#     plt.tight_layout()\n",
    "\n",
    "plot_corr(data, 18)"
   ]
  },
  {
   "cell_type": "code",
   "execution_count": 420,
   "metadata": {},
   "outputs": [
    {
     "data": {
      "text/plain": [
       "<matplotlib.axes._subplots.AxesSubplot at 0x1a21b5b8d0>"
      ]
     },
     "execution_count": 420,
     "metadata": {},
     "output_type": "execute_result"
    },
    {
     "data": {
      "image/png": "[encoded data removed]",
      "text/plain": [
       "<Figure size 432x288 with 2 Axes>"
      ]
     },
     "metadata": {
      "needs_background": "light"
     },
     "output_type": "display_data"
    }
   ],
   "source": [
    "import seaborn as sns\n",
    "corr = data.corr()\n",
    "sns.heatmap(corr, \n",
    "            xticklabels=corr.columns.values,\n",
    "            yticklabels=corr.columns.values,\n",
    "            cmap=\"RdBu_r\")\n",
    "\n",
    "# sns.palplot(sns.diverging_palette(220, 20, n=7))\n"
   ]
  },
  {
   "cell_type": "code",
   "execution_count": 421,
   "metadata": {
    "scrolled": true
   },
   "outputs": [
    {
     "data": {
      "text/html": [
       "<div>\n",
       "<style scoped>\n",
       "    .dataframe tbody tr th:only-of-type {\n",
       "        vertical-align: middle;\n",
       "    }\n",
       "\n",
       "    .dataframe tbody tr th {\n",
       "        vertical-align: top;\n",
       "    }\n",
       "\n",
       "    .dataframe thead th {\n",
       "        text-align: right;\n",
       "    }\n",
       "</style>\n",
       "<table border=\"1\" class=\"dataframe\">\n",
       "  <thead>\n",
       "    <tr style=\"text-align: right;\">\n",
       "      <th></th>\n",
       "      <th>Duration</th>\n",
       "    </tr>\n",
       "  </thead>\n",
       "  <tbody>\n",
       "    <tr>\n",
       "      <th>count</th>\n",
       "      <td>14889.000000</td>\n",
       "    </tr>\n",
       "    <tr>\n",
       "      <th>mean</th>\n",
       "      <td>165.447713</td>\n",
       "    </tr>\n",
       "    <tr>\n",
       "      <th>std</th>\n",
       "      <td>256.074134</td>\n",
       "    </tr>\n",
       "    <tr>\n",
       "      <th>min</th>\n",
       "      <td>1.000000</td>\n",
       "    </tr>\n",
       "    <tr>\n",
       "      <th>25%</th>\n",
       "      <td>24.000000</td>\n",
       "    </tr>\n",
       "    <tr>\n",
       "      <th>50%</th>\n",
       "      <td>84.000000</td>\n",
       "    </tr>\n",
       "    <tr>\n",
       "      <th>75%</th>\n",
       "      <td>197.000000</td>\n",
       "    </tr>\n",
       "    <tr>\n",
       "      <th>max</th>\n",
       "      <td>4959.000000</td>\n",
       "    </tr>\n",
       "  </tbody>\n",
       "</table>\n",
       "</div>"
      ],
      "text/plain": [
       "           Duration\n",
       "count  14889.000000\n",
       "mean     165.447713\n",
       "std      256.074134\n",
       "min        1.000000\n",
       "25%       24.000000\n",
       "50%       84.000000\n",
       "75%      197.000000\n",
       "max     4959.000000"
      ]
     },
     "execution_count": 421,
     "metadata": {},
     "output_type": "execute_result"
    },
    {
     "data": {
      "image/png": "[encoded data removed]",
      "text/plain": [
       "<Figure size 432x288 with 1 Axes>"
      ]
     },
     "metadata": {
      "needs_background": "light"
     },
     "output_type": "display_data"
    }
   ],
   "source": [
    "# Create a histogram of duration and include a statistical analysis.\n",
    "data['Duration'].plot(kind='hist', bins = 200)\n",
    "plt.xlim(0,1000)\n",
    "plt.xlabel('Approval duration (days)')\n",
    "pd.DataFrame(data['Duration'].describe())"
   ]
  },
  {
   "cell_type": "code",
   "execution_count": 422,
   "metadata": {},
   "outputs": [
    {
     "data": {
      "text/plain": [
       "Text(0.5,1,'Mean and median duration by borough')"
      ]
     },
     "execution_count": 422,
     "metadata": {},
     "output_type": "execute_result"
    },
    {
     "data": {
      "image/png": "[encoded data removed]",
      "text/plain": [
       "<Figure size 432x288 with 1 Axes>"
      ]
     },
     "metadata": {
      "needs_background": "light"
     },
     "output_type": "display_data"
    }
   ],
   "source": [
    "ax = (data.groupby('Borough')['Duration'].agg(['mean','median'])\n",
    "      .sort_values(by='mean').plot(kind='bar'))\n",
    "ax.set_xlabel('')\n",
    "ax.set_ylabel('Duration (days)')\n",
    "ax.set_title('Mean and median duration by borough')"
   ]
  },
  {
   "cell_type": "code",
   "execution_count": 423,
   "metadata": {},
   "outputs": [
    {
     "data": {
      "text/plain": [
       "<matplotlib.collections.PathCollection at 0x1a22282e80>"
      ]
     },
     "execution_count": 423,
     "metadata": {},
     "output_type": "execute_result"
    },
    {
     "data": {
      "image/png": "[encoded data removed]",
      "text/plain": [
       "<Figure size 432x288 with 1 Axes>"
      ]
     },
     "metadata": {
      "needs_background": "light"
     },
     "output_type": "display_data"
    }
   ],
   "source": [
    "# scatter plot of Proposed Zoning Sqft (x) Duration (y) \n",
    "plt.scatter(x=data['Proposed Zoning Sqft'], y=data['Duration'])"
   ]
  },
  {
   "cell_type": "markdown",
   "metadata": {},
   "source": [
    "### Selecting outliers\n",
    "\n",
    "Selecting outliers based on the Duration variable. Applying a filter to\n",
    "select values that are +- 3 standard deviation in this variable. Total number of outliers is\n",
    "1242 data points, which is 2.1% of the total data."
   ]
  },
  {
   "cell_type": "code",
   "execution_count": 424,
   "metadata": {},
   "outputs": [],
   "source": [
    "from scipy.stats import zscore"
   ]
  },
  {
   "cell_type": "code",
   "execution_count": 425,
   "metadata": {},
   "outputs": [],
   "source": [
    "data['Z_score'] = zscore(data['Duration'])"
   ]
  },
  {
   "cell_type": "code",
   "execution_count": 426,
   "metadata": {},
   "outputs": [
    {
     "data": {
      "text/plain": [
       "<matplotlib.axes._subplots.AxesSubplot at 0x1a2228a908>"
      ]
     },
     "execution_count": 426,
     "metadata": {},
     "output_type": "execute_result"
    },
    {
     "data": {
      "image/png": "[encoded data removed]",
      "text/plain": [
       "<Figure size 432x288 with 1 Axes>"
      ]
     },
     "metadata": {
      "needs_background": "light"
     },
     "output_type": "display_data"
    }
   ],
   "source": [
    "data[data['Z_score'] > 3]['Duration'].plot(kind='hist', bins=30)\n",
    "# x axis labels add"
   ]
  },
  {
   "cell_type": "code",
   "execution_count": 427,
   "metadata": {},
   "outputs": [
    {
     "name": "stdout",
     "output_type": "stream",
     "text": [
      "<class 'pandas.core.frame.DataFrame'>\n",
      "Int64Index: 14889 entries, 12046 to 105737\n",
      "Data columns (total 23 columns):\n",
      "Borough                          14889 non-null category\n",
      "Building Type                    14889 non-null object\n",
      "Efiling Filed                    14889 non-null object\n",
      "Applicant Professional Title     14889 non-null object\n",
      "Professional Cert                14889 non-null object\n",
      "Fully Paid                       14889 non-null datetime64[ns]\n",
      "Approved                         14889 non-null datetime64[ns]\n",
      "Total Est. Fee                   14889 non-null float64\n",
      "Proposed Zoning Sqft             14889 non-null int64\n",
      "Proposed No. Of Stories          14889 non-null int64\n",
      "Proposed Height                  14889 non-null int64\n",
      "Proposed Dwelling Units          12712 non-null float64\n",
      "Proposed Occupancy               14843 non-null object\n",
      "Zoning Dist1                     14843 non-null object\n",
      "Zoning Dist2                     1147 non-null object\n",
      "Zoning Dist3                     50 non-null object\n",
      "Special District 1               1437 non-null object\n",
      "Special District 2               143 non-null object\n",
      "Non-Profit                       14843 non-null object\n",
      "Total_Construction_Floor_Area    14889 non-null int64\n",
      "Signoff_Date                     11066 non-null datetime64[ns]\n",
      "Duration                         14889 non-null float64\n",
      "Z_score                          14889 non-null float64\n",
      "dtypes: category(1), datetime64[ns](3), float64(4), int64(4), object(11)\n",
      "memory usage: 3.3+ MB\n"
     ]
    }
   ],
   "source": [
    "data.info()"
   ]
  },
  {
   "cell_type": "code",
   "execution_count": 428,
   "metadata": {},
   "outputs": [],
   "source": [
    "# create a dictionary of dataframes consisting of the data filtered by boroughs. 5 dataframes\n",
    "# indicating each of the 5 boroughs.\n",
    "\n",
    "dic = {}\n",
    "for boro in data['Borough'].unique():\n",
    "    df = data[data['Borough']==boro]\n",
    "    dic[boro] = df"
   ]
  },
  {
   "cell_type": "code",
   "execution_count": 429,
   "metadata": {},
   "outputs": [],
   "source": [
    "# create a dataframe for each borough and save it as borough.csv. Then create a list of names\n",
    "# of the new created csv files. \n",
    "#list containing the names of each borough d\n",
    "dflist = []\n",
    "for boro in data['Borough'].unique():\n",
    "    df = data[data['Borough'] == boro]\n",
    "    df.to_csv('{}.csv'.format(boro))\n",
    "    dflist.append('{}.csv'.format(boro))"
   ]
  },
  {
   "cell_type": "code",
   "execution_count": 430,
   "metadata": {},
   "outputs": [
    {
     "data": {
      "text/plain": [
       "['QUEENS.csv',\n",
       " 'BRONX.csv',\n",
       " 'STATEN ISLAND.csv',\n",
       " 'BROOKLYN.csv',\n",
       " 'MANHATTAN.csv']"
      ]
     },
     "execution_count": 430,
     "metadata": {},
     "output_type": "execute_result"
    }
   ],
   "source": [
    "dflist"
   ]
  },
  {
   "cell_type": "code",
   "execution_count": 431,
   "metadata": {},
   "outputs": [
    {
     "data": {
      "text/html": [
       "<div>\n",
       "<style scoped>\n",
       "    .dataframe tbody tr th:only-of-type {\n",
       "        vertical-align: middle;\n",
       "    }\n",
       "\n",
       "    .dataframe tbody tr th {\n",
       "        vertical-align: top;\n",
       "    }\n",
       "\n",
       "    .dataframe thead th {\n",
       "        text-align: right;\n",
       "    }\n",
       "</style>\n",
       "<table border=\"1\" class=\"dataframe\">\n",
       "  <thead>\n",
       "    <tr style=\"text-align: right;\">\n",
       "      <th></th>\n",
       "      <th>Unnamed: 0</th>\n",
       "      <th>Borough</th>\n",
       "      <th>Building Type</th>\n",
       "      <th>Efiling Filed</th>\n",
       "      <th>Applicant Professional Title</th>\n",
       "      <th>Professional Cert</th>\n",
       "      <th>Fully Paid</th>\n",
       "      <th>Approved</th>\n",
       "      <th>Total Est. Fee</th>\n",
       "      <th>Proposed Zoning Sqft</th>\n",
       "      <th>...</th>\n",
       "      <th>Zoning Dist1</th>\n",
       "      <th>Zoning Dist2</th>\n",
       "      <th>Zoning Dist3</th>\n",
       "      <th>Special District 1</th>\n",
       "      <th>Special District 2</th>\n",
       "      <th>Non-Profit</th>\n",
       "      <th>Total_Construction_Floor_Area</th>\n",
       "      <th>Signoff_Date</th>\n",
       "      <th>Duration</th>\n",
       "      <th>Z_score</th>\n",
       "    </tr>\n",
       "  </thead>\n",
       "  <tbody>\n",
       "    <tr>\n",
       "      <th>0</th>\n",
       "      <td>117316</td>\n",
       "      <td>BROOKLYN</td>\n",
       "      <td>1-2-3 FAMILY</td>\n",
       "      <td>N</td>\n",
       "      <td>PE</td>\n",
       "      <td>N</td>\n",
       "      <td>2003-07-18</td>\n",
       "      <td>2004-01-21</td>\n",
       "      <td>659.02</td>\n",
       "      <td>0</td>\n",
       "      <td>...</td>\n",
       "      <td>R5</td>\n",
       "      <td>NaN</td>\n",
       "      <td>NaN</td>\n",
       "      <td>NaN</td>\n",
       "      <td>NaN</td>\n",
       "      <td>N</td>\n",
       "      <td>3431</td>\n",
       "      <td>NaN</td>\n",
       "      <td>187.0</td>\n",
       "      <td>0.084167</td>\n",
       "    </tr>\n",
       "    <tr>\n",
       "      <th>1</th>\n",
       "      <td>111671</td>\n",
       "      <td>BROOKLYN</td>\n",
       "      <td>OTHERS</td>\n",
       "      <td>Y</td>\n",
       "      <td>PE</td>\n",
       "      <td>N</td>\n",
       "      <td>2017-02-22</td>\n",
       "      <td>2018-01-17</td>\n",
       "      <td>3523.62</td>\n",
       "      <td>8350</td>\n",
       "      <td>...</td>\n",
       "      <td>R6</td>\n",
       "      <td>NaN</td>\n",
       "      <td>NaN</td>\n",
       "      <td>NaN</td>\n",
       "      <td>NaN</td>\n",
       "      <td>N</td>\n",
       "      <td>11624</td>\n",
       "      <td>NaN</td>\n",
       "      <td>329.0</td>\n",
       "      <td>0.638713</td>\n",
       "    </tr>\n",
       "    <tr>\n",
       "      <th>2</th>\n",
       "      <td>111239</td>\n",
       "      <td>BROOKLYN</td>\n",
       "      <td>OTHERS</td>\n",
       "      <td>Y</td>\n",
       "      <td>PE</td>\n",
       "      <td>N</td>\n",
       "      <td>2016-07-26</td>\n",
       "      <td>2017-02-02</td>\n",
       "      <td>1587.92</td>\n",
       "      <td>5492</td>\n",
       "      <td>...</td>\n",
       "      <td>R6</td>\n",
       "      <td>NaN</td>\n",
       "      <td>NaN</td>\n",
       "      <td>NaN</td>\n",
       "      <td>NaN</td>\n",
       "      <td>N</td>\n",
       "      <td>5492</td>\n",
       "      <td>NaN</td>\n",
       "      <td>191.0</td>\n",
       "      <td>0.099788</td>\n",
       "    </tr>\n",
       "    <tr>\n",
       "      <th>3</th>\n",
       "      <td>117029</td>\n",
       "      <td>BROOKLYN</td>\n",
       "      <td>1-2-3 FAMILY</td>\n",
       "      <td>N</td>\n",
       "      <td>PE</td>\n",
       "      <td>N</td>\n",
       "      <td>2002-12-09</td>\n",
       "      <td>2003-01-07</td>\n",
       "      <td>653.35</td>\n",
       "      <td>0</td>\n",
       "      <td>...</td>\n",
       "      <td>R6</td>\n",
       "      <td>NaN</td>\n",
       "      <td>NaN</td>\n",
       "      <td>NaN</td>\n",
       "      <td>NaN</td>\n",
       "      <td>N</td>\n",
       "      <td>4500</td>\n",
       "      <td>2004-02-26</td>\n",
       "      <td>29.0</td>\n",
       "      <td>-0.532862</td>\n",
       "    </tr>\n",
       "    <tr>\n",
       "      <th>4</th>\n",
       "      <td>57566</td>\n",
       "      <td>BROOKLYN</td>\n",
       "      <td>OTHERS</td>\n",
       "      <td>Y</td>\n",
       "      <td>RA</td>\n",
       "      <td>N</td>\n",
       "      <td>2016-07-07</td>\n",
       "      <td>2017-08-16</td>\n",
       "      <td>1858.58</td>\n",
       "      <td>4988</td>\n",
       "      <td>...</td>\n",
       "      <td>R6B</td>\n",
       "      <td>NaN</td>\n",
       "      <td>NaN</td>\n",
       "      <td>NaN</td>\n",
       "      <td>NaN</td>\n",
       "      <td>N</td>\n",
       "      <td>6533</td>\n",
       "      <td>NaN</td>\n",
       "      <td>405.0</td>\n",
       "      <td>0.935512</td>\n",
       "    </tr>\n",
       "    <tr>\n",
       "      <th>5</th>\n",
       "      <td>52318</td>\n",
       "      <td>BROOKLYN</td>\n",
       "      <td>OTHERS</td>\n",
       "      <td>N</td>\n",
       "      <td>RA</td>\n",
       "      <td>N</td>\n",
       "      <td>2003-08-14</td>\n",
       "      <td>2004-05-21</td>\n",
       "      <td>6808.90</td>\n",
       "      <td>0</td>\n",
       "      <td>...</td>\n",
       "      <td>C2-4</td>\n",
       "      <td>R6A</td>\n",
       "      <td>R6B</td>\n",
       "      <td>NaN</td>\n",
       "      <td>NaN</td>\n",
       "      <td>N</td>\n",
       "      <td>25926</td>\n",
       "      <td>2008-02-14</td>\n",
       "      <td>281.0</td>\n",
       "      <td>0.451261</td>\n",
       "    </tr>\n",
       "    <tr>\n",
       "      <th>6</th>\n",
       "      <td>50962</td>\n",
       "      <td>BROOKLYN</td>\n",
       "      <td>1-2-3 FAMILY</td>\n",
       "      <td>N</td>\n",
       "      <td>RA</td>\n",
       "      <td>N</td>\n",
       "      <td>2002-11-07</td>\n",
       "      <td>2003-02-03</td>\n",
       "      <td>485.80</td>\n",
       "      <td>0</td>\n",
       "      <td>...</td>\n",
       "      <td>R3-2</td>\n",
       "      <td>NaN</td>\n",
       "      <td>NaN</td>\n",
       "      <td>NaN</td>\n",
       "      <td>NaN</td>\n",
       "      <td>N</td>\n",
       "      <td>3111</td>\n",
       "      <td>2004-06-18</td>\n",
       "      <td>88.0</td>\n",
       "      <td>-0.302453</td>\n",
       "    </tr>\n",
       "    <tr>\n",
       "      <th>7</th>\n",
       "      <td>112407</td>\n",
       "      <td>BROOKLYN</td>\n",
       "      <td>OTHERS</td>\n",
       "      <td>Y</td>\n",
       "      <td>RA</td>\n",
       "      <td>N</td>\n",
       "      <td>2017-10-28</td>\n",
       "      <td>2018-05-18</td>\n",
       "      <td>1924.00</td>\n",
       "      <td>4997</td>\n",
       "      <td>...</td>\n",
       "      <td>R6B</td>\n",
       "      <td>NaN</td>\n",
       "      <td>NaN</td>\n",
       "      <td>NaN</td>\n",
       "      <td>NaN</td>\n",
       "      <td>N</td>\n",
       "      <td>7400</td>\n",
       "      <td>NaN</td>\n",
       "      <td>202.0</td>\n",
       "      <td>0.142746</td>\n",
       "    </tr>\n",
       "    <tr>\n",
       "      <th>8</th>\n",
       "      <td>55285</td>\n",
       "      <td>BROOKLYN</td>\n",
       "      <td>1-2-3 FAMILY</td>\n",
       "      <td>N</td>\n",
       "      <td>PE</td>\n",
       "      <td>N</td>\n",
       "      <td>2005-10-20</td>\n",
       "      <td>2006-03-21</td>\n",
       "      <td>391.41</td>\n",
       "      <td>0</td>\n",
       "      <td>...</td>\n",
       "      <td>R3-2</td>\n",
       "      <td>NaN</td>\n",
       "      <td>NaN</td>\n",
       "      <td>NaN</td>\n",
       "      <td>NaN</td>\n",
       "      <td>N</td>\n",
       "      <td>1130</td>\n",
       "      <td>2015-12-23</td>\n",
       "      <td>152.0</td>\n",
       "      <td>-0.052517</td>\n",
       "    </tr>\n",
       "    <tr>\n",
       "      <th>9</th>\n",
       "      <td>109401</td>\n",
       "      <td>BROOKLYN</td>\n",
       "      <td>1-2-3 FAMILY</td>\n",
       "      <td>N</td>\n",
       "      <td>RA</td>\n",
       "      <td>N</td>\n",
       "      <td>2005-08-19</td>\n",
       "      <td>2005-11-04</td>\n",
       "      <td>738.27</td>\n",
       "      <td>0</td>\n",
       "      <td>...</td>\n",
       "      <td>R6</td>\n",
       "      <td>NaN</td>\n",
       "      <td>NaN</td>\n",
       "      <td>NaN</td>\n",
       "      <td>NaN</td>\n",
       "      <td>N</td>\n",
       "      <td>4164</td>\n",
       "      <td>2007-02-13</td>\n",
       "      <td>77.0</td>\n",
       "      <td>-0.345410</td>\n",
       "    </tr>\n",
       "    <tr>\n",
       "      <th>10</th>\n",
       "      <td>62184</td>\n",
       "      <td>BROOKLYN</td>\n",
       "      <td>OTHERS</td>\n",
       "      <td>Y</td>\n",
       "      <td>RA</td>\n",
       "      <td>N</td>\n",
       "      <td>2008-06-26</td>\n",
       "      <td>2008-11-21</td>\n",
       "      <td>16613.00</td>\n",
       "      <td>49812</td>\n",
       "      <td>...</td>\n",
       "      <td>R6</td>\n",
       "      <td>NaN</td>\n",
       "      <td>NaN</td>\n",
       "      <td>NaN</td>\n",
       "      <td>NaN</td>\n",
       "      <td>N</td>\n",
       "      <td>62550</td>\n",
       "      <td>2015-10-23</td>\n",
       "      <td>148.0</td>\n",
       "      <td>-0.068138</td>\n",
       "    </tr>\n",
       "    <tr>\n",
       "      <th>11</th>\n",
       "      <td>74982</td>\n",
       "      <td>BROOKLYN</td>\n",
       "      <td>OTHERS</td>\n",
       "      <td>Y</td>\n",
       "      <td>RA</td>\n",
       "      <td>N</td>\n",
       "      <td>2014-10-08</td>\n",
       "      <td>2015-08-03</td>\n",
       "      <td>5664.46</td>\n",
       "      <td>15306</td>\n",
       "      <td>...</td>\n",
       "      <td>R7A</td>\n",
       "      <td>NaN</td>\n",
       "      <td>NaN</td>\n",
       "      <td>NaN</td>\n",
       "      <td>NaN</td>\n",
       "      <td>N</td>\n",
       "      <td>21171</td>\n",
       "      <td>NaN</td>\n",
       "      <td>299.0</td>\n",
       "      <td>0.521555</td>\n",
       "    </tr>\n",
       "    <tr>\n",
       "      <th>12</th>\n",
       "      <td>52068</td>\n",
       "      <td>BROOKLYN</td>\n",
       "      <td>1-2-3 FAMILY</td>\n",
       "      <td>N</td>\n",
       "      <td>PE</td>\n",
       "      <td>N</td>\n",
       "      <td>2003-07-28</td>\n",
       "      <td>2003-09-10</td>\n",
       "      <td>818.24</td>\n",
       "      <td>0</td>\n",
       "      <td>...</td>\n",
       "      <td>R6</td>\n",
       "      <td>NaN</td>\n",
       "      <td>NaN</td>\n",
       "      <td>NaN</td>\n",
       "      <td>NaN</td>\n",
       "      <td>N</td>\n",
       "      <td>4800</td>\n",
       "      <td>2006-12-07</td>\n",
       "      <td>44.0</td>\n",
       "      <td>-0.474284</td>\n",
       "    </tr>\n",
       "    <tr>\n",
       "      <th>13</th>\n",
       "      <td>111789</td>\n",
       "      <td>BROOKLYN</td>\n",
       "      <td>1-2-3 FAMILY</td>\n",
       "      <td>N</td>\n",
       "      <td>PE</td>\n",
       "      <td>Y</td>\n",
       "      <td>2001-06-19</td>\n",
       "      <td>2001-06-22</td>\n",
       "      <td>603.66</td>\n",
       "      <td>0</td>\n",
       "      <td>...</td>\n",
       "      <td>R6</td>\n",
       "      <td>NaN</td>\n",
       "      <td>NaN</td>\n",
       "      <td>NaN</td>\n",
       "      <td>NaN</td>\n",
       "      <td>N</td>\n",
       "      <td>2955</td>\n",
       "      <td>2003-03-25</td>\n",
       "      <td>3.0</td>\n",
       "      <td>-0.634399</td>\n",
       "    </tr>\n",
       "    <tr>\n",
       "      <th>14</th>\n",
       "      <td>160</td>\n",
       "      <td>BROOKLYN</td>\n",
       "      <td>OTHERS</td>\n",
       "      <td>Y</td>\n",
       "      <td>RA</td>\n",
       "      <td>N</td>\n",
       "      <td>2018-09-05</td>\n",
       "      <td>2019-02-25</td>\n",
       "      <td>18474.75</td>\n",
       "      <td>35322</td>\n",
       "      <td>...</td>\n",
       "      <td>R6</td>\n",
       "      <td>NaN</td>\n",
       "      <td>NaN</td>\n",
       "      <td>NaN</td>\n",
       "      <td>NaN</td>\n",
       "      <td>N</td>\n",
       "      <td>41055</td>\n",
       "      <td>NaN</td>\n",
       "      <td>173.0</td>\n",
       "      <td>0.029494</td>\n",
       "    </tr>\n",
       "    <tr>\n",
       "      <th>15</th>\n",
       "      <td>49563</td>\n",
       "      <td>BROOKLYN</td>\n",
       "      <td>1-2-3 FAMILY</td>\n",
       "      <td>N</td>\n",
       "      <td>RA</td>\n",
       "      <td>Y</td>\n",
       "      <td>2001-09-18</td>\n",
       "      <td>2001-09-21</td>\n",
       "      <td>675.65</td>\n",
       "      <td>0</td>\n",
       "      <td>...</td>\n",
       "      <td>R5</td>\n",
       "      <td>NaN</td>\n",
       "      <td>NaN</td>\n",
       "      <td>NaN</td>\n",
       "      <td>NaN</td>\n",
       "      <td>N</td>\n",
       "      <td>3574</td>\n",
       "      <td>2003-01-08</td>\n",
       "      <td>3.0</td>\n",
       "      <td>-0.634399</td>\n",
       "    </tr>\n",
       "    <tr>\n",
       "      <th>16</th>\n",
       "      <td>66145</td>\n",
       "      <td>BROOKLYN</td>\n",
       "      <td>1-2-3 FAMILY</td>\n",
       "      <td>N</td>\n",
       "      <td>RA</td>\n",
       "      <td>N</td>\n",
       "      <td>2002-11-08</td>\n",
       "      <td>2003-07-08</td>\n",
       "      <td>1002.48</td>\n",
       "      <td>0</td>\n",
       "      <td>...</td>\n",
       "      <td>R2X</td>\n",
       "      <td>NaN</td>\n",
       "      <td>NaN</td>\n",
       "      <td>NaN</td>\n",
       "      <td>NaN</td>\n",
       "      <td>N</td>\n",
       "      <td>7502</td>\n",
       "      <td>NaN</td>\n",
       "      <td>242.0</td>\n",
       "      <td>0.298956</td>\n",
       "    </tr>\n",
       "    <tr>\n",
       "      <th>17</th>\n",
       "      <td>70335</td>\n",
       "      <td>BROOKLYN</td>\n",
       "      <td>1-2-3 FAMILY</td>\n",
       "      <td>Y</td>\n",
       "      <td>RA</td>\n",
       "      <td>N</td>\n",
       "      <td>2013-06-18</td>\n",
       "      <td>2014-01-10</td>\n",
       "      <td>463.20</td>\n",
       "      <td>4456</td>\n",
       "      <td>...</td>\n",
       "      <td>R6</td>\n",
       "      <td>NaN</td>\n",
       "      <td>NaN</td>\n",
       "      <td>NaN</td>\n",
       "      <td>NaN</td>\n",
       "      <td>N</td>\n",
       "      <td>3860</td>\n",
       "      <td>NaN</td>\n",
       "      <td>206.0</td>\n",
       "      <td>0.158367</td>\n",
       "    </tr>\n",
       "    <tr>\n",
       "      <th>18</th>\n",
       "      <td>111130</td>\n",
       "      <td>BROOKLYN</td>\n",
       "      <td>1-2-3 FAMILY</td>\n",
       "      <td>Y</td>\n",
       "      <td>RA</td>\n",
       "      <td>N</td>\n",
       "      <td>2016-05-17</td>\n",
       "      <td>2016-07-29</td>\n",
       "      <td>295.20</td>\n",
       "      <td>2460</td>\n",
       "      <td>...</td>\n",
       "      <td>R6</td>\n",
       "      <td>NaN</td>\n",
       "      <td>NaN</td>\n",
       "      <td>NaN</td>\n",
       "      <td>NaN</td>\n",
       "      <td>N</td>\n",
       "      <td>2460</td>\n",
       "      <td>2019-01-17</td>\n",
       "      <td>73.0</td>\n",
       "      <td>-0.361031</td>\n",
       "    </tr>\n",
       "    <tr>\n",
       "      <th>19</th>\n",
       "      <td>53359</td>\n",
       "      <td>BROOKLYN</td>\n",
       "      <td>1-2-3 FAMILY</td>\n",
       "      <td>N</td>\n",
       "      <td>RA</td>\n",
       "      <td>N</td>\n",
       "      <td>2004-07-21</td>\n",
       "      <td>2004-09-20</td>\n",
       "      <td>754.85</td>\n",
       "      <td>0</td>\n",
       "      <td>...</td>\n",
       "      <td>R3-1</td>\n",
       "      <td>NaN</td>\n",
       "      <td>NaN</td>\n",
       "      <td>NaN</td>\n",
       "      <td>NaN</td>\n",
       "      <td>N</td>\n",
       "      <td>4255</td>\n",
       "      <td>2007-12-13</td>\n",
       "      <td>61.0</td>\n",
       "      <td>-0.407894</td>\n",
       "    </tr>\n",
       "    <tr>\n",
       "      <th>20</th>\n",
       "      <td>70147</td>\n",
       "      <td>BROOKLYN</td>\n",
       "      <td>1-2-3 FAMILY</td>\n",
       "      <td>Y</td>\n",
       "      <td>RA</td>\n",
       "      <td>N</td>\n",
       "      <td>2013-05-28</td>\n",
       "      <td>2013-11-12</td>\n",
       "      <td>674.36</td>\n",
       "      <td>2401</td>\n",
       "      <td>...</td>\n",
       "      <td>R4-1</td>\n",
       "      <td>NaN</td>\n",
       "      <td>NaN</td>\n",
       "      <td>NaN</td>\n",
       "      <td>NaN</td>\n",
       "      <td>N</td>\n",
       "      <td>3138</td>\n",
       "      <td>2015-04-10</td>\n",
       "      <td>168.0</td>\n",
       "      <td>0.009967</td>\n",
       "    </tr>\n",
       "    <tr>\n",
       "      <th>21</th>\n",
       "      <td>4987</td>\n",
       "      <td>BROOKLYN</td>\n",
       "      <td>1-2-3 FAMILY</td>\n",
       "      <td>Y</td>\n",
       "      <td>PE</td>\n",
       "      <td>N</td>\n",
       "      <td>2015-11-18</td>\n",
       "      <td>2016-02-19</td>\n",
       "      <td>405.00</td>\n",
       "      <td>190</td>\n",
       "      <td>...</td>\n",
       "      <td>R5</td>\n",
       "      <td>NaN</td>\n",
       "      <td>NaN</td>\n",
       "      <td>NaN</td>\n",
       "      <td>NaN</td>\n",
       "      <td>N</td>\n",
       "      <td>190</td>\n",
       "      <td>NaN</td>\n",
       "      <td>93.0</td>\n",
       "      <td>-0.282926</td>\n",
       "    </tr>\n",
       "    <tr>\n",
       "      <th>22</th>\n",
       "      <td>14862</td>\n",
       "      <td>BROOKLYN</td>\n",
       "      <td>OTHERS</td>\n",
       "      <td>Y</td>\n",
       "      <td>RA</td>\n",
       "      <td>N</td>\n",
       "      <td>2017-06-13</td>\n",
       "      <td>2018-01-23</td>\n",
       "      <td>1913.70</td>\n",
       "      <td>4983</td>\n",
       "      <td>...</td>\n",
       "      <td>M1-2/R6B</td>\n",
       "      <td>NaN</td>\n",
       "      <td>NaN</td>\n",
       "      <td>MX-8</td>\n",
       "      <td>GW</td>\n",
       "      <td>N</td>\n",
       "      <td>6745</td>\n",
       "      <td>NaN</td>\n",
       "      <td>224.0</td>\n",
       "      <td>0.228661</td>\n",
       "    </tr>\n",
       "    <tr>\n",
       "      <th>23</th>\n",
       "      <td>67657</td>\n",
       "      <td>BROOKLYN</td>\n",
       "      <td>OTHERS</td>\n",
       "      <td>Y</td>\n",
       "      <td>RA</td>\n",
       "      <td>N</td>\n",
       "      <td>2012-08-10</td>\n",
       "      <td>2013-02-12</td>\n",
       "      <td>2110.00</td>\n",
       "      <td>5917</td>\n",
       "      <td>...</td>\n",
       "      <td>R6A</td>\n",
       "      <td>NaN</td>\n",
       "      <td>NaN</td>\n",
       "      <td>NaN</td>\n",
       "      <td>NaN</td>\n",
       "      <td>N</td>\n",
       "      <td>7500</td>\n",
       "      <td>2016-08-17</td>\n",
       "      <td>186.0</td>\n",
       "      <td>0.080262</td>\n",
       "    </tr>\n",
       "    <tr>\n",
       "      <th>24</th>\n",
       "      <td>38955</td>\n",
       "      <td>BROOKLYN</td>\n",
       "      <td>1-2-3 FAMILY</td>\n",
       "      <td>Y</td>\n",
       "      <td>RA</td>\n",
       "      <td>N</td>\n",
       "      <td>2008-09-22</td>\n",
       "      <td>2008-12-17</td>\n",
       "      <td>100.00</td>\n",
       "      <td>462</td>\n",
       "      <td>...</td>\n",
       "      <td>R2</td>\n",
       "      <td>R3-2</td>\n",
       "      <td>NaN</td>\n",
       "      <td>NaN</td>\n",
       "      <td>NaN</td>\n",
       "      <td>N</td>\n",
       "      <td>462</td>\n",
       "      <td>2010-06-09</td>\n",
       "      <td>86.0</td>\n",
       "      <td>-0.310263</td>\n",
       "    </tr>\n",
       "    <tr>\n",
       "      <th>25</th>\n",
       "      <td>88548</td>\n",
       "      <td>BROOKLYN</td>\n",
       "      <td>OTHERS</td>\n",
       "      <td>Y</td>\n",
       "      <td>PE</td>\n",
       "      <td>N</td>\n",
       "      <td>2016-03-03</td>\n",
       "      <td>2016-11-23</td>\n",
       "      <td>2556.58</td>\n",
       "      <td>6566</td>\n",
       "      <td>...</td>\n",
       "      <td>R5</td>\n",
       "      <td>NaN</td>\n",
       "      <td>NaN</td>\n",
       "      <td>NaN</td>\n",
       "      <td>NaN</td>\n",
       "      <td>N</td>\n",
       "      <td>8533</td>\n",
       "      <td>NaN</td>\n",
       "      <td>265.0</td>\n",
       "      <td>0.388777</td>\n",
       "    </tr>\n",
       "    <tr>\n",
       "      <th>26</th>\n",
       "      <td>53477</td>\n",
       "      <td>BROOKLYN</td>\n",
       "      <td>OTHERS</td>\n",
       "      <td>N</td>\n",
       "      <td>RA</td>\n",
       "      <td>N</td>\n",
       "      <td>2004-08-03</td>\n",
       "      <td>2005-12-16</td>\n",
       "      <td>2243.11</td>\n",
       "      <td>0</td>\n",
       "      <td>...</td>\n",
       "      <td>R5</td>\n",
       "      <td>NaN</td>\n",
       "      <td>NaN</td>\n",
       "      <td>NaN</td>\n",
       "      <td>NaN</td>\n",
       "      <td>N</td>\n",
       "      <td>8277</td>\n",
       "      <td>NaN</td>\n",
       "      <td>500.0</td>\n",
       "      <td>1.306510</td>\n",
       "    </tr>\n",
       "    <tr>\n",
       "      <th>27</th>\n",
       "      <td>1068</td>\n",
       "      <td>BROOKLYN</td>\n",
       "      <td>1-2-3 FAMILY</td>\n",
       "      <td>Y</td>\n",
       "      <td>RA</td>\n",
       "      <td>N</td>\n",
       "      <td>2016-10-12</td>\n",
       "      <td>2016-12-01</td>\n",
       "      <td>438.40</td>\n",
       "      <td>2320</td>\n",
       "      <td>...</td>\n",
       "      <td>R4-1</td>\n",
       "      <td>NaN</td>\n",
       "      <td>NaN</td>\n",
       "      <td>NaN</td>\n",
       "      <td>NaN</td>\n",
       "      <td>N</td>\n",
       "      <td>2320</td>\n",
       "      <td>2018-11-20</td>\n",
       "      <td>50.0</td>\n",
       "      <td>-0.450852</td>\n",
       "    </tr>\n",
       "    <tr>\n",
       "      <th>28</th>\n",
       "      <td>111858</td>\n",
       "      <td>BROOKLYN</td>\n",
       "      <td>OTHERS</td>\n",
       "      <td>Y</td>\n",
       "      <td>RA</td>\n",
       "      <td>N</td>\n",
       "      <td>2017-05-03</td>\n",
       "      <td>2018-07-26</td>\n",
       "      <td>2024.98</td>\n",
       "      <td>5188</td>\n",
       "      <td>...</td>\n",
       "      <td>R6</td>\n",
       "      <td>NaN</td>\n",
       "      <td>NaN</td>\n",
       "      <td>NaN</td>\n",
       "      <td>NaN</td>\n",
       "      <td>N</td>\n",
       "      <td>7173</td>\n",
       "      <td>NaN</td>\n",
       "      <td>449.0</td>\n",
       "      <td>1.107343</td>\n",
       "    </tr>\n",
       "    <tr>\n",
       "      <th>29</th>\n",
       "      <td>109120</td>\n",
       "      <td>BROOKLYN</td>\n",
       "      <td>1-2-3 FAMILY</td>\n",
       "      <td>N</td>\n",
       "      <td>RA</td>\n",
       "      <td>Y</td>\n",
       "      <td>2001-02-15</td>\n",
       "      <td>2001-02-16</td>\n",
       "      <td>385.09</td>\n",
       "      <td>0</td>\n",
       "      <td>...</td>\n",
       "      <td>R6</td>\n",
       "      <td>NaN</td>\n",
       "      <td>NaN</td>\n",
       "      <td>NaN</td>\n",
       "      <td>NaN</td>\n",
       "      <td>N</td>\n",
       "      <td>2245</td>\n",
       "      <td>2003-07-22</td>\n",
       "      <td>1.0</td>\n",
       "      <td>-0.642209</td>\n",
       "    </tr>\n",
       "    <tr>\n",
       "      <th>...</th>\n",
       "      <td>...</td>\n",
       "      <td>...</td>\n",
       "      <td>...</td>\n",
       "      <td>...</td>\n",
       "      <td>...</td>\n",
       "      <td>...</td>\n",
       "      <td>...</td>\n",
       "      <td>...</td>\n",
       "      <td>...</td>\n",
       "      <td>...</td>\n",
       "      <td>...</td>\n",
       "      <td>...</td>\n",
       "      <td>...</td>\n",
       "      <td>...</td>\n",
       "      <td>...</td>\n",
       "      <td>...</td>\n",
       "      <td>...</td>\n",
       "      <td>...</td>\n",
       "      <td>...</td>\n",
       "      <td>...</td>\n",
       "      <td>...</td>\n",
       "    </tr>\n",
       "    <tr>\n",
       "      <th>4249</th>\n",
       "      <td>53834</td>\n",
       "      <td>BROOKLYN</td>\n",
       "      <td>OTHERS</td>\n",
       "      <td>N</td>\n",
       "      <td>RA</td>\n",
       "      <td>N</td>\n",
       "      <td>2004-11-03</td>\n",
       "      <td>2005-08-24</td>\n",
       "      <td>2982.97</td>\n",
       "      <td>0</td>\n",
       "      <td>...</td>\n",
       "      <td>R6</td>\n",
       "      <td>NaN</td>\n",
       "      <td>NaN</td>\n",
       "      <td>NaN</td>\n",
       "      <td>NaN</td>\n",
       "      <td>N</td>\n",
       "      <td>11175</td>\n",
       "      <td>2009-07-13</td>\n",
       "      <td>294.0</td>\n",
       "      <td>0.502029</td>\n",
       "    </tr>\n",
       "    <tr>\n",
       "      <th>4250</th>\n",
       "      <td>41125</td>\n",
       "      <td>BROOKLYN</td>\n",
       "      <td>1-2-3 FAMILY</td>\n",
       "      <td>Y</td>\n",
       "      <td>RA</td>\n",
       "      <td>N</td>\n",
       "      <td>2009-06-23</td>\n",
       "      <td>2011-06-10</td>\n",
       "      <td>429.88</td>\n",
       "      <td>2499</td>\n",
       "      <td>...</td>\n",
       "      <td>R6</td>\n",
       "      <td>NaN</td>\n",
       "      <td>NaN</td>\n",
       "      <td>NaN</td>\n",
       "      <td>NaN</td>\n",
       "      <td>N</td>\n",
       "      <td>2499</td>\n",
       "      <td>2013-08-07</td>\n",
       "      <td>717.0</td>\n",
       "      <td>2.153950</td>\n",
       "    </tr>\n",
       "    <tr>\n",
       "      <th>4251</th>\n",
       "      <td>107785</td>\n",
       "      <td>BROOKLYN</td>\n",
       "      <td>1-2-3 FAMILY</td>\n",
       "      <td>Y</td>\n",
       "      <td>RA</td>\n",
       "      <td>N</td>\n",
       "      <td>2013-05-21</td>\n",
       "      <td>2014-02-21</td>\n",
       "      <td>196.56</td>\n",
       "      <td>1638</td>\n",
       "      <td>...</td>\n",
       "      <td>R6</td>\n",
       "      <td>NaN</td>\n",
       "      <td>NaN</td>\n",
       "      <td>NaN</td>\n",
       "      <td>NaN</td>\n",
       "      <td>Y</td>\n",
       "      <td>1638</td>\n",
       "      <td>2017-05-15</td>\n",
       "      <td>276.0</td>\n",
       "      <td>0.431734</td>\n",
       "    </tr>\n",
       "    <tr>\n",
       "      <th>4252</th>\n",
       "      <td>101681</td>\n",
       "      <td>BROOKLYN</td>\n",
       "      <td>1-2-3 FAMILY</td>\n",
       "      <td>N</td>\n",
       "      <td>RA</td>\n",
       "      <td>N</td>\n",
       "      <td>2000-03-03</td>\n",
       "      <td>2001-05-08</td>\n",
       "      <td>331.33</td>\n",
       "      <td>0</td>\n",
       "      <td>...</td>\n",
       "      <td>C6-1</td>\n",
       "      <td>NaN</td>\n",
       "      <td>NaN</td>\n",
       "      <td>NaN</td>\n",
       "      <td>NaN</td>\n",
       "      <td>N</td>\n",
       "      <td>2849</td>\n",
       "      <td>2004-09-07</td>\n",
       "      <td>431.0</td>\n",
       "      <td>1.037048</td>\n",
       "    </tr>\n",
       "    <tr>\n",
       "      <th>4253</th>\n",
       "      <td>118339</td>\n",
       "      <td>BROOKLYN</td>\n",
       "      <td>1-2-3 FAMILY</td>\n",
       "      <td>N</td>\n",
       "      <td>PE</td>\n",
       "      <td>N</td>\n",
       "      <td>2005-08-31</td>\n",
       "      <td>2005-11-23</td>\n",
       "      <td>723.61</td>\n",
       "      <td>0</td>\n",
       "      <td>...</td>\n",
       "      <td>R5</td>\n",
       "      <td>NaN</td>\n",
       "      <td>NaN</td>\n",
       "      <td>NaN</td>\n",
       "      <td>NaN</td>\n",
       "      <td>N</td>\n",
       "      <td>6222</td>\n",
       "      <td>2008-08-04</td>\n",
       "      <td>84.0</td>\n",
       "      <td>-0.318074</td>\n",
       "    </tr>\n",
       "    <tr>\n",
       "      <th>4254</th>\n",
       "      <td>103864</td>\n",
       "      <td>BROOKLYN</td>\n",
       "      <td>OTHERS</td>\n",
       "      <td>Y</td>\n",
       "      <td>RA</td>\n",
       "      <td>N</td>\n",
       "      <td>2008-04-26</td>\n",
       "      <td>2010-05-25</td>\n",
       "      <td>2429.99</td>\n",
       "      <td>9009</td>\n",
       "      <td>...</td>\n",
       "      <td>R6</td>\n",
       "      <td>NaN</td>\n",
       "      <td>NaN</td>\n",
       "      <td>NaN</td>\n",
       "      <td>NaN</td>\n",
       "      <td>Y</td>\n",
       "      <td>9009</td>\n",
       "      <td>2012-06-14</td>\n",
       "      <td>759.0</td>\n",
       "      <td>2.317970</td>\n",
       "    </tr>\n",
       "    <tr>\n",
       "      <th>4255</th>\n",
       "      <td>69946</td>\n",
       "      <td>BROOKLYN</td>\n",
       "      <td>OTHERS</td>\n",
       "      <td>Y</td>\n",
       "      <td>RA</td>\n",
       "      <td>N</td>\n",
       "      <td>2013-05-15</td>\n",
       "      <td>2013-10-23</td>\n",
       "      <td>11007.20</td>\n",
       "      <td>34827</td>\n",
       "      <td>...</td>\n",
       "      <td>M1-2/R6</td>\n",
       "      <td>NaN</td>\n",
       "      <td>NaN</td>\n",
       "      <td>MX-8</td>\n",
       "      <td>GW</td>\n",
       "      <td>N</td>\n",
       "      <td>41720</td>\n",
       "      <td>2016-02-05</td>\n",
       "      <td>161.0</td>\n",
       "      <td>-0.017369</td>\n",
       "    </tr>\n",
       "    <tr>\n",
       "      <th>4256</th>\n",
       "      <td>116970</td>\n",
       "      <td>BROOKLYN</td>\n",
       "      <td>1-2-3 FAMILY</td>\n",
       "      <td>N</td>\n",
       "      <td>RA</td>\n",
       "      <td>Y</td>\n",
       "      <td>2002-10-21</td>\n",
       "      <td>2002-10-22</td>\n",
       "      <td>665.91</td>\n",
       "      <td>0</td>\n",
       "      <td>...</td>\n",
       "      <td>C1-1</td>\n",
       "      <td>R6</td>\n",
       "      <td>NaN</td>\n",
       "      <td>NaN</td>\n",
       "      <td>NaN</td>\n",
       "      <td>N</td>\n",
       "      <td>4608</td>\n",
       "      <td>2004-01-20</td>\n",
       "      <td>1.0</td>\n",
       "      <td>-0.642209</td>\n",
       "    </tr>\n",
       "    <tr>\n",
       "      <th>4257</th>\n",
       "      <td>116329</td>\n",
       "      <td>BROOKLYN</td>\n",
       "      <td>1-2-3 FAMILY</td>\n",
       "      <td>N</td>\n",
       "      <td>RA</td>\n",
       "      <td>Y</td>\n",
       "      <td>2000-06-16</td>\n",
       "      <td>2000-08-29</td>\n",
       "      <td>942.69</td>\n",
       "      <td>0</td>\n",
       "      <td>...</td>\n",
       "      <td>R6</td>\n",
       "      <td>NaN</td>\n",
       "      <td>NaN</td>\n",
       "      <td>NaN</td>\n",
       "      <td>NaN</td>\n",
       "      <td>N</td>\n",
       "      <td>3368</td>\n",
       "      <td>2005-07-28</td>\n",
       "      <td>74.0</td>\n",
       "      <td>-0.357126</td>\n",
       "    </tr>\n",
       "    <tr>\n",
       "      <th>4258</th>\n",
       "      <td>54365</td>\n",
       "      <td>BROOKLYN</td>\n",
       "      <td>1-2-3 FAMILY</td>\n",
       "      <td>N</td>\n",
       "      <td>PE</td>\n",
       "      <td>N</td>\n",
       "      <td>2005-01-31</td>\n",
       "      <td>2006-10-19</td>\n",
       "      <td>471.92</td>\n",
       "      <td>0</td>\n",
       "      <td>...</td>\n",
       "      <td>R4</td>\n",
       "      <td>NaN</td>\n",
       "      <td>NaN</td>\n",
       "      <td>NaN</td>\n",
       "      <td>NaN</td>\n",
       "      <td>N</td>\n",
       "      <td>2940</td>\n",
       "      <td>NaN</td>\n",
       "      <td>626.0</td>\n",
       "      <td>1.798572</td>\n",
       "    </tr>\n",
       "    <tr>\n",
       "      <th>4259</th>\n",
       "      <td>108656</td>\n",
       "      <td>BROOKLYN</td>\n",
       "      <td>1-2-3 FAMILY</td>\n",
       "      <td>N</td>\n",
       "      <td>RA</td>\n",
       "      <td>Y</td>\n",
       "      <td>2001-02-08</td>\n",
       "      <td>2001-03-19</td>\n",
       "      <td>354.41</td>\n",
       "      <td>0</td>\n",
       "      <td>...</td>\n",
       "      <td>R6</td>\n",
       "      <td>NaN</td>\n",
       "      <td>NaN</td>\n",
       "      <td>NaN</td>\n",
       "      <td>NaN</td>\n",
       "      <td>N</td>\n",
       "      <td>2007</td>\n",
       "      <td>2002-02-07</td>\n",
       "      <td>39.0</td>\n",
       "      <td>-0.493810</td>\n",
       "    </tr>\n",
       "    <tr>\n",
       "      <th>4260</th>\n",
       "      <td>70637</td>\n",
       "      <td>BROOKLYN</td>\n",
       "      <td>1-2-3 FAMILY</td>\n",
       "      <td>Y</td>\n",
       "      <td>PE</td>\n",
       "      <td>N</td>\n",
       "      <td>2013-07-19</td>\n",
       "      <td>2013-12-23</td>\n",
       "      <td>786.44</td>\n",
       "      <td>2508</td>\n",
       "      <td>...</td>\n",
       "      <td>R4</td>\n",
       "      <td>NaN</td>\n",
       "      <td>NaN</td>\n",
       "      <td>NaN</td>\n",
       "      <td>NaN</td>\n",
       "      <td>N</td>\n",
       "      <td>3762</td>\n",
       "      <td>2016-08-11</td>\n",
       "      <td>157.0</td>\n",
       "      <td>-0.032990</td>\n",
       "    </tr>\n",
       "    <tr>\n",
       "      <th>4261</th>\n",
       "      <td>117481</td>\n",
       "      <td>BROOKLYN</td>\n",
       "      <td>OTHERS</td>\n",
       "      <td>N</td>\n",
       "      <td>PE</td>\n",
       "      <td>N</td>\n",
       "      <td>2003-12-03</td>\n",
       "      <td>2004-08-26</td>\n",
       "      <td>2044.75</td>\n",
       "      <td>0</td>\n",
       "      <td>...</td>\n",
       "      <td>R6</td>\n",
       "      <td>NaN</td>\n",
       "      <td>NaN</td>\n",
       "      <td>NaN</td>\n",
       "      <td>NaN</td>\n",
       "      <td>N</td>\n",
       "      <td>7500</td>\n",
       "      <td>2011-12-29</td>\n",
       "      <td>267.0</td>\n",
       "      <td>0.396587</td>\n",
       "    </tr>\n",
       "    <tr>\n",
       "      <th>4262</th>\n",
       "      <td>9321</td>\n",
       "      <td>BROOKLYN</td>\n",
       "      <td>OTHERS</td>\n",
       "      <td>Y</td>\n",
       "      <td>RA</td>\n",
       "      <td>N</td>\n",
       "      <td>2019-01-08</td>\n",
       "      <td>2019-04-10</td>\n",
       "      <td>2570.62</td>\n",
       "      <td>6995</td>\n",
       "      <td>...</td>\n",
       "      <td>R6B</td>\n",
       "      <td>NaN</td>\n",
       "      <td>NaN</td>\n",
       "      <td>NaN</td>\n",
       "      <td>NaN</td>\n",
       "      <td>N</td>\n",
       "      <td>9887</td>\n",
       "      <td>NaN</td>\n",
       "      <td>92.0</td>\n",
       "      <td>-0.286832</td>\n",
       "    </tr>\n",
       "    <tr>\n",
       "      <th>4263</th>\n",
       "      <td>51693</td>\n",
       "      <td>BROOKLYN</td>\n",
       "      <td>1-2-3 FAMILY</td>\n",
       "      <td>N</td>\n",
       "      <td>RA</td>\n",
       "      <td>N</td>\n",
       "      <td>2003-05-16</td>\n",
       "      <td>2004-04-27</td>\n",
       "      <td>490.08</td>\n",
       "      <td>0</td>\n",
       "      <td>...</td>\n",
       "      <td>R4</td>\n",
       "      <td>NaN</td>\n",
       "      <td>NaN</td>\n",
       "      <td>NaN</td>\n",
       "      <td>NaN</td>\n",
       "      <td>N</td>\n",
       "      <td>4214</td>\n",
       "      <td>NaN</td>\n",
       "      <td>347.0</td>\n",
       "      <td>0.709007</td>\n",
       "    </tr>\n",
       "    <tr>\n",
       "      <th>4264</th>\n",
       "      <td>48420</td>\n",
       "      <td>BROOKLYN</td>\n",
       "      <td>OTHERS</td>\n",
       "      <td>N</td>\n",
       "      <td>RA</td>\n",
       "      <td>N</td>\n",
       "      <td>2002-03-29</td>\n",
       "      <td>2002-09-13</td>\n",
       "      <td>2221.41</td>\n",
       "      <td>0</td>\n",
       "      <td>...</td>\n",
       "      <td>M2-1</td>\n",
       "      <td>NaN</td>\n",
       "      <td>NaN</td>\n",
       "      <td>NaN</td>\n",
       "      <td>NaN</td>\n",
       "      <td>Y</td>\n",
       "      <td>8192</td>\n",
       "      <td>2006-03-15</td>\n",
       "      <td>168.0</td>\n",
       "      <td>0.009967</td>\n",
       "    </tr>\n",
       "    <tr>\n",
       "      <th>4265</th>\n",
       "      <td>81016</td>\n",
       "      <td>BROOKLYN</td>\n",
       "      <td>1-2-3 FAMILY</td>\n",
       "      <td>Y</td>\n",
       "      <td>RA</td>\n",
       "      <td>N</td>\n",
       "      <td>2016-05-16</td>\n",
       "      <td>2016-11-01</td>\n",
       "      <td>800.48</td>\n",
       "      <td>6006</td>\n",
       "      <td>...</td>\n",
       "      <td>R5</td>\n",
       "      <td>NaN</td>\n",
       "      <td>NaN</td>\n",
       "      <td>NaN</td>\n",
       "      <td>NaN</td>\n",
       "      <td>N</td>\n",
       "      <td>4004</td>\n",
       "      <td>2018-07-19</td>\n",
       "      <td>169.0</td>\n",
       "      <td>0.013873</td>\n",
       "    </tr>\n",
       "    <tr>\n",
       "      <th>4266</th>\n",
       "      <td>75945</td>\n",
       "      <td>BROOKLYN</td>\n",
       "      <td>OTHERS</td>\n",
       "      <td>Y</td>\n",
       "      <td>RA</td>\n",
       "      <td>N</td>\n",
       "      <td>2014-12-26</td>\n",
       "      <td>2016-01-14</td>\n",
       "      <td>2891.56</td>\n",
       "      <td>8124</td>\n",
       "      <td>...</td>\n",
       "      <td>R6</td>\n",
       "      <td>NaN</td>\n",
       "      <td>NaN</td>\n",
       "      <td>NaN</td>\n",
       "      <td>NaN</td>\n",
       "      <td>N</td>\n",
       "      <td>10506</td>\n",
       "      <td>NaN</td>\n",
       "      <td>384.0</td>\n",
       "      <td>0.853501</td>\n",
       "    </tr>\n",
       "    <tr>\n",
       "      <th>4267</th>\n",
       "      <td>39419</td>\n",
       "      <td>BROOKLYN</td>\n",
       "      <td>1-2-3 FAMILY</td>\n",
       "      <td>Y</td>\n",
       "      <td>RA</td>\n",
       "      <td>N</td>\n",
       "      <td>2008-12-17</td>\n",
       "      <td>2009-09-08</td>\n",
       "      <td>975.20</td>\n",
       "      <td>4200</td>\n",
       "      <td>...</td>\n",
       "      <td>R4</td>\n",
       "      <td>NaN</td>\n",
       "      <td>NaN</td>\n",
       "      <td>NaN</td>\n",
       "      <td>NaN</td>\n",
       "      <td>N</td>\n",
       "      <td>6035</td>\n",
       "      <td>2011-12-13</td>\n",
       "      <td>265.0</td>\n",
       "      <td>0.388777</td>\n",
       "    </tr>\n",
       "    <tr>\n",
       "      <th>4268</th>\n",
       "      <td>101493</td>\n",
       "      <td>BROOKLYN</td>\n",
       "      <td>1-2-3 FAMILY</td>\n",
       "      <td>N</td>\n",
       "      <td>PE</td>\n",
       "      <td>N</td>\n",
       "      <td>2004-01-22</td>\n",
       "      <td>2004-04-13</td>\n",
       "      <td>100.00</td>\n",
       "      <td>0</td>\n",
       "      <td>...</td>\n",
       "      <td>R3-1</td>\n",
       "      <td>NaN</td>\n",
       "      <td>NaN</td>\n",
       "      <td>NaN</td>\n",
       "      <td>NaN</td>\n",
       "      <td>N</td>\n",
       "      <td>400</td>\n",
       "      <td>2005-06-10</td>\n",
       "      <td>82.0</td>\n",
       "      <td>-0.325884</td>\n",
       "    </tr>\n",
       "    <tr>\n",
       "      <th>4269</th>\n",
       "      <td>107595</td>\n",
       "      <td>BROOKLYN</td>\n",
       "      <td>1-2-3 FAMILY</td>\n",
       "      <td>N</td>\n",
       "      <td>RA</td>\n",
       "      <td>Y</td>\n",
       "      <td>2000-10-31</td>\n",
       "      <td>2001-10-18</td>\n",
       "      <td>315.05</td>\n",
       "      <td>0</td>\n",
       "      <td>...</td>\n",
       "      <td>R6</td>\n",
       "      <td>NaN</td>\n",
       "      <td>NaN</td>\n",
       "      <td>NaN</td>\n",
       "      <td>NaN</td>\n",
       "      <td>N</td>\n",
       "      <td>2709</td>\n",
       "      <td>2007-01-05</td>\n",
       "      <td>352.0</td>\n",
       "      <td>0.728533</td>\n",
       "    </tr>\n",
       "    <tr>\n",
       "      <th>4270</th>\n",
       "      <td>63989</td>\n",
       "      <td>BROOKLYN</td>\n",
       "      <td>1-2-3 FAMILY</td>\n",
       "      <td>N</td>\n",
       "      <td>RA</td>\n",
       "      <td>Y</td>\n",
       "      <td>2002-12-19</td>\n",
       "      <td>2002-12-20</td>\n",
       "      <td>593.85</td>\n",
       "      <td>0</td>\n",
       "      <td>...</td>\n",
       "      <td>R6</td>\n",
       "      <td>NaN</td>\n",
       "      <td>NaN</td>\n",
       "      <td>NaN</td>\n",
       "      <td>NaN</td>\n",
       "      <td>N</td>\n",
       "      <td>4040</td>\n",
       "      <td>2005-09-09</td>\n",
       "      <td>1.0</td>\n",
       "      <td>-0.642209</td>\n",
       "    </tr>\n",
       "    <tr>\n",
       "      <th>4271</th>\n",
       "      <td>81730</td>\n",
       "      <td>BROOKLYN</td>\n",
       "      <td>OTHERS</td>\n",
       "      <td>Y</td>\n",
       "      <td>RA</td>\n",
       "      <td>N</td>\n",
       "      <td>2016-08-11</td>\n",
       "      <td>2017-08-03</td>\n",
       "      <td>7944.66</td>\n",
       "      <td>21992</td>\n",
       "      <td>...</td>\n",
       "      <td>R7A</td>\n",
       "      <td>NaN</td>\n",
       "      <td>NaN</td>\n",
       "      <td>NaN</td>\n",
       "      <td>NaN</td>\n",
       "      <td>N</td>\n",
       "      <td>29941</td>\n",
       "      <td>NaN</td>\n",
       "      <td>357.0</td>\n",
       "      <td>0.748060</td>\n",
       "    </tr>\n",
       "    <tr>\n",
       "      <th>4272</th>\n",
       "      <td>96440</td>\n",
       "      <td>BROOKLYN</td>\n",
       "      <td>1-2-3 FAMILY</td>\n",
       "      <td>N</td>\n",
       "      <td>RA</td>\n",
       "      <td>N</td>\n",
       "      <td>2003-10-28</td>\n",
       "      <td>2004-02-27</td>\n",
       "      <td>1189.00</td>\n",
       "      <td>0</td>\n",
       "      <td>...</td>\n",
       "      <td>R2X</td>\n",
       "      <td>NaN</td>\n",
       "      <td>NaN</td>\n",
       "      <td>OP</td>\n",
       "      <td>NaN</td>\n",
       "      <td>N</td>\n",
       "      <td>7988</td>\n",
       "      <td>2011-07-12</td>\n",
       "      <td>122.0</td>\n",
       "      <td>-0.169674</td>\n",
       "    </tr>\n",
       "    <tr>\n",
       "      <th>4273</th>\n",
       "      <td>82177</td>\n",
       "      <td>BROOKLYN</td>\n",
       "      <td>1-2-3 FAMILY</td>\n",
       "      <td>Y</td>\n",
       "      <td>RA</td>\n",
       "      <td>N</td>\n",
       "      <td>2016-09-30</td>\n",
       "      <td>2016-12-16</td>\n",
       "      <td>918.32</td>\n",
       "      <td>3740</td>\n",
       "      <td>...</td>\n",
       "      <td>R5</td>\n",
       "      <td>NaN</td>\n",
       "      <td>NaN</td>\n",
       "      <td>NaN</td>\n",
       "      <td>NaN</td>\n",
       "      <td>N</td>\n",
       "      <td>4986</td>\n",
       "      <td>2017-12-13</td>\n",
       "      <td>77.0</td>\n",
       "      <td>-0.345410</td>\n",
       "    </tr>\n",
       "    <tr>\n",
       "      <th>4274</th>\n",
       "      <td>102203</td>\n",
       "      <td>BROOKLYN</td>\n",
       "      <td>1-2-3 FAMILY</td>\n",
       "      <td>N</td>\n",
       "      <td>RA</td>\n",
       "      <td>Y</td>\n",
       "      <td>2004-12-14</td>\n",
       "      <td>2004-12-16</td>\n",
       "      <td>355.52</td>\n",
       "      <td>0</td>\n",
       "      <td>...</td>\n",
       "      <td>R6</td>\n",
       "      <td>NaN</td>\n",
       "      <td>NaN</td>\n",
       "      <td>NaN</td>\n",
       "      <td>NaN</td>\n",
       "      <td>N</td>\n",
       "      <td>3057</td>\n",
       "      <td>2008-12-08</td>\n",
       "      <td>2.0</td>\n",
       "      <td>-0.638304</td>\n",
       "    </tr>\n",
       "    <tr>\n",
       "      <th>4275</th>\n",
       "      <td>79323</td>\n",
       "      <td>BROOKLYN</td>\n",
       "      <td>OTHERS</td>\n",
       "      <td>Y</td>\n",
       "      <td>RA</td>\n",
       "      <td>N</td>\n",
       "      <td>2015-11-09</td>\n",
       "      <td>2016-06-24</td>\n",
       "      <td>1589.22</td>\n",
       "      <td>5497</td>\n",
       "      <td>...</td>\n",
       "      <td>R6</td>\n",
       "      <td>NaN</td>\n",
       "      <td>NaN</td>\n",
       "      <td>NaN</td>\n",
       "      <td>NaN</td>\n",
       "      <td>Y</td>\n",
       "      <td>5497</td>\n",
       "      <td>NaN</td>\n",
       "      <td>228.0</td>\n",
       "      <td>0.244282</td>\n",
       "    </tr>\n",
       "    <tr>\n",
       "      <th>4276</th>\n",
       "      <td>72337</td>\n",
       "      <td>BROOKLYN</td>\n",
       "      <td>1-2-3 FAMILY</td>\n",
       "      <td>N</td>\n",
       "      <td>RA</td>\n",
       "      <td>Y</td>\n",
       "      <td>2003-06-03</td>\n",
       "      <td>2003-07-08</td>\n",
       "      <td>452.03</td>\n",
       "      <td>0</td>\n",
       "      <td>...</td>\n",
       "      <td>R7-1</td>\n",
       "      <td>NaN</td>\n",
       "      <td>NaN</td>\n",
       "      <td>NaN</td>\n",
       "      <td>NaN</td>\n",
       "      <td>N</td>\n",
       "      <td>2898</td>\n",
       "      <td>2008-01-03</td>\n",
       "      <td>35.0</td>\n",
       "      <td>-0.509431</td>\n",
       "    </tr>\n",
       "    <tr>\n",
       "      <th>4277</th>\n",
       "      <td>51487</td>\n",
       "      <td>BROOKLYN</td>\n",
       "      <td>OTHERS</td>\n",
       "      <td>N</td>\n",
       "      <td>RA</td>\n",
       "      <td>N</td>\n",
       "      <td>2003-02-24</td>\n",
       "      <td>2004-01-15</td>\n",
       "      <td>2341.66</td>\n",
       "      <td>0</td>\n",
       "      <td>...</td>\n",
       "      <td>C1-3</td>\n",
       "      <td>R6</td>\n",
       "      <td>NaN</td>\n",
       "      <td>NaN</td>\n",
       "      <td>NaN</td>\n",
       "      <td>N</td>\n",
       "      <td>8663</td>\n",
       "      <td>2004-09-30</td>\n",
       "      <td>325.0</td>\n",
       "      <td>0.623092</td>\n",
       "    </tr>\n",
       "    <tr>\n",
       "      <th>4278</th>\n",
       "      <td>10920</td>\n",
       "      <td>BROOKLYN</td>\n",
       "      <td>OTHERS</td>\n",
       "      <td>Y</td>\n",
       "      <td>PE</td>\n",
       "      <td>N</td>\n",
       "      <td>2013-01-24</td>\n",
       "      <td>2016-08-23</td>\n",
       "      <td>9129.74</td>\n",
       "      <td>27646</td>\n",
       "      <td>...</td>\n",
       "      <td>R6</td>\n",
       "      <td>NaN</td>\n",
       "      <td>NaN</td>\n",
       "      <td>NaN</td>\n",
       "      <td>NaN</td>\n",
       "      <td>N</td>\n",
       "      <td>34499</td>\n",
       "      <td>NaN</td>\n",
       "      <td>1307.0</td>\n",
       "      <td>4.458047</td>\n",
       "    </tr>\n",
       "  </tbody>\n",
       "</table>\n",
       "<p>4279 rows × 24 columns</p>\n",
       "</div>"
      ],
      "text/plain": [
       "      Unnamed: 0   Borough Building Type Efiling Filed  \\\n",
       "0         117316  BROOKLYN  1-2-3 FAMILY             N   \n",
       "1         111671  BROOKLYN        OTHERS             Y   \n",
       "2         111239  BROOKLYN        OTHERS             Y   \n",
       "3         117029  BROOKLYN  1-2-3 FAMILY             N   \n",
       "4          57566  BROOKLYN        OTHERS             Y   \n",
       "5          52318  BROOKLYN        OTHERS             N   \n",
       "6          50962  BROOKLYN  1-2-3 FAMILY             N   \n",
       "7         112407  BROOKLYN        OTHERS             Y   \n",
       "8          55285  BROOKLYN  1-2-3 FAMILY             N   \n",
       "9         109401  BROOKLYN  1-2-3 FAMILY             N   \n",
       "10         62184  BROOKLYN        OTHERS             Y   \n",
       "11         74982  BROOKLYN        OTHERS             Y   \n",
       "12         52068  BROOKLYN  1-2-3 FAMILY             N   \n",
       "13        111789  BROOKLYN  1-2-3 FAMILY             N   \n",
       "14           160  BROOKLYN        OTHERS             Y   \n",
       "15         49563  BROOKLYN  1-2-3 FAMILY             N   \n",
       "16         66145  BROOKLYN  1-2-3 FAMILY             N   \n",
       "17         70335  BROOKLYN  1-2-3 FAMILY             Y   \n",
       "18        111130  BROOKLYN  1-2-3 FAMILY             Y   \n",
       "19         53359  BROOKLYN  1-2-3 FAMILY             N   \n",
       "20         70147  BROOKLYN  1-2-3 FAMILY             Y   \n",
       "21          4987  BROOKLYN  1-2-3 FAMILY             Y   \n",
       "22         14862  BROOKLYN        OTHERS             Y   \n",
       "23         67657  BROOKLYN        OTHERS             Y   \n",
       "24         38955  BROOKLYN  1-2-3 FAMILY             Y   \n",
       "25         88548  BROOKLYN        OTHERS             Y   \n",
       "26         53477  BROOKLYN        OTHERS             N   \n",
       "27          1068  BROOKLYN  1-2-3 FAMILY             Y   \n",
       "28        111858  BROOKLYN        OTHERS             Y   \n",
       "29        109120  BROOKLYN  1-2-3 FAMILY             N   \n",
       "...          ...       ...           ...           ...   \n",
       "4249       53834  BROOKLYN        OTHERS             N   \n",
       "4250       41125  BROOKLYN  1-2-3 FAMILY             Y   \n",
       "4251      107785  BROOKLYN  1-2-3 FAMILY             Y   \n",
       "4252      101681  BROOKLYN  1-2-3 FAMILY             N   \n",
       "4253      118339  BROOKLYN  1-2-3 FAMILY             N   \n",
       "4254      103864  BROOKLYN        OTHERS             Y   \n",
       "4255       69946  BROOKLYN        OTHERS             Y   \n",
       "4256      116970  BROOKLYN  1-2-3 FAMILY             N   \n",
       "4257      116329  BROOKLYN  1-2-3 FAMILY             N   \n",
       "4258       54365  BROOKLYN  1-2-3 FAMILY             N   \n",
       "4259      108656  BROOKLYN  1-2-3 FAMILY             N   \n",
       "4260       70637  BROOKLYN  1-2-3 FAMILY             Y   \n",
       "4261      117481  BROOKLYN        OTHERS             N   \n",
       "4262        9321  BROOKLYN        OTHERS             Y   \n",
       "4263       51693  BROOKLYN  1-2-3 FAMILY             N   \n",
       "4264       48420  BROOKLYN        OTHERS             N   \n",
       "4265       81016  BROOKLYN  1-2-3 FAMILY             Y   \n",
       "4266       75945  BROOKLYN        OTHERS             Y   \n",
       "4267       39419  BROOKLYN  1-2-3 FAMILY             Y   \n",
       "4268      101493  BROOKLYN  1-2-3 FAMILY             N   \n",
       "4269      107595  BROOKLYN  1-2-3 FAMILY             N   \n",
       "4270       63989  BROOKLYN  1-2-3 FAMILY             N   \n",
       "4271       81730  BROOKLYN        OTHERS             Y   \n",
       "4272       96440  BROOKLYN  1-2-3 FAMILY             N   \n",
       "4273       82177  BROOKLYN  1-2-3 FAMILY             Y   \n",
       "4274      102203  BROOKLYN  1-2-3 FAMILY             N   \n",
       "4275       79323  BROOKLYN        OTHERS             Y   \n",
       "4276       72337  BROOKLYN  1-2-3 FAMILY             N   \n",
       "4277       51487  BROOKLYN        OTHERS             N   \n",
       "4278       10920  BROOKLYN        OTHERS             Y   \n",
       "\n",
       "     Applicant Professional Title Professional Cert  Fully Paid    Approved  \\\n",
       "0                              PE                 N  2003-07-18  2004-01-21   \n",
       "1                              PE                 N  2017-02-22  2018-01-17   \n",
       "2                              PE                 N  2016-07-26  2017-02-02   \n",
       "3                              PE                 N  2002-12-09  2003-01-07   \n",
       "4                              RA                 N  2016-07-07  2017-08-16   \n",
       "5                              RA                 N  2003-08-14  2004-05-21   \n",
       "6                              RA                 N  2002-11-07  2003-02-03   \n",
       "7                              RA                 N  2017-10-28  2018-05-18   \n",
       "8                              PE                 N  2005-10-20  2006-03-21   \n",
       "9                              RA                 N  2005-08-19  2005-11-04   \n",
       "10                             RA                 N  2008-06-26  2008-11-21   \n",
       "11                             RA                 N  2014-10-08  2015-08-03   \n",
       "12                             PE                 N  2003-07-28  2003-09-10   \n",
       "13                             PE                 Y  2001-06-19  2001-06-22   \n",
       "14                             RA                 N  2018-09-05  2019-02-25   \n",
       "15                             RA                 Y  2001-09-18  2001-09-21   \n",
       "16                             RA                 N  2002-11-08  2003-07-08   \n",
       "17                             RA                 N  2013-06-18  2014-01-10   \n",
       "18                             RA                 N  2016-05-17  2016-07-29   \n",
       "19                             RA                 N  2004-07-21  2004-09-20   \n",
       "20                             RA                 N  2013-05-28  2013-11-12   \n",
       "21                             PE                 N  2015-11-18  2016-02-19   \n",
       "22                             RA                 N  2017-06-13  2018-01-23   \n",
       "23                             RA                 N  2012-08-10  2013-02-12   \n",
       "24                             RA                 N  2008-09-22  2008-12-17   \n",
       "25                             PE                 N  2016-03-03  2016-11-23   \n",
       "26                             RA                 N  2004-08-03  2005-12-16   \n",
       "27                             RA                 N  2016-10-12  2016-12-01   \n",
       "28                             RA                 N  2017-05-03  2018-07-26   \n",
       "29                             RA                 Y  2001-02-15  2001-02-16   \n",
       "...                           ...               ...         ...         ...   \n",
       "4249                           RA                 N  2004-11-03  2005-08-24   \n",
       "4250                           RA                 N  2009-06-23  2011-06-10   \n",
       "4251                           RA                 N  2013-05-21  2014-02-21   \n",
       "4252                           RA                 N  2000-03-03  2001-05-08   \n",
       "4253                           PE                 N  2005-08-31  2005-11-23   \n",
       "4254                           RA                 N  2008-04-26  2010-05-25   \n",
       "4255                           RA                 N  2013-05-15  2013-10-23   \n",
       "4256                           RA                 Y  2002-10-21  2002-10-22   \n",
       "4257                           RA                 Y  2000-06-16  2000-08-29   \n",
       "4258                           PE                 N  2005-01-31  2006-10-19   \n",
       "4259                           RA                 Y  2001-02-08  2001-03-19   \n",
       "4260                           PE                 N  2013-07-19  2013-12-23   \n",
       "4261                           PE                 N  2003-12-03  2004-08-26   \n",
       "4262                           RA                 N  2019-01-08  2019-04-10   \n",
       "4263                           RA                 N  2003-05-16  2004-04-27   \n",
       "4264                           RA                 N  2002-03-29  2002-09-13   \n",
       "4265                           RA                 N  2016-05-16  2016-11-01   \n",
       "4266                           RA                 N  2014-12-26  2016-01-14   \n",
       "4267                           RA                 N  2008-12-17  2009-09-08   \n",
       "4268                           PE                 N  2004-01-22  2004-04-13   \n",
       "4269                           RA                 Y  2000-10-31  2001-10-18   \n",
       "4270                           RA                 Y  2002-12-19  2002-12-20   \n",
       "4271                           RA                 N  2016-08-11  2017-08-03   \n",
       "4272                           RA                 N  2003-10-28  2004-02-27   \n",
       "4273                           RA                 N  2016-09-30  2016-12-16   \n",
       "4274                           RA                 Y  2004-12-14  2004-12-16   \n",
       "4275                           RA                 N  2015-11-09  2016-06-24   \n",
       "4276                           RA                 Y  2003-06-03  2003-07-08   \n",
       "4277                           RA                 N  2003-02-24  2004-01-15   \n",
       "4278                           PE                 N  2013-01-24  2016-08-23   \n",
       "\n",
       "      Total Est. Fee  Proposed Zoning Sqft    ...     Zoning Dist1  \\\n",
       "0             659.02                     0    ...               R5   \n",
       "1            3523.62                  8350    ...               R6   \n",
       "2            1587.92                  5492    ...               R6   \n",
       "3             653.35                     0    ...               R6   \n",
       "4            1858.58                  4988    ...              R6B   \n",
       "5            6808.90                     0    ...             C2-4   \n",
       "6             485.80                     0    ...             R3-2   \n",
       "7            1924.00                  4997    ...              R6B   \n",
       "8             391.41                     0    ...             R3-2   \n",
       "9             738.27                     0    ...               R6   \n",
       "10          16613.00                 49812    ...               R6   \n",
       "11           5664.46                 15306    ...              R7A   \n",
       "12            818.24                     0    ...               R6   \n",
       "13            603.66                     0    ...               R6   \n",
       "14          18474.75                 35322    ...               R6   \n",
       "15            675.65                     0    ...               R5   \n",
       "16           1002.48                     0    ...              R2X   \n",
       "17            463.20                  4456    ...               R6   \n",
       "18            295.20                  2460    ...               R6   \n",
       "19            754.85                     0    ...             R3-1   \n",
       "20            674.36                  2401    ...             R4-1   \n",
       "21            405.00                   190    ...               R5   \n",
       "22           1913.70                  4983    ...         M1-2/R6B   \n",
       "23           2110.00                  5917    ...              R6A   \n",
       "24            100.00                   462    ...               R2   \n",
       "25           2556.58                  6566    ...               R5   \n",
       "26           2243.11                     0    ...               R5   \n",
       "27            438.40                  2320    ...             R4-1   \n",
       "28           2024.98                  5188    ...               R6   \n",
       "29            385.09                     0    ...               R6   \n",
       "...              ...                   ...    ...              ...   \n",
       "4249         2982.97                     0    ...               R6   \n",
       "4250          429.88                  2499    ...               R6   \n",
       "4251          196.56                  1638    ...               R6   \n",
       "4252          331.33                     0    ...             C6-1   \n",
       "4253          723.61                     0    ...               R5   \n",
       "4254         2429.99                  9009    ...               R6   \n",
       "4255        11007.20                 34827    ...          M1-2/R6   \n",
       "4256          665.91                     0    ...             C1-1   \n",
       "4257          942.69                     0    ...               R6   \n",
       "4258          471.92                     0    ...               R4   \n",
       "4259          354.41                     0    ...               R6   \n",
       "4260          786.44                  2508    ...               R4   \n",
       "4261         2044.75                     0    ...               R6   \n",
       "4262         2570.62                  6995    ...              R6B   \n",
       "4263          490.08                     0    ...               R4   \n",
       "4264         2221.41                     0    ...             M2-1   \n",
       "4265          800.48                  6006    ...               R5   \n",
       "4266         2891.56                  8124    ...               R6   \n",
       "4267          975.20                  4200    ...               R4   \n",
       "4268          100.00                     0    ...             R3-1   \n",
       "4269          315.05                     0    ...               R6   \n",
       "4270          593.85                     0    ...               R6   \n",
       "4271         7944.66                 21992    ...              R7A   \n",
       "4272         1189.00                     0    ...              R2X   \n",
       "4273          918.32                  3740    ...               R5   \n",
       "4274          355.52                     0    ...               R6   \n",
       "4275         1589.22                  5497    ...               R6   \n",
       "4276          452.03                     0    ...             R7-1   \n",
       "4277         2341.66                     0    ...             C1-3   \n",
       "4278         9129.74                 27646    ...               R6   \n",
       "\n",
       "      Zoning Dist2  Zoning Dist3 Special District 1 Special District 2  \\\n",
       "0              NaN           NaN                NaN                NaN   \n",
       "1              NaN           NaN                NaN                NaN   \n",
       "2              NaN           NaN                NaN                NaN   \n",
       "3              NaN           NaN                NaN                NaN   \n",
       "4              NaN           NaN                NaN                NaN   \n",
       "5              R6A           R6B                NaN                NaN   \n",
       "6              NaN           NaN                NaN                NaN   \n",
       "7              NaN           NaN                NaN                NaN   \n",
       "8              NaN           NaN                NaN                NaN   \n",
       "9              NaN           NaN                NaN                NaN   \n",
       "10             NaN           NaN                NaN                NaN   \n",
       "11             NaN           NaN                NaN                NaN   \n",
       "12             NaN           NaN                NaN                NaN   \n",
       "13             NaN           NaN                NaN                NaN   \n",
       "14             NaN           NaN                NaN                NaN   \n",
       "15             NaN           NaN                NaN                NaN   \n",
       "16             NaN           NaN                NaN                NaN   \n",
       "17             NaN           NaN                NaN                NaN   \n",
       "18             NaN           NaN                NaN                NaN   \n",
       "19             NaN           NaN                NaN                NaN   \n",
       "20             NaN           NaN                NaN                NaN   \n",
       "21             NaN           NaN                NaN                NaN   \n",
       "22             NaN           NaN               MX-8                 GW   \n",
       "23             NaN           NaN                NaN                NaN   \n",
       "24            R3-2           NaN                NaN                NaN   \n",
       "25             NaN           NaN                NaN                NaN   \n",
       "26             NaN           NaN                NaN                NaN   \n",
       "27             NaN           NaN                NaN                NaN   \n",
       "28             NaN           NaN                NaN                NaN   \n",
       "29             NaN           NaN                NaN                NaN   \n",
       "...            ...           ...                ...                ...   \n",
       "4249           NaN           NaN                NaN                NaN   \n",
       "4250           NaN           NaN                NaN                NaN   \n",
       "4251           NaN           NaN                NaN                NaN   \n",
       "4252           NaN           NaN                NaN                NaN   \n",
       "4253           NaN           NaN                NaN                NaN   \n",
       "4254           NaN           NaN                NaN                NaN   \n",
       "4255           NaN           NaN               MX-8                 GW   \n",
       "4256            R6           NaN                NaN                NaN   \n",
       "4257           NaN           NaN                NaN                NaN   \n",
       "4258           NaN           NaN                NaN                NaN   \n",
       "4259           NaN           NaN                NaN                NaN   \n",
       "4260           NaN           NaN                NaN                NaN   \n",
       "4261           NaN           NaN                NaN                NaN   \n",
       "4262           NaN           NaN                NaN                NaN   \n",
       "4263           NaN           NaN                NaN                NaN   \n",
       "4264           NaN           NaN                NaN                NaN   \n",
       "4265           NaN           NaN                NaN                NaN   \n",
       "4266           NaN           NaN                NaN                NaN   \n",
       "4267           NaN           NaN                NaN                NaN   \n",
       "4268           NaN           NaN                NaN                NaN   \n",
       "4269           NaN           NaN                NaN                NaN   \n",
       "4270           NaN           NaN                NaN                NaN   \n",
       "4271           NaN           NaN                NaN                NaN   \n",
       "4272           NaN           NaN                 OP                NaN   \n",
       "4273           NaN           NaN                NaN                NaN   \n",
       "4274           NaN           NaN                NaN                NaN   \n",
       "4275           NaN           NaN                NaN                NaN   \n",
       "4276           NaN           NaN                NaN                NaN   \n",
       "4277            R6           NaN                NaN                NaN   \n",
       "4278           NaN           NaN                NaN                NaN   \n",
       "\n",
       "     Non-Profit Total_Construction_Floor_Area Signoff_Date Duration   Z_score  \n",
       "0             N                          3431          NaN    187.0  0.084167  \n",
       "1             N                         11624          NaN    329.0  0.638713  \n",
       "2             N                          5492          NaN    191.0  0.099788  \n",
       "3             N                          4500   2004-02-26     29.0 -0.532862  \n",
       "4             N                          6533          NaN    405.0  0.935512  \n",
       "5             N                         25926   2008-02-14    281.0  0.451261  \n",
       "6             N                          3111   2004-06-18     88.0 -0.302453  \n",
       "7             N                          7400          NaN    202.0  0.142746  \n",
       "8             N                          1130   2015-12-23    152.0 -0.052517  \n",
       "9             N                          4164   2007-02-13     77.0 -0.345410  \n",
       "10            N                         62550   2015-10-23    148.0 -0.068138  \n",
       "11            N                         21171          NaN    299.0  0.521555  \n",
       "12            N                          4800   2006-12-07     44.0 -0.474284  \n",
       "13            N                          2955   2003-03-25      3.0 -0.634399  \n",
       "14            N                         41055          NaN    173.0  0.029494  \n",
       "15            N                          3574   2003-01-08      3.0 -0.634399  \n",
       "16            N                          7502          NaN    242.0  0.298956  \n",
       "17            N                          3860          NaN    206.0  0.158367  \n",
       "18            N                          2460   2019-01-17     73.0 -0.361031  \n",
       "19            N                          4255   2007-12-13     61.0 -0.407894  \n",
       "20            N                          3138   2015-04-10    168.0  0.009967  \n",
       "21            N                           190          NaN     93.0 -0.282926  \n",
       "22            N                          6745          NaN    224.0  0.228661  \n",
       "23            N                          7500   2016-08-17    186.0  0.080262  \n",
       "24            N                           462   2010-06-09     86.0 -0.310263  \n",
       "25            N                          8533          NaN    265.0  0.388777  \n",
       "26            N                          8277          NaN    500.0  1.306510  \n",
       "27            N                          2320   2018-11-20     50.0 -0.450852  \n",
       "28            N                          7173          NaN    449.0  1.107343  \n",
       "29            N                          2245   2003-07-22      1.0 -0.642209  \n",
       "...         ...                           ...          ...      ...       ...  \n",
       "4249          N                         11175   2009-07-13    294.0  0.502029  \n",
       "4250          N                          2499   2013-08-07    717.0  2.153950  \n",
       "4251          Y                          1638   2017-05-15    276.0  0.431734  \n",
       "4252          N                          2849   2004-09-07    431.0  1.037048  \n",
       "4253          N                          6222   2008-08-04     84.0 -0.318074  \n",
       "4254          Y                          9009   2012-06-14    759.0  2.317970  \n",
       "4255          N                         41720   2016-02-05    161.0 -0.017369  \n",
       "4256          N                          4608   2004-01-20      1.0 -0.642209  \n",
       "4257          N                          3368   2005-07-28     74.0 -0.357126  \n",
       "4258          N                          2940          NaN    626.0  1.798572  \n",
       "4259          N                          2007   2002-02-07     39.0 -0.493810  \n",
       "4260          N                          3762   2016-08-11    157.0 -0.032990  \n",
       "4261          N                          7500   2011-12-29    267.0  0.396587  \n",
       "4262          N                          9887          NaN     92.0 -0.286832  \n",
       "4263          N                          4214          NaN    347.0  0.709007  \n",
       "4264          Y                          8192   2006-03-15    168.0  0.009967  \n",
       "4265          N                          4004   2018-07-19    169.0  0.013873  \n",
       "4266          N                         10506          NaN    384.0  0.853501  \n",
       "4267          N                          6035   2011-12-13    265.0  0.388777  \n",
       "4268          N                           400   2005-06-10     82.0 -0.325884  \n",
       "4269          N                          2709   2007-01-05    352.0  0.728533  \n",
       "4270          N                          4040   2005-09-09      1.0 -0.642209  \n",
       "4271          N                         29941          NaN    357.0  0.748060  \n",
       "4272          N                          7988   2011-07-12    122.0 -0.169674  \n",
       "4273          N                          4986   2017-12-13     77.0 -0.345410  \n",
       "4274          N                          3057   2008-12-08      2.0 -0.638304  \n",
       "4275          Y                          5497          NaN    228.0  0.244282  \n",
       "4276          N                          2898   2008-01-03     35.0 -0.509431  \n",
       "4277          N                          8663   2004-09-30    325.0  0.623092  \n",
       "4278          N                         34499          NaN   1307.0  4.458047  \n",
       "\n",
       "[4279 rows x 24 columns]"
      ]
     },
     "execution_count": 431,
     "metadata": {},
     "output_type": "execute_result"
    }
   ],
   "source": [
    "brooklyn = pd.read_csv('BROOKLYN.CSV')\n",
    "brooklyn"
   ]
  },
  {
   "cell_type": "code",
   "execution_count": 432,
   "metadata": {},
   "outputs": [
    {
     "name": "stdout",
     "output_type": "stream",
     "text": [
      "CPU times: user 20.9 ms, sys: 3.7 ms, total: 24.6 ms\n",
      "Wall time: 25.7 ms\n"
     ]
    }
   ],
   "source": [
    "%%time\n",
    "piv = (brooklyn.pivot_table(index='Fully Paid', \n",
    "                            columns='Building Type',\n",
    "                            values=['Duration'],\n",
    "                            aggfunc='mean'\n",
    "                           )\n",
    "      )"
   ]
  },
  {
   "cell_type": "code",
   "execution_count": 433,
   "metadata": {},
   "outputs": [
    {
     "name": "stdout",
     "output_type": "stream",
     "text": [
      "CPU times: user 117 ms, sys: 3.95 ms, total: 121 ms\n",
      "Wall time: 121 ms\n"
     ]
    },
    {
     "data": {
      "image/png": "[encoded data removed]",
      "text/plain": [
       "<Figure size 432x288 with 2 Axes>"
      ]
     },
     "metadata": {
      "needs_background": "light"
     },
     "output_type": "display_data"
    }
   ],
   "source": [
    "%%time\n",
    "ax1, ax2 = (piv.plot(kind='hist', bins=30, \n",
    "                                       legend=False, subplots=True, sharey=True))\n",
    "plt.xlabel('Duration (days)')\n",
    "\n",
    "ax1.set_title('Duration - 1-3 family houses')\n",
    "\n",
    "ax2.set_title('Duration - Others')"
   ]
  },
  {
   "cell_type": "code",
   "execution_count": 434,
   "metadata": {},
   "outputs": [],
   "source": [
    "piv2 = (brooklyn.pivot_table(index='Approved', \n",
    "                            columns='Building Type',\n",
    "                            values=['Duration'],\n",
    "                            aggfunc='mean'\n",
    "                           )\n",
    "      )"
   ]
  },
  {
   "cell_type": "code",
   "execution_count": 435,
   "metadata": {},
   "outputs": [
    {
     "data": {
      "text/html": [
       "<div>\n",
       "<style scoped>\n",
       "    .dataframe tbody tr th:only-of-type {\n",
       "        vertical-align: middle;\n",
       "    }\n",
       "\n",
       "    .dataframe tbody tr th {\n",
       "        vertical-align: top;\n",
       "    }\n",
       "\n",
       "    .dataframe thead th {\n",
       "        text-align: right;\n",
       "    }\n",
       "</style>\n",
       "<table border=\"1\" class=\"dataframe\">\n",
       "  <thead>\n",
       "    <tr style=\"text-align: right;\">\n",
       "      <th></th>\n",
       "      <th>Zoning Dist1</th>\n",
       "      <th>Zoning Dist2</th>\n",
       "      <th>Zoning Dist3</th>\n",
       "      <th>Special District 1</th>\n",
       "      <th>Special District 2</th>\n",
       "      <th>Non-Profit</th>\n",
       "      <th>Total_Construction_Floor_Area</th>\n",
       "      <th>Signoff_Date</th>\n",
       "      <th>Duration</th>\n",
       "      <th>Z_score</th>\n",
       "    </tr>\n",
       "  </thead>\n",
       "  <tbody>\n",
       "    <tr>\n",
       "      <th>0</th>\n",
       "      <td>R5</td>\n",
       "      <td>NaN</td>\n",
       "      <td>NaN</td>\n",
       "      <td>NaN</td>\n",
       "      <td>NaN</td>\n",
       "      <td>N</td>\n",
       "      <td>3431</td>\n",
       "      <td>NaN</td>\n",
       "      <td>187.0</td>\n",
       "      <td>0.084167</td>\n",
       "    </tr>\n",
       "    <tr>\n",
       "      <th>1</th>\n",
       "      <td>R6</td>\n",
       "      <td>NaN</td>\n",
       "      <td>NaN</td>\n",
       "      <td>NaN</td>\n",
       "      <td>NaN</td>\n",
       "      <td>N</td>\n",
       "      <td>11624</td>\n",
       "      <td>NaN</td>\n",
       "      <td>329.0</td>\n",
       "      <td>0.638713</td>\n",
       "    </tr>\n",
       "    <tr>\n",
       "      <th>2</th>\n",
       "      <td>R6</td>\n",
       "      <td>NaN</td>\n",
       "      <td>NaN</td>\n",
       "      <td>NaN</td>\n",
       "      <td>NaN</td>\n",
       "      <td>N</td>\n",
       "      <td>5492</td>\n",
       "      <td>NaN</td>\n",
       "      <td>191.0</td>\n",
       "      <td>0.099788</td>\n",
       "    </tr>\n",
       "    <tr>\n",
       "      <th>3</th>\n",
       "      <td>R6</td>\n",
       "      <td>NaN</td>\n",
       "      <td>NaN</td>\n",
       "      <td>NaN</td>\n",
       "      <td>NaN</td>\n",
       "      <td>N</td>\n",
       "      <td>4500</td>\n",
       "      <td>2004-02-26</td>\n",
       "      <td>29.0</td>\n",
       "      <td>-0.532862</td>\n",
       "    </tr>\n",
       "    <tr>\n",
       "      <th>4</th>\n",
       "      <td>R6B</td>\n",
       "      <td>NaN</td>\n",
       "      <td>NaN</td>\n",
       "      <td>NaN</td>\n",
       "      <td>NaN</td>\n",
       "      <td>N</td>\n",
       "      <td>6533</td>\n",
       "      <td>NaN</td>\n",
       "      <td>405.0</td>\n",
       "      <td>0.935512</td>\n",
       "    </tr>\n",
       "  </tbody>\n",
       "</table>\n",
       "</div>"
      ],
      "text/plain": [
       "  Zoning Dist1 Zoning Dist2 Zoning Dist3 Special District 1  \\\n",
       "0           R5          NaN          NaN                NaN   \n",
       "1           R6          NaN          NaN                NaN   \n",
       "2           R6          NaN          NaN                NaN   \n",
       "3           R6          NaN          NaN                NaN   \n",
       "4          R6B          NaN          NaN                NaN   \n",
       "\n",
       "  Special District 2 Non-Profit  Total_Construction_Floor_Area Signoff_Date  \\\n",
       "0                NaN          N                           3431          NaN   \n",
       "1                NaN          N                          11624          NaN   \n",
       "2                NaN          N                           5492          NaN   \n",
       "3                NaN          N                           4500   2004-02-26   \n",
       "4                NaN          N                           6533          NaN   \n",
       "\n",
       "   Duration   Z_score  \n",
       "0     187.0  0.084167  \n",
       "1     329.0  0.638713  \n",
       "2     191.0  0.099788  \n",
       "3      29.0 -0.532862  \n",
       "4     405.0  0.935512  "
      ]
     },
     "execution_count": 435,
     "metadata": {},
     "output_type": "execute_result"
    }
   ],
   "source": [
    "brooklyn.iloc[:,-10:].head()"
   ]
  },
  {
   "cell_type": "code",
   "execution_count": 436,
   "metadata": {},
   "outputs": [
    {
     "ename": "NameError",
     "evalue": "name 'Brooklyn' is not defined",
     "output_type": "error",
     "traceback": [
      "\u001b[0;31m---------------------------------------------------------------------------\u001b[0m",
      "\u001b[0;31mNameError\u001b[0m                                 Traceback (most recent call last)",
      "\u001b[0;32m<ipython-input-436-485645680383>\u001b[0m in \u001b[0;36m<module>\u001b[0;34m()\u001b[0m\n\u001b[1;32m      2\u001b[0m \u001b[0;31m#     print(len(Brooklyn[zon].unique()))\u001b[0m\u001b[0;34m\u001b[0m\u001b[0;34m\u001b[0m\u001b[0m\n\u001b[1;32m      3\u001b[0m \u001b[0;34m\u001b[0m\u001b[0m\n\u001b[0;32m----> 4\u001b[0;31m (pd.concat([Brooklyn['Zoning Dist1'], \n\u001b[0m\u001b[1;32m      5\u001b[0m             Brooklyn['Zoning Dist2'], Brooklyn['Zoning Dist3']],ignore_index=True)).dropna()\n",
      "\u001b[0;31mNameError\u001b[0m: name 'Brooklyn' is not defined"
     ]
    }
   ],
   "source": [
    "# for zon in Brooklyn[['Zoning Dist1', 'Zoning Dist2', 'Zoning Dist3']].columns:\n",
    "#     print(len(Brooklyn[zon].unique()))\n",
    "\n",
    "(pd.concat([Brooklyn['Zoning Dist1'], \n",
    "            Brooklyn['Zoning Dist2'], Brooklyn['Zoning Dist3']],ignore_index=True)).dropna()"
   ]
  },
  {
   "cell_type": "code",
   "execution_count": null,
   "metadata": {},
   "outputs": [],
   "source": [
    "brooklyn.head(2)"
   ]
  },
  {
   "cell_type": "code",
   "execution_count": null,
   "metadata": {},
   "outputs": [],
   "source": [
    "pv2 = brooklyn.pivot_table(index='Fully Paid', \n",
    "                     columns='Non-Profit', \n",
    "                     values=['Duration'],\n",
    "                    aggfunc='mean'\n",
    "                    )"
   ]
  },
  {
   "cell_type": "code",
   "execution_count": null,
   "metadata": {},
   "outputs": [],
   "source": [
    "pv2[pv2['Duration']['Y'].notnull()].loc[:,('Duration','Y')].rolling(30).mean().plot()\n",
    "# plt.ylabel('Days')"
   ]
  },
  {
   "cell_type": "code",
   "execution_count": null,
   "metadata": {},
   "outputs": [],
   "source": [
    "brooklyn['Zoning Dist1'].value_counts(dropna=False)"
   ]
  },
  {
   "cell_type": "code",
   "execution_count": null,
   "metadata": {
    "scrolled": true
   },
   "outputs": [],
   "source": [
    "brooklyn.head()"
   ]
  },
  {
   "cell_type": "code",
   "execution_count": null,
   "metadata": {},
   "outputs": [],
   "source": [
    "def highlight_max(s):\n",
    "    '''\n",
    "    highlight the maximum in a Series yellow.\n",
    "    '''\n",
    "    is_max = s == s.max()\n",
    "    return ['background-color: yellow' if v else '' for v in is_max]"
   ]
  },
  {
   "cell_type": "code",
   "execution_count": null,
   "metadata": {},
   "outputs": [],
   "source": [
    "(brooklyn[['Total Est. Fee','Proposed Zoning Sqft','Proposed No. Of Stories']].\n",
    "style.apply(highlight_max))"
   ]
  },
  {
   "cell_type": "code",
   "execution_count": null,
   "metadata": {},
   "outputs": [],
   "source": [
    "melted = (brooklyn[['Zoning Dist1','Zoning Dist2','Zoning Dist3']].\n",
    "          melt(var_name='Zone', value_name='Code'))"
   ]
  },
  {
   "cell_type": "code",
   "execution_count": null,
   "metadata": {},
   "outputs": [],
   "source": [
    "melted.dropna()"
   ]
  },
  {
   "cell_type": "code",
   "execution_count": null,
   "metadata": {},
   "outputs": [],
   "source": [
    "dic = {}\n",
    "mel = melted['Code'].value_counts()\n",
    "for key, item in mel.items():\n",
    "    dic[key] = item"
   ]
  },
  {
   "cell_type": "code",
   "execution_count": null,
   "metadata": {},
   "outputs": [],
   "source": [
    "from collections import defaultdict\n",
    "dic1 = defaultdict(int)\n",
    "for k,v in dic.items():\n",
    "    if v < 100:\n",
    "        dic1['other'] += v\n",
    "    else:\n",
    "        dic1[k] = v"
   ]
  },
  {
   "cell_type": "code",
   "execution_count": null,
   "metadata": {},
   "outputs": [],
   "source": [
    "plt.bar(*zip(*dic1.items()))"
   ]
  },
  {
   "cell_type": "code",
   "execution_count": null,
   "metadata": {
    "scrolled": true
   },
   "outputs": [],
   "source": [
    "dic1.items()"
   ]
  },
  {
   "cell_type": "code",
   "execution_count": null,
   "metadata": {},
   "outputs": [],
   "source": []
  },
  {
   "cell_type": "code",
   "execution_count": null,
   "metadata": {},
   "outputs": [],
   "source": [
    "brooklyn.head(2)"
   ]
  },
  {
   "cell_type": "code",
   "execution_count": null,
   "metadata": {},
   "outputs": [],
   "source": [
    "small = brooklyn[['Building Type','Duration','Approved',\n",
    "           'Total Est. Fee','Total_Construction_Floor_Area']]\n",
    "\n",
    "small.head()"
   ]
  },
  {
   "cell_type": "code",
   "execution_count": null,
   "metadata": {},
   "outputs": [],
   "source": [
    "brooklyn.head(2)"
   ]
  },
  {
   "cell_type": "code",
   "execution_count": null,
   "metadata": {},
   "outputs": [],
   "source": [
    "data.head(2)"
   ]
  },
  {
   "cell_type": "code",
   "execution_count": null,
   "metadata": {},
   "outputs": [],
   "source": [
    "u = data.set_index(['Borough','Approved']).sort_index()\n",
    "u"
   ]
  },
  {
   "cell_type": "code",
   "execution_count": null,
   "metadata": {},
   "outputs": [],
   "source": [
    "x = data.groupby(['Borough','Approved']).mean().dropna().sort_index()\n",
    "x"
   ]
  },
  {
   "cell_type": "code",
   "execution_count": null,
   "metadata": {},
   "outputs": [],
   "source": [
    "xx = x['Duration'].unstack().dropna(axis=1)"
   ]
  },
  {
   "cell_type": "code",
   "execution_count": null,
   "metadata": {},
   "outputs": [],
   "source": [
    "xx"
   ]
  },
  {
   "cell_type": "code",
   "execution_count": null,
   "metadata": {},
   "outputs": [],
   "source": [
    "xx.T.plot()\n",
    "# plt.xlim(2006,2019)"
   ]
  },
  {
   "cell_type": "code",
   "execution_count": null,
   "metadata": {},
   "outputs": [],
   "source": [
    "data.head(2)"
   ]
  },
  {
   "cell_type": "code",
   "execution_count": null,
   "metadata": {},
   "outputs": [],
   "source": [
    "play = data.groupby(['Borough','Zoning Dist1']).mean()\n",
    "play"
   ]
  },
  {
   "cell_type": "code",
   "execution_count": null,
   "metadata": {},
   "outputs": [],
   "source": [
    "bytitle = play['Duration'].unstack()"
   ]
  },
  {
   "cell_type": "code",
   "execution_count": null,
   "metadata": {},
   "outputs": [],
   "source": [
    "bytitle = bytitle.dropna(how='all',axis=1)"
   ]
  },
  {
   "cell_type": "code",
   "execution_count": null,
   "metadata": {},
   "outputs": [],
   "source": [
    "bytitle"
   ]
  },
  {
   "cell_type": "code",
   "execution_count": null,
   "metadata": {},
   "outputs": [],
   "source": [
    "bytitle.boxplot()"
   ]
  },
  {
   "cell_type": "code",
   "execution_count": null,
   "metadata": {},
   "outputs": [],
   "source": [
    "((bytitle[('Total Est. Fee','RA')] - bytitle[('Total Est. Fee','PE')]).\n",
    " sort_values().plot(kind='bar'))"
   ]
  },
  {
   "cell_type": "code",
   "execution_count": null,
   "metadata": {},
   "outputs": [],
   "source": [
    "bytitle"
   ]
  },
  {
   "cell_type": "code",
   "execution_count": 438,
   "metadata": {},
   "outputs": [],
   "source": []
  },
  {
   "cell_type": "code",
   "execution_count": 443,
   "metadata": {},
   "outputs": [
    {
     "name": "stdout",
     "output_type": "stream",
     "text": [
      "0 2\n",
      "1 3\n",
      "2 4\n",
      "3 5\n",
      "4 6\n",
      "5 6\n"
     ]
    }
   ],
   "source": [
    "for i,z in enumerate(x):\n",
    "    print (i,z)"
   ]
  },
  {
   "cell_type": "code",
   "execution_count": 451,
   "metadata": {},
   "outputs": [
    {
     "ename": "TypeError",
     "evalue": "'list' object is not callable",
     "output_type": "error",
     "traceback": [
      "\u001b[0;31m---------------------------------------------------------------------------\u001b[0m",
      "\u001b[0;31mTypeError\u001b[0m                                 Traceback (most recent call last)",
      "\u001b[0;32m<ipython-input-451-75e1cf504b67>\u001b[0m in \u001b[0;36m<module>\u001b[0;34m()\u001b[0m\n\u001b[0;32m----> 1\u001b[0;31m \u001b[0mlist\u001b[0m\u001b[0;34m(\u001b[0m\u001b[0menumerate\u001b[0m\u001b[0;34m(\u001b[0m\u001b[0mx\u001b[0m\u001b[0;34m)\u001b[0m\u001b[0;34m)\u001b[0m\u001b[0;34m\u001b[0m\u001b[0m\n\u001b[0m",
      "\u001b[0;31mTypeError\u001b[0m: 'list' object is not callable"
     ]
    }
   ],
   "source": [
    "list(enumerate(x))"
   ]
  },
  {
   "cell_type": "code",
   "execution_count": 486,
   "metadata": {
    "scrolled": true
   },
   "outputs": [
    {
     "name": "stdout",
     "output_type": "stream",
     "text": [
      "BRONX.csv                  Shmuel_code.docx\r\n",
      "BROOKLYN.csv               Untitled.ipynb\r\n",
      "MANHATTAN.csv              cleaning.ipynb\r\n",
      "NYC_building_permits.ipynb columns_to_use.rtf\r\n",
      "PEP8_guidelines.docx       preliminary_analysis.ipynb\r\n",
      "QUEENS.csv                 sampling.ipynb\r\n",
      "STATEN ISLAND.csv          test.ipynb\r\n"
     ]
    }
   ],
   "source": [
    "! ls"
   ]
  },
  {
   "cell_type": "code",
   "execution_count": null,
   "metadata": {},
   "outputs": [],
   "source": []
  }
 ],
 "metadata": {
  "kernelspec": {
   "display_name": "Python 3",
   "language": "python",
   "name": "python3"
  },
  "language_info": {
   "codemirror_mode": {
    "name": "ipython",
    "version": 3
   },
   "file_extension": ".py",
   "mimetype": "text/x-python",
   "name": "python",
   "nbconvert_exporter": "python",
   "pygments_lexer": "ipython3",
   "version": "3.7.0"
  }
 },
 "nbformat": 4,
 "nbformat_minor": 2
}
