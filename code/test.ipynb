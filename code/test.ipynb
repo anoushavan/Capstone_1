{
 "cells": [
  {
   "cell_type": "code",
   "execution_count": 10,
   "metadata": {},
   "outputs": [],
   "source": [
    "import pandas as pd\n",
    "import numpy as np\n",
    "from datetime import datetime\n",
    "from matplotlib import pyplot as plt\n",
    "import seaborn as sns"
   ]
  },
  {
   "cell_type": "code",
   "execution_count": 11,
   "metadata": {},
   "outputs": [],
   "source": [
    "%matplotlib inline"
   ]
  },
  {
   "cell_type": "code",
   "execution_count": 13,
   "metadata": {},
   "outputs": [],
   "source": [
    "data = pd.read_csv(\"/Users/anushavan/Desktop/Study/\\\n",
    "Data_Science/Springboard/Capstone_1/data/test.csv\", \n",
    "                parse_dates=['Pre- Filing Date','Fully Paid', \n",
    "                            'Approved','Fully Permitted','Signoff_Date'])"
   ]
  },
  {
   "cell_type": "code",
   "execution_count": 7,
   "metadata": {
    "scrolled": true
   },
   "outputs": [
    {
     "data": {
      "text/html": [
       "<div>\n",
       "<style scoped>\n",
       "    .dataframe tbody tr th:only-of-type {\n",
       "        vertical-align: middle;\n",
       "    }\n",
       "\n",
       "    .dataframe tbody tr th {\n",
       "        vertical-align: top;\n",
       "    }\n",
       "\n",
       "    .dataframe thead th {\n",
       "        text-align: right;\n",
       "    }\n",
       "</style>\n",
       "<table border=\"1\" class=\"dataframe\">\n",
       "  <thead>\n",
       "    <tr style=\"text-align: right;\">\n",
       "      <th></th>\n",
       "      <th>Job #</th>\n",
       "      <th>Doc #</th>\n",
       "      <th>Borough</th>\n",
       "      <th>House #</th>\n",
       "      <th>Street Name</th>\n",
       "      <th>Block</th>\n",
       "      <th>Lot</th>\n",
       "      <th>Bin #</th>\n",
       "      <th>Job Type</th>\n",
       "      <th>Job Status</th>\n",
       "      <th>...</th>\n",
       "      <th>SPECIAL_ACTION_STATUS</th>\n",
       "      <th>SPECIAL_ACTION_DATE</th>\n",
       "      <th>BUILDING_CLASS</th>\n",
       "      <th>JOB_NO_GOOD_COUNT</th>\n",
       "      <th>GIS_LATITUDE</th>\n",
       "      <th>GIS_LONGITUDE</th>\n",
       "      <th>GIS_COUNCIL_DISTRICT</th>\n",
       "      <th>GIS_CENSUS_TRACT</th>\n",
       "      <th>GIS_NTA_NAME</th>\n",
       "      <th>GIS_BIN</th>\n",
       "    </tr>\n",
       "  </thead>\n",
       "  <tbody>\n",
       "    <tr>\n",
       "      <th>274632</th>\n",
       "      <td>500738696</td>\n",
       "      <td>1</td>\n",
       "      <td>STATEN ISLAND</td>\n",
       "      <td>16</td>\n",
       "      <td>WALCH PLACE</td>\n",
       "      <td>6668</td>\n",
       "      <td>25</td>\n",
       "      <td>5147807</td>\n",
       "      <td>NB</td>\n",
       "      <td>X</td>\n",
       "      <td>...</td>\n",
       "      <td>N</td>\n",
       "      <td>NaN</td>\n",
       "      <td>NaN</td>\n",
       "      <td>0</td>\n",
       "      <td>40.515602</td>\n",
       "      <td>-74.195535</td>\n",
       "      <td>51.0</td>\n",
       "      <td>198.0</td>\n",
       "      <td>Annadale-Huguenot-Prince's Bay-Eltingville</td>\n",
       "      <td>5147807.0</td>\n",
       "    </tr>\n",
       "    <tr>\n",
       "      <th>364201</th>\n",
       "      <td>103843469</td>\n",
       "      <td>1</td>\n",
       "      <td>MANHATTAN</td>\n",
       "      <td>3940</td>\n",
       "      <td>BROADWAY</td>\n",
       "      <td>2124</td>\n",
       "      <td>43</td>\n",
       "      <td>1087469</td>\n",
       "      <td>PA</td>\n",
       "      <td>D</td>\n",
       "      <td>...</td>\n",
       "      <td>W</td>\n",
       "      <td>06/21/2011</td>\n",
       "      <td>NaN</td>\n",
       "      <td>0</td>\n",
       "      <td>40.839277</td>\n",
       "      <td>-73.941052</td>\n",
       "      <td>10.0</td>\n",
       "      <td>251.0</td>\n",
       "      <td>Washington Heights South</td>\n",
       "      <td>1087469.0</td>\n",
       "    </tr>\n",
       "    <tr>\n",
       "      <th>1667884</th>\n",
       "      <td>301887929</td>\n",
       "      <td>1</td>\n",
       "      <td>BROOKLYN</td>\n",
       "      <td>620</td>\n",
       "      <td>EAST  102 STREET</td>\n",
       "      <td>8170</td>\n",
       "      <td>42</td>\n",
       "      <td>3407064</td>\n",
       "      <td>NB</td>\n",
       "      <td>X</td>\n",
       "      <td>...</td>\n",
       "      <td>N</td>\n",
       "      <td>NaN</td>\n",
       "      <td>NaN</td>\n",
       "      <td>0</td>\n",
       "      <td>40.648639</td>\n",
       "      <td>-73.899720</td>\n",
       "      <td>42.0</td>\n",
       "      <td>974.0</td>\n",
       "      <td>Canarsie</td>\n",
       "      <td>3407064.0</td>\n",
       "    </tr>\n",
       "  </tbody>\n",
       "</table>\n",
       "<p>3 rows × 96 columns</p>\n",
       "</div>"
      ],
      "text/plain": [
       "             Job #  Doc #        Borough House #       Street Name Block Lot  \\\n",
       "274632   500738696      1  STATEN ISLAND      16       WALCH PLACE  6668  25   \n",
       "364201   103843469      1      MANHATTAN    3940          BROADWAY  2124  43   \n",
       "1667884  301887929      1       BROOKLYN     620  EAST  102 STREET  8170  42   \n",
       "\n",
       "           Bin # Job Type Job Status    ...     SPECIAL_ACTION_STATUS  \\\n",
       "274632   5147807       NB          X    ...                         N   \n",
       "364201   1087469       PA          D    ...                         W   \n",
       "1667884  3407064       NB          X    ...                         N   \n",
       "\n",
       "        SPECIAL_ACTION_DATE BUILDING_CLASS JOB_NO_GOOD_COUNT GIS_LATITUDE  \\\n",
       "274632                  NaN            NaN                 0    40.515602   \n",
       "364201           06/21/2011            NaN                 0    40.839277   \n",
       "1667884                 NaN            NaN                 0    40.648639   \n",
       "\n",
       "        GIS_LONGITUDE GIS_COUNCIL_DISTRICT GIS_CENSUS_TRACT  \\\n",
       "274632     -74.195535                 51.0            198.0   \n",
       "364201     -73.941052                 10.0            251.0   \n",
       "1667884    -73.899720                 42.0            974.0   \n",
       "\n",
       "                                       GIS_NTA_NAME    GIS_BIN  \n",
       "274632   Annadale-Huguenot-Prince's Bay-Eltingville  5147807.0  \n",
       "364201                     Washington Heights South  1087469.0  \n",
       "1667884                                    Canarsie  3407064.0  \n",
       "\n",
       "[3 rows x 96 columns]"
      ]
     },
     "execution_count": 7,
     "metadata": {},
     "output_type": "execute_result"
    }
   ],
   "source": [
    "data[(data['Professional Cert'] == 'R') | (data['Professional Cert'] == 'J')]"
   ]
  },
  {
   "cell_type": "code",
   "execution_count": 84,
   "metadata": {},
   "outputs": [],
   "source": [
    "data = pd.read_csv(\"/Users/anushavan/Desktop/Study/\\\n",
    "Data_Science/Springboard/Capstone_1/data/test.csv\", \n",
    "                parse_dates=['Pre- Filing Date','Fully Paid', \n",
    "                            'Approved','Fully Permitted','Signoff_Date'])"
   ]
  },
  {
   "cell_type": "code",
   "execution_count": 87,
   "metadata": {
    "scrolled": true
   },
   "outputs": [
    {
     "data": {
      "text/plain": [
       "<matplotlib.axes._subplots.AxesSubplot at 0x1a24c01978>"
      ]
     },
     "execution_count": 87,
     "metadata": {},
     "output_type": "execute_result"
    },
    {
     "data": {
      "image/png": "[encoded data removed]",
      "text/plain": [
       "<Figure size 432x288 with 1 Axes>"
      ]
     },
     "metadata": {
      "needs_background": "light"
     },
     "output_type": "display_data"
    }
   ],
   "source": [
    "test['Professional Cert'].value_counts().plot(kind='bar')"
   ]
  },
  {
   "cell_type": "markdown",
   "metadata": {},
   "source": [
    "### Clean up the dataframe\n",
    "\n",
    "* converting all column names to *title case*, <br> \n",
    "* converting numeric data into numeric form by removing dollar signs and converting to intiger, <br> \n",
    "* creating a **\"Duration\"** column measuring the duration of the approval process as the difference between the \"Approved\" and \"Fully Paid\" columns <br> \n",
    "* creating subsets of data to hold normal values, values that are below 0 (meaningless) and zero values.\n",
    "* Transform \"Boroughs\" into category to increase the speed of execution."
   ]
  },
  {
   "cell_type": "code",
   "execution_count": 19,
   "metadata": {},
   "outputs": [],
   "source": [
    "# Convert all data columns to Title Case\n",
    "test.columns = test.columns.str.title()\n",
    "\n",
    "# Convert Total Est. Fee to float data and remove $ symbol \n",
    "test['Total Est. Fee']= [float(c.replace('$','')) for c in test['Total Est. Fee']]"
   ]
  },
  {
   "cell_type": "code",
   "execution_count": 20,
   "metadata": {},
   "outputs": [],
   "source": [
    "# Convert Proposed Dwelling Units to integers\n",
    "test['Proposed Dwelling Units'] = (pd.to_numeric(test\n",
    "                                  ['Proposed Dwelling Units'], errors='coerce'))\n"
   ]
  },
  {
   "cell_type": "code",
   "execution_count": 21,
   "metadata": {},
   "outputs": [],
   "source": [
    "# Create a Duration column and convert it to integers (instead of days)\n",
    "test['Duration'] = (test['Approved'] - test['Fully Paid']).dt.days"
   ]
  },
  {
   "cell_type": "code",
   "execution_count": 22,
   "metadata": {},
   "outputs": [],
   "source": [
    "# transform the Boroughs into categories for faster analysis.\n",
    "data['Borough'] = data['Borough'].astype('category')"
   ]
  },
  {
   "cell_type": "code",
   "execution_count": 23,
   "metadata": {},
   "outputs": [],
   "source": [
    "# Subset of data where the Duration is more than 0 days\n",
    "test = test[test['Duration'] > 0]\n",
    "\n",
    "# Subset of data where the Duration is less then 0 days\n",
    "odd_data = test[test['Duration'] < 0]\n",
    "\n",
    "# Subset of data where the Duration is 0 days\n",
    "zero_data = test[test['Duration'] == 0]"
   ]
  },
  {
   "cell_type": "markdown",
   "metadata": {},
   "source": [
    "#### Dealing with blank (NaN/NaT) values\n",
    "\n",
    "converting the NaN values to N string indicating No."
   ]
  },
  {
   "cell_type": "code",
   "execution_count": 24,
   "metadata": {},
   "outputs": [],
   "source": [
    "# Column Efiling Filed: replace the NaN values with N (No)\n",
    "test['Efiling Filed'] = test['Efiling Filed'].fillna('N')"
   ]
  },
  {
   "cell_type": "code",
   "execution_count": 25,
   "metadata": {},
   "outputs": [],
   "source": [
    "test['Professional Cert'] = test['Professional Cert'].fillna('N')"
   ]
  },
  {
   "cell_type": "markdown",
   "metadata": {},
   "source": [
    "##### Potential columns to drop\n",
    "The column \"Proposed Dwelling Units\" has 50392 not null values.\n",
    "\n",
    "The columnn \"Fully Permitted\" has 7070 NaT entries.\n",
    "\n",
    "\n",
    "##### Drop rows\n",
    "There are 2 rows in the \"Applicant Professional Title\" column that are blank. Assigned them\n",
    "to del_rows variable and deleted. "
   ]
  },
  {
   "cell_type": "code",
   "execution_count": 26,
   "metadata": {},
   "outputs": [],
   "source": [
    "del_rows = test[test['Applicant Professional Title'].isnull()].index\n",
    "test.drop(del_rows, inplace=True)"
   ]
  },
  {
   "cell_type": "markdown",
   "metadata": {},
   "source": [
    "### Analysis of data\n",
    "\n",
    "Createing:\n",
    "1. histograms (for categorical variables)\n",
    "2. bar charts (for continuous variables) and \n",
    "3. boxplots for categorical variables (x axis) and a continuous variable (y axis).\n"
   ]
  },
  {
   "cell_type": "code",
   "execution_count": 27,
   "metadata": {},
   "outputs": [
    {
     "data": {
      "text/html": [
       "<div>\n",
       "<style scoped>\n",
       "    .dataframe tbody tr th:only-of-type {\n",
       "        vertical-align: middle;\n",
       "    }\n",
       "\n",
       "    .dataframe tbody tr th {\n",
       "        vertical-align: top;\n",
       "    }\n",
       "\n",
       "    .dataframe thead th {\n",
       "        text-align: right;\n",
       "    }\n",
       "</style>\n",
       "<table border=\"1\" class=\"dataframe\">\n",
       "  <thead>\n",
       "    <tr style=\"text-align: right;\">\n",
       "      <th></th>\n",
       "      <th>Borough</th>\n",
       "      <th>Building Type</th>\n",
       "      <th>Efiling Filed</th>\n",
       "      <th>Applicant Professional Title</th>\n",
       "      <th>Professional Cert</th>\n",
       "      <th>Pre- Filing Date</th>\n",
       "      <th>Fully Paid</th>\n",
       "      <th>Approved</th>\n",
       "      <th>Fully Permitted</th>\n",
       "      <th>Total Est. Fee</th>\n",
       "      <th>...</th>\n",
       "      <th>Proposed Occupancy</th>\n",
       "      <th>Zoning Dist1</th>\n",
       "      <th>Zoning Dist2</th>\n",
       "      <th>Zoning Dist3</th>\n",
       "      <th>Special District 1</th>\n",
       "      <th>Special District 2</th>\n",
       "      <th>Non-Profit</th>\n",
       "      <th>Total_Construction_Floor_Area</th>\n",
       "      <th>Signoff_Date</th>\n",
       "      <th>Duration</th>\n",
       "    </tr>\n",
       "  </thead>\n",
       "  <tbody>\n",
       "    <tr>\n",
       "      <th>106603</th>\n",
       "      <td>BRONX</td>\n",
       "      <td>1-2-3 FAMILY</td>\n",
       "      <td>N</td>\n",
       "      <td>RA</td>\n",
       "      <td>Y</td>\n",
       "      <td>2003-04-30</td>\n",
       "      <td>2003-05-16</td>\n",
       "      <td>2003-05-19</td>\n",
       "      <td>2003-05-28</td>\n",
       "      <td>270.97</td>\n",
       "      <td>...</td>\n",
       "      <td>J-3</td>\n",
       "      <td>R6</td>\n",
       "      <td>NaN</td>\n",
       "      <td>NaN</td>\n",
       "      <td>NaN</td>\n",
       "      <td>NaN</td>\n",
       "      <td>N</td>\n",
       "      <td>2330</td>\n",
       "      <td>2005-10-19</td>\n",
       "      <td>3.0</td>\n",
       "    </tr>\n",
       "    <tr>\n",
       "      <th>23177</th>\n",
       "      <td>QUEENS</td>\n",
       "      <td>1-2-3 FAMILY</td>\n",
       "      <td>N</td>\n",
       "      <td>RA</td>\n",
       "      <td>N</td>\n",
       "      <td>2004-09-27</td>\n",
       "      <td>2004-09-28</td>\n",
       "      <td>2005-01-03</td>\n",
       "      <td>2005-05-19</td>\n",
       "      <td>581.12</td>\n",
       "      <td>...</td>\n",
       "      <td>J-0</td>\n",
       "      <td>R4</td>\n",
       "      <td>NaN</td>\n",
       "      <td>NaN</td>\n",
       "      <td>NaN</td>\n",
       "      <td>NaN</td>\n",
       "      <td>Y</td>\n",
       "      <td>3879</td>\n",
       "      <td>2006-07-05</td>\n",
       "      <td>97.0</td>\n",
       "    </tr>\n",
       "    <tr>\n",
       "      <th>62314</th>\n",
       "      <td>QUEENS</td>\n",
       "      <td>1-2-3 FAMILY</td>\n",
       "      <td>Y</td>\n",
       "      <td>PE</td>\n",
       "      <td>N</td>\n",
       "      <td>2008-08-20</td>\n",
       "      <td>2008-08-27</td>\n",
       "      <td>2009-05-07</td>\n",
       "      <td>NaT</td>\n",
       "      <td>688.00</td>\n",
       "      <td>...</td>\n",
       "      <td>R-3</td>\n",
       "      <td>R4B</td>\n",
       "      <td>NaN</td>\n",
       "      <td>NaN</td>\n",
       "      <td>NaN</td>\n",
       "      <td>NaN</td>\n",
       "      <td>N</td>\n",
       "      <td>4650</td>\n",
       "      <td>NaT</td>\n",
       "      <td>253.0</td>\n",
       "    </tr>\n",
       "    <tr>\n",
       "      <th>13220</th>\n",
       "      <td>BRONX</td>\n",
       "      <td>OTHERS</td>\n",
       "      <td>Y</td>\n",
       "      <td>RA</td>\n",
       "      <td>N</td>\n",
       "      <td>2017-06-02</td>\n",
       "      <td>2017-06-02</td>\n",
       "      <td>2018-02-06</td>\n",
       "      <td>2018-09-25</td>\n",
       "      <td>81827.30</td>\n",
       "      <td>...</td>\n",
       "      <td>R-2</td>\n",
       "      <td>R8</td>\n",
       "      <td>NaN</td>\n",
       "      <td>NaN</td>\n",
       "      <td>NaN</td>\n",
       "      <td>NaN</td>\n",
       "      <td>Y</td>\n",
       "      <td>314105</td>\n",
       "      <td>NaT</td>\n",
       "      <td>249.0</td>\n",
       "    </tr>\n",
       "    <tr>\n",
       "      <th>69641</th>\n",
       "      <td>STATEN ISLAND</td>\n",
       "      <td>1-2-3 FAMILY</td>\n",
       "      <td>Y</td>\n",
       "      <td>RA</td>\n",
       "      <td>N</td>\n",
       "      <td>2013-04-05</td>\n",
       "      <td>2013-04-05</td>\n",
       "      <td>2013-10-22</td>\n",
       "      <td>NaT</td>\n",
       "      <td>464.00</td>\n",
       "      <td>...</td>\n",
       "      <td>R-3</td>\n",
       "      <td>R3-2</td>\n",
       "      <td>NaN</td>\n",
       "      <td>NaN</td>\n",
       "      <td>NaN</td>\n",
       "      <td>NaN</td>\n",
       "      <td>N</td>\n",
       "      <td>1200</td>\n",
       "      <td>NaT</td>\n",
       "      <td>200.0</td>\n",
       "    </tr>\n",
       "  </tbody>\n",
       "</table>\n",
       "<p>5 rows × 24 columns</p>\n",
       "</div>"
      ],
      "text/plain": [
       "              Borough Building Type Efiling Filed  \\\n",
       "106603          BRONX  1-2-3 FAMILY             N   \n",
       "23177          QUEENS  1-2-3 FAMILY             N   \n",
       "62314          QUEENS  1-2-3 FAMILY             Y   \n",
       "13220           BRONX        OTHERS             Y   \n",
       "69641   STATEN ISLAND  1-2-3 FAMILY             Y   \n",
       "\n",
       "       Applicant Professional Title Professional Cert Pre- Filing Date  \\\n",
       "106603                           RA                 Y       2003-04-30   \n",
       "23177                            RA                 N       2004-09-27   \n",
       "62314                            PE                 N       2008-08-20   \n",
       "13220                            RA                 N       2017-06-02   \n",
       "69641                            RA                 N       2013-04-05   \n",
       "\n",
       "       Fully Paid   Approved Fully Permitted  Total Est. Fee   ...     \\\n",
       "106603 2003-05-16 2003-05-19      2003-05-28          270.97   ...      \n",
       "23177  2004-09-28 2005-01-03      2005-05-19          581.12   ...      \n",
       "62314  2008-08-27 2009-05-07             NaT          688.00   ...      \n",
       "13220  2017-06-02 2018-02-06      2018-09-25        81827.30   ...      \n",
       "69641  2013-04-05 2013-10-22             NaT          464.00   ...      \n",
       "\n",
       "        Proposed Occupancy  Zoning Dist1  Zoning Dist2  Zoning Dist3  \\\n",
       "106603                 J-3            R6           NaN           NaN   \n",
       "23177                  J-0            R4           NaN           NaN   \n",
       "62314                  R-3           R4B           NaN           NaN   \n",
       "13220                  R-2            R8           NaN           NaN   \n",
       "69641                  R-3          R3-2           NaN           NaN   \n",
       "\n",
       "       Special District 1 Special District 2 Non-Profit  \\\n",
       "106603                NaN                NaN          N   \n",
       "23177                 NaN                NaN          Y   \n",
       "62314                 NaN                NaN          N   \n",
       "13220                 NaN                NaN          Y   \n",
       "69641                 NaN                NaN          N   \n",
       "\n",
       "       Total_Construction_Floor_Area Signoff_Date Duration  \n",
       "106603                          2330   2005-10-19      3.0  \n",
       "23177                           3879   2006-07-05     97.0  \n",
       "62314                           4650          NaT    253.0  \n",
       "13220                         314105          NaT    249.0  \n",
       "69641                           1200          NaT    200.0  \n",
       "\n",
       "[5 rows x 24 columns]"
      ]
     },
     "execution_count": 27,
     "metadata": {},
     "output_type": "execute_result"
    }
   ],
   "source": [
    "test.head()"
   ]
  },
  {
   "cell_type": "code",
   "execution_count": 32,
   "metadata": {},
   "outputs": [],
   "source": [
    "newser = pd.concat([test['Zoning Dist1'],\n",
    "                    test['Zoning Dist2'],test['Zoning Dist3']], axis=0, ignore_index=True)"
   ]
  },
  {
   "cell_type": "code",
   "execution_count": 35,
   "metadata": {},
   "outputs": [
    {
     "data": {
      "text/plain": [
       "count     6466\n",
       "unique     128\n",
       "top         R6\n",
       "freq      1121\n",
       "dtype: object"
      ]
     },
     "execution_count": 35,
     "metadata": {},
     "output_type": "execute_result"
    }
   ],
   "source": [
    "newser.describe()"
   ]
  },
  {
   "cell_type": "code",
   "execution_count": 36,
   "metadata": {},
   "outputs": [],
   "source": [
    "newser1 = test['Zoning Dist1'].append(test['Zoning Dist2']).append(test['Zoning Dist3'])"
   ]
  },
  {
   "cell_type": "code",
   "execution_count": 44,
   "metadata": {},
   "outputs": [],
   "source": [
    "lis = newser1[0:5].tolist()"
   ]
  },
  {
   "cell_type": "code",
   "execution_count": 47,
   "metadata": {},
   "outputs": [
    {
     "data": {
      "text/plain": [
       "['R6', 'R4', 'R4B', 'R8', 'R3-2']"
      ]
     },
     "execution_count": 47,
     "metadata": {},
     "output_type": "execute_result"
    }
   ],
   "source": [
    "lis"
   ]
  },
  {
   "cell_type": "code",
   "execution_count": 75,
   "metadata": {},
   "outputs": [],
   "source": [
    "newser3 = (pd.concat\n",
    "([test['Zoning Dist1'],test['Zoning Dist2'],test['Zoning Dist3']\n",
    " ,test['Special District 1'], test['Special District 2']], axis=1))"
   ]
  },
  {
   "cell_type": "code",
   "execution_count": 79,
   "metadata": {},
   "outputs": [
    {
     "data": {
      "text/plain": [
       "SRD      218\n",
       "SR       110\n",
       "OP        43\n",
       "LIC       22\n",
       "NA-1      19\n",
       "HS        18\n",
       "MX-8      18\n",
       "MID       12\n",
       "DB        10\n",
       "H          9\n",
       "CD         9\n",
       "WCH        7\n",
       "DJ         5\n",
       "HY         4\n",
       "MX-4       4\n",
       "BR         4\n",
       "MX-5       3\n",
       "TMU        3\n",
       "HP         3\n",
       "SCD        3\n",
       "LI         2\n",
       "SB         2\n",
       "NA-2       2\n",
       "N          2\n",
       "CI         2\n",
       "TA         2\n",
       "CL         2\n",
       "LH-1       2\n",
       "MX-7       1\n",
       "C          1\n",
       "SW         1\n",
       "CP         1\n",
       "MX-13      1\n",
       "MX-2       1\n",
       "MX-6       1\n",
       "CO         1\n",
       "MX-1       1\n",
       "MMU        1\n",
       "SHP        1\n",
       "MX-10      1\n",
       "Name: Special District 1, dtype: int64"
      ]
     },
     "execution_count": 79,
     "metadata": {},
     "output_type": "execute_result"
    }
   ],
   "source": [
    "newser3['Special District 1'].value_counts()"
   ]
  },
  {
   "cell_type": "code",
   "execution_count": 57,
   "metadata": {},
   "outputs": [
    {
     "data": {
      "text/plain": [
       "['R6_hayat', 'R4_hayat', 'R4B_hayat', 'R8_hayat', 'R3-2_hayat']"
      ]
     },
     "execution_count": 57,
     "metadata": {},
     "output_type": "execute_result"
    }
   ],
   "source": [
    "lis2 = []\n",
    "for item in lis:\n",
    "    lis2.append(\"%s_hayat\" % item)\n",
    "    \n",
    "lis2"
   ]
  },
  {
   "cell_type": "code",
   "execution_count": 40,
   "metadata": {},
   "outputs": [
    {
     "data": {
      "text/plain": [
       "NaN          11510\n",
       "R6            1121\n",
       "R3-2           940\n",
       "R5             636\n",
       "R4             578\n",
       "R3-1           330\n",
       "R3X            305\n",
       "R3A            278\n",
       "R6B            240\n",
       "R2             189\n",
       "R7-1           169\n",
       "M1-1           129\n",
       "R1-2           109\n",
       "R6A            108\n",
       "R4-1            97\n",
       "C2-2            84\n",
       "R7-2            83\n",
       "R4A             67\n",
       "R7A             67\n",
       "C1-2            49\n",
       "R2A             45\n",
       "M1-2            43\n",
       "C2-3            42\n",
       "R8              40\n",
       "C1-3            36\n",
       "C1-1            31\n",
       "C3              29\n",
       "R5B             28\n",
       "C1-4            24\n",
       "M3-1            24\n",
       "             ...  \n",
       "C1-8A            1\n",
       "C5-2.5           1\n",
       "C6-3X            1\n",
       "C6-4M            1\n",
       "C6-2G            1\n",
       "M1-1/R7D         1\n",
       "M1-1/R7-2        1\n",
       "LH-1             1\n",
       "C4-4D            1\n",
       "C2-7A            1\n",
       "C6-5.5           1\n",
       "R9X              1\n",
       "C5-P             1\n",
       "M1-5A            1\n",
       "C5-4             1\n",
       "M1-5M            1\n",
       "M1-2/R5B         1\n",
       "M1-4/R7A         1\n",
       "C1-8X            1\n",
       "C2-8A            1\n",
       "M1-5/R9          1\n",
       "M1-4/R6B         1\n",
       "C6-1A            1\n",
       "R8X              1\n",
       "C4-5D            1\n",
       "M1-3D            1\n",
       "C6-7             1\n",
       "M1-2/R6          1\n",
       "C6-5             1\n",
       "M1-5/R7X         1\n",
       "Length: 129, dtype: int64"
      ]
     },
     "execution_count": 40,
     "metadata": {},
     "output_type": "execute_result"
    }
   ],
   "source": [
    "newser1.value_counts(dropna=False)"
   ]
  },
  {
   "cell_type": "code",
   "execution_count": null,
   "metadata": {},
   "outputs": [],
   "source": []
  },
  {
   "cell_type": "code",
   "execution_count": 187,
   "metadata": {},
   "outputs": [
    {
     "data": {
      "text/plain": [
       "count        5.00000\n",
       "mean     23692.20000\n",
       "std      12785.29889\n",
       "min       9308.00000\n",
       "25%      14679.00000\n",
       "50%      20471.00000\n",
       "75%      36273.00000\n",
       "max      37730.00000\n",
       "Name: Borough, dtype: float64"
      ]
     },
     "execution_count": 187,
     "metadata": {},
     "output_type": "execute_result"
    },
    {
     "data": {
      "image/png": "[encoded data removed]",
      "text/plain": [
       "<Figure size 432x288 with 1 Axes>"
      ]
     },
     "metadata": {
      "needs_background": "light"
     },
     "output_type": "display_data"
    }
   ],
   "source": [
    "# create a histogram for the # of building permits issued by Borough\n",
    "ax = test['Borough'].value_counts().sort_values().plot(kind='bar', color = 'b')\n",
    "ax.set_ylabel('Number of building permits approved')\n",
    "ax.set_xlabel('')\n",
    "test['Borough'].value_counts().describe()"
   ]
  },
  {
   "cell_type": "code",
   "execution_count": 191,
   "metadata": {},
   "outputs": [
    {
     "data": {
      "text/plain": [
       "count        2.000000\n",
       "mean     59230.500000\n",
       "std      15513.215672\n",
       "min      48261.000000\n",
       "25%      53745.750000\n",
       "50%      59230.500000\n",
       "75%      64715.250000\n",
       "max      70200.000000\n",
       "Name: Building Type, dtype: float64"
      ]
     },
     "execution_count": 191,
     "metadata": {},
     "output_type": "execute_result"
    },
    {
     "data": {
      "image/png": "[encoded data removed]",
      "text/plain": [
       "<Figure size 432x288 with 1 Axes>"
      ]
     },
     "metadata": {
      "needs_background": "light"
     },
     "output_type": "display_data"
    }
   ],
   "source": [
    "# Create a histogram of Building Type and include a statistical analysis.\n",
    "test['Building Type'].value_counts().plot(kind='bar', color='b')\n",
    "test['Building Type'].value_counts().describe()"
   ]
  },
  {
   "cell_type": "code",
   "execution_count": 198,
   "metadata": {},
   "outputs": [
    {
     "data": {
      "text/plain": [
       "count        2.000000\n",
       "mean     59230.500000\n",
       "std      13628.068994\n",
       "min      49594.000000\n",
       "25%      54412.250000\n",
       "50%      59230.500000\n",
       "75%      64048.750000\n",
       "max      68867.000000\n",
       "Name: Efiling Filed, dtype: float64"
      ]
     },
     "execution_count": 198,
     "metadata": {},
     "output_type": "execute_result"
    },
    {
     "data": {
      "image/png": "[encoded data removed]",
      "text/plain": [
       "<Figure size 432x288 with 1 Axes>"
      ]
     },
     "metadata": {
      "needs_background": "light"
     },
     "output_type": "display_data"
    }
   ],
   "source": [
    "# Create a histogram of Efiling and include a statistical analysis.\n",
    "ax = test['Efiling Filed'].value_counts().plot(kind='bar', color='g')\n",
    "ax.set_xticklabels(['Yes','No'],rotation=360)\n",
    "\n",
    "test['Efiling Filed'].value_counts().describe()"
   ]
  },
  {
   "cell_type": "code",
   "execution_count": 172,
   "metadata": {},
   "outputs": [
    {
     "ename": "KeyError",
     "evalue": "'Duration'",
     "output_type": "error",
     "traceback": [
      "\u001b[0;31m---------------------------------------------------------------------------\u001b[0m",
      "\u001b[0;31mKeyError\u001b[0m                                  Traceback (most recent call last)",
      "\u001b[0;32m~/anaconda3/lib/python3.7/site-packages/pandas/core/indexes/base.py\u001b[0m in \u001b[0;36mget_loc\u001b[0;34m(self, key, method, tolerance)\u001b[0m\n\u001b[1;32m   3077\u001b[0m             \u001b[0;32mtry\u001b[0m\u001b[0;34m:\u001b[0m\u001b[0;34m\u001b[0m\u001b[0m\n\u001b[0;32m-> 3078\u001b[0;31m                 \u001b[0;32mreturn\u001b[0m \u001b[0mself\u001b[0m\u001b[0;34m.\u001b[0m\u001b[0m_engine\u001b[0m\u001b[0;34m.\u001b[0m\u001b[0mget_loc\u001b[0m\u001b[0;34m(\u001b[0m\u001b[0mkey\u001b[0m\u001b[0;34m)\u001b[0m\u001b[0;34m\u001b[0m\u001b[0m\n\u001b[0m\u001b[1;32m   3079\u001b[0m             \u001b[0;32mexcept\u001b[0m \u001b[0mKeyError\u001b[0m\u001b[0;34m:\u001b[0m\u001b[0;34m\u001b[0m\u001b[0m\n",
      "\u001b[0;32mpandas/_libs/index.pyx\u001b[0m in \u001b[0;36mpandas._libs.index.IndexEngine.get_loc\u001b[0;34m()\u001b[0m\n",
      "\u001b[0;32mpandas/_libs/index.pyx\u001b[0m in \u001b[0;36mpandas._libs.index.IndexEngine.get_loc\u001b[0;34m()\u001b[0m\n",
      "\u001b[0;32mpandas/_libs/hashtable_class_helper.pxi\u001b[0m in \u001b[0;36mpandas._libs.hashtable.PyObjectHashTable.get_item\u001b[0;34m()\u001b[0m\n",
      "\u001b[0;32mpandas/_libs/hashtable_class_helper.pxi\u001b[0m in \u001b[0;36mpandas._libs.hashtable.PyObjectHashTable.get_item\u001b[0;34m()\u001b[0m\n",
      "\u001b[0;31mKeyError\u001b[0m: 'Duration'",
      "\nDuring handling of the above exception, another exception occurred:\n",
      "\u001b[0;31mKeyError\u001b[0m                                  Traceback (most recent call last)",
      "\u001b[0;32m<ipython-input-172-31c33bb8dee5>\u001b[0m in \u001b[0;36m<module>\u001b[0;34m()\u001b[0m\n\u001b[1;32m      1\u001b[0m \u001b[0;31m# Create a histogram of duration and include a statistical analysis.\u001b[0m\u001b[0;34m\u001b[0m\u001b[0;34m\u001b[0m\u001b[0m\n\u001b[0;32m----> 2\u001b[0;31m \u001b[0mdata\u001b[0m\u001b[0;34m[\u001b[0m\u001b[0;34m'Duration'\u001b[0m\u001b[0;34m]\u001b[0m\u001b[0;34m.\u001b[0m\u001b[0mplot\u001b[0m\u001b[0;34m(\u001b[0m\u001b[0mkind\u001b[0m\u001b[0;34m=\u001b[0m\u001b[0;34m'hist'\u001b[0m\u001b[0;34m,\u001b[0m \u001b[0mbins\u001b[0m \u001b[0;34m=\u001b[0m \u001b[0;36m200\u001b[0m\u001b[0;34m)\u001b[0m\u001b[0;34m\u001b[0m\u001b[0m\n\u001b[0m\u001b[1;32m      3\u001b[0m \u001b[0mplt\u001b[0m\u001b[0;34m.\u001b[0m\u001b[0mxlim\u001b[0m\u001b[0;34m(\u001b[0m\u001b[0;36m0\u001b[0m\u001b[0;34m,\u001b[0m\u001b[0;36m1500\u001b[0m\u001b[0;34m)\u001b[0m\u001b[0;34m\u001b[0m\u001b[0m\n\u001b[1;32m      4\u001b[0m \u001b[0mplt\u001b[0m\u001b[0;34m.\u001b[0m\u001b[0mxlabel\u001b[0m\u001b[0;34m(\u001b[0m\u001b[0;34m'Approval duration (days)'\u001b[0m\u001b[0;34m)\u001b[0m\u001b[0;34m\u001b[0m\u001b[0m\n\u001b[1;32m      5\u001b[0m \u001b[0mnormal_data\u001b[0m\u001b[0;34m[\u001b[0m\u001b[0;34m'Duration'\u001b[0m\u001b[0;34m]\u001b[0m\u001b[0;34m.\u001b[0m\u001b[0mdescribe\u001b[0m\u001b[0;34m(\u001b[0m\u001b[0;34m)\u001b[0m\u001b[0;34m\u001b[0m\u001b[0m\n",
      "\u001b[0;32m~/anaconda3/lib/python3.7/site-packages/pandas/core/frame.py\u001b[0m in \u001b[0;36m__getitem__\u001b[0;34m(self, key)\u001b[0m\n\u001b[1;32m   2686\u001b[0m             \u001b[0;32mreturn\u001b[0m \u001b[0mself\u001b[0m\u001b[0;34m.\u001b[0m\u001b[0m_getitem_multilevel\u001b[0m\u001b[0;34m(\u001b[0m\u001b[0mkey\u001b[0m\u001b[0;34m)\u001b[0m\u001b[0;34m\u001b[0m\u001b[0m\n\u001b[1;32m   2687\u001b[0m         \u001b[0;32melse\u001b[0m\u001b[0;34m:\u001b[0m\u001b[0;34m\u001b[0m\u001b[0m\n\u001b[0;32m-> 2688\u001b[0;31m             \u001b[0;32mreturn\u001b[0m \u001b[0mself\u001b[0m\u001b[0;34m.\u001b[0m\u001b[0m_getitem_column\u001b[0m\u001b[0;34m(\u001b[0m\u001b[0mkey\u001b[0m\u001b[0;34m)\u001b[0m\u001b[0;34m\u001b[0m\u001b[0m\n\u001b[0m\u001b[1;32m   2689\u001b[0m \u001b[0;34m\u001b[0m\u001b[0m\n\u001b[1;32m   2690\u001b[0m     \u001b[0;32mdef\u001b[0m \u001b[0m_getitem_column\u001b[0m\u001b[0;34m(\u001b[0m\u001b[0mself\u001b[0m\u001b[0;34m,\u001b[0m \u001b[0mkey\u001b[0m\u001b[0;34m)\u001b[0m\u001b[0;34m:\u001b[0m\u001b[0;34m\u001b[0m\u001b[0m\n",
      "\u001b[0;32m~/anaconda3/lib/python3.7/site-packages/pandas/core/frame.py\u001b[0m in \u001b[0;36m_getitem_column\u001b[0;34m(self, key)\u001b[0m\n\u001b[1;32m   2693\u001b[0m         \u001b[0;31m# get column\u001b[0m\u001b[0;34m\u001b[0m\u001b[0;34m\u001b[0m\u001b[0m\n\u001b[1;32m   2694\u001b[0m         \u001b[0;32mif\u001b[0m \u001b[0mself\u001b[0m\u001b[0;34m.\u001b[0m\u001b[0mcolumns\u001b[0m\u001b[0;34m.\u001b[0m\u001b[0mis_unique\u001b[0m\u001b[0;34m:\u001b[0m\u001b[0;34m\u001b[0m\u001b[0m\n\u001b[0;32m-> 2695\u001b[0;31m             \u001b[0;32mreturn\u001b[0m \u001b[0mself\u001b[0m\u001b[0;34m.\u001b[0m\u001b[0m_get_item_cache\u001b[0m\u001b[0;34m(\u001b[0m\u001b[0mkey\u001b[0m\u001b[0;34m)\u001b[0m\u001b[0;34m\u001b[0m\u001b[0m\n\u001b[0m\u001b[1;32m   2696\u001b[0m \u001b[0;34m\u001b[0m\u001b[0m\n\u001b[1;32m   2697\u001b[0m         \u001b[0;31m# duplicate columns & possible reduce dimensionality\u001b[0m\u001b[0;34m\u001b[0m\u001b[0;34m\u001b[0m\u001b[0m\n",
      "\u001b[0;32m~/anaconda3/lib/python3.7/site-packages/pandas/core/generic.py\u001b[0m in \u001b[0;36m_get_item_cache\u001b[0;34m(self, item)\u001b[0m\n\u001b[1;32m   2487\u001b[0m         \u001b[0mres\u001b[0m \u001b[0;34m=\u001b[0m \u001b[0mcache\u001b[0m\u001b[0;34m.\u001b[0m\u001b[0mget\u001b[0m\u001b[0;34m(\u001b[0m\u001b[0mitem\u001b[0m\u001b[0;34m)\u001b[0m\u001b[0;34m\u001b[0m\u001b[0m\n\u001b[1;32m   2488\u001b[0m         \u001b[0;32mif\u001b[0m \u001b[0mres\u001b[0m \u001b[0;32mis\u001b[0m \u001b[0;32mNone\u001b[0m\u001b[0;34m:\u001b[0m\u001b[0;34m\u001b[0m\u001b[0m\n\u001b[0;32m-> 2489\u001b[0;31m             \u001b[0mvalues\u001b[0m \u001b[0;34m=\u001b[0m \u001b[0mself\u001b[0m\u001b[0;34m.\u001b[0m\u001b[0m_data\u001b[0m\u001b[0;34m.\u001b[0m\u001b[0mget\u001b[0m\u001b[0;34m(\u001b[0m\u001b[0mitem\u001b[0m\u001b[0;34m)\u001b[0m\u001b[0;34m\u001b[0m\u001b[0m\n\u001b[0m\u001b[1;32m   2490\u001b[0m             \u001b[0mres\u001b[0m \u001b[0;34m=\u001b[0m \u001b[0mself\u001b[0m\u001b[0;34m.\u001b[0m\u001b[0m_box_item_values\u001b[0m\u001b[0;34m(\u001b[0m\u001b[0mitem\u001b[0m\u001b[0;34m,\u001b[0m \u001b[0mvalues\u001b[0m\u001b[0;34m)\u001b[0m\u001b[0;34m\u001b[0m\u001b[0m\n\u001b[1;32m   2491\u001b[0m             \u001b[0mcache\u001b[0m\u001b[0;34m[\u001b[0m\u001b[0mitem\u001b[0m\u001b[0;34m]\u001b[0m \u001b[0;34m=\u001b[0m \u001b[0mres\u001b[0m\u001b[0;34m\u001b[0m\u001b[0m\n",
      "\u001b[0;32m~/anaconda3/lib/python3.7/site-packages/pandas/core/internals.py\u001b[0m in \u001b[0;36mget\u001b[0;34m(self, item, fastpath)\u001b[0m\n\u001b[1;32m   4113\u001b[0m \u001b[0;34m\u001b[0m\u001b[0m\n\u001b[1;32m   4114\u001b[0m             \u001b[0;32mif\u001b[0m \u001b[0;32mnot\u001b[0m \u001b[0misna\u001b[0m\u001b[0;34m(\u001b[0m\u001b[0mitem\u001b[0m\u001b[0;34m)\u001b[0m\u001b[0;34m:\u001b[0m\u001b[0;34m\u001b[0m\u001b[0m\n\u001b[0;32m-> 4115\u001b[0;31m                 \u001b[0mloc\u001b[0m \u001b[0;34m=\u001b[0m \u001b[0mself\u001b[0m\u001b[0;34m.\u001b[0m\u001b[0mitems\u001b[0m\u001b[0;34m.\u001b[0m\u001b[0mget_loc\u001b[0m\u001b[0;34m(\u001b[0m\u001b[0mitem\u001b[0m\u001b[0;34m)\u001b[0m\u001b[0;34m\u001b[0m\u001b[0m\n\u001b[0m\u001b[1;32m   4116\u001b[0m             \u001b[0;32melse\u001b[0m\u001b[0;34m:\u001b[0m\u001b[0;34m\u001b[0m\u001b[0m\n\u001b[1;32m   4117\u001b[0m                 \u001b[0mindexer\u001b[0m \u001b[0;34m=\u001b[0m \u001b[0mnp\u001b[0m\u001b[0;34m.\u001b[0m\u001b[0marange\u001b[0m\u001b[0;34m(\u001b[0m\u001b[0mlen\u001b[0m\u001b[0;34m(\u001b[0m\u001b[0mself\u001b[0m\u001b[0;34m.\u001b[0m\u001b[0mitems\u001b[0m\u001b[0;34m)\u001b[0m\u001b[0;34m)\u001b[0m\u001b[0;34m[\u001b[0m\u001b[0misna\u001b[0m\u001b[0;34m(\u001b[0m\u001b[0mself\u001b[0m\u001b[0;34m.\u001b[0m\u001b[0mitems\u001b[0m\u001b[0;34m)\u001b[0m\u001b[0;34m]\u001b[0m\u001b[0;34m\u001b[0m\u001b[0m\n",
      "\u001b[0;32m~/anaconda3/lib/python3.7/site-packages/pandas/core/indexes/base.py\u001b[0m in \u001b[0;36mget_loc\u001b[0;34m(self, key, method, tolerance)\u001b[0m\n\u001b[1;32m   3078\u001b[0m                 \u001b[0;32mreturn\u001b[0m \u001b[0mself\u001b[0m\u001b[0;34m.\u001b[0m\u001b[0m_engine\u001b[0m\u001b[0;34m.\u001b[0m\u001b[0mget_loc\u001b[0m\u001b[0;34m(\u001b[0m\u001b[0mkey\u001b[0m\u001b[0;34m)\u001b[0m\u001b[0;34m\u001b[0m\u001b[0m\n\u001b[1;32m   3079\u001b[0m             \u001b[0;32mexcept\u001b[0m \u001b[0mKeyError\u001b[0m\u001b[0;34m:\u001b[0m\u001b[0;34m\u001b[0m\u001b[0m\n\u001b[0;32m-> 3080\u001b[0;31m                 \u001b[0;32mreturn\u001b[0m \u001b[0mself\u001b[0m\u001b[0;34m.\u001b[0m\u001b[0m_engine\u001b[0m\u001b[0;34m.\u001b[0m\u001b[0mget_loc\u001b[0m\u001b[0;34m(\u001b[0m\u001b[0mself\u001b[0m\u001b[0;34m.\u001b[0m\u001b[0m_maybe_cast_indexer\u001b[0m\u001b[0;34m(\u001b[0m\u001b[0mkey\u001b[0m\u001b[0;34m)\u001b[0m\u001b[0;34m)\u001b[0m\u001b[0;34m\u001b[0m\u001b[0m\n\u001b[0m\u001b[1;32m   3081\u001b[0m \u001b[0;34m\u001b[0m\u001b[0m\n\u001b[1;32m   3082\u001b[0m         \u001b[0mindexer\u001b[0m \u001b[0;34m=\u001b[0m \u001b[0mself\u001b[0m\u001b[0;34m.\u001b[0m\u001b[0mget_indexer\u001b[0m\u001b[0;34m(\u001b[0m\u001b[0;34m[\u001b[0m\u001b[0mkey\u001b[0m\u001b[0;34m]\u001b[0m\u001b[0;34m,\u001b[0m \u001b[0mmethod\u001b[0m\u001b[0;34m=\u001b[0m\u001b[0mmethod\u001b[0m\u001b[0;34m,\u001b[0m \u001b[0mtolerance\u001b[0m\u001b[0;34m=\u001b[0m\u001b[0mtolerance\u001b[0m\u001b[0;34m)\u001b[0m\u001b[0;34m\u001b[0m\u001b[0m\n",
      "\u001b[0;32mpandas/_libs/index.pyx\u001b[0m in \u001b[0;36mpandas._libs.index.IndexEngine.get_loc\u001b[0;34m()\u001b[0m\n",
      "\u001b[0;32mpandas/_libs/index.pyx\u001b[0m in \u001b[0;36mpandas._libs.index.IndexEngine.get_loc\u001b[0;34m()\u001b[0m\n",
      "\u001b[0;32mpandas/_libs/hashtable_class_helper.pxi\u001b[0m in \u001b[0;36mpandas._libs.hashtable.PyObjectHashTable.get_item\u001b[0;34m()\u001b[0m\n",
      "\u001b[0;32mpandas/_libs/hashtable_class_helper.pxi\u001b[0m in \u001b[0;36mpandas._libs.hashtable.PyObjectHashTable.get_item\u001b[0;34m()\u001b[0m\n",
      "\u001b[0;31mKeyError\u001b[0m: 'Duration'"
     ]
    }
   ],
   "source": [
    "# Create a histogram of duration and include a statistical analysis.\n",
    "test['Duration'].plot(kind='hist', bins = 200)\n",
    "plt.xlim(0,1500)\n",
    "plt.xlabel('Approval duration (days)')\n",
    "test['Duration'].describe()"
   ]
  },
  {
   "cell_type": "code",
   "execution_count": null,
   "metadata": {},
   "outputs": [],
   "source": [
    "test['TOTAL_CONSTRUCTION_FLOOR_AREA'].mean()"
   ]
  },
  {
   "cell_type": "code",
   "execution_count": null,
   "metadata": {},
   "outputs": [],
   "source": [
    "odd_data['TOTAL_CONSTRUCTION_FLOOR_AREA'].mean()"
   ]
  },
  {
   "cell_type": "code",
   "execution_count": null,
   "metadata": {},
   "outputs": [],
   "source": [
    "# Number of data points where Duration is 0\n",
    "zero = test[test['Duration'].dt.days == 0].count()['Duration']\n",
    "zero"
   ]
  },
  {
   "cell_type": "code",
   "execution_count": null,
   "metadata": {},
   "outputs": [],
   "source": [
    "# Number of data points where Duration is Negative\n",
    "negative = test[test['Duration'] < '0 days'].count()['Duration']\n",
    "negative"
   ]
  },
  {
   "cell_type": "code",
   "execution_count": null,
   "metadata": {},
   "outputs": [],
   "source": [
    "# Number of data points where Duration is NaN \n",
    "nan_vals = test[test['Duration'].isna()].count()['Borough']\n",
    "nan_vals"
   ]
  },
  {
   "cell_type": "code",
   "execution_count": null,
   "metadata": {},
   "outputs": [],
   "source": [
    "zero + negative + nan_vals + test"
   ]
  },
  {
   "cell_type": "code",
   "execution_count": null,
   "metadata": {},
   "outputs": [],
   "source": [
    "test = newdata.count()['Duration']\n",
    "normal"
   ]
  },
  {
   "cell_type": "code",
   "execution_count": null,
   "metadata": {},
   "outputs": [],
   "source": [
    "(test.groupby('Borough')['Duration'].mean().\n",
    " sort_values().plot(kind='bar', color = 'blue'))\n",
    "plt.xlabel('')\n",
    "plt.ylabel('Average days for approval')"
   ]
  },
  {
   "cell_type": "code",
   "execution_count": null,
   "metadata": {},
   "outputs": [],
   "source": [
    "test.head(2)"
   ]
  },
  {
   "cell_type": "code",
   "execution_count": null,
   "metadata": {
    "scrolled": false
   },
   "outputs": [],
   "source": [
    "test.groupby('Building Type')['Duration'].mean().plot(kind='bar')"
   ]
  },
  {
   "cell_type": "code",
   "execution_count": null,
   "metadata": {},
   "outputs": [],
   "source": [
    "# transform the Boroughs into categories for faster analysis.\n",
    "test['Borough'] = test['Borough'].astype('category')"
   ]
  },
  {
   "cell_type": "code",
   "execution_count": null,
   "metadata": {},
   "outputs": [],
   "source": [
    "(test.groupby(['Borough','Building Type'])['Total_Construction_Floor_Area'].\n",
    " sum().sort_values().plot(kind='bar',color='green'))"
   ]
  },
  {
   "cell_type": "code",
   "execution_count": null,
   "metadata": {},
   "outputs": [],
   "source": [
    "normal_data.iloc[:,4:18]"
   ]
  },
  {
   "cell_type": "code",
   "execution_count": null,
   "metadata": {},
   "outputs": [],
   "source": [
    "agg=(data.groupby('Borough')\n",
    " ['Total_Construction_Floor_Area']\n",
    "     .agg(['mean','median']).round(0))"
   ]
  },
  {
   "cell_type": "code",
   "execution_count": null,
   "metadata": {},
   "outputs": [],
   "source": [
    "agg.plot(kind='bar')\n",
    "plt.xlabel('')\n",
    "plt.ylabel('Total construction area (sqf)')"
   ]
  },
  {
   "cell_type": "code",
   "execution_count": null,
   "metadata": {},
   "outputs": [],
   "source": [
    "agg1 =(data.groupby('Efiling Filed')\n",
    " [['Duration','Total_Construction_Floor_Area']].agg(['mean','median']))"
   ]
  },
  {
   "cell_type": "code",
   "execution_count": null,
   "metadata": {},
   "outputs": [],
   "source": [
    "ax = agg1['Duration'].plot(kind='bar')\n",
    "ax.set_xlabel('Electronic filing')\n",
    "ax.set_ylabel('Approval duration (days)')\n",
    "ax.set_xticklabels(['Yes','No'],rotation=360)\n",
    "ax.legend(loc='upper left')"
   ]
  },
  {
   "cell_type": "code",
   "execution_count": null,
   "metadata": {},
   "outputs": [],
   "source": [
    "data.head(2)"
   ]
  },
  {
   "cell_type": "code",
   "execution_count": null,
   "metadata": {},
   "outputs": [],
   "source": [
    "x = data.set_index(['Proposed Occupancy','Borough'])"
   ]
  },
  {
   "cell_type": "code",
   "execution_count": null,
   "metadata": {},
   "outputs": [],
   "source": [
    "x.groupby(level=['Borough']).mean()"
   ]
  },
  {
   "cell_type": "code",
   "execution_count": null,
   "metadata": {},
   "outputs": [],
   "source": [
    "data.head(2)"
   ]
  },
  {
   "cell_type": "markdown",
   "metadata": {},
   "source": [
    "### Selecting outliers\n",
    "\n",
    "Selecting outliers based on the Total_Construction_Floor_Area variable. Applying a filter to\n",
    "select values that are +- 3 standard deviation in this variable. Total number of outliers is\n",
    "517 data points, which is 0.08% of the total data."
   ]
  },
  {
   "cell_type": "code",
   "execution_count": null,
   "metadata": {},
   "outputs": [],
   "source": [
    "from scipy.stats import zscore"
   ]
  },
  {
   "cell_type": "code",
   "execution_count": null,
   "metadata": {},
   "outputs": [],
   "source": [
    "standardized = (normal_data.\n",
    "                groupby('Borough')['Total_Construction_Floor_Area'].transform(zscore))"
   ]
  },
  {
   "cell_type": "code",
   "execution_count": null,
   "metadata": {},
   "outputs": [],
   "source": [
    "outliers = standardized[(standardized > 3) | (standardized < -3)]"
   ]
  },
  {
   "cell_type": "code",
   "execution_count": null,
   "metadata": {},
   "outputs": [],
   "source": [
    "outlier_data = data.iloc[outliers]"
   ]
  },
  {
   "cell_type": "code",
   "execution_count": null,
   "metadata": {},
   "outputs": [],
   "source": [
    "outlier_data"
   ]
  },
  {
   "cell_type": "code",
   "execution_count": null,
   "metadata": {},
   "outputs": [],
   "source": [
    "ax = (outlier_data.groupby('Borough').mean()\n",
    "      ['Duration'].sort_values().plot(kind='bar', color='b'))\n",
    "\n",
    "ax.set_ylabel('Duration (days)')\n",
    "ax.set_xlabel('')"
   ]
  },
  {
   "cell_type": "code",
   "execution_count": null,
   "metadata": {},
   "outputs": [],
   "source": [
    "data.head(2)"
   ]
  },
  {
   "cell_type": "code",
   "execution_count": null,
   "metadata": {},
   "outputs": [],
   "source": [
    "by_boro_data = (data.groupby(\n",
    "    ['Borough','Pre- Filing Date'])['Duration']).agg(['median', 'max', 'min'])"
   ]
  },
  {
   "cell_type": "code",
   "execution_count": null,
   "metadata": {},
   "outputs": [],
   "source": [
    "by_boro_data.groupby('Borough').mean().plot(kind='bar')\n",
    "# by_boro_data.loc['QUEENS']['Duration'].plot(kind='hist', bins=50, color='yellow',alpha=0.5)\n",
    "# by_boro_data.loc['MANHATTAN']['Duration'].plot(kind='hist', bins=50, color='red',alpha=0.5)\n",
    "# plt.subplots\n",
    "# plt.xlim(0,800)\n"
   ]
  },
  {
   "cell_type": "code",
   "execution_count": null,
   "metadata": {},
   "outputs": [],
   "source": []
  }
 ],
 "metadata": {
  "kernelspec": {
   "display_name": "Python 3",
   "language": "python",
   "name": "python3"
  },
  "language_info": {
   "codemirror_mode": {
    "name": "ipython",
    "version": 3
   },
   "file_extension": ".py",
   "mimetype": "text/x-python",
   "name": "python",
   "nbconvert_exporter": "python",
   "pygments_lexer": "ipython3",
   "version": "3.7.0"
  }
 },
 "nbformat": 4,
 "nbformat_minor": 2
}
